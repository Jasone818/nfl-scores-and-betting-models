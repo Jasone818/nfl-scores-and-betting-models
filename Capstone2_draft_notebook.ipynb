{
 "cells": [
  {
   "cell_type": "code",
   "execution_count": 1,
   "metadata": {},
   "outputs": [
    {
     "data": {
      "application/javascript": [
       "\n",
       "            setTimeout(function() {\n",
       "                var nbb_cell_id = 1;\n",
       "                var nbb_unformatted_code = \"%reload_ext nb_black\";\n",
       "                var nbb_formatted_code = \"%reload_ext nb_black\";\n",
       "                var nbb_cells = Jupyter.notebook.get_cells();\n",
       "                for (var i = 0; i < nbb_cells.length; ++i) {\n",
       "                    if (nbb_cells[i].input_prompt_number == nbb_cell_id) {\n",
       "                        if (nbb_cells[i].get_text() == nbb_unformatted_code) {\n",
       "                             nbb_cells[i].set_text(nbb_formatted_code);\n",
       "                        }\n",
       "                        break;\n",
       "                    }\n",
       "                }\n",
       "            }, 500);\n",
       "            "
      ],
      "text/plain": [
       "<IPython.core.display.Javascript object>"
      ]
     },
     "metadata": {},
     "output_type": "display_data"
    }
   ],
   "source": [
    "%reload_ext nb_black"
   ]
  },
  {
   "cell_type": "code",
   "execution_count": 2,
   "metadata": {},
   "outputs": [
    {
     "data": {
      "application/javascript": [
       "\n",
       "            setTimeout(function() {\n",
       "                var nbb_cell_id = 2;\n",
       "                var nbb_unformatted_code = \"import pandas as pd\\nimport numpy as np\\n\\nfrom sklearn.model_selection import train_test_split, GridSearchCV\\nfrom sklearn.compose import ColumnTransformer\\nfrom sklearn.preprocessing import StandardScaler\\nfrom sklearn.pipeline import Pipeline\\nfrom sklearn.ensemble import GradientBoostingRegressor\\n\\nfrom category_encoders import LeaveOneOutEncoder\\n\\nimport seaborn as sns\\nimport matplotlib.pyplot as plt\\n\\n%matplotlib inline\\n\\n\\nfrom sklearn.neighbors import KNeighborsClassifier\\nfrom sklearn.linear_model import LogisticRegression\\nfrom sklearn.svm import SVC\\nfrom sklearn.metrics import confusion_matrix, classification_report\\n\\nfrom xgboost import XGBClassifier\";\n",
       "                var nbb_formatted_code = \"import pandas as pd\\nimport numpy as np\\n\\nfrom sklearn.model_selection import train_test_split, GridSearchCV\\nfrom sklearn.compose import ColumnTransformer\\nfrom sklearn.preprocessing import StandardScaler\\nfrom sklearn.pipeline import Pipeline\\nfrom sklearn.ensemble import GradientBoostingRegressor\\n\\nfrom category_encoders import LeaveOneOutEncoder\\n\\nimport seaborn as sns\\nimport matplotlib.pyplot as plt\\n\\n%matplotlib inline\\n\\n\\nfrom sklearn.neighbors import KNeighborsClassifier\\nfrom sklearn.linear_model import LogisticRegression\\nfrom sklearn.svm import SVC\\nfrom sklearn.metrics import confusion_matrix, classification_report\\n\\nfrom xgboost import XGBClassifier\";\n",
       "                var nbb_cells = Jupyter.notebook.get_cells();\n",
       "                for (var i = 0; i < nbb_cells.length; ++i) {\n",
       "                    if (nbb_cells[i].input_prompt_number == nbb_cell_id) {\n",
       "                        if (nbb_cells[i].get_text() == nbb_unformatted_code) {\n",
       "                             nbb_cells[i].set_text(nbb_formatted_code);\n",
       "                        }\n",
       "                        break;\n",
       "                    }\n",
       "                }\n",
       "            }, 500);\n",
       "            "
      ],
      "text/plain": [
       "<IPython.core.display.Javascript object>"
      ]
     },
     "metadata": {},
     "output_type": "display_data"
    }
   ],
   "source": [
    "import pandas as pd\n",
    "import numpy as np\n",
    "\n",
    "from sklearn.model_selection import train_test_split, GridSearchCV\n",
    "from sklearn.compose import ColumnTransformer\n",
    "from sklearn.preprocessing import StandardScaler\n",
    "from sklearn.pipeline import Pipeline\n",
    "from sklearn.ensemble import GradientBoostingRegressor\n",
    "\n",
    "from category_encoders import LeaveOneOutEncoder\n",
    "\n",
    "import seaborn as sns\n",
    "import matplotlib.pyplot as plt\n",
    "\n",
    "%matplotlib inline\n",
    "\n",
    "\n",
    "from sklearn.neighbors import KNeighborsClassifier\n",
    "from sklearn.linear_model import LogisticRegression\n",
    "from sklearn.svm import SVC\n",
    "from sklearn.metrics import confusion_matrix, classification_report\n",
    "\n",
    "from xgboost import XGBClassifier"
   ]
  },
  {
   "cell_type": "code",
   "execution_count": 3,
   "metadata": {},
   "outputs": [
    {
     "data": {
      "application/javascript": [
       "\n",
       "            setTimeout(function() {\n",
       "                var nbb_cell_id = 3;\n",
       "                var nbb_unformatted_code = \"# https://gist.github.com/AdamSpannbauer/c99c366b0c7d5b6c4920a46c32d738e5\\nimport warnings\\nimport statsmodels.api as sm\\nimport statsmodels.stats.api as sms\\nfrom statsmodels.stats.outliers_influence import variance_inflation_factor\\n\\n\\ndef print_vif(x):\\n    \\\"\\\"\\\"Utility for checking multicollinearity assumption\\n\\n    :param x: input features to check using VIF. This is assumed to be a pandas.DataFrame\\n    :return: nothing is returned the VIFs are printed as a pandas series\\n    \\\"\\\"\\\"\\n    # Silence numpy FutureWarning about .ptp\\n    with warnings.catch_warnings():\\n        warnings.simplefilter(\\\"ignore\\\")\\n        x = sm.add_constant(x)\\n\\n    vifs = []\\n    for i in range(x.shape[1]):\\n        vif = variance_inflation_factor(x.values, i)\\n        vifs.append(vif)\\n\\n    print(\\\"VIF results\\\\n-------------------------------\\\")\\n    print(pd.Series(vifs, index=x.columns))\\n    print(\\\"-------------------------------\\\\n\\\")\";\n",
       "                var nbb_formatted_code = \"# https://gist.github.com/AdamSpannbauer/c99c366b0c7d5b6c4920a46c32d738e5\\nimport warnings\\nimport statsmodels.api as sm\\nimport statsmodels.stats.api as sms\\nfrom statsmodels.stats.outliers_influence import variance_inflation_factor\\n\\n\\ndef print_vif(x):\\n    \\\"\\\"\\\"Utility for checking multicollinearity assumption\\n\\n    :param x: input features to check using VIF. This is assumed to be a pandas.DataFrame\\n    :return: nothing is returned the VIFs are printed as a pandas series\\n    \\\"\\\"\\\"\\n    # Silence numpy FutureWarning about .ptp\\n    with warnings.catch_warnings():\\n        warnings.simplefilter(\\\"ignore\\\")\\n        x = sm.add_constant(x)\\n\\n    vifs = []\\n    for i in range(x.shape[1]):\\n        vif = variance_inflation_factor(x.values, i)\\n        vifs.append(vif)\\n\\n    print(\\\"VIF results\\\\n-------------------------------\\\")\\n    print(pd.Series(vifs, index=x.columns))\\n    print(\\\"-------------------------------\\\\n\\\")\";\n",
       "                var nbb_cells = Jupyter.notebook.get_cells();\n",
       "                for (var i = 0; i < nbb_cells.length; ++i) {\n",
       "                    if (nbb_cells[i].input_prompt_number == nbb_cell_id) {\n",
       "                        if (nbb_cells[i].get_text() == nbb_unformatted_code) {\n",
       "                             nbb_cells[i].set_text(nbb_formatted_code);\n",
       "                        }\n",
       "                        break;\n",
       "                    }\n",
       "                }\n",
       "            }, 500);\n",
       "            "
      ],
      "text/plain": [
       "<IPython.core.display.Javascript object>"
      ]
     },
     "metadata": {},
     "output_type": "display_data"
    }
   ],
   "source": [
    "# https://gist.github.com/AdamSpannbauer/c99c366b0c7d5b6c4920a46c32d738e5\n",
    "import warnings\n",
    "import statsmodels.api as sm\n",
    "import statsmodels.stats.api as sms\n",
    "from statsmodels.stats.outliers_influence import variance_inflation_factor\n",
    "\n",
    "\n",
    "def print_vif(x):\n",
    "    \"\"\"Utility for checking multicollinearity assumption\n",
    "\n",
    "    :param x: input features to check using VIF. This is assumed to be a pandas.DataFrame\n",
    "    :return: nothing is returned the VIFs are printed as a pandas series\n",
    "    \"\"\"\n",
    "    # Silence numpy FutureWarning about .ptp\n",
    "    with warnings.catch_warnings():\n",
    "        warnings.simplefilter(\"ignore\")\n",
    "        x = sm.add_constant(x)\n",
    "\n",
    "    vifs = []\n",
    "    for i in range(x.shape[1]):\n",
    "        vif = variance_inflation_factor(x.values, i)\n",
    "        vifs.append(vif)\n",
    "\n",
    "    print(\"VIF results\\n-------------------------------\")\n",
    "    print(pd.Series(vifs, index=x.columns))\n",
    "    print(\"-------------------------------\\n\")"
   ]
  },
  {
   "cell_type": "code",
   "execution_count": 4,
   "metadata": {},
   "outputs": [
    {
     "data": {
      "application/javascript": [
       "\n",
       "            setTimeout(function() {\n",
       "                var nbb_cell_id = 4;\n",
       "                var nbb_unformatted_code = \"data = \\\"Data/nfl_stadiums.csv\\\"\\ndata2 = \\\"Data/nfl_teams.csv\\\"\\ndata3 = \\\"Data/spreadspoke_scores.csv\\\"\\n\\ndfstad = pd.read_csv(data, encoding=\\\"unicode_escape\\\")\\ndfteam = pd.read_csv(data2)\\ndfscore = pd.read_csv(data3)\";\n",
       "                var nbb_formatted_code = \"data = \\\"Data/nfl_stadiums.csv\\\"\\ndata2 = \\\"Data/nfl_teams.csv\\\"\\ndata3 = \\\"Data/spreadspoke_scores.csv\\\"\\n\\ndfstad = pd.read_csv(data, encoding=\\\"unicode_escape\\\")\\ndfteam = pd.read_csv(data2)\\ndfscore = pd.read_csv(data3)\";\n",
       "                var nbb_cells = Jupyter.notebook.get_cells();\n",
       "                for (var i = 0; i < nbb_cells.length; ++i) {\n",
       "                    if (nbb_cells[i].input_prompt_number == nbb_cell_id) {\n",
       "                        if (nbb_cells[i].get_text() == nbb_unformatted_code) {\n",
       "                             nbb_cells[i].set_text(nbb_formatted_code);\n",
       "                        }\n",
       "                        break;\n",
       "                    }\n",
       "                }\n",
       "            }, 500);\n",
       "            "
      ],
      "text/plain": [
       "<IPython.core.display.Javascript object>"
      ]
     },
     "metadata": {},
     "output_type": "display_data"
    }
   ],
   "source": [
    "data = \"Data/nfl_stadiums.csv\"\n",
    "data2 = \"Data/nfl_teams.csv\"\n",
    "data3 = \"Data/spreadspoke_scores.csv\"\n",
    "\n",
    "dfstad = pd.read_csv(data, encoding=\"unicode_escape\")\n",
    "dfteam = pd.read_csv(data2)\n",
    "dfscore = pd.read_csv(data3)"
   ]
  },
  {
   "cell_type": "code",
   "execution_count": 5,
   "metadata": {},
   "outputs": [
    {
     "name": "stdout",
     "output_type": "stream",
     "text": [
      "<class 'pandas.core.frame.DataFrame'>\n",
      "RangeIndex: 12934 entries, 0 to 12933\n",
      "Data columns (total 17 columns):\n",
      " #   Column               Non-Null Count  Dtype  \n",
      "---  ------               --------------  -----  \n",
      " 0   schedule_date        12934 non-null  object \n",
      " 1   schedule_season      12934 non-null  int64  \n",
      " 2   schedule_week        12934 non-null  object \n",
      " 3   schedule_playoff     12934 non-null  bool   \n",
      " 4   team_home            12934 non-null  object \n",
      " 5   score_home           12797 non-null  float64\n",
      " 6   score_away           12797 non-null  float64\n",
      " 7   team_away            12934 non-null  object \n",
      " 8   team_favorite_id     10318 non-null  object \n",
      " 9   spread_favorite      10318 non-null  float64\n",
      " 10  over_under_line      10308 non-null  object \n",
      " 11  stadium              12934 non-null  object \n",
      " 12  stadium_neutral      12934 non-null  bool   \n",
      " 13  weather_temperature  12008 non-null  float64\n",
      " 14  weather_wind_mph     12008 non-null  float64\n",
      " 15  weather_humidity     8388 non-null   object \n",
      " 16  weather_detail       2711 non-null   object \n",
      "dtypes: bool(2), float64(5), int64(1), object(9)\n",
      "memory usage: 1.5+ MB\n"
     ]
    },
    {
     "data": {
      "application/javascript": [
       "\n",
       "            setTimeout(function() {\n",
       "                var nbb_cell_id = 5;\n",
       "                var nbb_unformatted_code = \"dfscore.info()\";\n",
       "                var nbb_formatted_code = \"dfscore.info()\";\n",
       "                var nbb_cells = Jupyter.notebook.get_cells();\n",
       "                for (var i = 0; i < nbb_cells.length; ++i) {\n",
       "                    if (nbb_cells[i].input_prompt_number == nbb_cell_id) {\n",
       "                        if (nbb_cells[i].get_text() == nbb_unformatted_code) {\n",
       "                             nbb_cells[i].set_text(nbb_formatted_code);\n",
       "                        }\n",
       "                        break;\n",
       "                    }\n",
       "                }\n",
       "            }, 500);\n",
       "            "
      ],
      "text/plain": [
       "<IPython.core.display.Javascript object>"
      ]
     },
     "metadata": {},
     "output_type": "display_data"
    }
   ],
   "source": [
    "dfscore.info()"
   ]
  },
  {
   "cell_type": "code",
   "execution_count": null,
   "metadata": {},
   "outputs": [],
   "source": []
  },
  {
   "cell_type": "code",
   "execution_count": 6,
   "metadata": {},
   "outputs": [
    {
     "data": {
      "application/javascript": [
       "\n",
       "            setTimeout(function() {\n",
       "                var nbb_cell_id = 6;\n",
       "                var nbb_unformatted_code = \"dfscore = dfscore.replace(r\\\"^\\\\s*$\\\", np.nan, regex=True)\\ndfscore = dfscore.drop(\\n    columns=[\\n        \\\"weather_humidity\\\",\\n        \\\"weather_detail\\\",\\n        \\\"weather_temperature\\\",\\n        \\\"weather_wind_mph\\\",\\n        \\\"schedule_date\\\",\\n        \\\"schedule_playoff\\\",\\n        \\\"stadium\\\",\\n        \\\"stadium_neutral\\\",\\n    ]\\n)\";\n",
       "                var nbb_formatted_code = \"dfscore = dfscore.replace(r\\\"^\\\\s*$\\\", np.nan, regex=True)\\ndfscore = dfscore.drop(\\n    columns=[\\n        \\\"weather_humidity\\\",\\n        \\\"weather_detail\\\",\\n        \\\"weather_temperature\\\",\\n        \\\"weather_wind_mph\\\",\\n        \\\"schedule_date\\\",\\n        \\\"schedule_playoff\\\",\\n        \\\"stadium\\\",\\n        \\\"stadium_neutral\\\",\\n    ]\\n)\";\n",
       "                var nbb_cells = Jupyter.notebook.get_cells();\n",
       "                for (var i = 0; i < nbb_cells.length; ++i) {\n",
       "                    if (nbb_cells[i].input_prompt_number == nbb_cell_id) {\n",
       "                        if (nbb_cells[i].get_text() == nbb_unformatted_code) {\n",
       "                             nbb_cells[i].set_text(nbb_formatted_code);\n",
       "                        }\n",
       "                        break;\n",
       "                    }\n",
       "                }\n",
       "            }, 500);\n",
       "            "
      ],
      "text/plain": [
       "<IPython.core.display.Javascript object>"
      ]
     },
     "metadata": {},
     "output_type": "display_data"
    }
   ],
   "source": [
    "dfscore = dfscore.replace(r\"^\\s*$\", np.nan, regex=True)\n",
    "dfscore = dfscore.drop(\n",
    "    columns=[\n",
    "        \"weather_humidity\",\n",
    "        \"weather_detail\",\n",
    "        \"weather_temperature\",\n",
    "        \"weather_wind_mph\",\n",
    "        \"schedule_date\",\n",
    "        \"schedule_playoff\",\n",
    "        \"stadium\",\n",
    "        \"stadium_neutral\",\n",
    "    ]\n",
    ")"
   ]
  },
  {
   "cell_type": "code",
   "execution_count": 7,
   "metadata": {},
   "outputs": [
    {
     "data": {
      "application/javascript": [
       "\n",
       "            setTimeout(function() {\n",
       "                var nbb_cell_id = 7;\n",
       "                var nbb_unformatted_code = \"dfscore = dfscore[\\n    (dfscore[\\\"score_home\\\"].isna() == False)\\n    & (dfscore[\\\"team_favorite_id\\\"].isna() == False)\\n    & (dfscore[\\\"over_under_line\\\"].isna() == False)\\n    & (dfscore[\\\"schedule_season\\\"] >= 1979)\\n]\";\n",
       "                var nbb_formatted_code = \"dfscore = dfscore[\\n    (dfscore[\\\"score_home\\\"].isna() == False)\\n    & (dfscore[\\\"team_favorite_id\\\"].isna() == False)\\n    & (dfscore[\\\"over_under_line\\\"].isna() == False)\\n    & (dfscore[\\\"schedule_season\\\"] >= 1979)\\n]\";\n",
       "                var nbb_cells = Jupyter.notebook.get_cells();\n",
       "                for (var i = 0; i < nbb_cells.length; ++i) {\n",
       "                    if (nbb_cells[i].input_prompt_number == nbb_cell_id) {\n",
       "                        if (nbb_cells[i].get_text() == nbb_unformatted_code) {\n",
       "                             nbb_cells[i].set_text(nbb_formatted_code);\n",
       "                        }\n",
       "                        break;\n",
       "                    }\n",
       "                }\n",
       "            }, 500);\n",
       "            "
      ],
      "text/plain": [
       "<IPython.core.display.Javascript object>"
      ]
     },
     "metadata": {},
     "output_type": "display_data"
    }
   ],
   "source": [
    "dfscore = dfscore[\n",
    "    (dfscore[\"score_home\"].isna() == False)\n",
    "    & (dfscore[\"team_favorite_id\"].isna() == False)\n",
    "    & (dfscore[\"over_under_line\"].isna() == False)\n",
    "    & (dfscore[\"schedule_season\"] >= 1979)\n",
    "]"
   ]
  },
  {
   "cell_type": "code",
   "execution_count": 8,
   "metadata": {},
   "outputs": [
    {
     "data": {
      "application/javascript": [
       "\n",
       "            setTimeout(function() {\n",
       "                var nbb_cell_id = 8;\n",
       "                var nbb_unformatted_code = \"dfscore.reset_index(drop=True, inplace=True)\";\n",
       "                var nbb_formatted_code = \"dfscore.reset_index(drop=True, inplace=True)\";\n",
       "                var nbb_cells = Jupyter.notebook.get_cells();\n",
       "                for (var i = 0; i < nbb_cells.length; ++i) {\n",
       "                    if (nbb_cells[i].input_prompt_number == nbb_cell_id) {\n",
       "                        if (nbb_cells[i].get_text() == nbb_unformatted_code) {\n",
       "                             nbb_cells[i].set_text(nbb_formatted_code);\n",
       "                        }\n",
       "                        break;\n",
       "                    }\n",
       "                }\n",
       "            }, 500);\n",
       "            "
      ],
      "text/plain": [
       "<IPython.core.display.Javascript object>"
      ]
     },
     "metadata": {},
     "output_type": "display_data"
    }
   ],
   "source": [
    "dfscore.reset_index(drop=True, inplace=True)"
   ]
  },
  {
   "cell_type": "code",
   "execution_count": 9,
   "metadata": {},
   "outputs": [
    {
     "name": "stdout",
     "output_type": "stream",
     "text": [
      "<class 'pandas.core.frame.DataFrame'>\n",
      "RangeIndex: 10234 entries, 0 to 10233\n",
      "Data columns (total 9 columns):\n",
      " #   Column            Non-Null Count  Dtype  \n",
      "---  ------            --------------  -----  \n",
      " 0   schedule_season   10234 non-null  int64  \n",
      " 1   schedule_week     10234 non-null  object \n",
      " 2   team_home         10234 non-null  object \n",
      " 3   score_home        10234 non-null  float64\n",
      " 4   score_away        10234 non-null  float64\n",
      " 5   team_away         10234 non-null  object \n",
      " 6   team_favorite_id  10234 non-null  object \n",
      " 7   spread_favorite   10234 non-null  float64\n",
      " 8   over_under_line   10234 non-null  object \n",
      "dtypes: float64(3), int64(1), object(5)\n",
      "memory usage: 719.7+ KB\n"
     ]
    },
    {
     "data": {
      "application/javascript": [
       "\n",
       "            setTimeout(function() {\n",
       "                var nbb_cell_id = 9;\n",
       "                var nbb_unformatted_code = \"dfscore.info()\";\n",
       "                var nbb_formatted_code = \"dfscore.info()\";\n",
       "                var nbb_cells = Jupyter.notebook.get_cells();\n",
       "                for (var i = 0; i < nbb_cells.length; ++i) {\n",
       "                    if (nbb_cells[i].input_prompt_number == nbb_cell_id) {\n",
       "                        if (nbb_cells[i].get_text() == nbb_unformatted_code) {\n",
       "                             nbb_cells[i].set_text(nbb_formatted_code);\n",
       "                        }\n",
       "                        break;\n",
       "                    }\n",
       "                }\n",
       "            }, 500);\n",
       "            "
      ],
      "text/plain": [
       "<IPython.core.display.Javascript object>"
      ]
     },
     "metadata": {},
     "output_type": "display_data"
    }
   ],
   "source": [
    "dfscore.info()"
   ]
  },
  {
   "cell_type": "code",
   "execution_count": 10,
   "metadata": {},
   "outputs": [
    {
     "data": {
      "application/javascript": [
       "\n",
       "            setTimeout(function() {\n",
       "                var nbb_cell_id = 10;\n",
       "                var nbb_unformatted_code = \"dfscore[\\\"over_under_line\\\"] = dfscore[\\\"over_under_line\\\"].astype(float)\";\n",
       "                var nbb_formatted_code = \"dfscore[\\\"over_under_line\\\"] = dfscore[\\\"over_under_line\\\"].astype(float)\";\n",
       "                var nbb_cells = Jupyter.notebook.get_cells();\n",
       "                for (var i = 0; i < nbb_cells.length; ++i) {\n",
       "                    if (nbb_cells[i].input_prompt_number == nbb_cell_id) {\n",
       "                        if (nbb_cells[i].get_text() == nbb_unformatted_code) {\n",
       "                             nbb_cells[i].set_text(nbb_formatted_code);\n",
       "                        }\n",
       "                        break;\n",
       "                    }\n",
       "                }\n",
       "            }, 500);\n",
       "            "
      ],
      "text/plain": [
       "<IPython.core.display.Javascript object>"
      ]
     },
     "metadata": {},
     "output_type": "display_data"
    }
   ],
   "source": [
    "dfscore[\"over_under_line\"] = dfscore[\"over_under_line\"].astype(float)"
   ]
  },
  {
   "cell_type": "code",
   "execution_count": 11,
   "metadata": {},
   "outputs": [
    {
     "data": {
      "application/javascript": [
       "\n",
       "            setTimeout(function() {\n",
       "                var nbb_cell_id = 11;\n",
       "                var nbb_unformatted_code = \"dfscore[\\\"team_home\\\"] = dfscore[\\\"team_home\\\"].map(\\n    dfteam.set_index(\\\"team_name\\\")[\\\"team_id\\\"].to_dict()\\n)\\ndfscore[\\\"team_away\\\"] = dfscore[\\\"team_away\\\"].map(\\n    dfteam.set_index(\\\"team_name\\\")[\\\"team_id\\\"].to_dict()\\n)\";\n",
       "                var nbb_formatted_code = \"dfscore[\\\"team_home\\\"] = dfscore[\\\"team_home\\\"].map(\\n    dfteam.set_index(\\\"team_name\\\")[\\\"team_id\\\"].to_dict()\\n)\\ndfscore[\\\"team_away\\\"] = dfscore[\\\"team_away\\\"].map(\\n    dfteam.set_index(\\\"team_name\\\")[\\\"team_id\\\"].to_dict()\\n)\";\n",
       "                var nbb_cells = Jupyter.notebook.get_cells();\n",
       "                for (var i = 0; i < nbb_cells.length; ++i) {\n",
       "                    if (nbb_cells[i].input_prompt_number == nbb_cell_id) {\n",
       "                        if (nbb_cells[i].get_text() == nbb_unformatted_code) {\n",
       "                             nbb_cells[i].set_text(nbb_formatted_code);\n",
       "                        }\n",
       "                        break;\n",
       "                    }\n",
       "                }\n",
       "            }, 500);\n",
       "            "
      ],
      "text/plain": [
       "<IPython.core.display.Javascript object>"
      ]
     },
     "metadata": {},
     "output_type": "display_data"
    }
   ],
   "source": [
    "dfscore[\"team_home\"] = dfscore[\"team_home\"].map(\n",
    "    dfteam.set_index(\"team_name\")[\"team_id\"].to_dict()\n",
    ")\n",
    "dfscore[\"team_away\"] = dfscore[\"team_away\"].map(\n",
    "    dfteam.set_index(\"team_name\")[\"team_id\"].to_dict()\n",
    ")"
   ]
  },
  {
   "cell_type": "code",
   "execution_count": 12,
   "metadata": {},
   "outputs": [
    {
     "data": {
      "application/javascript": [
       "\n",
       "            setTimeout(function() {\n",
       "                var nbb_cell_id = 12;\n",
       "                var nbb_unformatted_code = \"dfscore.loc[dfscore[\\\"team_favorite_id\\\"] == dfscore[\\\"team_home\\\"], \\\"home_favorite\\\"] = 1\\ndfscore.loc[dfscore[\\\"team_favorite_id\\\"] == dfscore[\\\"team_away\\\"], \\\"away_favorite\\\"] = 1\\ndfscore[\\\"home_favorite\\\"].fillna(0, inplace=True)\\ndfscore[\\\"away_favorite\\\"].fillna(0, inplace=True)\";\n",
       "                var nbb_formatted_code = \"dfscore.loc[dfscore[\\\"team_favorite_id\\\"] == dfscore[\\\"team_home\\\"], \\\"home_favorite\\\"] = 1\\ndfscore.loc[dfscore[\\\"team_favorite_id\\\"] == dfscore[\\\"team_away\\\"], \\\"away_favorite\\\"] = 1\\ndfscore[\\\"home_favorite\\\"].fillna(0, inplace=True)\\ndfscore[\\\"away_favorite\\\"].fillna(0, inplace=True)\";\n",
       "                var nbb_cells = Jupyter.notebook.get_cells();\n",
       "                for (var i = 0; i < nbb_cells.length; ++i) {\n",
       "                    if (nbb_cells[i].input_prompt_number == nbb_cell_id) {\n",
       "                        if (nbb_cells[i].get_text() == nbb_unformatted_code) {\n",
       "                             nbb_cells[i].set_text(nbb_formatted_code);\n",
       "                        }\n",
       "                        break;\n",
       "                    }\n",
       "                }\n",
       "            }, 500);\n",
       "            "
      ],
      "text/plain": [
       "<IPython.core.display.Javascript object>"
      ]
     },
     "metadata": {},
     "output_type": "display_data"
    }
   ],
   "source": [
    "dfscore.loc[dfscore[\"team_favorite_id\"] == dfscore[\"team_home\"], \"home_favorite\"] = 1\n",
    "dfscore.loc[dfscore[\"team_favorite_id\"] == dfscore[\"team_away\"], \"away_favorite\"] = 1\n",
    "dfscore[\"home_favorite\"].fillna(0, inplace=True)\n",
    "dfscore[\"away_favorite\"].fillna(0, inplace=True)"
   ]
  },
  {
   "cell_type": "code",
   "execution_count": 13,
   "metadata": {},
   "outputs": [
    {
     "data": {
      "application/javascript": [
       "\n",
       "            setTimeout(function() {\n",
       "                var nbb_cell_id = 13;\n",
       "                var nbb_unformatted_code = \"dfscore.loc[\\n    ((dfscore[\\\"score_home\\\"] + dfscore[\\\"score_away\\\"]) > dfscore[\\\"over_under_line\\\"]),\\n    \\\"is_over\\\",\\n] = 1\\ndfscore[\\\"is_over\\\"].fillna(0, inplace=True)\";\n",
       "                var nbb_formatted_code = \"dfscore.loc[\\n    ((dfscore[\\\"score_home\\\"] + dfscore[\\\"score_away\\\"]) > dfscore[\\\"over_under_line\\\"]),\\n    \\\"is_over\\\",\\n] = 1\\ndfscore[\\\"is_over\\\"].fillna(0, inplace=True)\";\n",
       "                var nbb_cells = Jupyter.notebook.get_cells();\n",
       "                for (var i = 0; i < nbb_cells.length; ++i) {\n",
       "                    if (nbb_cells[i].input_prompt_number == nbb_cell_id) {\n",
       "                        if (nbb_cells[i].get_text() == nbb_unformatted_code) {\n",
       "                             nbb_cells[i].set_text(nbb_formatted_code);\n",
       "                        }\n",
       "                        break;\n",
       "                    }\n",
       "                }\n",
       "            }, 500);\n",
       "            "
      ],
      "text/plain": [
       "<IPython.core.display.Javascript object>"
      ]
     },
     "metadata": {},
     "output_type": "display_data"
    }
   ],
   "source": [
    "dfscore.loc[\n",
    "    ((dfscore[\"score_home\"] + dfscore[\"score_away\"]) > dfscore[\"over_under_line\"]),\n",
    "    \"is_over\",\n",
    "] = 1\n",
    "dfscore[\"is_over\"].fillna(0, inplace=True)"
   ]
  },
  {
   "cell_type": "code",
   "execution_count": 14,
   "metadata": {},
   "outputs": [
    {
     "data": {
      "text/html": [
       "<div>\n",
       "<style scoped>\n",
       "    .dataframe tbody tr th:only-of-type {\n",
       "        vertical-align: middle;\n",
       "    }\n",
       "\n",
       "    .dataframe tbody tr th {\n",
       "        vertical-align: top;\n",
       "    }\n",
       "\n",
       "    .dataframe thead th {\n",
       "        text-align: right;\n",
       "    }\n",
       "</style>\n",
       "<table border=\"1\" class=\"dataframe\">\n",
       "  <thead>\n",
       "    <tr style=\"text-align: right;\">\n",
       "      <th>is_over</th>\n",
       "      <th>0.0</th>\n",
       "      <th>1.0</th>\n",
       "    </tr>\n",
       "    <tr>\n",
       "      <th>team_away</th>\n",
       "      <th></th>\n",
       "      <th></th>\n",
       "    </tr>\n",
       "  </thead>\n",
       "  <tbody>\n",
       "    <tr>\n",
       "      <th>ARI</th>\n",
       "      <td>162</td>\n",
       "      <td>171</td>\n",
       "    </tr>\n",
       "    <tr>\n",
       "      <th>ATL</th>\n",
       "      <td>178</td>\n",
       "      <td>162</td>\n",
       "    </tr>\n",
       "    <tr>\n",
       "      <th>BAL</th>\n",
       "      <td>119</td>\n",
       "      <td>93</td>\n",
       "    </tr>\n",
       "    <tr>\n",
       "      <th>BUF</th>\n",
       "      <td>182</td>\n",
       "      <td>156</td>\n",
       "    </tr>\n",
       "    <tr>\n",
       "      <th>CAR</th>\n",
       "      <td>104</td>\n",
       "      <td>110</td>\n",
       "    </tr>\n",
       "    <tr>\n",
       "      <th>CHI</th>\n",
       "      <td>176</td>\n",
       "      <td>155</td>\n",
       "    </tr>\n",
       "    <tr>\n",
       "      <th>CIN</th>\n",
       "      <td>179</td>\n",
       "      <td>154</td>\n",
       "    </tr>\n",
       "    <tr>\n",
       "      <th>CLE</th>\n",
       "      <td>157</td>\n",
       "      <td>150</td>\n",
       "    </tr>\n",
       "    <tr>\n",
       "      <th>DAL</th>\n",
       "      <td>182</td>\n",
       "      <td>156</td>\n",
       "    </tr>\n",
       "    <tr>\n",
       "      <th>DEN</th>\n",
       "      <td>174</td>\n",
       "      <td>163</td>\n",
       "    </tr>\n",
       "    <tr>\n",
       "      <th>DET</th>\n",
       "      <td>172</td>\n",
       "      <td>163</td>\n",
       "    </tr>\n",
       "    <tr>\n",
       "      <th>GB</th>\n",
       "      <td>163</td>\n",
       "      <td>184</td>\n",
       "    </tr>\n",
       "    <tr>\n",
       "      <th>HOU</th>\n",
       "      <td>80</td>\n",
       "      <td>71</td>\n",
       "    </tr>\n",
       "    <tr>\n",
       "      <th>IND</th>\n",
       "      <td>159</td>\n",
       "      <td>185</td>\n",
       "    </tr>\n",
       "    <tr>\n",
       "      <th>JAX</th>\n",
       "      <td>103</td>\n",
       "      <td>111</td>\n",
       "    </tr>\n",
       "    <tr>\n",
       "      <th>KC</th>\n",
       "      <td>177</td>\n",
       "      <td>161</td>\n",
       "    </tr>\n",
       "    <tr>\n",
       "      <th>LAC</th>\n",
       "      <td>153</td>\n",
       "      <td>183</td>\n",
       "    </tr>\n",
       "    <tr>\n",
       "      <th>LAR</th>\n",
       "      <td>181</td>\n",
       "      <td>155</td>\n",
       "    </tr>\n",
       "    <tr>\n",
       "      <th>LVR</th>\n",
       "      <td>177</td>\n",
       "      <td>156</td>\n",
       "    </tr>\n",
       "    <tr>\n",
       "      <th>MIA</th>\n",
       "      <td>183</td>\n",
       "      <td>153</td>\n",
       "    </tr>\n",
       "    <tr>\n",
       "      <th>MIN</th>\n",
       "      <td>172</td>\n",
       "      <td>171</td>\n",
       "    </tr>\n",
       "    <tr>\n",
       "      <th>NE</th>\n",
       "      <td>179</td>\n",
       "      <td>164</td>\n",
       "    </tr>\n",
       "    <tr>\n",
       "      <th>NO</th>\n",
       "      <td>166</td>\n",
       "      <td>169</td>\n",
       "    </tr>\n",
       "    <tr>\n",
       "      <th>NYG</th>\n",
       "      <td>188</td>\n",
       "      <td>151</td>\n",
       "    </tr>\n",
       "    <tr>\n",
       "      <th>NYJ</th>\n",
       "      <td>179</td>\n",
       "      <td>162</td>\n",
       "    </tr>\n",
       "    <tr>\n",
       "      <th>PHI</th>\n",
       "      <td>168</td>\n",
       "      <td>173</td>\n",
       "    </tr>\n",
       "    <tr>\n",
       "      <th>PIT</th>\n",
       "      <td>195</td>\n",
       "      <td>148</td>\n",
       "    </tr>\n",
       "    <tr>\n",
       "      <th>SEA</th>\n",
       "      <td>175</td>\n",
       "      <td>167</td>\n",
       "    </tr>\n",
       "    <tr>\n",
       "      <th>SF</th>\n",
       "      <td>167</td>\n",
       "      <td>171</td>\n",
       "    </tr>\n",
       "    <tr>\n",
       "      <th>TB</th>\n",
       "      <td>180</td>\n",
       "      <td>154</td>\n",
       "    </tr>\n",
       "    <tr>\n",
       "      <th>TEN</th>\n",
       "      <td>168</td>\n",
       "      <td>175</td>\n",
       "    </tr>\n",
       "    <tr>\n",
       "      <th>WAS</th>\n",
       "      <td>178</td>\n",
       "      <td>161</td>\n",
       "    </tr>\n",
       "  </tbody>\n",
       "</table>\n",
       "</div>"
      ],
      "text/plain": [
       "is_over    0.0  1.0\n",
       "team_away          \n",
       "ARI        162  171\n",
       "ATL        178  162\n",
       "BAL        119   93\n",
       "BUF        182  156\n",
       "CAR        104  110\n",
       "CHI        176  155\n",
       "CIN        179  154\n",
       "CLE        157  150\n",
       "DAL        182  156\n",
       "DEN        174  163\n",
       "DET        172  163\n",
       "GB         163  184\n",
       "HOU         80   71\n",
       "IND        159  185\n",
       "JAX        103  111\n",
       "KC         177  161\n",
       "LAC        153  183\n",
       "LAR        181  155\n",
       "LVR        177  156\n",
       "MIA        183  153\n",
       "MIN        172  171\n",
       "NE         179  164\n",
       "NO         166  169\n",
       "NYG        188  151\n",
       "NYJ        179  162\n",
       "PHI        168  173\n",
       "PIT        195  148\n",
       "SEA        175  167\n",
       "SF         167  171\n",
       "TB         180  154\n",
       "TEN        168  175\n",
       "WAS        178  161"
      ]
     },
     "execution_count": 14,
     "metadata": {},
     "output_type": "execute_result"
    },
    {
     "data": {
      "application/javascript": [
       "\n",
       "            setTimeout(function() {\n",
       "                var nbb_cell_id = 14;\n",
       "                var nbb_unformatted_code = \"pd.crosstab(dfscore[\\\"team_away\\\"], dfscore[\\\"is_over\\\"])\";\n",
       "                var nbb_formatted_code = \"pd.crosstab(dfscore[\\\"team_away\\\"], dfscore[\\\"is_over\\\"])\";\n",
       "                var nbb_cells = Jupyter.notebook.get_cells();\n",
       "                for (var i = 0; i < nbb_cells.length; ++i) {\n",
       "                    if (nbb_cells[i].input_prompt_number == nbb_cell_id) {\n",
       "                        if (nbb_cells[i].get_text() == nbb_unformatted_code) {\n",
       "                             nbb_cells[i].set_text(nbb_formatted_code);\n",
       "                        }\n",
       "                        break;\n",
       "                    }\n",
       "                }\n",
       "            }, 500);\n",
       "            "
      ],
      "text/plain": [
       "<IPython.core.display.Javascript object>"
      ]
     },
     "metadata": {},
     "output_type": "display_data"
    }
   ],
   "source": [
    "pd.crosstab(dfscore[\"team_away\"], dfscore[\"is_over\"])"
   ]
  },
  {
   "cell_type": "code",
   "execution_count": 15,
   "metadata": {},
   "outputs": [
    {
     "data": {
      "application/javascript": [
       "\n",
       "            setTimeout(function() {\n",
       "                var nbb_cell_id = 15;\n",
       "                var nbb_unformatted_code = \"dfscore[\\\"total_pts\\\"] = dfscore[\\\"score_home\\\"] + dfscore[\\\"score_away\\\"]\";\n",
       "                var nbb_formatted_code = \"dfscore[\\\"total_pts\\\"] = dfscore[\\\"score_home\\\"] + dfscore[\\\"score_away\\\"]\";\n",
       "                var nbb_cells = Jupyter.notebook.get_cells();\n",
       "                for (var i = 0; i < nbb_cells.length; ++i) {\n",
       "                    if (nbb_cells[i].input_prompt_number == nbb_cell_id) {\n",
       "                        if (nbb_cells[i].get_text() == nbb_unformatted_code) {\n",
       "                             nbb_cells[i].set_text(nbb_formatted_code);\n",
       "                        }\n",
       "                        break;\n",
       "                    }\n",
       "                }\n",
       "            }, 500);\n",
       "            "
      ],
      "text/plain": [
       "<IPython.core.display.Javascript object>"
      ]
     },
     "metadata": {},
     "output_type": "display_data"
    }
   ],
   "source": [
    "dfscore[\"total_pts\"] = dfscore[\"score_home\"] + dfscore[\"score_away\"]"
   ]
  },
  {
   "cell_type": "code",
   "execution_count": 16,
   "metadata": {},
   "outputs": [
    {
     "data": {
      "application/javascript": [
       "\n",
       "            setTimeout(function() {\n",
       "                var nbb_cell_id = 16;\n",
       "                var nbb_unformatted_code = \"dfscore_copy = dfscore.copy()\";\n",
       "                var nbb_formatted_code = \"dfscore_copy = dfscore.copy()\";\n",
       "                var nbb_cells = Jupyter.notebook.get_cells();\n",
       "                for (var i = 0; i < nbb_cells.length; ++i) {\n",
       "                    if (nbb_cells[i].input_prompt_number == nbb_cell_id) {\n",
       "                        if (nbb_cells[i].get_text() == nbb_unformatted_code) {\n",
       "                             nbb_cells[i].set_text(nbb_formatted_code);\n",
       "                        }\n",
       "                        break;\n",
       "                    }\n",
       "                }\n",
       "            }, 500);\n",
       "            "
      ],
      "text/plain": [
       "<IPython.core.display.Javascript object>"
      ]
     },
     "metadata": {},
     "output_type": "display_data"
    }
   ],
   "source": [
    "dfscore_copy = dfscore.copy()"
   ]
  },
  {
   "cell_type": "code",
   "execution_count": 17,
   "metadata": {},
   "outputs": [
    {
     "data": {
      "text/html": [
       "<div>\n",
       "<style scoped>\n",
       "    .dataframe tbody tr th:only-of-type {\n",
       "        vertical-align: middle;\n",
       "    }\n",
       "\n",
       "    .dataframe tbody tr th {\n",
       "        vertical-align: top;\n",
       "    }\n",
       "\n",
       "    .dataframe thead th {\n",
       "        text-align: right;\n",
       "    }\n",
       "</style>\n",
       "<table border=\"1\" class=\"dataframe\">\n",
       "  <thead>\n",
       "    <tr style=\"text-align: right;\">\n",
       "      <th></th>\n",
       "      <th>schedule_season</th>\n",
       "      <th>schedule_week</th>\n",
       "      <th>team_home</th>\n",
       "      <th>score_home</th>\n",
       "      <th>score_away</th>\n",
       "      <th>team_away</th>\n",
       "      <th>team_favorite_id</th>\n",
       "      <th>spread_favorite</th>\n",
       "      <th>over_under_line</th>\n",
       "      <th>home_favorite</th>\n",
       "      <th>away_favorite</th>\n",
       "      <th>is_over</th>\n",
       "      <th>total_pts</th>\n",
       "    </tr>\n",
       "  </thead>\n",
       "  <tbody>\n",
       "    <tr>\n",
       "      <th>0</th>\n",
       "      <td>1979</td>\n",
       "      <td>1</td>\n",
       "      <td>TB</td>\n",
       "      <td>31.0</td>\n",
       "      <td>16.0</td>\n",
       "      <td>DET</td>\n",
       "      <td>TB</td>\n",
       "      <td>-3.0</td>\n",
       "      <td>30.0</td>\n",
       "      <td>1.0</td>\n",
       "      <td>0.0</td>\n",
       "      <td>1.0</td>\n",
       "      <td>47.0</td>\n",
       "    </tr>\n",
       "    <tr>\n",
       "      <th>1</th>\n",
       "      <td>1979</td>\n",
       "      <td>1</td>\n",
       "      <td>BUF</td>\n",
       "      <td>7.0</td>\n",
       "      <td>9.0</td>\n",
       "      <td>MIA</td>\n",
       "      <td>MIA</td>\n",
       "      <td>-5.0</td>\n",
       "      <td>39.0</td>\n",
       "      <td>0.0</td>\n",
       "      <td>1.0</td>\n",
       "      <td>0.0</td>\n",
       "      <td>16.0</td>\n",
       "    </tr>\n",
       "    <tr>\n",
       "      <th>2</th>\n",
       "      <td>1979</td>\n",
       "      <td>1</td>\n",
       "      <td>CHI</td>\n",
       "      <td>6.0</td>\n",
       "      <td>3.0</td>\n",
       "      <td>GB</td>\n",
       "      <td>CHI</td>\n",
       "      <td>-3.0</td>\n",
       "      <td>31.0</td>\n",
       "      <td>1.0</td>\n",
       "      <td>0.0</td>\n",
       "      <td>0.0</td>\n",
       "      <td>9.0</td>\n",
       "    </tr>\n",
       "    <tr>\n",
       "      <th>3</th>\n",
       "      <td>1979</td>\n",
       "      <td>1</td>\n",
       "      <td>DEN</td>\n",
       "      <td>10.0</td>\n",
       "      <td>0.0</td>\n",
       "      <td>CIN</td>\n",
       "      <td>DEN</td>\n",
       "      <td>-3.0</td>\n",
       "      <td>31.5</td>\n",
       "      <td>1.0</td>\n",
       "      <td>0.0</td>\n",
       "      <td>0.0</td>\n",
       "      <td>10.0</td>\n",
       "    </tr>\n",
       "    <tr>\n",
       "      <th>4</th>\n",
       "      <td>1979</td>\n",
       "      <td>1</td>\n",
       "      <td>KC</td>\n",
       "      <td>14.0</td>\n",
       "      <td>0.0</td>\n",
       "      <td>IND</td>\n",
       "      <td>KC</td>\n",
       "      <td>-1.0</td>\n",
       "      <td>37.0</td>\n",
       "      <td>1.0</td>\n",
       "      <td>0.0</td>\n",
       "      <td>0.0</td>\n",
       "      <td>14.0</td>\n",
       "    </tr>\n",
       "  </tbody>\n",
       "</table>\n",
       "</div>"
      ],
      "text/plain": [
       "   schedule_season schedule_week team_home  score_home  score_away team_away  \\\n",
       "0             1979             1        TB        31.0        16.0       DET   \n",
       "1             1979             1       BUF         7.0         9.0       MIA   \n",
       "2             1979             1       CHI         6.0         3.0        GB   \n",
       "3             1979             1       DEN        10.0         0.0       CIN   \n",
       "4             1979             1        KC        14.0         0.0       IND   \n",
       "\n",
       "  team_favorite_id  spread_favorite  over_under_line  home_favorite  \\\n",
       "0               TB             -3.0             30.0            1.0   \n",
       "1              MIA             -5.0             39.0            0.0   \n",
       "2              CHI             -3.0             31.0            1.0   \n",
       "3              DEN             -3.0             31.5            1.0   \n",
       "4               KC             -1.0             37.0            1.0   \n",
       "\n",
       "   away_favorite  is_over  total_pts  \n",
       "0            0.0      1.0       47.0  \n",
       "1            1.0      0.0       16.0  \n",
       "2            0.0      0.0        9.0  \n",
       "3            0.0      0.0       10.0  \n",
       "4            0.0      0.0       14.0  "
      ]
     },
     "execution_count": 17,
     "metadata": {},
     "output_type": "execute_result"
    },
    {
     "data": {
      "application/javascript": [
       "\n",
       "            setTimeout(function() {\n",
       "                var nbb_cell_id = 17;\n",
       "                var nbb_unformatted_code = \"dfscore.head()\";\n",
       "                var nbb_formatted_code = \"dfscore.head()\";\n",
       "                var nbb_cells = Jupyter.notebook.get_cells();\n",
       "                for (var i = 0; i < nbb_cells.length; ++i) {\n",
       "                    if (nbb_cells[i].input_prompt_number == nbb_cell_id) {\n",
       "                        if (nbb_cells[i].get_text() == nbb_unformatted_code) {\n",
       "                             nbb_cells[i].set_text(nbb_formatted_code);\n",
       "                        }\n",
       "                        break;\n",
       "                    }\n",
       "                }\n",
       "            }, 500);\n",
       "            "
      ],
      "text/plain": [
       "<IPython.core.display.Javascript object>"
      ]
     },
     "metadata": {},
     "output_type": "display_data"
    }
   ],
   "source": [
    "dfscore.head()"
   ]
  },
  {
   "cell_type": "code",
   "execution_count": 18,
   "metadata": {},
   "outputs": [
    {
     "data": {
      "application/javascript": [
       "\n",
       "            setTimeout(function() {\n",
       "                var nbb_cell_id = 18;\n",
       "                var nbb_unformatted_code = \"dfscore.loc[(dfscore.schedule_week == \\\"18\\\"), \\\"schedule_week\\\"] = \\\"17\\\"\\ndfscore.loc[\\n    (dfscore.schedule_week == \\\"Wildcard\\\") | (dfscore.schedule_week == \\\"WildCard\\\"),\\n    \\\"schedule_week\\\",\\n] = \\\"18\\\"\\ndfscore.loc[(dfscore.schedule_week == \\\"Division\\\"), \\\"schedule_week\\\"] = \\\"19\\\"\\ndfscore.loc[(dfscore.schedule_week == \\\"Conference\\\"), \\\"schedule_week\\\"] = \\\"20\\\"\\ndfscore.loc[\\n    (dfscore.schedule_week == \\\"Superbowl\\\") | (dfscore.schedule_week == \\\"SuperBowl\\\"),\\n    \\\"schedule_week\\\",\\n] = \\\"21\\\"\\ndfscore[\\\"schedule_week\\\"] = dfscore.schedule_week.astype(int)\";\n",
       "                var nbb_formatted_code = \"dfscore.loc[(dfscore.schedule_week == \\\"18\\\"), \\\"schedule_week\\\"] = \\\"17\\\"\\ndfscore.loc[\\n    (dfscore.schedule_week == \\\"Wildcard\\\") | (dfscore.schedule_week == \\\"WildCard\\\"),\\n    \\\"schedule_week\\\",\\n] = \\\"18\\\"\\ndfscore.loc[(dfscore.schedule_week == \\\"Division\\\"), \\\"schedule_week\\\"] = \\\"19\\\"\\ndfscore.loc[(dfscore.schedule_week == \\\"Conference\\\"), \\\"schedule_week\\\"] = \\\"20\\\"\\ndfscore.loc[\\n    (dfscore.schedule_week == \\\"Superbowl\\\") | (dfscore.schedule_week == \\\"SuperBowl\\\"),\\n    \\\"schedule_week\\\",\\n] = \\\"21\\\"\\ndfscore[\\\"schedule_week\\\"] = dfscore.schedule_week.astype(int)\";\n",
       "                var nbb_cells = Jupyter.notebook.get_cells();\n",
       "                for (var i = 0; i < nbb_cells.length; ++i) {\n",
       "                    if (nbb_cells[i].input_prompt_number == nbb_cell_id) {\n",
       "                        if (nbb_cells[i].get_text() == nbb_unformatted_code) {\n",
       "                             nbb_cells[i].set_text(nbb_formatted_code);\n",
       "                        }\n",
       "                        break;\n",
       "                    }\n",
       "                }\n",
       "            }, 500);\n",
       "            "
      ],
      "text/plain": [
       "<IPython.core.display.Javascript object>"
      ]
     },
     "metadata": {},
     "output_type": "display_data"
    }
   ],
   "source": [
    "dfscore.loc[(dfscore.schedule_week == \"18\"), \"schedule_week\"] = \"17\"\n",
    "dfscore.loc[\n",
    "    (dfscore.schedule_week == \"Wildcard\") | (dfscore.schedule_week == \"WildCard\"),\n",
    "    \"schedule_week\",\n",
    "] = \"18\"\n",
    "dfscore.loc[(dfscore.schedule_week == \"Division\"), \"schedule_week\"] = \"19\"\n",
    "dfscore.loc[(dfscore.schedule_week == \"Conference\"), \"schedule_week\"] = \"20\"\n",
    "dfscore.loc[\n",
    "    (dfscore.schedule_week == \"Superbowl\") | (dfscore.schedule_week == \"SuperBowl\"),\n",
    "    \"schedule_week\",\n",
    "] = \"21\"\n",
    "dfscore[\"schedule_week\"] = dfscore.schedule_week.astype(int)"
   ]
  },
  {
   "cell_type": "code",
   "execution_count": 19,
   "metadata": {},
   "outputs": [
    {
     "data": {
      "text/plain": [
       "0        1\n",
       "1        1\n",
       "2        1\n",
       "3        1\n",
       "4        1\n",
       "        ..\n",
       "10229    8\n",
       "10230    8\n",
       "10231    8\n",
       "10232    8\n",
       "10233    8\n",
       "Name: schedule_week, Length: 10234, dtype: int64"
      ]
     },
     "execution_count": 19,
     "metadata": {},
     "output_type": "execute_result"
    },
    {
     "data": {
      "application/javascript": [
       "\n",
       "            setTimeout(function() {\n",
       "                var nbb_cell_id = 19;\n",
       "                var nbb_unformatted_code = \"dfscore[\\\"schedule_week\\\"]\";\n",
       "                var nbb_formatted_code = \"dfscore[\\\"schedule_week\\\"]\";\n",
       "                var nbb_cells = Jupyter.notebook.get_cells();\n",
       "                for (var i = 0; i < nbb_cells.length; ++i) {\n",
       "                    if (nbb_cells[i].input_prompt_number == nbb_cell_id) {\n",
       "                        if (nbb_cells[i].get_text() == nbb_unformatted_code) {\n",
       "                             nbb_cells[i].set_text(nbb_formatted_code);\n",
       "                        }\n",
       "                        break;\n",
       "                    }\n",
       "                }\n",
       "            }, 500);\n",
       "            "
      ],
      "text/plain": [
       "<IPython.core.display.Javascript object>"
      ]
     },
     "metadata": {},
     "output_type": "display_data"
    }
   ],
   "source": [
    "dfscore[\"schedule_week\"]"
   ]
  },
  {
   "cell_type": "code",
   "execution_count": 20,
   "metadata": {},
   "outputs": [
    {
     "data": {
      "application/javascript": [
       "\n",
       "            setTimeout(function() {\n",
       "                var nbb_cell_id = 20;\n",
       "                var nbb_unformatted_code = \"dfss = dfscore[(dfscore[\\\"schedule_week\\\"] >= 3) & (dfscore[\\\"schedule_week\\\"] <= 15)]\";\n",
       "                var nbb_formatted_code = \"dfss = dfscore[(dfscore[\\\"schedule_week\\\"] >= 3) & (dfscore[\\\"schedule_week\\\"] <= 15)]\";\n",
       "                var nbb_cells = Jupyter.notebook.get_cells();\n",
       "                for (var i = 0; i < nbb_cells.length; ++i) {\n",
       "                    if (nbb_cells[i].input_prompt_number == nbb_cell_id) {\n",
       "                        if (nbb_cells[i].get_text() == nbb_unformatted_code) {\n",
       "                             nbb_cells[i].set_text(nbb_formatted_code);\n",
       "                        }\n",
       "                        break;\n",
       "                    }\n",
       "                }\n",
       "            }, 500);\n",
       "            "
      ],
      "text/plain": [
       "<IPython.core.display.Javascript object>"
      ]
     },
     "metadata": {},
     "output_type": "display_data"
    }
   ],
   "source": [
    "dfss = dfscore[(dfscore[\"schedule_week\"] >= 3) & (dfscore[\"schedule_week\"] <= 15)]\n"
   ]
  },
  {
   "cell_type": "code",
   "execution_count": 21,
   "metadata": {},
   "outputs": [
    {
     "data": {
      "text/html": [
       "<div>\n",
       "<style scoped>\n",
       "    .dataframe tbody tr th:only-of-type {\n",
       "        vertical-align: middle;\n",
       "    }\n",
       "\n",
       "    .dataframe tbody tr th {\n",
       "        vertical-align: top;\n",
       "    }\n",
       "\n",
       "    .dataframe thead th {\n",
       "        text-align: right;\n",
       "    }\n",
       "</style>\n",
       "<table border=\"1\" class=\"dataframe\">\n",
       "  <thead>\n",
       "    <tr style=\"text-align: right;\">\n",
       "      <th></th>\n",
       "      <th>count</th>\n",
       "      <th>mean</th>\n",
       "      <th>std</th>\n",
       "      <th>min</th>\n",
       "      <th>25%</th>\n",
       "      <th>50%</th>\n",
       "      <th>75%</th>\n",
       "      <th>max</th>\n",
       "    </tr>\n",
       "  </thead>\n",
       "  <tbody>\n",
       "    <tr>\n",
       "      <th>schedule_season</th>\n",
       "      <td>7491.0</td>\n",
       "      <td>1999.948738</td>\n",
       "      <td>11.901220</td>\n",
       "      <td>1979.0</td>\n",
       "      <td>1990.0</td>\n",
       "      <td>2000.0</td>\n",
       "      <td>2010.0</td>\n",
       "      <td>2020.0</td>\n",
       "    </tr>\n",
       "    <tr>\n",
       "      <th>schedule_week</th>\n",
       "      <td>7491.0</td>\n",
       "      <td>9.143906</td>\n",
       "      <td>3.778176</td>\n",
       "      <td>3.0</td>\n",
       "      <td>6.0</td>\n",
       "      <td>9.0</td>\n",
       "      <td>12.0</td>\n",
       "      <td>15.0</td>\n",
       "    </tr>\n",
       "    <tr>\n",
       "      <th>score_home</th>\n",
       "      <td>7491.0</td>\n",
       "      <td>22.602590</td>\n",
       "      <td>10.338025</td>\n",
       "      <td>0.0</td>\n",
       "      <td>16.0</td>\n",
       "      <td>22.0</td>\n",
       "      <td>30.0</td>\n",
       "      <td>62.0</td>\n",
       "    </tr>\n",
       "    <tr>\n",
       "      <th>score_away</th>\n",
       "      <td>7491.0</td>\n",
       "      <td>20.083433</td>\n",
       "      <td>10.044513</td>\n",
       "      <td>0.0</td>\n",
       "      <td>13.0</td>\n",
       "      <td>20.0</td>\n",
       "      <td>27.0</td>\n",
       "      <td>59.0</td>\n",
       "    </tr>\n",
       "    <tr>\n",
       "      <th>spread_favorite</th>\n",
       "      <td>7491.0</td>\n",
       "      <td>-5.375784</td>\n",
       "      <td>3.463218</td>\n",
       "      <td>-26.5</td>\n",
       "      <td>-7.0</td>\n",
       "      <td>-4.5</td>\n",
       "      <td>-3.0</td>\n",
       "      <td>0.0</td>\n",
       "    </tr>\n",
       "    <tr>\n",
       "      <th>over_under_line</th>\n",
       "      <td>7491.0</td>\n",
       "      <td>42.042611</td>\n",
       "      <td>4.690212</td>\n",
       "      <td>30.0</td>\n",
       "      <td>38.5</td>\n",
       "      <td>42.0</td>\n",
       "      <td>45.0</td>\n",
       "      <td>63.5</td>\n",
       "    </tr>\n",
       "    <tr>\n",
       "      <th>home_favorite</th>\n",
       "      <td>7491.0</td>\n",
       "      <td>0.659992</td>\n",
       "      <td>0.473743</td>\n",
       "      <td>0.0</td>\n",
       "      <td>0.0</td>\n",
       "      <td>1.0</td>\n",
       "      <td>1.0</td>\n",
       "      <td>1.0</td>\n",
       "    </tr>\n",
       "    <tr>\n",
       "      <th>away_favorite</th>\n",
       "      <td>7491.0</td>\n",
       "      <td>0.325858</td>\n",
       "      <td>0.468726</td>\n",
       "      <td>0.0</td>\n",
       "      <td>0.0</td>\n",
       "      <td>0.0</td>\n",
       "      <td>1.0</td>\n",
       "      <td>1.0</td>\n",
       "    </tr>\n",
       "    <tr>\n",
       "      <th>is_over</th>\n",
       "      <td>7491.0</td>\n",
       "      <td>0.487118</td>\n",
       "      <td>0.499867</td>\n",
       "      <td>0.0</td>\n",
       "      <td>0.0</td>\n",
       "      <td>0.0</td>\n",
       "      <td>1.0</td>\n",
       "      <td>1.0</td>\n",
       "    </tr>\n",
       "    <tr>\n",
       "      <th>total_pts</th>\n",
       "      <td>7491.0</td>\n",
       "      <td>42.686023</td>\n",
       "      <td>14.280461</td>\n",
       "      <td>3.0</td>\n",
       "      <td>33.0</td>\n",
       "      <td>42.0</td>\n",
       "      <td>51.0</td>\n",
       "      <td>106.0</td>\n",
       "    </tr>\n",
       "  </tbody>\n",
       "</table>\n",
       "</div>"
      ],
      "text/plain": [
       "                  count         mean        std     min     25%     50%  \\\n",
       "schedule_season  7491.0  1999.948738  11.901220  1979.0  1990.0  2000.0   \n",
       "schedule_week    7491.0     9.143906   3.778176     3.0     6.0     9.0   \n",
       "score_home       7491.0    22.602590  10.338025     0.0    16.0    22.0   \n",
       "score_away       7491.0    20.083433  10.044513     0.0    13.0    20.0   \n",
       "spread_favorite  7491.0    -5.375784   3.463218   -26.5    -7.0    -4.5   \n",
       "over_under_line  7491.0    42.042611   4.690212    30.0    38.5    42.0   \n",
       "home_favorite    7491.0     0.659992   0.473743     0.0     0.0     1.0   \n",
       "away_favorite    7491.0     0.325858   0.468726     0.0     0.0     0.0   \n",
       "is_over          7491.0     0.487118   0.499867     0.0     0.0     0.0   \n",
       "total_pts        7491.0    42.686023  14.280461     3.0    33.0    42.0   \n",
       "\n",
       "                    75%     max  \n",
       "schedule_season  2010.0  2020.0  \n",
       "schedule_week      12.0    15.0  \n",
       "score_home         30.0    62.0  \n",
       "score_away         27.0    59.0  \n",
       "spread_favorite    -3.0     0.0  \n",
       "over_under_line    45.0    63.5  \n",
       "home_favorite       1.0     1.0  \n",
       "away_favorite       1.0     1.0  \n",
       "is_over             1.0     1.0  \n",
       "total_pts          51.0   106.0  "
      ]
     },
     "execution_count": 21,
     "metadata": {},
     "output_type": "execute_result"
    },
    {
     "data": {
      "application/javascript": [
       "\n",
       "            setTimeout(function() {\n",
       "                var nbb_cell_id = 21;\n",
       "                var nbb_unformatted_code = \"dfss.describe().transpose()\";\n",
       "                var nbb_formatted_code = \"dfss.describe().transpose()\";\n",
       "                var nbb_cells = Jupyter.notebook.get_cells();\n",
       "                for (var i = 0; i < nbb_cells.length; ++i) {\n",
       "                    if (nbb_cells[i].input_prompt_number == nbb_cell_id) {\n",
       "                        if (nbb_cells[i].get_text() == nbb_unformatted_code) {\n",
       "                             nbb_cells[i].set_text(nbb_formatted_code);\n",
       "                        }\n",
       "                        break;\n",
       "                    }\n",
       "                }\n",
       "            }, 500);\n",
       "            "
      ],
      "text/plain": [
       "<IPython.core.display.Javascript object>"
      ]
     },
     "metadata": {},
     "output_type": "display_data"
    }
   ],
   "source": [
    "dfss.describe().transpose()\n"
   ]
  },
  {
   "cell_type": "code",
   "execution_count": 22,
   "metadata": {},
   "outputs": [
    {
     "data": {
      "text/html": [
       "<style  type=\"text/css\" >\n",
       "    #T_ea2f4708_4a14_11eb_88ab_685b35a081derow0_col0 {\n",
       "            background-color:  #023858;\n",
       "            color:  #f1f1f1;\n",
       "        }    #T_ea2f4708_4a14_11eb_88ab_685b35a081derow0_col1 {\n",
       "            background-color:  #fef6fa;\n",
       "            color:  #000000;\n",
       "        }    #T_ea2f4708_4a14_11eb_88ab_685b35a081derow0_col2 {\n",
       "            background-color:  #d4d4e8;\n",
       "            color:  #000000;\n",
       "        }    #T_ea2f4708_4a14_11eb_88ab_685b35a081derow0_col3 {\n",
       "            background-color:  #c6cce3;\n",
       "            color:  #000000;\n",
       "        }    #T_ea2f4708_4a14_11eb_88ab_685b35a081derow0_col4 {\n",
       "            background-color:  #e2dfee;\n",
       "            color:  #000000;\n",
       "        }    #T_ea2f4708_4a14_11eb_88ab_685b35a081derow0_col5 {\n",
       "            background-color:  #a2bcda;\n",
       "            color:  #000000;\n",
       "        }    #T_ea2f4708_4a14_11eb_88ab_685b35a081derow0_col6 {\n",
       "            background-color:  #7bacd1;\n",
       "            color:  #000000;\n",
       "        }    #T_ea2f4708_4a14_11eb_88ab_685b35a081derow0_col7 {\n",
       "            background-color:  #6fa7ce;\n",
       "            color:  #000000;\n",
       "        }    #T_ea2f4708_4a14_11eb_88ab_685b35a081derow0_col8 {\n",
       "            background-color:  #f8f1f8;\n",
       "            color:  #000000;\n",
       "        }    #T_ea2f4708_4a14_11eb_88ab_685b35a081derow0_col9 {\n",
       "            background-color:  #e8e4f0;\n",
       "            color:  #000000;\n",
       "        }    #T_ea2f4708_4a14_11eb_88ab_685b35a081derow1_col0 {\n",
       "            background-color:  #fff7fb;\n",
       "            color:  #000000;\n",
       "        }    #T_ea2f4708_4a14_11eb_88ab_685b35a081derow1_col1 {\n",
       "            background-color:  #023858;\n",
       "            color:  #f1f1f1;\n",
       "        }    #T_ea2f4708_4a14_11eb_88ab_685b35a081derow1_col2 {\n",
       "            background-color:  #e1dfed;\n",
       "            color:  #000000;\n",
       "        }    #T_ea2f4708_4a14_11eb_88ab_685b35a081derow1_col3 {\n",
       "            background-color:  #e1dfed;\n",
       "            color:  #000000;\n",
       "        }    #T_ea2f4708_4a14_11eb_88ab_685b35a081derow1_col4 {\n",
       "            background-color:  #e7e3f0;\n",
       "            color:  #000000;\n",
       "        }    #T_ea2f4708_4a14_11eb_88ab_685b35a081derow1_col5 {\n",
       "            background-color:  #fff7fb;\n",
       "            color:  #000000;\n",
       "        }    #T_ea2f4708_4a14_11eb_88ab_685b35a081derow1_col6 {\n",
       "            background-color:  #7bacd1;\n",
       "            color:  #000000;\n",
       "        }    #T_ea2f4708_4a14_11eb_88ab_685b35a081derow1_col7 {\n",
       "            background-color:  #73a9cf;\n",
       "            color:  #000000;\n",
       "        }    #T_ea2f4708_4a14_11eb_88ab_685b35a081derow1_col8 {\n",
       "            background-color:  #fcf4fa;\n",
       "            color:  #000000;\n",
       "        }    #T_ea2f4708_4a14_11eb_88ab_685b35a081derow1_col9 {\n",
       "            background-color:  #fff7fb;\n",
       "            color:  #000000;\n",
       "        }    #T_ea2f4708_4a14_11eb_88ab_685b35a081derow2_col0 {\n",
       "            background-color:  #f0eaf4;\n",
       "            color:  #000000;\n",
       "        }    #T_ea2f4708_4a14_11eb_88ab_685b35a081derow2_col1 {\n",
       "            background-color:  #f8f1f8;\n",
       "            color:  #000000;\n",
       "        }    #T_ea2f4708_4a14_11eb_88ab_685b35a081derow2_col2 {\n",
       "            background-color:  #023858;\n",
       "            color:  #f1f1f1;\n",
       "        }    #T_ea2f4708_4a14_11eb_88ab_685b35a081derow2_col3 {\n",
       "            background-color:  #e0deed;\n",
       "            color:  #000000;\n",
       "        }    #T_ea2f4708_4a14_11eb_88ab_685b35a081derow2_col4 {\n",
       "            background-color:  #f5eff6;\n",
       "            color:  #000000;\n",
       "        }    #T_ea2f4708_4a14_11eb_88ab_685b35a081derow2_col5 {\n",
       "            background-color:  #d3d4e7;\n",
       "            color:  #000000;\n",
       "        }    #T_ea2f4708_4a14_11eb_88ab_685b35a081derow2_col6 {\n",
       "            background-color:  #4094c3;\n",
       "            color:  #000000;\n",
       "        }    #T_ea2f4708_4a14_11eb_88ab_685b35a081derow2_col7 {\n",
       "            background-color:  #a2bcda;\n",
       "            color:  #000000;\n",
       "        }    #T_ea2f4708_4a14_11eb_88ab_685b35a081derow2_col8 {\n",
       "            background-color:  #5c9fc9;\n",
       "            color:  #000000;\n",
       "        }    #T_ea2f4708_4a14_11eb_88ab_685b35a081derow2_col9 {\n",
       "            background-color:  #1278b4;\n",
       "            color:  #f1f1f1;\n",
       "        }    #T_ea2f4708_4a14_11eb_88ab_685b35a081derow3_col0 {\n",
       "            background-color:  #e8e4f0;\n",
       "            color:  #000000;\n",
       "        }    #T_ea2f4708_4a14_11eb_88ab_685b35a081derow3_col1 {\n",
       "            background-color:  #fbf4f9;\n",
       "            color:  #000000;\n",
       "        }    #T_ea2f4708_4a14_11eb_88ab_685b35a081derow3_col2 {\n",
       "            background-color:  #e4e1ef;\n",
       "            color:  #000000;\n",
       "        }    #T_ea2f4708_4a14_11eb_88ab_685b35a081derow3_col3 {\n",
       "            background-color:  #023858;\n",
       "            color:  #f1f1f1;\n",
       "        }    #T_ea2f4708_4a14_11eb_88ab_685b35a081derow3_col4 {\n",
       "            background-color:  #c8cde4;\n",
       "            color:  #000000;\n",
       "        }    #T_ea2f4708_4a14_11eb_88ab_685b35a081derow3_col5 {\n",
       "            background-color:  #d1d2e6;\n",
       "            color:  #000000;\n",
       "        }    #T_ea2f4708_4a14_11eb_88ab_685b35a081derow3_col6 {\n",
       "            background-color:  #a8bedc;\n",
       "            color:  #000000;\n",
       "        }    #T_ea2f4708_4a14_11eb_88ab_685b35a081derow3_col7 {\n",
       "            background-color:  #3b92c1;\n",
       "            color:  #000000;\n",
       "        }    #T_ea2f4708_4a14_11eb_88ab_685b35a081derow3_col8 {\n",
       "            background-color:  #63a2cb;\n",
       "            color:  #000000;\n",
       "        }    #T_ea2f4708_4a14_11eb_88ab_685b35a081derow3_col9 {\n",
       "            background-color:  #1b7eb7;\n",
       "            color:  #000000;\n",
       "        }    #T_ea2f4708_4a14_11eb_88ab_685b35a081derow4_col0 {\n",
       "            background-color:  #fbf3f9;\n",
       "            color:  #000000;\n",
       "        }    #T_ea2f4708_4a14_11eb_88ab_685b35a081derow4_col1 {\n",
       "            background-color:  #fdf5fa;\n",
       "            color:  #000000;\n",
       "        }    #T_ea2f4708_4a14_11eb_88ab_685b35a081derow4_col2 {\n",
       "            background-color:  #f5eff6;\n",
       "            color:  #000000;\n",
       "        }    #T_ea2f4708_4a14_11eb_88ab_685b35a081derow4_col3 {\n",
       "            background-color:  #c2cbe2;\n",
       "            color:  #000000;\n",
       "        }    #T_ea2f4708_4a14_11eb_88ab_685b35a081derow4_col4 {\n",
       "            background-color:  #023858;\n",
       "            color:  #f1f1f1;\n",
       "        }    #T_ea2f4708_4a14_11eb_88ab_685b35a081derow4_col5 {\n",
       "            background-color:  #fef6fa;\n",
       "            color:  #000000;\n",
       "        }    #T_ea2f4708_4a14_11eb_88ab_685b35a081derow4_col6 {\n",
       "            background-color:  #a2bcda;\n",
       "            color:  #000000;\n",
       "        }    #T_ea2f4708_4a14_11eb_88ab_685b35a081derow4_col7 {\n",
       "            background-color:  #4e9ac6;\n",
       "            color:  #000000;\n",
       "        }    #T_ea2f4708_4a14_11eb_88ab_685b35a081derow4_col8 {\n",
       "            background-color:  #fbf4f9;\n",
       "            color:  #000000;\n",
       "        }    #T_ea2f4708_4a14_11eb_88ab_685b35a081derow4_col9 {\n",
       "            background-color:  #fff7fb;\n",
       "            color:  #000000;\n",
       "        }    #T_ea2f4708_4a14_11eb_88ab_685b35a081derow5_col0 {\n",
       "            background-color:  #a4bcda;\n",
       "            color:  #000000;\n",
       "        }    #T_ea2f4708_4a14_11eb_88ab_685b35a081derow5_col1 {\n",
       "            background-color:  #fff7fb;\n",
       "            color:  #000000;\n",
       "        }    #T_ea2f4708_4a14_11eb_88ab_685b35a081derow5_col2 {\n",
       "            background-color:  #b1c2de;\n",
       "            color:  #000000;\n",
       "        }    #T_ea2f4708_4a14_11eb_88ab_685b35a081derow5_col3 {\n",
       "            background-color:  #abbfdc;\n",
       "            color:  #000000;\n",
       "        }    #T_ea2f4708_4a14_11eb_88ab_685b35a081derow5_col4 {\n",
       "            background-color:  #e8e4f0;\n",
       "            color:  #000000;\n",
       "        }    #T_ea2f4708_4a14_11eb_88ab_685b35a081derow5_col5 {\n",
       "            background-color:  #023858;\n",
       "            color:  #f1f1f1;\n",
       "        }    #T_ea2f4708_4a14_11eb_88ab_685b35a081derow5_col6 {\n",
       "            background-color:  #79abd0;\n",
       "            color:  #000000;\n",
       "        }    #T_ea2f4708_4a14_11eb_88ab_685b35a081derow5_col7 {\n",
       "            background-color:  #73a9cf;\n",
       "            color:  #000000;\n",
       "        }    #T_ea2f4708_4a14_11eb_88ab_685b35a081derow5_col8 {\n",
       "            background-color:  #fff7fb;\n",
       "            color:  #000000;\n",
       "        }    #T_ea2f4708_4a14_11eb_88ab_685b35a081derow5_col9 {\n",
       "            background-color:  #bdc8e1;\n",
       "            color:  #000000;\n",
       "        }    #T_ea2f4708_4a14_11eb_88ab_685b35a081derow6_col0 {\n",
       "            background-color:  #fdf5fa;\n",
       "            color:  #000000;\n",
       "        }    #T_ea2f4708_4a14_11eb_88ab_685b35a081derow6_col1 {\n",
       "            background-color:  #fbf4f9;\n",
       "            color:  #000000;\n",
       "        }    #T_ea2f4708_4a14_11eb_88ab_685b35a081derow6_col2 {\n",
       "            background-color:  #acc0dd;\n",
       "            color:  #000000;\n",
       "        }    #T_ea2f4708_4a14_11eb_88ab_685b35a081derow6_col3 {\n",
       "            background-color:  #fff7fb;\n",
       "            color:  #000000;\n",
       "        }    #T_ea2f4708_4a14_11eb_88ab_685b35a081derow6_col4 {\n",
       "            background-color:  #fff7fb;\n",
       "            color:  #000000;\n",
       "        }    #T_ea2f4708_4a14_11eb_88ab_685b35a081derow6_col5 {\n",
       "            background-color:  #faf2f8;\n",
       "            color:  #000000;\n",
       "        }    #T_ea2f4708_4a14_11eb_88ab_685b35a081derow6_col6 {\n",
       "            background-color:  #023858;\n",
       "            color:  #f1f1f1;\n",
       "        }    #T_ea2f4708_4a14_11eb_88ab_685b35a081derow6_col7 {\n",
       "            background-color:  #fff7fb;\n",
       "            color:  #000000;\n",
       "        }    #T_ea2f4708_4a14_11eb_88ab_685b35a081derow6_col8 {\n",
       "            background-color:  #fdf5fa;\n",
       "            color:  #000000;\n",
       "        }    #T_ea2f4708_4a14_11eb_88ab_685b35a081derow6_col9 {\n",
       "            background-color:  #fef6fa;\n",
       "            color:  #000000;\n",
       "        }    #T_ea2f4708_4a14_11eb_88ab_685b35a081derow7_col0 {\n",
       "            background-color:  #f5eef6;\n",
       "            color:  #000000;\n",
       "        }    #T_ea2f4708_4a14_11eb_88ab_685b35a081derow7_col1 {\n",
       "            background-color:  #f5eff6;\n",
       "            color:  #000000;\n",
       "        }    #T_ea2f4708_4a14_11eb_88ab_685b35a081derow7_col2 {\n",
       "            background-color:  #fff7fb;\n",
       "            color:  #000000;\n",
       "        }    #T_ea2f4708_4a14_11eb_88ab_685b35a081derow7_col3 {\n",
       "            background-color:  #a1bbda;\n",
       "            color:  #000000;\n",
       "        }    #T_ea2f4708_4a14_11eb_88ab_685b35a081derow7_col4 {\n",
       "            background-color:  #bbc7e0;\n",
       "            color:  #000000;\n",
       "        }    #T_ea2f4708_4a14_11eb_88ab_685b35a081derow7_col5 {\n",
       "            background-color:  #f6eff7;\n",
       "            color:  #000000;\n",
       "        }    #T_ea2f4708_4a14_11eb_88ab_685b35a081derow7_col6 {\n",
       "            background-color:  #fff7fb;\n",
       "            color:  #000000;\n",
       "        }    #T_ea2f4708_4a14_11eb_88ab_685b35a081derow7_col7 {\n",
       "            background-color:  #023858;\n",
       "            color:  #f1f1f1;\n",
       "        }    #T_ea2f4708_4a14_11eb_88ab_685b35a081derow7_col8 {\n",
       "            background-color:  #f8f1f8;\n",
       "            color:  #000000;\n",
       "        }    #T_ea2f4708_4a14_11eb_88ab_685b35a081derow7_col9 {\n",
       "            background-color:  #fbf3f9;\n",
       "            color:  #000000;\n",
       "        }    #T_ea2f4708_4a14_11eb_88ab_685b35a081derow8_col0 {\n",
       "            background-color:  #f8f1f8;\n",
       "            color:  #000000;\n",
       "        }    #T_ea2f4708_4a14_11eb_88ab_685b35a081derow8_col1 {\n",
       "            background-color:  #faf2f8;\n",
       "            color:  #000000;\n",
       "        }    #T_ea2f4708_4a14_11eb_88ab_685b35a081derow8_col2 {\n",
       "            background-color:  #3b92c1;\n",
       "            color:  #000000;\n",
       "        }    #T_ea2f4708_4a14_11eb_88ab_685b35a081derow8_col3 {\n",
       "            background-color:  #3d93c2;\n",
       "            color:  #000000;\n",
       "        }    #T_ea2f4708_4a14_11eb_88ab_685b35a081derow8_col4 {\n",
       "            background-color:  #e2dfee;\n",
       "            color:  #000000;\n",
       "        }    #T_ea2f4708_4a14_11eb_88ab_685b35a081derow8_col5 {\n",
       "            background-color:  #fdf5fa;\n",
       "            color:  #000000;\n",
       "        }    #T_ea2f4708_4a14_11eb_88ab_685b35a081derow8_col6 {\n",
       "            background-color:  #79abd0;\n",
       "            color:  #000000;\n",
       "        }    #T_ea2f4708_4a14_11eb_88ab_685b35a081derow8_col7 {\n",
       "            background-color:  #73a9cf;\n",
       "            color:  #000000;\n",
       "        }    #T_ea2f4708_4a14_11eb_88ab_685b35a081derow8_col8 {\n",
       "            background-color:  #023858;\n",
       "            color:  #f1f1f1;\n",
       "        }    #T_ea2f4708_4a14_11eb_88ab_685b35a081derow8_col9 {\n",
       "            background-color:  #056fae;\n",
       "            color:  #f1f1f1;\n",
       "        }    #T_ea2f4708_4a14_11eb_88ab_685b35a081derow9_col0 {\n",
       "            background-color:  #e5e1ef;\n",
       "            color:  #000000;\n",
       "        }    #T_ea2f4708_4a14_11eb_88ab_685b35a081derow9_col1 {\n",
       "            background-color:  #fbf3f9;\n",
       "            color:  #000000;\n",
       "        }    #T_ea2f4708_4a14_11eb_88ab_685b35a081derow9_col2 {\n",
       "            background-color:  #056dac;\n",
       "            color:  #f1f1f1;\n",
       "        }    #T_ea2f4708_4a14_11eb_88ab_685b35a081derow9_col3 {\n",
       "            background-color:  #0570b0;\n",
       "            color:  #f1f1f1;\n",
       "        }    #T_ea2f4708_4a14_11eb_88ab_685b35a081derow9_col4 {\n",
       "            background-color:  #e3e0ee;\n",
       "            color:  #000000;\n",
       "        }    #T_ea2f4708_4a14_11eb_88ab_685b35a081derow9_col5 {\n",
       "            background-color:  #b7c5df;\n",
       "            color:  #000000;\n",
       "        }    #T_ea2f4708_4a14_11eb_88ab_685b35a081derow9_col6 {\n",
       "            background-color:  #79abd0;\n",
       "            color:  #000000;\n",
       "        }    #T_ea2f4708_4a14_11eb_88ab_685b35a081derow9_col7 {\n",
       "            background-color:  #75a9cf;\n",
       "            color:  #000000;\n",
       "        }    #T_ea2f4708_4a14_11eb_88ab_685b35a081derow9_col8 {\n",
       "            background-color:  #056ead;\n",
       "            color:  #f1f1f1;\n",
       "        }    #T_ea2f4708_4a14_11eb_88ab_685b35a081derow9_col9 {\n",
       "            background-color:  #023858;\n",
       "            color:  #f1f1f1;\n",
       "        }</style><table id=\"T_ea2f4708_4a14_11eb_88ab_685b35a081de\" ><thead>    <tr>        <th class=\"blank level0\" ></th>        <th class=\"col_heading level0 col0\" >schedule_season</th>        <th class=\"col_heading level0 col1\" >schedule_week</th>        <th class=\"col_heading level0 col2\" >score_home</th>        <th class=\"col_heading level0 col3\" >score_away</th>        <th class=\"col_heading level0 col4\" >spread_favorite</th>        <th class=\"col_heading level0 col5\" >over_under_line</th>        <th class=\"col_heading level0 col6\" >home_favorite</th>        <th class=\"col_heading level0 col7\" >away_favorite</th>        <th class=\"col_heading level0 col8\" >is_over</th>        <th class=\"col_heading level0 col9\" >total_pts</th>    </tr></thead><tbody>\n",
       "                <tr>\n",
       "                        <th id=\"T_ea2f4708_4a14_11eb_88ab_685b35a081delevel0_row0\" class=\"row_heading level0 row0\" >schedule_season</th>\n",
       "                        <td id=\"T_ea2f4708_4a14_11eb_88ab_685b35a081derow0_col0\" class=\"data row0 col0\" >1.000000</td>\n",
       "                        <td id=\"T_ea2f4708_4a14_11eb_88ab_685b35a081derow0_col1\" class=\"data row0 col1\" >-0.037278</td>\n",
       "                        <td id=\"T_ea2f4708_4a14_11eb_88ab_685b35a081derow0_col2\" class=\"data row0 col2\" >0.070198</td>\n",
       "                        <td id=\"T_ea2f4708_4a14_11eb_88ab_685b35a081derow0_col3\" class=\"data row0 col3\" >0.109477</td>\n",
       "                        <td id=\"T_ea2f4708_4a14_11eb_88ab_685b35a081derow0_col4\" class=\"data row0 col4\" >-0.006201</td>\n",
       "                        <td id=\"T_ea2f4708_4a14_11eb_88ab_685b35a081derow0_col5\" class=\"data row0 col5\" >0.356315</td>\n",
       "                        <td id=\"T_ea2f4708_4a14_11eb_88ab_685b35a081derow0_col6\" class=\"data row0 col6\" >-0.018342</td>\n",
       "                        <td id=\"T_ea2f4708_4a14_11eb_88ab_685b35a081derow0_col7\" class=\"data row0 col7\" >0.033702</td>\n",
       "                        <td id=\"T_ea2f4708_4a14_11eb_88ab_685b35a081derow0_col8\" class=\"data row0 col8\" >0.013018</td>\n",
       "                        <td id=\"T_ea2f4708_4a14_11eb_88ab_685b35a081derow0_col9\" class=\"data row0 col9\" >0.127821</td>\n",
       "            </tr>\n",
       "            <tr>\n",
       "                        <th id=\"T_ea2f4708_4a14_11eb_88ab_685b35a081delevel0_row1\" class=\"row_heading level0 row1\" >schedule_week</th>\n",
       "                        <td id=\"T_ea2f4708_4a14_11eb_88ab_685b35a081derow1_col0\" class=\"data row1 col0\" >-0.037278</td>\n",
       "                        <td id=\"T_ea2f4708_4a14_11eb_88ab_685b35a081derow1_col1\" class=\"data row1 col1\" >1.000000</td>\n",
       "                        <td id=\"T_ea2f4708_4a14_11eb_88ab_685b35a081derow1_col2\" class=\"data row1 col2\" >-0.001086</td>\n",
       "                        <td id=\"T_ea2f4708_4a14_11eb_88ab_685b35a081derow1_col3\" class=\"data row1 col3\" >-0.022030</td>\n",
       "                        <td id=\"T_ea2f4708_4a14_11eb_88ab_685b35a081derow1_col4\" class=\"data row1 col4\" >-0.033686</td>\n",
       "                        <td id=\"T_ea2f4708_4a14_11eb_88ab_685b35a081derow1_col5\" class=\"data row1 col5\" >-0.048003</td>\n",
       "                        <td id=\"T_ea2f4708_4a14_11eb_88ab_685b35a081derow1_col6\" class=\"data row1 col6\" >-0.020175</td>\n",
       "                        <td id=\"T_ea2f4708_4a14_11eb_88ab_685b35a081derow1_col7\" class=\"data row1 col7\" >0.019505</td>\n",
       "                        <td id=\"T_ea2f4708_4a14_11eb_88ab_685b35a081derow1_col8\" class=\"data row1 col8\" >-0.009764</td>\n",
       "                        <td id=\"T_ea2f4708_4a14_11eb_88ab_685b35a081derow1_col9\" class=\"data row1 col9\" >-0.016281</td>\n",
       "            </tr>\n",
       "            <tr>\n",
       "                        <th id=\"T_ea2f4708_4a14_11eb_88ab_685b35a081delevel0_row2\" class=\"row_heading level0 row2\" >score_home</th>\n",
       "                        <td id=\"T_ea2f4708_4a14_11eb_88ab_685b35a081derow2_col0\" class=\"data row2 col0\" >0.070198</td>\n",
       "                        <td id=\"T_ea2f4708_4a14_11eb_88ab_685b35a081derow2_col1\" class=\"data row2 col1\" >-0.001086</td>\n",
       "                        <td id=\"T_ea2f4708_4a14_11eb_88ab_685b35a081derow2_col2\" class=\"data row2 col2\" >1.000000</td>\n",
       "                        <td id=\"T_ea2f4708_4a14_11eb_88ab_685b35a081derow2_col3\" class=\"data row2 col3\" >-0.018468</td>\n",
       "                        <td id=\"T_ea2f4708_4a14_11eb_88ab_685b35a081derow2_col4\" class=\"data row2 col4\" >-0.134277</td>\n",
       "                        <td id=\"T_ea2f4708_4a14_11eb_88ab_685b35a081derow2_col5\" class=\"data row2 col5\" >0.200810</td>\n",
       "                        <td id=\"T_ea2f4708_4a14_11eb_88ab_685b35a081derow2_col6\" class=\"data row2 col6\" >0.220997</td>\n",
       "                        <td id=\"T_ea2f4708_4a14_11eb_88ab_685b35a081derow2_col7\" class=\"data row2 col7\" >-0.214274</td>\n",
       "                        <td id=\"T_ea2f4708_4a14_11eb_88ab_685b35a081derow2_col8\" class=\"data row2 col8\" >0.532846</td>\n",
       "                        <td id=\"T_ea2f4708_4a14_11eb_88ab_685b35a081derow2_col9\" class=\"data row2 col9\" >0.710938</td>\n",
       "            </tr>\n",
       "            <tr>\n",
       "                        <th id=\"T_ea2f4708_4a14_11eb_88ab_685b35a081delevel0_row3\" class=\"row_heading level0 row3\" >score_away</th>\n",
       "                        <td id=\"T_ea2f4708_4a14_11eb_88ab_685b35a081derow3_col0\" class=\"data row3 col0\" >0.109477</td>\n",
       "                        <td id=\"T_ea2f4708_4a14_11eb_88ab_685b35a081derow3_col1\" class=\"data row3 col1\" >-0.022030</td>\n",
       "                        <td id=\"T_ea2f4708_4a14_11eb_88ab_685b35a081derow3_col2\" class=\"data row3 col2\" >-0.018468</td>\n",
       "                        <td id=\"T_ea2f4708_4a14_11eb_88ab_685b35a081derow3_col3\" class=\"data row3 col3\" >1.000000</td>\n",
       "                        <td id=\"T_ea2f4708_4a14_11eb_88ab_685b35a081derow3_col4\" class=\"data row3 col4\" >0.119338</td>\n",
       "                        <td id=\"T_ea2f4708_4a14_11eb_88ab_685b35a081derow3_col5\" class=\"data row3 col5\" >0.210978</td>\n",
       "                        <td id=\"T_ea2f4708_4a14_11eb_88ab_685b35a081derow3_col6\" class=\"data row3 col6\" >-0.238894</td>\n",
       "                        <td id=\"T_ea2f4708_4a14_11eb_88ab_685b35a081derow3_col7\" class=\"data row3 col7\" >0.242468</td>\n",
       "                        <td id=\"T_ea2f4708_4a14_11eb_88ab_685b35a081derow3_col8\" class=\"data row3 col8\" >0.518858</td>\n",
       "                        <td id=\"T_ea2f4708_4a14_11eb_88ab_685b35a081derow3_col9\" class=\"data row3 col9\" >0.690005</td>\n",
       "            </tr>\n",
       "            <tr>\n",
       "                        <th id=\"T_ea2f4708_4a14_11eb_88ab_685b35a081delevel0_row4\" class=\"row_heading level0 row4\" >spread_favorite</th>\n",
       "                        <td id=\"T_ea2f4708_4a14_11eb_88ab_685b35a081derow4_col0\" class=\"data row4 col0\" >-0.006201</td>\n",
       "                        <td id=\"T_ea2f4708_4a14_11eb_88ab_685b35a081derow4_col1\" class=\"data row4 col1\" >-0.033686</td>\n",
       "                        <td id=\"T_ea2f4708_4a14_11eb_88ab_685b35a081derow4_col2\" class=\"data row4 col2\" >-0.134277</td>\n",
       "                        <td id=\"T_ea2f4708_4a14_11eb_88ab_685b35a081derow4_col3\" class=\"data row4 col3\" >0.119338</td>\n",
       "                        <td id=\"T_ea2f4708_4a14_11eb_88ab_685b35a081derow4_col4\" class=\"data row4 col4\" >1.000000</td>\n",
       "                        <td id=\"T_ea2f4708_4a14_11eb_88ab_685b35a081derow4_col5\" class=\"data row4 col5\" >-0.039402</td>\n",
       "                        <td id=\"T_ea2f4708_4a14_11eb_88ab_685b35a081derow4_col6\" class=\"data row4 col6\" >-0.213744</td>\n",
       "                        <td id=\"T_ea2f4708_4a14_11eb_88ab_685b35a081derow4_col7\" class=\"data row4 col7\" >0.169165</td>\n",
       "                        <td id=\"T_ea2f4708_4a14_11eb_88ab_685b35a081derow4_col8\" class=\"data row4 col8\" >-0.007694</td>\n",
       "                        <td id=\"T_ea2f4708_4a14_11eb_88ab_685b35a081derow4_col9\" class=\"data row4 col9\" >-0.013268</td>\n",
       "            </tr>\n",
       "            <tr>\n",
       "                        <th id=\"T_ea2f4708_4a14_11eb_88ab_685b35a081delevel0_row5\" class=\"row_heading level0 row5\" >over_under_line</th>\n",
       "                        <td id=\"T_ea2f4708_4a14_11eb_88ab_685b35a081derow5_col0\" class=\"data row5 col0\" >0.356315</td>\n",
       "                        <td id=\"T_ea2f4708_4a14_11eb_88ab_685b35a081derow5_col1\" class=\"data row5 col1\" >-0.048003</td>\n",
       "                        <td id=\"T_ea2f4708_4a14_11eb_88ab_685b35a081derow5_col2\" class=\"data row5 col2\" >0.200810</td>\n",
       "                        <td id=\"T_ea2f4708_4a14_11eb_88ab_685b35a081derow5_col3\" class=\"data row5 col3\" >0.210978</td>\n",
       "                        <td id=\"T_ea2f4708_4a14_11eb_88ab_685b35a081derow5_col4\" class=\"data row5 col4\" >-0.039402</td>\n",
       "                        <td id=\"T_ea2f4708_4a14_11eb_88ab_685b35a081derow5_col5\" class=\"data row5 col5\" >1.000000</td>\n",
       "                        <td id=\"T_ea2f4708_4a14_11eb_88ab_685b35a081derow5_col6\" class=\"data row5 col6\" >-0.009192</td>\n",
       "                        <td id=\"T_ea2f4708_4a14_11eb_88ab_685b35a081derow5_col7\" class=\"data row5 col7\" >0.015698</td>\n",
       "                        <td id=\"T_ea2f4708_4a14_11eb_88ab_685b35a081derow5_col8\" class=\"data row5 col8\" >-0.033308</td>\n",
       "                        <td id=\"T_ea2f4708_4a14_11eb_88ab_685b35a081derow5_col9\" class=\"data row5 col9\" >0.293768</td>\n",
       "            </tr>\n",
       "            <tr>\n",
       "                        <th id=\"T_ea2f4708_4a14_11eb_88ab_685b35a081delevel0_row6\" class=\"row_heading level0 row6\" >home_favorite</th>\n",
       "                        <td id=\"T_ea2f4708_4a14_11eb_88ab_685b35a081derow6_col0\" class=\"data row6 col0\" >-0.018342</td>\n",
       "                        <td id=\"T_ea2f4708_4a14_11eb_88ab_685b35a081derow6_col1\" class=\"data row6 col1\" >-0.020175</td>\n",
       "                        <td id=\"T_ea2f4708_4a14_11eb_88ab_685b35a081derow6_col2\" class=\"data row6 col2\" >0.220997</td>\n",
       "                        <td id=\"T_ea2f4708_4a14_11eb_88ab_685b35a081derow6_col3\" class=\"data row6 col3\" >-0.238894</td>\n",
       "                        <td id=\"T_ea2f4708_4a14_11eb_88ab_685b35a081derow6_col4\" class=\"data row6 col4\" >-0.213744</td>\n",
       "                        <td id=\"T_ea2f4708_4a14_11eb_88ab_685b35a081derow6_col5\" class=\"data row6 col5\" >-0.009192</td>\n",
       "                        <td id=\"T_ea2f4708_4a14_11eb_88ab_685b35a081derow6_col6\" class=\"data row6 col6\" >1.000000</td>\n",
       "                        <td id=\"T_ea2f4708_4a14_11eb_88ab_685b35a081derow6_col7\" class=\"data row6 col7\" >-0.968641</td>\n",
       "                        <td id=\"T_ea2f4708_4a14_11eb_88ab_685b35a081derow6_col8\" class=\"data row6 col8\" >-0.013142</td>\n",
       "                        <td id=\"T_ea2f4708_4a14_11eb_88ab_685b35a081derow6_col9\" class=\"data row6 col9\" >-0.008046</td>\n",
       "            </tr>\n",
       "            <tr>\n",
       "                        <th id=\"T_ea2f4708_4a14_11eb_88ab_685b35a081delevel0_row7\" class=\"row_heading level0 row7\" >away_favorite</th>\n",
       "                        <td id=\"T_ea2f4708_4a14_11eb_88ab_685b35a081derow7_col0\" class=\"data row7 col0\" >0.033702</td>\n",
       "                        <td id=\"T_ea2f4708_4a14_11eb_88ab_685b35a081derow7_col1\" class=\"data row7 col1\" >0.019505</td>\n",
       "                        <td id=\"T_ea2f4708_4a14_11eb_88ab_685b35a081derow7_col2\" class=\"data row7 col2\" >-0.214274</td>\n",
       "                        <td id=\"T_ea2f4708_4a14_11eb_88ab_685b35a081derow7_col3\" class=\"data row7 col3\" >0.242468</td>\n",
       "                        <td id=\"T_ea2f4708_4a14_11eb_88ab_685b35a081derow7_col4\" class=\"data row7 col4\" >0.169165</td>\n",
       "                        <td id=\"T_ea2f4708_4a14_11eb_88ab_685b35a081derow7_col5\" class=\"data row7 col5\" >0.015698</td>\n",
       "                        <td id=\"T_ea2f4708_4a14_11eb_88ab_685b35a081derow7_col6\" class=\"data row7 col6\" >-0.968641</td>\n",
       "                        <td id=\"T_ea2f4708_4a14_11eb_88ab_685b35a081derow7_col7\" class=\"data row7 col7\" >1.000000</td>\n",
       "                        <td id=\"T_ea2f4708_4a14_11eb_88ab_685b35a081derow7_col8\" class=\"data row7 col8\" >0.017064</td>\n",
       "                        <td id=\"T_ea2f4708_4a14_11eb_88ab_685b35a081derow7_col9\" class=\"data row7 col9\" >0.015427</td>\n",
       "            </tr>\n",
       "            <tr>\n",
       "                        <th id=\"T_ea2f4708_4a14_11eb_88ab_685b35a081delevel0_row8\" class=\"row_heading level0 row8\" >is_over</th>\n",
       "                        <td id=\"T_ea2f4708_4a14_11eb_88ab_685b35a081derow8_col0\" class=\"data row8 col0\" >0.013018</td>\n",
       "                        <td id=\"T_ea2f4708_4a14_11eb_88ab_685b35a081derow8_col1\" class=\"data row8 col1\" >-0.009764</td>\n",
       "                        <td id=\"T_ea2f4708_4a14_11eb_88ab_685b35a081derow8_col2\" class=\"data row8 col2\" >0.532846</td>\n",
       "                        <td id=\"T_ea2f4708_4a14_11eb_88ab_685b35a081derow8_col3\" class=\"data row8 col3\" >0.518858</td>\n",
       "                        <td id=\"T_ea2f4708_4a14_11eb_88ab_685b35a081derow8_col4\" class=\"data row8 col4\" >-0.007694</td>\n",
       "                        <td id=\"T_ea2f4708_4a14_11eb_88ab_685b35a081derow8_col5\" class=\"data row8 col5\" >-0.033308</td>\n",
       "                        <td id=\"T_ea2f4708_4a14_11eb_88ab_685b35a081derow8_col6\" class=\"data row8 col6\" >-0.013142</td>\n",
       "                        <td id=\"T_ea2f4708_4a14_11eb_88ab_685b35a081derow8_col7\" class=\"data row8 col7\" >0.017064</td>\n",
       "                        <td id=\"T_ea2f4708_4a14_11eb_88ab_685b35a081derow8_col8\" class=\"data row8 col8\" >1.000000</td>\n",
       "                        <td id=\"T_ea2f4708_4a14_11eb_88ab_685b35a081derow8_col9\" class=\"data row8 col9\" >0.750694</td>\n",
       "            </tr>\n",
       "            <tr>\n",
       "                        <th id=\"T_ea2f4708_4a14_11eb_88ab_685b35a081delevel0_row9\" class=\"row_heading level0 row9\" >total_pts</th>\n",
       "                        <td id=\"T_ea2f4708_4a14_11eb_88ab_685b35a081derow9_col0\" class=\"data row9 col0\" >0.127821</td>\n",
       "                        <td id=\"T_ea2f4708_4a14_11eb_88ab_685b35a081derow9_col1\" class=\"data row9 col1\" >-0.016281</td>\n",
       "                        <td id=\"T_ea2f4708_4a14_11eb_88ab_685b35a081derow9_col2\" class=\"data row9 col2\" >0.710938</td>\n",
       "                        <td id=\"T_ea2f4708_4a14_11eb_88ab_685b35a081derow9_col3\" class=\"data row9 col3\" >0.690005</td>\n",
       "                        <td id=\"T_ea2f4708_4a14_11eb_88ab_685b35a081derow9_col4\" class=\"data row9 col4\" >-0.013268</td>\n",
       "                        <td id=\"T_ea2f4708_4a14_11eb_88ab_685b35a081derow9_col5\" class=\"data row9 col5\" >0.293768</td>\n",
       "                        <td id=\"T_ea2f4708_4a14_11eb_88ab_685b35a081derow9_col6\" class=\"data row9 col6\" >-0.008046</td>\n",
       "                        <td id=\"T_ea2f4708_4a14_11eb_88ab_685b35a081derow9_col7\" class=\"data row9 col7\" >0.015427</td>\n",
       "                        <td id=\"T_ea2f4708_4a14_11eb_88ab_685b35a081derow9_col8\" class=\"data row9 col8\" >0.750694</td>\n",
       "                        <td id=\"T_ea2f4708_4a14_11eb_88ab_685b35a081derow9_col9\" class=\"data row9 col9\" >1.000000</td>\n",
       "            </tr>\n",
       "    </tbody></table>"
      ],
      "text/plain": [
       "<pandas.io.formats.style.Styler at 0x7f895604b850>"
      ]
     },
     "execution_count": 22,
     "metadata": {},
     "output_type": "execute_result"
    },
    {
     "data": {
      "application/javascript": [
       "\n",
       "            setTimeout(function() {\n",
       "                var nbb_cell_id = 22;\n",
       "                var nbb_unformatted_code = \"dfss.corr().style.background_gradient()\";\n",
       "                var nbb_formatted_code = \"dfss.corr().style.background_gradient()\";\n",
       "                var nbb_cells = Jupyter.notebook.get_cells();\n",
       "                for (var i = 0; i < nbb_cells.length; ++i) {\n",
       "                    if (nbb_cells[i].input_prompt_number == nbb_cell_id) {\n",
       "                        if (nbb_cells[i].get_text() == nbb_unformatted_code) {\n",
       "                             nbb_cells[i].set_text(nbb_formatted_code);\n",
       "                        }\n",
       "                        break;\n",
       "                    }\n",
       "                }\n",
       "            }, 500);\n",
       "            "
      ],
      "text/plain": [
       "<IPython.core.display.Javascript object>"
      ]
     },
     "metadata": {},
     "output_type": "display_data"
    }
   ],
   "source": [
    "dfss.corr().style.background_gradient()"
   ]
  },
  {
   "cell_type": "code",
   "execution_count": 23,
   "metadata": {},
   "outputs": [
    {
     "name": "stdout",
     "output_type": "stream",
     "text": [
      "Index(['schedule_season', 'schedule_week', 'team_home', 'score_home',\n",
      "       'score_away', 'team_away', 'team_favorite_id', 'spread_favorite',\n",
      "       'over_under_line', 'home_favorite', 'away_favorite', 'is_over',\n",
      "       'total_pts'],\n",
      "      dtype='object')\n"
     ]
    },
    {
     "data": {
      "application/javascript": [
       "\n",
       "            setTimeout(function() {\n",
       "                var nbb_cell_id = 23;\n",
       "                var nbb_unformatted_code = \"print(dfss.columns)\";\n",
       "                var nbb_formatted_code = \"print(dfss.columns)\";\n",
       "                var nbb_cells = Jupyter.notebook.get_cells();\n",
       "                for (var i = 0; i < nbb_cells.length; ++i) {\n",
       "                    if (nbb_cells[i].input_prompt_number == nbb_cell_id) {\n",
       "                        if (nbb_cells[i].get_text() == nbb_unformatted_code) {\n",
       "                             nbb_cells[i].set_text(nbb_formatted_code);\n",
       "                        }\n",
       "                        break;\n",
       "                    }\n",
       "                }\n",
       "            }, 500);\n",
       "            "
      ],
      "text/plain": [
       "<IPython.core.display.Javascript object>"
      ]
     },
     "metadata": {},
     "output_type": "display_data"
    }
   ],
   "source": [
    "print(dfss.columns)"
   ]
  },
  {
   "cell_type": "markdown",
   "metadata": {},
   "source": [
    "### Modeling "
   ]
  },
  {
   "cell_type": "code",
   "execution_count": 24,
   "metadata": {},
   "outputs": [
    {
     "data": {
      "application/javascript": [
       "\n",
       "            setTimeout(function() {\n",
       "                var nbb_cell_id = 24;\n",
       "                var nbb_unformatted_code = \"X = dfss.drop(\\n    columns=[\\n        \\\"is_over\\\",\\n        \\\"schedule_season\\\",\\n        \\\"over_under_line\\\",\\n        \\\"total_pts\\\",\\n        \\\"home_favorite\\\",\\n        \\\"away_favorite\\\",\\n    ]\\n)\\ny = dfss[\\\"is_over\\\"]\\n\\nX_train, X_test, y_train, y_test = train_test_split(\\n    X, y, test_size=0.2, random_state=42\\n)\";\n",
       "                var nbb_formatted_code = \"X = dfss.drop(\\n    columns=[\\n        \\\"is_over\\\",\\n        \\\"schedule_season\\\",\\n        \\\"over_under_line\\\",\\n        \\\"total_pts\\\",\\n        \\\"home_favorite\\\",\\n        \\\"away_favorite\\\",\\n    ]\\n)\\ny = dfss[\\\"is_over\\\"]\\n\\nX_train, X_test, y_train, y_test = train_test_split(\\n    X, y, test_size=0.2, random_state=42\\n)\";\n",
       "                var nbb_cells = Jupyter.notebook.get_cells();\n",
       "                for (var i = 0; i < nbb_cells.length; ++i) {\n",
       "                    if (nbb_cells[i].input_prompt_number == nbb_cell_id) {\n",
       "                        if (nbb_cells[i].get_text() == nbb_unformatted_code) {\n",
       "                             nbb_cells[i].set_text(nbb_formatted_code);\n",
       "                        }\n",
       "                        break;\n",
       "                    }\n",
       "                }\n",
       "            }, 500);\n",
       "            "
      ],
      "text/plain": [
       "<IPython.core.display.Javascript object>"
      ]
     },
     "metadata": {},
     "output_type": "display_data"
    }
   ],
   "source": [
    "X = dfss.drop(\n",
    "    columns=[\n",
    "        \"is_over\",\n",
    "        \"schedule_season\",\n",
    "        \"over_under_line\",\n",
    "        \"total_pts\",\n",
    "        \"home_favorite\",\n",
    "        \"away_favorite\",\n",
    "    ]\n",
    ")\n",
    "y = dfss[\"is_over\"]\n",
    "\n",
    "X_train, X_test, y_train, y_test = train_test_split(\n",
    "    X, y, test_size=0.2, random_state=42\n",
    ")"
   ]
  },
  {
   "cell_type": "code",
   "execution_count": 25,
   "metadata": {},
   "outputs": [
    {
     "data": {
      "application/javascript": [
       "\n",
       "            setTimeout(function() {\n",
       "                var nbb_cell_id = 25;\n",
       "                var nbb_unformatted_code = \"bin_cols = [\\\"is_over\\\"]  # \\\"home_favorite\\\", \\\"away_favorite\\\"#\\nnum_cols = [\\n    \\\"score_home\\\",\\n    \\\"score_away\\\",\\n    \\\"spread_favorite\\\",\\n    # \\\"over_under_line\\\",\\n    # \\\"total_pts\\\",\\n]\\ncat_cols = [\\n    \\\"schedule_week\\\",\\n    \\\"team_home\\\",\\n    \\\"team_favorite_id\\\",\\n    \\\"team_away\\\",\\n]\\n\\nprep = ColumnTransformer(\\n    [\\n        (\\\"leave_one\\\", LeaveOneOutEncoder(), cat_cols),\\n    ],\\n    remainder=\\\"passthrough\\\",\\n)\";\n",
       "                var nbb_formatted_code = \"bin_cols = [\\\"is_over\\\"]  # \\\"home_favorite\\\", \\\"away_favorite\\\"#\\nnum_cols = [\\n    \\\"score_home\\\",\\n    \\\"score_away\\\",\\n    \\\"spread_favorite\\\",\\n    # \\\"over_under_line\\\",\\n    # \\\"total_pts\\\",\\n]\\ncat_cols = [\\n    \\\"schedule_week\\\",\\n    \\\"team_home\\\",\\n    \\\"team_favorite_id\\\",\\n    \\\"team_away\\\",\\n]\\n\\nprep = ColumnTransformer(\\n    [\\n        (\\\"leave_one\\\", LeaveOneOutEncoder(), cat_cols),\\n    ],\\n    remainder=\\\"passthrough\\\",\\n)\";\n",
       "                var nbb_cells = Jupyter.notebook.get_cells();\n",
       "                for (var i = 0; i < nbb_cells.length; ++i) {\n",
       "                    if (nbb_cells[i].input_prompt_number == nbb_cell_id) {\n",
       "                        if (nbb_cells[i].get_text() == nbb_unformatted_code) {\n",
       "                             nbb_cells[i].set_text(nbb_formatted_code);\n",
       "                        }\n",
       "                        break;\n",
       "                    }\n",
       "                }\n",
       "            }, 500);\n",
       "            "
      ],
      "text/plain": [
       "<IPython.core.display.Javascript object>"
      ]
     },
     "metadata": {},
     "output_type": "display_data"
    }
   ],
   "source": [
    "bin_cols = [\"is_over\"]  # \"home_favorite\", \"away_favorite\"#\n",
    "num_cols = [\n",
    "    \"score_home\",\n",
    "    \"score_away\",\n",
    "    \"spread_favorite\",\n",
    "    # \"over_under_line\",\n",
    "    # \"total_pts\",\n",
    "]\n",
    "cat_cols = [\n",
    "    \"schedule_week\",\n",
    "    \"team_home\",\n",
    "    \"team_favorite_id\",\n",
    "    \"team_away\",\n",
    "]\n",
    "\n",
    "prep = ColumnTransformer(\n",
    "    [\n",
    "        (\"leave_one\", LeaveOneOutEncoder(), cat_cols),\n",
    "    ],\n",
    "    remainder=\"passthrough\",\n",
    ")"
   ]
  },
  {
   "cell_type": "code",
   "execution_count": 37,
   "metadata": {},
   "outputs": [
    {
     "name": "stdout",
     "output_type": "stream",
     "text": [
      "VIF results\n",
      "-------------------------------\n",
      "const               407.448782\n",
      "schedule_week         1.002720\n",
      "team_home             1.255179\n",
      "score_home            1.264945\n",
      "score_away            1.011093\n",
      "team_away             1.022609\n",
      "team_favorite_id      1.016258\n",
      "spread_favorite       1.040043\n",
      "dtype: float64\n",
      "-------------------------------\n",
      "\n"
     ]
    },
    {
     "data": {
      "application/javascript": [
       "\n",
       "            setTimeout(function() {\n",
       "                var nbb_cell_id = 37;\n",
       "                var nbb_unformatted_code = \" transformed = prep.fit_transform(X_train, y_train)\\n# ToDO get printVIF and run it.\\n type(transformed)\\n# ToD0, create dataframe with transformed.\\n transformed = pd.DataFrame(transformed, columns=X_train.columns)\\n print_vif(transformed)\";\n",
       "                var nbb_formatted_code = \"transformed = prep.fit_transform(X_train, y_train)\\n# ToDO get printVIF and run it.\\ntype(transformed)\\n# ToD0, create dataframe with transformed.\\ntransformed = pd.DataFrame(transformed, columns=X_train.columns)\\nprint_vif(transformed)\";\n",
       "                var nbb_cells = Jupyter.notebook.get_cells();\n",
       "                for (var i = 0; i < nbb_cells.length; ++i) {\n",
       "                    if (nbb_cells[i].input_prompt_number == nbb_cell_id) {\n",
       "                        if (nbb_cells[i].get_text() == nbb_unformatted_code) {\n",
       "                             nbb_cells[i].set_text(nbb_formatted_code);\n",
       "                        }\n",
       "                        break;\n",
       "                    }\n",
       "                }\n",
       "            }, 500);\n",
       "            "
      ],
      "text/plain": [
       "<IPython.core.display.Javascript object>"
      ]
     },
     "metadata": {},
     "output_type": "display_data"
    }
   ],
   "source": [
    "transformed = prep.fit_transform(X_train, y_train)\n",
    "# ToDO get printVIF and run it.\n",
    "type(transformed)\n",
    "# ToD0, create dataframe with transformed.\n",
    "transformed = pd.DataFrame(transformed, columns=X_train.columns)\n",
    "print_vif(transformed)"
   ]
  },
  {
   "cell_type": "code",
   "execution_count": 27,
   "metadata": {},
   "outputs": [
    {
     "data": {
      "application/javascript": [
       "\n",
       "            setTimeout(function() {\n",
       "                var nbb_cell_id = 27;\n",
       "                var nbb_unformatted_code = \"# Try SVC\\npipe = Pipeline([(\\\"prep\\\", prep), (\\\"svc\\\", SVC())])\\n\\ngrid = {\\n    \\\"svc__kernel\\\": [\\\"linear\\\", \\\"poly\\\", \\\"rbf\\\"],\\n    \\\"svc__degree\\\": [2, 3, 4],\\n    \\\"svc__C\\\": [0.001, 0.01, 0.1, 1],\\n}\\n\\npipe_cv = GridSearchCV(pipe, grid, cv=2, n_jobs=-1)\";\n",
       "                var nbb_formatted_code = \"# Try SVC\\npipe = Pipeline([(\\\"prep\\\", prep), (\\\"svc\\\", SVC())])\\n\\ngrid = {\\n    \\\"svc__kernel\\\": [\\\"linear\\\", \\\"poly\\\", \\\"rbf\\\"],\\n    \\\"svc__degree\\\": [2, 3, 4],\\n    \\\"svc__C\\\": [0.001, 0.01, 0.1, 1],\\n}\\n\\npipe_cv = GridSearchCV(pipe, grid, cv=2, n_jobs=-1)\";\n",
       "                var nbb_cells = Jupyter.notebook.get_cells();\n",
       "                for (var i = 0; i < nbb_cells.length; ++i) {\n",
       "                    if (nbb_cells[i].input_prompt_number == nbb_cell_id) {\n",
       "                        if (nbb_cells[i].get_text() == nbb_unformatted_code) {\n",
       "                             nbb_cells[i].set_text(nbb_formatted_code);\n",
       "                        }\n",
       "                        break;\n",
       "                    }\n",
       "                }\n",
       "            }, 500);\n",
       "            "
      ],
      "text/plain": [
       "<IPython.core.display.Javascript object>"
      ]
     },
     "metadata": {},
     "output_type": "display_data"
    }
   ],
   "source": [
    "# Try SVC\n",
    "pipe = Pipeline([(\"prep\", prep), (\"svc\", SVC())])\n",
    "\n",
    "grid = {\n",
    "    \"svc__kernel\": [\"linear\", \"poly\", \"rbf\"],\n",
    "    \"svc__degree\": [2, 3, 4],\n",
    "    \"svc__C\": [0.001, 0.01, 0.1, 1],\n",
    "}\n",
    "\n",
    "pipe_cv = GridSearchCV(pipe, grid, cv=2, n_jobs=-1)"
   ]
  },
  {
   "cell_type": "markdown",
   "metadata": {},
   "source": [
    "### Fit and Eval"
   ]
  },
  {
   "cell_type": "code",
   "execution_count": 28,
   "metadata": {},
   "outputs": [
    {
     "name": "stdout",
     "output_type": "stream",
     "text": [
      "Best params:\n",
      "{'svc__C': 0.001, 'svc__degree': 2, 'svc__kernel': 'linear'}\n",
      "\n",
      "train score: 0.891\n",
      "test score: 0.886\n",
      "\n",
      "[[719  78]\n",
      " [ 93 609]]\n",
      "              precision    recall  f1-score   support\n",
      "\n",
      "         0.0       0.89      0.90      0.89       797\n",
      "         1.0       0.89      0.87      0.88       702\n",
      "\n",
      "    accuracy                           0.89      1499\n",
      "   macro avg       0.89      0.88      0.89      1499\n",
      "weighted avg       0.89      0.89      0.89      1499\n",
      "\n"
     ]
    },
    {
     "data": {
      "application/javascript": [
       "\n",
       "            setTimeout(function() {\n",
       "                var nbb_cell_id = 28;\n",
       "                var nbb_unformatted_code = \"pipe_cv.fit(X_train, y_train)\\n\\nprint(\\\"Best params:\\\")\\nprint(pipe_cv.best_params_)\\n\\nprint(f\\\"\\\\ntrain score: {pipe_cv.score(X_train,y_train):.3f}\\\")\\nprint(f\\\"test score: {pipe_cv.score(X_test, y_test):.3f}\\\\n\\\")\\n\\ny_pred = pipe_cv.predict(X_test)\\nprint(confusion_matrix(y_test, y_pred))\\nprint(classification_report(y_test, y_pred))\";\n",
       "                var nbb_formatted_code = \"pipe_cv.fit(X_train, y_train)\\n\\nprint(\\\"Best params:\\\")\\nprint(pipe_cv.best_params_)\\n\\nprint(f\\\"\\\\ntrain score: {pipe_cv.score(X_train,y_train):.3f}\\\")\\nprint(f\\\"test score: {pipe_cv.score(X_test, y_test):.3f}\\\\n\\\")\\n\\ny_pred = pipe_cv.predict(X_test)\\nprint(confusion_matrix(y_test, y_pred))\\nprint(classification_report(y_test, y_pred))\";\n",
       "                var nbb_cells = Jupyter.notebook.get_cells();\n",
       "                for (var i = 0; i < nbb_cells.length; ++i) {\n",
       "                    if (nbb_cells[i].input_prompt_number == nbb_cell_id) {\n",
       "                        if (nbb_cells[i].get_text() == nbb_unformatted_code) {\n",
       "                             nbb_cells[i].set_text(nbb_formatted_code);\n",
       "                        }\n",
       "                        break;\n",
       "                    }\n",
       "                }\n",
       "            }, 500);\n",
       "            "
      ],
      "text/plain": [
       "<IPython.core.display.Javascript object>"
      ]
     },
     "metadata": {},
     "output_type": "display_data"
    }
   ],
   "source": [
    "pipe_cv.fit(X_train, y_train)\n",
    "\n",
    "print(\"Best params:\")\n",
    "print(pipe_cv.best_params_)\n",
    "\n",
    "print(f\"\\ntrain score: {pipe_cv.score(X_train,y_train):.3f}\")\n",
    "print(f\"test score: {pipe_cv.score(X_test, y_test):.3f}\\n\")\n",
    "\n",
    "y_pred = pipe_cv.predict(X_test)\n",
    "print(confusion_matrix(y_test, y_pred))\n",
    "print(classification_report(y_test, y_pred))"
   ]
  },
  {
   "cell_type": "markdown",
   "metadata": {},
   "source": [
    "### Feature Importance "
   ]
  },
  {
   "cell_type": "code",
   "execution_count": 29,
   "metadata": {},
   "outputs": [
    {
     "data": {
      "application/javascript": [
       "\n",
       "            setTimeout(function() {\n",
       "                var nbb_cell_id = 29;\n",
       "                var nbb_unformatted_code = \"# Turn back on if switches back to linear\\n# coef = pipe_cv.best_estimator_[\\\"svc\\\"].coef_[0]\\n# im_df = pd.DataFrame({\\\"feature\\\": X_train.columns, \\\"coef_sq\\\": coef ** 2})\\n# im_df.sort_values(\\\"coef_sq\\\", ascending=False)\";\n",
       "                var nbb_formatted_code = \"# Turn back on if switches back to linear\\n# coef = pipe_cv.best_estimator_[\\\"svc\\\"].coef_[0]\\n# im_df = pd.DataFrame({\\\"feature\\\": X_train.columns, \\\"coef_sq\\\": coef ** 2})\\n# im_df.sort_values(\\\"coef_sq\\\", ascending=False)\";\n",
       "                var nbb_cells = Jupyter.notebook.get_cells();\n",
       "                for (var i = 0; i < nbb_cells.length; ++i) {\n",
       "                    if (nbb_cells[i].input_prompt_number == nbb_cell_id) {\n",
       "                        if (nbb_cells[i].get_text() == nbb_unformatted_code) {\n",
       "                             nbb_cells[i].set_text(nbb_formatted_code);\n",
       "                        }\n",
       "                        break;\n",
       "                    }\n",
       "                }\n",
       "            }, 500);\n",
       "            "
      ],
      "text/plain": [
       "<IPython.core.display.Javascript object>"
      ]
     },
     "metadata": {},
     "output_type": "display_data"
    }
   ],
   "source": [
    "# Turn back on if switches back to linear\n",
    "# coef = pipe_cv.best_estimator_[\"svc\"].coef_[0]\n",
    "# im_df = pd.DataFrame({\"feature\": X_train.columns, \"coef_sq\": coef ** 2})\n",
    "# im_df.sort_values(\"coef_sq\", ascending=False)"
   ]
  },
  {
   "cell_type": "markdown",
   "metadata": {},
   "source": [
    "### Error Analysis"
   ]
  },
  {
   "cell_type": "code",
   "execution_count": 30,
   "metadata": {},
   "outputs": [
    {
     "name": "stdout",
     "output_type": "stream",
     "text": [
      "mean prob of over for errors: 0.543859649122807\n"
     ]
    },
    {
     "data": {
      "application/javascript": [
       "\n",
       "            setTimeout(function() {\n",
       "                var nbb_cell_id = 30;\n",
       "                var nbb_unformatted_code = \"errors = dfscore_copy.copy()\\nerrors = errors.loc[y_test.index]\\n\\nerrors[\\\"y_true\\\"] = y_test\\nerrors[\\\"y_pred\\\"] = y_pred\\n\\nerrors = errors[errors[\\\"y_true\\\"] != errors[\\\"y_pred\\\"]]\\n\\nprint(f'mean prob of over for errors: {errors[\\\"is_over\\\"].mean()}')\\n\\n\\n# sns.swarmplot(y=errors[\\\"is_over\\\"])\\n# plt.show()\\n# TODO predict_proba_\";\n",
       "                var nbb_formatted_code = \"errors = dfscore_copy.copy()\\nerrors = errors.loc[y_test.index]\\n\\nerrors[\\\"y_true\\\"] = y_test\\nerrors[\\\"y_pred\\\"] = y_pred\\n\\nerrors = errors[errors[\\\"y_true\\\"] != errors[\\\"y_pred\\\"]]\\n\\nprint(f'mean prob of over for errors: {errors[\\\"is_over\\\"].mean()}')\\n\\n\\n# sns.swarmplot(y=errors[\\\"is_over\\\"])\\n# plt.show()\\n# TODO predict_proba_\";\n",
       "                var nbb_cells = Jupyter.notebook.get_cells();\n",
       "                for (var i = 0; i < nbb_cells.length; ++i) {\n",
       "                    if (nbb_cells[i].input_prompt_number == nbb_cell_id) {\n",
       "                        if (nbb_cells[i].get_text() == nbb_unformatted_code) {\n",
       "                             nbb_cells[i].set_text(nbb_formatted_code);\n",
       "                        }\n",
       "                        break;\n",
       "                    }\n",
       "                }\n",
       "            }, 500);\n",
       "            "
      ],
      "text/plain": [
       "<IPython.core.display.Javascript object>"
      ]
     },
     "metadata": {},
     "output_type": "display_data"
    }
   ],
   "source": [
    "errors = dfscore_copy.copy()\n",
    "errors = errors.loc[y_test.index]\n",
    "\n",
    "errors[\"y_true\"] = y_test\n",
    "errors[\"y_pred\"] = y_pred\n",
    "\n",
    "errors = errors[errors[\"y_true\"] != errors[\"y_pred\"]]\n",
    "\n",
    "print(f'mean prob of over for errors: {errors[\"is_over\"].mean()}')\n",
    "\n",
    "\n",
    "# sns.swarmplot(y=errors[\"is_over\"])\n",
    "# plt.show()\n",
    "# TODO predict_proba_"
   ]
  },
  {
   "cell_type": "markdown",
   "metadata": {},
   "source": [
    "### Try XGBoost"
   ]
  },
  {
   "cell_type": "code",
   "execution_count": 31,
   "metadata": {},
   "outputs": [
    {
     "data": {
      "application/javascript": [
       "\n",
       "            setTimeout(function() {\n",
       "                var nbb_cell_id = 31;\n",
       "                var nbb_unformatted_code = \"n_trees = 100\\n# learning_rate = ([0.0001, 0.001, 0.01, 0.1, 0.2, 0.3],)\\n\\nx_pipe = Pipeline(\\n    [\\n        (\\\"prep\\\", prep),\\n        (\\\"xgb\\\", XGBClassifier(n_estimators=n_trees, learning_rate=0.01 / n_trees)),\\n    ]\\n)\\n\\nx_grid = {\\n    \\\"xgb__subsample\\\": [0.5, 0.75, 1],\\n    \\\"xgb__colsample_bytree\\\": [0.5, 0.75, 1],\\n    \\\"xgb__max_depth\\\": [2, 3, 4, 5],\\n}\\n\\nx_pipe_cv = GridSearchCV(x_pipe, x_grid, cv=2, n_jobs=-1)\";\n",
       "                var nbb_formatted_code = \"n_trees = 100\\n# learning_rate = ([0.0001, 0.001, 0.01, 0.1, 0.2, 0.3],)\\n\\nx_pipe = Pipeline(\\n    [\\n        (\\\"prep\\\", prep),\\n        (\\\"xgb\\\", XGBClassifier(n_estimators=n_trees, learning_rate=0.01 / n_trees)),\\n    ]\\n)\\n\\nx_grid = {\\n    \\\"xgb__subsample\\\": [0.5, 0.75, 1],\\n    \\\"xgb__colsample_bytree\\\": [0.5, 0.75, 1],\\n    \\\"xgb__max_depth\\\": [2, 3, 4, 5],\\n}\\n\\nx_pipe_cv = GridSearchCV(x_pipe, x_grid, cv=2, n_jobs=-1)\";\n",
       "                var nbb_cells = Jupyter.notebook.get_cells();\n",
       "                for (var i = 0; i < nbb_cells.length; ++i) {\n",
       "                    if (nbb_cells[i].input_prompt_number == nbb_cell_id) {\n",
       "                        if (nbb_cells[i].get_text() == nbb_unformatted_code) {\n",
       "                             nbb_cells[i].set_text(nbb_formatted_code);\n",
       "                        }\n",
       "                        break;\n",
       "                    }\n",
       "                }\n",
       "            }, 500);\n",
       "            "
      ],
      "text/plain": [
       "<IPython.core.display.Javascript object>"
      ]
     },
     "metadata": {},
     "output_type": "display_data"
    }
   ],
   "source": [
    "n_trees = 100\n",
    "# learning_rate = ([0.0001, 0.001, 0.01, 0.1, 0.2, 0.3],)\n",
    "\n",
    "x_pipe = Pipeline(\n",
    "    [\n",
    "        (\"prep\", prep),\n",
    "        (\"xgb\", XGBClassifier(n_estimators=n_trees, learning_rate=0.01 / n_trees)),\n",
    "    ]\n",
    ")\n",
    "\n",
    "x_grid = {\n",
    "    \"xgb__subsample\": [0.5, 0.75, 1],\n",
    "    \"xgb__colsample_bytree\": [0.5, 0.75, 1],\n",
    "    \"xgb__max_depth\": [2, 3, 4, 5],\n",
    "}\n",
    "\n",
    "x_pipe_cv = GridSearchCV(x_pipe, x_grid, cv=2, n_jobs=-1)"
   ]
  },
  {
   "cell_type": "code",
   "execution_count": 32,
   "metadata": {},
   "outputs": [
    {
     "name": "stderr",
     "output_type": "stream",
     "text": [
      "/Users/JasonB/opt/anaconda3/lib/python3.8/site-packages/xgboost/sklearn.py:888: UserWarning: The use of label encoder in XGBClassifier is deprecated and will be removed in a future release. To remove this warning, do the following: 1) Pass option use_label_encoder=False when constructing XGBClassifier object; and 2) Encode your labels (y) as integers starting with 0, i.e. 0, 1, 2, ..., [num_class - 1].\n",
      "  warnings.warn(label_encoder_deprecation_msg, UserWarning)\n"
     ]
    },
    {
     "name": "stdout",
     "output_type": "stream",
     "text": [
      "[12:32:23] WARNING: /Users/travis/build/dmlc/xgboost/src/learner.cc:1061: Starting in XGBoost 1.3.0, the default evaluation metric used with the objective 'binary:logistic' was changed from 'error' to 'logloss'. Explicitly set eval_metric if you'd like to restore the old behavior.\n",
      "Best params:\n",
      "{'xgb__colsample_bytree': 1, 'xgb__max_depth': 4, 'xgb__subsample': 0.5}\n",
      "\n",
      "train score: 0.893\n",
      "test score: 0.875\n",
      "\n",
      "[[706  91]\n",
      " [ 96 606]]\n",
      "              precision    recall  f1-score   support\n",
      "\n",
      "         0.0       0.88      0.89      0.88       797\n",
      "         1.0       0.87      0.86      0.87       702\n",
      "\n",
      "    accuracy                           0.88      1499\n",
      "   macro avg       0.87      0.87      0.87      1499\n",
      "weighted avg       0.88      0.88      0.88      1499\n",
      "\n"
     ]
    },
    {
     "data": {
      "application/javascript": [
       "\n",
       "            setTimeout(function() {\n",
       "                var nbb_cell_id = 32;\n",
       "                var nbb_unformatted_code = \"x_pipe_cv.fit(X_train, y_train)\\n\\nprint(\\\"Best params:\\\")\\nprint(x_pipe_cv.best_params_)\\n\\nprint(f\\\"\\\\ntrain score: {x_pipe_cv.score(X_train, y_train):.3f}\\\")\\nprint(f\\\"test score: {x_pipe_cv.score(X_test, y_test):.3f}\\\\n\\\")\\n\\ny_predx = x_pipe_cv.predict(X_test)\\nprint(confusion_matrix(y_test, y_predx))\\nprint(classification_report(y_test, y_predx))\";\n",
       "                var nbb_formatted_code = \"x_pipe_cv.fit(X_train, y_train)\\n\\nprint(\\\"Best params:\\\")\\nprint(x_pipe_cv.best_params_)\\n\\nprint(f\\\"\\\\ntrain score: {x_pipe_cv.score(X_train, y_train):.3f}\\\")\\nprint(f\\\"test score: {x_pipe_cv.score(X_test, y_test):.3f}\\\\n\\\")\\n\\ny_predx = x_pipe_cv.predict(X_test)\\nprint(confusion_matrix(y_test, y_predx))\\nprint(classification_report(y_test, y_predx))\";\n",
       "                var nbb_cells = Jupyter.notebook.get_cells();\n",
       "                for (var i = 0; i < nbb_cells.length; ++i) {\n",
       "                    if (nbb_cells[i].input_prompt_number == nbb_cell_id) {\n",
       "                        if (nbb_cells[i].get_text() == nbb_unformatted_code) {\n",
       "                             nbb_cells[i].set_text(nbb_formatted_code);\n",
       "                        }\n",
       "                        break;\n",
       "                    }\n",
       "                }\n",
       "            }, 500);\n",
       "            "
      ],
      "text/plain": [
       "<IPython.core.display.Javascript object>"
      ]
     },
     "metadata": {},
     "output_type": "display_data"
    }
   ],
   "source": [
    "x_pipe_cv.fit(X_train, y_train)\n",
    "\n",
    "print(\"Best params:\")\n",
    "print(x_pipe_cv.best_params_)\n",
    "\n",
    "print(f\"\\ntrain score: {x_pipe_cv.score(X_train, y_train):.3f}\")\n",
    "print(f\"test score: {x_pipe_cv.score(X_test, y_test):.3f}\\n\")\n",
    "\n",
    "y_predx = x_pipe_cv.predict(X_test)\n",
    "print(confusion_matrix(y_test, y_predx))\n",
    "print(classification_report(y_test, y_predx))"
   ]
  },
  {
   "cell_type": "code",
   "execution_count": 33,
   "metadata": {},
   "outputs": [
    {
     "data": {
      "text/html": [
       "<div>\n",
       "<style scoped>\n",
       "    .dataframe tbody tr th:only-of-type {\n",
       "        vertical-align: middle;\n",
       "    }\n",
       "\n",
       "    .dataframe tbody tr th {\n",
       "        vertical-align: top;\n",
       "    }\n",
       "\n",
       "    .dataframe thead th {\n",
       "        text-align: right;\n",
       "    }\n",
       "</style>\n",
       "<table border=\"1\" class=\"dataframe\">\n",
       "  <thead>\n",
       "    <tr style=\"text-align: right;\">\n",
       "      <th></th>\n",
       "      <th>features</th>\n",
       "      <th>importance</th>\n",
       "    </tr>\n",
       "  </thead>\n",
       "  <tbody>\n",
       "    <tr>\n",
       "      <th>4</th>\n",
       "      <td>team_away</td>\n",
       "      <td>0.493233</td>\n",
       "    </tr>\n",
       "    <tr>\n",
       "      <th>5</th>\n",
       "      <td>team_favorite_id</td>\n",
       "      <td>0.403906</td>\n",
       "    </tr>\n",
       "    <tr>\n",
       "      <th>3</th>\n",
       "      <td>score_away</td>\n",
       "      <td>0.049657</td>\n",
       "    </tr>\n",
       "    <tr>\n",
       "      <th>1</th>\n",
       "      <td>team_home</td>\n",
       "      <td>0.047155</td>\n",
       "    </tr>\n",
       "    <tr>\n",
       "      <th>2</th>\n",
       "      <td>score_home</td>\n",
       "      <td>0.006049</td>\n",
       "    </tr>\n",
       "    <tr>\n",
       "      <th>0</th>\n",
       "      <td>schedule_week</td>\n",
       "      <td>0.000000</td>\n",
       "    </tr>\n",
       "    <tr>\n",
       "      <th>6</th>\n",
       "      <td>spread_favorite</td>\n",
       "      <td>0.000000</td>\n",
       "    </tr>\n",
       "  </tbody>\n",
       "</table>\n",
       "</div>"
      ],
      "text/plain": [
       "           features  importance\n",
       "4         team_away    0.493233\n",
       "5  team_favorite_id    0.403906\n",
       "3        score_away    0.049657\n",
       "1         team_home    0.047155\n",
       "2        score_home    0.006049\n",
       "0     schedule_week    0.000000\n",
       "6   spread_favorite    0.000000"
      ]
     },
     "execution_count": 33,
     "metadata": {},
     "output_type": "execute_result"
    },
    {
     "data": {
      "application/javascript": [
       "\n",
       "            setTimeout(function() {\n",
       "                var nbb_cell_id = 33;\n",
       "                var nbb_unformatted_code = \"importances = x_pipe_cv.best_estimator_[\\\"xgb\\\"].feature_importances_\\nim_df = pd.DataFrame({\\\"features\\\": X_train.columns, \\\"importance\\\": importances})\\nim_df.sort_values(\\\"importance\\\", ascending=False)\";\n",
       "                var nbb_formatted_code = \"importances = x_pipe_cv.best_estimator_[\\\"xgb\\\"].feature_importances_\\nim_df = pd.DataFrame({\\\"features\\\": X_train.columns, \\\"importance\\\": importances})\\nim_df.sort_values(\\\"importance\\\", ascending=False)\";\n",
       "                var nbb_cells = Jupyter.notebook.get_cells();\n",
       "                for (var i = 0; i < nbb_cells.length; ++i) {\n",
       "                    if (nbb_cells[i].input_prompt_number == nbb_cell_id) {\n",
       "                        if (nbb_cells[i].get_text() == nbb_unformatted_code) {\n",
       "                             nbb_cells[i].set_text(nbb_formatted_code);\n",
       "                        }\n",
       "                        break;\n",
       "                    }\n",
       "                }\n",
       "            }, 500);\n",
       "            "
      ],
      "text/plain": [
       "<IPython.core.display.Javascript object>"
      ]
     },
     "metadata": {},
     "output_type": "display_data"
    }
   ],
   "source": [
    "importances = x_pipe_cv.best_estimator_[\"xgb\"].feature_importances_\n",
    "im_df = pd.DataFrame({\"features\": X_train.columns, \"importance\": importances})\n",
    "im_df.sort_values(\"importance\", ascending=False)"
   ]
  },
  {
   "cell_type": "code",
   "execution_count": 34,
   "metadata": {},
   "outputs": [
    {
     "name": "stdout",
     "output_type": "stream",
     "text": [
      "mean prob of over for errors: 0.5133689839572193\n"
     ]
    },
    {
     "data": {
      "image/png": "[encoded data removed]",
      "text/plain": [
       "<Figure size 432x288 with 1 Axes>"
      ]
     },
     "metadata": {
      "needs_background": "light"
     },
     "output_type": "display_data"
    },
    {
     "data": {
      "application/javascript": [
       "\n",
       "            setTimeout(function() {\n",
       "                var nbb_cell_id = 34;\n",
       "                var nbb_unformatted_code = \"errors = dfscore_copy.copy()\\nerrors = errors.loc[y_test.index]\\n\\nerrors[\\\"y_true\\\"] = y_test\\nerrors[\\\"y_pred\\\"] = y_predx\\n\\nerrors = errors[errors[\\\"y_true\\\"] != errors[\\\"y_pred\\\"]]\\n\\nprint(f'mean prob of over for errors: {errors[\\\"is_over\\\"].mean()}')\\n\\n\\nsns.swarmplot(y=errors[\\\"is_over\\\"])\\nplt.show()\";\n",
       "                var nbb_formatted_code = \"errors = dfscore_copy.copy()\\nerrors = errors.loc[y_test.index]\\n\\nerrors[\\\"y_true\\\"] = y_test\\nerrors[\\\"y_pred\\\"] = y_predx\\n\\nerrors = errors[errors[\\\"y_true\\\"] != errors[\\\"y_pred\\\"]]\\n\\nprint(f'mean prob of over for errors: {errors[\\\"is_over\\\"].mean()}')\\n\\n\\nsns.swarmplot(y=errors[\\\"is_over\\\"])\\nplt.show()\";\n",
       "                var nbb_cells = Jupyter.notebook.get_cells();\n",
       "                for (var i = 0; i < nbb_cells.length; ++i) {\n",
       "                    if (nbb_cells[i].input_prompt_number == nbb_cell_id) {\n",
       "                        if (nbb_cells[i].get_text() == nbb_unformatted_code) {\n",
       "                             nbb_cells[i].set_text(nbb_formatted_code);\n",
       "                        }\n",
       "                        break;\n",
       "                    }\n",
       "                }\n",
       "            }, 500);\n",
       "            "
      ],
      "text/plain": [
       "<IPython.core.display.Javascript object>"
      ]
     },
     "metadata": {},
     "output_type": "display_data"
    }
   ],
   "source": [
    "errors = dfscore_copy.copy()\n",
    "errors = errors.loc[y_test.index]\n",
    "\n",
    "errors[\"y_true\"] = y_test\n",
    "errors[\"y_pred\"] = y_predx\n",
    "\n",
    "errors = errors[errors[\"y_true\"] != errors[\"y_pred\"]]\n",
    "\n",
    "print(f'mean prob of over for errors: {errors[\"is_over\"].mean()}')\n",
    "\n",
    "\n",
    "sns.swarmplot(y=errors[\"is_over\"])\n",
    "plt.show()"
   ]
  },
  {
   "cell_type": "code",
   "execution_count": null,
   "metadata": {},
   "outputs": [],
   "source": []
  },
  {
   "cell_type": "code",
   "execution_count": null,
   "metadata": {},
   "outputs": [],
   "source": []
  },
  {
   "cell_type": "code",
   "execution_count": null,
   "metadata": {},
   "outputs": [],
   "source": []
  },
  {
   "cell_type": "code",
   "execution_count": null,
   "metadata": {},
   "outputs": [],
   "source": []
  },
  {
   "cell_type": "code",
   "execution_count": null,
   "metadata": {},
   "outputs": [],
   "source": []
  },
  {
   "cell_type": "code",
   "execution_count": null,
   "metadata": {},
   "outputs": [],
   "source": []
  },
  {
   "cell_type": "code",
   "execution_count": null,
   "metadata": {},
   "outputs": [],
   "source": []
  },
  {
   "cell_type": "code",
   "execution_count": null,
   "metadata": {},
   "outputs": [],
   "source": []
  },
  {
   "cell_type": "code",
   "execution_count": 35,
   "metadata": {},
   "outputs": [
    {
     "data": {
      "application/javascript": [
       "\n",
       "            setTimeout(function() {\n",
       "                var nbb_cell_id = 35;\n",
       "                var nbb_unformatted_code = \"# for column_name in ['schedule_week', 'over_under_line']:\\n#    print(\\\"These are the problematic values for the variable: {}\\\".format(column_name))\\n#    for value in dfscore[column_name]:\\n#        try:\\n#            float(value)\\n#        except:\\n#            print(value)\";\n",
       "                var nbb_formatted_code = \"# for column_name in ['schedule_week', 'over_under_line']:\\n#    print(\\\"These are the problematic values for the variable: {}\\\".format(column_name))\\n#    for value in dfscore[column_name]:\\n#        try:\\n#            float(value)\\n#        except:\\n#            print(value)\";\n",
       "                var nbb_cells = Jupyter.notebook.get_cells();\n",
       "                for (var i = 0; i < nbb_cells.length; ++i) {\n",
       "                    if (nbb_cells[i].input_prompt_number == nbb_cell_id) {\n",
       "                        if (nbb_cells[i].get_text() == nbb_unformatted_code) {\n",
       "                             nbb_cells[i].set_text(nbb_formatted_code);\n",
       "                        }\n",
       "                        break;\n",
       "                    }\n",
       "                }\n",
       "            }, 500);\n",
       "            "
      ],
      "text/plain": [
       "<IPython.core.display.Javascript object>"
      ]
     },
     "metadata": {},
     "output_type": "display_data"
    }
   ],
   "source": [
    "# for column_name in ['schedule_week', 'over_under_line']:\n",
    "#    print(\"These are the problematic values for the variable: {}\".format(column_name))\n",
    "#    for value in dfscore[column_name]:\n",
    "#        try:\n",
    "#            float(value)\n",
    "#        except:\n",
    "#            print(value)"
   ]
  },
  {
   "cell_type": "code",
   "execution_count": 36,
   "metadata": {},
   "outputs": [
    {
     "data": {
      "application/javascript": [
       "\n",
       "            setTimeout(function() {\n",
       "                var nbb_cell_id = 36;\n",
       "                var nbb_unformatted_code = \"#pd.merge(sinfo_df[['Symbol', 'Sector', 'Industry', 'MarketCap']], snews_df[['Symbol', 'Sector', 'Industry']], on= ['Symbol', 'Sector', 'Industry'], how= 'outer')\\n\\n# use concat when scraping and making for loops\\n#df_year to df_all\\n#df_all = [df_all, df_year]\";\n",
       "                var nbb_formatted_code = \"# pd.merge(sinfo_df[['Symbol', 'Sector', 'Industry', 'MarketCap']], snews_df[['Symbol', 'Sector', 'Industry']], on= ['Symbol', 'Sector', 'Industry'], how= 'outer')\\n\\n# use concat when scraping and making for loops\\n# df_year to df_all\\n# df_all = [df_all, df_year]\";\n",
       "                var nbb_cells = Jupyter.notebook.get_cells();\n",
       "                for (var i = 0; i < nbb_cells.length; ++i) {\n",
       "                    if (nbb_cells[i].input_prompt_number == nbb_cell_id) {\n",
       "                        if (nbb_cells[i].get_text() == nbb_unformatted_code) {\n",
       "                             nbb_cells[i].set_text(nbb_formatted_code);\n",
       "                        }\n",
       "                        break;\n",
       "                    }\n",
       "                }\n",
       "            }, 500);\n",
       "            "
      ],
      "text/plain": [
       "<IPython.core.display.Javascript object>"
      ]
     },
     "metadata": {},
     "output_type": "display_data"
    }
   ],
   "source": [
    "#pd.merge(sinfo_df[['Symbol', 'Sector', 'Industry', 'MarketCap']], snews_df[['Symbol', 'Sector', 'Industry']], on= ['Symbol', 'Sector', 'Industry'], how= 'outer')\n",
    "\n",
    "# use concat when scraping and making for loops\n",
    "#df_year to df_all\n",
    "#df_all = [df_all, df_year]\n"
   ]
  },
  {
   "cell_type": "code",
   "execution_count": null,
   "metadata": {},
   "outputs": [],
   "source": []
  }
 ],
 "metadata": {
  "kernelspec": {
   "display_name": "Python 3",
   "language": "python",
   "name": "python3"
  },
  "language_info": {
   "codemirror_mode": {
    "name": "ipython",
    "version": 3
   },
   "file_extension": ".py",
   "mimetype": "text/x-python",
   "name": "python",
   "nbconvert_exporter": "python",
   "pygments_lexer": "ipython3",
   "version": "3.8.3"
  }
 },
 "nbformat": 4,
 "nbformat_minor": 4
}
