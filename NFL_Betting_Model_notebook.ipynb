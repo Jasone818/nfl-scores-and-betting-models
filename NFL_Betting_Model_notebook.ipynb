{
 "cells": [
  {
   "cell_type": "code",
   "execution_count": 1,
   "metadata": {},
   "outputs": [
    {
     "data": {
      "application/javascript": [
       "\n",
       "            setTimeout(function() {\n",
       "                var nbb_cell_id = 1;\n",
       "                var nbb_unformatted_code = \"%reload_ext nb_black\";\n",
       "                var nbb_formatted_code = \"%reload_ext nb_black\";\n",
       "                var nbb_cells = Jupyter.notebook.get_cells();\n",
       "                for (var i = 0; i < nbb_cells.length; ++i) {\n",
       "                    if (nbb_cells[i].input_prompt_number == nbb_cell_id) {\n",
       "                        if (nbb_cells[i].get_text() == nbb_unformatted_code) {\n",
       "                             nbb_cells[i].set_text(nbb_formatted_code);\n",
       "                        }\n",
       "                        break;\n",
       "                    }\n",
       "                }\n",
       "            }, 500);\n",
       "            "
      ],
      "text/plain": [
       "<IPython.core.display.Javascript object>"
      ]
     },
     "metadata": {},
     "output_type": "display_data"
    }
   ],
   "source": [
    "%reload_ext nb_black"
   ]
  },
  {
   "cell_type": "code",
   "execution_count": 2,
   "metadata": {},
   "outputs": [
    {
     "data": {
      "application/javascript": [
       "\n",
       "            setTimeout(function() {\n",
       "                var nbb_cell_id = 2;\n",
       "                var nbb_unformatted_code = \"import pickle\\n\\nimport pandas as pd\\nimport numpy as np\\n\\nfrom sklearn.model_selection import train_test_split, GridSearchCV\\nfrom sklearn.compose import ColumnTransformer\\nfrom sklearn.preprocessing import StandardScaler\\nfrom sklearn.pipeline import Pipeline\\nfrom sklearn.ensemble import GradientBoostingRegressor\\n\\nfrom category_encoders import LeaveOneOutEncoder\\n\\nimport seaborn as sns\\nimport matplotlib.pyplot as plt\\n\\n%matplotlib inline\\n\\n\\nfrom sklearn.neighbors import KNeighborsClassifier\\nfrom sklearn.linear_model import LogisticRegression\\nfrom sklearn.svm import SVC\\nfrom sklearn.metrics import confusion_matrix, classification_report\\n\\nfrom xgboost import XGBClassifier\";\n",
       "                var nbb_formatted_code = \"import pickle\\n\\nimport pandas as pd\\nimport numpy as np\\n\\nfrom sklearn.model_selection import train_test_split, GridSearchCV\\nfrom sklearn.compose import ColumnTransformer\\nfrom sklearn.preprocessing import StandardScaler\\nfrom sklearn.pipeline import Pipeline\\nfrom sklearn.ensemble import GradientBoostingRegressor\\n\\nfrom category_encoders import LeaveOneOutEncoder\\n\\nimport seaborn as sns\\nimport matplotlib.pyplot as plt\\n\\n%matplotlib inline\\n\\n\\nfrom sklearn.neighbors import KNeighborsClassifier\\nfrom sklearn.linear_model import LogisticRegression\\nfrom sklearn.svm import SVC\\nfrom sklearn.metrics import confusion_matrix, classification_report\\n\\nfrom xgboost import XGBClassifier\";\n",
       "                var nbb_cells = Jupyter.notebook.get_cells();\n",
       "                for (var i = 0; i < nbb_cells.length; ++i) {\n",
       "                    if (nbb_cells[i].input_prompt_number == nbb_cell_id) {\n",
       "                        if (nbb_cells[i].get_text() == nbb_unformatted_code) {\n",
       "                             nbb_cells[i].set_text(nbb_formatted_code);\n",
       "                        }\n",
       "                        break;\n",
       "                    }\n",
       "                }\n",
       "            }, 500);\n",
       "            "
      ],
      "text/plain": [
       "<IPython.core.display.Javascript object>"
      ]
     },
     "metadata": {},
     "output_type": "display_data"
    }
   ],
   "source": [
    "import pickle\n",
    "\n",
    "import pandas as pd\n",
    "import numpy as np\n",
    "\n",
    "from sklearn.model_selection import train_test_split, GridSearchCV\n",
    "from sklearn.compose import ColumnTransformer\n",
    "from sklearn.preprocessing import StandardScaler\n",
    "from sklearn.pipeline import Pipeline\n",
    "from sklearn.ensemble import GradientBoostingRegressor\n",
    "\n",
    "from category_encoders import LeaveOneOutEncoder\n",
    "\n",
    "import seaborn as sns\n",
    "import matplotlib.pyplot as plt\n",
    "\n",
    "%matplotlib inline\n",
    "\n",
    "\n",
    "from sklearn.neighbors import KNeighborsClassifier\n",
    "from sklearn.linear_model import LogisticRegression\n",
    "from sklearn.svm import SVC\n",
    "from sklearn.metrics import confusion_matrix, classification_report\n",
    "\n",
    "from xgboost import XGBClassifier"
   ]
  },
  {
   "cell_type": "code",
   "execution_count": 3,
   "metadata": {},
   "outputs": [
    {
     "data": {
      "application/javascript": [
       "\n",
       "            setTimeout(function() {\n",
       "                var nbb_cell_id = 3;\n",
       "                var nbb_unformatted_code = \"# https://gist.github.com/AdamSpannbauer/c99c366b0c7d5b6c4920a46c32d738e5\\nimport warnings\\nimport statsmodels.api as sm\\nimport statsmodels.stats.api as sms\\nfrom statsmodels.stats.outliers_influence import variance_inflation_factor\\n\\n\\ndef print_vif(x):\\n    \\\"\\\"\\\"Utility for checking multicollinearity assumption\\n\\n    :param x: input features to check using VIF. This is assumed to be a pandas.DataFrame\\n    :return: nothing is returned the VIFs are printed as a pandas series\\n    \\\"\\\"\\\"\\n    # Silence numpy FutureWarning about .ptp\\n    with warnings.catch_warnings():\\n        warnings.simplefilter(\\\"ignore\\\")\\n        x = sm.add_constant(x)\\n\\n    vifs = []\\n    for i in range(x.shape[1]):\\n        vif = variance_inflation_factor(x.values, i)\\n        vifs.append(vif)\\n\\n    print(\\\"VIF results\\\\n-------------------------------\\\")\\n    print(pd.Series(vifs, index=x.columns))\\n    print(\\\"-------------------------------\\\\n\\\")\";\n",
       "                var nbb_formatted_code = \"# https://gist.github.com/AdamSpannbauer/c99c366b0c7d5b6c4920a46c32d738e5\\nimport warnings\\nimport statsmodels.api as sm\\nimport statsmodels.stats.api as sms\\nfrom statsmodels.stats.outliers_influence import variance_inflation_factor\\n\\n\\ndef print_vif(x):\\n    \\\"\\\"\\\"Utility for checking multicollinearity assumption\\n\\n    :param x: input features to check using VIF. This is assumed to be a pandas.DataFrame\\n    :return: nothing is returned the VIFs are printed as a pandas series\\n    \\\"\\\"\\\"\\n    # Silence numpy FutureWarning about .ptp\\n    with warnings.catch_warnings():\\n        warnings.simplefilter(\\\"ignore\\\")\\n        x = sm.add_constant(x)\\n\\n    vifs = []\\n    for i in range(x.shape[1]):\\n        vif = variance_inflation_factor(x.values, i)\\n        vifs.append(vif)\\n\\n    print(\\\"VIF results\\\\n-------------------------------\\\")\\n    print(pd.Series(vifs, index=x.columns))\\n    print(\\\"-------------------------------\\\\n\\\")\";\n",
       "                var nbb_cells = Jupyter.notebook.get_cells();\n",
       "                for (var i = 0; i < nbb_cells.length; ++i) {\n",
       "                    if (nbb_cells[i].input_prompt_number == nbb_cell_id) {\n",
       "                        if (nbb_cells[i].get_text() == nbb_unformatted_code) {\n",
       "                             nbb_cells[i].set_text(nbb_formatted_code);\n",
       "                        }\n",
       "                        break;\n",
       "                    }\n",
       "                }\n",
       "            }, 500);\n",
       "            "
      ],
      "text/plain": [
       "<IPython.core.display.Javascript object>"
      ]
     },
     "metadata": {},
     "output_type": "display_data"
    }
   ],
   "source": [
    "# https://gist.github.com/AdamSpannbauer/c99c366b0c7d5b6c4920a46c32d738e5\n",
    "import warnings\n",
    "import statsmodels.api as sm\n",
    "import statsmodels.stats.api as sms\n",
    "from statsmodels.stats.outliers_influence import variance_inflation_factor\n",
    "\n",
    "\n",
    "def print_vif(x):\n",
    "    \"\"\"Utility for checking multicollinearity assumption\n",
    "\n",
    "    :param x: input features to check using VIF. This is assumed to be a pandas.DataFrame\n",
    "    :return: nothing is returned the VIFs are printed as a pandas series\n",
    "    \"\"\"\n",
    "    # Silence numpy FutureWarning about .ptp\n",
    "    with warnings.catch_warnings():\n",
    "        warnings.simplefilter(\"ignore\")\n",
    "        x = sm.add_constant(x)\n",
    "\n",
    "    vifs = []\n",
    "    for i in range(x.shape[1]):\n",
    "        vif = variance_inflation_factor(x.values, i)\n",
    "        vifs.append(vif)\n",
    "\n",
    "    print(\"VIF results\\n-------------------------------\")\n",
    "    print(pd.Series(vifs, index=x.columns))\n",
    "    print(\"-------------------------------\\n\")"
   ]
  },
  {
   "cell_type": "markdown",
   "metadata": {},
   "source": [
    "### Import Data"
   ]
  },
  {
   "cell_type": "code",
   "execution_count": 4,
   "metadata": {},
   "outputs": [
    {
     "data": {
      "application/javascript": [
       "\n",
       "            setTimeout(function() {\n",
       "                var nbb_cell_id = 4;\n",
       "                var nbb_unformatted_code = \"data = \\\"Data/nfl_stadiums.csv\\\"\\ndata2 = \\\"Data/nfl_teams.csv\\\"\\ndata3 = \\\"Data/spreadspoke_scores.csv\\\"\\n\\ndfstad = pd.read_csv(data, encoding=\\\"unicode_escape\\\")\\ndfteam = pd.read_csv(data2)\\ndfscore = pd.read_csv(data3)\";\n",
       "                var nbb_formatted_code = \"data = \\\"Data/nfl_stadiums.csv\\\"\\ndata2 = \\\"Data/nfl_teams.csv\\\"\\ndata3 = \\\"Data/spreadspoke_scores.csv\\\"\\n\\ndfstad = pd.read_csv(data, encoding=\\\"unicode_escape\\\")\\ndfteam = pd.read_csv(data2)\\ndfscore = pd.read_csv(data3)\";\n",
       "                var nbb_cells = Jupyter.notebook.get_cells();\n",
       "                for (var i = 0; i < nbb_cells.length; ++i) {\n",
       "                    if (nbb_cells[i].input_prompt_number == nbb_cell_id) {\n",
       "                        if (nbb_cells[i].get_text() == nbb_unformatted_code) {\n",
       "                             nbb_cells[i].set_text(nbb_formatted_code);\n",
       "                        }\n",
       "                        break;\n",
       "                    }\n",
       "                }\n",
       "            }, 500);\n",
       "            "
      ],
      "text/plain": [
       "<IPython.core.display.Javascript object>"
      ]
     },
     "metadata": {},
     "output_type": "display_data"
    }
   ],
   "source": [
    "data = \"Data/nfl_stadiums.csv\"\n",
    "data2 = \"Data/nfl_teams.csv\"\n",
    "data3 = \"Data/spreadspoke_scores.csv\"\n",
    "\n",
    "dfstad = pd.read_csv(data, encoding=\"unicode_escape\")\n",
    "dfteam = pd.read_csv(data2)\n",
    "dfscore = pd.read_csv(data3)"
   ]
  },
  {
   "cell_type": "markdown",
   "metadata": {},
   "source": [
    "### Initial EDA"
   ]
  },
  {
   "cell_type": "code",
   "execution_count": 5,
   "metadata": {},
   "outputs": [
    {
     "name": "stdout",
     "output_type": "stream",
     "text": [
      "<class 'pandas.core.frame.DataFrame'>\n",
      "RangeIndex: 12934 entries, 0 to 12933\n",
      "Data columns (total 17 columns):\n",
      " #   Column               Non-Null Count  Dtype  \n",
      "---  ------               --------------  -----  \n",
      " 0   schedule_date        12934 non-null  object \n",
      " 1   schedule_season      12934 non-null  int64  \n",
      " 2   schedule_week        12934 non-null  object \n",
      " 3   schedule_playoff     12934 non-null  bool   \n",
      " 4   team_home            12934 non-null  object \n",
      " 5   score_home           12797 non-null  float64\n",
      " 6   score_away           12797 non-null  float64\n",
      " 7   team_away            12934 non-null  object \n",
      " 8   team_favorite_id     10318 non-null  object \n",
      " 9   spread_favorite      10318 non-null  float64\n",
      " 10  over_under_line      10308 non-null  object \n",
      " 11  stadium              12934 non-null  object \n",
      " 12  stadium_neutral      12934 non-null  bool   \n",
      " 13  weather_temperature  12008 non-null  float64\n",
      " 14  weather_wind_mph     12008 non-null  float64\n",
      " 15  weather_humidity     8388 non-null   object \n",
      " 16  weather_detail       2711 non-null   object \n",
      "dtypes: bool(2), float64(5), int64(1), object(9)\n",
      "memory usage: 1.5+ MB\n"
     ]
    },
    {
     "data": {
      "application/javascript": [
       "\n",
       "            setTimeout(function() {\n",
       "                var nbb_cell_id = 5;\n",
       "                var nbb_unformatted_code = \"dfscore.info()\";\n",
       "                var nbb_formatted_code = \"dfscore.info()\";\n",
       "                var nbb_cells = Jupyter.notebook.get_cells();\n",
       "                for (var i = 0; i < nbb_cells.length; ++i) {\n",
       "                    if (nbb_cells[i].input_prompt_number == nbb_cell_id) {\n",
       "                        if (nbb_cells[i].get_text() == nbb_unformatted_code) {\n",
       "                             nbb_cells[i].set_text(nbb_formatted_code);\n",
       "                        }\n",
       "                        break;\n",
       "                    }\n",
       "                }\n",
       "            }, 500);\n",
       "            "
      ],
      "text/plain": [
       "<IPython.core.display.Javascript object>"
      ]
     },
     "metadata": {},
     "output_type": "display_data"
    }
   ],
   "source": [
    "dfscore.info()"
   ]
  },
  {
   "cell_type": "code",
   "execution_count": 6,
   "metadata": {},
   "outputs": [
    {
     "data": {
      "application/javascript": [
       "\n",
       "            setTimeout(function() {\n",
       "                var nbb_cell_id = 6;\n",
       "                var nbb_unformatted_code = \"# Drop columns\\ndfscore = dfscore.replace(r\\\"^\\\\s*$\\\", np.nan, regex=True)\\ndfscore = dfscore.drop(\\n    columns=[\\n        \\\"weather_humidity\\\",\\n        \\\"weather_detail\\\",\\n        \\\"weather_temperature\\\",\\n        \\\"weather_wind_mph\\\",\\n        \\\"schedule_date\\\",\\n        \\\"schedule_playoff\\\",\\n        \\\"stadium\\\",\\n        \\\"stadium_neutral\\\",\\n    ]\\n)\";\n",
       "                var nbb_formatted_code = \"# Drop columns\\ndfscore = dfscore.replace(r\\\"^\\\\s*$\\\", np.nan, regex=True)\\ndfscore = dfscore.drop(\\n    columns=[\\n        \\\"weather_humidity\\\",\\n        \\\"weather_detail\\\",\\n        \\\"weather_temperature\\\",\\n        \\\"weather_wind_mph\\\",\\n        \\\"schedule_date\\\",\\n        \\\"schedule_playoff\\\",\\n        \\\"stadium\\\",\\n        \\\"stadium_neutral\\\",\\n    ]\\n)\";\n",
       "                var nbb_cells = Jupyter.notebook.get_cells();\n",
       "                for (var i = 0; i < nbb_cells.length; ++i) {\n",
       "                    if (nbb_cells[i].input_prompt_number == nbb_cell_id) {\n",
       "                        if (nbb_cells[i].get_text() == nbb_unformatted_code) {\n",
       "                             nbb_cells[i].set_text(nbb_formatted_code);\n",
       "                        }\n",
       "                        break;\n",
       "                    }\n",
       "                }\n",
       "            }, 500);\n",
       "            "
      ],
      "text/plain": [
       "<IPython.core.display.Javascript object>"
      ]
     },
     "metadata": {},
     "output_type": "display_data"
    }
   ],
   "source": [
    "# Drop columns\n",
    "dfscore = dfscore.replace(r\"^\\s*$\", np.nan, regex=True)\n",
    "dfscore = dfscore.drop(\n",
    "    columns=[\n",
    "        \"weather_humidity\",\n",
    "        \"weather_detail\",\n",
    "        \"weather_temperature\",\n",
    "        \"weather_wind_mph\",\n",
    "        \"schedule_date\",\n",
    "        \"schedule_playoff\",\n",
    "        \"stadium\",\n",
    "        \"stadium_neutral\",\n",
    "    ]\n",
    ")"
   ]
  },
  {
   "cell_type": "code",
   "execution_count": 7,
   "metadata": {},
   "outputs": [
    {
     "data": {
      "application/javascript": [
       "\n",
       "            setTimeout(function() {\n",
       "                var nbb_cell_id = 7;\n",
       "                var nbb_unformatted_code = \"# Filter dataframe\\ndfscore = dfscore[\\n    (dfscore[\\\"score_home\\\"].isna() == False)\\n    & (dfscore[\\\"team_favorite_id\\\"].isna() == False)\\n    & (dfscore[\\\"over_under_line\\\"].isna() == False)\\n    & (dfscore[\\\"schedule_season\\\"] >= 2015)\\n]\";\n",
       "                var nbb_formatted_code = \"# Filter dataframe\\ndfscore = dfscore[\\n    (dfscore[\\\"score_home\\\"].isna() == False)\\n    & (dfscore[\\\"team_favorite_id\\\"].isna() == False)\\n    & (dfscore[\\\"over_under_line\\\"].isna() == False)\\n    & (dfscore[\\\"schedule_season\\\"] >= 2015)\\n]\";\n",
       "                var nbb_cells = Jupyter.notebook.get_cells();\n",
       "                for (var i = 0; i < nbb_cells.length; ++i) {\n",
       "                    if (nbb_cells[i].input_prompt_number == nbb_cell_id) {\n",
       "                        if (nbb_cells[i].get_text() == nbb_unformatted_code) {\n",
       "                             nbb_cells[i].set_text(nbb_formatted_code);\n",
       "                        }\n",
       "                        break;\n",
       "                    }\n",
       "                }\n",
       "            }, 500);\n",
       "            "
      ],
      "text/plain": [
       "<IPython.core.display.Javascript object>"
      ]
     },
     "metadata": {},
     "output_type": "display_data"
    }
   ],
   "source": [
    "# Filter dataframe\n",
    "dfscore = dfscore[\n",
    "    (dfscore[\"score_home\"].isna() == False)\n",
    "    & (dfscore[\"team_favorite_id\"].isna() == False)\n",
    "    & (dfscore[\"over_under_line\"].isna() == False)\n",
    "    & (dfscore[\"schedule_season\"] >= 2015)\n",
    "]"
   ]
  },
  {
   "cell_type": "code",
   "execution_count": 8,
   "metadata": {},
   "outputs": [
    {
     "data": {
      "application/javascript": [
       "\n",
       "            setTimeout(function() {\n",
       "                var nbb_cell_id = 8;\n",
       "                var nbb_unformatted_code = \"dfscore.reset_index(drop=True, inplace=True)\";\n",
       "                var nbb_formatted_code = \"dfscore.reset_index(drop=True, inplace=True)\";\n",
       "                var nbb_cells = Jupyter.notebook.get_cells();\n",
       "                for (var i = 0; i < nbb_cells.length; ++i) {\n",
       "                    if (nbb_cells[i].input_prompt_number == nbb_cell_id) {\n",
       "                        if (nbb_cells[i].get_text() == nbb_unformatted_code) {\n",
       "                             nbb_cells[i].set_text(nbb_formatted_code);\n",
       "                        }\n",
       "                        break;\n",
       "                    }\n",
       "                }\n",
       "            }, 500);\n",
       "            "
      ],
      "text/plain": [
       "<IPython.core.display.Javascript object>"
      ]
     },
     "metadata": {},
     "output_type": "display_data"
    }
   ],
   "source": [
    "dfscore.reset_index(drop=True, inplace=True)"
   ]
  },
  {
   "cell_type": "markdown",
   "metadata": {},
   "source": [
    "### Feature Engineering"
   ]
  },
  {
   "cell_type": "code",
   "execution_count": 9,
   "metadata": {},
   "outputs": [
    {
     "data": {
      "text/html": [
       "<div>\n",
       "<style scoped>\n",
       "    .dataframe tbody tr th:only-of-type {\n",
       "        vertical-align: middle;\n",
       "    }\n",
       "\n",
       "    .dataframe tbody tr th {\n",
       "        vertical-align: top;\n",
       "    }\n",
       "\n",
       "    .dataframe thead th {\n",
       "        text-align: right;\n",
       "    }\n",
       "</style>\n",
       "<table border=\"1\" class=\"dataframe\">\n",
       "  <thead>\n",
       "    <tr style=\"text-align: right;\">\n",
       "      <th></th>\n",
       "      <th>schedule_season</th>\n",
       "      <th>schedule_week</th>\n",
       "      <th>team_home</th>\n",
       "      <th>team_away</th>\n",
       "      <th>team_favorite_id</th>\n",
       "      <th>spread_favorite</th>\n",
       "      <th>over_under_line</th>\n",
       "      <th>score_home</th>\n",
       "      <th>score_away</th>\n",
       "      <th>mean_home</th>\n",
       "      <th>mean_away</th>\n",
       "    </tr>\n",
       "  </thead>\n",
       "  <tbody>\n",
       "    <tr>\n",
       "      <th>0</th>\n",
       "      <td>2015</td>\n",
       "      <td>1</td>\n",
       "      <td>New England Patriots</td>\n",
       "      <td>Pittsburgh Steelers</td>\n",
       "      <td>NE</td>\n",
       "      <td>-7.0</td>\n",
       "      <td>51</td>\n",
       "      <td>28.0</td>\n",
       "      <td>21.0</td>\n",
       "      <td>31.111111</td>\n",
       "      <td>21.2</td>\n",
       "    </tr>\n",
       "    <tr>\n",
       "      <th>1</th>\n",
       "      <td>2015</td>\n",
       "      <td>Division</td>\n",
       "      <td>Denver Broncos</td>\n",
       "      <td>Pittsburgh Steelers</td>\n",
       "      <td>DEN</td>\n",
       "      <td>-7.5</td>\n",
       "      <td>41</td>\n",
       "      <td>23.0</td>\n",
       "      <td>16.0</td>\n",
       "      <td>21.818182</td>\n",
       "      <td>21.2</td>\n",
       "    </tr>\n",
       "  </tbody>\n",
       "</table>\n",
       "</div>"
      ],
      "text/plain": [
       "   schedule_season schedule_week             team_home            team_away  \\\n",
       "0             2015             1  New England Patriots  Pittsburgh Steelers   \n",
       "1             2015      Division        Denver Broncos  Pittsburgh Steelers   \n",
       "\n",
       "  team_favorite_id  spread_favorite over_under_line  score_home  score_away  \\\n",
       "0               NE             -7.0              51        28.0        21.0   \n",
       "1              DEN             -7.5              41        23.0        16.0   \n",
       "\n",
       "   mean_home  mean_away  \n",
       "0  31.111111       21.2  \n",
       "1  21.818182       21.2  "
      ]
     },
     "execution_count": 9,
     "metadata": {},
     "output_type": "execute_result"
    },
    {
     "data": {
      "application/javascript": [
       "\n",
       "            setTimeout(function() {\n",
       "                var nbb_cell_id = 9;\n",
       "                var nbb_unformatted_code = \"# Create features; Mean home and away score columns\\nhome_scores = (\\n    dfscore[\\n        [\\n            \\\"score_home\\\",\\n            \\\"schedule_season\\\",\\n            \\\"team_home\\\",\\n        ]\\n    ]\\n    .groupby([\\\"schedule_season\\\", \\\"team_home\\\"])\\n    .mean()\\n    .reset_index()\\n)\\n\\naway_scores = (\\n    dfscore[\\n        [\\n            \\\"score_away\\\",\\n            \\\"schedule_season\\\",\\n            \\\"team_away\\\",\\n        ]\\n    ]\\n    .groupby([\\\"schedule_season\\\", \\\"team_away\\\"])\\n    .mean()\\n    .reset_index()\\n)\\n\\n\\ndfscoreh = pd.merge(dfscore, home_scores, on=[\\\"team_home\\\", \\\"schedule_season\\\"])\\n\\ndfscoreb = pd.merge(dfscoreh, away_scores, on=[\\\"team_away\\\", \\\"schedule_season\\\"])\\ndfscore = dfscoreb\\ndfscore[\\\"score_home\\\"] = dfscore[\\\"score_home_x\\\"]\\ndfscore[\\\"score_away\\\"] = dfscore[\\\"score_away_x\\\"]\\ndfscore[\\\"mean_home\\\"] = dfscore[\\\"score_home_y\\\"]\\ndfscore[\\\"mean_away\\\"] = dfscore[\\\"score_away_y\\\"]\\ndfscore = dfscore.drop(\\n    columns=[\\\"score_home_x\\\", \\\"score_away_x\\\", \\\"score_home_y\\\", \\\"score_away_y\\\"]\\n)\\ndfscore.head(2)\";\n",
       "                var nbb_formatted_code = \"# Create features; Mean home and away score columns\\nhome_scores = (\\n    dfscore[\\n        [\\n            \\\"score_home\\\",\\n            \\\"schedule_season\\\",\\n            \\\"team_home\\\",\\n        ]\\n    ]\\n    .groupby([\\\"schedule_season\\\", \\\"team_home\\\"])\\n    .mean()\\n    .reset_index()\\n)\\n\\naway_scores = (\\n    dfscore[\\n        [\\n            \\\"score_away\\\",\\n            \\\"schedule_season\\\",\\n            \\\"team_away\\\",\\n        ]\\n    ]\\n    .groupby([\\\"schedule_season\\\", \\\"team_away\\\"])\\n    .mean()\\n    .reset_index()\\n)\\n\\n\\ndfscoreh = pd.merge(dfscore, home_scores, on=[\\\"team_home\\\", \\\"schedule_season\\\"])\\n\\ndfscoreb = pd.merge(dfscoreh, away_scores, on=[\\\"team_away\\\", \\\"schedule_season\\\"])\\ndfscore = dfscoreb\\ndfscore[\\\"score_home\\\"] = dfscore[\\\"score_home_x\\\"]\\ndfscore[\\\"score_away\\\"] = dfscore[\\\"score_away_x\\\"]\\ndfscore[\\\"mean_home\\\"] = dfscore[\\\"score_home_y\\\"]\\ndfscore[\\\"mean_away\\\"] = dfscore[\\\"score_away_y\\\"]\\ndfscore = dfscore.drop(\\n    columns=[\\\"score_home_x\\\", \\\"score_away_x\\\", \\\"score_home_y\\\", \\\"score_away_y\\\"]\\n)\\ndfscore.head(2)\";\n",
       "                var nbb_cells = Jupyter.notebook.get_cells();\n",
       "                for (var i = 0; i < nbb_cells.length; ++i) {\n",
       "                    if (nbb_cells[i].input_prompt_number == nbb_cell_id) {\n",
       "                        if (nbb_cells[i].get_text() == nbb_unformatted_code) {\n",
       "                             nbb_cells[i].set_text(nbb_formatted_code);\n",
       "                        }\n",
       "                        break;\n",
       "                    }\n",
       "                }\n",
       "            }, 500);\n",
       "            "
      ],
      "text/plain": [
       "<IPython.core.display.Javascript object>"
      ]
     },
     "metadata": {},
     "output_type": "display_data"
    }
   ],
   "source": [
    "# Create features; Mean home and away score columns\n",
    "home_scores = (\n",
    "    dfscore[\n",
    "        [\n",
    "            \"score_home\",\n",
    "            \"schedule_season\",\n",
    "            \"team_home\",\n",
    "        ]\n",
    "    ]\n",
    "    .groupby([\"schedule_season\", \"team_home\"])\n",
    "    .mean()\n",
    "    .reset_index()\n",
    ")\n",
    "\n",
    "away_scores = (\n",
    "    dfscore[\n",
    "        [\n",
    "            \"score_away\",\n",
    "            \"schedule_season\",\n",
    "            \"team_away\",\n",
    "        ]\n",
    "    ]\n",
    "    .groupby([\"schedule_season\", \"team_away\"])\n",
    "    .mean()\n",
    "    .reset_index()\n",
    ")\n",
    "\n",
    "\n",
    "dfscoreh = pd.merge(dfscore, home_scores, on=[\"team_home\", \"schedule_season\"])\n",
    "\n",
    "dfscoreb = pd.merge(dfscoreh, away_scores, on=[\"team_away\", \"schedule_season\"])\n",
    "dfscore = dfscoreb\n",
    "dfscore[\"score_home\"] = dfscore[\"score_home_x\"]\n",
    "dfscore[\"score_away\"] = dfscore[\"score_away_x\"]\n",
    "dfscore[\"mean_home\"] = dfscore[\"score_home_y\"]\n",
    "dfscore[\"mean_away\"] = dfscore[\"score_away_y\"]\n",
    "dfscore = dfscore.drop(\n",
    "    columns=[\"score_home_x\", \"score_away_x\", \"score_home_y\", \"score_away_y\"]\n",
    ")\n",
    "dfscore.head(2)"
   ]
  },
  {
   "cell_type": "code",
   "execution_count": 10,
   "metadata": {},
   "outputs": [
    {
     "data": {
      "application/javascript": [
       "\n",
       "            setTimeout(function() {\n",
       "                var nbb_cell_id = 10;\n",
       "                var nbb_unformatted_code = \"# reformat to float\\ndfscore[\\\"over_under_line\\\"] = dfscore[\\\"over_under_line\\\"].astype(float)\";\n",
       "                var nbb_formatted_code = \"# reformat to float\\ndfscore[\\\"over_under_line\\\"] = dfscore[\\\"over_under_line\\\"].astype(float)\";\n",
       "                var nbb_cells = Jupyter.notebook.get_cells();\n",
       "                for (var i = 0; i < nbb_cells.length; ++i) {\n",
       "                    if (nbb_cells[i].input_prompt_number == nbb_cell_id) {\n",
       "                        if (nbb_cells[i].get_text() == nbb_unformatted_code) {\n",
       "                             nbb_cells[i].set_text(nbb_formatted_code);\n",
       "                        }\n",
       "                        break;\n",
       "                    }\n",
       "                }\n",
       "            }, 500);\n",
       "            "
      ],
      "text/plain": [
       "<IPython.core.display.Javascript object>"
      ]
     },
     "metadata": {},
     "output_type": "display_data"
    }
   ],
   "source": [
    "# reformat to float\n",
    "dfscore[\"over_under_line\"] = dfscore[\"over_under_line\"].astype(float)"
   ]
  },
  {
   "cell_type": "code",
   "execution_count": 11,
   "metadata": {},
   "outputs": [
    {
     "data": {
      "application/javascript": [
       "\n",
       "            setTimeout(function() {\n",
       "                var nbb_cell_id = 11;\n",
       "                var nbb_unformatted_code = \"# Use other dataframe to map team ids\\n\\ndfscore[\\\"team_home\\\"] = dfscore[\\\"team_home\\\"].map(\\n    dfteam.set_index(\\\"team_name\\\")[\\\"team_id\\\"].to_dict()\\n)\\ndfscore[\\\"team_away\\\"] = dfscore[\\\"team_away\\\"].map(\\n    dfteam.set_index(\\\"team_name\\\")[\\\"team_id\\\"].to_dict()\\n)\";\n",
       "                var nbb_formatted_code = \"# Use other dataframe to map team ids\\n\\ndfscore[\\\"team_home\\\"] = dfscore[\\\"team_home\\\"].map(\\n    dfteam.set_index(\\\"team_name\\\")[\\\"team_id\\\"].to_dict()\\n)\\ndfscore[\\\"team_away\\\"] = dfscore[\\\"team_away\\\"].map(\\n    dfteam.set_index(\\\"team_name\\\")[\\\"team_id\\\"].to_dict()\\n)\";\n",
       "                var nbb_cells = Jupyter.notebook.get_cells();\n",
       "                for (var i = 0; i < nbb_cells.length; ++i) {\n",
       "                    if (nbb_cells[i].input_prompt_number == nbb_cell_id) {\n",
       "                        if (nbb_cells[i].get_text() == nbb_unformatted_code) {\n",
       "                             nbb_cells[i].set_text(nbb_formatted_code);\n",
       "                        }\n",
       "                        break;\n",
       "                    }\n",
       "                }\n",
       "            }, 500);\n",
       "            "
      ],
      "text/plain": [
       "<IPython.core.display.Javascript object>"
      ]
     },
     "metadata": {},
     "output_type": "display_data"
    }
   ],
   "source": [
    "# Use other dataframe to map team ids\n",
    "\n",
    "dfscore[\"team_home\"] = dfscore[\"team_home\"].map(\n",
    "    dfteam.set_index(\"team_name\")[\"team_id\"].to_dict()\n",
    ")\n",
    "dfscore[\"team_away\"] = dfscore[\"team_away\"].map(\n",
    "    dfteam.set_index(\"team_name\")[\"team_id\"].to_dict()\n",
    ")"
   ]
  },
  {
   "cell_type": "code",
   "execution_count": 12,
   "metadata": {},
   "outputs": [
    {
     "data": {
      "application/javascript": [
       "\n",
       "            setTimeout(function() {\n",
       "                var nbb_cell_id = 12;\n",
       "                var nbb_unformatted_code = \"# Create columns for home and away favorites.\\ndfscore.loc[dfscore[\\\"team_favorite_id\\\"] == dfscore[\\\"team_home\\\"], \\\"home_favorite\\\"] = 1\\ndfscore.loc[dfscore[\\\"team_favorite_id\\\"] == dfscore[\\\"team_away\\\"], \\\"away_favorite\\\"] = 1\\ndfscore[\\\"home_favorite\\\"].fillna(0, inplace=True)\\ndfscore[\\\"away_favorite\\\"].fillna(0, inplace=True)\";\n",
       "                var nbb_formatted_code = \"# Create columns for home and away favorites.\\ndfscore.loc[dfscore[\\\"team_favorite_id\\\"] == dfscore[\\\"team_home\\\"], \\\"home_favorite\\\"] = 1\\ndfscore.loc[dfscore[\\\"team_favorite_id\\\"] == dfscore[\\\"team_away\\\"], \\\"away_favorite\\\"] = 1\\ndfscore[\\\"home_favorite\\\"].fillna(0, inplace=True)\\ndfscore[\\\"away_favorite\\\"].fillna(0, inplace=True)\";\n",
       "                var nbb_cells = Jupyter.notebook.get_cells();\n",
       "                for (var i = 0; i < nbb_cells.length; ++i) {\n",
       "                    if (nbb_cells[i].input_prompt_number == nbb_cell_id) {\n",
       "                        if (nbb_cells[i].get_text() == nbb_unformatted_code) {\n",
       "                             nbb_cells[i].set_text(nbb_formatted_code);\n",
       "                        }\n",
       "                        break;\n",
       "                    }\n",
       "                }\n",
       "            }, 500);\n",
       "            "
      ],
      "text/plain": [
       "<IPython.core.display.Javascript object>"
      ]
     },
     "metadata": {},
     "output_type": "display_data"
    }
   ],
   "source": [
    "# Create columns for home and away favorites.\n",
    "dfscore.loc[dfscore[\"team_favorite_id\"] == dfscore[\"team_home\"], \"home_favorite\"] = 1\n",
    "dfscore.loc[dfscore[\"team_favorite_id\"] == dfscore[\"team_away\"], \"away_favorite\"] = 1\n",
    "dfscore[\"home_favorite\"].fillna(0, inplace=True)\n",
    "dfscore[\"away_favorite\"].fillna(0, inplace=True)"
   ]
  },
  {
   "cell_type": "code",
   "execution_count": 13,
   "metadata": {},
   "outputs": [
    {
     "data": {
      "text/html": [
       "<div>\n",
       "<style scoped>\n",
       "    .dataframe tbody tr th:only-of-type {\n",
       "        vertical-align: middle;\n",
       "    }\n",
       "\n",
       "    .dataframe tbody tr th {\n",
       "        vertical-align: top;\n",
       "    }\n",
       "\n",
       "    .dataframe thead th {\n",
       "        text-align: right;\n",
       "    }\n",
       "</style>\n",
       "<table border=\"1\" class=\"dataframe\">\n",
       "  <thead>\n",
       "    <tr style=\"text-align: right;\">\n",
       "      <th></th>\n",
       "      <th>schedule_season</th>\n",
       "      <th>schedule_week</th>\n",
       "      <th>team_home</th>\n",
       "      <th>team_away</th>\n",
       "      <th>team_favorite_id</th>\n",
       "      <th>spread_favorite</th>\n",
       "      <th>over_under_line</th>\n",
       "      <th>score_home</th>\n",
       "      <th>score_away</th>\n",
       "      <th>mean_home</th>\n",
       "      <th>mean_away</th>\n",
       "      <th>home_favorite</th>\n",
       "      <th>away_favorite</th>\n",
       "    </tr>\n",
       "  </thead>\n",
       "  <tbody>\n",
       "    <tr>\n",
       "      <th>0</th>\n",
       "      <td>2015</td>\n",
       "      <td>1</td>\n",
       "      <td>NE</td>\n",
       "      <td>PIT</td>\n",
       "      <td>NE</td>\n",
       "      <td>-7.0</td>\n",
       "      <td>51.0</td>\n",
       "      <td>28.0</td>\n",
       "      <td>21.0</td>\n",
       "      <td>31.111111</td>\n",
       "      <td>21.2</td>\n",
       "      <td>1.0</td>\n",
       "      <td>0.0</td>\n",
       "    </tr>\n",
       "    <tr>\n",
       "      <th>1</th>\n",
       "      <td>2015</td>\n",
       "      <td>Division</td>\n",
       "      <td>DEN</td>\n",
       "      <td>PIT</td>\n",
       "      <td>DEN</td>\n",
       "      <td>-7.5</td>\n",
       "      <td>41.0</td>\n",
       "      <td>23.0</td>\n",
       "      <td>16.0</td>\n",
       "      <td>21.818182</td>\n",
       "      <td>21.2</td>\n",
       "      <td>1.0</td>\n",
       "      <td>0.0</td>\n",
       "    </tr>\n",
       "  </tbody>\n",
       "</table>\n",
       "</div>"
      ],
      "text/plain": [
       "   schedule_season schedule_week team_home team_away team_favorite_id  \\\n",
       "0             2015             1        NE       PIT               NE   \n",
       "1             2015      Division       DEN       PIT              DEN   \n",
       "\n",
       "   spread_favorite  over_under_line  score_home  score_away  mean_home  \\\n",
       "0             -7.0             51.0        28.0        21.0  31.111111   \n",
       "1             -7.5             41.0        23.0        16.0  21.818182   \n",
       "\n",
       "   mean_away  home_favorite  away_favorite  \n",
       "0       21.2            1.0            0.0  \n",
       "1       21.2            1.0            0.0  "
      ]
     },
     "execution_count": 13,
     "metadata": {},
     "output_type": "execute_result"
    },
    {
     "data": {
      "application/javascript": [
       "\n",
       "            setTimeout(function() {\n",
       "                var nbb_cell_id = 13;\n",
       "                var nbb_unformatted_code = \"dfscore.head(2)\";\n",
       "                var nbb_formatted_code = \"dfscore.head(2)\";\n",
       "                var nbb_cells = Jupyter.notebook.get_cells();\n",
       "                for (var i = 0; i < nbb_cells.length; ++i) {\n",
       "                    if (nbb_cells[i].input_prompt_number == nbb_cell_id) {\n",
       "                        if (nbb_cells[i].get_text() == nbb_unformatted_code) {\n",
       "                             nbb_cells[i].set_text(nbb_formatted_code);\n",
       "                        }\n",
       "                        break;\n",
       "                    }\n",
       "                }\n",
       "            }, 500);\n",
       "            "
      ],
      "text/plain": [
       "<IPython.core.display.Javascript object>"
      ]
     },
     "metadata": {},
     "output_type": "display_data"
    }
   ],
   "source": [
    "dfscore.head(2)"
   ]
  },
  {
   "cell_type": "code",
   "execution_count": 14,
   "metadata": {},
   "outputs": [
    {
     "data": {
      "application/javascript": [
       "\n",
       "            setTimeout(function() {\n",
       "                var nbb_cell_id = 14;\n",
       "                var nbb_unformatted_code = \"# feature added; 'is over' column\\ndfscore.loc[\\n    ((dfscore[\\\"score_home\\\"] + dfscore[\\\"score_away\\\"]) > dfscore[\\\"over_under_line\\\"]),\\n    \\\"is_over\\\",\\n] = 1\\ndfscore[\\\"is_over\\\"].fillna(0, inplace=True)\";\n",
       "                var nbb_formatted_code = \"# feature added; 'is over' column\\ndfscore.loc[\\n    ((dfscore[\\\"score_home\\\"] + dfscore[\\\"score_away\\\"]) > dfscore[\\\"over_under_line\\\"]),\\n    \\\"is_over\\\",\\n] = 1\\ndfscore[\\\"is_over\\\"].fillna(0, inplace=True)\";\n",
       "                var nbb_cells = Jupyter.notebook.get_cells();\n",
       "                for (var i = 0; i < nbb_cells.length; ++i) {\n",
       "                    if (nbb_cells[i].input_prompt_number == nbb_cell_id) {\n",
       "                        if (nbb_cells[i].get_text() == nbb_unformatted_code) {\n",
       "                             nbb_cells[i].set_text(nbb_formatted_code);\n",
       "                        }\n",
       "                        break;\n",
       "                    }\n",
       "                }\n",
       "            }, 500);\n",
       "            "
      ],
      "text/plain": [
       "<IPython.core.display.Javascript object>"
      ]
     },
     "metadata": {},
     "output_type": "display_data"
    }
   ],
   "source": [
    "# feature added; 'is over' column\n",
    "dfscore.loc[\n",
    "    ((dfscore[\"score_home\"] + dfscore[\"score_away\"]) > dfscore[\"over_under_line\"]),\n",
    "    \"is_over\",\n",
    "] = 1\n",
    "dfscore[\"is_over\"].fillna(0, inplace=True)"
   ]
  },
  {
   "cell_type": "code",
   "execution_count": 15,
   "metadata": {},
   "outputs": [
    {
     "data": {
      "application/javascript": [
       "\n",
       "            setTimeout(function() {\n",
       "                var nbb_cell_id = 15;\n",
       "                var nbb_unformatted_code = \"# Create features to show if favorited team beats spread or simply wins ml. \\ndfscore[\\\"away_w_fav\\\"] = 0\\ndfscore[\\\"home_w_fav\\\"] = 0\\ndfscore[\\\"away_ml_fav\\\"] = 0\\ndfscore[\\\"home_ml_fav\\\"] = 0\\n\\n\\ndfscore.loc[\\n    (\\n        (\\n            dfscore[\\\"score_away\\\"] - dfscore[\\\"score_home\\\"]\\n            > np.abs(dfscore[\\\"spread_favorite\\\"])\\n        )\\n        & (dfscore[\\\"away_favorite\\\"] == 1)\\n    ),\\n    \\\"away_w_fav\\\",\\n] = 1\\n\\ndfscore.loc[\\n    (\\n        (\\n            dfscore[\\\"score_away\\\"] > dfscore[\\\"score_home\\\"]\\n        )\\n        & (dfscore[\\\"away_favorite\\\"] == 1)\\n    ),\\n    \\\"away_ml_fav\\\",\\n] = 1\\n\\n\\n\\ndfscore.loc[\\n    (\\n        (\\n            dfscore[\\\"score_home\\\"] - dfscore[\\\"score_away\\\"]\\n            > np.abs(dfscore[\\\"spread_favorite\\\"])\\n        )\\n        & (dfscore[\\\"home_favorite\\\"] == 1)\\n    ),\\n    \\\"home_w_fav\\\",\\n] = 1\\n\\ndfscore.loc[\\n    (\\n        (\\n            dfscore[\\\"score_home\\\"] > dfscore[\\\"score_away\\\"]\\n        )\\n        & (dfscore[\\\"home_favorite\\\"] == 1)\\n    ),\\n    \\\"home_ml_fav\\\",\\n] = 1\";\n",
       "                var nbb_formatted_code = \"# Create features to show if favorited team beats spread or simply wins ml.\\ndfscore[\\\"away_w_fav\\\"] = 0\\ndfscore[\\\"home_w_fav\\\"] = 0\\ndfscore[\\\"away_ml_fav\\\"] = 0\\ndfscore[\\\"home_ml_fav\\\"] = 0\\n\\n\\ndfscore.loc[\\n    (\\n        (\\n            dfscore[\\\"score_away\\\"] - dfscore[\\\"score_home\\\"]\\n            > np.abs(dfscore[\\\"spread_favorite\\\"])\\n        )\\n        & (dfscore[\\\"away_favorite\\\"] == 1)\\n    ),\\n    \\\"away_w_fav\\\",\\n] = 1\\n\\ndfscore.loc[\\n    ((dfscore[\\\"score_away\\\"] > dfscore[\\\"score_home\\\"]) & (dfscore[\\\"away_favorite\\\"] == 1)),\\n    \\\"away_ml_fav\\\",\\n] = 1\\n\\n\\ndfscore.loc[\\n    (\\n        (\\n            dfscore[\\\"score_home\\\"] - dfscore[\\\"score_away\\\"]\\n            > np.abs(dfscore[\\\"spread_favorite\\\"])\\n        )\\n        & (dfscore[\\\"home_favorite\\\"] == 1)\\n    ),\\n    \\\"home_w_fav\\\",\\n] = 1\\n\\ndfscore.loc[\\n    ((dfscore[\\\"score_home\\\"] > dfscore[\\\"score_away\\\"]) & (dfscore[\\\"home_favorite\\\"] == 1)),\\n    \\\"home_ml_fav\\\",\\n] = 1\";\n",
       "                var nbb_cells = Jupyter.notebook.get_cells();\n",
       "                for (var i = 0; i < nbb_cells.length; ++i) {\n",
       "                    if (nbb_cells[i].input_prompt_number == nbb_cell_id) {\n",
       "                        if (nbb_cells[i].get_text() == nbb_unformatted_code) {\n",
       "                             nbb_cells[i].set_text(nbb_formatted_code);\n",
       "                        }\n",
       "                        break;\n",
       "                    }\n",
       "                }\n",
       "            }, 500);\n",
       "            "
      ],
      "text/plain": [
       "<IPython.core.display.Javascript object>"
      ]
     },
     "metadata": {},
     "output_type": "display_data"
    }
   ],
   "source": [
    "# Create features to show if favorited team beats spread or simply wins ml. \n",
    "dfscore[\"away_w_fav\"] = 0\n",
    "dfscore[\"home_w_fav\"] = 0\n",
    "dfscore[\"away_ml_fav\"] = 0\n",
    "dfscore[\"home_ml_fav\"] = 0\n",
    "\n",
    "\n",
    "dfscore.loc[\n",
    "    (\n",
    "        (\n",
    "            dfscore[\"score_away\"] - dfscore[\"score_home\"]\n",
    "            > np.abs(dfscore[\"spread_favorite\"])\n",
    "        )\n",
    "        & (dfscore[\"away_favorite\"] == 1)\n",
    "    ),\n",
    "    \"away_w_fav\",\n",
    "] = 1\n",
    "\n",
    "dfscore.loc[\n",
    "    (\n",
    "        (\n",
    "            dfscore[\"score_away\"] > dfscore[\"score_home\"]\n",
    "        )\n",
    "        & (dfscore[\"away_favorite\"] == 1)\n",
    "    ),\n",
    "    \"away_ml_fav\",\n",
    "] = 1\n",
    "\n",
    "\n",
    "\n",
    "dfscore.loc[\n",
    "    (\n",
    "        (\n",
    "            dfscore[\"score_home\"] - dfscore[\"score_away\"]\n",
    "            > np.abs(dfscore[\"spread_favorite\"])\n",
    "        )\n",
    "        & (dfscore[\"home_favorite\"] == 1)\n",
    "    ),\n",
    "    \"home_w_fav\",\n",
    "] = 1\n",
    "\n",
    "dfscore.loc[\n",
    "    (\n",
    "        (\n",
    "            dfscore[\"score_home\"] > dfscore[\"score_away\"]\n",
    "        )\n",
    "        & (dfscore[\"home_favorite\"] == 1)\n",
    "    ),\n",
    "    \"home_ml_fav\",\n",
    "] = 1\n",
    "\n"
   ]
  },
  {
   "cell_type": "markdown",
   "metadata": {},
   "source": [
    "### More EDA"
   ]
  },
  {
   "cell_type": "code",
   "execution_count": 16,
   "metadata": {},
   "outputs": [
    {
     "data": {
      "text/html": [
       "<div>\n",
       "<style scoped>\n",
       "    .dataframe tbody tr th:only-of-type {\n",
       "        vertical-align: middle;\n",
       "    }\n",
       "\n",
       "    .dataframe tbody tr th {\n",
       "        vertical-align: top;\n",
       "    }\n",
       "\n",
       "    .dataframe thead th {\n",
       "        text-align: right;\n",
       "    }\n",
       "</style>\n",
       "<table border=\"1\" class=\"dataframe\">\n",
       "  <thead>\n",
       "    <tr style=\"text-align: right;\">\n",
       "      <th></th>\n",
       "      <th>count</th>\n",
       "      <th>mean</th>\n",
       "      <th>std</th>\n",
       "      <th>min</th>\n",
       "      <th>25%</th>\n",
       "      <th>50%</th>\n",
       "      <th>75%</th>\n",
       "      <th>max</th>\n",
       "    </tr>\n",
       "  </thead>\n",
       "  <tbody>\n",
       "    <tr>\n",
       "      <th>schedule_season</th>\n",
       "      <td>513.0</td>\n",
       "      <td>2017.296296</td>\n",
       "      <td>1.587895</td>\n",
       "      <td>2015.000</td>\n",
       "      <td>2016.000</td>\n",
       "      <td>2017.000</td>\n",
       "      <td>2019.000</td>\n",
       "      <td>2020.00</td>\n",
       "    </tr>\n",
       "    <tr>\n",
       "      <th>spread_favorite</th>\n",
       "      <td>513.0</td>\n",
       "      <td>-4.359649</td>\n",
       "      <td>2.877850</td>\n",
       "      <td>-18.000</td>\n",
       "      <td>-6.000</td>\n",
       "      <td>-3.000</td>\n",
       "      <td>-2.500</td>\n",
       "      <td>-1.00</td>\n",
       "    </tr>\n",
       "    <tr>\n",
       "      <th>over_under_line</th>\n",
       "      <td>513.0</td>\n",
       "      <td>45.274854</td>\n",
       "      <td>4.252813</td>\n",
       "      <td>35.000</td>\n",
       "      <td>42.000</td>\n",
       "      <td>45.000</td>\n",
       "      <td>48.000</td>\n",
       "      <td>57.50</td>\n",
       "    </tr>\n",
       "    <tr>\n",
       "      <th>score_home</th>\n",
       "      <td>513.0</td>\n",
       "      <td>19.988304</td>\n",
       "      <td>9.906588</td>\n",
       "      <td>0.000</td>\n",
       "      <td>13.000</td>\n",
       "      <td>20.000</td>\n",
       "      <td>26.000</td>\n",
       "      <td>57.00</td>\n",
       "    </tr>\n",
       "    <tr>\n",
       "      <th>score_away</th>\n",
       "      <td>513.0</td>\n",
       "      <td>24.352827</td>\n",
       "      <td>10.017284</td>\n",
       "      <td>0.000</td>\n",
       "      <td>17.000</td>\n",
       "      <td>24.000</td>\n",
       "      <td>31.000</td>\n",
       "      <td>59.00</td>\n",
       "    </tr>\n",
       "    <tr>\n",
       "      <th>mean_home</th>\n",
       "      <td>513.0</td>\n",
       "      <td>21.384420</td>\n",
       "      <td>4.239995</td>\n",
       "      <td>12.250</td>\n",
       "      <td>18.625</td>\n",
       "      <td>21.125</td>\n",
       "      <td>23.625</td>\n",
       "      <td>36.00</td>\n",
       "    </tr>\n",
       "    <tr>\n",
       "      <th>mean_away</th>\n",
       "      <td>513.0</td>\n",
       "      <td>23.640178</td>\n",
       "      <td>4.759374</td>\n",
       "      <td>13.875</td>\n",
       "      <td>20.875</td>\n",
       "      <td>23.375</td>\n",
       "      <td>26.875</td>\n",
       "      <td>38.25</td>\n",
       "    </tr>\n",
       "    <tr>\n",
       "      <th>home_favorite</th>\n",
       "      <td>513.0</td>\n",
       "      <td>0.000000</td>\n",
       "      <td>0.000000</td>\n",
       "      <td>0.000</td>\n",
       "      <td>0.000</td>\n",
       "      <td>0.000</td>\n",
       "      <td>0.000</td>\n",
       "      <td>0.00</td>\n",
       "    </tr>\n",
       "    <tr>\n",
       "      <th>away_favorite</th>\n",
       "      <td>513.0</td>\n",
       "      <td>1.000000</td>\n",
       "      <td>0.000000</td>\n",
       "      <td>1.000</td>\n",
       "      <td>1.000</td>\n",
       "      <td>1.000</td>\n",
       "      <td>1.000</td>\n",
       "      <td>1.00</td>\n",
       "    </tr>\n",
       "    <tr>\n",
       "      <th>is_over</th>\n",
       "      <td>513.0</td>\n",
       "      <td>0.461988</td>\n",
       "      <td>0.499040</td>\n",
       "      <td>0.000</td>\n",
       "      <td>0.000</td>\n",
       "      <td>0.000</td>\n",
       "      <td>1.000</td>\n",
       "      <td>1.00</td>\n",
       "    </tr>\n",
       "    <tr>\n",
       "      <th>away_w_fav</th>\n",
       "      <td>513.0</td>\n",
       "      <td>0.479532</td>\n",
       "      <td>0.500069</td>\n",
       "      <td>0.000</td>\n",
       "      <td>0.000</td>\n",
       "      <td>0.000</td>\n",
       "      <td>1.000</td>\n",
       "      <td>1.00</td>\n",
       "    </tr>\n",
       "    <tr>\n",
       "      <th>home_w_fav</th>\n",
       "      <td>513.0</td>\n",
       "      <td>0.000000</td>\n",
       "      <td>0.000000</td>\n",
       "      <td>0.000</td>\n",
       "      <td>0.000</td>\n",
       "      <td>0.000</td>\n",
       "      <td>0.000</td>\n",
       "      <td>0.00</td>\n",
       "    </tr>\n",
       "    <tr>\n",
       "      <th>away_ml_fav</th>\n",
       "      <td>513.0</td>\n",
       "      <td>0.629630</td>\n",
       "      <td>0.483375</td>\n",
       "      <td>0.000</td>\n",
       "      <td>0.000</td>\n",
       "      <td>1.000</td>\n",
       "      <td>1.000</td>\n",
       "      <td>1.00</td>\n",
       "    </tr>\n",
       "    <tr>\n",
       "      <th>home_ml_fav</th>\n",
       "      <td>513.0</td>\n",
       "      <td>0.000000</td>\n",
       "      <td>0.000000</td>\n",
       "      <td>0.000</td>\n",
       "      <td>0.000</td>\n",
       "      <td>0.000</td>\n",
       "      <td>0.000</td>\n",
       "      <td>0.00</td>\n",
       "    </tr>\n",
       "  </tbody>\n",
       "</table>\n",
       "</div>"
      ],
      "text/plain": [
       "                 count         mean        std       min       25%       50%  \\\n",
       "schedule_season  513.0  2017.296296   1.587895  2015.000  2016.000  2017.000   \n",
       "spread_favorite  513.0    -4.359649   2.877850   -18.000    -6.000    -3.000   \n",
       "over_under_line  513.0    45.274854   4.252813    35.000    42.000    45.000   \n",
       "score_home       513.0    19.988304   9.906588     0.000    13.000    20.000   \n",
       "score_away       513.0    24.352827  10.017284     0.000    17.000    24.000   \n",
       "mean_home        513.0    21.384420   4.239995    12.250    18.625    21.125   \n",
       "mean_away        513.0    23.640178   4.759374    13.875    20.875    23.375   \n",
       "home_favorite    513.0     0.000000   0.000000     0.000     0.000     0.000   \n",
       "away_favorite    513.0     1.000000   0.000000     1.000     1.000     1.000   \n",
       "is_over          513.0     0.461988   0.499040     0.000     0.000     0.000   \n",
       "away_w_fav       513.0     0.479532   0.500069     0.000     0.000     0.000   \n",
       "home_w_fav       513.0     0.000000   0.000000     0.000     0.000     0.000   \n",
       "away_ml_fav      513.0     0.629630   0.483375     0.000     0.000     1.000   \n",
       "home_ml_fav      513.0     0.000000   0.000000     0.000     0.000     0.000   \n",
       "\n",
       "                      75%      max  \n",
       "schedule_season  2019.000  2020.00  \n",
       "spread_favorite    -2.500    -1.00  \n",
       "over_under_line    48.000    57.50  \n",
       "score_home         26.000    57.00  \n",
       "score_away         31.000    59.00  \n",
       "mean_home          23.625    36.00  \n",
       "mean_away          26.875    38.25  \n",
       "home_favorite       0.000     0.00  \n",
       "away_favorite       1.000     1.00  \n",
       "is_over             1.000     1.00  \n",
       "away_w_fav          1.000     1.00  \n",
       "home_w_fav          0.000     0.00  \n",
       "away_ml_fav         1.000     1.00  \n",
       "home_ml_fav         0.000     0.00  "
      ]
     },
     "metadata": {},
     "output_type": "display_data"
    },
    {
     "data": {
      "text/html": [
       "<div>\n",
       "<style scoped>\n",
       "    .dataframe tbody tr th:only-of-type {\n",
       "        vertical-align: middle;\n",
       "    }\n",
       "\n",
       "    .dataframe tbody tr th {\n",
       "        vertical-align: top;\n",
       "    }\n",
       "\n",
       "    .dataframe thead th {\n",
       "        text-align: right;\n",
       "    }\n",
       "</style>\n",
       "<table border=\"1\" class=\"dataframe\">\n",
       "  <thead>\n",
       "    <tr style=\"text-align: right;\">\n",
       "      <th></th>\n",
       "      <th>count</th>\n",
       "      <th>mean</th>\n",
       "      <th>std</th>\n",
       "      <th>min</th>\n",
       "      <th>25%</th>\n",
       "      <th>50%</th>\n",
       "      <th>75%</th>\n",
       "      <th>max</th>\n",
       "    </tr>\n",
       "  </thead>\n",
       "  <tbody>\n",
       "    <tr>\n",
       "      <th>schedule_season</th>\n",
       "      <td>934.0</td>\n",
       "      <td>2017.230193</td>\n",
       "      <td>1.582836</td>\n",
       "      <td>2015.00</td>\n",
       "      <td>2016.000000</td>\n",
       "      <td>2017.00</td>\n",
       "      <td>2019.000000</td>\n",
       "      <td>2020.00</td>\n",
       "    </tr>\n",
       "    <tr>\n",
       "      <th>spread_favorite</th>\n",
       "      <td>934.0</td>\n",
       "      <td>-5.676124</td>\n",
       "      <td>3.527305</td>\n",
       "      <td>-21.50</td>\n",
       "      <td>-7.500000</td>\n",
       "      <td>-5.00</td>\n",
       "      <td>-3.000000</td>\n",
       "      <td>-1.00</td>\n",
       "    </tr>\n",
       "    <tr>\n",
       "      <th>over_under_line</th>\n",
       "      <td>934.0</td>\n",
       "      <td>45.771413</td>\n",
       "      <td>4.273218</td>\n",
       "      <td>36.50</td>\n",
       "      <td>43.000000</td>\n",
       "      <td>45.50</td>\n",
       "      <td>48.500000</td>\n",
       "      <td>63.50</td>\n",
       "    </tr>\n",
       "    <tr>\n",
       "      <th>score_home</th>\n",
       "      <td>934.0</td>\n",
       "      <td>25.900428</td>\n",
       "      <td>9.555150</td>\n",
       "      <td>0.00</td>\n",
       "      <td>20.000000</td>\n",
       "      <td>26.00</td>\n",
       "      <td>31.000000</td>\n",
       "      <td>54.00</td>\n",
       "    </tr>\n",
       "    <tr>\n",
       "      <th>score_away</th>\n",
       "      <td>934.0</td>\n",
       "      <td>20.724839</td>\n",
       "      <td>9.418590</td>\n",
       "      <td>0.00</td>\n",
       "      <td>14.000000</td>\n",
       "      <td>20.00</td>\n",
       "      <td>27.000000</td>\n",
       "      <td>55.00</td>\n",
       "    </tr>\n",
       "    <tr>\n",
       "      <th>mean_home</th>\n",
       "      <td>934.0</td>\n",
       "      <td>25.114116</td>\n",
       "      <td>4.513103</td>\n",
       "      <td>12.25</td>\n",
       "      <td>22.000000</td>\n",
       "      <td>24.50</td>\n",
       "      <td>28.444444</td>\n",
       "      <td>36.00</td>\n",
       "    </tr>\n",
       "    <tr>\n",
       "      <th>mean_away</th>\n",
       "      <td>934.0</td>\n",
       "      <td>21.156332</td>\n",
       "      <td>4.564613</td>\n",
       "      <td>8.25</td>\n",
       "      <td>17.888889</td>\n",
       "      <td>21.25</td>\n",
       "      <td>24.000000</td>\n",
       "      <td>38.25</td>\n",
       "    </tr>\n",
       "    <tr>\n",
       "      <th>home_favorite</th>\n",
       "      <td>934.0</td>\n",
       "      <td>1.000000</td>\n",
       "      <td>0.000000</td>\n",
       "      <td>1.00</td>\n",
       "      <td>1.000000</td>\n",
       "      <td>1.00</td>\n",
       "      <td>1.000000</td>\n",
       "      <td>1.00</td>\n",
       "    </tr>\n",
       "    <tr>\n",
       "      <th>away_favorite</th>\n",
       "      <td>934.0</td>\n",
       "      <td>0.000000</td>\n",
       "      <td>0.000000</td>\n",
       "      <td>0.00</td>\n",
       "      <td>0.000000</td>\n",
       "      <td>0.00</td>\n",
       "      <td>0.000000</td>\n",
       "      <td>0.00</td>\n",
       "    </tr>\n",
       "    <tr>\n",
       "      <th>is_over</th>\n",
       "      <td>934.0</td>\n",
       "      <td>0.495717</td>\n",
       "      <td>0.500250</td>\n",
       "      <td>0.00</td>\n",
       "      <td>0.000000</td>\n",
       "      <td>0.00</td>\n",
       "      <td>1.000000</td>\n",
       "      <td>1.00</td>\n",
       "    </tr>\n",
       "    <tr>\n",
       "      <th>away_w_fav</th>\n",
       "      <td>934.0</td>\n",
       "      <td>0.000000</td>\n",
       "      <td>0.000000</td>\n",
       "      <td>0.00</td>\n",
       "      <td>0.000000</td>\n",
       "      <td>0.00</td>\n",
       "      <td>0.000000</td>\n",
       "      <td>0.00</td>\n",
       "    </tr>\n",
       "    <tr>\n",
       "      <th>home_w_fav</th>\n",
       "      <td>934.0</td>\n",
       "      <td>0.453961</td>\n",
       "      <td>0.498143</td>\n",
       "      <td>0.00</td>\n",
       "      <td>0.000000</td>\n",
       "      <td>0.00</td>\n",
       "      <td>1.000000</td>\n",
       "      <td>1.00</td>\n",
       "    </tr>\n",
       "    <tr>\n",
       "      <th>away_ml_fav</th>\n",
       "      <td>934.0</td>\n",
       "      <td>0.000000</td>\n",
       "      <td>0.000000</td>\n",
       "      <td>0.00</td>\n",
       "      <td>0.000000</td>\n",
       "      <td>0.00</td>\n",
       "      <td>0.000000</td>\n",
       "      <td>0.00</td>\n",
       "    </tr>\n",
       "    <tr>\n",
       "      <th>home_ml_fav</th>\n",
       "      <td>934.0</td>\n",
       "      <td>0.664882</td>\n",
       "      <td>0.472285</td>\n",
       "      <td>0.00</td>\n",
       "      <td>0.000000</td>\n",
       "      <td>1.00</td>\n",
       "      <td>1.000000</td>\n",
       "      <td>1.00</td>\n",
       "    </tr>\n",
       "  </tbody>\n",
       "</table>\n",
       "</div>"
      ],
      "text/plain": [
       "                 count         mean       std      min          25%      50%  \\\n",
       "schedule_season  934.0  2017.230193  1.582836  2015.00  2016.000000  2017.00   \n",
       "spread_favorite  934.0    -5.676124  3.527305   -21.50    -7.500000    -5.00   \n",
       "over_under_line  934.0    45.771413  4.273218    36.50    43.000000    45.50   \n",
       "score_home       934.0    25.900428  9.555150     0.00    20.000000    26.00   \n",
       "score_away       934.0    20.724839  9.418590     0.00    14.000000    20.00   \n",
       "mean_home        934.0    25.114116  4.513103    12.25    22.000000    24.50   \n",
       "mean_away        934.0    21.156332  4.564613     8.25    17.888889    21.25   \n",
       "home_favorite    934.0     1.000000  0.000000     1.00     1.000000     1.00   \n",
       "away_favorite    934.0     0.000000  0.000000     0.00     0.000000     0.00   \n",
       "is_over          934.0     0.495717  0.500250     0.00     0.000000     0.00   \n",
       "away_w_fav       934.0     0.000000  0.000000     0.00     0.000000     0.00   \n",
       "home_w_fav       934.0     0.453961  0.498143     0.00     0.000000     0.00   \n",
       "away_ml_fav      934.0     0.000000  0.000000     0.00     0.000000     0.00   \n",
       "home_ml_fav      934.0     0.664882  0.472285     0.00     0.000000     1.00   \n",
       "\n",
       "                         75%      max  \n",
       "schedule_season  2019.000000  2020.00  \n",
       "spread_favorite    -3.000000    -1.00  \n",
       "over_under_line    48.500000    63.50  \n",
       "score_home         31.000000    54.00  \n",
       "score_away         27.000000    55.00  \n",
       "mean_home          28.444444    36.00  \n",
       "mean_away          24.000000    38.25  \n",
       "home_favorite       1.000000     1.00  \n",
       "away_favorite       0.000000     0.00  \n",
       "is_over             1.000000     1.00  \n",
       "away_w_fav          0.000000     0.00  \n",
       "home_w_fav          1.000000     1.00  \n",
       "away_ml_fav         0.000000     0.00  \n",
       "home_ml_fav         1.000000     1.00  "
      ]
     },
     "execution_count": 16,
     "metadata": {},
     "output_type": "execute_result"
    },
    {
     "data": {
      "application/javascript": [
       "\n",
       "            setTimeout(function() {\n",
       "                var nbb_cell_id = 16;\n",
       "                var nbb_unformatted_code = \"# looking  at statistics of how often the favored team team wins or covers a spread.\\n# Home win (~68%), covers (~47%)\\n# Away win (~62%), covers (~47%)\\n\\ndisplay(dfscore[dfscore[\\\"away_favorite\\\"] == 1].describe().transpose())\\ndfscore[dfscore[\\\"home_favorite\\\"] == 1].describe().transpose()\";\n",
       "                var nbb_formatted_code = \"# looking  at statistics of how often the favored team team wins or covers a spread.\\n# Home win (~68%), covers (~47%)\\n# Away win (~62%), covers (~47%)\\n\\ndisplay(dfscore[dfscore[\\\"away_favorite\\\"] == 1].describe().transpose())\\ndfscore[dfscore[\\\"home_favorite\\\"] == 1].describe().transpose()\";\n",
       "                var nbb_cells = Jupyter.notebook.get_cells();\n",
       "                for (var i = 0; i < nbb_cells.length; ++i) {\n",
       "                    if (nbb_cells[i].input_prompt_number == nbb_cell_id) {\n",
       "                        if (nbb_cells[i].get_text() == nbb_unformatted_code) {\n",
       "                             nbb_cells[i].set_text(nbb_formatted_code);\n",
       "                        }\n",
       "                        break;\n",
       "                    }\n",
       "                }\n",
       "            }, 500);\n",
       "            "
      ],
      "text/plain": [
       "<IPython.core.display.Javascript object>"
      ]
     },
     "metadata": {},
     "output_type": "display_data"
    }
   ],
   "source": [
    "# looking  at statistics of how often the favored team team wins or covers a spread.\n",
    "# Home win (~68%), covers (~47%)\n",
    "# Away win (~62%), covers (~47%)\n",
    "\n",
    "display(dfscore[dfscore[\"away_favorite\"] == 1].describe().transpose())\n",
    "dfscore[dfscore[\"home_favorite\"] == 1].describe().transpose()\n"
   ]
  },
  {
   "cell_type": "code",
   "execution_count": 17,
   "metadata": {},
   "outputs": [
    {
     "data": {
      "image/png": "[encoded data removed]",
      "text/plain": [
       "<Figure size 432x288 with 1 Axes>"
      ]
     },
     "metadata": {
      "needs_background": "light"
     },
     "output_type": "display_data"
    },
    {
     "data": {
      "application/javascript": [
       "\n",
       "            setTimeout(function() {\n",
       "                var nbb_cell_id = 17;\n",
       "                var nbb_unformatted_code = \"# Visualize data relationships\\nsns.scatterplot(\\n    x=\\\"spread_favorite\\\", y=\\\"score_home\\\", hue=\\\"home_w_fav\\\", alpha=0.5, data=dfscore\\n)\\nplt.title('How Often Does the Home Team Favorite Beat The Spread?')\\nplt.legend()\\nplt.show()\";\n",
       "                var nbb_formatted_code = \"# Visualize data relationships\\nsns.scatterplot(\\n    x=\\\"spread_favorite\\\", y=\\\"score_home\\\", hue=\\\"home_w_fav\\\", alpha=0.5, data=dfscore\\n)\\nplt.title(\\\"How Often Does the Home Team Favorite Beat The Spread?\\\")\\nplt.legend()\\nplt.show()\";\n",
       "                var nbb_cells = Jupyter.notebook.get_cells();\n",
       "                for (var i = 0; i < nbb_cells.length; ++i) {\n",
       "                    if (nbb_cells[i].input_prompt_number == nbb_cell_id) {\n",
       "                        if (nbb_cells[i].get_text() == nbb_unformatted_code) {\n",
       "                             nbb_cells[i].set_text(nbb_formatted_code);\n",
       "                        }\n",
       "                        break;\n",
       "                    }\n",
       "                }\n",
       "            }, 500);\n",
       "            "
      ],
      "text/plain": [
       "<IPython.core.display.Javascript object>"
      ]
     },
     "metadata": {},
     "output_type": "display_data"
    }
   ],
   "source": [
    "# Visualize data relationships\n",
    "sns.scatterplot(\n",
    "    x=\"spread_favorite\", y=\"score_home\", hue=\"home_w_fav\", alpha=0.5, data=dfscore\n",
    ")\n",
    "plt.title('How Often Does the Home Team Favorite Beat The Spread?')\n",
    "plt.legend()\n",
    "plt.show()\n",
    "\n"
   ]
  },
  {
   "cell_type": "code",
   "execution_count": 18,
   "metadata": {},
   "outputs": [
    {
     "data": {
      "image/png": "[encoded data removed]",
      "text/plain": [
       "<Figure size 432x288 with 1 Axes>"
      ]
     },
     "metadata": {
      "needs_background": "light"
     },
     "output_type": "display_data"
    },
    {
     "data": {
      "application/javascript": [
       "\n",
       "            setTimeout(function() {\n",
       "                var nbb_cell_id = 18;\n",
       "                var nbb_unformatted_code = \"sns.scatterplot(\\n    x=\\\"spread_favorite\\\", y=\\\"score_home\\\", hue=\\\"home_ml_fav\\\", alpha=0.5, data=dfscore\\n)\\nplt.title(\\\"How Often Does the Home Team Favorite Win the Game?\\\")\\nplt.show()\";\n",
       "                var nbb_formatted_code = \"sns.scatterplot(\\n    x=\\\"spread_favorite\\\", y=\\\"score_home\\\", hue=\\\"home_ml_fav\\\", alpha=0.5, data=dfscore\\n)\\nplt.title(\\\"How Often Does the Home Team Favorite Win the Game?\\\")\\nplt.show()\";\n",
       "                var nbb_cells = Jupyter.notebook.get_cells();\n",
       "                for (var i = 0; i < nbb_cells.length; ++i) {\n",
       "                    if (nbb_cells[i].input_prompt_number == nbb_cell_id) {\n",
       "                        if (nbb_cells[i].get_text() == nbb_unformatted_code) {\n",
       "                             nbb_cells[i].set_text(nbb_formatted_code);\n",
       "                        }\n",
       "                        break;\n",
       "                    }\n",
       "                }\n",
       "            }, 500);\n",
       "            "
      ],
      "text/plain": [
       "<IPython.core.display.Javascript object>"
      ]
     },
     "metadata": {},
     "output_type": "display_data"
    }
   ],
   "source": [
    "sns.scatterplot(\n",
    "    x=\"spread_favorite\", y=\"score_home\", hue=\"home_ml_fav\", alpha=0.5, data=dfscore\n",
    ")\n",
    "plt.title(\"How Often Does the Home Team Favorite Win the Game?\")\n",
    "plt.show()"
   ]
  },
  {
   "cell_type": "markdown",
   "metadata": {},
   "source": [
    "### Feature prep for models"
   ]
  },
  {
   "cell_type": "code",
   "execution_count": 19,
   "metadata": {},
   "outputs": [
    {
     "data": {
      "text/plain": [
       "0        1\n",
       "1       19\n",
       "2        5\n",
       "3        3\n",
       "4        7\n",
       "        ..\n",
       "1449     5\n",
       "1450     2\n",
       "1451     7\n",
       "1452     5\n",
       "1453     4\n",
       "Name: schedule_week, Length: 1454, dtype: int64"
      ]
     },
     "execution_count": 19,
     "metadata": {},
     "output_type": "execute_result"
    },
    {
     "data": {
      "application/javascript": [
       "\n",
       "            setTimeout(function() {\n",
       "                var nbb_cell_id = 19;\n",
       "                var nbb_unformatted_code = \"# Assign numbers to week names to prep the 'schedule_week' column.\\n\\ndfscore.loc[(dfscore.schedule_week == \\\"18\\\"), \\\"schedule_week\\\"] = \\\"17\\\"\\ndfscore.loc[\\n    (dfscore.schedule_week == \\\"Wildcard\\\") | (dfscore.schedule_week == \\\"WildCard\\\"),\\n    \\\"schedule_week\\\",\\n] = \\\"18\\\"\\ndfscore.loc[(dfscore.schedule_week == \\\"Division\\\"), \\\"schedule_week\\\"] = \\\"19\\\"\\ndfscore.loc[(dfscore.schedule_week == \\\"Conference\\\"), \\\"schedule_week\\\"] = \\\"20\\\"\\ndfscore.loc[\\n    (dfscore.schedule_week == \\\"Superbowl\\\") | (dfscore.schedule_week == \\\"SuperBowl\\\"),\\n    \\\"schedule_week\\\",\\n] = \\\"21\\\"\\ndfscore[\\\"schedule_week\\\"] = dfscore.schedule_week.astype(int)\\ndfscore[\\\"schedule_week\\\"]\";\n",
       "                var nbb_formatted_code = \"# Assign numbers to week names to prep the 'schedule_week' column.\\n\\ndfscore.loc[(dfscore.schedule_week == \\\"18\\\"), \\\"schedule_week\\\"] = \\\"17\\\"\\ndfscore.loc[\\n    (dfscore.schedule_week == \\\"Wildcard\\\") | (dfscore.schedule_week == \\\"WildCard\\\"),\\n    \\\"schedule_week\\\",\\n] = \\\"18\\\"\\ndfscore.loc[(dfscore.schedule_week == \\\"Division\\\"), \\\"schedule_week\\\"] = \\\"19\\\"\\ndfscore.loc[(dfscore.schedule_week == \\\"Conference\\\"), \\\"schedule_week\\\"] = \\\"20\\\"\\ndfscore.loc[\\n    (dfscore.schedule_week == \\\"Superbowl\\\") | (dfscore.schedule_week == \\\"SuperBowl\\\"),\\n    \\\"schedule_week\\\",\\n] = \\\"21\\\"\\ndfscore[\\\"schedule_week\\\"] = dfscore.schedule_week.astype(int)\\ndfscore[\\\"schedule_week\\\"]\";\n",
       "                var nbb_cells = Jupyter.notebook.get_cells();\n",
       "                for (var i = 0; i < nbb_cells.length; ++i) {\n",
       "                    if (nbb_cells[i].input_prompt_number == nbb_cell_id) {\n",
       "                        if (nbb_cells[i].get_text() == nbb_unformatted_code) {\n",
       "                             nbb_cells[i].set_text(nbb_formatted_code);\n",
       "                        }\n",
       "                        break;\n",
       "                    }\n",
       "                }\n",
       "            }, 500);\n",
       "            "
      ],
      "text/plain": [
       "<IPython.core.display.Javascript object>"
      ]
     },
     "metadata": {},
     "output_type": "display_data"
    }
   ],
   "source": [
    "# Assign numbers to week names to prep the 'schedule_week' column.\n",
    "\n",
    "dfscore.loc[(dfscore.schedule_week == \"18\"), \"schedule_week\"] = \"17\"\n",
    "dfscore.loc[\n",
    "    (dfscore.schedule_week == \"Wildcard\") | (dfscore.schedule_week == \"WildCard\"),\n",
    "    \"schedule_week\",\n",
    "] = \"18\"\n",
    "dfscore.loc[(dfscore.schedule_week == \"Division\"), \"schedule_week\"] = \"19\"\n",
    "dfscore.loc[(dfscore.schedule_week == \"Conference\"), \"schedule_week\"] = \"20\"\n",
    "dfscore.loc[\n",
    "    (dfscore.schedule_week == \"Superbowl\") | (dfscore.schedule_week == \"SuperBowl\"),\n",
    "    \"schedule_week\",\n",
    "] = \"21\"\n",
    "dfscore[\"schedule_week\"] = dfscore.schedule_week.astype(int)\n",
    "dfscore[\"schedule_week\"]"
   ]
  },
  {
   "cell_type": "code",
   "execution_count": 20,
   "metadata": {},
   "outputs": [
    {
     "data": {
      "application/javascript": [
       "\n",
       "            setTimeout(function() {\n",
       "                var nbb_cell_id = 20;\n",
       "                var nbb_unformatted_code = \"# Shorten the season weeks to analyze mid week.\\n# Reasoning - early weeks and late weeks have different strategies.\\n#    .... Mid season weeks have more strategic uniformity.\\ndfss = dfscore[(dfscore[\\\"schedule_week\\\"] >= 3) & (dfscore[\\\"schedule_week\\\"] <= 15)]\\ndfss_copy = dfss.copy()\";\n",
       "                var nbb_formatted_code = \"# Shorten the season weeks to analyze mid week.\\n# Reasoning - early weeks and late weeks have different strategies.\\n#    .... Mid season weeks have more strategic uniformity.\\ndfss = dfscore[(dfscore[\\\"schedule_week\\\"] >= 3) & (dfscore[\\\"schedule_week\\\"] <= 15)]\\ndfss_copy = dfss.copy()\";\n",
       "                var nbb_cells = Jupyter.notebook.get_cells();\n",
       "                for (var i = 0; i < nbb_cells.length; ++i) {\n",
       "                    if (nbb_cells[i].input_prompt_number == nbb_cell_id) {\n",
       "                        if (nbb_cells[i].get_text() == nbb_unformatted_code) {\n",
       "                             nbb_cells[i].set_text(nbb_formatted_code);\n",
       "                        }\n",
       "                        break;\n",
       "                    }\n",
       "                }\n",
       "            }, 500);\n",
       "            "
      ],
      "text/plain": [
       "<IPython.core.display.Javascript object>"
      ]
     },
     "metadata": {},
     "output_type": "display_data"
    }
   ],
   "source": [
    "# Shorten the season weeks to analyze mid week.\n",
    "# Reasoning - early weeks and late weeks have different strategies.\n",
    "#    .... Mid season weeks have more strategic uniformity.\n",
    "dfss = dfscore[(dfscore[\"schedule_week\"] >= 3) & (dfscore[\"schedule_week\"] <= 15)]\n",
    "dfss_copy = dfss.copy()"
   ]
  },
  {
   "cell_type": "code",
   "execution_count": 21,
   "metadata": {},
   "outputs": [
    {
     "data": {
      "text/html": [
       "<div>\n",
       "<style scoped>\n",
       "    .dataframe tbody tr th:only-of-type {\n",
       "        vertical-align: middle;\n",
       "    }\n",
       "\n",
       "    .dataframe tbody tr th {\n",
       "        vertical-align: top;\n",
       "    }\n",
       "\n",
       "    .dataframe thead th {\n",
       "        text-align: right;\n",
       "    }\n",
       "</style>\n",
       "<table border=\"1\" class=\"dataframe\">\n",
       "  <thead>\n",
       "    <tr style=\"text-align: right;\">\n",
       "      <th></th>\n",
       "      <th>schedule_season</th>\n",
       "      <th>schedule_week</th>\n",
       "      <th>team</th>\n",
       "      <th>score</th>\n",
       "      <th>w_fav</th>\n",
       "      <th>ml_fav</th>\n",
       "      <th>score_lag_1</th>\n",
       "      <th>score_lag_2</th>\n",
       "      <th>spread_lag_1</th>\n",
       "      <th>spread_lag_2</th>\n",
       "      <th>ml_lag_1</th>\n",
       "      <th>ml_lag_2</th>\n",
       "    </tr>\n",
       "  </thead>\n",
       "  <tbody>\n",
       "    <tr>\n",
       "      <th>76</th>\n",
       "      <td>2015</td>\n",
       "      <td>1</td>\n",
       "      <td>ARI</td>\n",
       "      <td>31.0</td>\n",
       "      <td>1</td>\n",
       "      <td>1</td>\n",
       "      <td>NaN</td>\n",
       "      <td>NaN</td>\n",
       "      <td>NaN</td>\n",
       "      <td>NaN</td>\n",
       "      <td>NaN</td>\n",
       "      <td>NaN</td>\n",
       "    </tr>\n",
       "    <tr>\n",
       "      <th>185</th>\n",
       "      <td>2015</td>\n",
       "      <td>2</td>\n",
       "      <td>ARI</td>\n",
       "      <td>48.0</td>\n",
       "      <td>1</td>\n",
       "      <td>1</td>\n",
       "      <td>31.0</td>\n",
       "      <td>NaN</td>\n",
       "      <td>1.0</td>\n",
       "      <td>NaN</td>\n",
       "      <td>1.0</td>\n",
       "      <td>NaN</td>\n",
       "    </tr>\n",
       "    <tr>\n",
       "      <th>84</th>\n",
       "      <td>2015</td>\n",
       "      <td>3</td>\n",
       "      <td>ARI</td>\n",
       "      <td>47.0</td>\n",
       "      <td>1</td>\n",
       "      <td>1</td>\n",
       "      <td>48.0</td>\n",
       "      <td>31.0</td>\n",
       "      <td>1.0</td>\n",
       "      <td>1.0</td>\n",
       "      <td>1.0</td>\n",
       "      <td>1.0</td>\n",
       "    </tr>\n",
       "    <tr>\n",
       "      <th>92</th>\n",
       "      <td>2015</td>\n",
       "      <td>4</td>\n",
       "      <td>ARI</td>\n",
       "      <td>22.0</td>\n",
       "      <td>0</td>\n",
       "      <td>0</td>\n",
       "      <td>47.0</td>\n",
       "      <td>48.0</td>\n",
       "      <td>1.0</td>\n",
       "      <td>1.0</td>\n",
       "      <td>1.0</td>\n",
       "      <td>1.0</td>\n",
       "    </tr>\n",
       "    <tr>\n",
       "      <th>192</th>\n",
       "      <td>2015</td>\n",
       "      <td>5</td>\n",
       "      <td>ARI</td>\n",
       "      <td>42.0</td>\n",
       "      <td>1</td>\n",
       "      <td>1</td>\n",
       "      <td>22.0</td>\n",
       "      <td>47.0</td>\n",
       "      <td>0.0</td>\n",
       "      <td>1.0</td>\n",
       "      <td>0.0</td>\n",
       "      <td>1.0</td>\n",
       "    </tr>\n",
       "  </tbody>\n",
       "</table>\n",
       "</div>"
      ],
      "text/plain": [
       "     schedule_season  schedule_week team  score  w_fav  ml_fav  score_lag_1  \\\n",
       "76              2015              1  ARI   31.0      1       1          NaN   \n",
       "185             2015              2  ARI   48.0      1       1         31.0   \n",
       "84              2015              3  ARI   47.0      1       1         48.0   \n",
       "92              2015              4  ARI   22.0      0       0         47.0   \n",
       "192             2015              5  ARI   42.0      1       1         22.0   \n",
       "\n",
       "     score_lag_2  spread_lag_1  spread_lag_2  ml_lag_1  ml_lag_2  \n",
       "76           NaN           NaN           NaN       NaN       NaN  \n",
       "185          NaN           1.0           NaN       1.0       NaN  \n",
       "84          31.0           1.0           1.0       1.0       1.0  \n",
       "92          48.0           1.0           1.0       1.0       1.0  \n",
       "192         47.0           0.0           1.0       0.0       1.0  "
      ]
     },
     "execution_count": 21,
     "metadata": {},
     "output_type": "execute_result"
    },
    {
     "data": {
      "application/javascript": [
       "\n",
       "            setTimeout(function() {\n",
       "                var nbb_cell_id = 21;\n",
       "                var nbb_unformatted_code = \"# With the analysis on mid season, we can experiment with\\n# score lag columns.\\n\\n# Here we create columns to lag 1 & 2 weeks in a new df...\\n# Then refactor\\nhome_lag_df = dfscore[\\n    [\\n        \\\"schedule_season\\\",\\n        \\\"schedule_week\\\",\\n        \\\"team_home\\\",\\n        \\\"score_home\\\",\\n        \\\"home_w_fav\\\",\\n        \\\"home_ml_fav\\\",\\n    ]\\n]\\nhome_lag_df = home_lag_df.rename(\\n    columns={\\n        \\\"team_home\\\": \\\"team\\\",\\n        \\\"score_home\\\": \\\"score\\\",\\n        \\\"home_w_fav\\\": \\\"w_fav\\\",\\n        \\\"home_ml_fav\\\": \\\"ml_fav\\\",\\n    }\\n)\\naway_lag_df = dfscore[\\n    [\\n        \\\"schedule_season\\\",\\n        \\\"schedule_week\\\",\\n        \\\"team_away\\\",\\n        \\\"score_away\\\",\\n        \\\"away_w_fav\\\",\\n        \\\"away_ml_fav\\\",\\n    ]\\n]\\naway_lag_df = away_lag_df.rename(\\n    columns={\\n        \\\"team_away\\\": \\\"team\\\",\\n        \\\"score_away\\\": \\\"score\\\",\\n        \\\"away_w_fav\\\": \\\"w_fav\\\",\\n        \\\"away_ml_fav\\\": \\\"ml_fav\\\",\\n    }\\n)\\nlag_df = pd.concat((away_lag_df, home_lag_df))\\nlag_df = lag_df.sort_values([\\\"schedule_season\\\", \\\"team\\\", \\\"schedule_week\\\"])\\n\\n\\n# Create lag variables for a team's prior 2 game scores\\n# create new shifts for new columns\\nlag_df[\\\"score_lag_1\\\"] = lag_df.groupby([\\\"schedule_season\\\", \\\"team\\\"])[\\\"score\\\"].shift(\\n    periods=1\\n)\\nlag_df[\\\"score_lag_2\\\"] = lag_df.groupby([\\\"schedule_season\\\", \\\"team\\\"])[\\\"score\\\"].shift(\\n    periods=2\\n)\\n\\nlag_df[\\\"spread_lag_1\\\"] = lag_df.groupby([\\\"schedule_season\\\", \\\"team\\\"])[\\\"w_fav\\\"].shift(\\n    periods=1\\n)\\nlag_df[\\\"spread_lag_2\\\"] = lag_df.groupby([\\\"schedule_season\\\", \\\"team\\\"])[\\\"w_fav\\\"].shift(\\n    periods=2\\n)\\n\\nlag_df[\\\"ml_lag_1\\\"] = lag_df.groupby([\\\"schedule_season\\\", \\\"team\\\"])[\\\"ml_fav\\\"].shift(\\n    periods=1\\n)\\nlag_df[\\\"ml_lag_2\\\"] = lag_df.groupby([\\\"schedule_season\\\", \\\"team\\\"])[\\\"ml_fav\\\"].shift(\\n    periods=2\\n)\\n\\nlag_df.head()\";\n",
       "                var nbb_formatted_code = \"# With the analysis on mid season, we can experiment with\\n# score lag columns.\\n\\n# Here we create columns to lag 1 & 2 weeks in a new df...\\n# Then refactor\\nhome_lag_df = dfscore[\\n    [\\n        \\\"schedule_season\\\",\\n        \\\"schedule_week\\\",\\n        \\\"team_home\\\",\\n        \\\"score_home\\\",\\n        \\\"home_w_fav\\\",\\n        \\\"home_ml_fav\\\",\\n    ]\\n]\\nhome_lag_df = home_lag_df.rename(\\n    columns={\\n        \\\"team_home\\\": \\\"team\\\",\\n        \\\"score_home\\\": \\\"score\\\",\\n        \\\"home_w_fav\\\": \\\"w_fav\\\",\\n        \\\"home_ml_fav\\\": \\\"ml_fav\\\",\\n    }\\n)\\naway_lag_df = dfscore[\\n    [\\n        \\\"schedule_season\\\",\\n        \\\"schedule_week\\\",\\n        \\\"team_away\\\",\\n        \\\"score_away\\\",\\n        \\\"away_w_fav\\\",\\n        \\\"away_ml_fav\\\",\\n    ]\\n]\\naway_lag_df = away_lag_df.rename(\\n    columns={\\n        \\\"team_away\\\": \\\"team\\\",\\n        \\\"score_away\\\": \\\"score\\\",\\n        \\\"away_w_fav\\\": \\\"w_fav\\\",\\n        \\\"away_ml_fav\\\": \\\"ml_fav\\\",\\n    }\\n)\\nlag_df = pd.concat((away_lag_df, home_lag_df))\\nlag_df = lag_df.sort_values([\\\"schedule_season\\\", \\\"team\\\", \\\"schedule_week\\\"])\\n\\n\\n# Create lag variables for a team's prior 2 game scores\\n# create new shifts for new columns\\nlag_df[\\\"score_lag_1\\\"] = lag_df.groupby([\\\"schedule_season\\\", \\\"team\\\"])[\\\"score\\\"].shift(\\n    periods=1\\n)\\nlag_df[\\\"score_lag_2\\\"] = lag_df.groupby([\\\"schedule_season\\\", \\\"team\\\"])[\\\"score\\\"].shift(\\n    periods=2\\n)\\n\\nlag_df[\\\"spread_lag_1\\\"] = lag_df.groupby([\\\"schedule_season\\\", \\\"team\\\"])[\\\"w_fav\\\"].shift(\\n    periods=1\\n)\\nlag_df[\\\"spread_lag_2\\\"] = lag_df.groupby([\\\"schedule_season\\\", \\\"team\\\"])[\\\"w_fav\\\"].shift(\\n    periods=2\\n)\\n\\nlag_df[\\\"ml_lag_1\\\"] = lag_df.groupby([\\\"schedule_season\\\", \\\"team\\\"])[\\\"ml_fav\\\"].shift(\\n    periods=1\\n)\\nlag_df[\\\"ml_lag_2\\\"] = lag_df.groupby([\\\"schedule_season\\\", \\\"team\\\"])[\\\"ml_fav\\\"].shift(\\n    periods=2\\n)\\n\\nlag_df.head()\";\n",
       "                var nbb_cells = Jupyter.notebook.get_cells();\n",
       "                for (var i = 0; i < nbb_cells.length; ++i) {\n",
       "                    if (nbb_cells[i].input_prompt_number == nbb_cell_id) {\n",
       "                        if (nbb_cells[i].get_text() == nbb_unformatted_code) {\n",
       "                             nbb_cells[i].set_text(nbb_formatted_code);\n",
       "                        }\n",
       "                        break;\n",
       "                    }\n",
       "                }\n",
       "            }, 500);\n",
       "            "
      ],
      "text/plain": [
       "<IPython.core.display.Javascript object>"
      ]
     },
     "metadata": {},
     "output_type": "display_data"
    }
   ],
   "source": [
    "# With the analysis on mid season, we can experiment with\n",
    "# score lag columns.\n",
    "\n",
    "# Here we create columns to lag 1 & 2 weeks in a new df...\n",
    "# Then refactor\n",
    "home_lag_df = dfscore[\n",
    "    [\n",
    "        \"schedule_season\",\n",
    "        \"schedule_week\",\n",
    "        \"team_home\",\n",
    "        \"score_home\",\n",
    "        \"home_w_fav\",\n",
    "        \"home_ml_fav\",\n",
    "    ]\n",
    "]\n",
    "home_lag_df = home_lag_df.rename(\n",
    "    columns={\n",
    "        \"team_home\": \"team\",\n",
    "        \"score_home\": \"score\",\n",
    "        \"home_w_fav\": \"w_fav\",\n",
    "        \"home_ml_fav\": \"ml_fav\",\n",
    "    }\n",
    ")\n",
    "away_lag_df = dfscore[\n",
    "    [\n",
    "        \"schedule_season\",\n",
    "        \"schedule_week\",\n",
    "        \"team_away\",\n",
    "        \"score_away\",\n",
    "        \"away_w_fav\",\n",
    "        \"away_ml_fav\",\n",
    "    ]\n",
    "]\n",
    "away_lag_df = away_lag_df.rename(\n",
    "    columns={\n",
    "        \"team_away\": \"team\",\n",
    "        \"score_away\": \"score\",\n",
    "        \"away_w_fav\": \"w_fav\",\n",
    "        \"away_ml_fav\": \"ml_fav\",\n",
    "    }\n",
    ")\n",
    "lag_df = pd.concat((away_lag_df, home_lag_df))\n",
    "lag_df = lag_df.sort_values([\"schedule_season\", \"team\", \"schedule_week\"])\n",
    "\n",
    "\n",
    "# Create lag variables for a team's prior 2 game scores\n",
    "# create new shifts for new columns\n",
    "lag_df[\"score_lag_1\"] = lag_df.groupby([\"schedule_season\", \"team\"])[\"score\"].shift(\n",
    "    periods=1\n",
    ")\n",
    "lag_df[\"score_lag_2\"] = lag_df.groupby([\"schedule_season\", \"team\"])[\"score\"].shift(\n",
    "    periods=2\n",
    ")\n",
    "\n",
    "lag_df[\"spread_lag_1\"] = lag_df.groupby([\"schedule_season\", \"team\"])[\"w_fav\"].shift(\n",
    "    periods=1\n",
    ")\n",
    "lag_df[\"spread_lag_2\"] = lag_df.groupby([\"schedule_season\", \"team\"])[\"w_fav\"].shift(\n",
    "    periods=2\n",
    ")\n",
    "\n",
    "lag_df[\"ml_lag_1\"] = lag_df.groupby([\"schedule_season\", \"team\"])[\"ml_fav\"].shift(\n",
    "    periods=1\n",
    ")\n",
    "lag_df[\"ml_lag_2\"] = lag_df.groupby([\"schedule_season\", \"team\"])[\"ml_fav\"].shift(\n",
    "    periods=2\n",
    ")\n",
    "\n",
    "lag_df.head()"
   ]
  },
  {
   "cell_type": "code",
   "execution_count": 22,
   "metadata": {},
   "outputs": [
    {
     "data": {
      "application/javascript": [
       "\n",
       "            setTimeout(function() {\n",
       "                var nbb_cell_id = 22;\n",
       "                var nbb_unformatted_code = \"# Add new columns for home away merges to main df.\\ndfssm = pd.merge(dfss, lag_df, left_on=['schedule_season','schedule_week','team_home'], right_on=['schedule_season', 'schedule_week','team'])\\ndfssm = dfssm.rename(columns = {'score_lag_1': 'home_sl_1', 'score_lag_2':'home_sl_2', 'spread_lag_1': 'h_sprl_1',\\n                               'spread_lag_2': 'h_sprl_2', \\n                               'ml_lag_1': 'h_mll_1',\\n                               'ml_lag_2': 'h_mll_2'})\\ndfssm = dfssm.drop(columns= ['score','team', 'w_fav', 'ml_fav'])\\n\\ndfssm = pd.merge(dfssm, lag_df, left_on=['schedule_season','schedule_week','team_away'], right_on=['schedule_season', 'schedule_week','team'])\\ndfssm = dfssm.rename(columns = {'score_lag_1': 'away_sl_1', 'score_lag_2':'away_sl_2',\\n                                'spread_lag_1': 'a_sprl_1',\\n                               'spread_lag_2': 'a_sprl_2', \\n                               'ml_lag_1': 'a_mll_1',\\n                               'ml_lag_2': 'a_mll_2'})\\ndfssm = dfssm.drop(columns= ['score','team', 'w_fav', 'ml_fav'])\\n\\n#dfss = pd.merge(dfssm, score_df, left_on=['schedule_season','schedule_week','team_away'], right_on=['schedule_season', 'schedule_week','team'])\";\n",
       "                var nbb_formatted_code = \"# Add new columns for home away merges to main df.\\ndfssm = pd.merge(\\n    dfss,\\n    lag_df,\\n    left_on=[\\\"schedule_season\\\", \\\"schedule_week\\\", \\\"team_home\\\"],\\n    right_on=[\\\"schedule_season\\\", \\\"schedule_week\\\", \\\"team\\\"],\\n)\\ndfssm = dfssm.rename(\\n    columns={\\n        \\\"score_lag_1\\\": \\\"home_sl_1\\\",\\n        \\\"score_lag_2\\\": \\\"home_sl_2\\\",\\n        \\\"spread_lag_1\\\": \\\"h_sprl_1\\\",\\n        \\\"spread_lag_2\\\": \\\"h_sprl_2\\\",\\n        \\\"ml_lag_1\\\": \\\"h_mll_1\\\",\\n        \\\"ml_lag_2\\\": \\\"h_mll_2\\\",\\n    }\\n)\\ndfssm = dfssm.drop(columns=[\\\"score\\\", \\\"team\\\", \\\"w_fav\\\", \\\"ml_fav\\\"])\\n\\ndfssm = pd.merge(\\n    dfssm,\\n    lag_df,\\n    left_on=[\\\"schedule_season\\\", \\\"schedule_week\\\", \\\"team_away\\\"],\\n    right_on=[\\\"schedule_season\\\", \\\"schedule_week\\\", \\\"team\\\"],\\n)\\ndfssm = dfssm.rename(\\n    columns={\\n        \\\"score_lag_1\\\": \\\"away_sl_1\\\",\\n        \\\"score_lag_2\\\": \\\"away_sl_2\\\",\\n        \\\"spread_lag_1\\\": \\\"a_sprl_1\\\",\\n        \\\"spread_lag_2\\\": \\\"a_sprl_2\\\",\\n        \\\"ml_lag_1\\\": \\\"a_mll_1\\\",\\n        \\\"ml_lag_2\\\": \\\"a_mll_2\\\",\\n    }\\n)\\ndfssm = dfssm.drop(columns=[\\\"score\\\", \\\"team\\\", \\\"w_fav\\\", \\\"ml_fav\\\"])\\n\\n# dfss = pd.merge(dfssm, score_df, left_on=['schedule_season','schedule_week','team_away'], right_on=['schedule_season', 'schedule_week','team'])\";\n",
       "                var nbb_cells = Jupyter.notebook.get_cells();\n",
       "                for (var i = 0; i < nbb_cells.length; ++i) {\n",
       "                    if (nbb_cells[i].input_prompt_number == nbb_cell_id) {\n",
       "                        if (nbb_cells[i].get_text() == nbb_unformatted_code) {\n",
       "                             nbb_cells[i].set_text(nbb_formatted_code);\n",
       "                        }\n",
       "                        break;\n",
       "                    }\n",
       "                }\n",
       "            }, 500);\n",
       "            "
      ],
      "text/plain": [
       "<IPython.core.display.Javascript object>"
      ]
     },
     "metadata": {},
     "output_type": "display_data"
    }
   ],
   "source": [
    "# Add new columns for home away merges to main df.\n",
    "dfssm = pd.merge(dfss, lag_df, left_on=['schedule_season','schedule_week','team_home'], right_on=['schedule_season', 'schedule_week','team'])\n",
    "dfssm = dfssm.rename(columns = {'score_lag_1': 'home_sl_1', 'score_lag_2':'home_sl_2', 'spread_lag_1': 'h_sprl_1',\n",
    "                               'spread_lag_2': 'h_sprl_2', \n",
    "                               'ml_lag_1': 'h_mll_1',\n",
    "                               'ml_lag_2': 'h_mll_2'})\n",
    "dfssm = dfssm.drop(columns= ['score','team', 'w_fav', 'ml_fav'])\n",
    "\n",
    "dfssm = pd.merge(dfssm, lag_df, left_on=['schedule_season','schedule_week','team_away'], right_on=['schedule_season', 'schedule_week','team'])\n",
    "dfssm = dfssm.rename(columns = {'score_lag_1': 'away_sl_1', 'score_lag_2':'away_sl_2',\n",
    "                                'spread_lag_1': 'a_sprl_1',\n",
    "                               'spread_lag_2': 'a_sprl_2', \n",
    "                               'ml_lag_1': 'a_mll_1',\n",
    "                               'ml_lag_2': 'a_mll_2'})\n",
    "dfssm = dfssm.drop(columns= ['score','team', 'w_fav', 'ml_fav'])\n",
    "\n",
    "#dfss = pd.merge(dfssm, score_df, left_on=['schedule_season','schedule_week','team_away'], right_on=['schedule_season', 'schedule_week','team'])\n"
   ]
  },
  {
   "cell_type": "code",
   "execution_count": 23,
   "metadata": {},
   "outputs": [
    {
     "data": {
      "text/plain": [
       "schedule_season     0\n",
       "schedule_week       0\n",
       "team_home           0\n",
       "team_away           0\n",
       "team_favorite_id    0\n",
       "spread_favorite     0\n",
       "over_under_line     0\n",
       "score_home          0\n",
       "score_away          0\n",
       "mean_home           0\n",
       "mean_away           0\n",
       "home_favorite       0\n",
       "away_favorite       0\n",
       "is_over             0\n",
       "away_w_fav          0\n",
       "home_w_fav          0\n",
       "away_ml_fav         0\n",
       "home_ml_fav         0\n",
       "home_sl_1           0\n",
       "home_sl_2           0\n",
       "h_sprl_1            0\n",
       "h_sprl_2            0\n",
       "h_mll_1             0\n",
       "h_mll_2             0\n",
       "away_sl_1           0\n",
       "away_sl_2           0\n",
       "a_sprl_1            0\n",
       "a_sprl_2            0\n",
       "a_mll_1             0\n",
       "a_mll_2             0\n",
       "dtype: int64"
      ]
     },
     "execution_count": 23,
     "metadata": {},
     "output_type": "execute_result"
    },
    {
     "data": {
      "application/javascript": [
       "\n",
       "            setTimeout(function() {\n",
       "                var nbb_cell_id = 23;\n",
       "                var nbb_unformatted_code = \"dfss = dfssm.dropna()\\ndfss_copy = dfss.copy()\\ndfss.isna().sum()\";\n",
       "                var nbb_formatted_code = \"dfss = dfssm.dropna()\\ndfss_copy = dfss.copy()\\ndfss.isna().sum()\";\n",
       "                var nbb_cells = Jupyter.notebook.get_cells();\n",
       "                for (var i = 0; i < nbb_cells.length; ++i) {\n",
       "                    if (nbb_cells[i].input_prompt_number == nbb_cell_id) {\n",
       "                        if (nbb_cells[i].get_text() == nbb_unformatted_code) {\n",
       "                             nbb_cells[i].set_text(nbb_formatted_code);\n",
       "                        }\n",
       "                        break;\n",
       "                    }\n",
       "                }\n",
       "            }, 500);\n",
       "            "
      ],
      "text/plain": [
       "<IPython.core.display.Javascript object>"
      ]
     },
     "metadata": {},
     "output_type": "display_data"
    }
   ],
   "source": [
    "dfss = dfssm.dropna()\n",
    "dfss_copy = dfss.copy()\n",
    "dfss.isna().sum()"
   ]
  },
  {
   "cell_type": "code",
   "execution_count": 24,
   "metadata": {},
   "outputs": [
    {
     "data": {
      "application/javascript": [
       "\n",
       "            setTimeout(function() {\n",
       "                var nbb_cell_id = 24;\n",
       "                var nbb_unformatted_code = \"# Checking work\\n\\n# dfss[dfss[\\\"schedule_season\\\"] == 2018].sort_values(by=\\\"schedule_week\\\").head(20)\";\n",
       "                var nbb_formatted_code = \"# Checking work\\n\\n# dfss[dfss[\\\"schedule_season\\\"] == 2018].sort_values(by=\\\"schedule_week\\\").head(20)\";\n",
       "                var nbb_cells = Jupyter.notebook.get_cells();\n",
       "                for (var i = 0; i < nbb_cells.length; ++i) {\n",
       "                    if (nbb_cells[i].input_prompt_number == nbb_cell_id) {\n",
       "                        if (nbb_cells[i].get_text() == nbb_unformatted_code) {\n",
       "                             nbb_cells[i].set_text(nbb_formatted_code);\n",
       "                        }\n",
       "                        break;\n",
       "                    }\n",
       "                }\n",
       "            }, 500);\n",
       "            "
      ],
      "text/plain": [
       "<IPython.core.display.Javascript object>"
      ]
     },
     "metadata": {},
     "output_type": "display_data"
    }
   ],
   "source": [
    "# Checking work\n",
    "\n",
    "# dfss[dfss[\"schedule_season\"] == 2018].sort_values(by=\"schedule_week\").head(20)"
   ]
  },
  {
   "cell_type": "code",
   "execution_count": 25,
   "metadata": {},
   "outputs": [
    {
     "data": {
      "application/javascript": [
       "\n",
       "            setTimeout(function() {\n",
       "                var nbb_cell_id = 25;\n",
       "                var nbb_unformatted_code = \"# corelation heatmap\\n\\n# plt.figure(figsize=(20, 15))\\n# sns.heatmap(dfss.corr(), vmin=-1, vmax=1, annot=True)\\n# plt.show()\";\n",
       "                var nbb_formatted_code = \"# corelation heatmap\\n\\n# plt.figure(figsize=(20, 15))\\n# sns.heatmap(dfss.corr(), vmin=-1, vmax=1, annot=True)\\n# plt.show()\";\n",
       "                var nbb_cells = Jupyter.notebook.get_cells();\n",
       "                for (var i = 0; i < nbb_cells.length; ++i) {\n",
       "                    if (nbb_cells[i].input_prompt_number == nbb_cell_id) {\n",
       "                        if (nbb_cells[i].get_text() == nbb_unformatted_code) {\n",
       "                             nbb_cells[i].set_text(nbb_formatted_code);\n",
       "                        }\n",
       "                        break;\n",
       "                    }\n",
       "                }\n",
       "            }, 500);\n",
       "            "
      ],
      "text/plain": [
       "<IPython.core.display.Javascript object>"
      ]
     },
     "metadata": {},
     "output_type": "display_data"
    }
   ],
   "source": [
    "# corelation heatmap\n",
    "\n",
    "# plt.figure(figsize=(20, 15))\n",
    "# sns.heatmap(dfss.corr(), vmin=-1, vmax=1, annot=True)\n",
    "# plt.show()"
   ]
  },
  {
   "cell_type": "code",
   "execution_count": 26,
   "metadata": {},
   "outputs": [
    {
     "name": "stdout",
     "output_type": "stream",
     "text": [
      "Index(['schedule_season', 'schedule_week', 'team_home', 'team_away',\n",
      "       'team_favorite_id', 'spread_favorite', 'over_under_line', 'score_home',\n",
      "       'score_away', 'mean_home', 'mean_away', 'home_favorite',\n",
      "       'away_favorite', 'is_over', 'away_w_fav', 'home_w_fav', 'away_ml_fav',\n",
      "       'home_ml_fav', 'home_sl_1', 'home_sl_2', 'h_sprl_1', 'h_sprl_2',\n",
      "       'h_mll_1', 'h_mll_2', 'away_sl_1', 'away_sl_2', 'a_sprl_1', 'a_sprl_2',\n",
      "       'a_mll_1', 'a_mll_2'],\n",
      "      dtype='object')\n"
     ]
    },
    {
     "data": {
      "application/javascript": [
       "\n",
       "            setTimeout(function() {\n",
       "                var nbb_cell_id = 26;\n",
       "                var nbb_unformatted_code = \"print(dfss.columns)\";\n",
       "                var nbb_formatted_code = \"print(dfss.columns)\";\n",
       "                var nbb_cells = Jupyter.notebook.get_cells();\n",
       "                for (var i = 0; i < nbb_cells.length; ++i) {\n",
       "                    if (nbb_cells[i].input_prompt_number == nbb_cell_id) {\n",
       "                        if (nbb_cells[i].get_text() == nbb_unformatted_code) {\n",
       "                             nbb_cells[i].set_text(nbb_formatted_code);\n",
       "                        }\n",
       "                        break;\n",
       "                    }\n",
       "                }\n",
       "            }, 500);\n",
       "            "
      ],
      "text/plain": [
       "<IPython.core.display.Javascript object>"
      ]
     },
     "metadata": {},
     "output_type": "display_data"
    }
   ],
   "source": [
    "print(dfss.columns)"
   ]
  },
  {
   "cell_type": "markdown",
   "metadata": {},
   "source": [
    "### Modeling - Try XGBoost"
   ]
  },
  {
   "cell_type": "code",
   "execution_count": 27,
   "metadata": {},
   "outputs": [
    {
     "data": {
      "application/javascript": [
       "\n",
       "            setTimeout(function() {\n",
       "                var nbb_cell_id = 27;\n",
       "                var nbb_unformatted_code = \"# Removed columns if they are items that have colinearity or are too informative.\\n# i.e. post game stats for the current week prediction.\\n\\nX = dfss.drop(\\n    columns=[\\n        \\\"schedule_season\\\",\\n        \\\"schedule_week\\\",\\n        #\\\"team_home\\\",\\n        #\\\"team_away\\\",\\n        \\\"team_favorite_id\\\",\\n        #'spread_favorite',\\n        \\\"over_under_line\\\",\\n        \\\"score_home\\\",\\n        \\\"score_away\\\",\\n        # \\\"mean_home\\\",\\n        # \\\"mean_away\\\",\\n        # \\\"home_favorite\\\",\\n        \\\"away_favorite\\\",\\n        \\\"is_over\\\",\\n        \\\"away_w_fav\\\",\\n        \\\"home_w_fav\\\",\\n        \\\"away_ml_fav\\\",\\n        \\\"home_ml_fav\\\",\\n        \\\"home_sl_1\\\",\\n        \\\"home_sl_2\\\",\\n        \\\"h_sprl_1\\\",\\n        \\\"h_sprl_2\\\",\\n        \\\"h_mll_1\\\",\\n        \\\"h_mll_2\\\",\\n        \\\"away_sl_1\\\",\\n        \\\"away_sl_2\\\",\\n        \\\"a_sprl_1\\\",\\n        \\\"a_sprl_2\\\",\\n        \\\"a_mll_1\\\",\\n        \\\"a_mll_2\\\",\\n    ]\\n)\\ny = dfss[\\\"home_ml_fav\\\"]\\n\\nX_train, X_test, y_train, y_test = train_test_split(\\n    X, y, test_size=0.2, random_state=42\\n)\";\n",
       "                var nbb_formatted_code = \"# Removed columns if they are items that have colinearity or are too informative.\\n# i.e. post game stats for the current week prediction.\\n\\nX = dfss.drop(\\n    columns=[\\n        \\\"schedule_season\\\",\\n        \\\"schedule_week\\\",\\n        # \\\"team_home\\\",\\n        # \\\"team_away\\\",\\n        \\\"team_favorite_id\\\",\\n        #'spread_favorite',\\n        \\\"over_under_line\\\",\\n        \\\"score_home\\\",\\n        \\\"score_away\\\",\\n        # \\\"mean_home\\\",\\n        # \\\"mean_away\\\",\\n        # \\\"home_favorite\\\",\\n        \\\"away_favorite\\\",\\n        \\\"is_over\\\",\\n        \\\"away_w_fav\\\",\\n        \\\"home_w_fav\\\",\\n        \\\"away_ml_fav\\\",\\n        \\\"home_ml_fav\\\",\\n        \\\"home_sl_1\\\",\\n        \\\"home_sl_2\\\",\\n        \\\"h_sprl_1\\\",\\n        \\\"h_sprl_2\\\",\\n        \\\"h_mll_1\\\",\\n        \\\"h_mll_2\\\",\\n        \\\"away_sl_1\\\",\\n        \\\"away_sl_2\\\",\\n        \\\"a_sprl_1\\\",\\n        \\\"a_sprl_2\\\",\\n        \\\"a_mll_1\\\",\\n        \\\"a_mll_2\\\",\\n    ]\\n)\\ny = dfss[\\\"home_ml_fav\\\"]\\n\\nX_train, X_test, y_train, y_test = train_test_split(\\n    X, y, test_size=0.2, random_state=42\\n)\";\n",
       "                var nbb_cells = Jupyter.notebook.get_cells();\n",
       "                for (var i = 0; i < nbb_cells.length; ++i) {\n",
       "                    if (nbb_cells[i].input_prompt_number == nbb_cell_id) {\n",
       "                        if (nbb_cells[i].get_text() == nbb_unformatted_code) {\n",
       "                             nbb_cells[i].set_text(nbb_formatted_code);\n",
       "                        }\n",
       "                        break;\n",
       "                    }\n",
       "                }\n",
       "            }, 500);\n",
       "            "
      ],
      "text/plain": [
       "<IPython.core.display.Javascript object>"
      ]
     },
     "metadata": {},
     "output_type": "display_data"
    }
   ],
   "source": [
    "# Removed columns if they are items that have colinearity or are too informative.\n",
    "# i.e. post game stats for the current week prediction.\n",
    "\n",
    "X = dfss.drop(\n",
    "    columns=[\n",
    "        \"schedule_season\",\n",
    "        \"schedule_week\",\n",
    "        # \"team_home\",\n",
    "        # \"team_away\",\n",
    "        \"team_favorite_id\",\n",
    "        #'spread_favorite',\n",
    "        \"over_under_line\",\n",
    "        \"score_home\",\n",
    "        \"score_away\",\n",
    "        # \"mean_home\",\n",
    "        # \"mean_away\",\n",
    "        # \"home_favorite\",\n",
    "        \"away_favorite\",\n",
    "        \"is_over\",\n",
    "        \"away_w_fav\",\n",
    "        \"home_w_fav\",\n",
    "        \"away_ml_fav\",\n",
    "        \"home_ml_fav\",\n",
    "        \"home_sl_1\",\n",
    "        \"home_sl_2\",\n",
    "        \"h_sprl_1\",\n",
    "        \"h_sprl_2\",\n",
    "        \"h_mll_1\",\n",
    "        \"h_mll_2\",\n",
    "        \"away_sl_1\",\n",
    "        \"away_sl_2\",\n",
    "        \"a_sprl_1\",\n",
    "        \"a_sprl_2\",\n",
    "        \"a_mll_1\",\n",
    "        \"a_mll_2\",\n",
    "    ]\n",
    ")\n",
    "y = dfss[\"home_ml_fav\"]\n",
    "\n",
    "X_train, X_test, y_train, y_test = train_test_split(\n",
    "    X, y, test_size=0.2, random_state=42\n",
    ")"
   ]
  },
  {
   "cell_type": "code",
   "execution_count": 28,
   "metadata": {},
   "outputs": [
    {
     "data": {
      "text/plain": [
       "Index(['team_home', 'team_away', 'spread_favorite', 'mean_home', 'mean_away',\n",
       "       'home_favorite'],\n",
       "      dtype='object')"
      ]
     },
     "execution_count": 28,
     "metadata": {},
     "output_type": "execute_result"
    },
    {
     "data": {
      "application/javascript": [
       "\n",
       "            setTimeout(function() {\n",
       "                var nbb_cell_id = 28;\n",
       "                var nbb_unformatted_code = \"X.columns\";\n",
       "                var nbb_formatted_code = \"X.columns\";\n",
       "                var nbb_cells = Jupyter.notebook.get_cells();\n",
       "                for (var i = 0; i < nbb_cells.length; ++i) {\n",
       "                    if (nbb_cells[i].input_prompt_number == nbb_cell_id) {\n",
       "                        if (nbb_cells[i].get_text() == nbb_unformatted_code) {\n",
       "                             nbb_cells[i].set_text(nbb_formatted_code);\n",
       "                        }\n",
       "                        break;\n",
       "                    }\n",
       "                }\n",
       "            }, 500);\n",
       "            "
      ],
      "text/plain": [
       "<IPython.core.display.Javascript object>"
      ]
     },
     "metadata": {},
     "output_type": "display_data"
    }
   ],
   "source": [
    "X.columns"
   ]
  },
  {
   "cell_type": "code",
   "execution_count": 37,
   "metadata": {},
   "outputs": [
    {
     "data": {
      "application/javascript": [
       "\n",
       "            setTimeout(function() {\n",
       "                var nbb_cell_id = 37;\n",
       "                var nbb_unformatted_code = \"bin_cols = [\\n    # \\\"is_over\\\",\\n    \\\"home_favorite\\\",\\n    # \\\"away_favorite\\\",\\n    # \\\"away_w_fav\\\",\\n    # \\\"home_w_fav\\\",\\n    # \\\"away_ml_fav\\\",\\n    # \\\"home_ml_fav\\\",\\n    # \\\"h_sprl_1\\\",\\n    # \\\"h_sprl_2\\\",\\n    # \\\"h_mll_1\\\",\\n    # \\\"h_mll_2\\\",\\n    # \\\"a_sprl_1\\\",\\n    # \\\"a_sprl_2\\\",\\n    # \\\"a_mll_1\\\",\\n    # \\\"a_mll_2\\\",\\n]\\nnum_cols = [\\n    \\\"spread_favorite\\\",\\n    \\\"mean_home\\\",\\n    \\\"mean_away\\\",\\n    # \\\"over_under_line\\\",\\n    # \\\"home_sl_1\\\",\\n    # \\\"home_sl_2\\\",\\n    # \\\"away_sl_1\\\",\\n    # \\\"away_sl_2\\\",\\n    # \\\"score_dif\\\",\\n]\\ncat_cols = [\\n    # \\\"schedule_week\\\",\\n    \\\"team_home\\\",\\n    \\\"team_away\\\",\\n    # \\\"team_favorite_id\\\",\\n]\\n\\nprep = ColumnTransformer(\\n    [\\n        (\\\"leave_one\\\", LeaveOneOutEncoder(), cat_cols),\\n    ],\\n    remainder=\\\"passthrough\\\",\\n)\";\n",
       "                var nbb_formatted_code = \"bin_cols = [\\n    # \\\"is_over\\\",\\n    \\\"home_favorite\\\",\\n    # \\\"away_favorite\\\",\\n    # \\\"away_w_fav\\\",\\n    # \\\"home_w_fav\\\",\\n    # \\\"away_ml_fav\\\",\\n    # \\\"home_ml_fav\\\",\\n    # \\\"h_sprl_1\\\",\\n    # \\\"h_sprl_2\\\",\\n    # \\\"h_mll_1\\\",\\n    # \\\"h_mll_2\\\",\\n    # \\\"a_sprl_1\\\",\\n    # \\\"a_sprl_2\\\",\\n    # \\\"a_mll_1\\\",\\n    # \\\"a_mll_2\\\",\\n]\\nnum_cols = [\\n    \\\"spread_favorite\\\",\\n    \\\"mean_home\\\",\\n    \\\"mean_away\\\",\\n    # \\\"over_under_line\\\",\\n    # \\\"home_sl_1\\\",\\n    # \\\"home_sl_2\\\",\\n    # \\\"away_sl_1\\\",\\n    # \\\"away_sl_2\\\",\\n    # \\\"score_dif\\\",\\n]\\ncat_cols = [\\n    # \\\"schedule_week\\\",\\n    \\\"team_home\\\",\\n    \\\"team_away\\\",\\n    # \\\"team_favorite_id\\\",\\n]\\n\\nprep = ColumnTransformer(\\n    [\\n        (\\\"leave_one\\\", LeaveOneOutEncoder(), cat_cols),\\n    ],\\n    remainder=\\\"passthrough\\\",\\n)\";\n",
       "                var nbb_cells = Jupyter.notebook.get_cells();\n",
       "                for (var i = 0; i < nbb_cells.length; ++i) {\n",
       "                    if (nbb_cells[i].input_prompt_number == nbb_cell_id) {\n",
       "                        if (nbb_cells[i].get_text() == nbb_unformatted_code) {\n",
       "                             nbb_cells[i].set_text(nbb_formatted_code);\n",
       "                        }\n",
       "                        break;\n",
       "                    }\n",
       "                }\n",
       "            }, 500);\n",
       "            "
      ],
      "text/plain": [
       "<IPython.core.display.Javascript object>"
      ]
     },
     "metadata": {},
     "output_type": "display_data"
    }
   ],
   "source": [
    "bin_cols = [\n",
    "    # \"is_over\",\n",
    "    \"home_favorite\",\n",
    "    # \"away_favorite\",\n",
    "    # \"away_w_fav\",\n",
    "    # \"home_w_fav\",\n",
    "    # \"away_ml_fav\",\n",
    "    # \"home_ml_fav\",\n",
    "    # \"h_sprl_1\",\n",
    "    # \"h_sprl_2\",\n",
    "    # \"h_mll_1\",\n",
    "    # \"h_mll_2\",\n",
    "    # \"a_sprl_1\",\n",
    "    # \"a_sprl_2\",\n",
    "    # \"a_mll_1\",\n",
    "    # \"a_mll_2\",\n",
    "]\n",
    "num_cols = [\n",
    "    \"spread_favorite\",\n",
    "    \"mean_home\",\n",
    "    \"mean_away\",\n",
    "    # \"over_under_line\",\n",
    "    # \"home_sl_1\",\n",
    "    # \"home_sl_2\",\n",
    "    # \"away_sl_1\",\n",
    "    # \"away_sl_2\",\n",
    "    # \"score_dif\",\n",
    "]\n",
    "cat_cols = [\n",
    "    # \"schedule_week\",\n",
    "    \"team_home\",\n",
    "    \"team_away\",\n",
    "    # \"team_favorite_id\",\n",
    "]\n",
    "\n",
    "prep = ColumnTransformer(\n",
    "    [\n",
    "        (\"leave_one\", LeaveOneOutEncoder(), cat_cols),\n",
    "    ],\n",
    "    remainder=\"passthrough\",\n",
    ")"
   ]
  },
  {
   "cell_type": "markdown",
   "metadata": {},
   "source": [
    "### Fit and Eval"
   ]
  },
  {
   "cell_type": "code",
   "execution_count": 38,
   "metadata": {},
   "outputs": [
    {
     "name": "stdout",
     "output_type": "stream",
     "text": [
      "VIF results\n",
      "-------------------------------\n",
      "const              67.177657\n",
      "team_home           1.254848\n",
      "team_away           1.179346\n",
      "spread_favorite     1.083528\n",
      "mean_home           1.310851\n",
      "mean_away           1.182066\n",
      "home_favorite       1.396976\n",
      "dtype: float64\n",
      "-------------------------------\n",
      "\n"
     ]
    },
    {
     "data": {
      "application/javascript": [
       "\n",
       "            setTimeout(function() {\n",
       "                var nbb_cell_id = 38;\n",
       "                var nbb_unformatted_code = \"transformed = prep.fit_transform(X_train, y_train)\\n# ToDO get printVIF and run it.\\ntype(transformed)\\n# ToD0, create dataframe with transformed.\\ntransformed = pd.DataFrame(transformed, columns=X_train.columns)\\nprint_vif(transformed)\";\n",
       "                var nbb_formatted_code = \"transformed = prep.fit_transform(X_train, y_train)\\n# ToDO get printVIF and run it.\\ntype(transformed)\\n# ToD0, create dataframe with transformed.\\ntransformed = pd.DataFrame(transformed, columns=X_train.columns)\\nprint_vif(transformed)\";\n",
       "                var nbb_cells = Jupyter.notebook.get_cells();\n",
       "                for (var i = 0; i < nbb_cells.length; ++i) {\n",
       "                    if (nbb_cells[i].input_prompt_number == nbb_cell_id) {\n",
       "                        if (nbb_cells[i].get_text() == nbb_unformatted_code) {\n",
       "                             nbb_cells[i].set_text(nbb_formatted_code);\n",
       "                        }\n",
       "                        break;\n",
       "                    }\n",
       "                }\n",
       "            }, 500);\n",
       "            "
      ],
      "text/plain": [
       "<IPython.core.display.Javascript object>"
      ]
     },
     "metadata": {},
     "output_type": "display_data"
    }
   ],
   "source": [
    "transformed = prep.fit_transform(X_train, y_train)\n",
    "# ToDO get printVIF and run it.\n",
    "type(transformed)\n",
    "# ToD0, create dataframe with transformed.\n",
    "transformed = pd.DataFrame(transformed, columns=X_train.columns)\n",
    "print_vif(transformed)"
   ]
  },
  {
   "cell_type": "code",
   "execution_count": 31,
   "metadata": {},
   "outputs": [
    {
     "data": {
      "image/png": "[encoded data removed]",
      "text/plain": [
       "<Figure size 1440x1080 with 2 Axes>"
      ]
     },
     "metadata": {
      "needs_background": "light"
     },
     "output_type": "display_data"
    },
    {
     "data": {
      "application/javascript": [
       "\n",
       "            setTimeout(function() {\n",
       "                var nbb_cell_id = 31;\n",
       "                var nbb_unformatted_code = \"# Looking for correlations over .5 -- There is only one, and that is ok.\\nplt.figure(figsize=(20, 15))\\nsns.heatmap(X.corr(), vmin=-1, vmax=1, annot=True)\\nplt.show()\";\n",
       "                var nbb_formatted_code = \"# Looking for correlations over .5 -- There is only one, and that is ok.\\nplt.figure(figsize=(20, 15))\\nsns.heatmap(X.corr(), vmin=-1, vmax=1, annot=True)\\nplt.show()\";\n",
       "                var nbb_cells = Jupyter.notebook.get_cells();\n",
       "                for (var i = 0; i < nbb_cells.length; ++i) {\n",
       "                    if (nbb_cells[i].input_prompt_number == nbb_cell_id) {\n",
       "                        if (nbb_cells[i].get_text() == nbb_unformatted_code) {\n",
       "                             nbb_cells[i].set_text(nbb_formatted_code);\n",
       "                        }\n",
       "                        break;\n",
       "                    }\n",
       "                }\n",
       "            }, 500);\n",
       "            "
      ],
      "text/plain": [
       "<IPython.core.display.Javascript object>"
      ]
     },
     "metadata": {},
     "output_type": "display_data"
    }
   ],
   "source": [
    "# Looking for correlations over .5 -- There is only one, and that is ok.\n",
    "plt.figure(figsize=(20, 15))\n",
    "sns.heatmap(X.corr(), vmin=-1, vmax=1, annot=True)\n",
    "plt.show()"
   ]
  },
  {
   "cell_type": "code",
   "execution_count": 32,
   "metadata": {},
   "outputs": [
    {
     "data": {
      "application/javascript": [
       "\n",
       "            setTimeout(function() {\n",
       "                var nbb_cell_id = 32;\n",
       "                var nbb_unformatted_code = \"n_trees = 100\\n# learning_rate = ([0.0001, 0.001, 0.01, 0.1, 0.2, 0.3],)\\n\\nx_pipe = Pipeline(\\n    [\\n        (\\\"prep\\\", prep),\\n        (\\\"xgb\\\", XGBClassifier(n_estimators=n_trees, learning_rate=0.01 / n_trees)),\\n    ]\\n)\\n\\nx_grid = {\\n    \\\"xgb__subsample\\\": [0.5, 0.75, 1],\\n    \\\"xgb__colsample_bytree\\\": [0.5, 0.75, 1],\\n    \\\"xgb__max_depth\\\": [2, 3, 4, 5],\\n}\\n\\nx_pipe_cv = GridSearchCV(x_pipe, x_grid, cv=4, n_jobs=-1)\";\n",
       "                var nbb_formatted_code = \"n_trees = 100\\n# learning_rate = ([0.0001, 0.001, 0.01, 0.1, 0.2, 0.3],)\\n\\nx_pipe = Pipeline(\\n    [\\n        (\\\"prep\\\", prep),\\n        (\\\"xgb\\\", XGBClassifier(n_estimators=n_trees, learning_rate=0.01 / n_trees)),\\n    ]\\n)\\n\\nx_grid = {\\n    \\\"xgb__subsample\\\": [0.5, 0.75, 1],\\n    \\\"xgb__colsample_bytree\\\": [0.5, 0.75, 1],\\n    \\\"xgb__max_depth\\\": [2, 3, 4, 5],\\n}\\n\\nx_pipe_cv = GridSearchCV(x_pipe, x_grid, cv=4, n_jobs=-1)\";\n",
       "                var nbb_cells = Jupyter.notebook.get_cells();\n",
       "                for (var i = 0; i < nbb_cells.length; ++i) {\n",
       "                    if (nbb_cells[i].input_prompt_number == nbb_cell_id) {\n",
       "                        if (nbb_cells[i].get_text() == nbb_unformatted_code) {\n",
       "                             nbb_cells[i].set_text(nbb_formatted_code);\n",
       "                        }\n",
       "                        break;\n",
       "                    }\n",
       "                }\n",
       "            }, 500);\n",
       "            "
      ],
      "text/plain": [
       "<IPython.core.display.Javascript object>"
      ]
     },
     "metadata": {},
     "output_type": "display_data"
    }
   ],
   "source": [
    "n_trees = 100\n",
    "# learning_rate = ([0.0001, 0.001, 0.01, 0.1, 0.2, 0.3],)\n",
    "\n",
    "x_pipe = Pipeline(\n",
    "    [\n",
    "        (\"prep\", prep),\n",
    "        (\"xgb\", XGBClassifier(n_estimators=n_trees, learning_rate=0.01 / n_trees)),\n",
    "    ]\n",
    ")\n",
    "\n",
    "x_grid = {\n",
    "    \"xgb__subsample\": [0.5, 0.75, 1],\n",
    "    \"xgb__colsample_bytree\": [0.5, 0.75, 1],\n",
    "    \"xgb__max_depth\": [2, 3, 4, 5],\n",
    "}\n",
    "\n",
    "x_pipe_cv = GridSearchCV(x_pipe, x_grid, cv=4, n_jobs=-1)"
   ]
  },
  {
   "cell_type": "code",
   "execution_count": 33,
   "metadata": {},
   "outputs": [
    {
     "name": "stdout",
     "output_type": "stream",
     "text": [
      "[12:29:39] WARNING: /Users/travis/build/dmlc/xgboost/src/learner.cc:1061: Starting in XGBoost 1.3.0, the default evaluation metric used with the objective 'binary:logistic' was changed from 'error' to 'logloss'. Explicitly set eval_metric if you'd like to restore the old behavior.\n",
      "Best params:\n",
      "{'xgb__colsample_bytree': 0.75, 'xgb__max_depth': 2, 'xgb__subsample': 0.75}\n",
      "\n",
      "train score: 0.824\n",
      "test score: 0.800\n",
      "\n",
      "[[89 27]\n",
      " [15 79]]\n",
      "              precision    recall  f1-score   support\n",
      "\n",
      "           0       0.86      0.77      0.81       116\n",
      "           1       0.75      0.84      0.79        94\n",
      "\n",
      "    accuracy                           0.80       210\n",
      "   macro avg       0.80      0.80      0.80       210\n",
      "weighted avg       0.81      0.80      0.80       210\n",
      "\n"
     ]
    },
    {
     "name": "stderr",
     "output_type": "stream",
     "text": [
      "/Users/JasonB/opt/anaconda3/lib/python3.8/site-packages/xgboost/sklearn.py:888: UserWarning: The use of label encoder in XGBClassifier is deprecated and will be removed in a future release. To remove this warning, do the following: 1) Pass option use_label_encoder=False when constructing XGBClassifier object; and 2) Encode your labels (y) as integers starting with 0, i.e. 0, 1, 2, ..., [num_class - 1].\n",
      "  warnings.warn(label_encoder_deprecation_msg, UserWarning)\n"
     ]
    },
    {
     "data": {
      "application/javascript": [
       "\n",
       "            setTimeout(function() {\n",
       "                var nbb_cell_id = 33;\n",
       "                var nbb_unformatted_code = \"x_pipe_cv.fit(X_train, y_train)\\n\\nprint(\\\"Best params:\\\")\\nprint(x_pipe_cv.best_params_)\\n\\nprint(f\\\"\\\\ntrain score: {x_pipe_cv.score(X_train, y_train):.3f}\\\")\\nprint(f\\\"test score: {x_pipe_cv.score(X_test, y_test):.3f}\\\\n\\\")\\n\\ny_predx = x_pipe_cv.predict(X_test)\\nprint(confusion_matrix(y_test, y_predx))\\nprint(classification_report(y_test, y_predx))\";\n",
       "                var nbb_formatted_code = \"x_pipe_cv.fit(X_train, y_train)\\n\\nprint(\\\"Best params:\\\")\\nprint(x_pipe_cv.best_params_)\\n\\nprint(f\\\"\\\\ntrain score: {x_pipe_cv.score(X_train, y_train):.3f}\\\")\\nprint(f\\\"test score: {x_pipe_cv.score(X_test, y_test):.3f}\\\\n\\\")\\n\\ny_predx = x_pipe_cv.predict(X_test)\\nprint(confusion_matrix(y_test, y_predx))\\nprint(classification_report(y_test, y_predx))\";\n",
       "                var nbb_cells = Jupyter.notebook.get_cells();\n",
       "                for (var i = 0; i < nbb_cells.length; ++i) {\n",
       "                    if (nbb_cells[i].input_prompt_number == nbb_cell_id) {\n",
       "                        if (nbb_cells[i].get_text() == nbb_unformatted_code) {\n",
       "                             nbb_cells[i].set_text(nbb_formatted_code);\n",
       "                        }\n",
       "                        break;\n",
       "                    }\n",
       "                }\n",
       "            }, 500);\n",
       "            "
      ],
      "text/plain": [
       "<IPython.core.display.Javascript object>"
      ]
     },
     "metadata": {},
     "output_type": "display_data"
    }
   ],
   "source": [
    "x_pipe_cv.fit(X_train, y_train)\n",
    "\n",
    "print(\"Best params:\")\n",
    "print(x_pipe_cv.best_params_)\n",
    "\n",
    "print(f\"\\ntrain score: {x_pipe_cv.score(X_train, y_train):.3f}\")\n",
    "print(f\"test score: {x_pipe_cv.score(X_test, y_test):.3f}\\n\")\n",
    "\n",
    "y_predx = x_pipe_cv.predict(X_test)\n",
    "print(confusion_matrix(y_test, y_predx))\n",
    "print(classification_report(y_test, y_predx))"
   ]
  },
  {
   "cell_type": "code",
   "execution_count": 59,
   "metadata": {},
   "outputs": [
    {
     "data": {
      "text/html": [
       "<div>\n",
       "<style scoped>\n",
       "    .dataframe tbody tr th:only-of-type {\n",
       "        vertical-align: middle;\n",
       "    }\n",
       "\n",
       "    .dataframe tbody tr th {\n",
       "        vertical-align: top;\n",
       "    }\n",
       "\n",
       "    .dataframe thead th {\n",
       "        text-align: right;\n",
       "    }\n",
       "</style>\n",
       "<table border=\"1\" class=\"dataframe\">\n",
       "  <thead>\n",
       "    <tr style=\"text-align: right;\">\n",
       "      <th></th>\n",
       "      <th>team_home</th>\n",
       "      <th>team_away</th>\n",
       "      <th>spread_favorite</th>\n",
       "      <th>mean_home</th>\n",
       "      <th>mean_away</th>\n",
       "      <th>home_favorite</th>\n",
       "    </tr>\n",
       "  </thead>\n",
       "  <tbody>\n",
       "    <tr>\n",
       "      <th>775</th>\n",
       "      <td>DAL</td>\n",
       "      <td>MIN</td>\n",
       "      <td>-3.0</td>\n",
       "      <td>32.125</td>\n",
       "      <td>24.800000</td>\n",
       "      <td>1.0</td>\n",
       "    </tr>\n",
       "    <tr>\n",
       "      <th>280</th>\n",
       "      <td>SF</td>\n",
       "      <td>NO</td>\n",
       "      <td>-5.0</td>\n",
       "      <td>20.375</td>\n",
       "      <td>27.625000</td>\n",
       "      <td>0.0</td>\n",
       "    </tr>\n",
       "    <tr>\n",
       "      <th>631</th>\n",
       "      <td>LVR</td>\n",
       "      <td>SEA</td>\n",
       "      <td>-3.0</td>\n",
       "      <td>22.375</td>\n",
       "      <td>24.666667</td>\n",
       "      <td>0.0</td>\n",
       "    </tr>\n",
       "    <tr>\n",
       "      <th>318</th>\n",
       "      <td>NYG</td>\n",
       "      <td>CIN</td>\n",
       "      <td>0.0</td>\n",
       "      <td>21.000</td>\n",
       "      <td>17.125000</td>\n",
       "      <td>0.0</td>\n",
       "    </tr>\n",
       "    <tr>\n",
       "      <th>1010</th>\n",
       "      <td>MIN</td>\n",
       "      <td>TEN</td>\n",
       "      <td>-2.5</td>\n",
       "      <td>29.000</td>\n",
       "      <td>22.333333</td>\n",
       "      <td>0.0</td>\n",
       "    </tr>\n",
       "    <tr>\n",
       "      <th>...</th>\n",
       "      <td>...</td>\n",
       "      <td>...</td>\n",
       "      <td>...</td>\n",
       "      <td>...</td>\n",
       "      <td>...</td>\n",
       "      <td>...</td>\n",
       "    </tr>\n",
       "    <tr>\n",
       "      <th>686</th>\n",
       "      <td>CAR</td>\n",
       "      <td>CIN</td>\n",
       "      <td>-2.5</td>\n",
       "      <td>25.500</td>\n",
       "      <td>21.875000</td>\n",
       "      <td>1.0</td>\n",
       "    </tr>\n",
       "    <tr>\n",
       "      <th>620</th>\n",
       "      <td>JAX</td>\n",
       "      <td>HOU</td>\n",
       "      <td>-3.5</td>\n",
       "      <td>16.000</td>\n",
       "      <td>24.375000</td>\n",
       "      <td>1.0</td>\n",
       "    </tr>\n",
       "    <tr>\n",
       "      <th>321</th>\n",
       "      <td>LAR</td>\n",
       "      <td>MIA</td>\n",
       "      <td>-1.0</td>\n",
       "      <td>12.375</td>\n",
       "      <td>19.111111</td>\n",
       "      <td>0.0</td>\n",
       "    </tr>\n",
       "    <tr>\n",
       "      <th>1009</th>\n",
       "      <td>CIN</td>\n",
       "      <td>TEN</td>\n",
       "      <td>-7.0</td>\n",
       "      <td>27.750</td>\n",
       "      <td>22.333333</td>\n",
       "      <td>0.0</td>\n",
       "    </tr>\n",
       "    <tr>\n",
       "      <th>388</th>\n",
       "      <td>NYG</td>\n",
       "      <td>KC</td>\n",
       "      <td>-10.0</td>\n",
       "      <td>15.625</td>\n",
       "      <td>27.750000</td>\n",
       "      <td>0.0</td>\n",
       "    </tr>\n",
       "  </tbody>\n",
       "</table>\n",
       "<p>210 rows × 6 columns</p>\n",
       "</div>"
      ],
      "text/plain": [
       "     team_home team_away  spread_favorite  mean_home  mean_away  home_favorite\n",
       "775        DAL       MIN             -3.0     32.125  24.800000            1.0\n",
       "280         SF        NO             -5.0     20.375  27.625000            0.0\n",
       "631        LVR       SEA             -3.0     22.375  24.666667            0.0\n",
       "318        NYG       CIN              0.0     21.000  17.125000            0.0\n",
       "1010       MIN       TEN             -2.5     29.000  22.333333            0.0\n",
       "...        ...       ...              ...        ...        ...            ...\n",
       "686        CAR       CIN             -2.5     25.500  21.875000            1.0\n",
       "620        JAX       HOU             -3.5     16.000  24.375000            1.0\n",
       "321        LAR       MIA             -1.0     12.375  19.111111            0.0\n",
       "1009       CIN       TEN             -7.0     27.750  22.333333            0.0\n",
       "388        NYG        KC            -10.0     15.625  27.750000            0.0\n",
       "\n",
       "[210 rows x 6 columns]"
      ]
     },
     "metadata": {},
     "output_type": "display_data"
    },
    {
     "data": {
      "text/html": [
       "<div>\n",
       "<style scoped>\n",
       "    .dataframe tbody tr th:only-of-type {\n",
       "        vertical-align: middle;\n",
       "    }\n",
       "\n",
       "    .dataframe tbody tr th {\n",
       "        vertical-align: top;\n",
       "    }\n",
       "\n",
       "    .dataframe thead th {\n",
       "        text-align: right;\n",
       "    }\n",
       "</style>\n",
       "<table border=\"1\" class=\"dataframe\">\n",
       "  <thead>\n",
       "    <tr style=\"text-align: right;\">\n",
       "      <th></th>\n",
       "      <th>team_home</th>\n",
       "      <th>team_away</th>\n",
       "      <th>spread_favorite</th>\n",
       "      <th>mean_home</th>\n",
       "      <th>mean_away</th>\n",
       "      <th>home_favorite</th>\n",
       "    </tr>\n",
       "  </thead>\n",
       "  <tbody>\n",
       "    <tr>\n",
       "      <th>775</th>\n",
       "      <td>0.285714</td>\n",
       "      <td>0.142857</td>\n",
       "      <td>-3.0</td>\n",
       "      <td>32.125</td>\n",
       "      <td>24.800000</td>\n",
       "      <td>1.0</td>\n",
       "    </tr>\n",
       "    <tr>\n",
       "      <th>280</th>\n",
       "      <td>0.285714</td>\n",
       "      <td>0.600000</td>\n",
       "      <td>-5.0</td>\n",
       "      <td>20.375</td>\n",
       "      <td>27.625000</td>\n",
       "      <td>0.0</td>\n",
       "    </tr>\n",
       "    <tr>\n",
       "      <th>631</th>\n",
       "      <td>0.500000</td>\n",
       "      <td>0.000000</td>\n",
       "      <td>-3.0</td>\n",
       "      <td>22.375</td>\n",
       "      <td>24.666667</td>\n",
       "      <td>0.0</td>\n",
       "    </tr>\n",
       "    <tr>\n",
       "      <th>318</th>\n",
       "      <td>0.333333</td>\n",
       "      <td>0.750000</td>\n",
       "      <td>0.0</td>\n",
       "      <td>21.000</td>\n",
       "      <td>17.125000</td>\n",
       "      <td>0.0</td>\n",
       "    </tr>\n",
       "    <tr>\n",
       "      <th>1010</th>\n",
       "      <td>0.800000</td>\n",
       "      <td>0.500000</td>\n",
       "      <td>-2.5</td>\n",
       "      <td>29.000</td>\n",
       "      <td>22.333333</td>\n",
       "      <td>0.0</td>\n",
       "    </tr>\n",
       "    <tr>\n",
       "      <th>...</th>\n",
       "      <td>...</td>\n",
       "      <td>...</td>\n",
       "      <td>...</td>\n",
       "      <td>...</td>\n",
       "      <td>...</td>\n",
       "      <td>...</td>\n",
       "    </tr>\n",
       "    <tr>\n",
       "      <th>686</th>\n",
       "      <td>0.666667</td>\n",
       "      <td>0.500000</td>\n",
       "      <td>-2.5</td>\n",
       "      <td>25.500</td>\n",
       "      <td>21.875000</td>\n",
       "      <td>1.0</td>\n",
       "    </tr>\n",
       "    <tr>\n",
       "      <th>620</th>\n",
       "      <td>0.214286</td>\n",
       "      <td>0.600000</td>\n",
       "      <td>-3.5</td>\n",
       "      <td>16.000</td>\n",
       "      <td>24.375000</td>\n",
       "      <td>1.0</td>\n",
       "    </tr>\n",
       "    <tr>\n",
       "      <th>321</th>\n",
       "      <td>0.222222</td>\n",
       "      <td>0.666667</td>\n",
       "      <td>-1.0</td>\n",
       "      <td>12.375</td>\n",
       "      <td>19.111111</td>\n",
       "      <td>0.0</td>\n",
       "    </tr>\n",
       "    <tr>\n",
       "      <th>1009</th>\n",
       "      <td>0.333333</td>\n",
       "      <td>0.500000</td>\n",
       "      <td>-7.0</td>\n",
       "      <td>27.750</td>\n",
       "      <td>22.333333</td>\n",
       "      <td>0.0</td>\n",
       "    </tr>\n",
       "    <tr>\n",
       "      <th>388</th>\n",
       "      <td>0.333333</td>\n",
       "      <td>0.000000</td>\n",
       "      <td>-10.0</td>\n",
       "      <td>15.625</td>\n",
       "      <td>27.750000</td>\n",
       "      <td>0.0</td>\n",
       "    </tr>\n",
       "  </tbody>\n",
       "</table>\n",
       "<p>210 rows × 6 columns</p>\n",
       "</div>"
      ],
      "text/plain": [
       "      team_home  team_away  spread_favorite  mean_home  mean_away  \\\n",
       "775    0.285714   0.142857             -3.0     32.125  24.800000   \n",
       "280    0.285714   0.600000             -5.0     20.375  27.625000   \n",
       "631    0.500000   0.000000             -3.0     22.375  24.666667   \n",
       "318    0.333333   0.750000              0.0     21.000  17.125000   \n",
       "1010   0.800000   0.500000             -2.5     29.000  22.333333   \n",
       "...         ...        ...              ...        ...        ...   \n",
       "686    0.666667   0.500000             -2.5     25.500  21.875000   \n",
       "620    0.214286   0.600000             -3.5     16.000  24.375000   \n",
       "321    0.222222   0.666667             -1.0     12.375  19.111111   \n",
       "1009   0.333333   0.500000             -7.0     27.750  22.333333   \n",
       "388    0.333333   0.000000            -10.0     15.625  27.750000   \n",
       "\n",
       "      home_favorite  \n",
       "775             1.0  \n",
       "280             0.0  \n",
       "631             0.0  \n",
       "318             0.0  \n",
       "1010            0.0  \n",
       "...             ...  \n",
       "686             1.0  \n",
       "620             1.0  \n",
       "321             0.0  \n",
       "1009            0.0  \n",
       "388             0.0  \n",
       "\n",
       "[210 rows x 6 columns]"
      ]
     },
     "execution_count": 59,
     "metadata": {},
     "output_type": "execute_result"
    },
    {
     "data": {
      "application/javascript": [
       "\n",
       "            setTimeout(function() {\n",
       "                var nbb_cell_id = 59;\n",
       "                var nbb_unformatted_code = \"encoded = LeaveOneOutEncoder().fit_transform(X_test, y_test)\\ndf_test = pd.concat((encoded, y_test), axis=1)\\nEX_test = df_test.drop(columns=\\\"home_ml_fav\\\")\\ndisplay(X_test)\\nEX_test\";\n",
       "                var nbb_formatted_code = \"encoded = LeaveOneOutEncoder().fit_transform(X_test, y_test)\\ndf_test = pd.concat((encoded, y_test), axis=1)\\nEX_test = df_test.drop(columns=\\\"home_ml_fav\\\")\\ndisplay(X_test)\\nEX_test\";\n",
       "                var nbb_cells = Jupyter.notebook.get_cells();\n",
       "                for (var i = 0; i < nbb_cells.length; ++i) {\n",
       "                    if (nbb_cells[i].input_prompt_number == nbb_cell_id) {\n",
       "                        if (nbb_cells[i].get_text() == nbb_unformatted_code) {\n",
       "                             nbb_cells[i].set_text(nbb_formatted_code);\n",
       "                        }\n",
       "                        break;\n",
       "                    }\n",
       "                }\n",
       "            }, 500);\n",
       "            "
      ],
      "text/plain": [
       "<IPython.core.display.Javascript object>"
      ]
     },
     "metadata": {},
     "output_type": "display_data"
    }
   ],
   "source": [
    "encoded = LeaveOneOutEncoder().fit_transform(X_test, y_test)\n",
    "df_test = pd.concat((encoded, y_test), axis=1)\n",
    "EX_test = df_test.drop(columns=\"home_ml_fav\")\n",
    "display(X_test)\n",
    "EX_test"
   ]
  },
  {
   "cell_type": "code",
   "execution_count": 60,
   "metadata": {},
   "outputs": [
    {
     "data": {
      "application/javascript": [
       "\n",
       "            setTimeout(function() {\n",
       "                var nbb_cell_id = 60;\n",
       "                var nbb_unformatted_code = \"# Un nest XGB then run predict proba to get probaility score ideas\\npred_prob_0 = x_pipe_cv.best_estimator_[\\\"xgb\\\"].predict_proba(EX_test)[:, 0]\";\n",
       "                var nbb_formatted_code = \"# Un nest XGB then run predict proba to get probaility score ideas\\npred_prob_0 = x_pipe_cv.best_estimator_[\\\"xgb\\\"].predict_proba(EX_test)[:, 0]\";\n",
       "                var nbb_cells = Jupyter.notebook.get_cells();\n",
       "                for (var i = 0; i < nbb_cells.length; ++i) {\n",
       "                    if (nbb_cells[i].input_prompt_number == nbb_cell_id) {\n",
       "                        if (nbb_cells[i].get_text() == nbb_unformatted_code) {\n",
       "                             nbb_cells[i].set_text(nbb_formatted_code);\n",
       "                        }\n",
       "                        break;\n",
       "                    }\n",
       "                }\n",
       "            }, 500);\n",
       "            "
      ],
      "text/plain": [
       "<IPython.core.display.Javascript object>"
      ]
     },
     "metadata": {},
     "output_type": "display_data"
    }
   ],
   "source": [
    "# Un nest XGB then run predict proba to get probaility score ideas\n",
    "pred_prob_0 = x_pipe_cv.best_estimator_[\"xgb\"].predict_proba(EX_test)[:, 0]\n"
   ]
  },
  {
   "cell_type": "code",
   "execution_count": 61,
   "metadata": {},
   "outputs": [
    {
     "data": {
      "image/png": "[encoded data removed]",
      "text/plain": [
       "<Figure size 432x288 with 1 Axes>"
      ]
     },
     "metadata": {
      "needs_background": "light"
     },
     "output_type": "display_data"
    },
    {
     "data": {
      "application/javascript": [
       "\n",
       "            setTimeout(function() {\n",
       "                var nbb_cell_id = 61;\n",
       "                var nbb_unformatted_code = \"# Visualize confidence of model.\\nplt.hist(pred_prob_0)\\nplt.show()\";\n",
       "                var nbb_formatted_code = \"# Visualize confidence of model.\\nplt.hist(pred_prob_0)\\nplt.show()\";\n",
       "                var nbb_cells = Jupyter.notebook.get_cells();\n",
       "                for (var i = 0; i < nbb_cells.length; ++i) {\n",
       "                    if (nbb_cells[i].input_prompt_number == nbb_cell_id) {\n",
       "                        if (nbb_cells[i].get_text() == nbb_unformatted_code) {\n",
       "                             nbb_cells[i].set_text(nbb_formatted_code);\n",
       "                        }\n",
       "                        break;\n",
       "                    }\n",
       "                }\n",
       "            }, 500);\n",
       "            "
      ],
      "text/plain": [
       "<IPython.core.display.Javascript object>"
      ]
     },
     "metadata": {},
     "output_type": "display_data"
    }
   ],
   "source": [
    "# Visualize confidence of model.\n",
    "plt.hist(pred_prob_0)\n",
    "plt.show()"
   ]
  },
  {
   "cell_type": "markdown",
   "metadata": {},
   "source": [
    "### Importances"
   ]
  },
  {
   "cell_type": "code",
   "execution_count": 62,
   "metadata": {},
   "outputs": [
    {
     "data": {
      "text/html": [
       "<div>\n",
       "<style scoped>\n",
       "    .dataframe tbody tr th:only-of-type {\n",
       "        vertical-align: middle;\n",
       "    }\n",
       "\n",
       "    .dataframe tbody tr th {\n",
       "        vertical-align: top;\n",
       "    }\n",
       "\n",
       "    .dataframe thead th {\n",
       "        text-align: right;\n",
       "    }\n",
       "</style>\n",
       "<table border=\"1\" class=\"dataframe\">\n",
       "  <thead>\n",
       "    <tr style=\"text-align: right;\">\n",
       "      <th></th>\n",
       "      <th>features</th>\n",
       "      <th>importance</th>\n",
       "    </tr>\n",
       "  </thead>\n",
       "  <tbody>\n",
       "    <tr>\n",
       "      <th>5</th>\n",
       "      <td>home_favorite</td>\n",
       "      <td>0.619530</td>\n",
       "    </tr>\n",
       "    <tr>\n",
       "      <th>3</th>\n",
       "      <td>mean_home</td>\n",
       "      <td>0.131736</td>\n",
       "    </tr>\n",
       "    <tr>\n",
       "      <th>4</th>\n",
       "      <td>mean_away</td>\n",
       "      <td>0.070191</td>\n",
       "    </tr>\n",
       "    <tr>\n",
       "      <th>2</th>\n",
       "      <td>spread_favorite</td>\n",
       "      <td>0.067297</td>\n",
       "    </tr>\n",
       "    <tr>\n",
       "      <th>0</th>\n",
       "      <td>team_home</td>\n",
       "      <td>0.059324</td>\n",
       "    </tr>\n",
       "    <tr>\n",
       "      <th>1</th>\n",
       "      <td>team_away</td>\n",
       "      <td>0.051923</td>\n",
       "    </tr>\n",
       "  </tbody>\n",
       "</table>\n",
       "</div>"
      ],
      "text/plain": [
       "          features  importance\n",
       "5    home_favorite    0.619530\n",
       "3        mean_home    0.131736\n",
       "4        mean_away    0.070191\n",
       "2  spread_favorite    0.067297\n",
       "0        team_home    0.059324\n",
       "1        team_away    0.051923"
      ]
     },
     "execution_count": 62,
     "metadata": {},
     "output_type": "execute_result"
    },
    {
     "data": {
      "application/javascript": [
       "\n",
       "            setTimeout(function() {\n",
       "                var nbb_cell_id = 62;\n",
       "                var nbb_unformatted_code = \"importances = x_pipe_cv.best_estimator_[\\\"xgb\\\"].feature_importances_\\nim_df = pd.DataFrame({\\\"features\\\": X_train.columns, \\\"importance\\\": importances})\\nim_df.sort_values(\\\"importance\\\", ascending=False)\";\n",
       "                var nbb_formatted_code = \"importances = x_pipe_cv.best_estimator_[\\\"xgb\\\"].feature_importances_\\nim_df = pd.DataFrame({\\\"features\\\": X_train.columns, \\\"importance\\\": importances})\\nim_df.sort_values(\\\"importance\\\", ascending=False)\";\n",
       "                var nbb_cells = Jupyter.notebook.get_cells();\n",
       "                for (var i = 0; i < nbb_cells.length; ++i) {\n",
       "                    if (nbb_cells[i].input_prompt_number == nbb_cell_id) {\n",
       "                        if (nbb_cells[i].get_text() == nbb_unformatted_code) {\n",
       "                             nbb_cells[i].set_text(nbb_formatted_code);\n",
       "                        }\n",
       "                        break;\n",
       "                    }\n",
       "                }\n",
       "            }, 500);\n",
       "            "
      ],
      "text/plain": [
       "<IPython.core.display.Javascript object>"
      ]
     },
     "metadata": {},
     "output_type": "display_data"
    }
   ],
   "source": [
    "importances = x_pipe_cv.best_estimator_[\"xgb\"].feature_importances_\n",
    "im_df = pd.DataFrame({\"features\": X_train.columns, \"importance\": importances})\n",
    "im_df.sort_values(\"importance\", ascending=False)"
   ]
  },
  {
   "cell_type": "markdown",
   "metadata": {},
   "source": [
    "### Errors"
   ]
  },
  {
   "cell_type": "code",
   "execution_count": 63,
   "metadata": {},
   "outputs": [
    {
     "name": "stdout",
     "output_type": "stream",
     "text": [
      "mean prob of ml win for errors: 0.35714285714285715\n"
     ]
    },
    {
     "data": {
      "image/png": "[encoded data removed]",
      "text/plain": [
       "<Figure size 432x288 with 1 Axes>"
      ]
     },
     "metadata": {
      "needs_background": "light"
     },
     "output_type": "display_data"
    },
    {
     "data": {
      "application/javascript": [
       "\n",
       "            setTimeout(function() {\n",
       "                var nbb_cell_id = 63;\n",
       "                var nbb_unformatted_code = \"errors = dfss_copy.copy()\\nerrors = errors.loc[y_test.index]\\n\\nerrors[\\\"y_true\\\"] = y_test\\nerrors[\\\"y_pred\\\"] = y_predx\\n\\nerrors = errors[errors[\\\"y_true\\\"] != errors[\\\"y_pred\\\"]]\\n\\nprint(f'mean prob of ml win for errors: {errors[\\\"home_ml_fav\\\"].mean()}')\\n\\n\\nsns.swarmplot(y=errors[\\\"home_ml_fav\\\"])\\nplt.show()\";\n",
       "                var nbb_formatted_code = \"errors = dfss_copy.copy()\\nerrors = errors.loc[y_test.index]\\n\\nerrors[\\\"y_true\\\"] = y_test\\nerrors[\\\"y_pred\\\"] = y_predx\\n\\nerrors = errors[errors[\\\"y_true\\\"] != errors[\\\"y_pred\\\"]]\\n\\nprint(f'mean prob of ml win for errors: {errors[\\\"home_ml_fav\\\"].mean()}')\\n\\n\\nsns.swarmplot(y=errors[\\\"home_ml_fav\\\"])\\nplt.show()\";\n",
       "                var nbb_cells = Jupyter.notebook.get_cells();\n",
       "                for (var i = 0; i < nbb_cells.length; ++i) {\n",
       "                    if (nbb_cells[i].input_prompt_number == nbb_cell_id) {\n",
       "                        if (nbb_cells[i].get_text() == nbb_unformatted_code) {\n",
       "                             nbb_cells[i].set_text(nbb_formatted_code);\n",
       "                        }\n",
       "                        break;\n",
       "                    }\n",
       "                }\n",
       "            }, 500);\n",
       "            "
      ],
      "text/plain": [
       "<IPython.core.display.Javascript object>"
      ]
     },
     "metadata": {},
     "output_type": "display_data"
    }
   ],
   "source": [
    "errors = dfss_copy.copy()\n",
    "errors = errors.loc[y_test.index]\n",
    "\n",
    "errors[\"y_true\"] = y_test\n",
    "errors[\"y_pred\"] = y_predx\n",
    "\n",
    "errors = errors[errors[\"y_true\"] != errors[\"y_pred\"]]\n",
    "\n",
    "print(f'mean prob of ml win for errors: {errors[\"home_ml_fav\"].mean()}')\n",
    "\n",
    "\n",
    "sns.swarmplot(y=errors[\"home_ml_fav\"])\n",
    "plt.show()"
   ]
  },
  {
   "cell_type": "markdown",
   "metadata": {},
   "source": [
    "## Try SVM on Money Line outcome for favorited team"
   ]
  },
  {
   "cell_type": "code",
   "execution_count": 64,
   "metadata": {},
   "outputs": [
    {
     "data": {
      "application/javascript": [
       "\n",
       "            setTimeout(function() {\n",
       "                var nbb_cell_id = 64;\n",
       "                var nbb_unformatted_code = \"pipe = Pipeline([(\\\"prep\\\", prep), (\\\"svc\\\", SVC(probability=True))])\\n\\ngrid = {\\n    \\\"svc__kernel\\\": [\\\"linear\\\", \\\"poly\\\", \\\"rbf\\\"],\\n    \\\"svc__degree\\\": [2, 3, 4],\\n    \\\"svc__C\\\": [0.001, 0.01, 0.1, 1],\\n}\\n\\npipe_cv = GridSearchCV(pipe, grid, cv=2, n_jobs=-1)\";\n",
       "                var nbb_formatted_code = \"pipe = Pipeline([(\\\"prep\\\", prep), (\\\"svc\\\", SVC(probability=True))])\\n\\ngrid = {\\n    \\\"svc__kernel\\\": [\\\"linear\\\", \\\"poly\\\", \\\"rbf\\\"],\\n    \\\"svc__degree\\\": [2, 3, 4],\\n    \\\"svc__C\\\": [0.001, 0.01, 0.1, 1],\\n}\\n\\npipe_cv = GridSearchCV(pipe, grid, cv=2, n_jobs=-1)\";\n",
       "                var nbb_cells = Jupyter.notebook.get_cells();\n",
       "                for (var i = 0; i < nbb_cells.length; ++i) {\n",
       "                    if (nbb_cells[i].input_prompt_number == nbb_cell_id) {\n",
       "                        if (nbb_cells[i].get_text() == nbb_unformatted_code) {\n",
       "                             nbb_cells[i].set_text(nbb_formatted_code);\n",
       "                        }\n",
       "                        break;\n",
       "                    }\n",
       "                }\n",
       "            }, 500);\n",
       "            "
      ],
      "text/plain": [
       "<IPython.core.display.Javascript object>"
      ]
     },
     "metadata": {},
     "output_type": "display_data"
    }
   ],
   "source": [
    "pipe = Pipeline([(\"prep\", prep), (\"svc\", SVC(probability=True))])\n",
    "\n",
    "grid = {\n",
    "    \"svc__kernel\": [\"linear\", \"poly\", \"rbf\"],\n",
    "    \"svc__degree\": [2, 3, 4],\n",
    "    \"svc__C\": [0.001, 0.01, 0.1, 1],\n",
    "}\n",
    "\n",
    "pipe_cv = GridSearchCV(pipe, grid, cv=2, n_jobs=-1)"
   ]
  },
  {
   "cell_type": "markdown",
   "metadata": {},
   "source": [
    "### Fit and Eval"
   ]
  },
  {
   "cell_type": "code",
   "execution_count": 65,
   "metadata": {},
   "outputs": [
    {
     "name": "stdout",
     "output_type": "stream",
     "text": [
      "Best params:\n",
      "{'svc__C': 0.1, 'svc__degree': 2, 'svc__kernel': 'linear'}\n",
      "\n",
      "train score: 0.798\n",
      "test score: 0.829\n",
      "\n",
      "[[91 25]\n",
      " [11 83]]\n",
      "              precision    recall  f1-score   support\n",
      "\n",
      "           0       0.89      0.78      0.83       116\n",
      "           1       0.77      0.88      0.82        94\n",
      "\n",
      "    accuracy                           0.83       210\n",
      "   macro avg       0.83      0.83      0.83       210\n",
      "weighted avg       0.84      0.83      0.83       210\n",
      "\n"
     ]
    },
    {
     "data": {
      "application/javascript": [
       "\n",
       "            setTimeout(function() {\n",
       "                var nbb_cell_id = 65;\n",
       "                var nbb_unformatted_code = \"pipe_cv.fit(X_train, y_train)\\n\\nprint(\\\"Best params:\\\")\\nprint(pipe_cv.best_params_)\\n\\nprint(f\\\"\\\\ntrain score: {pipe_cv.score(X_train,y_train):.3f}\\\")\\nprint(f\\\"test score: {pipe_cv.score(X_test, y_test):.3f}\\\\n\\\")\\n\\ny_pred = pipe_cv.predict(X_test)\\nprint(confusion_matrix(y_test, y_pred))\\nprint(classification_report(y_test, y_pred))\";\n",
       "                var nbb_formatted_code = \"pipe_cv.fit(X_train, y_train)\\n\\nprint(\\\"Best params:\\\")\\nprint(pipe_cv.best_params_)\\n\\nprint(f\\\"\\\\ntrain score: {pipe_cv.score(X_train,y_train):.3f}\\\")\\nprint(f\\\"test score: {pipe_cv.score(X_test, y_test):.3f}\\\\n\\\")\\n\\ny_pred = pipe_cv.predict(X_test)\\nprint(confusion_matrix(y_test, y_pred))\\nprint(classification_report(y_test, y_pred))\";\n",
       "                var nbb_cells = Jupyter.notebook.get_cells();\n",
       "                for (var i = 0; i < nbb_cells.length; ++i) {\n",
       "                    if (nbb_cells[i].input_prompt_number == nbb_cell_id) {\n",
       "                        if (nbb_cells[i].get_text() == nbb_unformatted_code) {\n",
       "                             nbb_cells[i].set_text(nbb_formatted_code);\n",
       "                        }\n",
       "                        break;\n",
       "                    }\n",
       "                }\n",
       "            }, 500);\n",
       "            "
      ],
      "text/plain": [
       "<IPython.core.display.Javascript object>"
      ]
     },
     "metadata": {},
     "output_type": "display_data"
    }
   ],
   "source": [
    "pipe_cv.fit(X_train, y_train)\n",
    "\n",
    "print(\"Best params:\")\n",
    "print(pipe_cv.best_params_)\n",
    "\n",
    "print(f\"\\ntrain score: {pipe_cv.score(X_train,y_train):.3f}\")\n",
    "print(f\"test score: {pipe_cv.score(X_test, y_test):.3f}\\n\")\n",
    "\n",
    "y_pred = pipe_cv.predict(X_test)\n",
    "print(confusion_matrix(y_test, y_pred))\n",
    "print(classification_report(y_test, y_pred))"
   ]
  },
  {
   "cell_type": "code",
   "execution_count": 67,
   "metadata": {},
   "outputs": [
    {
     "data": {
      "application/javascript": [
       "\n",
       "            setTimeout(function() {\n",
       "                var nbb_cell_id = 67;\n",
       "                var nbb_unformatted_code = \"# Calibration Curve is best to look at probability of 1.\\n# As it will keep skew from happening.\\n\\nx_pred_prob_1 = x_pipe_cv.best_estimator_[\\\"xgb\\\"].predict_proba(EX_test)[:, 1]\\n\\n# Run for the SVM model\\npred_prob_1 = pipe_cv.best_estimator_[\\\"svc\\\"].predict_proba(EX_test)[:, 1]\";\n",
       "                var nbb_formatted_code = \"# Calibration Curve is best to look at probability of 1.\\n# As it will keep skew from happening.\\n\\nx_pred_prob_1 = x_pipe_cv.best_estimator_[\\\"xgb\\\"].predict_proba(EX_test)[:, 1]\\n\\n# Run for the SVM model\\npred_prob_1 = pipe_cv.best_estimator_[\\\"svc\\\"].predict_proba(EX_test)[:, 1]\";\n",
       "                var nbb_cells = Jupyter.notebook.get_cells();\n",
       "                for (var i = 0; i < nbb_cells.length; ++i) {\n",
       "                    if (nbb_cells[i].input_prompt_number == nbb_cell_id) {\n",
       "                        if (nbb_cells[i].get_text() == nbb_unformatted_code) {\n",
       "                             nbb_cells[i].set_text(nbb_formatted_code);\n",
       "                        }\n",
       "                        break;\n",
       "                    }\n",
       "                }\n",
       "            }, 500);\n",
       "            "
      ],
      "text/plain": [
       "<IPython.core.display.Javascript object>"
      ]
     },
     "metadata": {},
     "output_type": "display_data"
    }
   ],
   "source": [
    "# Calibration Curve is best to look at probability of 1.\n",
    "# As it will keep skew from happening.\n",
    "\n",
    "x_pred_prob_1 = x_pipe_cv.best_estimator_[\"xgb\"].predict_proba(EX_test)[:, 1]\n",
    "\n",
    "# Run for the SVM model\n",
    "pred_prob_1 = pipe_cv.best_estimator_[\"svc\"].predict_proba(EX_test)[:, 1]"
   ]
  },
  {
   "cell_type": "code",
   "execution_count": 68,
   "metadata": {},
   "outputs": [
    {
     "data": {
      "image/png": "[encoded data removed]",
      "text/plain": [
       "<Figure size 432x288 with 1 Axes>"
      ]
     },
     "metadata": {
      "needs_background": "light"
     },
     "output_type": "display_data"
    },
    {
     "data": {
      "application/javascript": [
       "\n",
       "            setTimeout(function() {\n",
       "                var nbb_cell_id = 68;\n",
       "                var nbb_unformatted_code = \"plt.hist(pred_prob_1)\\nplt.title(\\\"How Confident are Predictions?\\\")\\nplt.show()\";\n",
       "                var nbb_formatted_code = \"plt.hist(pred_prob_1)\\nplt.title(\\\"How Confident are Predictions?\\\")\\nplt.show()\";\n",
       "                var nbb_cells = Jupyter.notebook.get_cells();\n",
       "                for (var i = 0; i < nbb_cells.length; ++i) {\n",
       "                    if (nbb_cells[i].input_prompt_number == nbb_cell_id) {\n",
       "                        if (nbb_cells[i].get_text() == nbb_unformatted_code) {\n",
       "                             nbb_cells[i].set_text(nbb_formatted_code);\n",
       "                        }\n",
       "                        break;\n",
       "                    }\n",
       "                }\n",
       "            }, 500);\n",
       "            "
      ],
      "text/plain": [
       "<IPython.core.display.Javascript object>"
      ]
     },
     "metadata": {},
     "output_type": "display_data"
    }
   ],
   "source": [
    "plt.hist(pred_prob_1)\n",
    "plt.title(\"How Confident are Predictions?\")\n",
    "plt.show()"
   ]
  },
  {
   "cell_type": "code",
   "execution_count": 69,
   "metadata": {},
   "outputs": [
    {
     "data": {
      "application/javascript": [
       "\n",
       "            setTimeout(function() {\n",
       "                var nbb_cell_id = 69;\n",
       "                var nbb_unformatted_code = \"from sklearn.calibration import calibration_curve\\n\\n# This only cares about positive class (1).\\n# In a multi class scenario, run multiple times for each class.\\nprob_true, prob_pred = calibration_curve(y_test, pred_prob_1)\\nx_prob_true, x_prob_pred = calibration_curve(y_test, x_pred_prob_1)\";\n",
       "                var nbb_formatted_code = \"from sklearn.calibration import calibration_curve\\n\\n# This only cares about positive class (1).\\n# In a multi class scenario, run multiple times for each class.\\nprob_true, prob_pred = calibration_curve(y_test, pred_prob_1)\\nx_prob_true, x_prob_pred = calibration_curve(y_test, x_pred_prob_1)\";\n",
       "                var nbb_cells = Jupyter.notebook.get_cells();\n",
       "                for (var i = 0; i < nbb_cells.length; ++i) {\n",
       "                    if (nbb_cells[i].input_prompt_number == nbb_cell_id) {\n",
       "                        if (nbb_cells[i].get_text() == nbb_unformatted_code) {\n",
       "                             nbb_cells[i].set_text(nbb_formatted_code);\n",
       "                        }\n",
       "                        break;\n",
       "                    }\n",
       "                }\n",
       "            }, 500);\n",
       "            "
      ],
      "text/plain": [
       "<IPython.core.display.Javascript object>"
      ]
     },
     "metadata": {},
     "output_type": "display_data"
    }
   ],
   "source": [
    "from sklearn.calibration import calibration_curve\n",
    "\n",
    "# This only cares about positive class (1).\n",
    "# In a multi class scenario, run multiple times for each class.\n",
    "prob_true, prob_pred = calibration_curve(y_test, pred_prob_1)\n",
    "x_prob_true, x_prob_pred = calibration_curve(y_test, x_pred_prob_1)"
   ]
  },
  {
   "cell_type": "code",
   "execution_count": 70,
   "metadata": {},
   "outputs": [
    {
     "data": {
      "image/png": "[encoded data removed]",
      "text/plain": [
       "<Figure size 432x288 with 1 Axes>"
      ]
     },
     "metadata": {
      "needs_background": "light"
     },
     "output_type": "display_data"
    },
    {
     "data": {
      "application/javascript": [
       "\n",
       "            setTimeout(function() {\n",
       "                var nbb_cell_id = 70;\n",
       "                var nbb_unformatted_code = \"plt.plot(prob_pred, prob_true, \\\"-o\\\", label=\\\"SVM\\\")\\nplt.plot(x_prob_pred, x_prob_true, \\\"-o\\\", label=\\\"XGB\\\")\\nplt.plot([0, 1], [0, 1], \\\"--\\\", label=\\\"perfectly calibrated\\\", c=\\\"black\\\", alpha=0.2)\\nplt.title(\\\"Model Calibration Comparison\\\")\\nplt.xlabel(\\\"Predicted Probability of Home Fave ML Win\\\")\\nplt.ylabel(\\\"Fraction of Home Fave ML Wins\\\")\\nplt.legend()\\nplt.show()\\n# below line, means more confident and less accurate.\\n# XGB model shows a dot. SVM is the better calibrated model.\";\n",
       "                var nbb_formatted_code = \"plt.plot(prob_pred, prob_true, \\\"-o\\\", label=\\\"SVM\\\")\\nplt.plot(x_prob_pred, x_prob_true, \\\"-o\\\", label=\\\"XGB\\\")\\nplt.plot([0, 1], [0, 1], \\\"--\\\", label=\\\"perfectly calibrated\\\", c=\\\"black\\\", alpha=0.2)\\nplt.title(\\\"Model Calibration Comparison\\\")\\nplt.xlabel(\\\"Predicted Probability of Home Fave ML Win\\\")\\nplt.ylabel(\\\"Fraction of Home Fave ML Wins\\\")\\nplt.legend()\\nplt.show()\\n# below line, means more confident and less accurate.\\n# XGB model shows a dot. SVM is the better calibrated model.\";\n",
       "                var nbb_cells = Jupyter.notebook.get_cells();\n",
       "                for (var i = 0; i < nbb_cells.length; ++i) {\n",
       "                    if (nbb_cells[i].input_prompt_number == nbb_cell_id) {\n",
       "                        if (nbb_cells[i].get_text() == nbb_unformatted_code) {\n",
       "                             nbb_cells[i].set_text(nbb_formatted_code);\n",
       "                        }\n",
       "                        break;\n",
       "                    }\n",
       "                }\n",
       "            }, 500);\n",
       "            "
      ],
      "text/plain": [
       "<IPython.core.display.Javascript object>"
      ]
     },
     "metadata": {},
     "output_type": "display_data"
    }
   ],
   "source": [
    "plt.plot(prob_pred, prob_true, \"-o\", label=\"SVM\")\n",
    "plt.plot(x_prob_pred, x_prob_true, \"-o\", label=\"XGB\")\n",
    "plt.plot([0, 1], [0, 1], \"--\", label=\"perfectly calibrated\", c=\"black\", alpha=0.2)\n",
    "plt.title(\"Model Calibration Comparison\")\n",
    "plt.xlabel(\"Predicted Probability of Home Fave ML Win\")\n",
    "plt.ylabel(\"Fraction of Home Fave ML Wins\")\n",
    "plt.legend()\n",
    "plt.show()\n",
    "# below line, means more confident and less accurate.\n",
    "# XGB model shows a dot. SVM is the better calibrated model."
   ]
  },
  {
   "cell_type": "markdown",
   "metadata": {},
   "source": [
    "### Errors"
   ]
  },
  {
   "cell_type": "code",
   "execution_count": 71,
   "metadata": {},
   "outputs": [
    {
     "name": "stdout",
     "output_type": "stream",
     "text": [
      "Mean prob of \"home team ML win\" for errors: 0.5555555555555556\n"
     ]
    },
    {
     "data": {
      "image/png": "[encoded data removed]",
      "text/plain": [
       "<Figure size 432x288 with 1 Axes>"
      ]
     },
     "metadata": {
      "needs_background": "light"
     },
     "output_type": "display_data"
    },
    {
     "data": {
      "application/javascript": [
       "\n",
       "            setTimeout(function() {\n",
       "                var nbb_cell_id = 71;\n",
       "                var nbb_unformatted_code = \"errors = dfss_copy.copy()\\nerrors = errors.loc[y_test.index]\\n\\nerrors[\\\"y_true\\\"] = y_test\\nerrors[\\\"y_pred\\\"] = y_pred\\n\\nerrors = errors[errors[\\\"y_true\\\"] != errors[\\\"y_pred\\\"]]\\n\\nprint(f'Mean prob of \\\"home team ML win\\\" for errors: {errors[\\\"is_over\\\"].mean()}')\\n\\n\\nsns.swarmplot(y=errors[\\\"home_ml_fav\\\"])\\nplt.show()\";\n",
       "                var nbb_formatted_code = \"errors = dfss_copy.copy()\\nerrors = errors.loc[y_test.index]\\n\\nerrors[\\\"y_true\\\"] = y_test\\nerrors[\\\"y_pred\\\"] = y_pred\\n\\nerrors = errors[errors[\\\"y_true\\\"] != errors[\\\"y_pred\\\"]]\\n\\nprint(f'Mean prob of \\\"home team ML win\\\" for errors: {errors[\\\"is_over\\\"].mean()}')\\n\\n\\nsns.swarmplot(y=errors[\\\"home_ml_fav\\\"])\\nplt.show()\";\n",
       "                var nbb_cells = Jupyter.notebook.get_cells();\n",
       "                for (var i = 0; i < nbb_cells.length; ++i) {\n",
       "                    if (nbb_cells[i].input_prompt_number == nbb_cell_id) {\n",
       "                        if (nbb_cells[i].get_text() == nbb_unformatted_code) {\n",
       "                             nbb_cells[i].set_text(nbb_formatted_code);\n",
       "                        }\n",
       "                        break;\n",
       "                    }\n",
       "                }\n",
       "            }, 500);\n",
       "            "
      ],
      "text/plain": [
       "<IPython.core.display.Javascript object>"
      ]
     },
     "metadata": {},
     "output_type": "display_data"
    }
   ],
   "source": [
    "errors = dfss_copy.copy()\n",
    "errors = errors.loc[y_test.index]\n",
    "\n",
    "errors[\"y_true\"] = y_test\n",
    "errors[\"y_pred\"] = y_pred\n",
    "\n",
    "errors = errors[errors[\"y_true\"] != errors[\"y_pred\"]]\n",
    "\n",
    "print(f'Mean prob of \"home team ML win\" for errors: {errors[\"is_over\"].mean()}')\n",
    "\n",
    "\n",
    "sns.swarmplot(y=errors[\"home_ml_fav\"])\n",
    "plt.show()"
   ]
  },
  {
   "cell_type": "code",
   "execution_count": null,
   "metadata": {},
   "outputs": [],
   "source": [
    "# sns.pairplot(X)\n",
    "# plt.show()"
   ]
  },
  {
   "cell_type": "code",
   "execution_count": 74,
   "metadata": {},
   "outputs": [
    {
     "name": "stdout",
     "output_type": "stream",
     "text": [
      "Bet on team to win with  0.89% confidence when model predicts over 80%\n",
      "Bet on team to lose with 0.95% confidence when model predicts less than 20%\n"
     ]
    },
    {
     "data": {
      "application/javascript": [
       "\n",
       "            setTimeout(function() {\n",
       "                var nbb_cell_id = 74;\n",
       "                var nbb_unformatted_code = \"thresh_df = pd.DataFrame({\\\"actual\\\": y_test, \\\"pred_prob\\\": pred_prob_1, \\\"pred\\\": y_pred})\\n# Set threshholds of trust, and look at how often correct.\\n\\nbet_w = thresh_df[thresh_df[\\\"pred_prob\\\"] > 0.8]\\nbet_wp = (bet_w[\\\"actual\\\"] == bet_w[\\\"pred\\\"]).mean()\\nprint(f\\\"Bet on team to win with {bet_wp: .2f}% confidence when model predicts over 80%\\\")\\n\\n\\nbet_l = thresh_df[thresh_df[\\\"pred_prob\\\"] < 0.2]\\nbet_lp = (bet_l[\\\"actual\\\"] == bet_l[\\\"pred\\\"]).mean()\\nprint(\\n    f\\\"Bet on team to lose with {bet_lp:.2f}% confidence when model predicts less than 20%\\\"\\n)\";\n",
       "                var nbb_formatted_code = \"thresh_df = pd.DataFrame({\\\"actual\\\": y_test, \\\"pred_prob\\\": pred_prob_1, \\\"pred\\\": y_pred})\\n# Set threshholds of trust, and look at how often correct.\\n\\nbet_w = thresh_df[thresh_df[\\\"pred_prob\\\"] > 0.8]\\nbet_wp = (bet_w[\\\"actual\\\"] == bet_w[\\\"pred\\\"]).mean()\\nprint(f\\\"Bet on team to win with {bet_wp: .2f}% confidence when model predicts over 80%\\\")\\n\\n\\nbet_l = thresh_df[thresh_df[\\\"pred_prob\\\"] < 0.2]\\nbet_lp = (bet_l[\\\"actual\\\"] == bet_l[\\\"pred\\\"]).mean()\\nprint(\\n    f\\\"Bet on team to lose with {bet_lp:.2f}% confidence when model predicts less than 20%\\\"\\n)\";\n",
       "                var nbb_cells = Jupyter.notebook.get_cells();\n",
       "                for (var i = 0; i < nbb_cells.length; ++i) {\n",
       "                    if (nbb_cells[i].input_prompt_number == nbb_cell_id) {\n",
       "                        if (nbb_cells[i].get_text() == nbb_unformatted_code) {\n",
       "                             nbb_cells[i].set_text(nbb_formatted_code);\n",
       "                        }\n",
       "                        break;\n",
       "                    }\n",
       "                }\n",
       "            }, 500);\n",
       "            "
      ],
      "text/plain": [
       "<IPython.core.display.Javascript object>"
      ]
     },
     "metadata": {},
     "output_type": "display_data"
    }
   ],
   "source": [
    "thresh_df = pd.DataFrame({\"actual\": y_test, \"pred_prob\": pred_prob_1, \"pred\": y_pred})\n",
    "# Set threshholds of trust, and look at how often correct.\n",
    "\n",
    "bet_w = thresh_df[thresh_df[\"pred_prob\"] > 0.8]\n",
    "bet_wp = (bet_w[\"actual\"] == bet_w[\"pred\"]).mean()\n",
    "print(f\"Bet on team to win with {bet_wp: .2f}% confidence when model predicts over 80%\")\n",
    "\n",
    "\n",
    "bet_l = thresh_df[thresh_df[\"pred_prob\"] < 0.2]\n",
    "bet_lp = (bet_l[\"actual\"] == bet_l[\"pred\"]).mean()\n",
    "print(\n",
    "    f\"Bet on team to lose with {bet_lp:.2f}% confidence when model predicts less than 20%\"\n",
    ")"
   ]
  },
  {
   "cell_type": "code",
   "execution_count": 134,
   "metadata": {},
   "outputs": [
    {
     "data": {
      "image/png": "[encoded data removed]",
      "text/plain": [
       "<Figure size 432x288 with 1 Axes>"
      ]
     },
     "metadata": {
      "needs_background": "light"
     },
     "output_type": "display_data"
    },
    {
     "data": {
      "application/javascript": [
       "\n",
       "            setTimeout(function() {\n",
       "                var nbb_cell_id = 134;\n",
       "                var nbb_unformatted_code = \"plt.plot(bet_w)\\nplt.plot(bet_l)\\n#plt.plot(thresh_df)\\nplt.title(\\\"Threshold\\\")\\nplt.show()\";\n",
       "                var nbb_formatted_code = \"plt.plot(bet_w)\\nplt.plot(bet_l)\\n# plt.plot(thresh_df)\\nplt.title(\\\"Threshold\\\")\\nplt.show()\";\n",
       "                var nbb_cells = Jupyter.notebook.get_cells();\n",
       "                for (var i = 0; i < nbb_cells.length; ++i) {\n",
       "                    if (nbb_cells[i].input_prompt_number == nbb_cell_id) {\n",
       "                        if (nbb_cells[i].get_text() == nbb_unformatted_code) {\n",
       "                             nbb_cells[i].set_text(nbb_formatted_code);\n",
       "                        }\n",
       "                        break;\n",
       "                    }\n",
       "                }\n",
       "            }, 500);\n",
       "            "
      ],
      "text/plain": [
       "<IPython.core.display.Javascript object>"
      ]
     },
     "metadata": {},
     "output_type": "display_data"
    }
   ],
   "source": [
    "plt.plot(bet_w)\n",
    "plt.plot(bet_l)\n",
    "# plt.plot(thresh_df)\n",
    "plt.title(\"Threshold\")\n",
    "plt.show()"
   ]
  },
  {
   "cell_type": "markdown",
   "metadata": {},
   "source": [
    "## Save model by pickling\n"
   ]
  },
  {
   "cell_type": "code",
   "execution_count": 93,
   "metadata": {},
   "outputs": [
    {
     "data": {
      "application/javascript": [
       "\n",
       "            setTimeout(function() {\n",
       "                var nbb_cell_id = 93;\n",
       "                var nbb_unformatted_code = \"# Save to file\\n\\nbest_model = pipe_cv.best_estimator_\\nwith open(\\\"saved_model.pkl\\\", \\\"wb\\\") as f:\\n    pickle.dump(best_model, f)\";\n",
       "                var nbb_formatted_code = \"# Save to file\\n\\nbest_model = pipe_cv.best_estimator_\\nwith open(\\\"saved_model.pkl\\\", \\\"wb\\\") as f:\\n    pickle.dump(best_model, f)\";\n",
       "                var nbb_cells = Jupyter.notebook.get_cells();\n",
       "                for (var i = 0; i < nbb_cells.length; ++i) {\n",
       "                    if (nbb_cells[i].input_prompt_number == nbb_cell_id) {\n",
       "                        if (nbb_cells[i].get_text() == nbb_unformatted_code) {\n",
       "                             nbb_cells[i].set_text(nbb_formatted_code);\n",
       "                        }\n",
       "                        break;\n",
       "                    }\n",
       "                }\n",
       "            }, 500);\n",
       "            "
      ],
      "text/plain": [
       "<IPython.core.display.Javascript object>"
      ]
     },
     "metadata": {},
     "output_type": "display_data"
    }
   ],
   "source": [
    "# Save to file\n",
    "\n",
    "best_model = pipe_cv.best_estimator_\n",
    "with open(\"saved_model.pkl\", \"wb\") as f:\n",
    "    pickle.dump(best_model, f)"
   ]
  },
  {
   "cell_type": "code",
   "execution_count": 94,
   "metadata": {},
   "outputs": [
    {
     "data": {
      "text/plain": [
       "Index(['team_home', 'team_away', 'spread_favorite', 'mean_home', 'mean_away',\n",
       "       'home_favorite'],\n",
       "      dtype='object')"
      ]
     },
     "execution_count": 94,
     "metadata": {},
     "output_type": "execute_result"
    },
    {
     "data": {
      "application/javascript": [
       "\n",
       "            setTimeout(function() {\n",
       "                var nbb_cell_id = 94;\n",
       "                var nbb_unformatted_code = \"X.columns\";\n",
       "                var nbb_formatted_code = \"X.columns\";\n",
       "                var nbb_cells = Jupyter.notebook.get_cells();\n",
       "                for (var i = 0; i < nbb_cells.length; ++i) {\n",
       "                    if (nbb_cells[i].input_prompt_number == nbb_cell_id) {\n",
       "                        if (nbb_cells[i].get_text() == nbb_unformatted_code) {\n",
       "                             nbb_cells[i].set_text(nbb_formatted_code);\n",
       "                        }\n",
       "                        break;\n",
       "                    }\n",
       "                }\n",
       "            }, 500);\n",
       "            "
      ],
      "text/plain": [
       "<IPython.core.display.Javascript object>"
      ]
     },
     "metadata": {},
     "output_type": "display_data"
    }
   ],
   "source": [
    "X.columns"
   ]
  },
  {
   "cell_type": "code",
   "execution_count": 89,
   "metadata": {},
   "outputs": [
    {
     "data": {
      "text/html": [
       "<div>\n",
       "<style scoped>\n",
       "    .dataframe tbody tr th:only-of-type {\n",
       "        vertical-align: middle;\n",
       "    }\n",
       "\n",
       "    .dataframe tbody tr th {\n",
       "        vertical-align: top;\n",
       "    }\n",
       "\n",
       "    .dataframe thead th {\n",
       "        text-align: right;\n",
       "    }\n",
       "</style>\n",
       "<table border=\"1\" class=\"dataframe\">\n",
       "  <thead>\n",
       "    <tr style=\"text-align: right;\">\n",
       "      <th></th>\n",
       "      <th>team_name</th>\n",
       "      <th>team_name_short</th>\n",
       "      <th>team_id</th>\n",
       "      <th>team_id_pfr</th>\n",
       "      <th>team_conference</th>\n",
       "      <th>team_division</th>\n",
       "      <th>team_conference_pre2002</th>\n",
       "      <th>team_division_pre2002</th>\n",
       "    </tr>\n",
       "  </thead>\n",
       "  <tbody>\n",
       "    <tr>\n",
       "      <th>0</th>\n",
       "      <td>Arizona Cardinals</td>\n",
       "      <td>Cardinals</td>\n",
       "      <td>ARI</td>\n",
       "      <td>CRD</td>\n",
       "      <td>NFC</td>\n",
       "      <td>NFC West</td>\n",
       "      <td>NFC</td>\n",
       "      <td>NFC West</td>\n",
       "    </tr>\n",
       "    <tr>\n",
       "      <th>1</th>\n",
       "      <td>Phoenix Cardinals</td>\n",
       "      <td>Cardinals</td>\n",
       "      <td>ARI</td>\n",
       "      <td>CRD</td>\n",
       "      <td>NFC</td>\n",
       "      <td>NaN</td>\n",
       "      <td>NFC</td>\n",
       "      <td>NFC East</td>\n",
       "    </tr>\n",
       "    <tr>\n",
       "      <th>2</th>\n",
       "      <td>St. Louis Cardinals</td>\n",
       "      <td>Cardinals</td>\n",
       "      <td>ARI</td>\n",
       "      <td>ARI</td>\n",
       "      <td>NFC</td>\n",
       "      <td>NaN</td>\n",
       "      <td>NFC</td>\n",
       "      <td>NFC East</td>\n",
       "    </tr>\n",
       "    <tr>\n",
       "      <th>3</th>\n",
       "      <td>Atlanta Falcons</td>\n",
       "      <td>Falcons</td>\n",
       "      <td>ATL</td>\n",
       "      <td>ATL</td>\n",
       "      <td>NFC</td>\n",
       "      <td>NFC South</td>\n",
       "      <td>NFC</td>\n",
       "      <td>NFC West</td>\n",
       "    </tr>\n",
       "    <tr>\n",
       "      <th>4</th>\n",
       "      <td>Baltimore Ravens</td>\n",
       "      <td>Ravens</td>\n",
       "      <td>BAL</td>\n",
       "      <td>RAV</td>\n",
       "      <td>AFC</td>\n",
       "      <td>AFC North</td>\n",
       "      <td>AFC</td>\n",
       "      <td>AFC Central</td>\n",
       "    </tr>\n",
       "    <tr>\n",
       "      <th>5</th>\n",
       "      <td>Buffalo Bills</td>\n",
       "      <td>Bills</td>\n",
       "      <td>BUF</td>\n",
       "      <td>BUF</td>\n",
       "      <td>AFC</td>\n",
       "      <td>AFC East</td>\n",
       "      <td>AFC</td>\n",
       "      <td>AFC East</td>\n",
       "    </tr>\n",
       "    <tr>\n",
       "      <th>6</th>\n",
       "      <td>Carolina Panthers</td>\n",
       "      <td>Panthers</td>\n",
       "      <td>CAR</td>\n",
       "      <td>CAR</td>\n",
       "      <td>NFC</td>\n",
       "      <td>NFC South</td>\n",
       "      <td>NFC</td>\n",
       "      <td>NFC West</td>\n",
       "    </tr>\n",
       "    <tr>\n",
       "      <th>7</th>\n",
       "      <td>Chicago Bears</td>\n",
       "      <td>Bears</td>\n",
       "      <td>CHI</td>\n",
       "      <td>CHI</td>\n",
       "      <td>NFC</td>\n",
       "      <td>NFC North</td>\n",
       "      <td>NFC</td>\n",
       "      <td>NFC Central</td>\n",
       "    </tr>\n",
       "    <tr>\n",
       "      <th>8</th>\n",
       "      <td>Cincinnati Bengals</td>\n",
       "      <td>Bengals</td>\n",
       "      <td>CIN</td>\n",
       "      <td>CIN</td>\n",
       "      <td>AFC</td>\n",
       "      <td>AFC North</td>\n",
       "      <td>AFC</td>\n",
       "      <td>AFC Central</td>\n",
       "    </tr>\n",
       "    <tr>\n",
       "      <th>9</th>\n",
       "      <td>Cleveland Browns</td>\n",
       "      <td>Browns</td>\n",
       "      <td>CLE</td>\n",
       "      <td>CLE</td>\n",
       "      <td>AFC</td>\n",
       "      <td>AFC North</td>\n",
       "      <td>AFC</td>\n",
       "      <td>AFC Central</td>\n",
       "    </tr>\n",
       "    <tr>\n",
       "      <th>10</th>\n",
       "      <td>Dallas Cowboys</td>\n",
       "      <td>Cowboys</td>\n",
       "      <td>DAL</td>\n",
       "      <td>DAL</td>\n",
       "      <td>NFC</td>\n",
       "      <td>NFC East</td>\n",
       "      <td>NFC</td>\n",
       "      <td>NFC East</td>\n",
       "    </tr>\n",
       "    <tr>\n",
       "      <th>11</th>\n",
       "      <td>Denver Broncos</td>\n",
       "      <td>Broncos</td>\n",
       "      <td>DEN</td>\n",
       "      <td>DEN</td>\n",
       "      <td>AFC</td>\n",
       "      <td>AFC West</td>\n",
       "      <td>AFC</td>\n",
       "      <td>AFC West</td>\n",
       "    </tr>\n",
       "    <tr>\n",
       "      <th>12</th>\n",
       "      <td>Detroit Lions</td>\n",
       "      <td>Lions</td>\n",
       "      <td>DET</td>\n",
       "      <td>DET</td>\n",
       "      <td>NFC</td>\n",
       "      <td>NFC North</td>\n",
       "      <td>NFC</td>\n",
       "      <td>NFC Central</td>\n",
       "    </tr>\n",
       "    <tr>\n",
       "      <th>13</th>\n",
       "      <td>Green Bay Packers</td>\n",
       "      <td>Packers</td>\n",
       "      <td>GB</td>\n",
       "      <td>GNB</td>\n",
       "      <td>NFC</td>\n",
       "      <td>NFC North</td>\n",
       "      <td>NFC</td>\n",
       "      <td>NFC Central</td>\n",
       "    </tr>\n",
       "    <tr>\n",
       "      <th>14</th>\n",
       "      <td>Houston Texans</td>\n",
       "      <td>Texans</td>\n",
       "      <td>HOU</td>\n",
       "      <td>HTX</td>\n",
       "      <td>AFC</td>\n",
       "      <td>AFC South</td>\n",
       "      <td>AFC</td>\n",
       "      <td>NaN</td>\n",
       "    </tr>\n",
       "    <tr>\n",
       "      <th>15</th>\n",
       "      <td>Baltimore Colts</td>\n",
       "      <td>Colts</td>\n",
       "      <td>IND</td>\n",
       "      <td>CLT</td>\n",
       "      <td>AFC</td>\n",
       "      <td>NaN</td>\n",
       "      <td>AFC</td>\n",
       "      <td>AFC East</td>\n",
       "    </tr>\n",
       "    <tr>\n",
       "      <th>16</th>\n",
       "      <td>Indianapolis Colts</td>\n",
       "      <td>Colts</td>\n",
       "      <td>IND</td>\n",
       "      <td>CLT</td>\n",
       "      <td>AFC</td>\n",
       "      <td>AFC South</td>\n",
       "      <td>AFC</td>\n",
       "      <td>AFC East</td>\n",
       "    </tr>\n",
       "    <tr>\n",
       "      <th>17</th>\n",
       "      <td>Jacksonville Jaguars</td>\n",
       "      <td>Jaguars</td>\n",
       "      <td>JAX</td>\n",
       "      <td>JAX</td>\n",
       "      <td>AFC</td>\n",
       "      <td>AFC South</td>\n",
       "      <td>AFC</td>\n",
       "      <td>AFC Central</td>\n",
       "    </tr>\n",
       "    <tr>\n",
       "      <th>18</th>\n",
       "      <td>Kansas City Chiefs</td>\n",
       "      <td>Chiefs</td>\n",
       "      <td>KC</td>\n",
       "      <td>KAN</td>\n",
       "      <td>AFC</td>\n",
       "      <td>AFC West</td>\n",
       "      <td>AFC</td>\n",
       "      <td>AFC West</td>\n",
       "    </tr>\n",
       "    <tr>\n",
       "      <th>19</th>\n",
       "      <td>Los Angeles Chargers</td>\n",
       "      <td>Chargers</td>\n",
       "      <td>LAC</td>\n",
       "      <td>SDG</td>\n",
       "      <td>AFC</td>\n",
       "      <td>AFC West</td>\n",
       "      <td>AFC</td>\n",
       "      <td>AFC West</td>\n",
       "    </tr>\n",
       "    <tr>\n",
       "      <th>20</th>\n",
       "      <td>San Diego Chargers</td>\n",
       "      <td>Chargers</td>\n",
       "      <td>LAC</td>\n",
       "      <td>SDG</td>\n",
       "      <td>AFC</td>\n",
       "      <td>AFC West</td>\n",
       "      <td>AFC</td>\n",
       "      <td>AFC West</td>\n",
       "    </tr>\n",
       "    <tr>\n",
       "      <th>21</th>\n",
       "      <td>Los Angeles Rams</td>\n",
       "      <td>Rams</td>\n",
       "      <td>LAR</td>\n",
       "      <td>RAM</td>\n",
       "      <td>NFC</td>\n",
       "      <td>NFC West</td>\n",
       "      <td>NFC</td>\n",
       "      <td>NFC West</td>\n",
       "    </tr>\n",
       "    <tr>\n",
       "      <th>22</th>\n",
       "      <td>St. Louis Rams</td>\n",
       "      <td>Rams</td>\n",
       "      <td>LAR</td>\n",
       "      <td>RAM</td>\n",
       "      <td>NFC</td>\n",
       "      <td>NaN</td>\n",
       "      <td>NFC</td>\n",
       "      <td>NFC West</td>\n",
       "    </tr>\n",
       "    <tr>\n",
       "      <th>23</th>\n",
       "      <td>Miami Dolphins</td>\n",
       "      <td>Dolphins</td>\n",
       "      <td>MIA</td>\n",
       "      <td>MIA</td>\n",
       "      <td>AFC</td>\n",
       "      <td>AFC East</td>\n",
       "      <td>AFC</td>\n",
       "      <td>AFC East</td>\n",
       "    </tr>\n",
       "    <tr>\n",
       "      <th>24</th>\n",
       "      <td>Minnesota Vikings</td>\n",
       "      <td>Vikings</td>\n",
       "      <td>MIN</td>\n",
       "      <td>MIN</td>\n",
       "      <td>NFC</td>\n",
       "      <td>NFC North</td>\n",
       "      <td>NFC</td>\n",
       "      <td>NFC Central</td>\n",
       "    </tr>\n",
       "    <tr>\n",
       "      <th>25</th>\n",
       "      <td>New England Patriots</td>\n",
       "      <td>Patriots</td>\n",
       "      <td>NE</td>\n",
       "      <td>NWE</td>\n",
       "      <td>AFC</td>\n",
       "      <td>AFC East</td>\n",
       "      <td>AFC</td>\n",
       "      <td>AFC East</td>\n",
       "    </tr>\n",
       "    <tr>\n",
       "      <th>26</th>\n",
       "      <td>Boston Patriots</td>\n",
       "      <td>Patriots</td>\n",
       "      <td>NE</td>\n",
       "      <td>NWE</td>\n",
       "      <td>AFC</td>\n",
       "      <td>NaN</td>\n",
       "      <td>AFC</td>\n",
       "      <td>NaN</td>\n",
       "    </tr>\n",
       "    <tr>\n",
       "      <th>27</th>\n",
       "      <td>New Orleans Saints</td>\n",
       "      <td>Saints</td>\n",
       "      <td>NO</td>\n",
       "      <td>NOR</td>\n",
       "      <td>NFC</td>\n",
       "      <td>NFC South</td>\n",
       "      <td>NFC</td>\n",
       "      <td>NFC West</td>\n",
       "    </tr>\n",
       "    <tr>\n",
       "      <th>28</th>\n",
       "      <td>New York Giants</td>\n",
       "      <td>Giants</td>\n",
       "      <td>NYG</td>\n",
       "      <td>NYG</td>\n",
       "      <td>NFC</td>\n",
       "      <td>NFC East</td>\n",
       "      <td>NFC</td>\n",
       "      <td>NFC East</td>\n",
       "    </tr>\n",
       "    <tr>\n",
       "      <th>29</th>\n",
       "      <td>New York Jets</td>\n",
       "      <td>Jets</td>\n",
       "      <td>NYJ</td>\n",
       "      <td>NYJ</td>\n",
       "      <td>NFC</td>\n",
       "      <td>AFC East</td>\n",
       "      <td>NFC</td>\n",
       "      <td>AFC East</td>\n",
       "    </tr>\n",
       "    <tr>\n",
       "      <th>30</th>\n",
       "      <td>Los Angeles Raiders</td>\n",
       "      <td>Raiders</td>\n",
       "      <td>LVR</td>\n",
       "      <td>RAI</td>\n",
       "      <td>AFC</td>\n",
       "      <td>NaN</td>\n",
       "      <td>AFC</td>\n",
       "      <td>AFC West</td>\n",
       "    </tr>\n",
       "    <tr>\n",
       "      <th>31</th>\n",
       "      <td>Las Vegas Raiders</td>\n",
       "      <td>Raiders</td>\n",
       "      <td>LVR</td>\n",
       "      <td>RAI</td>\n",
       "      <td>AFC</td>\n",
       "      <td>NaN</td>\n",
       "      <td>AFC</td>\n",
       "      <td>AFC West</td>\n",
       "    </tr>\n",
       "    <tr>\n",
       "      <th>32</th>\n",
       "      <td>Oakland Raiders</td>\n",
       "      <td>Raiders</td>\n",
       "      <td>LVR</td>\n",
       "      <td>RAI</td>\n",
       "      <td>AFC</td>\n",
       "      <td>AFC West</td>\n",
       "      <td>AFC</td>\n",
       "      <td>AFC West</td>\n",
       "    </tr>\n",
       "    <tr>\n",
       "      <th>33</th>\n",
       "      <td>Philadelphia Eagles</td>\n",
       "      <td>Eagles</td>\n",
       "      <td>PHI</td>\n",
       "      <td>PHI</td>\n",
       "      <td>NFC</td>\n",
       "      <td>NFC East</td>\n",
       "      <td>NFC</td>\n",
       "      <td>NFC East</td>\n",
       "    </tr>\n",
       "    <tr>\n",
       "      <th>34</th>\n",
       "      <td>Pittsburgh Steelers</td>\n",
       "      <td>Steelers</td>\n",
       "      <td>PIT</td>\n",
       "      <td>PIT</td>\n",
       "      <td>AFC</td>\n",
       "      <td>AFC North</td>\n",
       "      <td>AFC</td>\n",
       "      <td>AFC Central</td>\n",
       "    </tr>\n",
       "    <tr>\n",
       "      <th>35</th>\n",
       "      <td>Seattle Seahawks</td>\n",
       "      <td>Seahawks</td>\n",
       "      <td>SEA</td>\n",
       "      <td>SEA</td>\n",
       "      <td>NFC</td>\n",
       "      <td>NFC West</td>\n",
       "      <td>AFC</td>\n",
       "      <td>AFC West</td>\n",
       "    </tr>\n",
       "    <tr>\n",
       "      <th>36</th>\n",
       "      <td>San Francisco 49ers</td>\n",
       "      <td>49ers</td>\n",
       "      <td>SF</td>\n",
       "      <td>SFO</td>\n",
       "      <td>NFC</td>\n",
       "      <td>NFC West</td>\n",
       "      <td>NFC</td>\n",
       "      <td>NFC West</td>\n",
       "    </tr>\n",
       "    <tr>\n",
       "      <th>37</th>\n",
       "      <td>Tampa Bay Buccaneers</td>\n",
       "      <td>Buccaneers</td>\n",
       "      <td>TB</td>\n",
       "      <td>TAM</td>\n",
       "      <td>NFC</td>\n",
       "      <td>NFC South</td>\n",
       "      <td>NFC</td>\n",
       "      <td>NFC Central</td>\n",
       "    </tr>\n",
       "    <tr>\n",
       "      <th>38</th>\n",
       "      <td>Houston Oilers</td>\n",
       "      <td>Oilers</td>\n",
       "      <td>TEN</td>\n",
       "      <td>OTI</td>\n",
       "      <td>AFC</td>\n",
       "      <td>NaN</td>\n",
       "      <td>AFC</td>\n",
       "      <td>AFC Central</td>\n",
       "    </tr>\n",
       "    <tr>\n",
       "      <th>39</th>\n",
       "      <td>Tennessee Oilers</td>\n",
       "      <td>Oilers</td>\n",
       "      <td>TEN</td>\n",
       "      <td>OTI</td>\n",
       "      <td>AFC</td>\n",
       "      <td>NaN</td>\n",
       "      <td>AFC</td>\n",
       "      <td>AFC Central</td>\n",
       "    </tr>\n",
       "    <tr>\n",
       "      <th>40</th>\n",
       "      <td>Tennessee Titans</td>\n",
       "      <td>Titans</td>\n",
       "      <td>TEN</td>\n",
       "      <td>OTI</td>\n",
       "      <td>AFC</td>\n",
       "      <td>AFC South</td>\n",
       "      <td>AFC</td>\n",
       "      <td>AFC Central</td>\n",
       "    </tr>\n",
       "    <tr>\n",
       "      <th>41</th>\n",
       "      <td>Washington Redskins</td>\n",
       "      <td>Washington</td>\n",
       "      <td>WAS</td>\n",
       "      <td>WAS</td>\n",
       "      <td>NFC</td>\n",
       "      <td>NFC East</td>\n",
       "      <td>NFC</td>\n",
       "      <td>NFC East</td>\n",
       "    </tr>\n",
       "    <tr>\n",
       "      <th>42</th>\n",
       "      <td>Washington Football Team</td>\n",
       "      <td>Washington</td>\n",
       "      <td>WAS</td>\n",
       "      <td>WAS</td>\n",
       "      <td>NFC</td>\n",
       "      <td>NFC East</td>\n",
       "      <td>NFC</td>\n",
       "      <td>NFC East</td>\n",
       "    </tr>\n",
       "  </tbody>\n",
       "</table>\n",
       "</div>"
      ],
      "text/plain": [
       "                   team_name team_name_short team_id team_id_pfr  \\\n",
       "0          Arizona Cardinals       Cardinals     ARI         CRD   \n",
       "1          Phoenix Cardinals       Cardinals     ARI         CRD   \n",
       "2        St. Louis Cardinals       Cardinals     ARI         ARI   \n",
       "3            Atlanta Falcons         Falcons     ATL         ATL   \n",
       "4           Baltimore Ravens          Ravens     BAL         RAV   \n",
       "5              Buffalo Bills           Bills     BUF         BUF   \n",
       "6          Carolina Panthers        Panthers     CAR         CAR   \n",
       "7              Chicago Bears           Bears     CHI         CHI   \n",
       "8         Cincinnati Bengals         Bengals     CIN         CIN   \n",
       "9           Cleveland Browns          Browns     CLE         CLE   \n",
       "10            Dallas Cowboys         Cowboys     DAL         DAL   \n",
       "11            Denver Broncos         Broncos     DEN         DEN   \n",
       "12             Detroit Lions           Lions     DET         DET   \n",
       "13         Green Bay Packers         Packers      GB         GNB   \n",
       "14            Houston Texans          Texans     HOU         HTX   \n",
       "15           Baltimore Colts           Colts     IND         CLT   \n",
       "16        Indianapolis Colts           Colts     IND         CLT   \n",
       "17      Jacksonville Jaguars         Jaguars     JAX         JAX   \n",
       "18        Kansas City Chiefs          Chiefs      KC         KAN   \n",
       "19      Los Angeles Chargers        Chargers     LAC         SDG   \n",
       "20        San Diego Chargers        Chargers     LAC         SDG   \n",
       "21          Los Angeles Rams            Rams     LAR         RAM   \n",
       "22            St. Louis Rams            Rams     LAR         RAM   \n",
       "23            Miami Dolphins        Dolphins     MIA         MIA   \n",
       "24         Minnesota Vikings         Vikings     MIN         MIN   \n",
       "25      New England Patriots        Patriots      NE         NWE   \n",
       "26           Boston Patriots        Patriots      NE         NWE   \n",
       "27        New Orleans Saints          Saints      NO         NOR   \n",
       "28           New York Giants          Giants     NYG         NYG   \n",
       "29             New York Jets            Jets     NYJ         NYJ   \n",
       "30       Los Angeles Raiders         Raiders     LVR         RAI   \n",
       "31         Las Vegas Raiders         Raiders     LVR         RAI   \n",
       "32           Oakland Raiders         Raiders     LVR         RAI   \n",
       "33       Philadelphia Eagles          Eagles     PHI         PHI   \n",
       "34       Pittsburgh Steelers        Steelers     PIT         PIT   \n",
       "35          Seattle Seahawks        Seahawks     SEA         SEA   \n",
       "36       San Francisco 49ers           49ers      SF         SFO   \n",
       "37      Tampa Bay Buccaneers      Buccaneers      TB         TAM   \n",
       "38            Houston Oilers          Oilers     TEN         OTI   \n",
       "39          Tennessee Oilers          Oilers     TEN         OTI   \n",
       "40          Tennessee Titans          Titans     TEN         OTI   \n",
       "41       Washington Redskins      Washington     WAS         WAS   \n",
       "42  Washington Football Team      Washington     WAS         WAS   \n",
       "\n",
       "   team_conference team_division team_conference_pre2002 team_division_pre2002  \n",
       "0              NFC      NFC West                     NFC              NFC West  \n",
       "1              NFC           NaN                     NFC              NFC East  \n",
       "2              NFC           NaN                     NFC              NFC East  \n",
       "3              NFC     NFC South                     NFC              NFC West  \n",
       "4              AFC     AFC North                     AFC           AFC Central  \n",
       "5              AFC      AFC East                     AFC              AFC East  \n",
       "6              NFC     NFC South                     NFC              NFC West  \n",
       "7              NFC     NFC North                     NFC           NFC Central  \n",
       "8              AFC     AFC North                     AFC           AFC Central  \n",
       "9              AFC     AFC North                     AFC           AFC Central  \n",
       "10             NFC      NFC East                     NFC              NFC East  \n",
       "11             AFC      AFC West                     AFC              AFC West  \n",
       "12             NFC     NFC North                     NFC           NFC Central  \n",
       "13             NFC     NFC North                     NFC           NFC Central  \n",
       "14             AFC     AFC South                     AFC                   NaN  \n",
       "15             AFC           NaN                     AFC              AFC East  \n",
       "16             AFC     AFC South                     AFC              AFC East  \n",
       "17             AFC     AFC South                     AFC           AFC Central  \n",
       "18             AFC      AFC West                     AFC              AFC West  \n",
       "19             AFC      AFC West                     AFC              AFC West  \n",
       "20             AFC      AFC West                     AFC              AFC West  \n",
       "21             NFC      NFC West                     NFC              NFC West  \n",
       "22             NFC           NaN                     NFC              NFC West  \n",
       "23             AFC      AFC East                     AFC              AFC East  \n",
       "24             NFC     NFC North                     NFC           NFC Central  \n",
       "25             AFC      AFC East                     AFC              AFC East  \n",
       "26             AFC           NaN                     AFC                   NaN  \n",
       "27             NFC     NFC South                     NFC              NFC West  \n",
       "28             NFC      NFC East                     NFC              NFC East  \n",
       "29             NFC      AFC East                     NFC              AFC East  \n",
       "30             AFC           NaN                     AFC              AFC West  \n",
       "31             AFC           NaN                     AFC              AFC West  \n",
       "32             AFC      AFC West                     AFC              AFC West  \n",
       "33             NFC      NFC East                     NFC              NFC East  \n",
       "34             AFC     AFC North                     AFC           AFC Central  \n",
       "35             NFC      NFC West                     AFC              AFC West  \n",
       "36             NFC      NFC West                     NFC              NFC West  \n",
       "37             NFC     NFC South                     NFC           NFC Central  \n",
       "38             AFC           NaN                     AFC           AFC Central  \n",
       "39             AFC           NaN                     AFC           AFC Central  \n",
       "40             AFC     AFC South                     AFC           AFC Central  \n",
       "41             NFC      NFC East                     NFC              NFC East  \n",
       "42             NFC      NFC East                     NFC              NFC East  "
      ]
     },
     "execution_count": 89,
     "metadata": {},
     "output_type": "execute_result"
    },
    {
     "data": {
      "application/javascript": [
       "\n",
       "            setTimeout(function() {\n",
       "                var nbb_cell_id = 89;\n",
       "                var nbb_unformatted_code = \"dfteam\";\n",
       "                var nbb_formatted_code = \"dfteam\";\n",
       "                var nbb_cells = Jupyter.notebook.get_cells();\n",
       "                for (var i = 0; i < nbb_cells.length; ++i) {\n",
       "                    if (nbb_cells[i].input_prompt_number == nbb_cell_id) {\n",
       "                        if (nbb_cells[i].get_text() == nbb_unformatted_code) {\n",
       "                             nbb_cells[i].set_text(nbb_formatted_code);\n",
       "                        }\n",
       "                        break;\n",
       "                    }\n",
       "                }\n",
       "            }, 500);\n",
       "            "
      ],
      "text/plain": [
       "<IPython.core.display.Javascript object>"
      ]
     },
     "metadata": {},
     "output_type": "display_data"
    }
   ],
   "source": [
    "dfteam"
   ]
  },
  {
   "cell_type": "code",
   "execution_count": 119,
   "metadata": {},
   "outputs": [
    {
     "data": {
      "text/html": [
       "<div>\n",
       "<style scoped>\n",
       "    .dataframe tbody tr th:only-of-type {\n",
       "        vertical-align: middle;\n",
       "    }\n",
       "\n",
       "    .dataframe tbody tr th {\n",
       "        vertical-align: top;\n",
       "    }\n",
       "\n",
       "    .dataframe thead th {\n",
       "        text-align: right;\n",
       "    }\n",
       "</style>\n",
       "<table border=\"1\" class=\"dataframe\">\n",
       "  <thead>\n",
       "    <tr style=\"text-align: right;\">\n",
       "      <th></th>\n",
       "      <th>team_home</th>\n",
       "      <th>team_away</th>\n",
       "      <th>spread_favorite</th>\n",
       "      <th>mean_home</th>\n",
       "      <th>mean_away</th>\n",
       "      <th>home_favorite</th>\n",
       "    </tr>\n",
       "  </thead>\n",
       "  <tbody>\n",
       "    <tr>\n",
       "      <th>912</th>\n",
       "      <td>JAX</td>\n",
       "      <td>NYJ</td>\n",
       "      <td>-6.5</td>\n",
       "      <td>17.875</td>\n",
       "      <td>15.875</td>\n",
       "      <td>1.0</td>\n",
       "    </tr>\n",
       "  </tbody>\n",
       "</table>\n",
       "</div>"
      ],
      "text/plain": [
       "    team_home team_away  spread_favorite  mean_home  mean_away  home_favorite\n",
       "912       JAX       NYJ             -6.5     17.875     15.875            1.0"
      ]
     },
     "metadata": {},
     "output_type": "display_data"
    },
    {
     "data": {
      "text/html": [
       "<div>\n",
       "<style scoped>\n",
       "    .dataframe tbody tr th:only-of-type {\n",
       "        vertical-align: middle;\n",
       "    }\n",
       "\n",
       "    .dataframe tbody tr th {\n",
       "        vertical-align: top;\n",
       "    }\n",
       "\n",
       "    .dataframe thead th {\n",
       "        text-align: right;\n",
       "    }\n",
       "</style>\n",
       "<table border=\"1\" class=\"dataframe\">\n",
       "  <thead>\n",
       "    <tr style=\"text-align: right;\">\n",
       "      <th></th>\n",
       "      <th>team_home</th>\n",
       "      <th>team_away</th>\n",
       "      <th>spread_favorite</th>\n",
       "      <th>mean_home</th>\n",
       "      <th>mean_away</th>\n",
       "      <th>home_favorite</th>\n",
       "    </tr>\n",
       "  </thead>\n",
       "  <tbody>\n",
       "    <tr>\n",
       "      <th>799</th>\n",
       "      <td>NE</td>\n",
       "      <td>NYG</td>\n",
       "      <td>-16.5</td>\n",
       "      <td>23.888889</td>\n",
       "      <td>23.5</td>\n",
       "      <td>1.0</td>\n",
       "    </tr>\n",
       "  </tbody>\n",
       "</table>\n",
       "</div>"
      ],
      "text/plain": [
       "    team_home team_away  spread_favorite  mean_home  mean_away  home_favorite\n",
       "799        NE       NYG            -16.5  23.888889       23.5            1.0"
      ]
     },
     "execution_count": 119,
     "metadata": {},
     "output_type": "execute_result"
    },
    {
     "data": {
      "application/javascript": [
       "\n",
       "            setTimeout(function() {\n",
       "                var nbb_cell_id = 119;\n",
       "                var nbb_unformatted_code = \"display(X[(dfss[\\\"team_away\\\"] == \\\"NYJ\\\") & (dfss[\\\"schedule_season\\\"] == 2019)].head(1))\\nX[(dfss[\\\"team_home\\\"] == \\\"NE\\\") & (dfss[\\\"schedule_season\\\"] == 2019)].head(1)\";\n",
       "                var nbb_formatted_code = \"display(X[(dfss[\\\"team_away\\\"] == \\\"NYJ\\\") & (dfss[\\\"schedule_season\\\"] == 2019)].head(1))\\nX[(dfss[\\\"team_home\\\"] == \\\"NE\\\") & (dfss[\\\"schedule_season\\\"] == 2019)].head(1)\";\n",
       "                var nbb_cells = Jupyter.notebook.get_cells();\n",
       "                for (var i = 0; i < nbb_cells.length; ++i) {\n",
       "                    if (nbb_cells[i].input_prompt_number == nbb_cell_id) {\n",
       "                        if (nbb_cells[i].get_text() == nbb_unformatted_code) {\n",
       "                             nbb_cells[i].set_text(nbb_formatted_code);\n",
       "                        }\n",
       "                        break;\n",
       "                    }\n",
       "                }\n",
       "            }, 500);\n",
       "            "
      ],
      "text/plain": [
       "<IPython.core.display.Javascript object>"
      ]
     },
     "metadata": {},
     "output_type": "display_data"
    }
   ],
   "source": [
    "display(X[(dfss[\"team_away\"] == \"NYJ\") & (dfss[\"schedule_season\"] == 2019)].head(1))\n",
    "X[(dfss[\"team_home\"] == \"NE\") & (dfss[\"schedule_season\"] == 2019)].head(1)"
   ]
  },
  {
   "cell_type": "code",
   "execution_count": 121,
   "metadata": {},
   "outputs": [
    {
     "data": {
      "text/html": [
       "<div>\n",
       "<style scoped>\n",
       "    .dataframe tbody tr th:only-of-type {\n",
       "        vertical-align: middle;\n",
       "    }\n",
       "\n",
       "    .dataframe tbody tr th {\n",
       "        vertical-align: top;\n",
       "    }\n",
       "\n",
       "    .dataframe thead th {\n",
       "        text-align: right;\n",
       "    }\n",
       "</style>\n",
       "<table border=\"1\" class=\"dataframe\">\n",
       "  <thead>\n",
       "    <tr style=\"text-align: right;\">\n",
       "      <th></th>\n",
       "      <th>team_home</th>\n",
       "      <th>team_away</th>\n",
       "      <th>spread_favorite</th>\n",
       "      <th>mean_home</th>\n",
       "      <th>mean_away</th>\n",
       "      <th>home_favorite</th>\n",
       "    </tr>\n",
       "  </thead>\n",
       "  <tbody>\n",
       "    <tr>\n",
       "      <th>0</th>\n",
       "      <td>DET</td>\n",
       "      <td>MIN</td>\n",
       "      <td>-3.5</td>\n",
       "      <td>23.50</td>\n",
       "      <td>24.800</td>\n",
       "      <td>0</td>\n",
       "    </tr>\n",
       "    <tr>\n",
       "      <th>1</th>\n",
       "      <td>NE</td>\n",
       "      <td>NYJ</td>\n",
       "      <td>-3.0</td>\n",
       "      <td>23.88</td>\n",
       "      <td>15.875</td>\n",
       "      <td>1</td>\n",
       "    </tr>\n",
       "  </tbody>\n",
       "</table>\n",
       "</div>"
      ],
      "text/plain": [
       "  team_home team_away  spread_favorite  mean_home  mean_away  home_favorite\n",
       "0       DET       MIN             -3.5      23.50     24.800              0\n",
       "1        NE       NYJ             -3.0      23.88     15.875              1"
      ]
     },
     "execution_count": 121,
     "metadata": {},
     "output_type": "execute_result"
    },
    {
     "data": {
      "application/javascript": [
       "\n",
       "            setTimeout(function() {\n",
       "                var nbb_cell_id = 121;\n",
       "                var nbb_unformatted_code = \"d = {\\n    \\\"team_home\\\": [\\\"DET\\\", \\\" NE\\\"],\\n    \\\"team_away\\\": [\\\"MIN\\\", \\\"NYJ\\\"],\\n    \\\"spread_favorite\\\": [-3.5, -3],\\n    \\\"mean_home\\\": [23.5, 23.88],\\n    \\\"mean_away\\\": [24.8, 15.875],\\n    \\\"home_favorite\\\": [0, 1],\\n}\\nnew_data = pd.DataFrame(d)\\n\\n# Keep the columns in same order\\nnew_data\";\n",
       "                var nbb_formatted_code = \"d = {\\n    \\\"team_home\\\": [\\\"DET\\\", \\\" NE\\\"],\\n    \\\"team_away\\\": [\\\"MIN\\\", \\\"NYJ\\\"],\\n    \\\"spread_favorite\\\": [-3.5, -3],\\n    \\\"mean_home\\\": [23.5, 23.88],\\n    \\\"mean_away\\\": [24.8, 15.875],\\n    \\\"home_favorite\\\": [0, 1],\\n}\\nnew_data = pd.DataFrame(d)\\n\\n# Keep the columns in same order\\nnew_data\";\n",
       "                var nbb_cells = Jupyter.notebook.get_cells();\n",
       "                for (var i = 0; i < nbb_cells.length; ++i) {\n",
       "                    if (nbb_cells[i].input_prompt_number == nbb_cell_id) {\n",
       "                        if (nbb_cells[i].get_text() == nbb_unformatted_code) {\n",
       "                             nbb_cells[i].set_text(nbb_formatted_code);\n",
       "                        }\n",
       "                        break;\n",
       "                    }\n",
       "                }\n",
       "            }, 500);\n",
       "            "
      ],
      "text/plain": [
       "<IPython.core.display.Javascript object>"
      ]
     },
     "metadata": {},
     "output_type": "display_data"
    }
   ],
   "source": [
    "d = {\n",
    "    \"team_home\": [\"DET\", \" NE\"],\n",
    "    \"team_away\": [\"MIN\", \"NYJ\"],\n",
    "    \"spread_favorite\": [-3.5, -3],\n",
    "    \"mean_home\": [23.5, 23.88],\n",
    "    \"mean_away\": [24.8, 15.875],\n",
    "    \"home_favorite\": [0, 1],\n",
    "}\n",
    "new_data = pd.DataFrame(d)\n",
    "\n",
    "# Keep the columns in same order\n",
    "new_data"
   ]
  },
  {
   "cell_type": "code",
   "execution_count": 122,
   "metadata": {},
   "outputs": [
    {
     "name": "stdout",
     "output_type": "stream",
     "text": [
      "predicted: [0 1]\n"
     ]
    },
    {
     "data": {
      "application/javascript": [
       "\n",
       "            setTimeout(function() {\n",
       "                var nbb_cell_id = 122;\n",
       "                var nbb_unformatted_code = \"# Load from file\\nwith open(\\\"saved_model.pkl\\\", \\\"rb\\\") as f:\\n    loaded_model = pickle.load(f)\\ny_new_pred = loaded_model.predict(new_data)\\nprint(f\\\"predicted: {y_new_pred}\\\")\\n# print(f\\\"right answer: {new_data_right_answer.values}\\\")\";\n",
       "                var nbb_formatted_code = \"# Load from file\\nwith open(\\\"saved_model.pkl\\\", \\\"rb\\\") as f:\\n    loaded_model = pickle.load(f)\\ny_new_pred = loaded_model.predict(new_data)\\nprint(f\\\"predicted: {y_new_pred}\\\")\\n# print(f\\\"right answer: {new_data_right_answer.values}\\\")\";\n",
       "                var nbb_cells = Jupyter.notebook.get_cells();\n",
       "                for (var i = 0; i < nbb_cells.length; ++i) {\n",
       "                    if (nbb_cells[i].input_prompt_number == nbb_cell_id) {\n",
       "                        if (nbb_cells[i].get_text() == nbb_unformatted_code) {\n",
       "                             nbb_cells[i].set_text(nbb_formatted_code);\n",
       "                        }\n",
       "                        break;\n",
       "                    }\n",
       "                }\n",
       "            }, 500);\n",
       "            "
      ],
      "text/plain": [
       "<IPython.core.display.Javascript object>"
      ]
     },
     "metadata": {},
     "output_type": "display_data"
    }
   ],
   "source": [
    "# Load from file\n",
    "with open(\"saved_model.pkl\", \"rb\") as f:\n",
    "    loaded_model = pickle.load(f)\n",
    "y_new_pred = loaded_model.predict(new_data)\n",
    "print(f\"predicted: {y_new_pred}\")\n",
    "\n",
    "\n",
    "## TO DO  - find confidence in prediction\n",
    "# print(f\"right answer: {new_data_right_answer.values}\")"
   ]
  },
  {
   "cell_type": "markdown",
   "metadata": {},
   "source": [
    "### Compare model to parlay betting strategy"
   ]
  },
  {
   "cell_type": "code",
   "execution_count": 77,
   "metadata": {},
   "outputs": [
    {
     "name": "stdout",
     "output_type": "stream",
     "text": [
      "0.7921 0.7049690000000001 0.9025 0.8573749999999999 0.8145062499999999\n"
     ]
    },
    {
     "data": {
      "text/plain": [
       "0.8454999999999999"
      ]
     },
     "execution_count": 77,
     "metadata": {},
     "output_type": "execute_result"
    },
    {
     "data": {
      "application/javascript": [
       "\n",
       "            setTimeout(function() {\n",
       "                var nbb_cell_id = 77;\n",
       "                var nbb_unformatted_code = \"# Model confidence probability for parlays\\nprint(0.89 ** 2, 0.89 ** 3, 0.95 ** 2, 0.95 ** 3, 0.95 ** 4)\\n0.89 * 0.95 \";\n",
       "                var nbb_formatted_code = \"# Model confidence probability for parlays\\nprint(0.89 ** 2, 0.89 ** 3, 0.95 ** 2, 0.95 ** 3, 0.95 ** 4)\\n0.89 * 0.95\";\n",
       "                var nbb_cells = Jupyter.notebook.get_cells();\n",
       "                for (var i = 0; i < nbb_cells.length; ++i) {\n",
       "                    if (nbb_cells[i].input_prompt_number == nbb_cell_id) {\n",
       "                        if (nbb_cells[i].get_text() == nbb_unformatted_code) {\n",
       "                             nbb_cells[i].set_text(nbb_formatted_code);\n",
       "                        }\n",
       "                        break;\n",
       "                    }\n",
       "                }\n",
       "            }, 500);\n",
       "            "
      ],
      "text/plain": [
       "<IPython.core.display.Javascript object>"
      ]
     },
     "metadata": {},
     "output_type": "display_data"
    }
   ],
   "source": [
    "# Model confidence probability for parlays\n",
    "print(0.89 ** 2, 0.89 ** 3, 0.95 ** 2, 0.95 ** 3, 0.95 ** 4)\n",
    "0.89 * 0.95 \n"
   ]
  },
  {
   "cell_type": "markdown",
   "metadata": {},
   "source": [
    "### Parlay typical odds - Real Vs Vegas\n",
    "\n",
    "- 2 games: 3/1 vs 2.6/1 \n",
    "- 3 games: 7/1 vs 6/1 \n",
    "- 4 games: 15/1 vs 10/1\n",
    "\n",
    "As the amount of games included in a parlay goes up the more Vegas discounts the odds.  For our model we want to cap Parlays at 3 games for maximum effectiveness. \n",
    "\n",
    "#### Odds our Model gives when using set confidence thresholds\n",
    "- Bet Win\n",
    "    - 2 game: 79%\n",
    "    - 3 game: 70%\n",
    "\n",
    "- Bet Lose\n",
    "    - 2 game: 90%\n",
    "    - 3 game: 86%\n",
    "    - 4 game: 81%\n",
    "- Bet Win / Lose\n",
    "    - 84.5%\n",
    "- Bet Win / Lose / Win\n",
    "    - 75%\n",
    "- Bet Win / Lose / Lose\n",
    "    - 80%\n",
    "    \n",
    "#### Strategy - run the games for the week and choose games that satisfy the model in 2-3 game parlay combos. "
   ]
  }
 ],
 "metadata": {
  "kernelspec": {
   "display_name": "Python 3",
   "language": "python",
   "name": "python3"
  },
  "language_info": {
   "codemirror_mode": {
    "name": "ipython",
    "version": 3
   },
   "file_extension": ".py",
   "mimetype": "text/x-python",
   "name": "python",
   "nbconvert_exporter": "python",
   "pygments_lexer": "ipython3",
   "version": "3.8.3"
  }
 },
 "nbformat": 4,
 "nbformat_minor": 4
}
