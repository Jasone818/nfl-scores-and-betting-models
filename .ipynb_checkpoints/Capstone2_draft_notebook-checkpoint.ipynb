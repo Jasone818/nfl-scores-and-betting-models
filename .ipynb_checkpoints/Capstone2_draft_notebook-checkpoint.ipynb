{
 "cells": [
  {
   "cell_type": "code",
   "execution_count": 1,
   "metadata": {},
   "outputs": [
    {
     "data": {
      "application/javascript": [
       "\n",
       "            setTimeout(function() {\n",
       "                var nbb_cell_id = 1;\n",
       "                var nbb_unformatted_code = \"%reload_ext nb_black\";\n",
       "                var nbb_formatted_code = \"%reload_ext nb_black\";\n",
       "                var nbb_cells = Jupyter.notebook.get_cells();\n",
       "                for (var i = 0; i < nbb_cells.length; ++i) {\n",
       "                    if (nbb_cells[i].input_prompt_number == nbb_cell_id) {\n",
       "                        if (nbb_cells[i].get_text() == nbb_unformatted_code) {\n",
       "                             nbb_cells[i].set_text(nbb_formatted_code);\n",
       "                        }\n",
       "                        break;\n",
       "                    }\n",
       "                }\n",
       "            }, 500);\n",
       "            "
      ],
      "text/plain": [
       "<IPython.core.display.Javascript object>"
      ]
     },
     "metadata": {},
     "output_type": "display_data"
    }
   ],
   "source": [
    "%reload_ext nb_black"
   ]
  },
  {
   "cell_type": "code",
   "execution_count": 2,
   "metadata": {},
   "outputs": [
    {
     "data": {
      "application/javascript": [
       "\n",
       "            setTimeout(function() {\n",
       "                var nbb_cell_id = 2;\n",
       "                var nbb_unformatted_code = \"import pandas as pd\\nimport numpy as np\\n\\nfrom sklearn.model_selection import train_test_split, GridSearchCV\\nfrom sklearn.compose import ColumnTransformer\\nfrom sklearn.preprocessing import StandardScaler\\nfrom sklearn.pipeline import Pipeline\\nfrom sklearn.ensemble import GradientBoostingRegressor\\n\\nfrom category_encoders import LeaveOneOutEncoder\\n\\nimport seaborn as sns\\nimport matplotlib.pyplot as plt\\n\\n%matplotlib inline\\n\\n\\nfrom sklearn.neighbors import KNeighborsClassifier\\nfrom sklearn.linear_model import LogisticRegression\\nfrom sklearn.svm import SVC\\nfrom sklearn.metrics import confusion_matrix, classification_report\\n\\nfrom xgboost import XGBClassifier\";\n",
       "                var nbb_formatted_code = \"import pandas as pd\\nimport numpy as np\\n\\nfrom sklearn.model_selection import train_test_split, GridSearchCV\\nfrom sklearn.compose import ColumnTransformer\\nfrom sklearn.preprocessing import StandardScaler\\nfrom sklearn.pipeline import Pipeline\\nfrom sklearn.ensemble import GradientBoostingRegressor\\n\\nfrom category_encoders import LeaveOneOutEncoder\\n\\nimport seaborn as sns\\nimport matplotlib.pyplot as plt\\n\\n%matplotlib inline\\n\\n\\nfrom sklearn.neighbors import KNeighborsClassifier\\nfrom sklearn.linear_model import LogisticRegression\\nfrom sklearn.svm import SVC\\nfrom sklearn.metrics import confusion_matrix, classification_report\\n\\nfrom xgboost import XGBClassifier\";\n",
       "                var nbb_cells = Jupyter.notebook.get_cells();\n",
       "                for (var i = 0; i < nbb_cells.length; ++i) {\n",
       "                    if (nbb_cells[i].input_prompt_number == nbb_cell_id) {\n",
       "                        if (nbb_cells[i].get_text() == nbb_unformatted_code) {\n",
       "                             nbb_cells[i].set_text(nbb_formatted_code);\n",
       "                        }\n",
       "                        break;\n",
       "                    }\n",
       "                }\n",
       "            }, 500);\n",
       "            "
      ],
      "text/plain": [
       "<IPython.core.display.Javascript object>"
      ]
     },
     "metadata": {},
     "output_type": "display_data"
    }
   ],
   "source": [
    "import pandas as pd\n",
    "import numpy as np\n",
    "\n",
    "from sklearn.model_selection import train_test_split, GridSearchCV\n",
    "from sklearn.compose import ColumnTransformer\n",
    "from sklearn.preprocessing import StandardScaler\n",
    "from sklearn.pipeline import Pipeline\n",
    "from sklearn.ensemble import GradientBoostingRegressor\n",
    "\n",
    "from category_encoders import LeaveOneOutEncoder\n",
    "\n",
    "import seaborn as sns\n",
    "import matplotlib.pyplot as plt\n",
    "\n",
    "%matplotlib inline\n",
    "\n",
    "\n",
    "from sklearn.neighbors import KNeighborsClassifier\n",
    "from sklearn.linear_model import LogisticRegression\n",
    "from sklearn.svm import SVC\n",
    "from sklearn.metrics import confusion_matrix, classification_report\n",
    "\n",
    "from xgboost import XGBClassifier"
   ]
  },
  {
   "cell_type": "code",
   "execution_count": 3,
   "metadata": {},
   "outputs": [
    {
     "data": {
      "application/javascript": [
       "\n",
       "            setTimeout(function() {\n",
       "                var nbb_cell_id = 3;\n",
       "                var nbb_unformatted_code = \"# https://gist.github.com/AdamSpannbauer/c99c366b0c7d5b6c4920a46c32d738e5\\nimport warnings\\nimport statsmodels.api as sm\\nimport statsmodels.stats.api as sms\\nfrom statsmodels.stats.outliers_influence import variance_inflation_factor\\n\\n\\ndef print_vif(x):\\n    \\\"\\\"\\\"Utility for checking multicollinearity assumption\\n\\n    :param x: input features to check using VIF. This is assumed to be a pandas.DataFrame\\n    :return: nothing is returned the VIFs are printed as a pandas series\\n    \\\"\\\"\\\"\\n    # Silence numpy FutureWarning about .ptp\\n    with warnings.catch_warnings():\\n        warnings.simplefilter(\\\"ignore\\\")\\n        x = sm.add_constant(x)\\n\\n    vifs = []\\n    for i in range(x.shape[1]):\\n        vif = variance_inflation_factor(x.values, i)\\n        vifs.append(vif)\\n\\n    print(\\\"VIF results\\\\n-------------------------------\\\")\\n    print(pd.Series(vifs, index=x.columns))\\n    print(\\\"-------------------------------\\\\n\\\")\";\n",
       "                var nbb_formatted_code = \"# https://gist.github.com/AdamSpannbauer/c99c366b0c7d5b6c4920a46c32d738e5\\nimport warnings\\nimport statsmodels.api as sm\\nimport statsmodels.stats.api as sms\\nfrom statsmodels.stats.outliers_influence import variance_inflation_factor\\n\\n\\ndef print_vif(x):\\n    \\\"\\\"\\\"Utility for checking multicollinearity assumption\\n\\n    :param x: input features to check using VIF. This is assumed to be a pandas.DataFrame\\n    :return: nothing is returned the VIFs are printed as a pandas series\\n    \\\"\\\"\\\"\\n    # Silence numpy FutureWarning about .ptp\\n    with warnings.catch_warnings():\\n        warnings.simplefilter(\\\"ignore\\\")\\n        x = sm.add_constant(x)\\n\\n    vifs = []\\n    for i in range(x.shape[1]):\\n        vif = variance_inflation_factor(x.values, i)\\n        vifs.append(vif)\\n\\n    print(\\\"VIF results\\\\n-------------------------------\\\")\\n    print(pd.Series(vifs, index=x.columns))\\n    print(\\\"-------------------------------\\\\n\\\")\";\n",
       "                var nbb_cells = Jupyter.notebook.get_cells();\n",
       "                for (var i = 0; i < nbb_cells.length; ++i) {\n",
       "                    if (nbb_cells[i].input_prompt_number == nbb_cell_id) {\n",
       "                        if (nbb_cells[i].get_text() == nbb_unformatted_code) {\n",
       "                             nbb_cells[i].set_text(nbb_formatted_code);\n",
       "                        }\n",
       "                        break;\n",
       "                    }\n",
       "                }\n",
       "            }, 500);\n",
       "            "
      ],
      "text/plain": [
       "<IPython.core.display.Javascript object>"
      ]
     },
     "metadata": {},
     "output_type": "display_data"
    }
   ],
   "source": [
    "# https://gist.github.com/AdamSpannbauer/c99c366b0c7d5b6c4920a46c32d738e5\n",
    "import warnings\n",
    "import statsmodels.api as sm\n",
    "import statsmodels.stats.api as sms\n",
    "from statsmodels.stats.outliers_influence import variance_inflation_factor\n",
    "\n",
    "\n",
    "def print_vif(x):\n",
    "    \"\"\"Utility for checking multicollinearity assumption\n",
    "\n",
    "    :param x: input features to check using VIF. This is assumed to be a pandas.DataFrame\n",
    "    :return: nothing is returned the VIFs are printed as a pandas series\n",
    "    \"\"\"\n",
    "    # Silence numpy FutureWarning about .ptp\n",
    "    with warnings.catch_warnings():\n",
    "        warnings.simplefilter(\"ignore\")\n",
    "        x = sm.add_constant(x)\n",
    "\n",
    "    vifs = []\n",
    "    for i in range(x.shape[1]):\n",
    "        vif = variance_inflation_factor(x.values, i)\n",
    "        vifs.append(vif)\n",
    "\n",
    "    print(\"VIF results\\n-------------------------------\")\n",
    "    print(pd.Series(vifs, index=x.columns))\n",
    "    print(\"-------------------------------\\n\")"
   ]
  },
  {
   "cell_type": "code",
   "execution_count": 4,
   "metadata": {},
   "outputs": [
    {
     "data": {
      "application/javascript": [
       "\n",
       "            setTimeout(function() {\n",
       "                var nbb_cell_id = 4;\n",
       "                var nbb_unformatted_code = \"data = \\\"Data/nfl_stadiums.csv\\\"\\ndata2 = \\\"Data/nfl_teams.csv\\\"\\ndata3 = \\\"Data/spreadspoke_scores.csv\\\"\\n\\ndfstad = pd.read_csv(data, encoding=\\\"unicode_escape\\\")\\ndfteam = pd.read_csv(data2)\\ndfscore = pd.read_csv(data3)\";\n",
       "                var nbb_formatted_code = \"data = \\\"Data/nfl_stadiums.csv\\\"\\ndata2 = \\\"Data/nfl_teams.csv\\\"\\ndata3 = \\\"Data/spreadspoke_scores.csv\\\"\\n\\ndfstad = pd.read_csv(data, encoding=\\\"unicode_escape\\\")\\ndfteam = pd.read_csv(data2)\\ndfscore = pd.read_csv(data3)\";\n",
       "                var nbb_cells = Jupyter.notebook.get_cells();\n",
       "                for (var i = 0; i < nbb_cells.length; ++i) {\n",
       "                    if (nbb_cells[i].input_prompt_number == nbb_cell_id) {\n",
       "                        if (nbb_cells[i].get_text() == nbb_unformatted_code) {\n",
       "                             nbb_cells[i].set_text(nbb_formatted_code);\n",
       "                        }\n",
       "                        break;\n",
       "                    }\n",
       "                }\n",
       "            }, 500);\n",
       "            "
      ],
      "text/plain": [
       "<IPython.core.display.Javascript object>"
      ]
     },
     "metadata": {},
     "output_type": "display_data"
    }
   ],
   "source": [
    "data = \"Data/nfl_stadiums.csv\"\n",
    "data2 = \"Data/nfl_teams.csv\"\n",
    "data3 = \"Data/spreadspoke_scores.csv\"\n",
    "\n",
    "dfstad = pd.read_csv(data, encoding=\"unicode_escape\")\n",
    "dfteam = pd.read_csv(data2)\n",
    "dfscore = pd.read_csv(data3)"
   ]
  },
  {
   "cell_type": "code",
   "execution_count": 5,
   "metadata": {},
   "outputs": [
    {
     "name": "stdout",
     "output_type": "stream",
     "text": [
      "<class 'pandas.core.frame.DataFrame'>\n",
      "RangeIndex: 12934 entries, 0 to 12933\n",
      "Data columns (total 17 columns):\n",
      " #   Column               Non-Null Count  Dtype  \n",
      "---  ------               --------------  -----  \n",
      " 0   schedule_date        12934 non-null  object \n",
      " 1   schedule_season      12934 non-null  int64  \n",
      " 2   schedule_week        12934 non-null  object \n",
      " 3   schedule_playoff     12934 non-null  bool   \n",
      " 4   team_home            12934 non-null  object \n",
      " 5   score_home           12797 non-null  float64\n",
      " 6   score_away           12797 non-null  float64\n",
      " 7   team_away            12934 non-null  object \n",
      " 8   team_favorite_id     10318 non-null  object \n",
      " 9   spread_favorite      10318 non-null  float64\n",
      " 10  over_under_line      10308 non-null  object \n",
      " 11  stadium              12934 non-null  object \n",
      " 12  stadium_neutral      12934 non-null  bool   \n",
      " 13  weather_temperature  12008 non-null  float64\n",
      " 14  weather_wind_mph     12008 non-null  float64\n",
      " 15  weather_humidity     8388 non-null   object \n",
      " 16  weather_detail       2711 non-null   object \n",
      "dtypes: bool(2), float64(5), int64(1), object(9)\n",
      "memory usage: 1.5+ MB\n"
     ]
    },
    {
     "data": {
      "application/javascript": [
       "\n",
       "            setTimeout(function() {\n",
       "                var nbb_cell_id = 5;\n",
       "                var nbb_unformatted_code = \"dfscore.info()\";\n",
       "                var nbb_formatted_code = \"dfscore.info()\";\n",
       "                var nbb_cells = Jupyter.notebook.get_cells();\n",
       "                for (var i = 0; i < nbb_cells.length; ++i) {\n",
       "                    if (nbb_cells[i].input_prompt_number == nbb_cell_id) {\n",
       "                        if (nbb_cells[i].get_text() == nbb_unformatted_code) {\n",
       "                             nbb_cells[i].set_text(nbb_formatted_code);\n",
       "                        }\n",
       "                        break;\n",
       "                    }\n",
       "                }\n",
       "            }, 500);\n",
       "            "
      ],
      "text/plain": [
       "<IPython.core.display.Javascript object>"
      ]
     },
     "metadata": {},
     "output_type": "display_data"
    }
   ],
   "source": [
    "dfscore.info()"
   ]
  },
  {
   "cell_type": "code",
   "execution_count": null,
   "metadata": {},
   "outputs": [],
   "source": []
  },
  {
   "cell_type": "code",
   "execution_count": 6,
   "metadata": {},
   "outputs": [
    {
     "data": {
      "application/javascript": [
       "\n",
       "            setTimeout(function() {\n",
       "                var nbb_cell_id = 6;\n",
       "                var nbb_unformatted_code = \"dfscore = dfscore.replace(r\\\"^\\\\s*$\\\", np.nan, regex=True)\\ndfscore = dfscore.drop(\\n    columns=[\\n        \\\"weather_humidity\\\",\\n        \\\"weather_detail\\\",\\n        \\\"weather_temperature\\\",\\n        \\\"weather_wind_mph\\\",\\n        \\\"schedule_date\\\",\\n        \\\"schedule_playoff\\\",\\n        \\\"stadium\\\",\\n        \\\"stadium_neutral\\\",\\n    ]\\n)\";\n",
       "                var nbb_formatted_code = \"dfscore = dfscore.replace(r\\\"^\\\\s*$\\\", np.nan, regex=True)\\ndfscore = dfscore.drop(\\n    columns=[\\n        \\\"weather_humidity\\\",\\n        \\\"weather_detail\\\",\\n        \\\"weather_temperature\\\",\\n        \\\"weather_wind_mph\\\",\\n        \\\"schedule_date\\\",\\n        \\\"schedule_playoff\\\",\\n        \\\"stadium\\\",\\n        \\\"stadium_neutral\\\",\\n    ]\\n)\";\n",
       "                var nbb_cells = Jupyter.notebook.get_cells();\n",
       "                for (var i = 0; i < nbb_cells.length; ++i) {\n",
       "                    if (nbb_cells[i].input_prompt_number == nbb_cell_id) {\n",
       "                        if (nbb_cells[i].get_text() == nbb_unformatted_code) {\n",
       "                             nbb_cells[i].set_text(nbb_formatted_code);\n",
       "                        }\n",
       "                        break;\n",
       "                    }\n",
       "                }\n",
       "            }, 500);\n",
       "            "
      ],
      "text/plain": [
       "<IPython.core.display.Javascript object>"
      ]
     },
     "metadata": {},
     "output_type": "display_data"
    }
   ],
   "source": [
    "dfscore = dfscore.replace(r\"^\\s*$\", np.nan, regex=True)\n",
    "dfscore = dfscore.drop(\n",
    "    columns=[\n",
    "        \"weather_humidity\",\n",
    "        \"weather_detail\",\n",
    "        \"weather_temperature\",\n",
    "        \"weather_wind_mph\",\n",
    "        \"schedule_date\",\n",
    "        \"schedule_playoff\",\n",
    "        \"stadium\",\n",
    "        \"stadium_neutral\",\n",
    "    ]\n",
    ")"
   ]
  },
  {
   "cell_type": "code",
   "execution_count": 7,
   "metadata": {},
   "outputs": [
    {
     "data": {
      "application/javascript": [
       "\n",
       "            setTimeout(function() {\n",
       "                var nbb_cell_id = 7;\n",
       "                var nbb_unformatted_code = \"dfscore = dfscore[\\n    (dfscore[\\\"score_home\\\"].isna() == False)\\n    & (dfscore[\\\"team_favorite_id\\\"].isna() == False)\\n    & (dfscore[\\\"over_under_line\\\"].isna() == False)\\n    & (dfscore[\\\"schedule_season\\\"] >= 1979)\\n]\";\n",
       "                var nbb_formatted_code = \"dfscore = dfscore[\\n    (dfscore[\\\"score_home\\\"].isna() == False)\\n    & (dfscore[\\\"team_favorite_id\\\"].isna() == False)\\n    & (dfscore[\\\"over_under_line\\\"].isna() == False)\\n    & (dfscore[\\\"schedule_season\\\"] >= 1979)\\n]\";\n",
       "                var nbb_cells = Jupyter.notebook.get_cells();\n",
       "                for (var i = 0; i < nbb_cells.length; ++i) {\n",
       "                    if (nbb_cells[i].input_prompt_number == nbb_cell_id) {\n",
       "                        if (nbb_cells[i].get_text() == nbb_unformatted_code) {\n",
       "                             nbb_cells[i].set_text(nbb_formatted_code);\n",
       "                        }\n",
       "                        break;\n",
       "                    }\n",
       "                }\n",
       "            }, 500);\n",
       "            "
      ],
      "text/plain": [
       "<IPython.core.display.Javascript object>"
      ]
     },
     "metadata": {},
     "output_type": "display_data"
    }
   ],
   "source": [
    "dfscore = dfscore[\n",
    "    (dfscore[\"score_home\"].isna() == False)\n",
    "    & (dfscore[\"team_favorite_id\"].isna() == False)\n",
    "    & (dfscore[\"over_under_line\"].isna() == False)\n",
    "    & (dfscore[\"schedule_season\"] >= 1979)\n",
    "]"
   ]
  },
  {
   "cell_type": "code",
   "execution_count": 8,
   "metadata": {},
   "outputs": [
    {
     "data": {
      "application/javascript": [
       "\n",
       "            setTimeout(function() {\n",
       "                var nbb_cell_id = 8;\n",
       "                var nbb_unformatted_code = \"dfscore.reset_index(drop=True, inplace=True)\";\n",
       "                var nbb_formatted_code = \"dfscore.reset_index(drop=True, inplace=True)\";\n",
       "                var nbb_cells = Jupyter.notebook.get_cells();\n",
       "                for (var i = 0; i < nbb_cells.length; ++i) {\n",
       "                    if (nbb_cells[i].input_prompt_number == nbb_cell_id) {\n",
       "                        if (nbb_cells[i].get_text() == nbb_unformatted_code) {\n",
       "                             nbb_cells[i].set_text(nbb_formatted_code);\n",
       "                        }\n",
       "                        break;\n",
       "                    }\n",
       "                }\n",
       "            }, 500);\n",
       "            "
      ],
      "text/plain": [
       "<IPython.core.display.Javascript object>"
      ]
     },
     "metadata": {},
     "output_type": "display_data"
    }
   ],
   "source": [
    "dfscore.reset_index(drop=True, inplace=True)"
   ]
  },
  {
   "cell_type": "code",
   "execution_count": 9,
   "metadata": {},
   "outputs": [
    {
     "name": "stdout",
     "output_type": "stream",
     "text": [
      "<class 'pandas.core.frame.DataFrame'>\n",
      "RangeIndex: 10234 entries, 0 to 10233\n",
      "Data columns (total 9 columns):\n",
      " #   Column            Non-Null Count  Dtype  \n",
      "---  ------            --------------  -----  \n",
      " 0   schedule_season   10234 non-null  int64  \n",
      " 1   schedule_week     10234 non-null  object \n",
      " 2   team_home         10234 non-null  object \n",
      " 3   score_home        10234 non-null  float64\n",
      " 4   score_away        10234 non-null  float64\n",
      " 5   team_away         10234 non-null  object \n",
      " 6   team_favorite_id  10234 non-null  object \n",
      " 7   spread_favorite   10234 non-null  float64\n",
      " 8   over_under_line   10234 non-null  object \n",
      "dtypes: float64(3), int64(1), object(5)\n",
      "memory usage: 719.7+ KB\n"
     ]
    },
    {
     "data": {
      "application/javascript": [
       "\n",
       "            setTimeout(function() {\n",
       "                var nbb_cell_id = 9;\n",
       "                var nbb_unformatted_code = \"dfscore.info()\";\n",
       "                var nbb_formatted_code = \"dfscore.info()\";\n",
       "                var nbb_cells = Jupyter.notebook.get_cells();\n",
       "                for (var i = 0; i < nbb_cells.length; ++i) {\n",
       "                    if (nbb_cells[i].input_prompt_number == nbb_cell_id) {\n",
       "                        if (nbb_cells[i].get_text() == nbb_unformatted_code) {\n",
       "                             nbb_cells[i].set_text(nbb_formatted_code);\n",
       "                        }\n",
       "                        break;\n",
       "                    }\n",
       "                }\n",
       "            }, 500);\n",
       "            "
      ],
      "text/plain": [
       "<IPython.core.display.Javascript object>"
      ]
     },
     "metadata": {},
     "output_type": "display_data"
    }
   ],
   "source": [
    "dfscore.info()"
   ]
  },
  {
   "cell_type": "code",
   "execution_count": 10,
   "metadata": {},
   "outputs": [
    {
     "data": {
      "text/html": [
       "<div>\n",
       "<style scoped>\n",
       "    .dataframe tbody tr th:only-of-type {\n",
       "        vertical-align: middle;\n",
       "    }\n",
       "\n",
       "    .dataframe tbody tr th {\n",
       "        vertical-align: top;\n",
       "    }\n",
       "\n",
       "    .dataframe thead th {\n",
       "        text-align: right;\n",
       "    }\n",
       "</style>\n",
       "<table border=\"1\" class=\"dataframe\">\n",
       "  <thead>\n",
       "    <tr style=\"text-align: right;\">\n",
       "      <th></th>\n",
       "      <th>schedule_season</th>\n",
       "      <th>schedule_week</th>\n",
       "      <th>team_home</th>\n",
       "      <th>team_away</th>\n",
       "      <th>team_favorite_id</th>\n",
       "      <th>spread_favorite</th>\n",
       "      <th>over_under_line</th>\n",
       "      <th>score_home</th>\n",
       "      <th>score_away</th>\n",
       "      <th>mean_home</th>\n",
       "      <th>mean_away</th>\n",
       "    </tr>\n",
       "  </thead>\n",
       "  <tbody>\n",
       "    <tr>\n",
       "      <th>0</th>\n",
       "      <td>1979</td>\n",
       "      <td>1</td>\n",
       "      <td>Tampa Bay Buccaneers</td>\n",
       "      <td>Detroit Lions</td>\n",
       "      <td>TB</td>\n",
       "      <td>-3.0</td>\n",
       "      <td>30</td>\n",
       "      <td>31.0</td>\n",
       "      <td>16.0</td>\n",
       "      <td>17.875</td>\n",
       "      <td>10.875</td>\n",
       "    </tr>\n",
       "    <tr>\n",
       "      <th>1</th>\n",
       "      <td>1979</td>\n",
       "      <td>10</td>\n",
       "      <td>Chicago Bears</td>\n",
       "      <td>Detroit Lions</td>\n",
       "      <td>CHI</td>\n",
       "      <td>-7.0</td>\n",
       "      <td>35</td>\n",
       "      <td>35.0</td>\n",
       "      <td>7.0</td>\n",
       "      <td>22.375</td>\n",
       "      <td>10.875</td>\n",
       "    </tr>\n",
       "    <tr>\n",
       "      <th>2</th>\n",
       "      <td>1979</td>\n",
       "      <td>12</td>\n",
       "      <td>Minnesota Vikings</td>\n",
       "      <td>Detroit Lions</td>\n",
       "      <td>MIN</td>\n",
       "      <td>-4.0</td>\n",
       "      <td>37</td>\n",
       "      <td>14.0</td>\n",
       "      <td>7.0</td>\n",
       "      <td>18.875</td>\n",
       "      <td>10.875</td>\n",
       "    </tr>\n",
       "    <tr>\n",
       "      <th>3</th>\n",
       "      <td>1979</td>\n",
       "      <td>8</td>\n",
       "      <td>New Orleans Saints</td>\n",
       "      <td>Detroit Lions</td>\n",
       "      <td>NO</td>\n",
       "      <td>-7.0</td>\n",
       "      <td>42</td>\n",
       "      <td>17.0</td>\n",
       "      <td>7.0</td>\n",
       "      <td>21.500</td>\n",
       "      <td>10.875</td>\n",
       "    </tr>\n",
       "    <tr>\n",
       "      <th>4</th>\n",
       "      <td>1979</td>\n",
       "      <td>3</td>\n",
       "      <td>New York Jets</td>\n",
       "      <td>Detroit Lions</td>\n",
       "      <td>NYJ</td>\n",
       "      <td>-6.0</td>\n",
       "      <td>42</td>\n",
       "      <td>31.0</td>\n",
       "      <td>10.0</td>\n",
       "      <td>24.625</td>\n",
       "      <td>10.875</td>\n",
       "    </tr>\n",
       "  </tbody>\n",
       "</table>\n",
       "</div>"
      ],
      "text/plain": [
       "   schedule_season schedule_week             team_home      team_away  \\\n",
       "0             1979             1  Tampa Bay Buccaneers  Detroit Lions   \n",
       "1             1979            10         Chicago Bears  Detroit Lions   \n",
       "2             1979            12     Minnesota Vikings  Detroit Lions   \n",
       "3             1979             8    New Orleans Saints  Detroit Lions   \n",
       "4             1979             3         New York Jets  Detroit Lions   \n",
       "\n",
       "  team_favorite_id  spread_favorite over_under_line  score_home  score_away  \\\n",
       "0               TB             -3.0              30        31.0        16.0   \n",
       "1              CHI             -7.0              35        35.0         7.0   \n",
       "2              MIN             -4.0              37        14.0         7.0   \n",
       "3               NO             -7.0              42        17.0         7.0   \n",
       "4              NYJ             -6.0              42        31.0        10.0   \n",
       "\n",
       "   mean_home  mean_away  \n",
       "0     17.875     10.875  \n",
       "1     22.375     10.875  \n",
       "2     18.875     10.875  \n",
       "3     21.500     10.875  \n",
       "4     24.625     10.875  "
      ]
     },
     "execution_count": 10,
     "metadata": {},
     "output_type": "execute_result"
    },
    {
     "data": {
      "application/javascript": [
       "\n",
       "            setTimeout(function() {\n",
       "                var nbb_cell_id = 10;\n",
       "                var nbb_unformatted_code = \"home_scores = (\\n    dfscore[\\n        [\\n            \\\"score_home\\\",\\n            \\\"schedule_season\\\",\\n            \\\"team_home\\\",\\n        ]\\n    ]\\n    .groupby([\\\"schedule_season\\\", \\\"team_home\\\"])\\n    .mean()\\n    .reset_index()\\n)\\n\\naway_scores = (\\n    dfscore[\\n        [\\n            \\\"score_away\\\",\\n            \\\"schedule_season\\\",\\n            \\\"team_away\\\",\\n        ]\\n    ]\\n    .groupby([\\\"schedule_season\\\", \\\"team_away\\\"])\\n    .mean()\\n    .reset_index()\\n)\\n\\n\\ndfscoreh = pd.merge(dfscore, home_scores, on=[\\\"team_home\\\", \\\"schedule_season\\\"])\\n\\ndfscoreb = pd.merge(dfscoreh, away_scores, on=[\\\"team_away\\\", \\\"schedule_season\\\"])\\ndfscore = dfscoreb\\ndfscore[\\\"score_home\\\"] = dfscore[\\\"score_home_x\\\"]\\ndfscore[\\\"score_away\\\"] = dfscore[\\\"score_away_x\\\"]\\ndfscore[\\\"mean_home\\\"] = dfscore[\\\"score_home_y\\\"]\\ndfscore[\\\"mean_away\\\"] = dfscore[\\\"score_away_y\\\"]\\ndfscore = dfscore.drop(\\n    columns=[\\\"score_home_x\\\", \\\"score_away_x\\\", \\\"score_home_y\\\", \\\"score_away_y\\\"]\\n)\\ndfscore.head()\";\n",
       "                var nbb_formatted_code = \"home_scores = (\\n    dfscore[\\n        [\\n            \\\"score_home\\\",\\n            \\\"schedule_season\\\",\\n            \\\"team_home\\\",\\n        ]\\n    ]\\n    .groupby([\\\"schedule_season\\\", \\\"team_home\\\"])\\n    .mean()\\n    .reset_index()\\n)\\n\\naway_scores = (\\n    dfscore[\\n        [\\n            \\\"score_away\\\",\\n            \\\"schedule_season\\\",\\n            \\\"team_away\\\",\\n        ]\\n    ]\\n    .groupby([\\\"schedule_season\\\", \\\"team_away\\\"])\\n    .mean()\\n    .reset_index()\\n)\\n\\n\\ndfscoreh = pd.merge(dfscore, home_scores, on=[\\\"team_home\\\", \\\"schedule_season\\\"])\\n\\ndfscoreb = pd.merge(dfscoreh, away_scores, on=[\\\"team_away\\\", \\\"schedule_season\\\"])\\ndfscore = dfscoreb\\ndfscore[\\\"score_home\\\"] = dfscore[\\\"score_home_x\\\"]\\ndfscore[\\\"score_away\\\"] = dfscore[\\\"score_away_x\\\"]\\ndfscore[\\\"mean_home\\\"] = dfscore[\\\"score_home_y\\\"]\\ndfscore[\\\"mean_away\\\"] = dfscore[\\\"score_away_y\\\"]\\ndfscore = dfscore.drop(\\n    columns=[\\\"score_home_x\\\", \\\"score_away_x\\\", \\\"score_home_y\\\", \\\"score_away_y\\\"]\\n)\\ndfscore.head()\";\n",
       "                var nbb_cells = Jupyter.notebook.get_cells();\n",
       "                for (var i = 0; i < nbb_cells.length; ++i) {\n",
       "                    if (nbb_cells[i].input_prompt_number == nbb_cell_id) {\n",
       "                        if (nbb_cells[i].get_text() == nbb_unformatted_code) {\n",
       "                             nbb_cells[i].set_text(nbb_formatted_code);\n",
       "                        }\n",
       "                        break;\n",
       "                    }\n",
       "                }\n",
       "            }, 500);\n",
       "            "
      ],
      "text/plain": [
       "<IPython.core.display.Javascript object>"
      ]
     },
     "metadata": {},
     "output_type": "display_data"
    }
   ],
   "source": [
    "home_scores = (\n",
    "    dfscore[\n",
    "        [\n",
    "            \"score_home\",\n",
    "            \"schedule_season\",\n",
    "            \"team_home\",\n",
    "        ]\n",
    "    ]\n",
    "    .groupby([\"schedule_season\", \"team_home\"])\n",
    "    .mean()\n",
    "    .reset_index()\n",
    ")\n",
    "\n",
    "away_scores = (\n",
    "    dfscore[\n",
    "        [\n",
    "            \"score_away\",\n",
    "            \"schedule_season\",\n",
    "            \"team_away\",\n",
    "        ]\n",
    "    ]\n",
    "    .groupby([\"schedule_season\", \"team_away\"])\n",
    "    .mean()\n",
    "    .reset_index()\n",
    ")\n",
    "\n",
    "\n",
    "dfscoreh = pd.merge(dfscore, home_scores, on=[\"team_home\", \"schedule_season\"])\n",
    "\n",
    "dfscoreb = pd.merge(dfscoreh, away_scores, on=[\"team_away\", \"schedule_season\"])\n",
    "dfscore = dfscoreb\n",
    "dfscore[\"score_home\"] = dfscore[\"score_home_x\"]\n",
    "dfscore[\"score_away\"] = dfscore[\"score_away_x\"]\n",
    "dfscore[\"mean_home\"] = dfscore[\"score_home_y\"]\n",
    "dfscore[\"mean_away\"] = dfscore[\"score_away_y\"]\n",
    "dfscore = dfscore.drop(\n",
    "    columns=[\"score_home_x\", \"score_away_x\", \"score_home_y\", \"score_away_y\"]\n",
    ")\n",
    "dfscore.head()"
   ]
  },
  {
   "cell_type": "code",
   "execution_count": 11,
   "metadata": {},
   "outputs": [
    {
     "data": {
      "application/javascript": [
       "\n",
       "            setTimeout(function() {\n",
       "                var nbb_cell_id = 11;\n",
       "                var nbb_unformatted_code = \"dfscore[\\\"over_under_line\\\"] = dfscore[\\\"over_under_line\\\"].astype(float)\";\n",
       "                var nbb_formatted_code = \"dfscore[\\\"over_under_line\\\"] = dfscore[\\\"over_under_line\\\"].astype(float)\";\n",
       "                var nbb_cells = Jupyter.notebook.get_cells();\n",
       "                for (var i = 0; i < nbb_cells.length; ++i) {\n",
       "                    if (nbb_cells[i].input_prompt_number == nbb_cell_id) {\n",
       "                        if (nbb_cells[i].get_text() == nbb_unformatted_code) {\n",
       "                             nbb_cells[i].set_text(nbb_formatted_code);\n",
       "                        }\n",
       "                        break;\n",
       "                    }\n",
       "                }\n",
       "            }, 500);\n",
       "            "
      ],
      "text/plain": [
       "<IPython.core.display.Javascript object>"
      ]
     },
     "metadata": {},
     "output_type": "display_data"
    }
   ],
   "source": [
    "dfscore[\"over_under_line\"] = dfscore[\"over_under_line\"].astype(float)"
   ]
  },
  {
   "cell_type": "code",
   "execution_count": 12,
   "metadata": {},
   "outputs": [
    {
     "data": {
      "application/javascript": [
       "\n",
       "            setTimeout(function() {\n",
       "                var nbb_cell_id = 12;\n",
       "                var nbb_unformatted_code = \"dfscore[\\\"team_home\\\"] = dfscore[\\\"team_home\\\"].map(\\n    dfteam.set_index(\\\"team_name\\\")[\\\"team_id\\\"].to_dict()\\n)\\ndfscore[\\\"team_away\\\"] = dfscore[\\\"team_away\\\"].map(\\n    dfteam.set_index(\\\"team_name\\\")[\\\"team_id\\\"].to_dict()\\n)\";\n",
       "                var nbb_formatted_code = \"dfscore[\\\"team_home\\\"] = dfscore[\\\"team_home\\\"].map(\\n    dfteam.set_index(\\\"team_name\\\")[\\\"team_id\\\"].to_dict()\\n)\\ndfscore[\\\"team_away\\\"] = dfscore[\\\"team_away\\\"].map(\\n    dfteam.set_index(\\\"team_name\\\")[\\\"team_id\\\"].to_dict()\\n)\";\n",
       "                var nbb_cells = Jupyter.notebook.get_cells();\n",
       "                for (var i = 0; i < nbb_cells.length; ++i) {\n",
       "                    if (nbb_cells[i].input_prompt_number == nbb_cell_id) {\n",
       "                        if (nbb_cells[i].get_text() == nbb_unformatted_code) {\n",
       "                             nbb_cells[i].set_text(nbb_formatted_code);\n",
       "                        }\n",
       "                        break;\n",
       "                    }\n",
       "                }\n",
       "            }, 500);\n",
       "            "
      ],
      "text/plain": [
       "<IPython.core.display.Javascript object>"
      ]
     },
     "metadata": {},
     "output_type": "display_data"
    }
   ],
   "source": [
    "dfscore[\"team_home\"] = dfscore[\"team_home\"].map(\n",
    "    dfteam.set_index(\"team_name\")[\"team_id\"].to_dict()\n",
    ")\n",
    "dfscore[\"team_away\"] = dfscore[\"team_away\"].map(\n",
    "    dfteam.set_index(\"team_name\")[\"team_id\"].to_dict()\n",
    ")"
   ]
  },
  {
   "cell_type": "code",
   "execution_count": 13,
   "metadata": {},
   "outputs": [
    {
     "data": {
      "application/javascript": [
       "\n",
       "            setTimeout(function() {\n",
       "                var nbb_cell_id = 13;\n",
       "                var nbb_unformatted_code = \"dfscore.loc[dfscore[\\\"team_favorite_id\\\"] == dfscore[\\\"team_home\\\"], \\\"home_favorite\\\"] = 1\\ndfscore.loc[dfscore[\\\"team_favorite_id\\\"] == dfscore[\\\"team_away\\\"], \\\"away_favorite\\\"] = 1\\ndfscore[\\\"home_favorite\\\"].fillna(0, inplace=True)\\ndfscore[\\\"away_favorite\\\"].fillna(0, inplace=True)\";\n",
       "                var nbb_formatted_code = \"dfscore.loc[dfscore[\\\"team_favorite_id\\\"] == dfscore[\\\"team_home\\\"], \\\"home_favorite\\\"] = 1\\ndfscore.loc[dfscore[\\\"team_favorite_id\\\"] == dfscore[\\\"team_away\\\"], \\\"away_favorite\\\"] = 1\\ndfscore[\\\"home_favorite\\\"].fillna(0, inplace=True)\\ndfscore[\\\"away_favorite\\\"].fillna(0, inplace=True)\";\n",
       "                var nbb_cells = Jupyter.notebook.get_cells();\n",
       "                for (var i = 0; i < nbb_cells.length; ++i) {\n",
       "                    if (nbb_cells[i].input_prompt_number == nbb_cell_id) {\n",
       "                        if (nbb_cells[i].get_text() == nbb_unformatted_code) {\n",
       "                             nbb_cells[i].set_text(nbb_formatted_code);\n",
       "                        }\n",
       "                        break;\n",
       "                    }\n",
       "                }\n",
       "            }, 500);\n",
       "            "
      ],
      "text/plain": [
       "<IPython.core.display.Javascript object>"
      ]
     },
     "metadata": {},
     "output_type": "display_data"
    }
   ],
   "source": [
    "dfscore.loc[dfscore[\"team_favorite_id\"] == dfscore[\"team_home\"], \"home_favorite\"] = 1\n",
    "dfscore.loc[dfscore[\"team_favorite_id\"] == dfscore[\"team_away\"], \"away_favorite\"] = 1\n",
    "dfscore[\"home_favorite\"].fillna(0, inplace=True)\n",
    "dfscore[\"away_favorite\"].fillna(0, inplace=True)"
   ]
  },
  {
   "cell_type": "code",
   "execution_count": 14,
   "metadata": {},
   "outputs": [
    {
     "data": {
      "text/html": [
       "<div>\n",
       "<style scoped>\n",
       "    .dataframe tbody tr th:only-of-type {\n",
       "        vertical-align: middle;\n",
       "    }\n",
       "\n",
       "    .dataframe tbody tr th {\n",
       "        vertical-align: top;\n",
       "    }\n",
       "\n",
       "    .dataframe thead th {\n",
       "        text-align: right;\n",
       "    }\n",
       "</style>\n",
       "<table border=\"1\" class=\"dataframe\">\n",
       "  <thead>\n",
       "    <tr style=\"text-align: right;\">\n",
       "      <th></th>\n",
       "      <th>schedule_season</th>\n",
       "      <th>schedule_week</th>\n",
       "      <th>team_home</th>\n",
       "      <th>team_away</th>\n",
       "      <th>team_favorite_id</th>\n",
       "      <th>spread_favorite</th>\n",
       "      <th>over_under_line</th>\n",
       "      <th>score_home</th>\n",
       "      <th>score_away</th>\n",
       "      <th>mean_home</th>\n",
       "      <th>mean_away</th>\n",
       "      <th>home_favorite</th>\n",
       "      <th>away_favorite</th>\n",
       "    </tr>\n",
       "  </thead>\n",
       "  <tbody>\n",
       "    <tr>\n",
       "      <th>0</th>\n",
       "      <td>1979</td>\n",
       "      <td>1</td>\n",
       "      <td>TB</td>\n",
       "      <td>DET</td>\n",
       "      <td>TB</td>\n",
       "      <td>-3.0</td>\n",
       "      <td>30.0</td>\n",
       "      <td>31.0</td>\n",
       "      <td>16.0</td>\n",
       "      <td>17.875</td>\n",
       "      <td>10.875</td>\n",
       "      <td>1.0</td>\n",
       "      <td>0.0</td>\n",
       "    </tr>\n",
       "    <tr>\n",
       "      <th>1</th>\n",
       "      <td>1979</td>\n",
       "      <td>10</td>\n",
       "      <td>CHI</td>\n",
       "      <td>DET</td>\n",
       "      <td>CHI</td>\n",
       "      <td>-7.0</td>\n",
       "      <td>35.0</td>\n",
       "      <td>35.0</td>\n",
       "      <td>7.0</td>\n",
       "      <td>22.375</td>\n",
       "      <td>10.875</td>\n",
       "      <td>1.0</td>\n",
       "      <td>0.0</td>\n",
       "    </tr>\n",
       "    <tr>\n",
       "      <th>2</th>\n",
       "      <td>1979</td>\n",
       "      <td>12</td>\n",
       "      <td>MIN</td>\n",
       "      <td>DET</td>\n",
       "      <td>MIN</td>\n",
       "      <td>-4.0</td>\n",
       "      <td>37.0</td>\n",
       "      <td>14.0</td>\n",
       "      <td>7.0</td>\n",
       "      <td>18.875</td>\n",
       "      <td>10.875</td>\n",
       "      <td>1.0</td>\n",
       "      <td>0.0</td>\n",
       "    </tr>\n",
       "    <tr>\n",
       "      <th>3</th>\n",
       "      <td>1979</td>\n",
       "      <td>8</td>\n",
       "      <td>NO</td>\n",
       "      <td>DET</td>\n",
       "      <td>NO</td>\n",
       "      <td>-7.0</td>\n",
       "      <td>42.0</td>\n",
       "      <td>17.0</td>\n",
       "      <td>7.0</td>\n",
       "      <td>21.500</td>\n",
       "      <td>10.875</td>\n",
       "      <td>1.0</td>\n",
       "      <td>0.0</td>\n",
       "    </tr>\n",
       "    <tr>\n",
       "      <th>4</th>\n",
       "      <td>1979</td>\n",
       "      <td>3</td>\n",
       "      <td>NYJ</td>\n",
       "      <td>DET</td>\n",
       "      <td>NYJ</td>\n",
       "      <td>-6.0</td>\n",
       "      <td>42.0</td>\n",
       "      <td>31.0</td>\n",
       "      <td>10.0</td>\n",
       "      <td>24.625</td>\n",
       "      <td>10.875</td>\n",
       "      <td>1.0</td>\n",
       "      <td>0.0</td>\n",
       "    </tr>\n",
       "    <tr>\n",
       "      <th>5</th>\n",
       "      <td>1979</td>\n",
       "      <td>14</td>\n",
       "      <td>PHI</td>\n",
       "      <td>DET</td>\n",
       "      <td>PHI</td>\n",
       "      <td>-8.0</td>\n",
       "      <td>37.0</td>\n",
       "      <td>44.0</td>\n",
       "      <td>7.0</td>\n",
       "      <td>21.750</td>\n",
       "      <td>10.875</td>\n",
       "      <td>1.0</td>\n",
       "      <td>0.0</td>\n",
       "    </tr>\n",
       "    <tr>\n",
       "      <th>6</th>\n",
       "      <td>1979</td>\n",
       "      <td>6</td>\n",
       "      <td>NE</td>\n",
       "      <td>DET</td>\n",
       "      <td>NE</td>\n",
       "      <td>-13.0</td>\n",
       "      <td>40.0</td>\n",
       "      <td>24.0</td>\n",
       "      <td>17.0</td>\n",
       "      <td>29.750</td>\n",
       "      <td>10.875</td>\n",
       "      <td>1.0</td>\n",
       "      <td>0.0</td>\n",
       "    </tr>\n",
       "    <tr>\n",
       "      <th>7</th>\n",
       "      <td>1979</td>\n",
       "      <td>7</td>\n",
       "      <td>GB</td>\n",
       "      <td>DET</td>\n",
       "      <td>GB</td>\n",
       "      <td>-4.0</td>\n",
       "      <td>36.0</td>\n",
       "      <td>24.0</td>\n",
       "      <td>16.0</td>\n",
       "      <td>19.250</td>\n",
       "      <td>10.875</td>\n",
       "      <td>1.0</td>\n",
       "      <td>0.0</td>\n",
       "    </tr>\n",
       "    <tr>\n",
       "      <th>8</th>\n",
       "      <td>1979</td>\n",
       "      <td>4</td>\n",
       "      <td>TB</td>\n",
       "      <td>LAR</td>\n",
       "      <td>LAR</td>\n",
       "      <td>-3.0</td>\n",
       "      <td>35.0</td>\n",
       "      <td>21.0</td>\n",
       "      <td>6.0</td>\n",
       "      <td>17.875</td>\n",
       "      <td>20.875</td>\n",
       "      <td>0.0</td>\n",
       "      <td>1.0</td>\n",
       "    </tr>\n",
       "    <tr>\n",
       "      <th>9</th>\n",
       "      <td>1979</td>\n",
       "      <td>11</td>\n",
       "      <td>CHI</td>\n",
       "      <td>LAR</td>\n",
       "      <td>PICK</td>\n",
       "      <td>0.0</td>\n",
       "      <td>34.0</td>\n",
       "      <td>27.0</td>\n",
       "      <td>23.0</td>\n",
       "      <td>22.375</td>\n",
       "      <td>20.875</td>\n",
       "      <td>0.0</td>\n",
       "      <td>0.0</td>\n",
       "    </tr>\n",
       "  </tbody>\n",
       "</table>\n",
       "</div>"
      ],
      "text/plain": [
       "   schedule_season schedule_week team_home team_away team_favorite_id  \\\n",
       "0             1979             1        TB       DET               TB   \n",
       "1             1979            10       CHI       DET              CHI   \n",
       "2             1979            12       MIN       DET              MIN   \n",
       "3             1979             8        NO       DET               NO   \n",
       "4             1979             3       NYJ       DET              NYJ   \n",
       "5             1979            14       PHI       DET              PHI   \n",
       "6             1979             6        NE       DET               NE   \n",
       "7             1979             7        GB       DET               GB   \n",
       "8             1979             4        TB       LAR              LAR   \n",
       "9             1979            11       CHI       LAR             PICK   \n",
       "\n",
       "   spread_favorite  over_under_line  score_home  score_away  mean_home  \\\n",
       "0             -3.0             30.0        31.0        16.0     17.875   \n",
       "1             -7.0             35.0        35.0         7.0     22.375   \n",
       "2             -4.0             37.0        14.0         7.0     18.875   \n",
       "3             -7.0             42.0        17.0         7.0     21.500   \n",
       "4             -6.0             42.0        31.0        10.0     24.625   \n",
       "5             -8.0             37.0        44.0         7.0     21.750   \n",
       "6            -13.0             40.0        24.0        17.0     29.750   \n",
       "7             -4.0             36.0        24.0        16.0     19.250   \n",
       "8             -3.0             35.0        21.0         6.0     17.875   \n",
       "9              0.0             34.0        27.0        23.0     22.375   \n",
       "\n",
       "   mean_away  home_favorite  away_favorite  \n",
       "0     10.875            1.0            0.0  \n",
       "1     10.875            1.0            0.0  \n",
       "2     10.875            1.0            0.0  \n",
       "3     10.875            1.0            0.0  \n",
       "4     10.875            1.0            0.0  \n",
       "5     10.875            1.0            0.0  \n",
       "6     10.875            1.0            0.0  \n",
       "7     10.875            1.0            0.0  \n",
       "8     20.875            0.0            1.0  \n",
       "9     20.875            0.0            0.0  "
      ]
     },
     "execution_count": 14,
     "metadata": {},
     "output_type": "execute_result"
    },
    {
     "data": {
      "application/javascript": [
       "\n",
       "            setTimeout(function() {\n",
       "                var nbb_cell_id = 14;\n",
       "                var nbb_unformatted_code = \"dfscore.head(10)\";\n",
       "                var nbb_formatted_code = \"dfscore.head(10)\";\n",
       "                var nbb_cells = Jupyter.notebook.get_cells();\n",
       "                for (var i = 0; i < nbb_cells.length; ++i) {\n",
       "                    if (nbb_cells[i].input_prompt_number == nbb_cell_id) {\n",
       "                        if (nbb_cells[i].get_text() == nbb_unformatted_code) {\n",
       "                             nbb_cells[i].set_text(nbb_formatted_code);\n",
       "                        }\n",
       "                        break;\n",
       "                    }\n",
       "                }\n",
       "            }, 500);\n",
       "            "
      ],
      "text/plain": [
       "<IPython.core.display.Javascript object>"
      ]
     },
     "metadata": {},
     "output_type": "display_data"
    }
   ],
   "source": [
    "dfscore.head(10)"
   ]
  },
  {
   "cell_type": "code",
   "execution_count": 15,
   "metadata": {},
   "outputs": [
    {
     "data": {
      "application/javascript": [
       "\n",
       "            setTimeout(function() {\n",
       "                var nbb_cell_id = 15;\n",
       "                var nbb_unformatted_code = \"dfscore.loc[\\n    ((dfscore[\\\"score_home\\\"] + dfscore[\\\"score_away\\\"]) > dfscore[\\\"over_under_line\\\"]),\\n    \\\"is_over\\\",\\n] = 1\\ndfscore[\\\"is_over\\\"].fillna(0, inplace=True)\";\n",
       "                var nbb_formatted_code = \"dfscore.loc[\\n    ((dfscore[\\\"score_home\\\"] + dfscore[\\\"score_away\\\"]) > dfscore[\\\"over_under_line\\\"]),\\n    \\\"is_over\\\",\\n] = 1\\ndfscore[\\\"is_over\\\"].fillna(0, inplace=True)\";\n",
       "                var nbb_cells = Jupyter.notebook.get_cells();\n",
       "                for (var i = 0; i < nbb_cells.length; ++i) {\n",
       "                    if (nbb_cells[i].input_prompt_number == nbb_cell_id) {\n",
       "                        if (nbb_cells[i].get_text() == nbb_unformatted_code) {\n",
       "                             nbb_cells[i].set_text(nbb_formatted_code);\n",
       "                        }\n",
       "                        break;\n",
       "                    }\n",
       "                }\n",
       "            }, 500);\n",
       "            "
      ],
      "text/plain": [
       "<IPython.core.display.Javascript object>"
      ]
     },
     "metadata": {},
     "output_type": "display_data"
    }
   ],
   "source": [
    "dfscore.loc[\n",
    "    ((dfscore[\"score_home\"] + dfscore[\"score_away\"]) > dfscore[\"over_under_line\"]),\n",
    "    \"is_over\",\n",
    "] = 1\n",
    "dfscore[\"is_over\"].fillna(0, inplace=True)"
   ]
  },
  {
   "cell_type": "code",
   "execution_count": 16,
   "metadata": {},
   "outputs": [
    {
     "data": {
      "application/javascript": [
       "\n",
       "            setTimeout(function() {\n",
       "                var nbb_cell_id = 16;\n",
       "                var nbb_unformatted_code = \"# To Do, create feature column to show if favorited team made spread\\n# create a 2nd column to see if they simply won. \\n\\n#if dfscore['home_favorite'] == 1:\\n#    ((dfscore[\\\"score_home\\\"] - dfscore[\\\"score_away\\\"]) > dfscore[\\\"spread_favorite\\\"])\\n#    elif \\n#    \";\n",
       "                var nbb_formatted_code = \"# To Do, create feature column to show if favorited team made spread\\n# create a 2nd column to see if they simply won.\\n\\n# if dfscore['home_favorite'] == 1:\\n#    ((dfscore[\\\"score_home\\\"] - dfscore[\\\"score_away\\\"]) > dfscore[\\\"spread_favorite\\\"])\\n#    elif\\n#\";\n",
       "                var nbb_cells = Jupyter.notebook.get_cells();\n",
       "                for (var i = 0; i < nbb_cells.length; ++i) {\n",
       "                    if (nbb_cells[i].input_prompt_number == nbb_cell_id) {\n",
       "                        if (nbb_cells[i].get_text() == nbb_unformatted_code) {\n",
       "                             nbb_cells[i].set_text(nbb_formatted_code);\n",
       "                        }\n",
       "                        break;\n",
       "                    }\n",
       "                }\n",
       "            }, 500);\n",
       "            "
      ],
      "text/plain": [
       "<IPython.core.display.Javascript object>"
      ]
     },
     "metadata": {},
     "output_type": "display_data"
    }
   ],
   "source": [
    "# To Do, create feature column to show if favorited team made spread\n",
    "# create a 2nd column to see if they simply won. \n",
    "\n",
    "#if dfscore['home_favorite'] == 1:\n",
    "#    ((dfscore[\"score_home\"] - dfscore[\"score_away\"]) > dfscore[\"spread_favorite\"])\n",
    "#    elif \n",
    "#    \n"
   ]
  },
  {
   "cell_type": "code",
   "execution_count": 17,
   "metadata": {},
   "outputs": [
    {
     "data": {
      "application/javascript": [
       "\n",
       "            setTimeout(function() {\n",
       "                var nbb_cell_id = 17;\n",
       "                var nbb_unformatted_code = \"# pd.crosstab(dfscore[\\\"team_away\\\"], dfscore[\\\"is_over\\\"])\";\n",
       "                var nbb_formatted_code = \"# pd.crosstab(dfscore[\\\"team_away\\\"], dfscore[\\\"is_over\\\"])\";\n",
       "                var nbb_cells = Jupyter.notebook.get_cells();\n",
       "                for (var i = 0; i < nbb_cells.length; ++i) {\n",
       "                    if (nbb_cells[i].input_prompt_number == nbb_cell_id) {\n",
       "                        if (nbb_cells[i].get_text() == nbb_unformatted_code) {\n",
       "                             nbb_cells[i].set_text(nbb_formatted_code);\n",
       "                        }\n",
       "                        break;\n",
       "                    }\n",
       "                }\n",
       "            }, 500);\n",
       "            "
      ],
      "text/plain": [
       "<IPython.core.display.Javascript object>"
      ]
     },
     "metadata": {},
     "output_type": "display_data"
    }
   ],
   "source": [
    "# pd.crosstab(dfscore[\"team_away\"], dfscore[\"is_over\"])"
   ]
  },
  {
   "cell_type": "code",
   "execution_count": 18,
   "metadata": {},
   "outputs": [
    {
     "data": {
      "application/javascript": [
       "\n",
       "            setTimeout(function() {\n",
       "                var nbb_cell_id = 18;\n",
       "                var nbb_unformatted_code = \"# dfscore[\\\"total_pts\\\"] = dfscore[\\\"score_home\\\"] + dfscore[\\\"score_away\\\"]\";\n",
       "                var nbb_formatted_code = \"# dfscore[\\\"total_pts\\\"] = dfscore[\\\"score_home\\\"] + dfscore[\\\"score_away\\\"]\";\n",
       "                var nbb_cells = Jupyter.notebook.get_cells();\n",
       "                for (var i = 0; i < nbb_cells.length; ++i) {\n",
       "                    if (nbb_cells[i].input_prompt_number == nbb_cell_id) {\n",
       "                        if (nbb_cells[i].get_text() == nbb_unformatted_code) {\n",
       "                             nbb_cells[i].set_text(nbb_formatted_code);\n",
       "                        }\n",
       "                        break;\n",
       "                    }\n",
       "                }\n",
       "            }, 500);\n",
       "            "
      ],
      "text/plain": [
       "<IPython.core.display.Javascript object>"
      ]
     },
     "metadata": {},
     "output_type": "display_data"
    }
   ],
   "source": [
    "# dfscore[\"total_pts\"] = dfscore[\"score_home\"] + dfscore[\"score_away\"]"
   ]
  },
  {
   "cell_type": "code",
   "execution_count": 19,
   "metadata": {},
   "outputs": [
    {
     "data": {
      "application/javascript": [
       "\n",
       "            setTimeout(function() {\n",
       "                var nbb_cell_id = 19;\n",
       "                var nbb_unformatted_code = \"dfscore_copy = dfscore.copy()\";\n",
       "                var nbb_formatted_code = \"dfscore_copy = dfscore.copy()\";\n",
       "                var nbb_cells = Jupyter.notebook.get_cells();\n",
       "                for (var i = 0; i < nbb_cells.length; ++i) {\n",
       "                    if (nbb_cells[i].input_prompt_number == nbb_cell_id) {\n",
       "                        if (nbb_cells[i].get_text() == nbb_unformatted_code) {\n",
       "                             nbb_cells[i].set_text(nbb_formatted_code);\n",
       "                        }\n",
       "                        break;\n",
       "                    }\n",
       "                }\n",
       "            }, 500);\n",
       "            "
      ],
      "text/plain": [
       "<IPython.core.display.Javascript object>"
      ]
     },
     "metadata": {},
     "output_type": "display_data"
    }
   ],
   "source": [
    "dfscore_copy = dfscore.copy()"
   ]
  },
  {
   "cell_type": "code",
   "execution_count": 20,
   "metadata": {},
   "outputs": [
    {
     "data": {
      "text/html": [
       "<div>\n",
       "<style scoped>\n",
       "    .dataframe tbody tr th:only-of-type {\n",
       "        vertical-align: middle;\n",
       "    }\n",
       "\n",
       "    .dataframe tbody tr th {\n",
       "        vertical-align: top;\n",
       "    }\n",
       "\n",
       "    .dataframe thead th {\n",
       "        text-align: right;\n",
       "    }\n",
       "</style>\n",
       "<table border=\"1\" class=\"dataframe\">\n",
       "  <thead>\n",
       "    <tr style=\"text-align: right;\">\n",
       "      <th></th>\n",
       "      <th>schedule_season</th>\n",
       "      <th>schedule_week</th>\n",
       "      <th>team_home</th>\n",
       "      <th>team_away</th>\n",
       "      <th>team_favorite_id</th>\n",
       "      <th>spread_favorite</th>\n",
       "      <th>over_under_line</th>\n",
       "      <th>score_home</th>\n",
       "      <th>score_away</th>\n",
       "      <th>mean_home</th>\n",
       "      <th>mean_away</th>\n",
       "      <th>home_favorite</th>\n",
       "      <th>away_favorite</th>\n",
       "      <th>is_over</th>\n",
       "    </tr>\n",
       "  </thead>\n",
       "  <tbody>\n",
       "    <tr>\n",
       "      <th>0</th>\n",
       "      <td>1979</td>\n",
       "      <td>1</td>\n",
       "      <td>TB</td>\n",
       "      <td>DET</td>\n",
       "      <td>TB</td>\n",
       "      <td>-3.0</td>\n",
       "      <td>30.0</td>\n",
       "      <td>31.0</td>\n",
       "      <td>16.0</td>\n",
       "      <td>17.875</td>\n",
       "      <td>10.875</td>\n",
       "      <td>1.0</td>\n",
       "      <td>0.0</td>\n",
       "      <td>1.0</td>\n",
       "    </tr>\n",
       "    <tr>\n",
       "      <th>1</th>\n",
       "      <td>1979</td>\n",
       "      <td>10</td>\n",
       "      <td>CHI</td>\n",
       "      <td>DET</td>\n",
       "      <td>CHI</td>\n",
       "      <td>-7.0</td>\n",
       "      <td>35.0</td>\n",
       "      <td>35.0</td>\n",
       "      <td>7.0</td>\n",
       "      <td>22.375</td>\n",
       "      <td>10.875</td>\n",
       "      <td>1.0</td>\n",
       "      <td>0.0</td>\n",
       "      <td>1.0</td>\n",
       "    </tr>\n",
       "    <tr>\n",
       "      <th>2</th>\n",
       "      <td>1979</td>\n",
       "      <td>12</td>\n",
       "      <td>MIN</td>\n",
       "      <td>DET</td>\n",
       "      <td>MIN</td>\n",
       "      <td>-4.0</td>\n",
       "      <td>37.0</td>\n",
       "      <td>14.0</td>\n",
       "      <td>7.0</td>\n",
       "      <td>18.875</td>\n",
       "      <td>10.875</td>\n",
       "      <td>1.0</td>\n",
       "      <td>0.0</td>\n",
       "      <td>0.0</td>\n",
       "    </tr>\n",
       "    <tr>\n",
       "      <th>3</th>\n",
       "      <td>1979</td>\n",
       "      <td>8</td>\n",
       "      <td>NO</td>\n",
       "      <td>DET</td>\n",
       "      <td>NO</td>\n",
       "      <td>-7.0</td>\n",
       "      <td>42.0</td>\n",
       "      <td>17.0</td>\n",
       "      <td>7.0</td>\n",
       "      <td>21.500</td>\n",
       "      <td>10.875</td>\n",
       "      <td>1.0</td>\n",
       "      <td>0.0</td>\n",
       "      <td>0.0</td>\n",
       "    </tr>\n",
       "    <tr>\n",
       "      <th>4</th>\n",
       "      <td>1979</td>\n",
       "      <td>3</td>\n",
       "      <td>NYJ</td>\n",
       "      <td>DET</td>\n",
       "      <td>NYJ</td>\n",
       "      <td>-6.0</td>\n",
       "      <td>42.0</td>\n",
       "      <td>31.0</td>\n",
       "      <td>10.0</td>\n",
       "      <td>24.625</td>\n",
       "      <td>10.875</td>\n",
       "      <td>1.0</td>\n",
       "      <td>0.0</td>\n",
       "      <td>0.0</td>\n",
       "    </tr>\n",
       "  </tbody>\n",
       "</table>\n",
       "</div>"
      ],
      "text/plain": [
       "   schedule_season schedule_week team_home team_away team_favorite_id  \\\n",
       "0             1979             1        TB       DET               TB   \n",
       "1             1979            10       CHI       DET              CHI   \n",
       "2             1979            12       MIN       DET              MIN   \n",
       "3             1979             8        NO       DET               NO   \n",
       "4             1979             3       NYJ       DET              NYJ   \n",
       "\n",
       "   spread_favorite  over_under_line  score_home  score_away  mean_home  \\\n",
       "0             -3.0             30.0        31.0        16.0     17.875   \n",
       "1             -7.0             35.0        35.0         7.0     22.375   \n",
       "2             -4.0             37.0        14.0         7.0     18.875   \n",
       "3             -7.0             42.0        17.0         7.0     21.500   \n",
       "4             -6.0             42.0        31.0        10.0     24.625   \n",
       "\n",
       "   mean_away  home_favorite  away_favorite  is_over  \n",
       "0     10.875            1.0            0.0      1.0  \n",
       "1     10.875            1.0            0.0      1.0  \n",
       "2     10.875            1.0            0.0      0.0  \n",
       "3     10.875            1.0            0.0      0.0  \n",
       "4     10.875            1.0            0.0      0.0  "
      ]
     },
     "execution_count": 20,
     "metadata": {},
     "output_type": "execute_result"
    },
    {
     "data": {
      "application/javascript": [
       "\n",
       "            setTimeout(function() {\n",
       "                var nbb_cell_id = 20;\n",
       "                var nbb_unformatted_code = \"dfscore.head()\";\n",
       "                var nbb_formatted_code = \"dfscore.head()\";\n",
       "                var nbb_cells = Jupyter.notebook.get_cells();\n",
       "                for (var i = 0; i < nbb_cells.length; ++i) {\n",
       "                    if (nbb_cells[i].input_prompt_number == nbb_cell_id) {\n",
       "                        if (nbb_cells[i].get_text() == nbb_unformatted_code) {\n",
       "                             nbb_cells[i].set_text(nbb_formatted_code);\n",
       "                        }\n",
       "                        break;\n",
       "                    }\n",
       "                }\n",
       "            }, 500);\n",
       "            "
      ],
      "text/plain": [
       "<IPython.core.display.Javascript object>"
      ]
     },
     "metadata": {},
     "output_type": "display_data"
    }
   ],
   "source": [
    "dfscore.head()"
   ]
  },
  {
   "cell_type": "code",
   "execution_count": 21,
   "metadata": {},
   "outputs": [
    {
     "data": {
      "application/javascript": [
       "\n",
       "            setTimeout(function() {\n",
       "                var nbb_cell_id = 21;\n",
       "                var nbb_unformatted_code = \"dfscore.loc[(dfscore.schedule_week == \\\"18\\\"), \\\"schedule_week\\\"] = \\\"17\\\"\\ndfscore.loc[\\n    (dfscore.schedule_week == \\\"Wildcard\\\") | (dfscore.schedule_week == \\\"WildCard\\\"),\\n    \\\"schedule_week\\\",\\n] = \\\"18\\\"\\ndfscore.loc[(dfscore.schedule_week == \\\"Division\\\"), \\\"schedule_week\\\"] = \\\"19\\\"\\ndfscore.loc[(dfscore.schedule_week == \\\"Conference\\\"), \\\"schedule_week\\\"] = \\\"20\\\"\\ndfscore.loc[\\n    (dfscore.schedule_week == \\\"Superbowl\\\") | (dfscore.schedule_week == \\\"SuperBowl\\\"),\\n    \\\"schedule_week\\\",\\n] = \\\"21\\\"\\ndfscore[\\\"schedule_week\\\"] = dfscore.schedule_week.astype(int)\";\n",
       "                var nbb_formatted_code = \"dfscore.loc[(dfscore.schedule_week == \\\"18\\\"), \\\"schedule_week\\\"] = \\\"17\\\"\\ndfscore.loc[\\n    (dfscore.schedule_week == \\\"Wildcard\\\") | (dfscore.schedule_week == \\\"WildCard\\\"),\\n    \\\"schedule_week\\\",\\n] = \\\"18\\\"\\ndfscore.loc[(dfscore.schedule_week == \\\"Division\\\"), \\\"schedule_week\\\"] = \\\"19\\\"\\ndfscore.loc[(dfscore.schedule_week == \\\"Conference\\\"), \\\"schedule_week\\\"] = \\\"20\\\"\\ndfscore.loc[\\n    (dfscore.schedule_week == \\\"Superbowl\\\") | (dfscore.schedule_week == \\\"SuperBowl\\\"),\\n    \\\"schedule_week\\\",\\n] = \\\"21\\\"\\ndfscore[\\\"schedule_week\\\"] = dfscore.schedule_week.astype(int)\";\n",
       "                var nbb_cells = Jupyter.notebook.get_cells();\n",
       "                for (var i = 0; i < nbb_cells.length; ++i) {\n",
       "                    if (nbb_cells[i].input_prompt_number == nbb_cell_id) {\n",
       "                        if (nbb_cells[i].get_text() == nbb_unformatted_code) {\n",
       "                             nbb_cells[i].set_text(nbb_formatted_code);\n",
       "                        }\n",
       "                        break;\n",
       "                    }\n",
       "                }\n",
       "            }, 500);\n",
       "            "
      ],
      "text/plain": [
       "<IPython.core.display.Javascript object>"
      ]
     },
     "metadata": {},
     "output_type": "display_data"
    }
   ],
   "source": [
    "dfscore.loc[(dfscore.schedule_week == \"18\"), \"schedule_week\"] = \"17\"\n",
    "dfscore.loc[\n",
    "    (dfscore.schedule_week == \"Wildcard\") | (dfscore.schedule_week == \"WildCard\"),\n",
    "    \"schedule_week\",\n",
    "] = \"18\"\n",
    "dfscore.loc[(dfscore.schedule_week == \"Division\"), \"schedule_week\"] = \"19\"\n",
    "dfscore.loc[(dfscore.schedule_week == \"Conference\"), \"schedule_week\"] = \"20\"\n",
    "dfscore.loc[\n",
    "    (dfscore.schedule_week == \"Superbowl\") | (dfscore.schedule_week == \"SuperBowl\"),\n",
    "    \"schedule_week\",\n",
    "] = \"21\"\n",
    "dfscore[\"schedule_week\"] = dfscore.schedule_week.astype(int)"
   ]
  },
  {
   "cell_type": "code",
   "execution_count": 22,
   "metadata": {},
   "outputs": [
    {
     "data": {
      "text/plain": [
       "0         1\n",
       "1        10\n",
       "2        12\n",
       "3         8\n",
       "4         3\n",
       "         ..\n",
       "10229     5\n",
       "10230     2\n",
       "10231     7\n",
       "10232     5\n",
       "10233     4\n",
       "Name: schedule_week, Length: 10234, dtype: int64"
      ]
     },
     "execution_count": 22,
     "metadata": {},
     "output_type": "execute_result"
    },
    {
     "data": {
      "application/javascript": [
       "\n",
       "            setTimeout(function() {\n",
       "                var nbb_cell_id = 22;\n",
       "                var nbb_unformatted_code = \"dfscore[\\\"schedule_week\\\"]\";\n",
       "                var nbb_formatted_code = \"dfscore[\\\"schedule_week\\\"]\";\n",
       "                var nbb_cells = Jupyter.notebook.get_cells();\n",
       "                for (var i = 0; i < nbb_cells.length; ++i) {\n",
       "                    if (nbb_cells[i].input_prompt_number == nbb_cell_id) {\n",
       "                        if (nbb_cells[i].get_text() == nbb_unformatted_code) {\n",
       "                             nbb_cells[i].set_text(nbb_formatted_code);\n",
       "                        }\n",
       "                        break;\n",
       "                    }\n",
       "                }\n",
       "            }, 500);\n",
       "            "
      ],
      "text/plain": [
       "<IPython.core.display.Javascript object>"
      ]
     },
     "metadata": {},
     "output_type": "display_data"
    }
   ],
   "source": [
    "dfscore[\"schedule_week\"]"
   ]
  },
  {
   "cell_type": "code",
   "execution_count": 23,
   "metadata": {},
   "outputs": [
    {
     "data": {
      "application/javascript": [
       "\n",
       "            setTimeout(function() {\n",
       "                var nbb_cell_id = 23;\n",
       "                var nbb_unformatted_code = \"dfss = dfscore[(dfscore[\\\"schedule_week\\\"] >= 3) & (dfscore[\\\"schedule_week\\\"] <= 15)]\";\n",
       "                var nbb_formatted_code = \"dfss = dfscore[(dfscore[\\\"schedule_week\\\"] >= 3) & (dfscore[\\\"schedule_week\\\"] <= 15)]\";\n",
       "                var nbb_cells = Jupyter.notebook.get_cells();\n",
       "                for (var i = 0; i < nbb_cells.length; ++i) {\n",
       "                    if (nbb_cells[i].input_prompt_number == nbb_cell_id) {\n",
       "                        if (nbb_cells[i].get_text() == nbb_unformatted_code) {\n",
       "                             nbb_cells[i].set_text(nbb_formatted_code);\n",
       "                        }\n",
       "                        break;\n",
       "                    }\n",
       "                }\n",
       "            }, 500);\n",
       "            "
      ],
      "text/plain": [
       "<IPython.core.display.Javascript object>"
      ]
     },
     "metadata": {},
     "output_type": "display_data"
    }
   ],
   "source": [
    "dfss = dfscore[(dfscore[\"schedule_week\"] >= 3) & (dfscore[\"schedule_week\"] <= 15)]\n"
   ]
  },
  {
   "cell_type": "code",
   "execution_count": 24,
   "metadata": {},
   "outputs": [
    {
     "data": {
      "text/html": [
       "<div>\n",
       "<style scoped>\n",
       "    .dataframe tbody tr th:only-of-type {\n",
       "        vertical-align: middle;\n",
       "    }\n",
       "\n",
       "    .dataframe tbody tr th {\n",
       "        vertical-align: top;\n",
       "    }\n",
       "\n",
       "    .dataframe thead th {\n",
       "        text-align: right;\n",
       "    }\n",
       "</style>\n",
       "<table border=\"1\" class=\"dataframe\">\n",
       "  <thead>\n",
       "    <tr style=\"text-align: right;\">\n",
       "      <th></th>\n",
       "      <th>schedule_season</th>\n",
       "      <th>schedule_week</th>\n",
       "      <th>team</th>\n",
       "      <th>score</th>\n",
       "      <th>score_lag_1</th>\n",
       "      <th>score_lag_2</th>\n",
       "    </tr>\n",
       "  </thead>\n",
       "  <tbody>\n",
       "    <tr>\n",
       "      <th>187</th>\n",
       "      <td>1979</td>\n",
       "      <td>1</td>\n",
       "      <td>ARI</td>\n",
       "      <td>21.0</td>\n",
       "      <td>NaN</td>\n",
       "      <td>NaN</td>\n",
       "    </tr>\n",
       "    <tr>\n",
       "      <th>124</th>\n",
       "      <td>1979</td>\n",
       "      <td>2</td>\n",
       "      <td>ARI</td>\n",
       "      <td>27.0</td>\n",
       "      <td>21.0</td>\n",
       "      <td>NaN</td>\n",
       "    </tr>\n",
       "    <tr>\n",
       "      <th>163</th>\n",
       "      <td>1979</td>\n",
       "      <td>3</td>\n",
       "      <td>ARI</td>\n",
       "      <td>21.0</td>\n",
       "      <td>27.0</td>\n",
       "      <td>21.0</td>\n",
       "    </tr>\n",
       "    <tr>\n",
       "      <th>210</th>\n",
       "      <td>1979</td>\n",
       "      <td>4</td>\n",
       "      <td>ARI</td>\n",
       "      <td>7.0</td>\n",
       "      <td>21.0</td>\n",
       "      <td>27.0</td>\n",
       "    </tr>\n",
       "    <tr>\n",
       "      <th>121</th>\n",
       "      <td>1979</td>\n",
       "      <td>5</td>\n",
       "      <td>ARI</td>\n",
       "      <td>0.0</td>\n",
       "      <td>7.0</td>\n",
       "      <td>21.0</td>\n",
       "    </tr>\n",
       "  </tbody>\n",
       "</table>\n",
       "</div>"
      ],
      "text/plain": [
       "     schedule_season  schedule_week team  score  score_lag_1  score_lag_2\n",
       "187             1979              1  ARI   21.0          NaN          NaN\n",
       "124             1979              2  ARI   27.0         21.0          NaN\n",
       "163             1979              3  ARI   21.0         27.0         21.0\n",
       "210             1979              4  ARI    7.0         21.0         27.0\n",
       "121             1979              5  ARI    0.0          7.0         21.0"
      ]
     },
     "execution_count": 24,
     "metadata": {},
     "output_type": "execute_result"
    },
    {
     "data": {
      "application/javascript": [
       "\n",
       "            setTimeout(function() {\n",
       "                var nbb_cell_id = 24;\n",
       "                var nbb_unformatted_code = \"home_score_df = dfscore[[\\\"schedule_season\\\", \\\"schedule_week\\\", \\\"team_home\\\", \\\"score_home\\\"]]\\nhome_score_df = home_score_df.rename(\\n    columns={\\\"team_home\\\": \\\"team\\\", \\\"score_home\\\": \\\"score\\\"}\\n)\\naway_score_df = dfscore[[\\\"schedule_season\\\", \\\"schedule_week\\\", \\\"team_away\\\", \\\"score_away\\\"]]\\naway_score_df = away_score_df.rename(\\n    columns={\\\"team_away\\\": \\\"team\\\", \\\"score_away\\\": \\\"score\\\"}\\n)\\nscore_df = pd.concat((away_score_df, home_score_df))\\nscore_df = score_df.sort_values([\\\"schedule_season\\\", \\\"team\\\", \\\"schedule_week\\\"])\\n\\n\\n# Create lag variables for a team's prior 2 game scores\\nscore_df[\\\"score_lag_1\\\"] = score_df.groupby([\\\"schedule_season\\\", \\\"team\\\"])[\\\"score\\\"].shift(\\n    periods=1\\n)\\nscore_df[\\\"score_lag_2\\\"] = score_df.groupby([\\\"schedule_season\\\", \\\"team\\\"])[\\\"score\\\"].shift(\\n    periods=2\\n)\\n\\nscore_df.head()\";\n",
       "                var nbb_formatted_code = \"home_score_df = dfscore[[\\\"schedule_season\\\", \\\"schedule_week\\\", \\\"team_home\\\", \\\"score_home\\\"]]\\nhome_score_df = home_score_df.rename(\\n    columns={\\\"team_home\\\": \\\"team\\\", \\\"score_home\\\": \\\"score\\\"}\\n)\\naway_score_df = dfscore[[\\\"schedule_season\\\", \\\"schedule_week\\\", \\\"team_away\\\", \\\"score_away\\\"]]\\naway_score_df = away_score_df.rename(\\n    columns={\\\"team_away\\\": \\\"team\\\", \\\"score_away\\\": \\\"score\\\"}\\n)\\nscore_df = pd.concat((away_score_df, home_score_df))\\nscore_df = score_df.sort_values([\\\"schedule_season\\\", \\\"team\\\", \\\"schedule_week\\\"])\\n\\n\\n# Create lag variables for a team's prior 2 game scores\\nscore_df[\\\"score_lag_1\\\"] = score_df.groupby([\\\"schedule_season\\\", \\\"team\\\"])[\\\"score\\\"].shift(\\n    periods=1\\n)\\nscore_df[\\\"score_lag_2\\\"] = score_df.groupby([\\\"schedule_season\\\", \\\"team\\\"])[\\\"score\\\"].shift(\\n    periods=2\\n)\\n\\nscore_df.head()\";\n",
       "                var nbb_cells = Jupyter.notebook.get_cells();\n",
       "                for (var i = 0; i < nbb_cells.length; ++i) {\n",
       "                    if (nbb_cells[i].input_prompt_number == nbb_cell_id) {\n",
       "                        if (nbb_cells[i].get_text() == nbb_unformatted_code) {\n",
       "                             nbb_cells[i].set_text(nbb_formatted_code);\n",
       "                        }\n",
       "                        break;\n",
       "                    }\n",
       "                }\n",
       "            }, 500);\n",
       "            "
      ],
      "text/plain": [
       "<IPython.core.display.Javascript object>"
      ]
     },
     "metadata": {},
     "output_type": "display_data"
    }
   ],
   "source": [
    "home_score_df = dfscore[[\"schedule_season\", \"schedule_week\", \"team_home\", \"score_home\"]]\n",
    "home_score_df = home_score_df.rename(\n",
    "    columns={\"team_home\": \"team\", \"score_home\": \"score\"}\n",
    ")\n",
    "away_score_df = dfscore[[\"schedule_season\", \"schedule_week\", \"team_away\", \"score_away\"]]\n",
    "away_score_df = away_score_df.rename(\n",
    "    columns={\"team_away\": \"team\", \"score_away\": \"score\"}\n",
    ")\n",
    "score_df = pd.concat((away_score_df, home_score_df))\n",
    "score_df = score_df.sort_values([\"schedule_season\", \"team\", \"schedule_week\"])\n",
    "\n",
    "\n",
    "# Create lag variables for a team's prior 2 game scores\n",
    "score_df[\"score_lag_1\"] = score_df.groupby([\"schedule_season\", \"team\"])[\"score\"].shift(\n",
    "    periods=1\n",
    ")\n",
    "score_df[\"score_lag_2\"] = score_df.groupby([\"schedule_season\", \"team\"])[\"score\"].shift(\n",
    "    periods=2\n",
    ")\n",
    "\n",
    "score_df.head()"
   ]
  },
  {
   "cell_type": "code",
   "execution_count": null,
   "metadata": {},
   "outputs": [],
   "source": []
  },
  {
   "cell_type": "code",
   "execution_count": 40,
   "metadata": {},
   "outputs": [
    {
     "data": {
      "application/javascript": [
       "\n",
       "            setTimeout(function() {\n",
       "                var nbb_cell_id = 40;\n",
       "                var nbb_unformatted_code = \"dfssm = pd.merge(dfss, score_df, left_on=['schedule_season','schedule_week','team_home'], right_on=['schedule_season', 'schedule_week','team'])\\ndfssm = dfssm.rename(columns = {'score_lag_1': 'home_sl_1', 'score_lag_2':'home_sl_2'})\\ndfssm = dfssm.drop(columns= ['score','team'])\\n\\ndfssm = pd.merge(dfssm, score_df, left_on=['schedule_season','schedule_week','team_away'], right_on=['schedule_season', 'schedule_week','team'])\\ndfssm = dfssm.rename(columns = {'score_lag_1': 'away_sl_1', 'score_lag_2':'away_sl_2'})\\ndfssm = dfssm.drop(columns= ['score','team'])\\n\\n#dfss = pd.merge(dfssm, score_df, left_on=['schedule_season','schedule_week','team_away'], right_on=['schedule_season', 'schedule_week','team'])\";\n",
       "                var nbb_formatted_code = \"dfssm = pd.merge(\\n    dfss,\\n    score_df,\\n    left_on=[\\\"schedule_season\\\", \\\"schedule_week\\\", \\\"team_home\\\"],\\n    right_on=[\\\"schedule_season\\\", \\\"schedule_week\\\", \\\"team\\\"],\\n)\\ndfssm = dfssm.rename(columns={\\\"score_lag_1\\\": \\\"home_sl_1\\\", \\\"score_lag_2\\\": \\\"home_sl_2\\\"})\\ndfssm = dfssm.drop(columns=[\\\"score\\\", \\\"team\\\"])\\n\\ndfssm = pd.merge(\\n    dfssm,\\n    score_df,\\n    left_on=[\\\"schedule_season\\\", \\\"schedule_week\\\", \\\"team_away\\\"],\\n    right_on=[\\\"schedule_season\\\", \\\"schedule_week\\\", \\\"team\\\"],\\n)\\ndfssm = dfssm.rename(columns={\\\"score_lag_1\\\": \\\"away_sl_1\\\", \\\"score_lag_2\\\": \\\"away_sl_2\\\"})\\ndfssm = dfssm.drop(columns=[\\\"score\\\", \\\"team\\\"])\\n\\n# dfss = pd.merge(dfssm, score_df, left_on=['schedule_season','schedule_week','team_away'], right_on=['schedule_season', 'schedule_week','team'])\";\n",
       "                var nbb_cells = Jupyter.notebook.get_cells();\n",
       "                for (var i = 0; i < nbb_cells.length; ++i) {\n",
       "                    if (nbb_cells[i].input_prompt_number == nbb_cell_id) {\n",
       "                        if (nbb_cells[i].get_text() == nbb_unformatted_code) {\n",
       "                             nbb_cells[i].set_text(nbb_formatted_code);\n",
       "                        }\n",
       "                        break;\n",
       "                    }\n",
       "                }\n",
       "            }, 500);\n",
       "            "
      ],
      "text/plain": [
       "<IPython.core.display.Javascript object>"
      ]
     },
     "metadata": {},
     "output_type": "display_data"
    }
   ],
   "source": [
    "dfssm = pd.merge(dfss, score_df, left_on=['schedule_season','schedule_week','team_home'], right_on=['schedule_season', 'schedule_week','team'])\n",
    "dfssm = dfssm.rename(columns = {'score_lag_1': 'home_sl_1', 'score_lag_2':'home_sl_2'})\n",
    "dfssm = dfssm.drop(columns= ['score','team'])\n",
    "\n",
    "dfssm = pd.merge(dfssm, score_df, left_on=['schedule_season','schedule_week','team_away'], right_on=['schedule_season', 'schedule_week','team'])\n",
    "dfssm = dfssm.rename(columns = {'score_lag_1': 'away_sl_1', 'score_lag_2':'away_sl_2'})\n",
    "dfssm = dfssm.drop(columns= ['score','team'])\n",
    "\n",
    "#dfss = pd.merge(dfssm, score_df, left_on=['schedule_season','schedule_week','team_away'], right_on=['schedule_season', 'schedule_week','team'])\n"
   ]
  },
  {
   "cell_type": "code",
   "execution_count": 52,
   "metadata": {},
   "outputs": [
    {
     "data": {
      "text/plain": [
       "schedule_season     0\n",
       "schedule_week       0\n",
       "team_home           0\n",
       "team_away           0\n",
       "team_favorite_id    0\n",
       "spread_favorite     0\n",
       "over_under_line     0\n",
       "score_home          0\n",
       "score_away          0\n",
       "mean_home           0\n",
       "mean_away           0\n",
       "home_favorite       0\n",
       "away_favorite       0\n",
       "is_over             0\n",
       "home_sl_1           0\n",
       "home_sl_2           0\n",
       "away_sl_1           0\n",
       "away_sl_2           0\n",
       "dtype: int64"
      ]
     },
     "execution_count": 52,
     "metadata": {},
     "output_type": "execute_result"
    },
    {
     "data": {
      "application/javascript": [
       "\n",
       "            setTimeout(function() {\n",
       "                var nbb_cell_id = 52;\n",
       "                var nbb_unformatted_code = \"dfss = dfssm.dropna()\\ndfss.isna().sum()\";\n",
       "                var nbb_formatted_code = \"dfss = dfssm.dropna()\\ndfss.isna().sum()\";\n",
       "                var nbb_cells = Jupyter.notebook.get_cells();\n",
       "                for (var i = 0; i < nbb_cells.length; ++i) {\n",
       "                    if (nbb_cells[i].input_prompt_number == nbb_cell_id) {\n",
       "                        if (nbb_cells[i].get_text() == nbb_unformatted_code) {\n",
       "                             nbb_cells[i].set_text(nbb_formatted_code);\n",
       "                        }\n",
       "                        break;\n",
       "                    }\n",
       "                }\n",
       "            }, 500);\n",
       "            "
      ],
      "text/plain": [
       "<IPython.core.display.Javascript object>"
      ]
     },
     "metadata": {},
     "output_type": "display_data"
    }
   ],
   "source": [
    "dfss = dfssm.dropna()\n",
    "dfss.isna().sum()"
   ]
  },
  {
   "cell_type": "code",
   "execution_count": 44,
   "metadata": {},
   "outputs": [
    {
     "ename": "KeyError",
     "evalue": "'team'",
     "output_type": "error",
     "traceback": [
      "\u001b[0;31m---------------------------------------------------------------------------\u001b[0m",
      "\u001b[0;31mKeyError\u001b[0m                                  Traceback (most recent call last)",
      "\u001b[0;32m<ipython-input-44-93b971f38ff1>\u001b[0m in \u001b[0;36m<module>\u001b[0;34m\u001b[0m\n\u001b[0;32m----> 1\u001b[0;31m \u001b[0mdfss\u001b[0m\u001b[0;34m[\u001b[0m\u001b[0mdfss\u001b[0m\u001b[0;34m[\u001b[0m\u001b[0;34m'schedule_season'\u001b[0m\u001b[0;34m]\u001b[0m \u001b[0;34m==\u001b[0m \u001b[0;36m2018\u001b[0m\u001b[0;34m]\u001b[0m\u001b[0;34m.\u001b[0m\u001b[0msort_values\u001b[0m\u001b[0;34m(\u001b[0m\u001b[0mby\u001b[0m \u001b[0;34m=\u001b[0m \u001b[0;34m[\u001b[0m\u001b[0;34m'team'\u001b[0m\u001b[0;34m,\u001b[0m \u001b[0;34m'schedule_week'\u001b[0m\u001b[0;34m]\u001b[0m\u001b[0;34m)\u001b[0m\u001b[0;34m.\u001b[0m\u001b[0mhead\u001b[0m\u001b[0;34m(\u001b[0m\u001b[0;36m20\u001b[0m\u001b[0;34m)\u001b[0m\u001b[0;34m\u001b[0m\u001b[0;34m\u001b[0m\u001b[0m\n\u001b[0m",
      "\u001b[0;32m~/opt/anaconda3/lib/python3.8/site-packages/pandas/core/frame.py\u001b[0m in \u001b[0;36msort_values\u001b[0;34m(self, by, axis, ascending, inplace, kind, na_position, ignore_index)\u001b[0m\n\u001b[1;32m   4918\u001b[0m             \u001b[0;32mfrom\u001b[0m \u001b[0mpandas\u001b[0m\u001b[0;34m.\u001b[0m\u001b[0mcore\u001b[0m\u001b[0;34m.\u001b[0m\u001b[0msorting\u001b[0m \u001b[0;32mimport\u001b[0m \u001b[0mlexsort_indexer\u001b[0m\u001b[0;34m\u001b[0m\u001b[0;34m\u001b[0m\u001b[0m\n\u001b[1;32m   4919\u001b[0m \u001b[0;34m\u001b[0m\u001b[0m\n\u001b[0;32m-> 4920\u001b[0;31m             \u001b[0mkeys\u001b[0m \u001b[0;34m=\u001b[0m \u001b[0;34m[\u001b[0m\u001b[0mself\u001b[0m\u001b[0;34m.\u001b[0m\u001b[0m_get_label_or_level_values\u001b[0m\u001b[0;34m(\u001b[0m\u001b[0mx\u001b[0m\u001b[0;34m,\u001b[0m \u001b[0maxis\u001b[0m\u001b[0;34m=\u001b[0m\u001b[0maxis\u001b[0m\u001b[0;34m)\u001b[0m \u001b[0;32mfor\u001b[0m \u001b[0mx\u001b[0m \u001b[0;32min\u001b[0m \u001b[0mby\u001b[0m\u001b[0;34m]\u001b[0m\u001b[0;34m\u001b[0m\u001b[0;34m\u001b[0m\u001b[0m\n\u001b[0m\u001b[1;32m   4921\u001b[0m             \u001b[0mindexer\u001b[0m \u001b[0;34m=\u001b[0m \u001b[0mlexsort_indexer\u001b[0m\u001b[0;34m(\u001b[0m\u001b[0mkeys\u001b[0m\u001b[0;34m,\u001b[0m \u001b[0morders\u001b[0m\u001b[0;34m=\u001b[0m\u001b[0mascending\u001b[0m\u001b[0;34m,\u001b[0m \u001b[0mna_position\u001b[0m\u001b[0;34m=\u001b[0m\u001b[0mna_position\u001b[0m\u001b[0;34m)\u001b[0m\u001b[0;34m\u001b[0m\u001b[0;34m\u001b[0m\u001b[0m\n\u001b[1;32m   4922\u001b[0m             \u001b[0mindexer\u001b[0m \u001b[0;34m=\u001b[0m \u001b[0mensure_platform_int\u001b[0m\u001b[0;34m(\u001b[0m\u001b[0mindexer\u001b[0m\u001b[0;34m)\u001b[0m\u001b[0;34m\u001b[0m\u001b[0;34m\u001b[0m\u001b[0m\n",
      "\u001b[0;32m~/opt/anaconda3/lib/python3.8/site-packages/pandas/core/frame.py\u001b[0m in \u001b[0;36m<listcomp>\u001b[0;34m(.0)\u001b[0m\n\u001b[1;32m   4918\u001b[0m             \u001b[0;32mfrom\u001b[0m \u001b[0mpandas\u001b[0m\u001b[0;34m.\u001b[0m\u001b[0mcore\u001b[0m\u001b[0;34m.\u001b[0m\u001b[0msorting\u001b[0m \u001b[0;32mimport\u001b[0m \u001b[0mlexsort_indexer\u001b[0m\u001b[0;34m\u001b[0m\u001b[0;34m\u001b[0m\u001b[0m\n\u001b[1;32m   4919\u001b[0m \u001b[0;34m\u001b[0m\u001b[0m\n\u001b[0;32m-> 4920\u001b[0;31m             \u001b[0mkeys\u001b[0m \u001b[0;34m=\u001b[0m \u001b[0;34m[\u001b[0m\u001b[0mself\u001b[0m\u001b[0;34m.\u001b[0m\u001b[0m_get_label_or_level_values\u001b[0m\u001b[0;34m(\u001b[0m\u001b[0mx\u001b[0m\u001b[0;34m,\u001b[0m \u001b[0maxis\u001b[0m\u001b[0;34m=\u001b[0m\u001b[0maxis\u001b[0m\u001b[0;34m)\u001b[0m \u001b[0;32mfor\u001b[0m \u001b[0mx\u001b[0m \u001b[0;32min\u001b[0m \u001b[0mby\u001b[0m\u001b[0;34m]\u001b[0m\u001b[0;34m\u001b[0m\u001b[0;34m\u001b[0m\u001b[0m\n\u001b[0m\u001b[1;32m   4921\u001b[0m             \u001b[0mindexer\u001b[0m \u001b[0;34m=\u001b[0m \u001b[0mlexsort_indexer\u001b[0m\u001b[0;34m(\u001b[0m\u001b[0mkeys\u001b[0m\u001b[0;34m,\u001b[0m \u001b[0morders\u001b[0m\u001b[0;34m=\u001b[0m\u001b[0mascending\u001b[0m\u001b[0;34m,\u001b[0m \u001b[0mna_position\u001b[0m\u001b[0;34m=\u001b[0m\u001b[0mna_position\u001b[0m\u001b[0;34m)\u001b[0m\u001b[0;34m\u001b[0m\u001b[0;34m\u001b[0m\u001b[0m\n\u001b[1;32m   4922\u001b[0m             \u001b[0mindexer\u001b[0m \u001b[0;34m=\u001b[0m \u001b[0mensure_platform_int\u001b[0m\u001b[0;34m(\u001b[0m\u001b[0mindexer\u001b[0m\u001b[0;34m)\u001b[0m\u001b[0;34m\u001b[0m\u001b[0;34m\u001b[0m\u001b[0m\n",
      "\u001b[0;32m~/opt/anaconda3/lib/python3.8/site-packages/pandas/core/generic.py\u001b[0m in \u001b[0;36m_get_label_or_level_values\u001b[0;34m(self, key, axis)\u001b[0m\n\u001b[1;32m   1690\u001b[0m             \u001b[0mvalues\u001b[0m \u001b[0;34m=\u001b[0m \u001b[0mself\u001b[0m\u001b[0;34m.\u001b[0m\u001b[0maxes\u001b[0m\u001b[0;34m[\u001b[0m\u001b[0maxis\u001b[0m\u001b[0;34m]\u001b[0m\u001b[0;34m.\u001b[0m\u001b[0mget_level_values\u001b[0m\u001b[0;34m(\u001b[0m\u001b[0mkey\u001b[0m\u001b[0;34m)\u001b[0m\u001b[0;34m.\u001b[0m\u001b[0m_values\u001b[0m\u001b[0;34m\u001b[0m\u001b[0;34m\u001b[0m\u001b[0m\n\u001b[1;32m   1691\u001b[0m         \u001b[0;32melse\u001b[0m\u001b[0;34m:\u001b[0m\u001b[0;34m\u001b[0m\u001b[0;34m\u001b[0m\u001b[0m\n\u001b[0;32m-> 1692\u001b[0;31m             \u001b[0;32mraise\u001b[0m \u001b[0mKeyError\u001b[0m\u001b[0;34m(\u001b[0m\u001b[0mkey\u001b[0m\u001b[0;34m)\u001b[0m\u001b[0;34m\u001b[0m\u001b[0;34m\u001b[0m\u001b[0m\n\u001b[0m\u001b[1;32m   1693\u001b[0m \u001b[0;34m\u001b[0m\u001b[0m\n\u001b[1;32m   1694\u001b[0m         \u001b[0;31m# Check for duplicates\u001b[0m\u001b[0;34m\u001b[0m\u001b[0;34m\u001b[0m\u001b[0;34m\u001b[0m\u001b[0m\n",
      "\u001b[0;31mKeyError\u001b[0m: 'team'"
     ]
    },
    {
     "data": {
      "application/javascript": [
       "\n",
       "            setTimeout(function() {\n",
       "                var nbb_cell_id = 44;\n",
       "                var nbb_unformatted_code = \"dfss[dfss['schedule_season'] == 2018].sort_values(by = ['team', 'schedule_week']).head(20)\";\n",
       "                var nbb_formatted_code = \"dfss[dfss[\\\"schedule_season\\\"] == 2018].sort_values(by=[\\\"team\\\", \\\"schedule_week\\\"]).head(20)\";\n",
       "                var nbb_cells = Jupyter.notebook.get_cells();\n",
       "                for (var i = 0; i < nbb_cells.length; ++i) {\n",
       "                    if (nbb_cells[i].input_prompt_number == nbb_cell_id) {\n",
       "                        if (nbb_cells[i].get_text() == nbb_unformatted_code) {\n",
       "                             nbb_cells[i].set_text(nbb_formatted_code);\n",
       "                        }\n",
       "                        break;\n",
       "                    }\n",
       "                }\n",
       "            }, 500);\n",
       "            "
      ],
      "text/plain": [
       "<IPython.core.display.Javascript object>"
      ]
     },
     "metadata": {},
     "output_type": "display_data"
    }
   ],
   "source": [
    "dfss[dfss['schedule_season'] == 2018].sort_values(by = ['team', 'schedule_week']).head(20)\n"
   ]
  },
  {
   "cell_type": "code",
   "execution_count": null,
   "metadata": {},
   "outputs": [],
   "source": [
    "-"
   ]
  },
  {
   "cell_type": "code",
   "execution_count": 45,
   "metadata": {},
   "outputs": [
    {
     "data": {
      "text/html": [
       "<div>\n",
       "<style scoped>\n",
       "    .dataframe tbody tr th:only-of-type {\n",
       "        vertical-align: middle;\n",
       "    }\n",
       "\n",
       "    .dataframe tbody tr th {\n",
       "        vertical-align: top;\n",
       "    }\n",
       "\n",
       "    .dataframe thead th {\n",
       "        text-align: right;\n",
       "    }\n",
       "</style>\n",
       "<table border=\"1\" class=\"dataframe\">\n",
       "  <thead>\n",
       "    <tr style=\"text-align: right;\">\n",
       "      <th></th>\n",
       "      <th>count</th>\n",
       "      <th>mean</th>\n",
       "      <th>std</th>\n",
       "      <th>min</th>\n",
       "      <th>25%</th>\n",
       "      <th>50%</th>\n",
       "      <th>75%</th>\n",
       "      <th>max</th>\n",
       "    </tr>\n",
       "  </thead>\n",
       "  <tbody>\n",
       "    <tr>\n",
       "      <th>schedule_season</th>\n",
       "      <td>7498.0</td>\n",
       "      <td>1999.939451</td>\n",
       "      <td>11.899542</td>\n",
       "      <td>1979.000</td>\n",
       "      <td>1990.000</td>\n",
       "      <td>2000.000</td>\n",
       "      <td>2010.000000</td>\n",
       "      <td>2020.000000</td>\n",
       "    </tr>\n",
       "    <tr>\n",
       "      <th>schedule_week</th>\n",
       "      <td>7498.0</td>\n",
       "      <td>9.139104</td>\n",
       "      <td>3.779679</td>\n",
       "      <td>3.000</td>\n",
       "      <td>6.000</td>\n",
       "      <td>9.000</td>\n",
       "      <td>12.000000</td>\n",
       "      <td>15.000000</td>\n",
       "    </tr>\n",
       "    <tr>\n",
       "      <th>spread_favorite</th>\n",
       "      <td>7498.0</td>\n",
       "      <td>-5.375967</td>\n",
       "      <td>3.462208</td>\n",
       "      <td>-26.500</td>\n",
       "      <td>-7.000</td>\n",
       "      <td>-4.500</td>\n",
       "      <td>-3.000000</td>\n",
       "      <td>0.000000</td>\n",
       "    </tr>\n",
       "    <tr>\n",
       "      <th>over_under_line</th>\n",
       "      <td>7498.0</td>\n",
       "      <td>42.044038</td>\n",
       "      <td>4.688706</td>\n",
       "      <td>30.000</td>\n",
       "      <td>38.500</td>\n",
       "      <td>42.000</td>\n",
       "      <td>45.000000</td>\n",
       "      <td>63.500000</td>\n",
       "    </tr>\n",
       "    <tr>\n",
       "      <th>score_home</th>\n",
       "      <td>7498.0</td>\n",
       "      <td>22.606028</td>\n",
       "      <td>10.334542</td>\n",
       "      <td>0.000</td>\n",
       "      <td>16.000</td>\n",
       "      <td>22.000</td>\n",
       "      <td>30.000000</td>\n",
       "      <td>62.000000</td>\n",
       "    </tr>\n",
       "    <tr>\n",
       "      <th>score_away</th>\n",
       "      <td>7498.0</td>\n",
       "      <td>20.091224</td>\n",
       "      <td>10.045233</td>\n",
       "      <td>0.000</td>\n",
       "      <td>13.000</td>\n",
       "      <td>20.000</td>\n",
       "      <td>27.000000</td>\n",
       "      <td>59.000000</td>\n",
       "    </tr>\n",
       "    <tr>\n",
       "      <th>mean_home</th>\n",
       "      <td>7498.0</td>\n",
       "      <td>22.519021</td>\n",
       "      <td>4.944468</td>\n",
       "      <td>8.750</td>\n",
       "      <td>19.125</td>\n",
       "      <td>22.375</td>\n",
       "      <td>25.666667</td>\n",
       "      <td>41.555556</td>\n",
       "    </tr>\n",
       "    <tr>\n",
       "      <th>mean_away</th>\n",
       "      <td>7498.0</td>\n",
       "      <td>19.897482</td>\n",
       "      <td>4.754819</td>\n",
       "      <td>5.125</td>\n",
       "      <td>16.750</td>\n",
       "      <td>19.625</td>\n",
       "      <td>22.875000</td>\n",
       "      <td>39.250000</td>\n",
       "    </tr>\n",
       "    <tr>\n",
       "      <th>home_favorite</th>\n",
       "      <td>7498.0</td>\n",
       "      <td>0.660176</td>\n",
       "      <td>0.473681</td>\n",
       "      <td>0.000</td>\n",
       "      <td>0.000</td>\n",
       "      <td>1.000</td>\n",
       "      <td>1.000000</td>\n",
       "      <td>1.000000</td>\n",
       "    </tr>\n",
       "    <tr>\n",
       "      <th>away_favorite</th>\n",
       "      <td>7498.0</td>\n",
       "      <td>0.325687</td>\n",
       "      <td>0.468662</td>\n",
       "      <td>0.000</td>\n",
       "      <td>0.000</td>\n",
       "      <td>0.000</td>\n",
       "      <td>1.000000</td>\n",
       "      <td>1.000000</td>\n",
       "    </tr>\n",
       "    <tr>\n",
       "      <th>is_over</th>\n",
       "      <td>7498.0</td>\n",
       "      <td>0.487463</td>\n",
       "      <td>0.499876</td>\n",
       "      <td>0.000</td>\n",
       "      <td>0.000</td>\n",
       "      <td>0.000</td>\n",
       "      <td>1.000000</td>\n",
       "      <td>1.000000</td>\n",
       "    </tr>\n",
       "    <tr>\n",
       "      <th>home_sl_1</th>\n",
       "      <td>7498.0</td>\n",
       "      <td>20.754068</td>\n",
       "      <td>10.206684</td>\n",
       "      <td>0.000</td>\n",
       "      <td>13.000</td>\n",
       "      <td>20.000</td>\n",
       "      <td>27.000000</td>\n",
       "      <td>62.000000</td>\n",
       "    </tr>\n",
       "    <tr>\n",
       "      <th>home_sl_2</th>\n",
       "      <td>7492.0</td>\n",
       "      <td>21.204618</td>\n",
       "      <td>10.167161</td>\n",
       "      <td>0.000</td>\n",
       "      <td>14.000</td>\n",
       "      <td>21.000</td>\n",
       "      <td>28.000000</td>\n",
       "      <td>62.000000</td>\n",
       "    </tr>\n",
       "    <tr>\n",
       "      <th>away_sl_1</th>\n",
       "      <td>7498.0</td>\n",
       "      <td>21.867031</td>\n",
       "      <td>10.269169</td>\n",
       "      <td>0.000</td>\n",
       "      <td>14.000</td>\n",
       "      <td>21.000</td>\n",
       "      <td>28.000000</td>\n",
       "      <td>62.000000</td>\n",
       "    </tr>\n",
       "    <tr>\n",
       "      <th>away_sl_2</th>\n",
       "      <td>7490.0</td>\n",
       "      <td>21.388785</td>\n",
       "      <td>10.252988</td>\n",
       "      <td>0.000</td>\n",
       "      <td>14.000</td>\n",
       "      <td>21.000</td>\n",
       "      <td>28.000000</td>\n",
       "      <td>62.000000</td>\n",
       "    </tr>\n",
       "  </tbody>\n",
       "</table>\n",
       "</div>"
      ],
      "text/plain": [
       "                  count         mean        std       min       25%       50%  \\\n",
       "schedule_season  7498.0  1999.939451  11.899542  1979.000  1990.000  2000.000   \n",
       "schedule_week    7498.0     9.139104   3.779679     3.000     6.000     9.000   \n",
       "spread_favorite  7498.0    -5.375967   3.462208   -26.500    -7.000    -4.500   \n",
       "over_under_line  7498.0    42.044038   4.688706    30.000    38.500    42.000   \n",
       "score_home       7498.0    22.606028  10.334542     0.000    16.000    22.000   \n",
       "score_away       7498.0    20.091224  10.045233     0.000    13.000    20.000   \n",
       "mean_home        7498.0    22.519021   4.944468     8.750    19.125    22.375   \n",
       "mean_away        7498.0    19.897482   4.754819     5.125    16.750    19.625   \n",
       "home_favorite    7498.0     0.660176   0.473681     0.000     0.000     1.000   \n",
       "away_favorite    7498.0     0.325687   0.468662     0.000     0.000     0.000   \n",
       "is_over          7498.0     0.487463   0.499876     0.000     0.000     0.000   \n",
       "home_sl_1        7498.0    20.754068  10.206684     0.000    13.000    20.000   \n",
       "home_sl_2        7492.0    21.204618  10.167161     0.000    14.000    21.000   \n",
       "away_sl_1        7498.0    21.867031  10.269169     0.000    14.000    21.000   \n",
       "away_sl_2        7490.0    21.388785  10.252988     0.000    14.000    21.000   \n",
       "\n",
       "                         75%          max  \n",
       "schedule_season  2010.000000  2020.000000  \n",
       "schedule_week      12.000000    15.000000  \n",
       "spread_favorite    -3.000000     0.000000  \n",
       "over_under_line    45.000000    63.500000  \n",
       "score_home         30.000000    62.000000  \n",
       "score_away         27.000000    59.000000  \n",
       "mean_home          25.666667    41.555556  \n",
       "mean_away          22.875000    39.250000  \n",
       "home_favorite       1.000000     1.000000  \n",
       "away_favorite       1.000000     1.000000  \n",
       "is_over             1.000000     1.000000  \n",
       "home_sl_1          27.000000    62.000000  \n",
       "home_sl_2          28.000000    62.000000  \n",
       "away_sl_1          28.000000    62.000000  \n",
       "away_sl_2          28.000000    62.000000  "
      ]
     },
     "execution_count": 45,
     "metadata": {},
     "output_type": "execute_result"
    },
    {
     "data": {
      "application/javascript": [
       "\n",
       "            setTimeout(function() {\n",
       "                var nbb_cell_id = 45;\n",
       "                var nbb_unformatted_code = \"dfss.describe().transpose()\";\n",
       "                var nbb_formatted_code = \"dfss.describe().transpose()\";\n",
       "                var nbb_cells = Jupyter.notebook.get_cells();\n",
       "                for (var i = 0; i < nbb_cells.length; ++i) {\n",
       "                    if (nbb_cells[i].input_prompt_number == nbb_cell_id) {\n",
       "                        if (nbb_cells[i].get_text() == nbb_unformatted_code) {\n",
       "                             nbb_cells[i].set_text(nbb_formatted_code);\n",
       "                        }\n",
       "                        break;\n",
       "                    }\n",
       "                }\n",
       "            }, 500);\n",
       "            "
      ],
      "text/plain": [
       "<IPython.core.display.Javascript object>"
      ]
     },
     "metadata": {},
     "output_type": "display_data"
    }
   ],
   "source": [
    "dfss.describe().transpose()\n"
   ]
  },
  {
   "cell_type": "code",
   "execution_count": null,
   "metadata": {},
   "outputs": [],
   "source": [
    "# dfss.corr().style.background_gradient()"
   ]
  },
  {
   "cell_type": "code",
   "execution_count": 46,
   "metadata": {},
   "outputs": [
    {
     "data": {
      "image/png": "[encoded data removed]",
      "text/plain": [
       "<Figure size 1440x1080 with 2 Axes>"
      ]
     },
     "metadata": {
      "needs_background": "light"
     },
     "output_type": "display_data"
    },
    {
     "data": {
      "application/javascript": [
       "\n",
       "            setTimeout(function() {\n",
       "                var nbb_cell_id = 46;\n",
       "                var nbb_unformatted_code = \"# corelation heatmap\\n\\nplt.figure(figsize=(20, 15))\\nsns.heatmap(dfss.corr(), vmin=-1, vmax=1, annot=True)\\nplt.show()\";\n",
       "                var nbb_formatted_code = \"# corelation heatmap\\n\\nplt.figure(figsize=(20, 15))\\nsns.heatmap(dfss.corr(), vmin=-1, vmax=1, annot=True)\\nplt.show()\";\n",
       "                var nbb_cells = Jupyter.notebook.get_cells();\n",
       "                for (var i = 0; i < nbb_cells.length; ++i) {\n",
       "                    if (nbb_cells[i].input_prompt_number == nbb_cell_id) {\n",
       "                        if (nbb_cells[i].get_text() == nbb_unformatted_code) {\n",
       "                             nbb_cells[i].set_text(nbb_formatted_code);\n",
       "                        }\n",
       "                        break;\n",
       "                    }\n",
       "                }\n",
       "            }, 500);\n",
       "            "
      ],
      "text/plain": [
       "<IPython.core.display.Javascript object>"
      ]
     },
     "metadata": {},
     "output_type": "display_data"
    }
   ],
   "source": [
    "# corelation heatmap\n",
    "\n",
    "plt.figure(figsize=(20, 15))\n",
    "sns.heatmap(dfss.corr(), vmin=-1, vmax=1, annot=True)\n",
    "plt.show()"
   ]
  },
  {
   "cell_type": "code",
   "execution_count": 47,
   "metadata": {},
   "outputs": [
    {
     "name": "stdout",
     "output_type": "stream",
     "text": [
      "Index(['schedule_season', 'schedule_week', 'team_home', 'team_away',\n",
      "       'team_favorite_id', 'spread_favorite', 'over_under_line', 'score_home',\n",
      "       'score_away', 'mean_home', 'mean_away', 'home_favorite',\n",
      "       'away_favorite', 'is_over', 'home_sl_1', 'home_sl_2', 'away_sl_1',\n",
      "       'away_sl_2'],\n",
      "      dtype='object')\n"
     ]
    },
    {
     "data": {
      "application/javascript": [
       "\n",
       "            setTimeout(function() {\n",
       "                var nbb_cell_id = 47;\n",
       "                var nbb_unformatted_code = \"print(dfss.columns)\";\n",
       "                var nbb_formatted_code = \"print(dfss.columns)\";\n",
       "                var nbb_cells = Jupyter.notebook.get_cells();\n",
       "                for (var i = 0; i < nbb_cells.length; ++i) {\n",
       "                    if (nbb_cells[i].input_prompt_number == nbb_cell_id) {\n",
       "                        if (nbb_cells[i].get_text() == nbb_unformatted_code) {\n",
       "                             nbb_cells[i].set_text(nbb_formatted_code);\n",
       "                        }\n",
       "                        break;\n",
       "                    }\n",
       "                }\n",
       "            }, 500);\n",
       "            "
      ],
      "text/plain": [
       "<IPython.core.display.Javascript object>"
      ]
     },
     "metadata": {},
     "output_type": "display_data"
    }
   ],
   "source": [
    "print(dfss.columns)"
   ]
  },
  {
   "cell_type": "code",
   "execution_count": null,
   "metadata": {},
   "outputs": [],
   "source": []
  },
  {
   "cell_type": "markdown",
   "metadata": {},
   "source": [
    "### Modeling "
   ]
  },
  {
   "cell_type": "code",
   "execution_count": 53,
   "metadata": {},
   "outputs": [
    {
     "data": {
      "application/javascript": [
       "\n",
       "            setTimeout(function() {\n",
       "                var nbb_cell_id = 53;\n",
       "                var nbb_unformatted_code = \"X = dfss.drop(\\n    columns=[\\n        \\\"is_over\\\",\\n        \\\"schedule_season\\\",\\n        # \\\"over_under_line\\\",\\n        \\\"home_favorite\\\",\\n        \\\"away_favorite\\\",\\n        \\\"score_home\\\",\\n        \\\"score_away\\\",\\n    ]\\n)\\ny = dfss[\\\"is_over\\\"]\\n\\nX_train, X_test, y_train, y_test = train_test_split(\\n    X, y, test_size=0.2, random_state=42\\n)\";\n",
       "                var nbb_formatted_code = \"X = dfss.drop(\\n    columns=[\\n        \\\"is_over\\\",\\n        \\\"schedule_season\\\",\\n        # \\\"over_under_line\\\",\\n        \\\"home_favorite\\\",\\n        \\\"away_favorite\\\",\\n        \\\"score_home\\\",\\n        \\\"score_away\\\",\\n    ]\\n)\\ny = dfss[\\\"is_over\\\"]\\n\\nX_train, X_test, y_train, y_test = train_test_split(\\n    X, y, test_size=0.2, random_state=42\\n)\";\n",
       "                var nbb_cells = Jupyter.notebook.get_cells();\n",
       "                for (var i = 0; i < nbb_cells.length; ++i) {\n",
       "                    if (nbb_cells[i].input_prompt_number == nbb_cell_id) {\n",
       "                        if (nbb_cells[i].get_text() == nbb_unformatted_code) {\n",
       "                             nbb_cells[i].set_text(nbb_formatted_code);\n",
       "                        }\n",
       "                        break;\n",
       "                    }\n",
       "                }\n",
       "            }, 500);\n",
       "            "
      ],
      "text/plain": [
       "<IPython.core.display.Javascript object>"
      ]
     },
     "metadata": {},
     "output_type": "display_data"
    }
   ],
   "source": [
    "X = dfss.drop(\n",
    "    columns=[\n",
    "        \"is_over\",\n",
    "        \"schedule_season\",\n",
    "        # \"over_under_line\",\n",
    "        \"home_favorite\",\n",
    "        \"away_favorite\",\n",
    "        \"score_home\",\n",
    "        \"score_away\",\n",
    "    ]\n",
    ")\n",
    "y = dfss[\"is_over\"]\n",
    "\n",
    "X_train, X_test, y_train, y_test = train_test_split(\n",
    "    X, y, test_size=0.2, random_state=42\n",
    ")"
   ]
  },
  {
   "cell_type": "code",
   "execution_count": 76,
   "metadata": {},
   "outputs": [
    {
     "data": {
      "text/html": [
       "<div>\n",
       "<style scoped>\n",
       "    .dataframe tbody tr th:only-of-type {\n",
       "        vertical-align: middle;\n",
       "    }\n",
       "\n",
       "    .dataframe tbody tr th {\n",
       "        vertical-align: top;\n",
       "    }\n",
       "\n",
       "    .dataframe thead th {\n",
       "        text-align: right;\n",
       "    }\n",
       "</style>\n",
       "<table border=\"1\" class=\"dataframe\">\n",
       "  <thead>\n",
       "    <tr style=\"text-align: right;\">\n",
       "      <th></th>\n",
       "      <th>schedule_week</th>\n",
       "      <th>team_home</th>\n",
       "      <th>team_away</th>\n",
       "      <th>team_favorite_id</th>\n",
       "      <th>spread_favorite</th>\n",
       "      <th>over_under_line</th>\n",
       "      <th>mean_home</th>\n",
       "      <th>mean_away</th>\n",
       "      <th>home_sl_1</th>\n",
       "      <th>home_sl_2</th>\n",
       "      <th>away_sl_1</th>\n",
       "      <th>away_sl_2</th>\n",
       "    </tr>\n",
       "  </thead>\n",
       "  <tbody>\n",
       "    <tr>\n",
       "      <th>426</th>\n",
       "      <td>12</td>\n",
       "      <td>0.558974</td>\n",
       "      <td>0.514563</td>\n",
       "      <td>0.537572</td>\n",
       "      <td>-3.0</td>\n",
       "      <td>42.0</td>\n",
       "      <td>21.750</td>\n",
       "      <td>21.125000</td>\n",
       "      <td>10.0</td>\n",
       "      <td>13.0</td>\n",
       "      <td>12.0</td>\n",
       "      <td>17.0</td>\n",
       "    </tr>\n",
       "    <tr>\n",
       "      <th>1593</th>\n",
       "      <td>12</td>\n",
       "      <td>0.436275</td>\n",
       "      <td>0.489474</td>\n",
       "      <td>0.482234</td>\n",
       "      <td>-1.5</td>\n",
       "      <td>38.0</td>\n",
       "      <td>20.625</td>\n",
       "      <td>19.000000</td>\n",
       "      <td>31.0</td>\n",
       "      <td>11.0</td>\n",
       "      <td>27.0</td>\n",
       "      <td>3.0</td>\n",
       "    </tr>\n",
       "    <tr>\n",
       "      <th>805</th>\n",
       "      <td>15</td>\n",
       "      <td>0.470270</td>\n",
       "      <td>0.430000</td>\n",
       "      <td>0.447761</td>\n",
       "      <td>-12.0</td>\n",
       "      <td>46.0</td>\n",
       "      <td>18.250</td>\n",
       "      <td>30.777778</td>\n",
       "      <td>15.0</td>\n",
       "      <td>7.0</td>\n",
       "      <td>34.0</td>\n",
       "      <td>28.0</td>\n",
       "    </tr>\n",
       "    <tr>\n",
       "      <th>410</th>\n",
       "      <td>15</td>\n",
       "      <td>0.438503</td>\n",
       "      <td>0.515152</td>\n",
       "      <td>0.492611</td>\n",
       "      <td>-2.0</td>\n",
       "      <td>45.0</td>\n",
       "      <td>22.500</td>\n",
       "      <td>34.000000</td>\n",
       "      <td>24.0</td>\n",
       "      <td>31.0</td>\n",
       "      <td>27.0</td>\n",
       "      <td>34.0</td>\n",
       "    </tr>\n",
       "    <tr>\n",
       "      <th>6271</th>\n",
       "      <td>6</td>\n",
       "      <td>0.533333</td>\n",
       "      <td>0.458333</td>\n",
       "      <td>0.482234</td>\n",
       "      <td>-10.0</td>\n",
       "      <td>47.0</td>\n",
       "      <td>26.800</td>\n",
       "      <td>32.888889</td>\n",
       "      <td>27.0</td>\n",
       "      <td>26.0</td>\n",
       "      <td>20.0</td>\n",
       "      <td>38.0</td>\n",
       "    </tr>\n",
       "  </tbody>\n",
       "</table>\n",
       "</div>"
      ],
      "text/plain": [
       "      schedule_week  team_home  team_away  team_favorite_id  spread_favorite  \\\n",
       "426              12   0.558974   0.514563          0.537572             -3.0   \n",
       "1593             12   0.436275   0.489474          0.482234             -1.5   \n",
       "805              15   0.470270   0.430000          0.447761            -12.0   \n",
       "410              15   0.438503   0.515152          0.492611             -2.0   \n",
       "6271              6   0.533333   0.458333          0.482234            -10.0   \n",
       "\n",
       "      over_under_line  mean_home  mean_away  home_sl_1  home_sl_2  away_sl_1  \\\n",
       "426              42.0     21.750  21.125000       10.0       13.0       12.0   \n",
       "1593             38.0     20.625  19.000000       31.0       11.0       27.0   \n",
       "805              46.0     18.250  30.777778       15.0        7.0       34.0   \n",
       "410              45.0     22.500  34.000000       24.0       31.0       27.0   \n",
       "6271             47.0     26.800  32.888889       27.0       26.0       20.0   \n",
       "\n",
       "      away_sl_2  \n",
       "426        17.0  \n",
       "1593        3.0  \n",
       "805        28.0  \n",
       "410        34.0  \n",
       "6271       38.0  "
      ]
     },
     "metadata": {},
     "output_type": "display_data"
    },
    {
     "data": {
      "text/plain": [
       "array([15.        ,  0.43850267,  0.51515152,  0.49261084, -2.        ,\n",
       "       45.        , 22.5       , 34.        , 24.        , 31.        ,\n",
       "       27.        , 34.        ])"
      ]
     },
     "execution_count": 76,
     "metadata": {},
     "output_type": "execute_result"
    },
    {
     "data": {
      "application/javascript": [
       "\n",
       "            setTimeout(function() {\n",
       "                var nbb_cell_id = 76;\n",
       "                var nbb_unformatted_code = \"# This is code to visualize relationships between features.\\n\\nencoded = LeaveOneOutEncoder().fit_transform(X_train, y_train)\\n# df_train = pd.concat((encoded, y_train), axis=1)\\n# sns.pairplot(df_train[[\\\"score_home\\\", \\\"score_away\\\", \\\"is_over\\\"]], hue=\\\"is_over\\\")\\n# plt.show()\\n# tall_df_train = df_train.melt(id_vars=\\\"is_over\\\")\\n# fg = sns.FacetGrid(tall_df_train, col=\\\"variable\\\", col_wrap=4)\\n# fg.map(sns.boxplot, \\\"is_over\\\", \\\"value\\\")\\n# plt.show()\\ndisplay(encoded.head())\\nprep.fit_transform(X_train, y_train)[3, :]\";\n",
       "                var nbb_formatted_code = \"# This is code to visualize relationships between features.\\n\\nencoded = LeaveOneOutEncoder().fit_transform(X_train, y_train)\\n# df_train = pd.concat((encoded, y_train), axis=1)\\n# sns.pairplot(df_train[[\\\"score_home\\\", \\\"score_away\\\", \\\"is_over\\\"]], hue=\\\"is_over\\\")\\n# plt.show()\\n# tall_df_train = df_train.melt(id_vars=\\\"is_over\\\")\\n# fg = sns.FacetGrid(tall_df_train, col=\\\"variable\\\", col_wrap=4)\\n# fg.map(sns.boxplot, \\\"is_over\\\", \\\"value\\\")\\n# plt.show()\\ndisplay(encoded.head())\\nprep.fit_transform(X_train, y_train)[3, :]\";\n",
       "                var nbb_cells = Jupyter.notebook.get_cells();\n",
       "                for (var i = 0; i < nbb_cells.length; ++i) {\n",
       "                    if (nbb_cells[i].input_prompt_number == nbb_cell_id) {\n",
       "                        if (nbb_cells[i].get_text() == nbb_unformatted_code) {\n",
       "                             nbb_cells[i].set_text(nbb_formatted_code);\n",
       "                        }\n",
       "                        break;\n",
       "                    }\n",
       "                }\n",
       "            }, 500);\n",
       "            "
      ],
      "text/plain": [
       "<IPython.core.display.Javascript object>"
      ]
     },
     "metadata": {},
     "output_type": "display_data"
    }
   ],
   "source": [
    "# This is code to visualize relationships between features.\n",
    "\n",
    "encoded = LeaveOneOutEncoder().fit_transform(X_train, y_train)\n",
    "# df_train = pd.concat((encoded, y_train), axis=1)\n",
    "# sns.pairplot(df_train[[\"score_home\", \"score_away\", \"is_over\"]], hue=\"is_over\")\n",
    "# plt.show()\n",
    "# tall_df_train = df_train.melt(id_vars=\"is_over\")\n",
    "# fg = sns.FacetGrid(tall_df_train, col=\"variable\", col_wrap=4)\n",
    "# fg.map(sns.boxplot, \"is_over\", \"value\")\n",
    "# plt.show()\n",
    "display(encoded.head())\n",
    "prep.fit_transform(X_train, y_train)[3, :]"
   ]
  },
  {
   "cell_type": "code",
   "execution_count": 75,
   "metadata": {},
   "outputs": [
    {
     "data": {
      "application/javascript": [
       "\n",
       "            setTimeout(function() {\n",
       "                var nbb_cell_id = 75;\n",
       "                var nbb_unformatted_code = \"bin_cols = [\\\"is_over\\\"]  # \\\"home_favorite\\\", \\\"away_favorite\\\"#\\nnum_cols = [\\n    \\\"mean_home\\\",\\n    \\\"mean_away\\\",\\n    \\\"spread_favorite\\\",\\n    \\\"over_under_line\\\",\\n    \\\"home_sl_1\\\",\\n    \\\"home_sl_2\\\",\\n    \\\"away_sl_1\\\",\\n    \\\"away_sl_2\\\"\\n    # \\\"total_pts\\\",\\n]\\ncat_cols = [\\n    \\\"schedule_week\\\",\\n    \\\"team_home\\\",\\n    \\\"team_away\\\",\\n    \\\"team_favorite_id\\\",\\n    \\n]\\n\\nprep = ColumnTransformer(\\n    [\\n        (\\\"leave_one\\\", LeaveOneOutEncoder(), cat_cols),\\n    ],\\n    remainder=\\\"passthrough\\\",\\n)\";\n",
       "                var nbb_formatted_code = \"bin_cols = [\\\"is_over\\\"]  # \\\"home_favorite\\\", \\\"away_favorite\\\"#\\nnum_cols = [\\n    \\\"mean_home\\\",\\n    \\\"mean_away\\\",\\n    \\\"spread_favorite\\\",\\n    \\\"over_under_line\\\",\\n    \\\"home_sl_1\\\",\\n    \\\"home_sl_2\\\",\\n    \\\"away_sl_1\\\",\\n    \\\"away_sl_2\\\"\\n    # \\\"total_pts\\\",\\n]\\ncat_cols = [\\n    \\\"schedule_week\\\",\\n    \\\"team_home\\\",\\n    \\\"team_away\\\",\\n    \\\"team_favorite_id\\\",\\n]\\n\\nprep = ColumnTransformer(\\n    [\\n        (\\\"leave_one\\\", LeaveOneOutEncoder(), cat_cols),\\n    ],\\n    remainder=\\\"passthrough\\\",\\n)\";\n",
       "                var nbb_cells = Jupyter.notebook.get_cells();\n",
       "                for (var i = 0; i < nbb_cells.length; ++i) {\n",
       "                    if (nbb_cells[i].input_prompt_number == nbb_cell_id) {\n",
       "                        if (nbb_cells[i].get_text() == nbb_unformatted_code) {\n",
       "                             nbb_cells[i].set_text(nbb_formatted_code);\n",
       "                        }\n",
       "                        break;\n",
       "                    }\n",
       "                }\n",
       "            }, 500);\n",
       "            "
      ],
      "text/plain": [
       "<IPython.core.display.Javascript object>"
      ]
     },
     "metadata": {},
     "output_type": "display_data"
    }
   ],
   "source": [
    "bin_cols = [\"is_over\"]  # \"home_favorite\", \"away_favorite\"#\n",
    "num_cols = [\n",
    "    \"mean_home\",\n",
    "    \"mean_away\",\n",
    "    \"spread_favorite\",\n",
    "    \"over_under_line\",\n",
    "    \"home_sl_1\",\n",
    "    \"home_sl_2\",\n",
    "    \"away_sl_1\",\n",
    "    \"away_sl_2\"\n",
    "    # \"total_pts\",\n",
    "]\n",
    "cat_cols = [\n",
    "    \"schedule_week\",\n",
    "    \"team_home\",\n",
    "    \"team_away\",\n",
    "    \"team_favorite_id\",\n",
    "]\n",
    "\n",
    "prep = ColumnTransformer(\n",
    "    [\n",
    "        (\"leave_one\", LeaveOneOutEncoder(), cat_cols),\n",
    "    ],\n",
    "    remainder=\"passthrough\",\n",
    ")"
   ]
  },
  {
   "cell_type": "code",
   "execution_count": 55,
   "metadata": {},
   "outputs": [
    {
     "name": "stdout",
     "output_type": "stream",
     "text": [
      "VIF results\n",
      "-------------------------------\n",
      "const               437.393028\n",
      "schedule_week         1.004499\n",
      "team_home             1.170686\n",
      "team_away             1.189183\n",
      "team_favorite_id      1.024439\n",
      "spread_favorite       1.134762\n",
      "over_under_line       1.669317\n",
      "mean_home             1.451693\n",
      "mean_away             1.461134\n",
      "home_sl_1             1.183303\n",
      "home_sl_2             1.189882\n",
      "away_sl_1             1.184051\n",
      "away_sl_2             1.184953\n",
      "dtype: float64\n",
      "-------------------------------\n",
      "\n"
     ]
    },
    {
     "data": {
      "application/javascript": [
       "\n",
       "            setTimeout(function() {\n",
       "                var nbb_cell_id = 55;\n",
       "                var nbb_unformatted_code = \"transformed = prep.fit_transform(X_train, y_train)\\n# ToDO get printVIF and run it.\\ntype(transformed)\\n# ToD0, create dataframe with transformed.\\ntransformed = pd.DataFrame(transformed, columns=X_train.columns)\\nprint_vif(transformed)\";\n",
       "                var nbb_formatted_code = \"transformed = prep.fit_transform(X_train, y_train)\\n# ToDO get printVIF and run it.\\ntype(transformed)\\n# ToD0, create dataframe with transformed.\\ntransformed = pd.DataFrame(transformed, columns=X_train.columns)\\nprint_vif(transformed)\";\n",
       "                var nbb_cells = Jupyter.notebook.get_cells();\n",
       "                for (var i = 0; i < nbb_cells.length; ++i) {\n",
       "                    if (nbb_cells[i].input_prompt_number == nbb_cell_id) {\n",
       "                        if (nbb_cells[i].get_text() == nbb_unformatted_code) {\n",
       "                             nbb_cells[i].set_text(nbb_formatted_code);\n",
       "                        }\n",
       "                        break;\n",
       "                    }\n",
       "                }\n",
       "            }, 500);\n",
       "            "
      ],
      "text/plain": [
       "<IPython.core.display.Javascript object>"
      ]
     },
     "metadata": {},
     "output_type": "display_data"
    }
   ],
   "source": [
    "transformed = prep.fit_transform(X_train, y_train)\n",
    "# ToDO get printVIF and run it.\n",
    "type(transformed)\n",
    "# ToD0, create dataframe with transformed.\n",
    "transformed = pd.DataFrame(transformed, columns=X_train.columns)\n",
    "print_vif(transformed)"
   ]
  },
  {
   "cell_type": "code",
   "execution_count": null,
   "metadata": {},
   "outputs": [],
   "source": []
  },
  {
   "cell_type": "code",
   "execution_count": 56,
   "metadata": {},
   "outputs": [
    {
     "data": {
      "application/javascript": [
       "\n",
       "            setTimeout(function() {\n",
       "                var nbb_cell_id = 56;\n",
       "                var nbb_unformatted_code = \"# Try SVC\\npipe = Pipeline([(\\\"prep\\\", prep), (\\\"svc\\\", SVC())])\\n\\ngrid = {\\n    \\\"svc__kernel\\\": [\\\"linear\\\", \\\"poly\\\", \\\"rbf\\\"],\\n    \\\"svc__degree\\\": [2, 3, 4],\\n    \\\"svc__C\\\": [0.001, 0.01, 0.1, 1],\\n}\\n\\npipe_cv = GridSearchCV(pipe, grid, cv=2, n_jobs=-1)\";\n",
       "                var nbb_formatted_code = \"# Try SVC\\npipe = Pipeline([(\\\"prep\\\", prep), (\\\"svc\\\", SVC())])\\n\\ngrid = {\\n    \\\"svc__kernel\\\": [\\\"linear\\\", \\\"poly\\\", \\\"rbf\\\"],\\n    \\\"svc__degree\\\": [2, 3, 4],\\n    \\\"svc__C\\\": [0.001, 0.01, 0.1, 1],\\n}\\n\\npipe_cv = GridSearchCV(pipe, grid, cv=2, n_jobs=-1)\";\n",
       "                var nbb_cells = Jupyter.notebook.get_cells();\n",
       "                for (var i = 0; i < nbb_cells.length; ++i) {\n",
       "                    if (nbb_cells[i].input_prompt_number == nbb_cell_id) {\n",
       "                        if (nbb_cells[i].get_text() == nbb_unformatted_code) {\n",
       "                             nbb_cells[i].set_text(nbb_formatted_code);\n",
       "                        }\n",
       "                        break;\n",
       "                    }\n",
       "                }\n",
       "            }, 500);\n",
       "            "
      ],
      "text/plain": [
       "<IPython.core.display.Javascript object>"
      ]
     },
     "metadata": {},
     "output_type": "display_data"
    }
   ],
   "source": [
    "# Try SVC\n",
    "pipe = Pipeline([(\"prep\", prep), (\"svc\", SVC())])\n",
    "\n",
    "grid = {\n",
    "    \"svc__kernel\": [\"linear\", \"poly\", \"rbf\"],\n",
    "    \"svc__degree\": [2, 3, 4],\n",
    "    \"svc__C\": [0.001, 0.01, 0.1, 1],\n",
    "}\n",
    "\n",
    "pipe_cv = GridSearchCV(pipe, grid, cv=2, n_jobs=-1)"
   ]
  },
  {
   "cell_type": "markdown",
   "metadata": {},
   "source": [
    "### Fit and Eval"
   ]
  },
  {
   "cell_type": "code",
   "execution_count": 57,
   "metadata": {},
   "outputs": [
    {
     "name": "stdout",
     "output_type": "stream",
     "text": [
      "Best params:\n",
      "{'svc__C': 0.01, 'svc__degree': 2, 'svc__kernel': 'linear'}\n",
      "\n",
      "train score: 0.630\n",
      "test score: 0.597\n",
      "\n",
      "[[478 295]\n",
      " [308 416]]\n",
      "              precision    recall  f1-score   support\n",
      "\n",
      "         0.0       0.61      0.62      0.61       773\n",
      "         1.0       0.59      0.57      0.58       724\n",
      "\n",
      "    accuracy                           0.60      1497\n",
      "   macro avg       0.60      0.60      0.60      1497\n",
      "weighted avg       0.60      0.60      0.60      1497\n",
      "\n"
     ]
    },
    {
     "data": {
      "application/javascript": [
       "\n",
       "            setTimeout(function() {\n",
       "                var nbb_cell_id = 57;\n",
       "                var nbb_unformatted_code = \"pipe_cv.fit(X_train, y_train)\\n\\nprint(\\\"Best params:\\\")\\nprint(pipe_cv.best_params_)\\n\\nprint(f\\\"\\\\ntrain score: {pipe_cv.score(X_train,y_train):.3f}\\\")\\nprint(f\\\"test score: {pipe_cv.score(X_test, y_test):.3f}\\\\n\\\")\\n\\ny_pred = pipe_cv.predict(X_test)\\nprint(confusion_matrix(y_test, y_pred))\\nprint(classification_report(y_test, y_pred))\";\n",
       "                var nbb_formatted_code = \"pipe_cv.fit(X_train, y_train)\\n\\nprint(\\\"Best params:\\\")\\nprint(pipe_cv.best_params_)\\n\\nprint(f\\\"\\\\ntrain score: {pipe_cv.score(X_train,y_train):.3f}\\\")\\nprint(f\\\"test score: {pipe_cv.score(X_test, y_test):.3f}\\\\n\\\")\\n\\ny_pred = pipe_cv.predict(X_test)\\nprint(confusion_matrix(y_test, y_pred))\\nprint(classification_report(y_test, y_pred))\";\n",
       "                var nbb_cells = Jupyter.notebook.get_cells();\n",
       "                for (var i = 0; i < nbb_cells.length; ++i) {\n",
       "                    if (nbb_cells[i].input_prompt_number == nbb_cell_id) {\n",
       "                        if (nbb_cells[i].get_text() == nbb_unformatted_code) {\n",
       "                             nbb_cells[i].set_text(nbb_formatted_code);\n",
       "                        }\n",
       "                        break;\n",
       "                    }\n",
       "                }\n",
       "            }, 500);\n",
       "            "
      ],
      "text/plain": [
       "<IPython.core.display.Javascript object>"
      ]
     },
     "metadata": {},
     "output_type": "display_data"
    }
   ],
   "source": [
    "pipe_cv.fit(X_train, y_train)\n",
    "\n",
    "print(\"Best params:\")\n",
    "print(pipe_cv.best_params_)\n",
    "\n",
    "print(f\"\\ntrain score: {pipe_cv.score(X_train,y_train):.3f}\")\n",
    "print(f\"test score: {pipe_cv.score(X_test, y_test):.3f}\\n\")\n",
    "\n",
    "y_pred = pipe_cv.predict(X_test)\n",
    "print(confusion_matrix(y_test, y_pred))\n",
    "print(classification_report(y_test, y_pred))"
   ]
  },
  {
   "cell_type": "markdown",
   "metadata": {},
   "source": [
    "### Feature Importance "
   ]
  },
  {
   "cell_type": "code",
   "execution_count": 58,
   "metadata": {},
   "outputs": [
    {
     "data": {
      "text/html": [
       "<div>\n",
       "<style scoped>\n",
       "    .dataframe tbody tr th:only-of-type {\n",
       "        vertical-align: middle;\n",
       "    }\n",
       "\n",
       "    .dataframe tbody tr th {\n",
       "        vertical-align: top;\n",
       "    }\n",
       "\n",
       "    .dataframe thead th {\n",
       "        text-align: right;\n",
       "    }\n",
       "</style>\n",
       "<table border=\"1\" class=\"dataframe\">\n",
       "  <thead>\n",
       "    <tr style=\"text-align: right;\">\n",
       "      <th></th>\n",
       "      <th>feature</th>\n",
       "      <th>coef_sq</th>\n",
       "    </tr>\n",
       "  </thead>\n",
       "  <tbody>\n",
       "    <tr>\n",
       "      <th>7</th>\n",
       "      <td>mean_away</td>\n",
       "      <td>0.025915</td>\n",
       "    </tr>\n",
       "    <tr>\n",
       "      <th>6</th>\n",
       "      <td>mean_home</td>\n",
       "      <td>0.020451</td>\n",
       "    </tr>\n",
       "    <tr>\n",
       "      <th>5</th>\n",
       "      <td>over_under_line</td>\n",
       "      <td>0.013783</td>\n",
       "    </tr>\n",
       "    <tr>\n",
       "      <th>3</th>\n",
       "      <td>team_favorite_id</td>\n",
       "      <td>0.001415</td>\n",
       "    </tr>\n",
       "    <tr>\n",
       "      <th>2</th>\n",
       "      <td>team_away</td>\n",
       "      <td>0.000440</td>\n",
       "    </tr>\n",
       "    <tr>\n",
       "      <th>1</th>\n",
       "      <td>team_home</td>\n",
       "      <td>0.000434</td>\n",
       "    </tr>\n",
       "    <tr>\n",
       "      <th>11</th>\n",
       "      <td>away_sl_2</td>\n",
       "      <td>0.000362</td>\n",
       "    </tr>\n",
       "    <tr>\n",
       "      <th>0</th>\n",
       "      <td>schedule_week</td>\n",
       "      <td>0.000334</td>\n",
       "    </tr>\n",
       "    <tr>\n",
       "      <th>8</th>\n",
       "      <td>home_sl_1</td>\n",
       "      <td>0.000155</td>\n",
       "    </tr>\n",
       "    <tr>\n",
       "      <th>9</th>\n",
       "      <td>home_sl_2</td>\n",
       "      <td>0.000146</td>\n",
       "    </tr>\n",
       "    <tr>\n",
       "      <th>10</th>\n",
       "      <td>away_sl_1</td>\n",
       "      <td>0.000081</td>\n",
       "    </tr>\n",
       "    <tr>\n",
       "      <th>4</th>\n",
       "      <td>spread_favorite</td>\n",
       "      <td>0.000073</td>\n",
       "    </tr>\n",
       "  </tbody>\n",
       "</table>\n",
       "</div>"
      ],
      "text/plain": [
       "             feature   coef_sq\n",
       "7          mean_away  0.025915\n",
       "6          mean_home  0.020451\n",
       "5    over_under_line  0.013783\n",
       "3   team_favorite_id  0.001415\n",
       "2          team_away  0.000440\n",
       "1          team_home  0.000434\n",
       "11         away_sl_2  0.000362\n",
       "0      schedule_week  0.000334\n",
       "8          home_sl_1  0.000155\n",
       "9          home_sl_2  0.000146\n",
       "10         away_sl_1  0.000081\n",
       "4    spread_favorite  0.000073"
      ]
     },
     "execution_count": 58,
     "metadata": {},
     "output_type": "execute_result"
    },
    {
     "data": {
      "application/javascript": [
       "\n",
       "            setTimeout(function() {\n",
       "                var nbb_cell_id = 58;\n",
       "                var nbb_unformatted_code = \"# Turn back on if switches back to linear\\ncoef = pipe_cv.best_estimator_[\\\"svc\\\"].coef_[0]\\nim_df = pd.DataFrame({\\\"feature\\\": X_train.columns, \\\"coef_sq\\\": coef ** 2})\\nim_df.sort_values(\\\"coef_sq\\\", ascending=False)\";\n",
       "                var nbb_formatted_code = \"# Turn back on if switches back to linear\\ncoef = pipe_cv.best_estimator_[\\\"svc\\\"].coef_[0]\\nim_df = pd.DataFrame({\\\"feature\\\": X_train.columns, \\\"coef_sq\\\": coef ** 2})\\nim_df.sort_values(\\\"coef_sq\\\", ascending=False)\";\n",
       "                var nbb_cells = Jupyter.notebook.get_cells();\n",
       "                for (var i = 0; i < nbb_cells.length; ++i) {\n",
       "                    if (nbb_cells[i].input_prompt_number == nbb_cell_id) {\n",
       "                        if (nbb_cells[i].get_text() == nbb_unformatted_code) {\n",
       "                             nbb_cells[i].set_text(nbb_formatted_code);\n",
       "                        }\n",
       "                        break;\n",
       "                    }\n",
       "                }\n",
       "            }, 500);\n",
       "            "
      ],
      "text/plain": [
       "<IPython.core.display.Javascript object>"
      ]
     },
     "metadata": {},
     "output_type": "display_data"
    }
   ],
   "source": [
    "# Turn back on if switches back to linear\n",
    "coef = pipe_cv.best_estimator_[\"svc\"].coef_[0]\n",
    "im_df = pd.DataFrame({\"feature\": X_train.columns, \"coef_sq\": coef ** 2})\n",
    "im_df.sort_values(\"coef_sq\", ascending=False)"
   ]
  },
  {
   "cell_type": "markdown",
   "metadata": {},
   "source": [
    "### Error Analysis"
   ]
  },
  {
   "cell_type": "code",
   "execution_count": 59,
   "metadata": {},
   "outputs": [
    {
     "name": "stdout",
     "output_type": "stream",
     "text": [
      "mean prob of over for errors: 0.4461028192371476\n"
     ]
    },
    {
     "data": {
      "application/javascript": [
       "\n",
       "            setTimeout(function() {\n",
       "                var nbb_cell_id = 59;\n",
       "                var nbb_unformatted_code = \"errors = dfscore_copy.copy()\\nerrors = errors.loc[y_test.index]\\n\\nerrors[\\\"y_true\\\"] = y_test\\nerrors[\\\"y_pred\\\"] = y_pred\\n\\nerrors = errors[errors[\\\"y_true\\\"] != errors[\\\"y_pred\\\"]]\\n\\nprint(f'mean prob of over for errors: {errors[\\\"is_over\\\"].mean()}')\\n\\n\\n# sns.swarmplot(y=errors[\\\"is_over\\\"])\\n# plt.show()\\n# TODO predict_proba_\";\n",
       "                var nbb_formatted_code = \"errors = dfscore_copy.copy()\\nerrors = errors.loc[y_test.index]\\n\\nerrors[\\\"y_true\\\"] = y_test\\nerrors[\\\"y_pred\\\"] = y_pred\\n\\nerrors = errors[errors[\\\"y_true\\\"] != errors[\\\"y_pred\\\"]]\\n\\nprint(f'mean prob of over for errors: {errors[\\\"is_over\\\"].mean()}')\\n\\n\\n# sns.swarmplot(y=errors[\\\"is_over\\\"])\\n# plt.show()\\n# TODO predict_proba_\";\n",
       "                var nbb_cells = Jupyter.notebook.get_cells();\n",
       "                for (var i = 0; i < nbb_cells.length; ++i) {\n",
       "                    if (nbb_cells[i].input_prompt_number == nbb_cell_id) {\n",
       "                        if (nbb_cells[i].get_text() == nbb_unformatted_code) {\n",
       "                             nbb_cells[i].set_text(nbb_formatted_code);\n",
       "                        }\n",
       "                        break;\n",
       "                    }\n",
       "                }\n",
       "            }, 500);\n",
       "            "
      ],
      "text/plain": [
       "<IPython.core.display.Javascript object>"
      ]
     },
     "metadata": {},
     "output_type": "display_data"
    }
   ],
   "source": [
    "errors = dfscore_copy.copy()\n",
    "errors = errors.loc[y_test.index]\n",
    "\n",
    "errors[\"y_true\"] = y_test\n",
    "errors[\"y_pred\"] = y_pred\n",
    "\n",
    "errors = errors[errors[\"y_true\"] != errors[\"y_pred\"]]\n",
    "\n",
    "print(f'mean prob of over for errors: {errors[\"is_over\"].mean()}')\n",
    "\n",
    "\n",
    "# sns.swarmplot(y=errors[\"is_over\"])\n",
    "# plt.show()\n",
    "# TODO predict_proba_"
   ]
  },
  {
   "cell_type": "markdown",
   "metadata": {},
   "source": [
    "### Try XGBoost"
   ]
  },
  {
   "cell_type": "code",
   "execution_count": 60,
   "metadata": {},
   "outputs": [
    {
     "data": {
      "application/javascript": [
       "\n",
       "            setTimeout(function() {\n",
       "                var nbb_cell_id = 60;\n",
       "                var nbb_unformatted_code = \"n_trees = 100\\n# learning_rate = ([0.0001, 0.001, 0.01, 0.1, 0.2, 0.3],)\\n\\nx_pipe = Pipeline(\\n    [\\n        (\\\"prep\\\", prep),\\n        (\\\"xgb\\\", XGBClassifier(n_estimators=n_trees, learning_rate=0.01 / n_trees)),\\n    ]\\n)\\n\\nx_grid = {\\n    \\\"xgb__subsample\\\": [0.5, 0.75, 1],\\n    \\\"xgb__colsample_bytree\\\": [0.5, 0.75, 1],\\n    \\\"xgb__max_depth\\\": [2, 3, 4, 5],\\n}\\n\\nx_pipe_cv = GridSearchCV(x_pipe, x_grid, cv=2, n_jobs=-1)\";\n",
       "                var nbb_formatted_code = \"n_trees = 100\\n# learning_rate = ([0.0001, 0.001, 0.01, 0.1, 0.2, 0.3],)\\n\\nx_pipe = Pipeline(\\n    [\\n        (\\\"prep\\\", prep),\\n        (\\\"xgb\\\", XGBClassifier(n_estimators=n_trees, learning_rate=0.01 / n_trees)),\\n    ]\\n)\\n\\nx_grid = {\\n    \\\"xgb__subsample\\\": [0.5, 0.75, 1],\\n    \\\"xgb__colsample_bytree\\\": [0.5, 0.75, 1],\\n    \\\"xgb__max_depth\\\": [2, 3, 4, 5],\\n}\\n\\nx_pipe_cv = GridSearchCV(x_pipe, x_grid, cv=2, n_jobs=-1)\";\n",
       "                var nbb_cells = Jupyter.notebook.get_cells();\n",
       "                for (var i = 0; i < nbb_cells.length; ++i) {\n",
       "                    if (nbb_cells[i].input_prompt_number == nbb_cell_id) {\n",
       "                        if (nbb_cells[i].get_text() == nbb_unformatted_code) {\n",
       "                             nbb_cells[i].set_text(nbb_formatted_code);\n",
       "                        }\n",
       "                        break;\n",
       "                    }\n",
       "                }\n",
       "            }, 500);\n",
       "            "
      ],
      "text/plain": [
       "<IPython.core.display.Javascript object>"
      ]
     },
     "metadata": {},
     "output_type": "display_data"
    }
   ],
   "source": [
    "n_trees = 100\n",
    "# learning_rate = ([0.0001, 0.001, 0.01, 0.1, 0.2, 0.3],)\n",
    "\n",
    "x_pipe = Pipeline(\n",
    "    [\n",
    "        (\"prep\", prep),\n",
    "        (\"xgb\", XGBClassifier(n_estimators=n_trees, learning_rate=0.01 / n_trees)),\n",
    "    ]\n",
    ")\n",
    "\n",
    "x_grid = {\n",
    "    \"xgb__subsample\": [0.5, 0.75, 1],\n",
    "    \"xgb__colsample_bytree\": [0.5, 0.75, 1],\n",
    "    \"xgb__max_depth\": [2, 3, 4, 5],\n",
    "}\n",
    "\n",
    "x_pipe_cv = GridSearchCV(x_pipe, x_grid, cv=2, n_jobs=-1)"
   ]
  },
  {
   "cell_type": "code",
   "execution_count": 61,
   "metadata": {},
   "outputs": [
    {
     "name": "stderr",
     "output_type": "stream",
     "text": [
      "/Users/JasonB/opt/anaconda3/lib/python3.8/site-packages/xgboost/sklearn.py:888: UserWarning: The use of label encoder in XGBClassifier is deprecated and will be removed in a future release. To remove this warning, do the following: 1) Pass option use_label_encoder=False when constructing XGBClassifier object; and 2) Encode your labels (y) as integers starting with 0, i.e. 0, 1, 2, ..., [num_class - 1].\n",
      "  warnings.warn(label_encoder_deprecation_msg, UserWarning)\n"
     ]
    },
    {
     "name": "stdout",
     "output_type": "stream",
     "text": [
      "[11:52:54] WARNING: /Users/travis/build/dmlc/xgboost/src/learner.cc:1061: Starting in XGBoost 1.3.0, the default evaluation metric used with the objective 'binary:logistic' was changed from 'error' to 'logloss'. Explicitly set eval_metric if you'd like to restore the old behavior.\n",
      "Best params:\n",
      "{'xgb__colsample_bytree': 0.5, 'xgb__max_depth': 3, 'xgb__subsample': 1}\n",
      "\n",
      "train score: 0.487\n",
      "test score: 0.504\n",
      "\n",
      "[[489 284]\n",
      " [459 265]]\n",
      "              precision    recall  f1-score   support\n",
      "\n",
      "         0.0       0.52      0.63      0.57       773\n",
      "         1.0       0.48      0.37      0.42       724\n",
      "\n",
      "    accuracy                           0.50      1497\n",
      "   macro avg       0.50      0.50      0.49      1497\n",
      "weighted avg       0.50      0.50      0.49      1497\n",
      "\n"
     ]
    },
    {
     "data": {
      "application/javascript": [
       "\n",
       "            setTimeout(function() {\n",
       "                var nbb_cell_id = 61;\n",
       "                var nbb_unformatted_code = \"x_pipe_cv.fit(X_train, y_train)\\n\\nprint(\\\"Best params:\\\")\\nprint(x_pipe_cv.best_params_)\\n\\nprint(f\\\"\\\\ntrain score: {x_pipe_cv.score(X_train, y_train):.3f}\\\")\\nprint(f\\\"test score: {x_pipe_cv.score(X_test, y_test):.3f}\\\\n\\\")\\n\\ny_predx = x_pipe_cv.predict(X_test)\\nprint(confusion_matrix(y_test, y_predx))\\nprint(classification_report(y_test, y_predx))\";\n",
       "                var nbb_formatted_code = \"x_pipe_cv.fit(X_train, y_train)\\n\\nprint(\\\"Best params:\\\")\\nprint(x_pipe_cv.best_params_)\\n\\nprint(f\\\"\\\\ntrain score: {x_pipe_cv.score(X_train, y_train):.3f}\\\")\\nprint(f\\\"test score: {x_pipe_cv.score(X_test, y_test):.3f}\\\\n\\\")\\n\\ny_predx = x_pipe_cv.predict(X_test)\\nprint(confusion_matrix(y_test, y_predx))\\nprint(classification_report(y_test, y_predx))\";\n",
       "                var nbb_cells = Jupyter.notebook.get_cells();\n",
       "                for (var i = 0; i < nbb_cells.length; ++i) {\n",
       "                    if (nbb_cells[i].input_prompt_number == nbb_cell_id) {\n",
       "                        if (nbb_cells[i].get_text() == nbb_unformatted_code) {\n",
       "                             nbb_cells[i].set_text(nbb_formatted_code);\n",
       "                        }\n",
       "                        break;\n",
       "                    }\n",
       "                }\n",
       "            }, 500);\n",
       "            "
      ],
      "text/plain": [
       "<IPython.core.display.Javascript object>"
      ]
     },
     "metadata": {},
     "output_type": "display_data"
    }
   ],
   "source": [
    "x_pipe_cv.fit(X_train, y_train)\n",
    "\n",
    "print(\"Best params:\")\n",
    "print(x_pipe_cv.best_params_)\n",
    "\n",
    "print(f\"\\ntrain score: {x_pipe_cv.score(X_train, y_train):.3f}\")\n",
    "print(f\"test score: {x_pipe_cv.score(X_test, y_test):.3f}\\n\")\n",
    "\n",
    "y_predx = x_pipe_cv.predict(X_test)\n",
    "print(confusion_matrix(y_test, y_predx))\n",
    "print(classification_report(y_test, y_predx))"
   ]
  },
  {
   "cell_type": "code",
   "execution_count": 62,
   "metadata": {},
   "outputs": [
    {
     "data": {
      "text/html": [
       "<div>\n",
       "<style scoped>\n",
       "    .dataframe tbody tr th:only-of-type {\n",
       "        vertical-align: middle;\n",
       "    }\n",
       "\n",
       "    .dataframe tbody tr th {\n",
       "        vertical-align: top;\n",
       "    }\n",
       "\n",
       "    .dataframe thead th {\n",
       "        text-align: right;\n",
       "    }\n",
       "</style>\n",
       "<table border=\"1\" class=\"dataframe\">\n",
       "  <thead>\n",
       "    <tr style=\"text-align: right;\">\n",
       "      <th></th>\n",
       "      <th>features</th>\n",
       "      <th>importance</th>\n",
       "    </tr>\n",
       "  </thead>\n",
       "  <tbody>\n",
       "    <tr>\n",
       "      <th>1</th>\n",
       "      <td>team_home</td>\n",
       "      <td>0.372827</td>\n",
       "    </tr>\n",
       "    <tr>\n",
       "      <th>2</th>\n",
       "      <td>team_away</td>\n",
       "      <td>0.248365</td>\n",
       "    </tr>\n",
       "    <tr>\n",
       "      <th>3</th>\n",
       "      <td>team_favorite_id</td>\n",
       "      <td>0.107010</td>\n",
       "    </tr>\n",
       "    <tr>\n",
       "      <th>7</th>\n",
       "      <td>mean_away</td>\n",
       "      <td>0.091730</td>\n",
       "    </tr>\n",
       "    <tr>\n",
       "      <th>6</th>\n",
       "      <td>mean_home</td>\n",
       "      <td>0.087966</td>\n",
       "    </tr>\n",
       "    <tr>\n",
       "      <th>5</th>\n",
       "      <td>over_under_line</td>\n",
       "      <td>0.049436</td>\n",
       "    </tr>\n",
       "    <tr>\n",
       "      <th>11</th>\n",
       "      <td>away_sl_2</td>\n",
       "      <td>0.026217</td>\n",
       "    </tr>\n",
       "    <tr>\n",
       "      <th>8</th>\n",
       "      <td>home_sl_1</td>\n",
       "      <td>0.016448</td>\n",
       "    </tr>\n",
       "    <tr>\n",
       "      <th>0</th>\n",
       "      <td>schedule_week</td>\n",
       "      <td>0.000000</td>\n",
       "    </tr>\n",
       "    <tr>\n",
       "      <th>4</th>\n",
       "      <td>spread_favorite</td>\n",
       "      <td>0.000000</td>\n",
       "    </tr>\n",
       "    <tr>\n",
       "      <th>9</th>\n",
       "      <td>home_sl_2</td>\n",
       "      <td>0.000000</td>\n",
       "    </tr>\n",
       "    <tr>\n",
       "      <th>10</th>\n",
       "      <td>away_sl_1</td>\n",
       "      <td>0.000000</td>\n",
       "    </tr>\n",
       "  </tbody>\n",
       "</table>\n",
       "</div>"
      ],
      "text/plain": [
       "            features  importance\n",
       "1          team_home    0.372827\n",
       "2          team_away    0.248365\n",
       "3   team_favorite_id    0.107010\n",
       "7          mean_away    0.091730\n",
       "6          mean_home    0.087966\n",
       "5    over_under_line    0.049436\n",
       "11         away_sl_2    0.026217\n",
       "8          home_sl_1    0.016448\n",
       "0      schedule_week    0.000000\n",
       "4    spread_favorite    0.000000\n",
       "9          home_sl_2    0.000000\n",
       "10         away_sl_1    0.000000"
      ]
     },
     "execution_count": 62,
     "metadata": {},
     "output_type": "execute_result"
    },
    {
     "data": {
      "application/javascript": [
       "\n",
       "            setTimeout(function() {\n",
       "                var nbb_cell_id = 62;\n",
       "                var nbb_unformatted_code = \"importances = x_pipe_cv.best_estimator_[\\\"xgb\\\"].feature_importances_\\nim_df = pd.DataFrame({\\\"features\\\": X_train.columns, \\\"importance\\\": importances})\\nim_df.sort_values(\\\"importance\\\", ascending=False)\";\n",
       "                var nbb_formatted_code = \"importances = x_pipe_cv.best_estimator_[\\\"xgb\\\"].feature_importances_\\nim_df = pd.DataFrame({\\\"features\\\": X_train.columns, \\\"importance\\\": importances})\\nim_df.sort_values(\\\"importance\\\", ascending=False)\";\n",
       "                var nbb_cells = Jupyter.notebook.get_cells();\n",
       "                for (var i = 0; i < nbb_cells.length; ++i) {\n",
       "                    if (nbb_cells[i].input_prompt_number == nbb_cell_id) {\n",
       "                        if (nbb_cells[i].get_text() == nbb_unformatted_code) {\n",
       "                             nbb_cells[i].set_text(nbb_formatted_code);\n",
       "                        }\n",
       "                        break;\n",
       "                    }\n",
       "                }\n",
       "            }, 500);\n",
       "            "
      ],
      "text/plain": [
       "<IPython.core.display.Javascript object>"
      ]
     },
     "metadata": {},
     "output_type": "display_data"
    }
   ],
   "source": [
    "importances = x_pipe_cv.best_estimator_[\"xgb\"].feature_importances_\n",
    "im_df = pd.DataFrame({\"features\": X_train.columns, \"importance\": importances})\n",
    "im_df.sort_values(\"importance\", ascending=False)"
   ]
  },
  {
   "cell_type": "code",
   "execution_count": 63,
   "metadata": {},
   "outputs": [
    {
     "name": "stdout",
     "output_type": "stream",
     "text": [
      "mean prob of over for errors: 0.48048452220726784\n"
     ]
    },
    {
     "data": {
      "image/png": "[encoded data removed]",
      "text/plain": [
       "<Figure size 432x288 with 1 Axes>"
      ]
     },
     "metadata": {
      "needs_background": "light"
     },
     "output_type": "display_data"
    },
    {
     "data": {
      "application/javascript": [
       "\n",
       "            setTimeout(function() {\n",
       "                var nbb_cell_id = 63;\n",
       "                var nbb_unformatted_code = \"errors = dfscore_copy.copy()\\nerrors = errors.loc[y_test.index]\\n\\nerrors[\\\"y_true\\\"] = y_test\\nerrors[\\\"y_pred\\\"] = y_predx\\n\\nerrors = errors[errors[\\\"y_true\\\"] != errors[\\\"y_pred\\\"]]\\n\\nprint(f'mean prob of over for errors: {errors[\\\"is_over\\\"].mean()}')\\n\\n\\nsns.swarmplot(y=errors[\\\"is_over\\\"])\\nplt.show()\";\n",
       "                var nbb_formatted_code = \"errors = dfscore_copy.copy()\\nerrors = errors.loc[y_test.index]\\n\\nerrors[\\\"y_true\\\"] = y_test\\nerrors[\\\"y_pred\\\"] = y_predx\\n\\nerrors = errors[errors[\\\"y_true\\\"] != errors[\\\"y_pred\\\"]]\\n\\nprint(f'mean prob of over for errors: {errors[\\\"is_over\\\"].mean()}')\\n\\n\\nsns.swarmplot(y=errors[\\\"is_over\\\"])\\nplt.show()\";\n",
       "                var nbb_cells = Jupyter.notebook.get_cells();\n",
       "                for (var i = 0; i < nbb_cells.length; ++i) {\n",
       "                    if (nbb_cells[i].input_prompt_number == nbb_cell_id) {\n",
       "                        if (nbb_cells[i].get_text() == nbb_unformatted_code) {\n",
       "                             nbb_cells[i].set_text(nbb_formatted_code);\n",
       "                        }\n",
       "                        break;\n",
       "                    }\n",
       "                }\n",
       "            }, 500);\n",
       "            "
      ],
      "text/plain": [
       "<IPython.core.display.Javascript object>"
      ]
     },
     "metadata": {},
     "output_type": "display_data"
    }
   ],
   "source": [
    "errors = dfscore_copy.copy()\n",
    "errors = errors.loc[y_test.index]\n",
    "\n",
    "errors[\"y_true\"] = y_test\n",
    "errors[\"y_pred\"] = y_predx\n",
    "\n",
    "errors = errors[errors[\"y_true\"] != errors[\"y_pred\"]]\n",
    "\n",
    "print(f'mean prob of over for errors: {errors[\"is_over\"].mean()}')\n",
    "\n",
    "\n",
    "sns.swarmplot(y=errors[\"is_over\"])\n",
    "plt.show()"
   ]
  },
  {
   "cell_type": "markdown",
   "metadata": {},
   "source": [
    "## Rearrange the model for betting favorite"
   ]
  },
  {
   "cell_type": "code",
   "execution_count": null,
   "metadata": {},
   "outputs": [],
   "source": [
    "#dfss.loc[dfss[\"team_home\"] == dfss[\"team_favorite_id\"]\n",
    "# dfscore.loc[dfscore[\"team_favorite_id\"] == dfscore[\"team_away\"], \"away_favorite\"] = 1\n",
    "# dfss[\"home_favorite_won\"].fillna(0, inplace=True)\n",
    "# dfscore[\"away_favorite\"].fillna(0, inplace=True)"
   ]
  },
  {
   "cell_type": "code",
   "execution_count": null,
   "metadata": {},
   "outputs": [],
   "source": [
    "dfss.head()\n",
    "#To DO \n",
    "# - create a column to show when the favorite won, ideally output home or away if won, and 0 in fav lost"
   ]
  },
  {
   "cell_type": "code",
   "execution_count": null,
   "metadata": {},
   "outputs": [],
   "source": [
    "X = dfss.drop(\n",
    "    columns=[\n",
    "        \"is_over\",\n",
    "        \"schedule_season\",\n",
    "        # \"over_under_line\",\n",
    "        \"total_pts\",\n",
    "        \"home_favorite\",\n",
    "        \"away_favorite\",\n",
    "        \"score_home\",\n",
    "        \"score_away\",\n",
    "    ]\n",
    ")\n",
    "y = dfss[\"is_over\"]\n",
    "\n",
    "X_train, X_test, y_train, y_test = train_test_split(\n",
    "    X, y, test_size=0.2, random_state=42\n",
    ")"
   ]
  },
  {
   "cell_type": "code",
   "execution_count": null,
   "metadata": {},
   "outputs": [],
   "source": [
    "bin_cols = [\"is_over\"]  # \"home_favorite\", \"away_favorite\"#\n",
    "num_cols = [\n",
    "    \"mean_home\",\n",
    "    \"mean_away\",\n",
    "    \"spread_favorite\",\n",
    "    \"over_under_line\",\n",
    "    # \"total_pts\",\n",
    "]\n",
    "cat_cols = [\n",
    "    \"schedule_week\",\n",
    "    \"team_home\",\n",
    "    \"team_favorite_id\",\n",
    "    \"team_away\",\n",
    "]\n",
    "\n",
    "prep = ColumnTransformer(\n",
    "    [\n",
    "        (\"leave_one\", LeaveOneOutEncoder(), cat_cols),\n",
    "    ],\n",
    "    remainder=\"passthrough\",\n",
    ")"
   ]
  },
  {
   "cell_type": "code",
   "execution_count": null,
   "metadata": {},
   "outputs": [],
   "source": [
    "transformed = prep.fit_transform(X_train, y_train)\n",
    "# ToDO get printVIF and run it.\n",
    "type(transformed)\n",
    "# ToD0, create dataframe with transformed.\n",
    "transformed = pd.DataFrame(transformed, columns=X_train.columns)\n",
    "print_vif(transformed)"
   ]
  },
  {
   "cell_type": "code",
   "execution_count": null,
   "metadata": {},
   "outputs": [],
   "source": [
    "n_trees = 100\n",
    "# learning_rate = ([0.0001, 0.001, 0.01, 0.1, 0.2, 0.3],)\n",
    "\n",
    "x_pipe = Pipeline(\n",
    "    [\n",
    "        (\"prep\", prep),\n",
    "        (\"xgb\", XGBClassifier(n_estimators=n_trees, learning_rate=0.01 / n_trees)),\n",
    "    ]\n",
    ")\n",
    "\n",
    "x_grid = {\n",
    "    \"xgb__subsample\": [0.5, 0.75, 1],\n",
    "    \"xgb__colsample_bytree\": [0.5, 0.75, 1],\n",
    "    \"xgb__max_depth\": [2, 3, 4, 5],\n",
    "}\n",
    "\n",
    "x_pipe_cv = GridSearchCV(x_pipe, x_grid, cv=2, n_jobs=-1)"
   ]
  },
  {
   "cell_type": "code",
   "execution_count": null,
   "metadata": {},
   "outputs": [],
   "source": [
    "x_pipe_cv.fit(X_train, y_train)\n",
    "\n",
    "print(\"Best params:\")\n",
    "print(x_pipe_cv.best_params_)\n",
    "\n",
    "print(f\"\\ntrain score: {x_pipe_cv.score(X_train, y_train):.3f}\")\n",
    "print(f\"test score: {x_pipe_cv.score(X_test, y_test):.3f}\\n\")\n",
    "\n",
    "y_predx = x_pipe_cv.predict(X_test)\n",
    "print(confusion_matrix(y_test, y_predx))\n",
    "print(classification_report(y_test, y_predx))"
   ]
  },
  {
   "cell_type": "code",
   "execution_count": null,
   "metadata": {},
   "outputs": [],
   "source": [
    "importances = x_pipe_cv.best_estimator_[\"xgb\"].feature_importances_\n",
    "im_df = pd.DataFrame({\"features\": X_train.columns, \"importance\": importances})\n",
    "im_df.sort_values(\"importance\", ascending=False)"
   ]
  },
  {
   "cell_type": "code",
   "execution_count": null,
   "metadata": {},
   "outputs": [],
   "source": [
    "errors = dfscore_copy.copy()\n",
    "errors = errors.loc[y_test.index]\n",
    "\n",
    "errors[\"y_true\"] = y_test\n",
    "errors[\"y_pred\"] = y_predx\n",
    "\n",
    "errors = errors[errors[\"y_true\"] != errors[\"y_pred\"]]\n",
    "\n",
    "print(f'mean prob of over for errors: {errors[\"is_over\"].mean()}')\n",
    "\n",
    "\n",
    "sns.swarmplot(y=errors[\"is_over\"])\n",
    "plt.show()"
   ]
  },
  {
   "cell_type": "code",
   "execution_count": null,
   "metadata": {},
   "outputs": [],
   "source": []
  },
  {
   "cell_type": "code",
   "execution_count": null,
   "metadata": {},
   "outputs": [],
   "source": []
  },
  {
   "cell_type": "code",
   "execution_count": null,
   "metadata": {},
   "outputs": [],
   "source": []
  },
  {
   "cell_type": "code",
   "execution_count": null,
   "metadata": {},
   "outputs": [],
   "source": []
  },
  {
   "cell_type": "code",
   "execution_count": null,
   "metadata": {},
   "outputs": [],
   "source": [
    "# for column_name in ['schedule_week', 'over_under_line']:\n",
    "#    print(\"These are the problematic values for the variable: {}\".format(column_name))\n",
    "#    for value in dfscore[column_name]:\n",
    "#        try:\n",
    "#            float(value)\n",
    "#        except:\n",
    "#            print(value)"
   ]
  },
  {
   "cell_type": "code",
   "execution_count": null,
   "metadata": {},
   "outputs": [],
   "source": []
  }
 ],
 "metadata": {
  "kernelspec": {
   "display_name": "Python 3",
   "language": "python",
   "name": "python3"
  },
  "language_info": {
   "codemirror_mode": {
    "name": "ipython",
    "version": 3
   },
   "file_extension": ".py",
   "mimetype": "text/x-python",
   "name": "python",
   "nbconvert_exporter": "python",
   "pygments_lexer": "ipython3",
   "version": "3.8.3"
  }
 },
 "nbformat": 4,
 "nbformat_minor": 4
}
