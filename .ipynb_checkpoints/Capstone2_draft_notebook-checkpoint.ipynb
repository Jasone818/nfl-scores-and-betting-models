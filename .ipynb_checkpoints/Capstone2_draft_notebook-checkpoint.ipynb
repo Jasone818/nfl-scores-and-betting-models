{
 "cells": [
  {
   "cell_type": "code",
   "execution_count": 1,
   "metadata": {},
   "outputs": [
    {
     "data": {
      "application/javascript": [
       "\n",
       "            setTimeout(function() {\n",
       "                var nbb_cell_id = 1;\n",
       "                var nbb_unformatted_code = \"%reload_ext nb_black\";\n",
       "                var nbb_formatted_code = \"%reload_ext nb_black\";\n",
       "                var nbb_cells = Jupyter.notebook.get_cells();\n",
       "                for (var i = 0; i < nbb_cells.length; ++i) {\n",
       "                    if (nbb_cells[i].input_prompt_number == nbb_cell_id) {\n",
       "                        if (nbb_cells[i].get_text() == nbb_unformatted_code) {\n",
       "                             nbb_cells[i].set_text(nbb_formatted_code);\n",
       "                        }\n",
       "                        break;\n",
       "                    }\n",
       "                }\n",
       "            }, 500);\n",
       "            "
      ],
      "text/plain": [
       "<IPython.core.display.Javascript object>"
      ]
     },
     "metadata": {},
     "output_type": "display_data"
    }
   ],
   "source": [
    "%reload_ext nb_black"
   ]
  },
  {
   "cell_type": "code",
   "execution_count": 2,
   "metadata": {},
   "outputs": [
    {
     "data": {
      "application/javascript": [
       "\n",
       "            setTimeout(function() {\n",
       "                var nbb_cell_id = 2;\n",
       "                var nbb_unformatted_code = \"import pickle\\n\\nimport pandas as pd\\nimport numpy as np\\n\\nfrom sklearn.model_selection import train_test_split, GridSearchCV\\nfrom sklearn.compose import ColumnTransformer\\nfrom sklearn.preprocessing import StandardScaler\\nfrom sklearn.pipeline import Pipeline\\nfrom sklearn.ensemble import GradientBoostingRegressor\\n\\nfrom category_encoders import LeaveOneOutEncoder\\n\\nimport seaborn as sns\\nimport matplotlib.pyplot as plt\\n\\n%matplotlib inline\\n\\n\\nfrom sklearn.neighbors import KNeighborsClassifier\\nfrom sklearn.linear_model import LogisticRegression\\nfrom sklearn.svm import SVC\\nfrom sklearn.metrics import confusion_matrix, classification_report\\n\\nfrom xgboost import XGBClassifier\";\n",
       "                var nbb_formatted_code = \"import pickle\\n\\nimport pandas as pd\\nimport numpy as np\\n\\nfrom sklearn.model_selection import train_test_split, GridSearchCV\\nfrom sklearn.compose import ColumnTransformer\\nfrom sklearn.preprocessing import StandardScaler\\nfrom sklearn.pipeline import Pipeline\\nfrom sklearn.ensemble import GradientBoostingRegressor\\n\\nfrom category_encoders import LeaveOneOutEncoder\\n\\nimport seaborn as sns\\nimport matplotlib.pyplot as plt\\n\\n%matplotlib inline\\n\\n\\nfrom sklearn.neighbors import KNeighborsClassifier\\nfrom sklearn.linear_model import LogisticRegression\\nfrom sklearn.svm import SVC\\nfrom sklearn.metrics import confusion_matrix, classification_report\\n\\nfrom xgboost import XGBClassifier\";\n",
       "                var nbb_cells = Jupyter.notebook.get_cells();\n",
       "                for (var i = 0; i < nbb_cells.length; ++i) {\n",
       "                    if (nbb_cells[i].input_prompt_number == nbb_cell_id) {\n",
       "                        if (nbb_cells[i].get_text() == nbb_unformatted_code) {\n",
       "                             nbb_cells[i].set_text(nbb_formatted_code);\n",
       "                        }\n",
       "                        break;\n",
       "                    }\n",
       "                }\n",
       "            }, 500);\n",
       "            "
      ],
      "text/plain": [
       "<IPython.core.display.Javascript object>"
      ]
     },
     "metadata": {},
     "output_type": "display_data"
    }
   ],
   "source": [
    "import pickle\n",
    "\n",
    "import pandas as pd\n",
    "import numpy as np\n",
    "\n",
    "from sklearn.model_selection import train_test_split, GridSearchCV\n",
    "from sklearn.compose import ColumnTransformer\n",
    "from sklearn.preprocessing import StandardScaler\n",
    "from sklearn.pipeline import Pipeline\n",
    "from sklearn.ensemble import GradientBoostingRegressor\n",
    "\n",
    "from category_encoders import LeaveOneOutEncoder\n",
    "\n",
    "import seaborn as sns\n",
    "import matplotlib.pyplot as plt\n",
    "\n",
    "%matplotlib inline\n",
    "\n",
    "\n",
    "from sklearn.neighbors import KNeighborsClassifier\n",
    "from sklearn.linear_model import LogisticRegression\n",
    "from sklearn.svm import SVC\n",
    "from sklearn.metrics import confusion_matrix, classification_report\n",
    "\n",
    "from xgboost import XGBClassifier"
   ]
  },
  {
   "cell_type": "code",
   "execution_count": 3,
   "metadata": {},
   "outputs": [
    {
     "data": {
      "application/javascript": [
       "\n",
       "            setTimeout(function() {\n",
       "                var nbb_cell_id = 3;\n",
       "                var nbb_unformatted_code = \"# https://gist.github.com/AdamSpannbauer/c99c366b0c7d5b6c4920a46c32d738e5\\nimport warnings\\nimport statsmodels.api as sm\\nimport statsmodels.stats.api as sms\\nfrom statsmodels.stats.outliers_influence import variance_inflation_factor\\n\\n\\ndef print_vif(x):\\n    \\\"\\\"\\\"Utility for checking multicollinearity assumption\\n\\n    :param x: input features to check using VIF. This is assumed to be a pandas.DataFrame\\n    :return: nothing is returned the VIFs are printed as a pandas series\\n    \\\"\\\"\\\"\\n    # Silence numpy FutureWarning about .ptp\\n    with warnings.catch_warnings():\\n        warnings.simplefilter(\\\"ignore\\\")\\n        x = sm.add_constant(x)\\n\\n    vifs = []\\n    for i in range(x.shape[1]):\\n        vif = variance_inflation_factor(x.values, i)\\n        vifs.append(vif)\\n\\n    print(\\\"VIF results\\\\n-------------------------------\\\")\\n    print(pd.Series(vifs, index=x.columns))\\n    print(\\\"-------------------------------\\\\n\\\")\";\n",
       "                var nbb_formatted_code = \"# https://gist.github.com/AdamSpannbauer/c99c366b0c7d5b6c4920a46c32d738e5\\nimport warnings\\nimport statsmodels.api as sm\\nimport statsmodels.stats.api as sms\\nfrom statsmodels.stats.outliers_influence import variance_inflation_factor\\n\\n\\ndef print_vif(x):\\n    \\\"\\\"\\\"Utility for checking multicollinearity assumption\\n\\n    :param x: input features to check using VIF. This is assumed to be a pandas.DataFrame\\n    :return: nothing is returned the VIFs are printed as a pandas series\\n    \\\"\\\"\\\"\\n    # Silence numpy FutureWarning about .ptp\\n    with warnings.catch_warnings():\\n        warnings.simplefilter(\\\"ignore\\\")\\n        x = sm.add_constant(x)\\n\\n    vifs = []\\n    for i in range(x.shape[1]):\\n        vif = variance_inflation_factor(x.values, i)\\n        vifs.append(vif)\\n\\n    print(\\\"VIF results\\\\n-------------------------------\\\")\\n    print(pd.Series(vifs, index=x.columns))\\n    print(\\\"-------------------------------\\\\n\\\")\";\n",
       "                var nbb_cells = Jupyter.notebook.get_cells();\n",
       "                for (var i = 0; i < nbb_cells.length; ++i) {\n",
       "                    if (nbb_cells[i].input_prompt_number == nbb_cell_id) {\n",
       "                        if (nbb_cells[i].get_text() == nbb_unformatted_code) {\n",
       "                             nbb_cells[i].set_text(nbb_formatted_code);\n",
       "                        }\n",
       "                        break;\n",
       "                    }\n",
       "                }\n",
       "            }, 500);\n",
       "            "
      ],
      "text/plain": [
       "<IPython.core.display.Javascript object>"
      ]
     },
     "metadata": {},
     "output_type": "display_data"
    }
   ],
   "source": [
    "# https://gist.github.com/AdamSpannbauer/c99c366b0c7d5b6c4920a46c32d738e5\n",
    "import warnings\n",
    "import statsmodels.api as sm\n",
    "import statsmodels.stats.api as sms\n",
    "from statsmodels.stats.outliers_influence import variance_inflation_factor\n",
    "\n",
    "\n",
    "def print_vif(x):\n",
    "    \"\"\"Utility for checking multicollinearity assumption\n",
    "\n",
    "    :param x: input features to check using VIF. This is assumed to be a pandas.DataFrame\n",
    "    :return: nothing is returned the VIFs are printed as a pandas series\n",
    "    \"\"\"\n",
    "    # Silence numpy FutureWarning about .ptp\n",
    "    with warnings.catch_warnings():\n",
    "        warnings.simplefilter(\"ignore\")\n",
    "        x = sm.add_constant(x)\n",
    "\n",
    "    vifs = []\n",
    "    for i in range(x.shape[1]):\n",
    "        vif = variance_inflation_factor(x.values, i)\n",
    "        vifs.append(vif)\n",
    "\n",
    "    print(\"VIF results\\n-------------------------------\")\n",
    "    print(pd.Series(vifs, index=x.columns))\n",
    "    print(\"-------------------------------\\n\")"
   ]
  },
  {
   "cell_type": "code",
   "execution_count": 4,
   "metadata": {},
   "outputs": [
    {
     "data": {
      "application/javascript": [
       "\n",
       "            setTimeout(function() {\n",
       "                var nbb_cell_id = 4;\n",
       "                var nbb_unformatted_code = \"data = \\\"Data/nfl_stadiums.csv\\\"\\ndata2 = \\\"Data/nfl_teams.csv\\\"\\ndata3 = \\\"Data/spreadspoke_scores.csv\\\"\\n\\ndfstad = pd.read_csv(data, encoding=\\\"unicode_escape\\\")\\ndfteam = pd.read_csv(data2)\\ndfscore = pd.read_csv(data3)\";\n",
       "                var nbb_formatted_code = \"data = \\\"Data/nfl_stadiums.csv\\\"\\ndata2 = \\\"Data/nfl_teams.csv\\\"\\ndata3 = \\\"Data/spreadspoke_scores.csv\\\"\\n\\ndfstad = pd.read_csv(data, encoding=\\\"unicode_escape\\\")\\ndfteam = pd.read_csv(data2)\\ndfscore = pd.read_csv(data3)\";\n",
       "                var nbb_cells = Jupyter.notebook.get_cells();\n",
       "                for (var i = 0; i < nbb_cells.length; ++i) {\n",
       "                    if (nbb_cells[i].input_prompt_number == nbb_cell_id) {\n",
       "                        if (nbb_cells[i].get_text() == nbb_unformatted_code) {\n",
       "                             nbb_cells[i].set_text(nbb_formatted_code);\n",
       "                        }\n",
       "                        break;\n",
       "                    }\n",
       "                }\n",
       "            }, 500);\n",
       "            "
      ],
      "text/plain": [
       "<IPython.core.display.Javascript object>"
      ]
     },
     "metadata": {},
     "output_type": "display_data"
    }
   ],
   "source": [
    "data = \"Data/nfl_stadiums.csv\"\n",
    "data2 = \"Data/nfl_teams.csv\"\n",
    "data3 = \"Data/spreadspoke_scores.csv\"\n",
    "\n",
    "dfstad = pd.read_csv(data, encoding=\"unicode_escape\")\n",
    "dfteam = pd.read_csv(data2)\n",
    "dfscore = pd.read_csv(data3)"
   ]
  },
  {
   "cell_type": "code",
   "execution_count": 5,
   "metadata": {},
   "outputs": [
    {
     "name": "stdout",
     "output_type": "stream",
     "text": [
      "<class 'pandas.core.frame.DataFrame'>\n",
      "RangeIndex: 12934 entries, 0 to 12933\n",
      "Data columns (total 17 columns):\n",
      " #   Column               Non-Null Count  Dtype  \n",
      "---  ------               --------------  -----  \n",
      " 0   schedule_date        12934 non-null  object \n",
      " 1   schedule_season      12934 non-null  int64  \n",
      " 2   schedule_week        12934 non-null  object \n",
      " 3   schedule_playoff     12934 non-null  bool   \n",
      " 4   team_home            12934 non-null  object \n",
      " 5   score_home           12797 non-null  float64\n",
      " 6   score_away           12797 non-null  float64\n",
      " 7   team_away            12934 non-null  object \n",
      " 8   team_favorite_id     10318 non-null  object \n",
      " 9   spread_favorite      10318 non-null  float64\n",
      " 10  over_under_line      10308 non-null  object \n",
      " 11  stadium              12934 non-null  object \n",
      " 12  stadium_neutral      12934 non-null  bool   \n",
      " 13  weather_temperature  12008 non-null  float64\n",
      " 14  weather_wind_mph     12008 non-null  float64\n",
      " 15  weather_humidity     8388 non-null   object \n",
      " 16  weather_detail       2711 non-null   object \n",
      "dtypes: bool(2), float64(5), int64(1), object(9)\n",
      "memory usage: 1.5+ MB\n"
     ]
    },
    {
     "data": {
      "application/javascript": [
       "\n",
       "            setTimeout(function() {\n",
       "                var nbb_cell_id = 5;\n",
       "                var nbb_unformatted_code = \"dfscore.info()\";\n",
       "                var nbb_formatted_code = \"dfscore.info()\";\n",
       "                var nbb_cells = Jupyter.notebook.get_cells();\n",
       "                for (var i = 0; i < nbb_cells.length; ++i) {\n",
       "                    if (nbb_cells[i].input_prompt_number == nbb_cell_id) {\n",
       "                        if (nbb_cells[i].get_text() == nbb_unformatted_code) {\n",
       "                             nbb_cells[i].set_text(nbb_formatted_code);\n",
       "                        }\n",
       "                        break;\n",
       "                    }\n",
       "                }\n",
       "            }, 500);\n",
       "            "
      ],
      "text/plain": [
       "<IPython.core.display.Javascript object>"
      ]
     },
     "metadata": {},
     "output_type": "display_data"
    }
   ],
   "source": [
    "dfscore.info()"
   ]
  },
  {
   "cell_type": "code",
   "execution_count": null,
   "metadata": {},
   "outputs": [],
   "source": []
  },
  {
   "cell_type": "code",
   "execution_count": 6,
   "metadata": {},
   "outputs": [
    {
     "data": {
      "application/javascript": [
       "\n",
       "            setTimeout(function() {\n",
       "                var nbb_cell_id = 6;\n",
       "                var nbb_unformatted_code = \"dfscore = dfscore.replace(r\\\"^\\\\s*$\\\", np.nan, regex=True)\\ndfscore = dfscore.drop(\\n    columns=[\\n        \\\"weather_humidity\\\",\\n        \\\"weather_detail\\\",\\n        \\\"weather_temperature\\\",\\n        \\\"weather_wind_mph\\\",\\n        \\\"schedule_date\\\",\\n        \\\"schedule_playoff\\\",\\n        \\\"stadium\\\",\\n        \\\"stadium_neutral\\\",\\n    ]\\n)\";\n",
       "                var nbb_formatted_code = \"dfscore = dfscore.replace(r\\\"^\\\\s*$\\\", np.nan, regex=True)\\ndfscore = dfscore.drop(\\n    columns=[\\n        \\\"weather_humidity\\\",\\n        \\\"weather_detail\\\",\\n        \\\"weather_temperature\\\",\\n        \\\"weather_wind_mph\\\",\\n        \\\"schedule_date\\\",\\n        \\\"schedule_playoff\\\",\\n        \\\"stadium\\\",\\n        \\\"stadium_neutral\\\",\\n    ]\\n)\";\n",
       "                var nbb_cells = Jupyter.notebook.get_cells();\n",
       "                for (var i = 0; i < nbb_cells.length; ++i) {\n",
       "                    if (nbb_cells[i].input_prompt_number == nbb_cell_id) {\n",
       "                        if (nbb_cells[i].get_text() == nbb_unformatted_code) {\n",
       "                             nbb_cells[i].set_text(nbb_formatted_code);\n",
       "                        }\n",
       "                        break;\n",
       "                    }\n",
       "                }\n",
       "            }, 500);\n",
       "            "
      ],
      "text/plain": [
       "<IPython.core.display.Javascript object>"
      ]
     },
     "metadata": {},
     "output_type": "display_data"
    }
   ],
   "source": [
    "dfscore = dfscore.replace(r\"^\\s*$\", np.nan, regex=True)\n",
    "dfscore = dfscore.drop(\n",
    "    columns=[\n",
    "        \"weather_humidity\",\n",
    "        \"weather_detail\",\n",
    "        \"weather_temperature\",\n",
    "        \"weather_wind_mph\",\n",
    "        \"schedule_date\",\n",
    "        \"schedule_playoff\",\n",
    "        \"stadium\",\n",
    "        \"stadium_neutral\",\n",
    "    ]\n",
    ")"
   ]
  },
  {
   "cell_type": "code",
   "execution_count": 7,
   "metadata": {},
   "outputs": [
    {
     "data": {
      "application/javascript": [
       "\n",
       "            setTimeout(function() {\n",
       "                var nbb_cell_id = 7;\n",
       "                var nbb_unformatted_code = \"dfscore = dfscore[\\n    (dfscore[\\\"score_home\\\"].isna() == False)\\n    & (dfscore[\\\"team_favorite_id\\\"].isna() == False)\\n    & (dfscore[\\\"over_under_line\\\"].isna() == False)\\n    & (dfscore[\\\"schedule_season\\\"] >= 1979)\\n]\";\n",
       "                var nbb_formatted_code = \"dfscore = dfscore[\\n    (dfscore[\\\"score_home\\\"].isna() == False)\\n    & (dfscore[\\\"team_favorite_id\\\"].isna() == False)\\n    & (dfscore[\\\"over_under_line\\\"].isna() == False)\\n    & (dfscore[\\\"schedule_season\\\"] >= 1979)\\n]\";\n",
       "                var nbb_cells = Jupyter.notebook.get_cells();\n",
       "                for (var i = 0; i < nbb_cells.length; ++i) {\n",
       "                    if (nbb_cells[i].input_prompt_number == nbb_cell_id) {\n",
       "                        if (nbb_cells[i].get_text() == nbb_unformatted_code) {\n",
       "                             nbb_cells[i].set_text(nbb_formatted_code);\n",
       "                        }\n",
       "                        break;\n",
       "                    }\n",
       "                }\n",
       "            }, 500);\n",
       "            "
      ],
      "text/plain": [
       "<IPython.core.display.Javascript object>"
      ]
     },
     "metadata": {},
     "output_type": "display_data"
    }
   ],
   "source": [
    "dfscore = dfscore[\n",
    "    (dfscore[\"score_home\"].isna() == False)\n",
    "    & (dfscore[\"team_favorite_id\"].isna() == False)\n",
    "    & (dfscore[\"over_under_line\"].isna() == False)\n",
    "    & (dfscore[\"schedule_season\"] >= 1979)\n",
    "]"
   ]
  },
  {
   "cell_type": "code",
   "execution_count": 8,
   "metadata": {},
   "outputs": [
    {
     "data": {
      "application/javascript": [
       "\n",
       "            setTimeout(function() {\n",
       "                var nbb_cell_id = 8;\n",
       "                var nbb_unformatted_code = \"dfscore.reset_index(drop=True, inplace=True)\";\n",
       "                var nbb_formatted_code = \"dfscore.reset_index(drop=True, inplace=True)\";\n",
       "                var nbb_cells = Jupyter.notebook.get_cells();\n",
       "                for (var i = 0; i < nbb_cells.length; ++i) {\n",
       "                    if (nbb_cells[i].input_prompt_number == nbb_cell_id) {\n",
       "                        if (nbb_cells[i].get_text() == nbb_unformatted_code) {\n",
       "                             nbb_cells[i].set_text(nbb_formatted_code);\n",
       "                        }\n",
       "                        break;\n",
       "                    }\n",
       "                }\n",
       "            }, 500);\n",
       "            "
      ],
      "text/plain": [
       "<IPython.core.display.Javascript object>"
      ]
     },
     "metadata": {},
     "output_type": "display_data"
    }
   ],
   "source": [
    "dfscore.reset_index(drop=True, inplace=True)"
   ]
  },
  {
   "cell_type": "code",
   "execution_count": 9,
   "metadata": {},
   "outputs": [
    {
     "name": "stdout",
     "output_type": "stream",
     "text": [
      "<class 'pandas.core.frame.DataFrame'>\n",
      "RangeIndex: 10234 entries, 0 to 10233\n",
      "Data columns (total 9 columns):\n",
      " #   Column            Non-Null Count  Dtype  \n",
      "---  ------            --------------  -----  \n",
      " 0   schedule_season   10234 non-null  int64  \n",
      " 1   schedule_week     10234 non-null  object \n",
      " 2   team_home         10234 non-null  object \n",
      " 3   score_home        10234 non-null  float64\n",
      " 4   score_away        10234 non-null  float64\n",
      " 5   team_away         10234 non-null  object \n",
      " 6   team_favorite_id  10234 non-null  object \n",
      " 7   spread_favorite   10234 non-null  float64\n",
      " 8   over_under_line   10234 non-null  object \n",
      "dtypes: float64(3), int64(1), object(5)\n",
      "memory usage: 719.7+ KB\n"
     ]
    },
    {
     "data": {
      "application/javascript": [
       "\n",
       "            setTimeout(function() {\n",
       "                var nbb_cell_id = 9;\n",
       "                var nbb_unformatted_code = \"dfscore.info()\";\n",
       "                var nbb_formatted_code = \"dfscore.info()\";\n",
       "                var nbb_cells = Jupyter.notebook.get_cells();\n",
       "                for (var i = 0; i < nbb_cells.length; ++i) {\n",
       "                    if (nbb_cells[i].input_prompt_number == nbb_cell_id) {\n",
       "                        if (nbb_cells[i].get_text() == nbb_unformatted_code) {\n",
       "                             nbb_cells[i].set_text(nbb_formatted_code);\n",
       "                        }\n",
       "                        break;\n",
       "                    }\n",
       "                }\n",
       "            }, 500);\n",
       "            "
      ],
      "text/plain": [
       "<IPython.core.display.Javascript object>"
      ]
     },
     "metadata": {},
     "output_type": "display_data"
    }
   ],
   "source": [
    "dfscore.info()"
   ]
  },
  {
   "cell_type": "code",
   "execution_count": 10,
   "metadata": {},
   "outputs": [
    {
     "data": {
      "text/html": [
       "<div>\n",
       "<style scoped>\n",
       "    .dataframe tbody tr th:only-of-type {\n",
       "        vertical-align: middle;\n",
       "    }\n",
       "\n",
       "    .dataframe tbody tr th {\n",
       "        vertical-align: top;\n",
       "    }\n",
       "\n",
       "    .dataframe thead th {\n",
       "        text-align: right;\n",
       "    }\n",
       "</style>\n",
       "<table border=\"1\" class=\"dataframe\">\n",
       "  <thead>\n",
       "    <tr style=\"text-align: right;\">\n",
       "      <th></th>\n",
       "      <th>schedule_season</th>\n",
       "      <th>schedule_week</th>\n",
       "      <th>team_home</th>\n",
       "      <th>team_away</th>\n",
       "      <th>team_favorite_id</th>\n",
       "      <th>spread_favorite</th>\n",
       "      <th>over_under_line</th>\n",
       "      <th>score_home</th>\n",
       "      <th>score_away</th>\n",
       "      <th>mean_home</th>\n",
       "      <th>mean_away</th>\n",
       "    </tr>\n",
       "  </thead>\n",
       "  <tbody>\n",
       "    <tr>\n",
       "      <th>0</th>\n",
       "      <td>1979</td>\n",
       "      <td>1</td>\n",
       "      <td>Tampa Bay Buccaneers</td>\n",
       "      <td>Detroit Lions</td>\n",
       "      <td>TB</td>\n",
       "      <td>-3.0</td>\n",
       "      <td>30</td>\n",
       "      <td>31.0</td>\n",
       "      <td>16.0</td>\n",
       "      <td>17.875</td>\n",
       "      <td>10.875</td>\n",
       "    </tr>\n",
       "    <tr>\n",
       "      <th>1</th>\n",
       "      <td>1979</td>\n",
       "      <td>10</td>\n",
       "      <td>Chicago Bears</td>\n",
       "      <td>Detroit Lions</td>\n",
       "      <td>CHI</td>\n",
       "      <td>-7.0</td>\n",
       "      <td>35</td>\n",
       "      <td>35.0</td>\n",
       "      <td>7.0</td>\n",
       "      <td>22.375</td>\n",
       "      <td>10.875</td>\n",
       "    </tr>\n",
       "    <tr>\n",
       "      <th>2</th>\n",
       "      <td>1979</td>\n",
       "      <td>12</td>\n",
       "      <td>Minnesota Vikings</td>\n",
       "      <td>Detroit Lions</td>\n",
       "      <td>MIN</td>\n",
       "      <td>-4.0</td>\n",
       "      <td>37</td>\n",
       "      <td>14.0</td>\n",
       "      <td>7.0</td>\n",
       "      <td>18.875</td>\n",
       "      <td>10.875</td>\n",
       "    </tr>\n",
       "    <tr>\n",
       "      <th>3</th>\n",
       "      <td>1979</td>\n",
       "      <td>8</td>\n",
       "      <td>New Orleans Saints</td>\n",
       "      <td>Detroit Lions</td>\n",
       "      <td>NO</td>\n",
       "      <td>-7.0</td>\n",
       "      <td>42</td>\n",
       "      <td>17.0</td>\n",
       "      <td>7.0</td>\n",
       "      <td>21.500</td>\n",
       "      <td>10.875</td>\n",
       "    </tr>\n",
       "    <tr>\n",
       "      <th>4</th>\n",
       "      <td>1979</td>\n",
       "      <td>3</td>\n",
       "      <td>New York Jets</td>\n",
       "      <td>Detroit Lions</td>\n",
       "      <td>NYJ</td>\n",
       "      <td>-6.0</td>\n",
       "      <td>42</td>\n",
       "      <td>31.0</td>\n",
       "      <td>10.0</td>\n",
       "      <td>24.625</td>\n",
       "      <td>10.875</td>\n",
       "    </tr>\n",
       "  </tbody>\n",
       "</table>\n",
       "</div>"
      ],
      "text/plain": [
       "   schedule_season schedule_week             team_home      team_away  \\\n",
       "0             1979             1  Tampa Bay Buccaneers  Detroit Lions   \n",
       "1             1979            10         Chicago Bears  Detroit Lions   \n",
       "2             1979            12     Minnesota Vikings  Detroit Lions   \n",
       "3             1979             8    New Orleans Saints  Detroit Lions   \n",
       "4             1979             3         New York Jets  Detroit Lions   \n",
       "\n",
       "  team_favorite_id  spread_favorite over_under_line  score_home  score_away  \\\n",
       "0               TB             -3.0              30        31.0        16.0   \n",
       "1              CHI             -7.0              35        35.0         7.0   \n",
       "2              MIN             -4.0              37        14.0         7.0   \n",
       "3               NO             -7.0              42        17.0         7.0   \n",
       "4              NYJ             -6.0              42        31.0        10.0   \n",
       "\n",
       "   mean_home  mean_away  \n",
       "0     17.875     10.875  \n",
       "1     22.375     10.875  \n",
       "2     18.875     10.875  \n",
       "3     21.500     10.875  \n",
       "4     24.625     10.875  "
      ]
     },
     "execution_count": 10,
     "metadata": {},
     "output_type": "execute_result"
    },
    {
     "data": {
      "application/javascript": [
       "\n",
       "            setTimeout(function() {\n",
       "                var nbb_cell_id = 10;\n",
       "                var nbb_unformatted_code = \"home_scores = (\\n    dfscore[\\n        [\\n            \\\"score_home\\\",\\n            \\\"schedule_season\\\",\\n            \\\"team_home\\\",\\n        ]\\n    ]\\n    .groupby([\\\"schedule_season\\\", \\\"team_home\\\"])\\n    .mean()\\n    .reset_index()\\n)\\n\\naway_scores = (\\n    dfscore[\\n        [\\n            \\\"score_away\\\",\\n            \\\"schedule_season\\\",\\n            \\\"team_away\\\",\\n        ]\\n    ]\\n    .groupby([\\\"schedule_season\\\", \\\"team_away\\\"])\\n    .mean()\\n    .reset_index()\\n)\\n\\n\\ndfscoreh = pd.merge(dfscore, home_scores, on=[\\\"team_home\\\", \\\"schedule_season\\\"])\\n\\ndfscoreb = pd.merge(dfscoreh, away_scores, on=[\\\"team_away\\\", \\\"schedule_season\\\"])\\ndfscore = dfscoreb\\ndfscore[\\\"score_home\\\"] = dfscore[\\\"score_home_x\\\"]\\ndfscore[\\\"score_away\\\"] = dfscore[\\\"score_away_x\\\"]\\ndfscore[\\\"mean_home\\\"] = dfscore[\\\"score_home_y\\\"]\\ndfscore[\\\"mean_away\\\"] = dfscore[\\\"score_away_y\\\"]\\ndfscore = dfscore.drop(\\n    columns=[\\\"score_home_x\\\", \\\"score_away_x\\\", \\\"score_home_y\\\", \\\"score_away_y\\\"]\\n)\\ndfscore.head()\";\n",
       "                var nbb_formatted_code = \"home_scores = (\\n    dfscore[\\n        [\\n            \\\"score_home\\\",\\n            \\\"schedule_season\\\",\\n            \\\"team_home\\\",\\n        ]\\n    ]\\n    .groupby([\\\"schedule_season\\\", \\\"team_home\\\"])\\n    .mean()\\n    .reset_index()\\n)\\n\\naway_scores = (\\n    dfscore[\\n        [\\n            \\\"score_away\\\",\\n            \\\"schedule_season\\\",\\n            \\\"team_away\\\",\\n        ]\\n    ]\\n    .groupby([\\\"schedule_season\\\", \\\"team_away\\\"])\\n    .mean()\\n    .reset_index()\\n)\\n\\n\\ndfscoreh = pd.merge(dfscore, home_scores, on=[\\\"team_home\\\", \\\"schedule_season\\\"])\\n\\ndfscoreb = pd.merge(dfscoreh, away_scores, on=[\\\"team_away\\\", \\\"schedule_season\\\"])\\ndfscore = dfscoreb\\ndfscore[\\\"score_home\\\"] = dfscore[\\\"score_home_x\\\"]\\ndfscore[\\\"score_away\\\"] = dfscore[\\\"score_away_x\\\"]\\ndfscore[\\\"mean_home\\\"] = dfscore[\\\"score_home_y\\\"]\\ndfscore[\\\"mean_away\\\"] = dfscore[\\\"score_away_y\\\"]\\ndfscore = dfscore.drop(\\n    columns=[\\\"score_home_x\\\", \\\"score_away_x\\\", \\\"score_home_y\\\", \\\"score_away_y\\\"]\\n)\\ndfscore.head()\";\n",
       "                var nbb_cells = Jupyter.notebook.get_cells();\n",
       "                for (var i = 0; i < nbb_cells.length; ++i) {\n",
       "                    if (nbb_cells[i].input_prompt_number == nbb_cell_id) {\n",
       "                        if (nbb_cells[i].get_text() == nbb_unformatted_code) {\n",
       "                             nbb_cells[i].set_text(nbb_formatted_code);\n",
       "                        }\n",
       "                        break;\n",
       "                    }\n",
       "                }\n",
       "            }, 500);\n",
       "            "
      ],
      "text/plain": [
       "<IPython.core.display.Javascript object>"
      ]
     },
     "metadata": {},
     "output_type": "display_data"
    }
   ],
   "source": [
    "home_scores = (\n",
    "    dfscore[\n",
    "        [\n",
    "            \"score_home\",\n",
    "            \"schedule_season\",\n",
    "            \"team_home\",\n",
    "        ]\n",
    "    ]\n",
    "    .groupby([\"schedule_season\", \"team_home\"])\n",
    "    .mean()\n",
    "    .reset_index()\n",
    ")\n",
    "\n",
    "away_scores = (\n",
    "    dfscore[\n",
    "        [\n",
    "            \"score_away\",\n",
    "            \"schedule_season\",\n",
    "            \"team_away\",\n",
    "        ]\n",
    "    ]\n",
    "    .groupby([\"schedule_season\", \"team_away\"])\n",
    "    .mean()\n",
    "    .reset_index()\n",
    ")\n",
    "\n",
    "\n",
    "dfscoreh = pd.merge(dfscore, home_scores, on=[\"team_home\", \"schedule_season\"])\n",
    "\n",
    "dfscoreb = pd.merge(dfscoreh, away_scores, on=[\"team_away\", \"schedule_season\"])\n",
    "dfscore = dfscoreb\n",
    "dfscore[\"score_home\"] = dfscore[\"score_home_x\"]\n",
    "dfscore[\"score_away\"] = dfscore[\"score_away_x\"]\n",
    "dfscore[\"mean_home\"] = dfscore[\"score_home_y\"]\n",
    "dfscore[\"mean_away\"] = dfscore[\"score_away_y\"]\n",
    "dfscore = dfscore.drop(\n",
    "    columns=[\"score_home_x\", \"score_away_x\", \"score_home_y\", \"score_away_y\"]\n",
    ")\n",
    "dfscore.head()"
   ]
  },
  {
   "cell_type": "code",
   "execution_count": 11,
   "metadata": {},
   "outputs": [
    {
     "data": {
      "application/javascript": [
       "\n",
       "            setTimeout(function() {\n",
       "                var nbb_cell_id = 11;\n",
       "                var nbb_unformatted_code = \"dfscore[\\\"over_under_line\\\"] = dfscore[\\\"over_under_line\\\"].astype(float)\";\n",
       "                var nbb_formatted_code = \"dfscore[\\\"over_under_line\\\"] = dfscore[\\\"over_under_line\\\"].astype(float)\";\n",
       "                var nbb_cells = Jupyter.notebook.get_cells();\n",
       "                for (var i = 0; i < nbb_cells.length; ++i) {\n",
       "                    if (nbb_cells[i].input_prompt_number == nbb_cell_id) {\n",
       "                        if (nbb_cells[i].get_text() == nbb_unformatted_code) {\n",
       "                             nbb_cells[i].set_text(nbb_formatted_code);\n",
       "                        }\n",
       "                        break;\n",
       "                    }\n",
       "                }\n",
       "            }, 500);\n",
       "            "
      ],
      "text/plain": [
       "<IPython.core.display.Javascript object>"
      ]
     },
     "metadata": {},
     "output_type": "display_data"
    }
   ],
   "source": [
    "dfscore[\"over_under_line\"] = dfscore[\"over_under_line\"].astype(float)"
   ]
  },
  {
   "cell_type": "code",
   "execution_count": 12,
   "metadata": {},
   "outputs": [
    {
     "data": {
      "application/javascript": [
       "\n",
       "            setTimeout(function() {\n",
       "                var nbb_cell_id = 12;\n",
       "                var nbb_unformatted_code = \"dfscore[\\\"team_home\\\"] = dfscore[\\\"team_home\\\"].map(\\n    dfteam.set_index(\\\"team_name\\\")[\\\"team_id\\\"].to_dict()\\n)\\ndfscore[\\\"team_away\\\"] = dfscore[\\\"team_away\\\"].map(\\n    dfteam.set_index(\\\"team_name\\\")[\\\"team_id\\\"].to_dict()\\n)\";\n",
       "                var nbb_formatted_code = \"dfscore[\\\"team_home\\\"] = dfscore[\\\"team_home\\\"].map(\\n    dfteam.set_index(\\\"team_name\\\")[\\\"team_id\\\"].to_dict()\\n)\\ndfscore[\\\"team_away\\\"] = dfscore[\\\"team_away\\\"].map(\\n    dfteam.set_index(\\\"team_name\\\")[\\\"team_id\\\"].to_dict()\\n)\";\n",
       "                var nbb_cells = Jupyter.notebook.get_cells();\n",
       "                for (var i = 0; i < nbb_cells.length; ++i) {\n",
       "                    if (nbb_cells[i].input_prompt_number == nbb_cell_id) {\n",
       "                        if (nbb_cells[i].get_text() == nbb_unformatted_code) {\n",
       "                             nbb_cells[i].set_text(nbb_formatted_code);\n",
       "                        }\n",
       "                        break;\n",
       "                    }\n",
       "                }\n",
       "            }, 500);\n",
       "            "
      ],
      "text/plain": [
       "<IPython.core.display.Javascript object>"
      ]
     },
     "metadata": {},
     "output_type": "display_data"
    }
   ],
   "source": [
    "dfscore[\"team_home\"] = dfscore[\"team_home\"].map(\n",
    "    dfteam.set_index(\"team_name\")[\"team_id\"].to_dict()\n",
    ")\n",
    "dfscore[\"team_away\"] = dfscore[\"team_away\"].map(\n",
    "    dfteam.set_index(\"team_name\")[\"team_id\"].to_dict()\n",
    ")"
   ]
  },
  {
   "cell_type": "code",
   "execution_count": 13,
   "metadata": {},
   "outputs": [
    {
     "data": {
      "application/javascript": [
       "\n",
       "            setTimeout(function() {\n",
       "                var nbb_cell_id = 13;\n",
       "                var nbb_unformatted_code = \"dfscore.loc[dfscore[\\\"team_favorite_id\\\"] == dfscore[\\\"team_home\\\"], \\\"home_favorite\\\"] = 1\\ndfscore.loc[dfscore[\\\"team_favorite_id\\\"] == dfscore[\\\"team_away\\\"], \\\"away_favorite\\\"] = 1\\ndfscore[\\\"home_favorite\\\"].fillna(0, inplace=True)\\ndfscore[\\\"away_favorite\\\"].fillna(0, inplace=True)\";\n",
       "                var nbb_formatted_code = \"dfscore.loc[dfscore[\\\"team_favorite_id\\\"] == dfscore[\\\"team_home\\\"], \\\"home_favorite\\\"] = 1\\ndfscore.loc[dfscore[\\\"team_favorite_id\\\"] == dfscore[\\\"team_away\\\"], \\\"away_favorite\\\"] = 1\\ndfscore[\\\"home_favorite\\\"].fillna(0, inplace=True)\\ndfscore[\\\"away_favorite\\\"].fillna(0, inplace=True)\";\n",
       "                var nbb_cells = Jupyter.notebook.get_cells();\n",
       "                for (var i = 0; i < nbb_cells.length; ++i) {\n",
       "                    if (nbb_cells[i].input_prompt_number == nbb_cell_id) {\n",
       "                        if (nbb_cells[i].get_text() == nbb_unformatted_code) {\n",
       "                             nbb_cells[i].set_text(nbb_formatted_code);\n",
       "                        }\n",
       "                        break;\n",
       "                    }\n",
       "                }\n",
       "            }, 500);\n",
       "            "
      ],
      "text/plain": [
       "<IPython.core.display.Javascript object>"
      ]
     },
     "metadata": {},
     "output_type": "display_data"
    }
   ],
   "source": [
    "dfscore.loc[dfscore[\"team_favorite_id\"] == dfscore[\"team_home\"], \"home_favorite\"] = 1\n",
    "dfscore.loc[dfscore[\"team_favorite_id\"] == dfscore[\"team_away\"], \"away_favorite\"] = 1\n",
    "dfscore[\"home_favorite\"].fillna(0, inplace=True)\n",
    "dfscore[\"away_favorite\"].fillna(0, inplace=True)"
   ]
  },
  {
   "cell_type": "code",
   "execution_count": 14,
   "metadata": {},
   "outputs": [
    {
     "data": {
      "application/javascript": [
       "\n",
       "            setTimeout(function() {\n",
       "                var nbb_cell_id = 14;\n",
       "                var nbb_unformatted_code = \"dfscore[\\\"score_dif\\\"] = np.abs(dfscore[\\\"score_home\\\"] - dfscore[\\\"score_away\\\"])\";\n",
       "                var nbb_formatted_code = \"dfscore[\\\"score_dif\\\"] = np.abs(dfscore[\\\"score_home\\\"] - dfscore[\\\"score_away\\\"])\";\n",
       "                var nbb_cells = Jupyter.notebook.get_cells();\n",
       "                for (var i = 0; i < nbb_cells.length; ++i) {\n",
       "                    if (nbb_cells[i].input_prompt_number == nbb_cell_id) {\n",
       "                        if (nbb_cells[i].get_text() == nbb_unformatted_code) {\n",
       "                             nbb_cells[i].set_text(nbb_formatted_code);\n",
       "                        }\n",
       "                        break;\n",
       "                    }\n",
       "                }\n",
       "            }, 500);\n",
       "            "
      ],
      "text/plain": [
       "<IPython.core.display.Javascript object>"
      ]
     },
     "metadata": {},
     "output_type": "display_data"
    }
   ],
   "source": [
    "dfscore[\"score_dif\"] = np.abs(dfscore[\"score_home\"] - dfscore[\"score_away\"])\n"
   ]
  },
  {
   "cell_type": "code",
   "execution_count": 15,
   "metadata": {},
   "outputs": [
    {
     "data": {
      "text/html": [
       "<div>\n",
       "<style scoped>\n",
       "    .dataframe tbody tr th:only-of-type {\n",
       "        vertical-align: middle;\n",
       "    }\n",
       "\n",
       "    .dataframe tbody tr th {\n",
       "        vertical-align: top;\n",
       "    }\n",
       "\n",
       "    .dataframe thead th {\n",
       "        text-align: right;\n",
       "    }\n",
       "</style>\n",
       "<table border=\"1\" class=\"dataframe\">\n",
       "  <thead>\n",
       "    <tr style=\"text-align: right;\">\n",
       "      <th></th>\n",
       "      <th>schedule_season</th>\n",
       "      <th>schedule_week</th>\n",
       "      <th>team_home</th>\n",
       "      <th>team_away</th>\n",
       "      <th>team_favorite_id</th>\n",
       "      <th>spread_favorite</th>\n",
       "      <th>over_under_line</th>\n",
       "      <th>score_home</th>\n",
       "      <th>score_away</th>\n",
       "      <th>mean_home</th>\n",
       "      <th>mean_away</th>\n",
       "      <th>home_favorite</th>\n",
       "      <th>away_favorite</th>\n",
       "      <th>score_dif</th>\n",
       "    </tr>\n",
       "  </thead>\n",
       "  <tbody>\n",
       "    <tr>\n",
       "      <th>0</th>\n",
       "      <td>1979</td>\n",
       "      <td>1</td>\n",
       "      <td>TB</td>\n",
       "      <td>DET</td>\n",
       "      <td>TB</td>\n",
       "      <td>-3.0</td>\n",
       "      <td>30.0</td>\n",
       "      <td>31.0</td>\n",
       "      <td>16.0</td>\n",
       "      <td>17.875</td>\n",
       "      <td>10.875</td>\n",
       "      <td>1.0</td>\n",
       "      <td>0.0</td>\n",
       "      <td>15.0</td>\n",
       "    </tr>\n",
       "    <tr>\n",
       "      <th>1</th>\n",
       "      <td>1979</td>\n",
       "      <td>10</td>\n",
       "      <td>CHI</td>\n",
       "      <td>DET</td>\n",
       "      <td>CHI</td>\n",
       "      <td>-7.0</td>\n",
       "      <td>35.0</td>\n",
       "      <td>35.0</td>\n",
       "      <td>7.0</td>\n",
       "      <td>22.375</td>\n",
       "      <td>10.875</td>\n",
       "      <td>1.0</td>\n",
       "      <td>0.0</td>\n",
       "      <td>28.0</td>\n",
       "    </tr>\n",
       "    <tr>\n",
       "      <th>2</th>\n",
       "      <td>1979</td>\n",
       "      <td>12</td>\n",
       "      <td>MIN</td>\n",
       "      <td>DET</td>\n",
       "      <td>MIN</td>\n",
       "      <td>-4.0</td>\n",
       "      <td>37.0</td>\n",
       "      <td>14.0</td>\n",
       "      <td>7.0</td>\n",
       "      <td>18.875</td>\n",
       "      <td>10.875</td>\n",
       "      <td>1.0</td>\n",
       "      <td>0.0</td>\n",
       "      <td>7.0</td>\n",
       "    </tr>\n",
       "    <tr>\n",
       "      <th>3</th>\n",
       "      <td>1979</td>\n",
       "      <td>8</td>\n",
       "      <td>NO</td>\n",
       "      <td>DET</td>\n",
       "      <td>NO</td>\n",
       "      <td>-7.0</td>\n",
       "      <td>42.0</td>\n",
       "      <td>17.0</td>\n",
       "      <td>7.0</td>\n",
       "      <td>21.500</td>\n",
       "      <td>10.875</td>\n",
       "      <td>1.0</td>\n",
       "      <td>0.0</td>\n",
       "      <td>10.0</td>\n",
       "    </tr>\n",
       "    <tr>\n",
       "      <th>4</th>\n",
       "      <td>1979</td>\n",
       "      <td>3</td>\n",
       "      <td>NYJ</td>\n",
       "      <td>DET</td>\n",
       "      <td>NYJ</td>\n",
       "      <td>-6.0</td>\n",
       "      <td>42.0</td>\n",
       "      <td>31.0</td>\n",
       "      <td>10.0</td>\n",
       "      <td>24.625</td>\n",
       "      <td>10.875</td>\n",
       "      <td>1.0</td>\n",
       "      <td>0.0</td>\n",
       "      <td>21.0</td>\n",
       "    </tr>\n",
       "    <tr>\n",
       "      <th>5</th>\n",
       "      <td>1979</td>\n",
       "      <td>14</td>\n",
       "      <td>PHI</td>\n",
       "      <td>DET</td>\n",
       "      <td>PHI</td>\n",
       "      <td>-8.0</td>\n",
       "      <td>37.0</td>\n",
       "      <td>44.0</td>\n",
       "      <td>7.0</td>\n",
       "      <td>21.750</td>\n",
       "      <td>10.875</td>\n",
       "      <td>1.0</td>\n",
       "      <td>0.0</td>\n",
       "      <td>37.0</td>\n",
       "    </tr>\n",
       "    <tr>\n",
       "      <th>6</th>\n",
       "      <td>1979</td>\n",
       "      <td>6</td>\n",
       "      <td>NE</td>\n",
       "      <td>DET</td>\n",
       "      <td>NE</td>\n",
       "      <td>-13.0</td>\n",
       "      <td>40.0</td>\n",
       "      <td>24.0</td>\n",
       "      <td>17.0</td>\n",
       "      <td>29.750</td>\n",
       "      <td>10.875</td>\n",
       "      <td>1.0</td>\n",
       "      <td>0.0</td>\n",
       "      <td>7.0</td>\n",
       "    </tr>\n",
       "    <tr>\n",
       "      <th>7</th>\n",
       "      <td>1979</td>\n",
       "      <td>7</td>\n",
       "      <td>GB</td>\n",
       "      <td>DET</td>\n",
       "      <td>GB</td>\n",
       "      <td>-4.0</td>\n",
       "      <td>36.0</td>\n",
       "      <td>24.0</td>\n",
       "      <td>16.0</td>\n",
       "      <td>19.250</td>\n",
       "      <td>10.875</td>\n",
       "      <td>1.0</td>\n",
       "      <td>0.0</td>\n",
       "      <td>8.0</td>\n",
       "    </tr>\n",
       "    <tr>\n",
       "      <th>8</th>\n",
       "      <td>1979</td>\n",
       "      <td>4</td>\n",
       "      <td>TB</td>\n",
       "      <td>LAR</td>\n",
       "      <td>LAR</td>\n",
       "      <td>-3.0</td>\n",
       "      <td>35.0</td>\n",
       "      <td>21.0</td>\n",
       "      <td>6.0</td>\n",
       "      <td>17.875</td>\n",
       "      <td>20.875</td>\n",
       "      <td>0.0</td>\n",
       "      <td>1.0</td>\n",
       "      <td>15.0</td>\n",
       "    </tr>\n",
       "    <tr>\n",
       "      <th>9</th>\n",
       "      <td>1979</td>\n",
       "      <td>11</td>\n",
       "      <td>CHI</td>\n",
       "      <td>LAR</td>\n",
       "      <td>PICK</td>\n",
       "      <td>0.0</td>\n",
       "      <td>34.0</td>\n",
       "      <td>27.0</td>\n",
       "      <td>23.0</td>\n",
       "      <td>22.375</td>\n",
       "      <td>20.875</td>\n",
       "      <td>0.0</td>\n",
       "      <td>0.0</td>\n",
       "      <td>4.0</td>\n",
       "    </tr>\n",
       "  </tbody>\n",
       "</table>\n",
       "</div>"
      ],
      "text/plain": [
       "   schedule_season schedule_week team_home team_away team_favorite_id  \\\n",
       "0             1979             1        TB       DET               TB   \n",
       "1             1979            10       CHI       DET              CHI   \n",
       "2             1979            12       MIN       DET              MIN   \n",
       "3             1979             8        NO       DET               NO   \n",
       "4             1979             3       NYJ       DET              NYJ   \n",
       "5             1979            14       PHI       DET              PHI   \n",
       "6             1979             6        NE       DET               NE   \n",
       "7             1979             7        GB       DET               GB   \n",
       "8             1979             4        TB       LAR              LAR   \n",
       "9             1979            11       CHI       LAR             PICK   \n",
       "\n",
       "   spread_favorite  over_under_line  score_home  score_away  mean_home  \\\n",
       "0             -3.0             30.0        31.0        16.0     17.875   \n",
       "1             -7.0             35.0        35.0         7.0     22.375   \n",
       "2             -4.0             37.0        14.0         7.0     18.875   \n",
       "3             -7.0             42.0        17.0         7.0     21.500   \n",
       "4             -6.0             42.0        31.0        10.0     24.625   \n",
       "5             -8.0             37.0        44.0         7.0     21.750   \n",
       "6            -13.0             40.0        24.0        17.0     29.750   \n",
       "7             -4.0             36.0        24.0        16.0     19.250   \n",
       "8             -3.0             35.0        21.0         6.0     17.875   \n",
       "9              0.0             34.0        27.0        23.0     22.375   \n",
       "\n",
       "   mean_away  home_favorite  away_favorite  score_dif  \n",
       "0     10.875            1.0            0.0       15.0  \n",
       "1     10.875            1.0            0.0       28.0  \n",
       "2     10.875            1.0            0.0        7.0  \n",
       "3     10.875            1.0            0.0       10.0  \n",
       "4     10.875            1.0            0.0       21.0  \n",
       "5     10.875            1.0            0.0       37.0  \n",
       "6     10.875            1.0            0.0        7.0  \n",
       "7     10.875            1.0            0.0        8.0  \n",
       "8     20.875            0.0            1.0       15.0  \n",
       "9     20.875            0.0            0.0        4.0  "
      ]
     },
     "execution_count": 15,
     "metadata": {},
     "output_type": "execute_result"
    },
    {
     "data": {
      "application/javascript": [
       "\n",
       "            setTimeout(function() {\n",
       "                var nbb_cell_id = 15;\n",
       "                var nbb_unformatted_code = \"dfscore.head(10)\";\n",
       "                var nbb_formatted_code = \"dfscore.head(10)\";\n",
       "                var nbb_cells = Jupyter.notebook.get_cells();\n",
       "                for (var i = 0; i < nbb_cells.length; ++i) {\n",
       "                    if (nbb_cells[i].input_prompt_number == nbb_cell_id) {\n",
       "                        if (nbb_cells[i].get_text() == nbb_unformatted_code) {\n",
       "                             nbb_cells[i].set_text(nbb_formatted_code);\n",
       "                        }\n",
       "                        break;\n",
       "                    }\n",
       "                }\n",
       "            }, 500);\n",
       "            "
      ],
      "text/plain": [
       "<IPython.core.display.Javascript object>"
      ]
     },
     "metadata": {},
     "output_type": "display_data"
    }
   ],
   "source": [
    "dfscore.head(10)"
   ]
  },
  {
   "cell_type": "code",
   "execution_count": 16,
   "metadata": {},
   "outputs": [
    {
     "data": {
      "application/javascript": [
       "\n",
       "            setTimeout(function() {\n",
       "                var nbb_cell_id = 16;\n",
       "                var nbb_unformatted_code = \"dfscore.loc[\\n    ((dfscore[\\\"score_home\\\"] + dfscore[\\\"score_away\\\"]) > dfscore[\\\"over_under_line\\\"]),\\n    \\\"is_over\\\",\\n] = 1\\ndfscore[\\\"is_over\\\"].fillna(0, inplace=True)\";\n",
       "                var nbb_formatted_code = \"dfscore.loc[\\n    ((dfscore[\\\"score_home\\\"] + dfscore[\\\"score_away\\\"]) > dfscore[\\\"over_under_line\\\"]),\\n    \\\"is_over\\\",\\n] = 1\\ndfscore[\\\"is_over\\\"].fillna(0, inplace=True)\";\n",
       "                var nbb_cells = Jupyter.notebook.get_cells();\n",
       "                for (var i = 0; i < nbb_cells.length; ++i) {\n",
       "                    if (nbb_cells[i].input_prompt_number == nbb_cell_id) {\n",
       "                        if (nbb_cells[i].get_text() == nbb_unformatted_code) {\n",
       "                             nbb_cells[i].set_text(nbb_formatted_code);\n",
       "                        }\n",
       "                        break;\n",
       "                    }\n",
       "                }\n",
       "            }, 500);\n",
       "            "
      ],
      "text/plain": [
       "<IPython.core.display.Javascript object>"
      ]
     },
     "metadata": {},
     "output_type": "display_data"
    }
   ],
   "source": [
    "dfscore.loc[\n",
    "    ((dfscore[\"score_home\"] + dfscore[\"score_away\"]) > dfscore[\"over_under_line\"]),\n",
    "    \"is_over\",\n",
    "] = 1\n",
    "dfscore[\"is_over\"].fillna(0, inplace=True)"
   ]
  },
  {
   "cell_type": "code",
   "execution_count": 17,
   "metadata": {},
   "outputs": [
    {
     "data": {
      "application/javascript": [
       "\n",
       "            setTimeout(function() {\n",
       "                var nbb_cell_id = 17;\n",
       "                var nbb_unformatted_code = \"# pd.crosstab(dfscore[\\\"team_away\\\"], dfscore[\\\"is_over\\\"])\";\n",
       "                var nbb_formatted_code = \"# pd.crosstab(dfscore[\\\"team_away\\\"], dfscore[\\\"is_over\\\"])\";\n",
       "                var nbb_cells = Jupyter.notebook.get_cells();\n",
       "                for (var i = 0; i < nbb_cells.length; ++i) {\n",
       "                    if (nbb_cells[i].input_prompt_number == nbb_cell_id) {\n",
       "                        if (nbb_cells[i].get_text() == nbb_unformatted_code) {\n",
       "                             nbb_cells[i].set_text(nbb_formatted_code);\n",
       "                        }\n",
       "                        break;\n",
       "                    }\n",
       "                }\n",
       "            }, 500);\n",
       "            "
      ],
      "text/plain": [
       "<IPython.core.display.Javascript object>"
      ]
     },
     "metadata": {},
     "output_type": "display_data"
    }
   ],
   "source": [
    "# pd.crosstab(dfscore[\"team_away\"], dfscore[\"is_over\"])"
   ]
  },
  {
   "cell_type": "code",
   "execution_count": 18,
   "metadata": {},
   "outputs": [
    {
     "data": {
      "application/javascript": [
       "\n",
       "            setTimeout(function() {\n",
       "                var nbb_cell_id = 18;\n",
       "                var nbb_unformatted_code = \"# dfscore[\\\"total_pts\\\"] = dfscore[\\\"score_home\\\"] + dfscore[\\\"score_away\\\"]\";\n",
       "                var nbb_formatted_code = \"# dfscore[\\\"total_pts\\\"] = dfscore[\\\"score_home\\\"] + dfscore[\\\"score_away\\\"]\";\n",
       "                var nbb_cells = Jupyter.notebook.get_cells();\n",
       "                for (var i = 0; i < nbb_cells.length; ++i) {\n",
       "                    if (nbb_cells[i].input_prompt_number == nbb_cell_id) {\n",
       "                        if (nbb_cells[i].get_text() == nbb_unformatted_code) {\n",
       "                             nbb_cells[i].set_text(nbb_formatted_code);\n",
       "                        }\n",
       "                        break;\n",
       "                    }\n",
       "                }\n",
       "            }, 500);\n",
       "            "
      ],
      "text/plain": [
       "<IPython.core.display.Javascript object>"
      ]
     },
     "metadata": {},
     "output_type": "display_data"
    }
   ],
   "source": [
    "# dfscore[\"total_pts\"] = dfscore[\"score_home\"] + dfscore[\"score_away\"]"
   ]
  },
  {
   "cell_type": "code",
   "execution_count": 19,
   "metadata": {},
   "outputs": [
    {
     "data": {
      "application/javascript": [
       "\n",
       "            setTimeout(function() {\n",
       "                var nbb_cell_id = 19;\n",
       "                var nbb_unformatted_code = \"dfscore_copy = dfscore.copy()\";\n",
       "                var nbb_formatted_code = \"dfscore_copy = dfscore.copy()\";\n",
       "                var nbb_cells = Jupyter.notebook.get_cells();\n",
       "                for (var i = 0; i < nbb_cells.length; ++i) {\n",
       "                    if (nbb_cells[i].input_prompt_number == nbb_cell_id) {\n",
       "                        if (nbb_cells[i].get_text() == nbb_unformatted_code) {\n",
       "                             nbb_cells[i].set_text(nbb_formatted_code);\n",
       "                        }\n",
       "                        break;\n",
       "                    }\n",
       "                }\n",
       "            }, 500);\n",
       "            "
      ],
      "text/plain": [
       "<IPython.core.display.Javascript object>"
      ]
     },
     "metadata": {},
     "output_type": "display_data"
    }
   ],
   "source": [
    "dfscore_copy = dfscore.copy()"
   ]
  },
  {
   "cell_type": "code",
   "execution_count": 20,
   "metadata": {},
   "outputs": [
    {
     "data": {
      "application/javascript": [
       "\n",
       "            setTimeout(function() {\n",
       "                var nbb_cell_id = 20;\n",
       "                var nbb_unformatted_code = \"# Create features to show if favorited team makes spread or simply wins ml. \\ndfscore[\\\"away_w_fav\\\"] = 0\\ndfscore[\\\"home_w_fav\\\"] = 0\\ndfscore[\\\"away_ml_fav\\\"] = 0\\ndfscore[\\\"home_ml_fav\\\"] = 0\\n\\n\\ndfscore.loc[\\n    (\\n        (\\n            dfscore[\\\"score_away\\\"] - dfscore[\\\"score_home\\\"]\\n            > np.abs(dfscore[\\\"spread_favorite\\\"])\\n        )\\n        & (dfscore[\\\"away_favorite\\\"] == 1)\\n    ),\\n    \\\"away_w_fav\\\",\\n] = 1\\n\\ndfscore.loc[\\n    (\\n        (\\n            dfscore[\\\"score_away\\\"] > dfscore[\\\"score_home\\\"]\\n        )\\n        & (dfscore[\\\"away_favorite\\\"] == 1)\\n    ),\\n    \\\"away_ml_fav\\\",\\n] = 1\\n\\n\\n\\ndfscore.loc[\\n    (\\n        (\\n            dfscore[\\\"score_home\\\"] - dfscore[\\\"score_away\\\"]\\n            > np.abs(dfscore[\\\"spread_favorite\\\"])\\n        )\\n        & (dfscore[\\\"home_favorite\\\"] == 1)\\n    ),\\n    \\\"home_w_fav\\\",\\n] = 1\\n\\ndfscore.loc[\\n    (\\n        (\\n            dfscore[\\\"score_home\\\"] > dfscore[\\\"score_away\\\"]\\n        )\\n        & (dfscore[\\\"home_favorite\\\"] == 1)\\n    ),\\n    \\\"home_ml_fav\\\",\\n] = 1\";\n",
       "                var nbb_formatted_code = \"# Create features to show if favorited team makes spread or simply wins ml.\\ndfscore[\\\"away_w_fav\\\"] = 0\\ndfscore[\\\"home_w_fav\\\"] = 0\\ndfscore[\\\"away_ml_fav\\\"] = 0\\ndfscore[\\\"home_ml_fav\\\"] = 0\\n\\n\\ndfscore.loc[\\n    (\\n        (\\n            dfscore[\\\"score_away\\\"] - dfscore[\\\"score_home\\\"]\\n            > np.abs(dfscore[\\\"spread_favorite\\\"])\\n        )\\n        & (dfscore[\\\"away_favorite\\\"] == 1)\\n    ),\\n    \\\"away_w_fav\\\",\\n] = 1\\n\\ndfscore.loc[\\n    ((dfscore[\\\"score_away\\\"] > dfscore[\\\"score_home\\\"]) & (dfscore[\\\"away_favorite\\\"] == 1)),\\n    \\\"away_ml_fav\\\",\\n] = 1\\n\\n\\ndfscore.loc[\\n    (\\n        (\\n            dfscore[\\\"score_home\\\"] - dfscore[\\\"score_away\\\"]\\n            > np.abs(dfscore[\\\"spread_favorite\\\"])\\n        )\\n        & (dfscore[\\\"home_favorite\\\"] == 1)\\n    ),\\n    \\\"home_w_fav\\\",\\n] = 1\\n\\ndfscore.loc[\\n    ((dfscore[\\\"score_home\\\"] > dfscore[\\\"score_away\\\"]) & (dfscore[\\\"home_favorite\\\"] == 1)),\\n    \\\"home_ml_fav\\\",\\n] = 1\";\n",
       "                var nbb_cells = Jupyter.notebook.get_cells();\n",
       "                for (var i = 0; i < nbb_cells.length; ++i) {\n",
       "                    if (nbb_cells[i].input_prompt_number == nbb_cell_id) {\n",
       "                        if (nbb_cells[i].get_text() == nbb_unformatted_code) {\n",
       "                             nbb_cells[i].set_text(nbb_formatted_code);\n",
       "                        }\n",
       "                        break;\n",
       "                    }\n",
       "                }\n",
       "            }, 500);\n",
       "            "
      ],
      "text/plain": [
       "<IPython.core.display.Javascript object>"
      ]
     },
     "metadata": {},
     "output_type": "display_data"
    }
   ],
   "source": [
    "# Create features to show if favorited team makes spread or simply wins ml. \n",
    "dfscore[\"away_w_fav\"] = 0\n",
    "dfscore[\"home_w_fav\"] = 0\n",
    "dfscore[\"away_ml_fav\"] = 0\n",
    "dfscore[\"home_ml_fav\"] = 0\n",
    "\n",
    "\n",
    "dfscore.loc[\n",
    "    (\n",
    "        (\n",
    "            dfscore[\"score_away\"] - dfscore[\"score_home\"]\n",
    "            > np.abs(dfscore[\"spread_favorite\"])\n",
    "        )\n",
    "        & (dfscore[\"away_favorite\"] == 1)\n",
    "    ),\n",
    "    \"away_w_fav\",\n",
    "] = 1\n",
    "\n",
    "dfscore.loc[\n",
    "    (\n",
    "        (\n",
    "            dfscore[\"score_away\"] > dfscore[\"score_home\"]\n",
    "        )\n",
    "        & (dfscore[\"away_favorite\"] == 1)\n",
    "    ),\n",
    "    \"away_ml_fav\",\n",
    "] = 1\n",
    "\n",
    "\n",
    "\n",
    "dfscore.loc[\n",
    "    (\n",
    "        (\n",
    "            dfscore[\"score_home\"] - dfscore[\"score_away\"]\n",
    "            > np.abs(dfscore[\"spread_favorite\"])\n",
    "        )\n",
    "        & (dfscore[\"home_favorite\"] == 1)\n",
    "    ),\n",
    "    \"home_w_fav\",\n",
    "] = 1\n",
    "\n",
    "dfscore.loc[\n",
    "    (\n",
    "        (\n",
    "            dfscore[\"score_home\"] > dfscore[\"score_away\"]\n",
    "        )\n",
    "        & (dfscore[\"home_favorite\"] == 1)\n",
    "    ),\n",
    "    \"home_ml_fav\",\n",
    "] = 1\n",
    "\n"
   ]
  },
  {
   "cell_type": "code",
   "execution_count": 21,
   "metadata": {},
   "outputs": [
    {
     "data": {
      "application/javascript": [
       "\n",
       "            setTimeout(function() {\n",
       "                var nbb_cell_id = 21;\n",
       "                var nbb_unformatted_code = \"# looking  at statistics of how often the favored team team wins or covers a spread.\\n# Home win (~68%), covers (~47%)\\n# Away win (~62%), covers (~47%)\\n\\n#display(dfscore[dfscore[\\\"away_favorite\\\"] == 1].describe().transpose())\\n#dfscore[dfscore[\\\"home_favorite\\\"] == 1].describe().transpose()\";\n",
       "                var nbb_formatted_code = \"# looking  at statistics of how often the favored team team wins or covers a spread.\\n# Home win (~68%), covers (~47%)\\n# Away win (~62%), covers (~47%)\\n\\n# display(dfscore[dfscore[\\\"away_favorite\\\"] == 1].describe().transpose())\\n# dfscore[dfscore[\\\"home_favorite\\\"] == 1].describe().transpose()\";\n",
       "                var nbb_cells = Jupyter.notebook.get_cells();\n",
       "                for (var i = 0; i < nbb_cells.length; ++i) {\n",
       "                    if (nbb_cells[i].input_prompt_number == nbb_cell_id) {\n",
       "                        if (nbb_cells[i].get_text() == nbb_unformatted_code) {\n",
       "                             nbb_cells[i].set_text(nbb_formatted_code);\n",
       "                        }\n",
       "                        break;\n",
       "                    }\n",
       "                }\n",
       "            }, 500);\n",
       "            "
      ],
      "text/plain": [
       "<IPython.core.display.Javascript object>"
      ]
     },
     "metadata": {},
     "output_type": "display_data"
    }
   ],
   "source": [
    "# looking  at statistics of how often the favored team team wins or covers a spread.\n",
    "# Home win (~68%), covers (~47%)\n",
    "# Away win (~62%), covers (~47%)\n",
    "\n",
    "#display(dfscore[dfscore[\"away_favorite\"] == 1].describe().transpose())\n",
    "#dfscore[dfscore[\"home_favorite\"] == 1].describe().transpose()\n"
   ]
  },
  {
   "cell_type": "code",
   "execution_count": 22,
   "metadata": {},
   "outputs": [
    {
     "data": {
      "application/javascript": [
       "\n",
       "            setTimeout(function() {\n",
       "                var nbb_cell_id = 22;\n",
       "                var nbb_unformatted_code = \"# sns.pairplot(dfscore)\";\n",
       "                var nbb_formatted_code = \"# sns.pairplot(dfscore)\";\n",
       "                var nbb_cells = Jupyter.notebook.get_cells();\n",
       "                for (var i = 0; i < nbb_cells.length; ++i) {\n",
       "                    if (nbb_cells[i].input_prompt_number == nbb_cell_id) {\n",
       "                        if (nbb_cells[i].get_text() == nbb_unformatted_code) {\n",
       "                             nbb_cells[i].set_text(nbb_formatted_code);\n",
       "                        }\n",
       "                        break;\n",
       "                    }\n",
       "                }\n",
       "            }, 500);\n",
       "            "
      ],
      "text/plain": [
       "<IPython.core.display.Javascript object>"
      ]
     },
     "metadata": {},
     "output_type": "display_data"
    }
   ],
   "source": [
    "# sns.pairplot(dfscore)"
   ]
  },
  {
   "cell_type": "code",
   "execution_count": 23,
   "metadata": {},
   "outputs": [
    {
     "data": {
      "image/png": "[encoded data removed]",
      "text/plain": [
       "<Figure size 432x288 with 1 Axes>"
      ]
     },
     "metadata": {
      "needs_background": "light"
     },
     "output_type": "display_data"
    },
    {
     "data": {
      "application/javascript": [
       "\n",
       "            setTimeout(function() {\n",
       "                var nbb_cell_id = 23;\n",
       "                var nbb_unformatted_code = \"sns.scatterplot(\\n    x=\\\"spread_favorite\\\", y=\\\"score_home\\\", hue=\\\"home_w_fav\\\", alpha=0.5, data=dfscore\\n)\\nplt.show()\";\n",
       "                var nbb_formatted_code = \"sns.scatterplot(\\n    x=\\\"spread_favorite\\\", y=\\\"score_home\\\", hue=\\\"home_w_fav\\\", alpha=0.5, data=dfscore\\n)\\nplt.show()\";\n",
       "                var nbb_cells = Jupyter.notebook.get_cells();\n",
       "                for (var i = 0; i < nbb_cells.length; ++i) {\n",
       "                    if (nbb_cells[i].input_prompt_number == nbb_cell_id) {\n",
       "                        if (nbb_cells[i].get_text() == nbb_unformatted_code) {\n",
       "                             nbb_cells[i].set_text(nbb_formatted_code);\n",
       "                        }\n",
       "                        break;\n",
       "                    }\n",
       "                }\n",
       "            }, 500);\n",
       "            "
      ],
      "text/plain": [
       "<IPython.core.display.Javascript object>"
      ]
     },
     "metadata": {},
     "output_type": "display_data"
    }
   ],
   "source": [
    "sns.scatterplot(\n",
    "    x=\"spread_favorite\", y=\"score_home\", hue=\"home_w_fav\", alpha=0.5, data=dfscore\n",
    ")\n",
    "plt.show()\n",
    "\n"
   ]
  },
  {
   "cell_type": "code",
   "execution_count": 24,
   "metadata": {},
   "outputs": [
    {
     "data": {
      "image/png": "[encoded data removed]",
      "text/plain": [
       "<Figure size 432x288 with 1 Axes>"
      ]
     },
     "metadata": {
      "needs_background": "light"
     },
     "output_type": "display_data"
    },
    {
     "data": {
      "application/javascript": [
       "\n",
       "            setTimeout(function() {\n",
       "                var nbb_cell_id = 24;\n",
       "                var nbb_unformatted_code = \"sns.scatterplot(\\n    x=\\\"spread_favorite\\\", y=\\\"score_home\\\", hue=\\\"home_ml_fav\\\", alpha=0.5, data=dfscore\\n)\\nplt.show()\";\n",
       "                var nbb_formatted_code = \"sns.scatterplot(\\n    x=\\\"spread_favorite\\\", y=\\\"score_home\\\", hue=\\\"home_ml_fav\\\", alpha=0.5, data=dfscore\\n)\\nplt.show()\";\n",
       "                var nbb_cells = Jupyter.notebook.get_cells();\n",
       "                for (var i = 0; i < nbb_cells.length; ++i) {\n",
       "                    if (nbb_cells[i].input_prompt_number == nbb_cell_id) {\n",
       "                        if (nbb_cells[i].get_text() == nbb_unformatted_code) {\n",
       "                             nbb_cells[i].set_text(nbb_formatted_code);\n",
       "                        }\n",
       "                        break;\n",
       "                    }\n",
       "                }\n",
       "            }, 500);\n",
       "            "
      ],
      "text/plain": [
       "<IPython.core.display.Javascript object>"
      ]
     },
     "metadata": {},
     "output_type": "display_data"
    }
   ],
   "source": [
    "sns.scatterplot(\n",
    "    x=\"spread_favorite\", y=\"score_home\", hue=\"home_ml_fav\", alpha=0.5, data=dfscore\n",
    ")\n",
    "plt.show()"
   ]
  },
  {
   "cell_type": "code",
   "execution_count": 25,
   "metadata": {},
   "outputs": [
    {
     "data": {
      "application/javascript": [
       "\n",
       "            setTimeout(function() {\n",
       "                var nbb_cell_id = 25;\n",
       "                var nbb_unformatted_code = \"# dfscore.loc(dfscore[\\\"home_favorite\\\"] == 1)\";\n",
       "                var nbb_formatted_code = \"# dfscore.loc(dfscore[\\\"home_favorite\\\"] == 1)\";\n",
       "                var nbb_cells = Jupyter.notebook.get_cells();\n",
       "                for (var i = 0; i < nbb_cells.length; ++i) {\n",
       "                    if (nbb_cells[i].input_prompt_number == nbb_cell_id) {\n",
       "                        if (nbb_cells[i].get_text() == nbb_unformatted_code) {\n",
       "                             nbb_cells[i].set_text(nbb_formatted_code);\n",
       "                        }\n",
       "                        break;\n",
       "                    }\n",
       "                }\n",
       "            }, 500);\n",
       "            "
      ],
      "text/plain": [
       "<IPython.core.display.Javascript object>"
      ]
     },
     "metadata": {},
     "output_type": "display_data"
    }
   ],
   "source": [
    "# dfscore.loc(dfscore[\"home_favorite\"] == 1)"
   ]
  },
  {
   "cell_type": "code",
   "execution_count": 26,
   "metadata": {},
   "outputs": [
    {
     "data": {
      "application/javascript": [
       "\n",
       "            setTimeout(function() {\n",
       "                var nbb_cell_id = 26;\n",
       "                var nbb_unformatted_code = \"dfscore.loc[(dfscore.schedule_week == \\\"18\\\"), \\\"schedule_week\\\"] = \\\"17\\\"\\ndfscore.loc[\\n    (dfscore.schedule_week == \\\"Wildcard\\\") | (dfscore.schedule_week == \\\"WildCard\\\"),\\n    \\\"schedule_week\\\",\\n] = \\\"18\\\"\\ndfscore.loc[(dfscore.schedule_week == \\\"Division\\\"), \\\"schedule_week\\\"] = \\\"19\\\"\\ndfscore.loc[(dfscore.schedule_week == \\\"Conference\\\"), \\\"schedule_week\\\"] = \\\"20\\\"\\ndfscore.loc[\\n    (dfscore.schedule_week == \\\"Superbowl\\\") | (dfscore.schedule_week == \\\"SuperBowl\\\"),\\n    \\\"schedule_week\\\",\\n] = \\\"21\\\"\\ndfscore[\\\"schedule_week\\\"] = dfscore.schedule_week.astype(int)\";\n",
       "                var nbb_formatted_code = \"dfscore.loc[(dfscore.schedule_week == \\\"18\\\"), \\\"schedule_week\\\"] = \\\"17\\\"\\ndfscore.loc[\\n    (dfscore.schedule_week == \\\"Wildcard\\\") | (dfscore.schedule_week == \\\"WildCard\\\"),\\n    \\\"schedule_week\\\",\\n] = \\\"18\\\"\\ndfscore.loc[(dfscore.schedule_week == \\\"Division\\\"), \\\"schedule_week\\\"] = \\\"19\\\"\\ndfscore.loc[(dfscore.schedule_week == \\\"Conference\\\"), \\\"schedule_week\\\"] = \\\"20\\\"\\ndfscore.loc[\\n    (dfscore.schedule_week == \\\"Superbowl\\\") | (dfscore.schedule_week == \\\"SuperBowl\\\"),\\n    \\\"schedule_week\\\",\\n] = \\\"21\\\"\\ndfscore[\\\"schedule_week\\\"] = dfscore.schedule_week.astype(int)\";\n",
       "                var nbb_cells = Jupyter.notebook.get_cells();\n",
       "                for (var i = 0; i < nbb_cells.length; ++i) {\n",
       "                    if (nbb_cells[i].input_prompt_number == nbb_cell_id) {\n",
       "                        if (nbb_cells[i].get_text() == nbb_unformatted_code) {\n",
       "                             nbb_cells[i].set_text(nbb_formatted_code);\n",
       "                        }\n",
       "                        break;\n",
       "                    }\n",
       "                }\n",
       "            }, 500);\n",
       "            "
      ],
      "text/plain": [
       "<IPython.core.display.Javascript object>"
      ]
     },
     "metadata": {},
     "output_type": "display_data"
    }
   ],
   "source": [
    "dfscore.loc[(dfscore.schedule_week == \"18\"), \"schedule_week\"] = \"17\"\n",
    "dfscore.loc[\n",
    "    (dfscore.schedule_week == \"Wildcard\") | (dfscore.schedule_week == \"WildCard\"),\n",
    "    \"schedule_week\",\n",
    "] = \"18\"\n",
    "dfscore.loc[(dfscore.schedule_week == \"Division\"), \"schedule_week\"] = \"19\"\n",
    "dfscore.loc[(dfscore.schedule_week == \"Conference\"), \"schedule_week\"] = \"20\"\n",
    "dfscore.loc[\n",
    "    (dfscore.schedule_week == \"Superbowl\") | (dfscore.schedule_week == \"SuperBowl\"),\n",
    "    \"schedule_week\",\n",
    "] = \"21\"\n",
    "dfscore[\"schedule_week\"] = dfscore.schedule_week.astype(int)"
   ]
  },
  {
   "cell_type": "code",
   "execution_count": 27,
   "metadata": {},
   "outputs": [
    {
     "data": {
      "text/plain": [
       "0         1\n",
       "1        10\n",
       "2        12\n",
       "3         8\n",
       "4         3\n",
       "         ..\n",
       "10229     5\n",
       "10230     2\n",
       "10231     7\n",
       "10232     5\n",
       "10233     4\n",
       "Name: schedule_week, Length: 10234, dtype: int64"
      ]
     },
     "execution_count": 27,
     "metadata": {},
     "output_type": "execute_result"
    },
    {
     "data": {
      "application/javascript": [
       "\n",
       "            setTimeout(function() {\n",
       "                var nbb_cell_id = 27;\n",
       "                var nbb_unformatted_code = \"dfscore[\\\"schedule_week\\\"]\";\n",
       "                var nbb_formatted_code = \"dfscore[\\\"schedule_week\\\"]\";\n",
       "                var nbb_cells = Jupyter.notebook.get_cells();\n",
       "                for (var i = 0; i < nbb_cells.length; ++i) {\n",
       "                    if (nbb_cells[i].input_prompt_number == nbb_cell_id) {\n",
       "                        if (nbb_cells[i].get_text() == nbb_unformatted_code) {\n",
       "                             nbb_cells[i].set_text(nbb_formatted_code);\n",
       "                        }\n",
       "                        break;\n",
       "                    }\n",
       "                }\n",
       "            }, 500);\n",
       "            "
      ],
      "text/plain": [
       "<IPython.core.display.Javascript object>"
      ]
     },
     "metadata": {},
     "output_type": "display_data"
    }
   ],
   "source": [
    "dfscore[\"schedule_week\"]"
   ]
  },
  {
   "cell_type": "code",
   "execution_count": 28,
   "metadata": {},
   "outputs": [
    {
     "data": {
      "application/javascript": [
       "\n",
       "            setTimeout(function() {\n",
       "                var nbb_cell_id = 28;\n",
       "                var nbb_unformatted_code = \"dfss = dfscore[(dfscore[\\\"schedule_week\\\"] >= 3) & (dfscore[\\\"schedule_week\\\"] <= 15)]\";\n",
       "                var nbb_formatted_code = \"dfss = dfscore[(dfscore[\\\"schedule_week\\\"] >= 3) & (dfscore[\\\"schedule_week\\\"] <= 15)]\";\n",
       "                var nbb_cells = Jupyter.notebook.get_cells();\n",
       "                for (var i = 0; i < nbb_cells.length; ++i) {\n",
       "                    if (nbb_cells[i].input_prompt_number == nbb_cell_id) {\n",
       "                        if (nbb_cells[i].get_text() == nbb_unformatted_code) {\n",
       "                             nbb_cells[i].set_text(nbb_formatted_code);\n",
       "                        }\n",
       "                        break;\n",
       "                    }\n",
       "                }\n",
       "            }, 500);\n",
       "            "
      ],
      "text/plain": [
       "<IPython.core.display.Javascript object>"
      ]
     },
     "metadata": {},
     "output_type": "display_data"
    }
   ],
   "source": [
    "dfss = dfscore[(dfscore[\"schedule_week\"] >= 3) & (dfscore[\"schedule_week\"] <= 15)]\n"
   ]
  },
  {
   "cell_type": "code",
   "execution_count": 29,
   "metadata": {},
   "outputs": [
    {
     "data": {
      "text/html": [
       "<div>\n",
       "<style scoped>\n",
       "    .dataframe tbody tr th:only-of-type {\n",
       "        vertical-align: middle;\n",
       "    }\n",
       "\n",
       "    .dataframe tbody tr th {\n",
       "        vertical-align: top;\n",
       "    }\n",
       "\n",
       "    .dataframe thead th {\n",
       "        text-align: right;\n",
       "    }\n",
       "</style>\n",
       "<table border=\"1\" class=\"dataframe\">\n",
       "  <thead>\n",
       "    <tr style=\"text-align: right;\">\n",
       "      <th></th>\n",
       "      <th>schedule_season</th>\n",
       "      <th>schedule_week</th>\n",
       "      <th>team</th>\n",
       "      <th>score</th>\n",
       "      <th>w_fav</th>\n",
       "      <th>ml_fav</th>\n",
       "      <th>score_lag_1</th>\n",
       "      <th>score_lag_2</th>\n",
       "      <th>spread_lag_1</th>\n",
       "      <th>spread_lag_2</th>\n",
       "      <th>ml_lag_1</th>\n",
       "      <th>ml_lag_2</th>\n",
       "    </tr>\n",
       "  </thead>\n",
       "  <tbody>\n",
       "    <tr>\n",
       "      <th>187</th>\n",
       "      <td>1979</td>\n",
       "      <td>1</td>\n",
       "      <td>ARI</td>\n",
       "      <td>21.0</td>\n",
       "      <td>0</td>\n",
       "      <td>0</td>\n",
       "      <td>NaN</td>\n",
       "      <td>NaN</td>\n",
       "      <td>NaN</td>\n",
       "      <td>NaN</td>\n",
       "      <td>NaN</td>\n",
       "      <td>NaN</td>\n",
       "    </tr>\n",
       "    <tr>\n",
       "      <th>124</th>\n",
       "      <td>1979</td>\n",
       "      <td>2</td>\n",
       "      <td>ARI</td>\n",
       "      <td>27.0</td>\n",
       "      <td>1</td>\n",
       "      <td>1</td>\n",
       "      <td>21.0</td>\n",
       "      <td>NaN</td>\n",
       "      <td>0.0</td>\n",
       "      <td>NaN</td>\n",
       "      <td>0.0</td>\n",
       "      <td>NaN</td>\n",
       "    </tr>\n",
       "    <tr>\n",
       "      <th>163</th>\n",
       "      <td>1979</td>\n",
       "      <td>3</td>\n",
       "      <td>ARI</td>\n",
       "      <td>21.0</td>\n",
       "      <td>0</td>\n",
       "      <td>0</td>\n",
       "      <td>27.0</td>\n",
       "      <td>21.0</td>\n",
       "      <td>1.0</td>\n",
       "      <td>0.0</td>\n",
       "      <td>1.0</td>\n",
       "      <td>0.0</td>\n",
       "    </tr>\n",
       "    <tr>\n",
       "      <th>210</th>\n",
       "      <td>1979</td>\n",
       "      <td>4</td>\n",
       "      <td>ARI</td>\n",
       "      <td>7.0</td>\n",
       "      <td>0</td>\n",
       "      <td>0</td>\n",
       "      <td>21.0</td>\n",
       "      <td>27.0</td>\n",
       "      <td>0.0</td>\n",
       "      <td>1.0</td>\n",
       "      <td>0.0</td>\n",
       "      <td>1.0</td>\n",
       "    </tr>\n",
       "    <tr>\n",
       "      <th>121</th>\n",
       "      <td>1979</td>\n",
       "      <td>5</td>\n",
       "      <td>ARI</td>\n",
       "      <td>0.0</td>\n",
       "      <td>0</td>\n",
       "      <td>0</td>\n",
       "      <td>7.0</td>\n",
       "      <td>21.0</td>\n",
       "      <td>0.0</td>\n",
       "      <td>0.0</td>\n",
       "      <td>0.0</td>\n",
       "      <td>0.0</td>\n",
       "    </tr>\n",
       "  </tbody>\n",
       "</table>\n",
       "</div>"
      ],
      "text/plain": [
       "     schedule_season  schedule_week team  score  w_fav  ml_fav  score_lag_1  \\\n",
       "187             1979              1  ARI   21.0      0       0          NaN   \n",
       "124             1979              2  ARI   27.0      1       1         21.0   \n",
       "163             1979              3  ARI   21.0      0       0         27.0   \n",
       "210             1979              4  ARI    7.0      0       0         21.0   \n",
       "121             1979              5  ARI    0.0      0       0          7.0   \n",
       "\n",
       "     score_lag_2  spread_lag_1  spread_lag_2  ml_lag_1  ml_lag_2  \n",
       "187          NaN           NaN           NaN       NaN       NaN  \n",
       "124          NaN           0.0           NaN       0.0       NaN  \n",
       "163         21.0           1.0           0.0       1.0       0.0  \n",
       "210         27.0           0.0           1.0       0.0       1.0  \n",
       "121         21.0           0.0           0.0       0.0       0.0  "
      ]
     },
     "execution_count": 29,
     "metadata": {},
     "output_type": "execute_result"
    },
    {
     "data": {
      "application/javascript": [
       "\n",
       "            setTimeout(function() {\n",
       "                var nbb_cell_id = 29;\n",
       "                var nbb_unformatted_code = \"# Need to add other columns to lag...\\n# Then need to refactor\\nhome_lag_df = dfscore[\\n    [\\n        \\\"schedule_season\\\",\\n        \\\"schedule_week\\\",\\n        \\\"team_home\\\",\\n        \\\"score_home\\\",\\n        \\\"home_w_fav\\\",\\n        \\\"home_ml_fav\\\",\\n    ]\\n]\\nhome_lag_df = home_lag_df.rename(\\n    columns={\\n        \\\"team_home\\\": \\\"team\\\",\\n        \\\"score_home\\\": \\\"score\\\",\\n        \\\"home_w_fav\\\": \\\"w_fav\\\",\\n        \\\"home_ml_fav\\\": \\\"ml_fav\\\",\\n    }\\n)\\naway_lag_df = dfscore[\\n    [\\n        \\\"schedule_season\\\",\\n        \\\"schedule_week\\\",\\n        \\\"team_away\\\",\\n        \\\"score_away\\\",\\n        \\\"away_w_fav\\\",\\n        \\\"away_ml_fav\\\",\\n    ]\\n]\\naway_lag_df = away_lag_df.rename(\\n    columns={\\n        \\\"team_away\\\": \\\"team\\\",\\n        \\\"score_away\\\": \\\"score\\\",\\n        \\\"away_w_fav\\\": \\\"w_fav\\\",\\n        \\\"away_ml_fav\\\": \\\"ml_fav\\\",\\n    }\\n)\\nlag_df = pd.concat((away_lag_df, home_lag_df))\\nlag_df = lag_df.sort_values([\\\"schedule_season\\\", \\\"team\\\", \\\"schedule_week\\\"])\\n\\n\\n# Create lag variables for a team's prior 2 game scores\\n# create new shifts for new columns\\nlag_df[\\\"score_lag_1\\\"] = lag_df.groupby([\\\"schedule_season\\\", \\\"team\\\"])[\\\"score\\\"].shift(\\n    periods=1\\n)\\nlag_df[\\\"score_lag_2\\\"] = lag_df.groupby([\\\"schedule_season\\\", \\\"team\\\"])[\\\"score\\\"].shift(\\n    periods=2\\n)\\n\\nlag_df[\\\"spread_lag_1\\\"] = lag_df.groupby([\\\"schedule_season\\\", \\\"team\\\"])[\\\"w_fav\\\"].shift(\\n    periods=1\\n)\\nlag_df[\\\"spread_lag_2\\\"] = lag_df.groupby([\\\"schedule_season\\\", \\\"team\\\"])[\\\"w_fav\\\"].shift(\\n    periods=2\\n)\\n\\nlag_df[\\\"ml_lag_1\\\"] = lag_df.groupby([\\\"schedule_season\\\", \\\"team\\\"])[\\\"ml_fav\\\"].shift(\\n    periods=1\\n)\\nlag_df[\\\"ml_lag_2\\\"] = lag_df.groupby([\\\"schedule_season\\\", \\\"team\\\"])[\\\"ml_fav\\\"].shift(\\n    periods=2\\n)\\n\\nlag_df.head()\";\n",
       "                var nbb_formatted_code = \"# Need to add other columns to lag...\\n# Then need to refactor\\nhome_lag_df = dfscore[\\n    [\\n        \\\"schedule_season\\\",\\n        \\\"schedule_week\\\",\\n        \\\"team_home\\\",\\n        \\\"score_home\\\",\\n        \\\"home_w_fav\\\",\\n        \\\"home_ml_fav\\\",\\n    ]\\n]\\nhome_lag_df = home_lag_df.rename(\\n    columns={\\n        \\\"team_home\\\": \\\"team\\\",\\n        \\\"score_home\\\": \\\"score\\\",\\n        \\\"home_w_fav\\\": \\\"w_fav\\\",\\n        \\\"home_ml_fav\\\": \\\"ml_fav\\\",\\n    }\\n)\\naway_lag_df = dfscore[\\n    [\\n        \\\"schedule_season\\\",\\n        \\\"schedule_week\\\",\\n        \\\"team_away\\\",\\n        \\\"score_away\\\",\\n        \\\"away_w_fav\\\",\\n        \\\"away_ml_fav\\\",\\n    ]\\n]\\naway_lag_df = away_lag_df.rename(\\n    columns={\\n        \\\"team_away\\\": \\\"team\\\",\\n        \\\"score_away\\\": \\\"score\\\",\\n        \\\"away_w_fav\\\": \\\"w_fav\\\",\\n        \\\"away_ml_fav\\\": \\\"ml_fav\\\",\\n    }\\n)\\nlag_df = pd.concat((away_lag_df, home_lag_df))\\nlag_df = lag_df.sort_values([\\\"schedule_season\\\", \\\"team\\\", \\\"schedule_week\\\"])\\n\\n\\n# Create lag variables for a team's prior 2 game scores\\n# create new shifts for new columns\\nlag_df[\\\"score_lag_1\\\"] = lag_df.groupby([\\\"schedule_season\\\", \\\"team\\\"])[\\\"score\\\"].shift(\\n    periods=1\\n)\\nlag_df[\\\"score_lag_2\\\"] = lag_df.groupby([\\\"schedule_season\\\", \\\"team\\\"])[\\\"score\\\"].shift(\\n    periods=2\\n)\\n\\nlag_df[\\\"spread_lag_1\\\"] = lag_df.groupby([\\\"schedule_season\\\", \\\"team\\\"])[\\\"w_fav\\\"].shift(\\n    periods=1\\n)\\nlag_df[\\\"spread_lag_2\\\"] = lag_df.groupby([\\\"schedule_season\\\", \\\"team\\\"])[\\\"w_fav\\\"].shift(\\n    periods=2\\n)\\n\\nlag_df[\\\"ml_lag_1\\\"] = lag_df.groupby([\\\"schedule_season\\\", \\\"team\\\"])[\\\"ml_fav\\\"].shift(\\n    periods=1\\n)\\nlag_df[\\\"ml_lag_2\\\"] = lag_df.groupby([\\\"schedule_season\\\", \\\"team\\\"])[\\\"ml_fav\\\"].shift(\\n    periods=2\\n)\\n\\nlag_df.head()\";\n",
       "                var nbb_cells = Jupyter.notebook.get_cells();\n",
       "                for (var i = 0; i < nbb_cells.length; ++i) {\n",
       "                    if (nbb_cells[i].input_prompt_number == nbb_cell_id) {\n",
       "                        if (nbb_cells[i].get_text() == nbb_unformatted_code) {\n",
       "                             nbb_cells[i].set_text(nbb_formatted_code);\n",
       "                        }\n",
       "                        break;\n",
       "                    }\n",
       "                }\n",
       "            }, 500);\n",
       "            "
      ],
      "text/plain": [
       "<IPython.core.display.Javascript object>"
      ]
     },
     "metadata": {},
     "output_type": "display_data"
    }
   ],
   "source": [
    "# Need to add other columns to lag...\n",
    "# Then need to refactor\n",
    "home_lag_df = dfscore[\n",
    "    [\n",
    "        \"schedule_season\",\n",
    "        \"schedule_week\",\n",
    "        \"team_home\",\n",
    "        \"score_home\",\n",
    "        \"home_w_fav\",\n",
    "        \"home_ml_fav\",\n",
    "    ]\n",
    "]\n",
    "home_lag_df = home_lag_df.rename(\n",
    "    columns={\n",
    "        \"team_home\": \"team\",\n",
    "        \"score_home\": \"score\",\n",
    "        \"home_w_fav\": \"w_fav\",\n",
    "        \"home_ml_fav\": \"ml_fav\",\n",
    "    }\n",
    ")\n",
    "away_lag_df = dfscore[\n",
    "    [\n",
    "        \"schedule_season\",\n",
    "        \"schedule_week\",\n",
    "        \"team_away\",\n",
    "        \"score_away\",\n",
    "        \"away_w_fav\",\n",
    "        \"away_ml_fav\",\n",
    "    ]\n",
    "]\n",
    "away_lag_df = away_lag_df.rename(\n",
    "    columns={\n",
    "        \"team_away\": \"team\",\n",
    "        \"score_away\": \"score\",\n",
    "        \"away_w_fav\": \"w_fav\",\n",
    "        \"away_ml_fav\": \"ml_fav\",\n",
    "    }\n",
    ")\n",
    "lag_df = pd.concat((away_lag_df, home_lag_df))\n",
    "lag_df = lag_df.sort_values([\"schedule_season\", \"team\", \"schedule_week\"])\n",
    "\n",
    "\n",
    "# Create lag variables for a team's prior 2 game scores\n",
    "# create new shifts for new columns\n",
    "lag_df[\"score_lag_1\"] = lag_df.groupby([\"schedule_season\", \"team\"])[\"score\"].shift(\n",
    "    periods=1\n",
    ")\n",
    "lag_df[\"score_lag_2\"] = lag_df.groupby([\"schedule_season\", \"team\"])[\"score\"].shift(\n",
    "    periods=2\n",
    ")\n",
    "\n",
    "lag_df[\"spread_lag_1\"] = lag_df.groupby([\"schedule_season\", \"team\"])[\"w_fav\"].shift(\n",
    "    periods=1\n",
    ")\n",
    "lag_df[\"spread_lag_2\"] = lag_df.groupby([\"schedule_season\", \"team\"])[\"w_fav\"].shift(\n",
    "    periods=2\n",
    ")\n",
    "\n",
    "lag_df[\"ml_lag_1\"] = lag_df.groupby([\"schedule_season\", \"team\"])[\"ml_fav\"].shift(\n",
    "    periods=1\n",
    ")\n",
    "lag_df[\"ml_lag_2\"] = lag_df.groupby([\"schedule_season\", \"team\"])[\"ml_fav\"].shift(\n",
    "    periods=2\n",
    ")\n",
    "\n",
    "lag_df.head()"
   ]
  },
  {
   "cell_type": "code",
   "execution_count": 30,
   "metadata": {},
   "outputs": [
    {
     "data": {
      "application/javascript": [
       "\n",
       "            setTimeout(function() {\n",
       "                var nbb_cell_id = 30;\n",
       "                var nbb_unformatted_code = \"# Add new columns for home away merges\\ndfssm = pd.merge(dfss, lag_df, left_on=['schedule_season','schedule_week','team_home'], right_on=['schedule_season', 'schedule_week','team'])\\ndfssm = dfssm.rename(columns = {'score_lag_1': 'home_sl_1', 'score_lag_2':'home_sl_2', 'spread_lag_1': 'h_sprl_1',\\n                               'spread_lag_2': 'h_sprl_2', \\n                               'ml_lag_1': 'h_mll_1',\\n                               'ml_lag_2': 'h_mll_2'})\\ndfssm = dfssm.drop(columns= ['score','team', 'w_fav', 'ml_fav'])\\n\\ndfssm = pd.merge(dfssm, lag_df, left_on=['schedule_season','schedule_week','team_away'], right_on=['schedule_season', 'schedule_week','team'])\\ndfssm = dfssm.rename(columns = {'score_lag_1': 'away_sl_1', 'score_lag_2':'away_sl_2',\\n                                'spread_lag_1': 'a_sprl_1',\\n                               'spread_lag_2': 'a_sprl_2', \\n                               'ml_lag_1': 'a_mll_1',\\n                               'ml_lag_2': 'a_mll_2'})\\ndfssm = dfssm.drop(columns= ['score','team', 'w_fav', 'ml_fav'])\\n\\n#dfss = pd.merge(dfssm, score_df, left_on=['schedule_season','schedule_week','team_away'], right_on=['schedule_season', 'schedule_week','team'])\";\n",
       "                var nbb_formatted_code = \"# Add new columns for home away merges\\ndfssm = pd.merge(\\n    dfss,\\n    lag_df,\\n    left_on=[\\\"schedule_season\\\", \\\"schedule_week\\\", \\\"team_home\\\"],\\n    right_on=[\\\"schedule_season\\\", \\\"schedule_week\\\", \\\"team\\\"],\\n)\\ndfssm = dfssm.rename(\\n    columns={\\n        \\\"score_lag_1\\\": \\\"home_sl_1\\\",\\n        \\\"score_lag_2\\\": \\\"home_sl_2\\\",\\n        \\\"spread_lag_1\\\": \\\"h_sprl_1\\\",\\n        \\\"spread_lag_2\\\": \\\"h_sprl_2\\\",\\n        \\\"ml_lag_1\\\": \\\"h_mll_1\\\",\\n        \\\"ml_lag_2\\\": \\\"h_mll_2\\\",\\n    }\\n)\\ndfssm = dfssm.drop(columns=[\\\"score\\\", \\\"team\\\", \\\"w_fav\\\", \\\"ml_fav\\\"])\\n\\ndfssm = pd.merge(\\n    dfssm,\\n    lag_df,\\n    left_on=[\\\"schedule_season\\\", \\\"schedule_week\\\", \\\"team_away\\\"],\\n    right_on=[\\\"schedule_season\\\", \\\"schedule_week\\\", \\\"team\\\"],\\n)\\ndfssm = dfssm.rename(\\n    columns={\\n        \\\"score_lag_1\\\": \\\"away_sl_1\\\",\\n        \\\"score_lag_2\\\": \\\"away_sl_2\\\",\\n        \\\"spread_lag_1\\\": \\\"a_sprl_1\\\",\\n        \\\"spread_lag_2\\\": \\\"a_sprl_2\\\",\\n        \\\"ml_lag_1\\\": \\\"a_mll_1\\\",\\n        \\\"ml_lag_2\\\": \\\"a_mll_2\\\",\\n    }\\n)\\ndfssm = dfssm.drop(columns=[\\\"score\\\", \\\"team\\\", \\\"w_fav\\\", \\\"ml_fav\\\"])\\n\\n# dfss = pd.merge(dfssm, score_df, left_on=['schedule_season','schedule_week','team_away'], right_on=['schedule_season', 'schedule_week','team'])\";\n",
       "                var nbb_cells = Jupyter.notebook.get_cells();\n",
       "                for (var i = 0; i < nbb_cells.length; ++i) {\n",
       "                    if (nbb_cells[i].input_prompt_number == nbb_cell_id) {\n",
       "                        if (nbb_cells[i].get_text() == nbb_unformatted_code) {\n",
       "                             nbb_cells[i].set_text(nbb_formatted_code);\n",
       "                        }\n",
       "                        break;\n",
       "                    }\n",
       "                }\n",
       "            }, 500);\n",
       "            "
      ],
      "text/plain": [
       "<IPython.core.display.Javascript object>"
      ]
     },
     "metadata": {},
     "output_type": "display_data"
    }
   ],
   "source": [
    "# Add new columns for home away merges\n",
    "dfssm = pd.merge(dfss, lag_df, left_on=['schedule_season','schedule_week','team_home'], right_on=['schedule_season', 'schedule_week','team'])\n",
    "dfssm = dfssm.rename(columns = {'score_lag_1': 'home_sl_1', 'score_lag_2':'home_sl_2', 'spread_lag_1': 'h_sprl_1',\n",
    "                               'spread_lag_2': 'h_sprl_2', \n",
    "                               'ml_lag_1': 'h_mll_1',\n",
    "                               'ml_lag_2': 'h_mll_2'})\n",
    "dfssm = dfssm.drop(columns= ['score','team', 'w_fav', 'ml_fav'])\n",
    "\n",
    "dfssm = pd.merge(dfssm, lag_df, left_on=['schedule_season','schedule_week','team_away'], right_on=['schedule_season', 'schedule_week','team'])\n",
    "dfssm = dfssm.rename(columns = {'score_lag_1': 'away_sl_1', 'score_lag_2':'away_sl_2',\n",
    "                                'spread_lag_1': 'a_sprl_1',\n",
    "                               'spread_lag_2': 'a_sprl_2', \n",
    "                               'ml_lag_1': 'a_mll_1',\n",
    "                               'ml_lag_2': 'a_mll_2'})\n",
    "dfssm = dfssm.drop(columns= ['score','team', 'w_fav', 'ml_fav'])\n",
    "\n",
    "#dfss = pd.merge(dfssm, score_df, left_on=['schedule_season','schedule_week','team_away'], right_on=['schedule_season', 'schedule_week','team'])\n"
   ]
  },
  {
   "cell_type": "code",
   "execution_count": 31,
   "metadata": {},
   "outputs": [
    {
     "data": {
      "text/plain": [
       "schedule_season     0\n",
       "schedule_week       0\n",
       "team_home           0\n",
       "team_away           0\n",
       "team_favorite_id    0\n",
       "spread_favorite     0\n",
       "over_under_line     0\n",
       "score_home          0\n",
       "score_away          0\n",
       "mean_home           0\n",
       "mean_away           0\n",
       "home_favorite       0\n",
       "away_favorite       0\n",
       "score_dif           0\n",
       "is_over             0\n",
       "away_w_fav          0\n",
       "home_w_fav          0\n",
       "away_ml_fav         0\n",
       "home_ml_fav         0\n",
       "home_sl_1           0\n",
       "home_sl_2           0\n",
       "h_sprl_1            0\n",
       "h_sprl_2            0\n",
       "h_mll_1             0\n",
       "h_mll_2             0\n",
       "away_sl_1           0\n",
       "away_sl_2           0\n",
       "a_sprl_1            0\n",
       "a_sprl_2            0\n",
       "a_mll_1             0\n",
       "a_mll_2             0\n",
       "dtype: int64"
      ]
     },
     "execution_count": 31,
     "metadata": {},
     "output_type": "execute_result"
    },
    {
     "data": {
      "application/javascript": [
       "\n",
       "            setTimeout(function() {\n",
       "                var nbb_cell_id = 31;\n",
       "                var nbb_unformatted_code = \"dfss = dfssm.dropna()\\ndfss.isna().sum()\";\n",
       "                var nbb_formatted_code = \"dfss = dfssm.dropna()\\ndfss.isna().sum()\";\n",
       "                var nbb_cells = Jupyter.notebook.get_cells();\n",
       "                for (var i = 0; i < nbb_cells.length; ++i) {\n",
       "                    if (nbb_cells[i].input_prompt_number == nbb_cell_id) {\n",
       "                        if (nbb_cells[i].get_text() == nbb_unformatted_code) {\n",
       "                             nbb_cells[i].set_text(nbb_formatted_code);\n",
       "                        }\n",
       "                        break;\n",
       "                    }\n",
       "                }\n",
       "            }, 500);\n",
       "            "
      ],
      "text/plain": [
       "<IPython.core.display.Javascript object>"
      ]
     },
     "metadata": {},
     "output_type": "display_data"
    }
   ],
   "source": [
    "dfss = dfssm.dropna()\n",
    "dfss.isna().sum()"
   ]
  },
  {
   "cell_type": "code",
   "execution_count": 32,
   "metadata": {},
   "outputs": [
    {
     "data": {
      "text/html": [
       "<div>\n",
       "<style scoped>\n",
       "    .dataframe tbody tr th:only-of-type {\n",
       "        vertical-align: middle;\n",
       "    }\n",
       "\n",
       "    .dataframe tbody tr th {\n",
       "        vertical-align: top;\n",
       "    }\n",
       "\n",
       "    .dataframe thead th {\n",
       "        text-align: right;\n",
       "    }\n",
       "</style>\n",
       "<table border=\"1\" class=\"dataframe\">\n",
       "  <thead>\n",
       "    <tr style=\"text-align: right;\">\n",
       "      <th></th>\n",
       "      <th>schedule_season</th>\n",
       "      <th>schedule_week</th>\n",
       "      <th>team_home</th>\n",
       "      <th>team_away</th>\n",
       "      <th>team_favorite_id</th>\n",
       "      <th>spread_favorite</th>\n",
       "      <th>over_under_line</th>\n",
       "      <th>score_home</th>\n",
       "      <th>score_away</th>\n",
       "      <th>mean_home</th>\n",
       "      <th>...</th>\n",
       "      <th>h_sprl_1</th>\n",
       "      <th>h_sprl_2</th>\n",
       "      <th>h_mll_1</th>\n",
       "      <th>h_mll_2</th>\n",
       "      <th>away_sl_1</th>\n",
       "      <th>away_sl_2</th>\n",
       "      <th>a_sprl_1</th>\n",
       "      <th>a_sprl_2</th>\n",
       "      <th>a_mll_1</th>\n",
       "      <th>a_mll_2</th>\n",
       "    </tr>\n",
       "  </thead>\n",
       "  <tbody>\n",
       "    <tr>\n",
       "      <th>7134</th>\n",
       "      <td>2018</td>\n",
       "      <td>3</td>\n",
       "      <td>TB</td>\n",
       "      <td>PIT</td>\n",
       "      <td>PIT</td>\n",
       "      <td>-1.0</td>\n",
       "      <td>55.0</td>\n",
       "      <td>27.0</td>\n",
       "      <td>30.0</td>\n",
       "      <td>22.500000</td>\n",
       "      <td>...</td>\n",
       "      <td>0.0</td>\n",
       "      <td>0.0</td>\n",
       "      <td>0.0</td>\n",
       "      <td>0.0</td>\n",
       "      <td>37.0</td>\n",
       "      <td>21.0</td>\n",
       "      <td>0.0</td>\n",
       "      <td>0.0</td>\n",
       "      <td>0.0</td>\n",
       "      <td>0.0</td>\n",
       "    </tr>\n",
       "    <tr>\n",
       "      <th>7073</th>\n",
       "      <td>2018</td>\n",
       "      <td>3</td>\n",
       "      <td>ARI</td>\n",
       "      <td>CHI</td>\n",
       "      <td>CHI</td>\n",
       "      <td>-5.5</td>\n",
       "      <td>39.0</td>\n",
       "      <td>14.0</td>\n",
       "      <td>16.0</td>\n",
       "      <td>12.250000</td>\n",
       "      <td>...</td>\n",
       "      <td>0.0</td>\n",
       "      <td>0.0</td>\n",
       "      <td>0.0</td>\n",
       "      <td>0.0</td>\n",
       "      <td>24.0</td>\n",
       "      <td>23.0</td>\n",
       "      <td>1.0</td>\n",
       "      <td>0.0</td>\n",
       "      <td>1.0</td>\n",
       "      <td>0.0</td>\n",
       "    </tr>\n",
       "    <tr>\n",
       "      <th>7197</th>\n",
       "      <td>2018</td>\n",
       "      <td>3</td>\n",
       "      <td>JAX</td>\n",
       "      <td>TEN</td>\n",
       "      <td>JAX</td>\n",
       "      <td>-10.0</td>\n",
       "      <td>39.0</td>\n",
       "      <td>6.0</td>\n",
       "      <td>9.0</td>\n",
       "      <td>16.000000</td>\n",
       "      <td>...</td>\n",
       "      <td>0.0</td>\n",
       "      <td>1.0</td>\n",
       "      <td>0.0</td>\n",
       "      <td>1.0</td>\n",
       "      <td>20.0</td>\n",
       "      <td>20.0</td>\n",
       "      <td>0.0</td>\n",
       "      <td>0.0</td>\n",
       "      <td>0.0</td>\n",
       "      <td>0.0</td>\n",
       "    </tr>\n",
       "    <tr>\n",
       "      <th>7200</th>\n",
       "      <td>2018</td>\n",
       "      <td>3</td>\n",
       "      <td>DET</td>\n",
       "      <td>NE</td>\n",
       "      <td>NE</td>\n",
       "      <td>-7.0</td>\n",
       "      <td>55.0</td>\n",
       "      <td>26.0</td>\n",
       "      <td>10.0</td>\n",
       "      <td>18.625000</td>\n",
       "      <td>...</td>\n",
       "      <td>0.0</td>\n",
       "      <td>0.0</td>\n",
       "      <td>0.0</td>\n",
       "      <td>0.0</td>\n",
       "      <td>20.0</td>\n",
       "      <td>27.0</td>\n",
       "      <td>0.0</td>\n",
       "      <td>1.0</td>\n",
       "      <td>0.0</td>\n",
       "      <td>1.0</td>\n",
       "    </tr>\n",
       "    <tr>\n",
       "      <th>7085</th>\n",
       "      <td>2018</td>\n",
       "      <td>3</td>\n",
       "      <td>BAL</td>\n",
       "      <td>DEN</td>\n",
       "      <td>BAL</td>\n",
       "      <td>-5.5</td>\n",
       "      <td>46.0</td>\n",
       "      <td>27.0</td>\n",
       "      <td>14.0</td>\n",
       "      <td>26.000000</td>\n",
       "      <td>...</td>\n",
       "      <td>0.0</td>\n",
       "      <td>1.0</td>\n",
       "      <td>0.0</td>\n",
       "      <td>1.0</td>\n",
       "      <td>20.0</td>\n",
       "      <td>27.0</td>\n",
       "      <td>0.0</td>\n",
       "      <td>0.0</td>\n",
       "      <td>1.0</td>\n",
       "      <td>1.0</td>\n",
       "    </tr>\n",
       "    <tr>\n",
       "      <th>7164</th>\n",
       "      <td>2018</td>\n",
       "      <td>3</td>\n",
       "      <td>CLE</td>\n",
       "      <td>NYJ</td>\n",
       "      <td>CLE</td>\n",
       "      <td>-3.0</td>\n",
       "      <td>41.0</td>\n",
       "      <td>21.0</td>\n",
       "      <td>17.0</td>\n",
       "      <td>21.125000</td>\n",
       "      <td>...</td>\n",
       "      <td>0.0</td>\n",
       "      <td>0.0</td>\n",
       "      <td>0.0</td>\n",
       "      <td>0.0</td>\n",
       "      <td>12.0</td>\n",
       "      <td>48.0</td>\n",
       "      <td>0.0</td>\n",
       "      <td>0.0</td>\n",
       "      <td>0.0</td>\n",
       "      <td>0.0</td>\n",
       "    </tr>\n",
       "    <tr>\n",
       "      <th>7095</th>\n",
       "      <td>2018</td>\n",
       "      <td>3</td>\n",
       "      <td>KC</td>\n",
       "      <td>SF</td>\n",
       "      <td>KC</td>\n",
       "      <td>-5.5</td>\n",
       "      <td>53.0</td>\n",
       "      <td>38.0</td>\n",
       "      <td>27.0</td>\n",
       "      <td>32.100000</td>\n",
       "      <td>...</td>\n",
       "      <td>0.0</td>\n",
       "      <td>0.0</td>\n",
       "      <td>0.0</td>\n",
       "      <td>0.0</td>\n",
       "      <td>30.0</td>\n",
       "      <td>16.0</td>\n",
       "      <td>0.0</td>\n",
       "      <td>0.0</td>\n",
       "      <td>1.0</td>\n",
       "      <td>0.0</td>\n",
       "    </tr>\n",
       "    <tr>\n",
       "      <th>7061</th>\n",
       "      <td>2018</td>\n",
       "      <td>3</td>\n",
       "      <td>HOU</td>\n",
       "      <td>NYG</td>\n",
       "      <td>HOU</td>\n",
       "      <td>-6.5</td>\n",
       "      <td>44.0</td>\n",
       "      <td>22.0</td>\n",
       "      <td>27.0</td>\n",
       "      <td>23.777778</td>\n",
       "      <td>...</td>\n",
       "      <td>0.0</td>\n",
       "      <td>0.0</td>\n",
       "      <td>0.0</td>\n",
       "      <td>0.0</td>\n",
       "      <td>13.0</td>\n",
       "      <td>15.0</td>\n",
       "      <td>0.0</td>\n",
       "      <td>0.0</td>\n",
       "      <td>0.0</td>\n",
       "      <td>0.0</td>\n",
       "    </tr>\n",
       "    <tr>\n",
       "      <th>7100</th>\n",
       "      <td>2018</td>\n",
       "      <td>3</td>\n",
       "      <td>MIA</td>\n",
       "      <td>LVR</td>\n",
       "      <td>MIA</td>\n",
       "      <td>-3.0</td>\n",
       "      <td>46.0</td>\n",
       "      <td>28.0</td>\n",
       "      <td>20.0</td>\n",
       "      <td>22.750000</td>\n",
       "      <td>...</td>\n",
       "      <td>0.0</td>\n",
       "      <td>0.0</td>\n",
       "      <td>0.0</td>\n",
       "      <td>0.0</td>\n",
       "      <td>19.0</td>\n",
       "      <td>13.0</td>\n",
       "      <td>0.0</td>\n",
       "      <td>0.0</td>\n",
       "      <td>0.0</td>\n",
       "      <td>0.0</td>\n",
       "    </tr>\n",
       "    <tr>\n",
       "      <th>7154</th>\n",
       "      <td>2018</td>\n",
       "      <td>3</td>\n",
       "      <td>LAR</td>\n",
       "      <td>LAC</td>\n",
       "      <td>LAR</td>\n",
       "      <td>-7.5</td>\n",
       "      <td>49.0</td>\n",
       "      <td>35.0</td>\n",
       "      <td>23.0</td>\n",
       "      <td>33.000000</td>\n",
       "      <td>...</td>\n",
       "      <td>1.0</td>\n",
       "      <td>1.0</td>\n",
       "      <td>1.0</td>\n",
       "      <td>1.0</td>\n",
       "      <td>31.0</td>\n",
       "      <td>28.0</td>\n",
       "      <td>1.0</td>\n",
       "      <td>0.0</td>\n",
       "      <td>1.0</td>\n",
       "      <td>0.0</td>\n",
       "    </tr>\n",
       "    <tr>\n",
       "      <th>7055</th>\n",
       "      <td>2018</td>\n",
       "      <td>3</td>\n",
       "      <td>SEA</td>\n",
       "      <td>DAL</td>\n",
       "      <td>SEA</td>\n",
       "      <td>-1.0</td>\n",
       "      <td>40.0</td>\n",
       "      <td>24.0</td>\n",
       "      <td>13.0</td>\n",
       "      <td>28.500000</td>\n",
       "      <td>...</td>\n",
       "      <td>0.0</td>\n",
       "      <td>0.0</td>\n",
       "      <td>0.0</td>\n",
       "      <td>0.0</td>\n",
       "      <td>20.0</td>\n",
       "      <td>8.0</td>\n",
       "      <td>1.0</td>\n",
       "      <td>0.0</td>\n",
       "      <td>1.0</td>\n",
       "      <td>0.0</td>\n",
       "    </tr>\n",
       "    <tr>\n",
       "      <th>7210</th>\n",
       "      <td>2018</td>\n",
       "      <td>3</td>\n",
       "      <td>WAS</td>\n",
       "      <td>GB</td>\n",
       "      <td>GB</td>\n",
       "      <td>-2.5</td>\n",
       "      <td>45.5</td>\n",
       "      <td>31.0</td>\n",
       "      <td>17.0</td>\n",
       "      <td>16.750000</td>\n",
       "      <td>...</td>\n",
       "      <td>0.0</td>\n",
       "      <td>0.0</td>\n",
       "      <td>0.0</td>\n",
       "      <td>0.0</td>\n",
       "      <td>29.0</td>\n",
       "      <td>24.0</td>\n",
       "      <td>0.0</td>\n",
       "      <td>0.0</td>\n",
       "      <td>0.0</td>\n",
       "      <td>1.0</td>\n",
       "    </tr>\n",
       "    <tr>\n",
       "      <th>7118</th>\n",
       "      <td>2018</td>\n",
       "      <td>3</td>\n",
       "      <td>MIN</td>\n",
       "      <td>BUF</td>\n",
       "      <td>MIN</td>\n",
       "      <td>-16.5</td>\n",
       "      <td>41.0</td>\n",
       "      <td>6.0</td>\n",
       "      <td>27.0</td>\n",
       "      <td>22.000000</td>\n",
       "      <td>...</td>\n",
       "      <td>0.0</td>\n",
       "      <td>1.0</td>\n",
       "      <td>0.0</td>\n",
       "      <td>1.0</td>\n",
       "      <td>20.0</td>\n",
       "      <td>3.0</td>\n",
       "      <td>0.0</td>\n",
       "      <td>0.0</td>\n",
       "      <td>0.0</td>\n",
       "      <td>0.0</td>\n",
       "    </tr>\n",
       "    <tr>\n",
       "      <th>7136</th>\n",
       "      <td>2018</td>\n",
       "      <td>3</td>\n",
       "      <td>CAR</td>\n",
       "      <td>CIN</td>\n",
       "      <td>CAR</td>\n",
       "      <td>-2.5</td>\n",
       "      <td>44.0</td>\n",
       "      <td>31.0</td>\n",
       "      <td>21.0</td>\n",
       "      <td>25.500000</td>\n",
       "      <td>...</td>\n",
       "      <td>0.0</td>\n",
       "      <td>1.0</td>\n",
       "      <td>0.0</td>\n",
       "      <td>1.0</td>\n",
       "      <td>34.0</td>\n",
       "      <td>34.0</td>\n",
       "      <td>1.0</td>\n",
       "      <td>1.0</td>\n",
       "      <td>1.0</td>\n",
       "      <td>1.0</td>\n",
       "    </tr>\n",
       "    <tr>\n",
       "      <th>7032</th>\n",
       "      <td>2018</td>\n",
       "      <td>3</td>\n",
       "      <td>PHI</td>\n",
       "      <td>IND</td>\n",
       "      <td>PHI</td>\n",
       "      <td>-6.5</td>\n",
       "      <td>45.5</td>\n",
       "      <td>20.0</td>\n",
       "      <td>16.0</td>\n",
       "      <td>22.625000</td>\n",
       "      <td>...</td>\n",
       "      <td>0.0</td>\n",
       "      <td>1.0</td>\n",
       "      <td>0.0</td>\n",
       "      <td>1.0</td>\n",
       "      <td>21.0</td>\n",
       "      <td>23.0</td>\n",
       "      <td>0.0</td>\n",
       "      <td>0.0</td>\n",
       "      <td>0.0</td>\n",
       "      <td>0.0</td>\n",
       "    </tr>\n",
       "    <tr>\n",
       "      <th>7126</th>\n",
       "      <td>2018</td>\n",
       "      <td>3</td>\n",
       "      <td>ATL</td>\n",
       "      <td>NO</td>\n",
       "      <td>ATL</td>\n",
       "      <td>-1.5</td>\n",
       "      <td>54.0</td>\n",
       "      <td>37.0</td>\n",
       "      <td>43.0</td>\n",
       "      <td>29.500000</td>\n",
       "      <td>...</td>\n",
       "      <td>1.0</td>\n",
       "      <td>0.0</td>\n",
       "      <td>1.0</td>\n",
       "      <td>0.0</td>\n",
       "      <td>21.0</td>\n",
       "      <td>40.0</td>\n",
       "      <td>0.0</td>\n",
       "      <td>0.0</td>\n",
       "      <td>1.0</td>\n",
       "      <td>0.0</td>\n",
       "    </tr>\n",
       "    <tr>\n",
       "      <th>7107</th>\n",
       "      <td>2018</td>\n",
       "      <td>4</td>\n",
       "      <td>DAL</td>\n",
       "      <td>DET</td>\n",
       "      <td>DAL</td>\n",
       "      <td>-2.5</td>\n",
       "      <td>43.5</td>\n",
       "      <td>26.0</td>\n",
       "      <td>24.0</td>\n",
       "      <td>24.888889</td>\n",
       "      <td>...</td>\n",
       "      <td>0.0</td>\n",
       "      <td>1.0</td>\n",
       "      <td>0.0</td>\n",
       "      <td>1.0</td>\n",
       "      <td>26.0</td>\n",
       "      <td>27.0</td>\n",
       "      <td>0.0</td>\n",
       "      <td>0.0</td>\n",
       "      <td>0.0</td>\n",
       "      <td>0.0</td>\n",
       "    </tr>\n",
       "    <tr>\n",
       "      <th>7069</th>\n",
       "      <td>2018</td>\n",
       "      <td>4</td>\n",
       "      <td>IND</td>\n",
       "      <td>HOU</td>\n",
       "      <td>IND</td>\n",
       "      <td>-1.0</td>\n",
       "      <td>48.0</td>\n",
       "      <td>34.0</td>\n",
       "      <td>37.0</td>\n",
       "      <td>29.875000</td>\n",
       "      <td>...</td>\n",
       "      <td>0.0</td>\n",
       "      <td>0.0</td>\n",
       "      <td>0.0</td>\n",
       "      <td>0.0</td>\n",
       "      <td>22.0</td>\n",
       "      <td>17.0</td>\n",
       "      <td>0.0</td>\n",
       "      <td>0.0</td>\n",
       "      <td>0.0</td>\n",
       "      <td>0.0</td>\n",
       "    </tr>\n",
       "    <tr>\n",
       "      <th>7178</th>\n",
       "      <td>2018</td>\n",
       "      <td>4</td>\n",
       "      <td>NE</td>\n",
       "      <td>MIA</td>\n",
       "      <td>NE</td>\n",
       "      <td>-6.5</td>\n",
       "      <td>50.5</td>\n",
       "      <td>38.0</td>\n",
       "      <td>7.0</td>\n",
       "      <td>33.777778</td>\n",
       "      <td>...</td>\n",
       "      <td>0.0</td>\n",
       "      <td>0.0</td>\n",
       "      <td>0.0</td>\n",
       "      <td>0.0</td>\n",
       "      <td>28.0</td>\n",
       "      <td>20.0</td>\n",
       "      <td>1.0</td>\n",
       "      <td>0.0</td>\n",
       "      <td>1.0</td>\n",
       "      <td>0.0</td>\n",
       "    </tr>\n",
       "    <tr>\n",
       "      <th>7078</th>\n",
       "      <td>2018</td>\n",
       "      <td>4</td>\n",
       "      <td>ARI</td>\n",
       "      <td>SEA</td>\n",
       "      <td>SEA</td>\n",
       "      <td>-3.5</td>\n",
       "      <td>40.0</td>\n",
       "      <td>17.0</td>\n",
       "      <td>20.0</td>\n",
       "      <td>12.250000</td>\n",
       "      <td>...</td>\n",
       "      <td>0.0</td>\n",
       "      <td>0.0</td>\n",
       "      <td>0.0</td>\n",
       "      <td>0.0</td>\n",
       "      <td>24.0</td>\n",
       "      <td>17.0</td>\n",
       "      <td>1.0</td>\n",
       "      <td>0.0</td>\n",
       "      <td>1.0</td>\n",
       "      <td>0.0</td>\n",
       "    </tr>\n",
       "  </tbody>\n",
       "</table>\n",
       "<p>20 rows × 31 columns</p>\n",
       "</div>"
      ],
      "text/plain": [
       "      schedule_season  schedule_week team_home team_away team_favorite_id  \\\n",
       "7134             2018              3        TB       PIT              PIT   \n",
       "7073             2018              3       ARI       CHI              CHI   \n",
       "7197             2018              3       JAX       TEN              JAX   \n",
       "7200             2018              3       DET        NE               NE   \n",
       "7085             2018              3       BAL       DEN              BAL   \n",
       "7164             2018              3       CLE       NYJ              CLE   \n",
       "7095             2018              3        KC        SF               KC   \n",
       "7061             2018              3       HOU       NYG              HOU   \n",
       "7100             2018              3       MIA       LVR              MIA   \n",
       "7154             2018              3       LAR       LAC              LAR   \n",
       "7055             2018              3       SEA       DAL              SEA   \n",
       "7210             2018              3       WAS        GB               GB   \n",
       "7118             2018              3       MIN       BUF              MIN   \n",
       "7136             2018              3       CAR       CIN              CAR   \n",
       "7032             2018              3       PHI       IND              PHI   \n",
       "7126             2018              3       ATL        NO              ATL   \n",
       "7107             2018              4       DAL       DET              DAL   \n",
       "7069             2018              4       IND       HOU              IND   \n",
       "7178             2018              4        NE       MIA               NE   \n",
       "7078             2018              4       ARI       SEA              SEA   \n",
       "\n",
       "      spread_favorite  over_under_line  score_home  score_away  mean_home  \\\n",
       "7134             -1.0             55.0        27.0        30.0  22.500000   \n",
       "7073             -5.5             39.0        14.0        16.0  12.250000   \n",
       "7197            -10.0             39.0         6.0         9.0  16.000000   \n",
       "7200             -7.0             55.0        26.0        10.0  18.625000   \n",
       "7085             -5.5             46.0        27.0        14.0  26.000000   \n",
       "7164             -3.0             41.0        21.0        17.0  21.125000   \n",
       "7095             -5.5             53.0        38.0        27.0  32.100000   \n",
       "7061             -6.5             44.0        22.0        27.0  23.777778   \n",
       "7100             -3.0             46.0        28.0        20.0  22.750000   \n",
       "7154             -7.5             49.0        35.0        23.0  33.000000   \n",
       "7055             -1.0             40.0        24.0        13.0  28.500000   \n",
       "7210             -2.5             45.5        31.0        17.0  16.750000   \n",
       "7118            -16.5             41.0         6.0        27.0  22.000000   \n",
       "7136             -2.5             44.0        31.0        21.0  25.500000   \n",
       "7032             -6.5             45.5        20.0        16.0  22.625000   \n",
       "7126             -1.5             54.0        37.0        43.0  29.500000   \n",
       "7107             -2.5             43.5        26.0        24.0  24.888889   \n",
       "7069             -1.0             48.0        34.0        37.0  29.875000   \n",
       "7178             -6.5             50.5        38.0         7.0  33.777778   \n",
       "7078             -3.5             40.0        17.0        20.0  12.250000   \n",
       "\n",
       "      ...  h_sprl_1  h_sprl_2  h_mll_1  h_mll_2  away_sl_1  away_sl_2  \\\n",
       "7134  ...       0.0       0.0      0.0      0.0       37.0       21.0   \n",
       "7073  ...       0.0       0.0      0.0      0.0       24.0       23.0   \n",
       "7197  ...       0.0       1.0      0.0      1.0       20.0       20.0   \n",
       "7200  ...       0.0       0.0      0.0      0.0       20.0       27.0   \n",
       "7085  ...       0.0       1.0      0.0      1.0       20.0       27.0   \n",
       "7164  ...       0.0       0.0      0.0      0.0       12.0       48.0   \n",
       "7095  ...       0.0       0.0      0.0      0.0       30.0       16.0   \n",
       "7061  ...       0.0       0.0      0.0      0.0       13.0       15.0   \n",
       "7100  ...       0.0       0.0      0.0      0.0       19.0       13.0   \n",
       "7154  ...       1.0       1.0      1.0      1.0       31.0       28.0   \n",
       "7055  ...       0.0       0.0      0.0      0.0       20.0        8.0   \n",
       "7210  ...       0.0       0.0      0.0      0.0       29.0       24.0   \n",
       "7118  ...       0.0       1.0      0.0      1.0       20.0        3.0   \n",
       "7136  ...       0.0       1.0      0.0      1.0       34.0       34.0   \n",
       "7032  ...       0.0       1.0      0.0      1.0       21.0       23.0   \n",
       "7126  ...       1.0       0.0      1.0      0.0       21.0       40.0   \n",
       "7107  ...       0.0       1.0      0.0      1.0       26.0       27.0   \n",
       "7069  ...       0.0       0.0      0.0      0.0       22.0       17.0   \n",
       "7178  ...       0.0       0.0      0.0      0.0       28.0       20.0   \n",
       "7078  ...       0.0       0.0      0.0      0.0       24.0       17.0   \n",
       "\n",
       "      a_sprl_1  a_sprl_2  a_mll_1  a_mll_2  \n",
       "7134       0.0       0.0      0.0      0.0  \n",
       "7073       1.0       0.0      1.0      0.0  \n",
       "7197       0.0       0.0      0.0      0.0  \n",
       "7200       0.0       1.0      0.0      1.0  \n",
       "7085       0.0       0.0      1.0      1.0  \n",
       "7164       0.0       0.0      0.0      0.0  \n",
       "7095       0.0       0.0      1.0      0.0  \n",
       "7061       0.0       0.0      0.0      0.0  \n",
       "7100       0.0       0.0      0.0      0.0  \n",
       "7154       1.0       0.0      1.0      0.0  \n",
       "7055       1.0       0.0      1.0      0.0  \n",
       "7210       0.0       0.0      0.0      1.0  \n",
       "7118       0.0       0.0      0.0      0.0  \n",
       "7136       1.0       1.0      1.0      1.0  \n",
       "7032       0.0       0.0      0.0      0.0  \n",
       "7126       0.0       0.0      1.0      0.0  \n",
       "7107       0.0       0.0      0.0      0.0  \n",
       "7069       0.0       0.0      0.0      0.0  \n",
       "7178       1.0       0.0      1.0      0.0  \n",
       "7078       1.0       0.0      1.0      0.0  \n",
       "\n",
       "[20 rows x 31 columns]"
      ]
     },
     "execution_count": 32,
     "metadata": {},
     "output_type": "execute_result"
    },
    {
     "data": {
      "application/javascript": [
       "\n",
       "            setTimeout(function() {\n",
       "                var nbb_cell_id = 32;\n",
       "                var nbb_unformatted_code = \"dfss[dfss[\\\"schedule_season\\\"] == 2018].sort_values(by=\\\"schedule_week\\\").head(20)\";\n",
       "                var nbb_formatted_code = \"dfss[dfss[\\\"schedule_season\\\"] == 2018].sort_values(by=\\\"schedule_week\\\").head(20)\";\n",
       "                var nbb_cells = Jupyter.notebook.get_cells();\n",
       "                for (var i = 0; i < nbb_cells.length; ++i) {\n",
       "                    if (nbb_cells[i].input_prompt_number == nbb_cell_id) {\n",
       "                        if (nbb_cells[i].get_text() == nbb_unformatted_code) {\n",
       "                             nbb_cells[i].set_text(nbb_formatted_code);\n",
       "                        }\n",
       "                        break;\n",
       "                    }\n",
       "                }\n",
       "            }, 500);\n",
       "            "
      ],
      "text/plain": [
       "<IPython.core.display.Javascript object>"
      ]
     },
     "metadata": {},
     "output_type": "display_data"
    }
   ],
   "source": [
    "dfss[dfss[\"schedule_season\"] == 2018].sort_values(by=\"schedule_week\").head(20)"
   ]
  },
  {
   "cell_type": "code",
   "execution_count": 33,
   "metadata": {},
   "outputs": [
    {
     "data": {
      "text/html": [
       "<div>\n",
       "<style scoped>\n",
       "    .dataframe tbody tr th:only-of-type {\n",
       "        vertical-align: middle;\n",
       "    }\n",
       "\n",
       "    .dataframe tbody tr th {\n",
       "        vertical-align: top;\n",
       "    }\n",
       "\n",
       "    .dataframe thead th {\n",
       "        text-align: right;\n",
       "    }\n",
       "</style>\n",
       "<table border=\"1\" class=\"dataframe\">\n",
       "  <thead>\n",
       "    <tr style=\"text-align: right;\">\n",
       "      <th></th>\n",
       "      <th>count</th>\n",
       "      <th>mean</th>\n",
       "      <th>std</th>\n",
       "      <th>min</th>\n",
       "      <th>25%</th>\n",
       "      <th>50%</th>\n",
       "      <th>75%</th>\n",
       "      <th>max</th>\n",
       "    </tr>\n",
       "  </thead>\n",
       "  <tbody>\n",
       "    <tr>\n",
       "      <th>schedule_season</th>\n",
       "      <td>7484.0</td>\n",
       "      <td>1999.934527</td>\n",
       "      <td>11.905930</td>\n",
       "      <td>1979.000</td>\n",
       "      <td>1990.000</td>\n",
       "      <td>2000.000</td>\n",
       "      <td>2010.0000</td>\n",
       "      <td>2020.000000</td>\n",
       "    </tr>\n",
       "    <tr>\n",
       "      <th>schedule_week</th>\n",
       "      <td>7484.0</td>\n",
       "      <td>9.150588</td>\n",
       "      <td>3.773865</td>\n",
       "      <td>3.000</td>\n",
       "      <td>6.000</td>\n",
       "      <td>9.000</td>\n",
       "      <td>12.0000</td>\n",
       "      <td>15.000000</td>\n",
       "    </tr>\n",
       "    <tr>\n",
       "      <th>spread_favorite</th>\n",
       "      <td>7484.0</td>\n",
       "      <td>-5.378608</td>\n",
       "      <td>3.462268</td>\n",
       "      <td>-26.500</td>\n",
       "      <td>-7.000</td>\n",
       "      <td>-4.500</td>\n",
       "      <td>-3.0000</td>\n",
       "      <td>0.000000</td>\n",
       "    </tr>\n",
       "    <tr>\n",
       "      <th>over_under_line</th>\n",
       "      <td>7484.0</td>\n",
       "      <td>42.049599</td>\n",
       "      <td>4.689510</td>\n",
       "      <td>30.000</td>\n",
       "      <td>38.500</td>\n",
       "      <td>42.000</td>\n",
       "      <td>45.0000</td>\n",
       "      <td>63.500000</td>\n",
       "    </tr>\n",
       "    <tr>\n",
       "      <th>score_home</th>\n",
       "      <td>7484.0</td>\n",
       "      <td>22.609166</td>\n",
       "      <td>10.336124</td>\n",
       "      <td>0.000</td>\n",
       "      <td>16.000</td>\n",
       "      <td>22.000</td>\n",
       "      <td>30.0000</td>\n",
       "      <td>62.000000</td>\n",
       "    </tr>\n",
       "    <tr>\n",
       "      <th>score_away</th>\n",
       "      <td>7484.0</td>\n",
       "      <td>20.101817</td>\n",
       "      <td>10.044897</td>\n",
       "      <td>0.000</td>\n",
       "      <td>13.000</td>\n",
       "      <td>20.000</td>\n",
       "      <td>27.0000</td>\n",
       "      <td>59.000000</td>\n",
       "    </tr>\n",
       "    <tr>\n",
       "      <th>mean_home</th>\n",
       "      <td>7484.0</td>\n",
       "      <td>22.522542</td>\n",
       "      <td>4.942632</td>\n",
       "      <td>8.750</td>\n",
       "      <td>19.125</td>\n",
       "      <td>22.375</td>\n",
       "      <td>25.6875</td>\n",
       "      <td>41.555556</td>\n",
       "    </tr>\n",
       "    <tr>\n",
       "      <th>mean_away</th>\n",
       "      <td>7484.0</td>\n",
       "      <td>19.902455</td>\n",
       "      <td>4.751042</td>\n",
       "      <td>5.125</td>\n",
       "      <td>16.750</td>\n",
       "      <td>19.625</td>\n",
       "      <td>22.8750</td>\n",
       "      <td>39.250000</td>\n",
       "    </tr>\n",
       "    <tr>\n",
       "      <th>home_favorite</th>\n",
       "      <td>7484.0</td>\n",
       "      <td>0.660609</td>\n",
       "      <td>0.473534</td>\n",
       "      <td>0.000</td>\n",
       "      <td>0.000</td>\n",
       "      <td>1.000</td>\n",
       "      <td>1.0000</td>\n",
       "      <td>1.000000</td>\n",
       "    </tr>\n",
       "    <tr>\n",
       "      <th>away_favorite</th>\n",
       "      <td>7484.0</td>\n",
       "      <td>0.325227</td>\n",
       "      <td>0.468491</td>\n",
       "      <td>0.000</td>\n",
       "      <td>0.000</td>\n",
       "      <td>0.000</td>\n",
       "      <td>1.0000</td>\n",
       "      <td>1.000000</td>\n",
       "    </tr>\n",
       "    <tr>\n",
       "      <th>score_dif</th>\n",
       "      <td>7484.0</td>\n",
       "      <td>11.560262</td>\n",
       "      <td>9.171505</td>\n",
       "      <td>0.000</td>\n",
       "      <td>4.000</td>\n",
       "      <td>9.000</td>\n",
       "      <td>17.0000</td>\n",
       "      <td>59.000000</td>\n",
       "    </tr>\n",
       "    <tr>\n",
       "      <th>is_over</th>\n",
       "      <td>7484.0</td>\n",
       "      <td>0.487440</td>\n",
       "      <td>0.499876</td>\n",
       "      <td>0.000</td>\n",
       "      <td>0.000</td>\n",
       "      <td>0.000</td>\n",
       "      <td>1.0000</td>\n",
       "      <td>1.000000</td>\n",
       "    </tr>\n",
       "    <tr>\n",
       "      <th>away_w_fav</th>\n",
       "      <td>7484.0</td>\n",
       "      <td>0.153661</td>\n",
       "      <td>0.360648</td>\n",
       "      <td>0.000</td>\n",
       "      <td>0.000</td>\n",
       "      <td>0.000</td>\n",
       "      <td>0.0000</td>\n",
       "      <td>1.000000</td>\n",
       "    </tr>\n",
       "    <tr>\n",
       "      <th>home_w_fav</th>\n",
       "      <td>7484.0</td>\n",
       "      <td>0.309861</td>\n",
       "      <td>0.462467</td>\n",
       "      <td>0.000</td>\n",
       "      <td>0.000</td>\n",
       "      <td>0.000</td>\n",
       "      <td>1.0000</td>\n",
       "      <td>1.000000</td>\n",
       "    </tr>\n",
       "    <tr>\n",
       "      <th>away_ml_fav</th>\n",
       "      <td>7484.0</td>\n",
       "      <td>0.204436</td>\n",
       "      <td>0.403316</td>\n",
       "      <td>0.000</td>\n",
       "      <td>0.000</td>\n",
       "      <td>0.000</td>\n",
       "      <td>0.0000</td>\n",
       "      <td>1.000000</td>\n",
       "    </tr>\n",
       "    <tr>\n",
       "      <th>home_ml_fav</th>\n",
       "      <td>7484.0</td>\n",
       "      <td>0.445885</td>\n",
       "      <td>0.497096</td>\n",
       "      <td>0.000</td>\n",
       "      <td>0.000</td>\n",
       "      <td>0.000</td>\n",
       "      <td>1.0000</td>\n",
       "      <td>1.000000</td>\n",
       "    </tr>\n",
       "    <tr>\n",
       "      <th>home_sl_1</th>\n",
       "      <td>7484.0</td>\n",
       "      <td>20.754944</td>\n",
       "      <td>10.207670</td>\n",
       "      <td>0.000</td>\n",
       "      <td>13.000</td>\n",
       "      <td>20.000</td>\n",
       "      <td>27.0000</td>\n",
       "      <td>62.000000</td>\n",
       "    </tr>\n",
       "    <tr>\n",
       "      <th>home_sl_2</th>\n",
       "      <td>7484.0</td>\n",
       "      <td>21.209781</td>\n",
       "      <td>10.168004</td>\n",
       "      <td>0.000</td>\n",
       "      <td>14.000</td>\n",
       "      <td>21.000</td>\n",
       "      <td>28.0000</td>\n",
       "      <td>62.000000</td>\n",
       "    </tr>\n",
       "    <tr>\n",
       "      <th>h_sprl_1</th>\n",
       "      <td>7484.0</td>\n",
       "      <td>0.198958</td>\n",
       "      <td>0.399243</td>\n",
       "      <td>0.000</td>\n",
       "      <td>0.000</td>\n",
       "      <td>0.000</td>\n",
       "      <td>0.0000</td>\n",
       "      <td>1.000000</td>\n",
       "    </tr>\n",
       "    <tr>\n",
       "      <th>h_sprl_2</th>\n",
       "      <td>7484.0</td>\n",
       "      <td>0.225815</td>\n",
       "      <td>0.418146</td>\n",
       "      <td>0.000</td>\n",
       "      <td>0.000</td>\n",
       "      <td>0.000</td>\n",
       "      <td>0.0000</td>\n",
       "      <td>1.000000</td>\n",
       "    </tr>\n",
       "    <tr>\n",
       "      <th>h_mll_1</th>\n",
       "      <td>7484.0</td>\n",
       "      <td>0.274051</td>\n",
       "      <td>0.446065</td>\n",
       "      <td>0.000</td>\n",
       "      <td>0.000</td>\n",
       "      <td>0.000</td>\n",
       "      <td>1.0000</td>\n",
       "      <td>1.000000</td>\n",
       "    </tr>\n",
       "    <tr>\n",
       "      <th>h_mll_2</th>\n",
       "      <td>7484.0</td>\n",
       "      <td>0.317210</td>\n",
       "      <td>0.465421</td>\n",
       "      <td>0.000</td>\n",
       "      <td>0.000</td>\n",
       "      <td>0.000</td>\n",
       "      <td>1.0000</td>\n",
       "      <td>1.000000</td>\n",
       "    </tr>\n",
       "    <tr>\n",
       "      <th>away_sl_1</th>\n",
       "      <td>7484.0</td>\n",
       "      <td>21.881881</td>\n",
       "      <td>10.265223</td>\n",
       "      <td>0.000</td>\n",
       "      <td>14.000</td>\n",
       "      <td>21.000</td>\n",
       "      <td>28.0000</td>\n",
       "      <td>62.000000</td>\n",
       "    </tr>\n",
       "    <tr>\n",
       "      <th>away_sl_2</th>\n",
       "      <td>7484.0</td>\n",
       "      <td>21.395510</td>\n",
       "      <td>10.251282</td>\n",
       "      <td>0.000</td>\n",
       "      <td>14.000</td>\n",
       "      <td>21.000</td>\n",
       "      <td>28.0000</td>\n",
       "      <td>62.000000</td>\n",
       "    </tr>\n",
       "    <tr>\n",
       "      <th>a_sprl_1</th>\n",
       "      <td>7484.0</td>\n",
       "      <td>0.265901</td>\n",
       "      <td>0.441841</td>\n",
       "      <td>0.000</td>\n",
       "      <td>0.000</td>\n",
       "      <td>0.000</td>\n",
       "      <td>1.0000</td>\n",
       "      <td>1.000000</td>\n",
       "    </tr>\n",
       "    <tr>\n",
       "      <th>a_sprl_2</th>\n",
       "      <td>7484.0</td>\n",
       "      <td>0.236104</td>\n",
       "      <td>0.424715</td>\n",
       "      <td>0.000</td>\n",
       "      <td>0.000</td>\n",
       "      <td>0.000</td>\n",
       "      <td>0.0000</td>\n",
       "      <td>1.000000</td>\n",
       "    </tr>\n",
       "    <tr>\n",
       "      <th>a_mll_1</th>\n",
       "      <td>7484.0</td>\n",
       "      <td>0.375735</td>\n",
       "      <td>0.484344</td>\n",
       "      <td>0.000</td>\n",
       "      <td>0.000</td>\n",
       "      <td>0.000</td>\n",
       "      <td>1.0000</td>\n",
       "      <td>1.000000</td>\n",
       "    </tr>\n",
       "    <tr>\n",
       "      <th>a_mll_2</th>\n",
       "      <td>7484.0</td>\n",
       "      <td>0.332175</td>\n",
       "      <td>0.471025</td>\n",
       "      <td>0.000</td>\n",
       "      <td>0.000</td>\n",
       "      <td>0.000</td>\n",
       "      <td>1.0000</td>\n",
       "      <td>1.000000</td>\n",
       "    </tr>\n",
       "  </tbody>\n",
       "</table>\n",
       "</div>"
      ],
      "text/plain": [
       "                  count         mean        std       min       25%       50%  \\\n",
       "schedule_season  7484.0  1999.934527  11.905930  1979.000  1990.000  2000.000   \n",
       "schedule_week    7484.0     9.150588   3.773865     3.000     6.000     9.000   \n",
       "spread_favorite  7484.0    -5.378608   3.462268   -26.500    -7.000    -4.500   \n",
       "over_under_line  7484.0    42.049599   4.689510    30.000    38.500    42.000   \n",
       "score_home       7484.0    22.609166  10.336124     0.000    16.000    22.000   \n",
       "score_away       7484.0    20.101817  10.044897     0.000    13.000    20.000   \n",
       "mean_home        7484.0    22.522542   4.942632     8.750    19.125    22.375   \n",
       "mean_away        7484.0    19.902455   4.751042     5.125    16.750    19.625   \n",
       "home_favorite    7484.0     0.660609   0.473534     0.000     0.000     1.000   \n",
       "away_favorite    7484.0     0.325227   0.468491     0.000     0.000     0.000   \n",
       "score_dif        7484.0    11.560262   9.171505     0.000     4.000     9.000   \n",
       "is_over          7484.0     0.487440   0.499876     0.000     0.000     0.000   \n",
       "away_w_fav       7484.0     0.153661   0.360648     0.000     0.000     0.000   \n",
       "home_w_fav       7484.0     0.309861   0.462467     0.000     0.000     0.000   \n",
       "away_ml_fav      7484.0     0.204436   0.403316     0.000     0.000     0.000   \n",
       "home_ml_fav      7484.0     0.445885   0.497096     0.000     0.000     0.000   \n",
       "home_sl_1        7484.0    20.754944  10.207670     0.000    13.000    20.000   \n",
       "home_sl_2        7484.0    21.209781  10.168004     0.000    14.000    21.000   \n",
       "h_sprl_1         7484.0     0.198958   0.399243     0.000     0.000     0.000   \n",
       "h_sprl_2         7484.0     0.225815   0.418146     0.000     0.000     0.000   \n",
       "h_mll_1          7484.0     0.274051   0.446065     0.000     0.000     0.000   \n",
       "h_mll_2          7484.0     0.317210   0.465421     0.000     0.000     0.000   \n",
       "away_sl_1        7484.0    21.881881  10.265223     0.000    14.000    21.000   \n",
       "away_sl_2        7484.0    21.395510  10.251282     0.000    14.000    21.000   \n",
       "a_sprl_1         7484.0     0.265901   0.441841     0.000     0.000     0.000   \n",
       "a_sprl_2         7484.0     0.236104   0.424715     0.000     0.000     0.000   \n",
       "a_mll_1          7484.0     0.375735   0.484344     0.000     0.000     0.000   \n",
       "a_mll_2          7484.0     0.332175   0.471025     0.000     0.000     0.000   \n",
       "\n",
       "                       75%          max  \n",
       "schedule_season  2010.0000  2020.000000  \n",
       "schedule_week      12.0000    15.000000  \n",
       "spread_favorite    -3.0000     0.000000  \n",
       "over_under_line    45.0000    63.500000  \n",
       "score_home         30.0000    62.000000  \n",
       "score_away         27.0000    59.000000  \n",
       "mean_home          25.6875    41.555556  \n",
       "mean_away          22.8750    39.250000  \n",
       "home_favorite       1.0000     1.000000  \n",
       "away_favorite       1.0000     1.000000  \n",
       "score_dif          17.0000    59.000000  \n",
       "is_over             1.0000     1.000000  \n",
       "away_w_fav          0.0000     1.000000  \n",
       "home_w_fav          1.0000     1.000000  \n",
       "away_ml_fav         0.0000     1.000000  \n",
       "home_ml_fav         1.0000     1.000000  \n",
       "home_sl_1          27.0000    62.000000  \n",
       "home_sl_2          28.0000    62.000000  \n",
       "h_sprl_1            0.0000     1.000000  \n",
       "h_sprl_2            0.0000     1.000000  \n",
       "h_mll_1             1.0000     1.000000  \n",
       "h_mll_2             1.0000     1.000000  \n",
       "away_sl_1          28.0000    62.000000  \n",
       "away_sl_2          28.0000    62.000000  \n",
       "a_sprl_1            1.0000     1.000000  \n",
       "a_sprl_2            0.0000     1.000000  \n",
       "a_mll_1             1.0000     1.000000  \n",
       "a_mll_2             1.0000     1.000000  "
      ]
     },
     "execution_count": 33,
     "metadata": {},
     "output_type": "execute_result"
    },
    {
     "data": {
      "application/javascript": [
       "\n",
       "            setTimeout(function() {\n",
       "                var nbb_cell_id = 33;\n",
       "                var nbb_unformatted_code = \"dfss.describe().transpose()\";\n",
       "                var nbb_formatted_code = \"dfss.describe().transpose()\";\n",
       "                var nbb_cells = Jupyter.notebook.get_cells();\n",
       "                for (var i = 0; i < nbb_cells.length; ++i) {\n",
       "                    if (nbb_cells[i].input_prompt_number == nbb_cell_id) {\n",
       "                        if (nbb_cells[i].get_text() == nbb_unformatted_code) {\n",
       "                             nbb_cells[i].set_text(nbb_formatted_code);\n",
       "                        }\n",
       "                        break;\n",
       "                    }\n",
       "                }\n",
       "            }, 500);\n",
       "            "
      ],
      "text/plain": [
       "<IPython.core.display.Javascript object>"
      ]
     },
     "metadata": {},
     "output_type": "display_data"
    }
   ],
   "source": [
    "dfss.describe().transpose()\n"
   ]
  },
  {
   "cell_type": "code",
   "execution_count": 34,
   "metadata": {},
   "outputs": [
    {
     "data": {
      "application/javascript": [
       "\n",
       "            setTimeout(function() {\n",
       "                var nbb_cell_id = 34;\n",
       "                var nbb_unformatted_code = \"# dfss.corr().style.background_gradient()\";\n",
       "                var nbb_formatted_code = \"# dfss.corr().style.background_gradient()\";\n",
       "                var nbb_cells = Jupyter.notebook.get_cells();\n",
       "                for (var i = 0; i < nbb_cells.length; ++i) {\n",
       "                    if (nbb_cells[i].input_prompt_number == nbb_cell_id) {\n",
       "                        if (nbb_cells[i].get_text() == nbb_unformatted_code) {\n",
       "                             nbb_cells[i].set_text(nbb_formatted_code);\n",
       "                        }\n",
       "                        break;\n",
       "                    }\n",
       "                }\n",
       "            }, 500);\n",
       "            "
      ],
      "text/plain": [
       "<IPython.core.display.Javascript object>"
      ]
     },
     "metadata": {},
     "output_type": "display_data"
    }
   ],
   "source": [
    "# dfss.corr().style.background_gradient()"
   ]
  },
  {
   "cell_type": "code",
   "execution_count": 35,
   "metadata": {},
   "outputs": [
    {
     "data": {
      "image/png": "[encoded data removed]",
      "text/plain": [
       "<Figure size 1440x1080 with 2 Axes>"
      ]
     },
     "metadata": {
      "needs_background": "light"
     },
     "output_type": "display_data"
    },
    {
     "data": {
      "application/javascript": [
       "\n",
       "            setTimeout(function() {\n",
       "                var nbb_cell_id = 35;\n",
       "                var nbb_unformatted_code = \"# corelation heatmap\\n\\nplt.figure(figsize=(20, 15))\\nsns.heatmap(dfss.corr(), vmin=-1, vmax=1, annot=True)\\nplt.show()\";\n",
       "                var nbb_formatted_code = \"# corelation heatmap\\n\\nplt.figure(figsize=(20, 15))\\nsns.heatmap(dfss.corr(), vmin=-1, vmax=1, annot=True)\\nplt.show()\";\n",
       "                var nbb_cells = Jupyter.notebook.get_cells();\n",
       "                for (var i = 0; i < nbb_cells.length; ++i) {\n",
       "                    if (nbb_cells[i].input_prompt_number == nbb_cell_id) {\n",
       "                        if (nbb_cells[i].get_text() == nbb_unformatted_code) {\n",
       "                             nbb_cells[i].set_text(nbb_formatted_code);\n",
       "                        }\n",
       "                        break;\n",
       "                    }\n",
       "                }\n",
       "            }, 500);\n",
       "            "
      ],
      "text/plain": [
       "<IPython.core.display.Javascript object>"
      ]
     },
     "metadata": {},
     "output_type": "display_data"
    }
   ],
   "source": [
    "# corelation heatmap\n",
    "\n",
    "plt.figure(figsize=(20, 15))\n",
    "sns.heatmap(dfss.corr(), vmin=-1, vmax=1, annot=True)\n",
    "plt.show()"
   ]
  },
  {
   "cell_type": "code",
   "execution_count": 36,
   "metadata": {},
   "outputs": [
    {
     "name": "stdout",
     "output_type": "stream",
     "text": [
      "Index(['schedule_season', 'schedule_week', 'team_home', 'team_away',\n",
      "       'team_favorite_id', 'spread_favorite', 'over_under_line', 'score_home',\n",
      "       'score_away', 'mean_home', 'mean_away', 'home_favorite',\n",
      "       'away_favorite', 'score_dif', 'is_over', 'away_w_fav', 'home_w_fav',\n",
      "       'away_ml_fav', 'home_ml_fav', 'home_sl_1', 'home_sl_2', 'h_sprl_1',\n",
      "       'h_sprl_2', 'h_mll_1', 'h_mll_2', 'away_sl_1', 'away_sl_2', 'a_sprl_1',\n",
      "       'a_sprl_2', 'a_mll_1', 'a_mll_2'],\n",
      "      dtype='object')\n"
     ]
    },
    {
     "data": {
      "application/javascript": [
       "\n",
       "            setTimeout(function() {\n",
       "                var nbb_cell_id = 36;\n",
       "                var nbb_unformatted_code = \"print(dfss.columns)\";\n",
       "                var nbb_formatted_code = \"print(dfss.columns)\";\n",
       "                var nbb_cells = Jupyter.notebook.get_cells();\n",
       "                for (var i = 0; i < nbb_cells.length; ++i) {\n",
       "                    if (nbb_cells[i].input_prompt_number == nbb_cell_id) {\n",
       "                        if (nbb_cells[i].get_text() == nbb_unformatted_code) {\n",
       "                             nbb_cells[i].set_text(nbb_formatted_code);\n",
       "                        }\n",
       "                        break;\n",
       "                    }\n",
       "                }\n",
       "            }, 500);\n",
       "            "
      ],
      "text/plain": [
       "<IPython.core.display.Javascript object>"
      ]
     },
     "metadata": {},
     "output_type": "display_data"
    }
   ],
   "source": [
    "print(dfss.columns)"
   ]
  },
  {
   "cell_type": "code",
   "execution_count": null,
   "metadata": {},
   "outputs": [],
   "source": []
  },
  {
   "cell_type": "markdown",
   "metadata": {},
   "source": [
    "### Modeling "
   ]
  },
  {
   "cell_type": "code",
   "execution_count": 37,
   "metadata": {},
   "outputs": [
    {
     "data": {
      "application/javascript": [
       "\n",
       "            setTimeout(function() {\n",
       "                var nbb_cell_id = 37;\n",
       "                var nbb_unformatted_code = \"# This model outcome was inferior, decided to switch to ML predictions. commenting out workflow.\\n# X = dfss.drop(\\n#    columns=[\\n#        \\\"schedule_season\\\",\\n#        #'schedule_week',\\n#        #'team_home',\\n#        #'team_away',\\n#        #'team_favorite_id',\\n#        #'spread_favorite',\\n#        #'over_under_line',\\n#        \\\"score_home\\\",\\n#        \\\"score_away\\\",\\n#        #'mean_home',\\n#        #'mean_away',\\n#        \\\"home_favorite\\\",\\n#        #'away_favorite',\\n#        #'score_dif',\\n#        \\\"is_over\\\",\\n#        #'away_w_fav',\\n#        #'home_w_fav',\\n#        #'away_ml_fav',\\n#        #'home_ml_fav',\\n#        #'home_sl_1',\\n#        #'home_sl_2',\\n#        #'h_sprl_1',\\n#        #'h_sprl_2',\\n#        #'h_mll_1',\\n#        #'h_mll_2',\\n#        #'away_sl_1',\\n#        #'away_sl_2',\\n#        #'a_sprl_1',\\n#        #'a_sprl_2',\\n#        #'a_mll_1',\\n#        #'a_mll_2'\\n#    ]\\n# )\\n# y = dfss[\\\"is_over\\\"]\\n#\\n# X_train, X_test, y_train, y_test = train_test_split(\\n#    X, y, test_size=0.2, random_state=42\\n# )\";\n",
       "                var nbb_formatted_code = \"# This model outcome was inferior, decided to switch to ML predictions. commenting out workflow.\\n# X = dfss.drop(\\n#    columns=[\\n#        \\\"schedule_season\\\",\\n#        #'schedule_week',\\n#        #'team_home',\\n#        #'team_away',\\n#        #'team_favorite_id',\\n#        #'spread_favorite',\\n#        #'over_under_line',\\n#        \\\"score_home\\\",\\n#        \\\"score_away\\\",\\n#        #'mean_home',\\n#        #'mean_away',\\n#        \\\"home_favorite\\\",\\n#        #'away_favorite',\\n#        #'score_dif',\\n#        \\\"is_over\\\",\\n#        #'away_w_fav',\\n#        #'home_w_fav',\\n#        #'away_ml_fav',\\n#        #'home_ml_fav',\\n#        #'home_sl_1',\\n#        #'home_sl_2',\\n#        #'h_sprl_1',\\n#        #'h_sprl_2',\\n#        #'h_mll_1',\\n#        #'h_mll_2',\\n#        #'away_sl_1',\\n#        #'away_sl_2',\\n#        #'a_sprl_1',\\n#        #'a_sprl_2',\\n#        #'a_mll_1',\\n#        #'a_mll_2'\\n#    ]\\n# )\\n# y = dfss[\\\"is_over\\\"]\\n#\\n# X_train, X_test, y_train, y_test = train_test_split(\\n#    X, y, test_size=0.2, random_state=42\\n# )\";\n",
       "                var nbb_cells = Jupyter.notebook.get_cells();\n",
       "                for (var i = 0; i < nbb_cells.length; ++i) {\n",
       "                    if (nbb_cells[i].input_prompt_number == nbb_cell_id) {\n",
       "                        if (nbb_cells[i].get_text() == nbb_unformatted_code) {\n",
       "                             nbb_cells[i].set_text(nbb_formatted_code);\n",
       "                        }\n",
       "                        break;\n",
       "                    }\n",
       "                }\n",
       "            }, 500);\n",
       "            "
      ],
      "text/plain": [
       "<IPython.core.display.Javascript object>"
      ]
     },
     "metadata": {},
     "output_type": "display_data"
    }
   ],
   "source": [
    "# This model outcome was inferior, decided to switch to ML predictions. commenting out workflow.\n",
    "# X = dfss.drop(\n",
    "#    columns=[\n",
    "#        \"schedule_season\",\n",
    "#        #'schedule_week',\n",
    "#        #'team_home',\n",
    "#        #'team_away',\n",
    "#        #'team_favorite_id',\n",
    "#        #'spread_favorite',\n",
    "#        #'over_under_line',\n",
    "#        \"score_home\",\n",
    "#        \"score_away\",\n",
    "#        #'mean_home',\n",
    "#        #'mean_away',\n",
    "#        \"home_favorite\",\n",
    "#        #'away_favorite',\n",
    "#        #'score_dif',\n",
    "#        \"is_over\",\n",
    "#        #'away_w_fav',\n",
    "#        #'home_w_fav',\n",
    "#        #'away_ml_fav',\n",
    "#        #'home_ml_fav',\n",
    "#        #'home_sl_1',\n",
    "#        #'home_sl_2',\n",
    "#        #'h_sprl_1',\n",
    "#        #'h_sprl_2',\n",
    "#        #'h_mll_1',\n",
    "#        #'h_mll_2',\n",
    "#        #'away_sl_1',\n",
    "#        #'away_sl_2',\n",
    "#        #'a_sprl_1',\n",
    "#        #'a_sprl_2',\n",
    "#        #'a_mll_1',\n",
    "#        #'a_mll_2'\n",
    "#    ]\n",
    "# )\n",
    "# y = dfss[\"is_over\"]\n",
    "#\n",
    "# X_train, X_test, y_train, y_test = train_test_split(\n",
    "#    X, y, test_size=0.2, random_state=42\n",
    "# )"
   ]
  },
  {
   "cell_type": "code",
   "execution_count": 38,
   "metadata": {},
   "outputs": [
    {
     "data": {
      "application/javascript": [
       "\n",
       "            setTimeout(function() {\n",
       "                var nbb_cell_id = 38;\n",
       "                var nbb_unformatted_code = \"# This is code to visualize relationships between features.\\n\\n# encoded = LeaveOneOutEncoder().fit_transform(X_train, y_train)\\n## df_train = pd.concat((encoded, y_train), axis=1)\\n## sns.pairplot(df_train[[\\\"score_home\\\", \\\"score_away\\\", \\\"is_over\\\"]], hue=\\\"is_over\\\")\\n## plt.show()\\n## tall_df_train = df_train.melt(id_vars=\\\"is_over\\\")\\n## fg = sns.FacetGrid(tall_df_train, col=\\\"variable\\\", col_wrap=4)\\n## fg.map(sns.boxplot, \\\"is_over\\\", \\\"value\\\")\\n## plt.show()\\n# display(encoded.head())\\n#\";\n",
       "                var nbb_formatted_code = \"# This is code to visualize relationships between features.\\n\\n# encoded = LeaveOneOutEncoder().fit_transform(X_train, y_train)\\n## df_train = pd.concat((encoded, y_train), axis=1)\\n## sns.pairplot(df_train[[\\\"score_home\\\", \\\"score_away\\\", \\\"is_over\\\"]], hue=\\\"is_over\\\")\\n## plt.show()\\n## tall_df_train = df_train.melt(id_vars=\\\"is_over\\\")\\n## fg = sns.FacetGrid(tall_df_train, col=\\\"variable\\\", col_wrap=4)\\n## fg.map(sns.boxplot, \\\"is_over\\\", \\\"value\\\")\\n## plt.show()\\n# display(encoded.head())\\n#\";\n",
       "                var nbb_cells = Jupyter.notebook.get_cells();\n",
       "                for (var i = 0; i < nbb_cells.length; ++i) {\n",
       "                    if (nbb_cells[i].input_prompt_number == nbb_cell_id) {\n",
       "                        if (nbb_cells[i].get_text() == nbb_unformatted_code) {\n",
       "                             nbb_cells[i].set_text(nbb_formatted_code);\n",
       "                        }\n",
       "                        break;\n",
       "                    }\n",
       "                }\n",
       "            }, 500);\n",
       "            "
      ],
      "text/plain": [
       "<IPython.core.display.Javascript object>"
      ]
     },
     "metadata": {},
     "output_type": "display_data"
    }
   ],
   "source": [
    "# This is code to visualize relationships between features.\n",
    "\n",
    "# encoded = LeaveOneOutEncoder().fit_transform(X_train, y_train)\n",
    "## df_train = pd.concat((encoded, y_train), axis=1)\n",
    "## sns.pairplot(df_train[[\"score_home\", \"score_away\", \"is_over\"]], hue=\"is_over\")\n",
    "## plt.show()\n",
    "## tall_df_train = df_train.melt(id_vars=\"is_over\")\n",
    "## fg = sns.FacetGrid(tall_df_train, col=\"variable\", col_wrap=4)\n",
    "## fg.map(sns.boxplot, \"is_over\", \"value\")\n",
    "## plt.show()\n",
    "# display(encoded.head())\n",
    "#"
   ]
  },
  {
   "cell_type": "code",
   "execution_count": 39,
   "metadata": {},
   "outputs": [
    {
     "data": {
      "application/javascript": [
       "\n",
       "            setTimeout(function() {\n",
       "                var nbb_cell_id = 39;\n",
       "                var nbb_unformatted_code = \"# bin_cols = [\\n#    \\\"is_over\\\",\\n#    # \\\"home_favorite\\\",\\n#    \\\"away_favorite\\\",\\n#    \\\"away_w_fav\\\",\\n#    \\\"home_w_fav\\\",\\n#    \\\"away_ml_fav\\\",\\n#    \\\"home_ml_fav\\\",\\n#    \\\"h_sprl_1\\\",\\n#    \\\"h_sprl_2\\\",\\n#    \\\"h_mll_1\\\",\\n#    \\\"h_mll_2\\\",\\n#    \\\"a_sprl_1\\\",\\n#    \\\"a_sprl_2\\\",\\n#    \\\"a_mll_1\\\",\\n#    \\\"a_mll_2\\\",\\n# ]\\n# num_cols = [\\n#    \\\"mean_home\\\",\\n#    \\\"mean_away\\\",\\n#    \\\"spread_favorite\\\",\\n#    \\\"over_under_line\\\",\\n#    \\\"home_sl_1\\\",\\n#    \\\"home_sl_2\\\",\\n#    \\\"away_sl_1\\\",\\n#    \\\"away_sl_2\\\",\\n#    \\\"score_dif\\\",\\n# ]\\n# cat_cols = [\\n#    \\\"schedule_week\\\",\\n#    \\\"team_home\\\",\\n#    \\\"team_away\\\",\\n#    \\\"team_favorite_id\\\",\\n# ]\\n#\\n# prep = ColumnTransformer(\\n#    [\\n#        (\\\"leave_one\\\", LeaveOneOutEncoder(), cat_cols),\\n#    ],\\n#    remainder=\\\"passthrough\\\",\\n# )\";\n",
       "                var nbb_formatted_code = \"# bin_cols = [\\n#    \\\"is_over\\\",\\n#    # \\\"home_favorite\\\",\\n#    \\\"away_favorite\\\",\\n#    \\\"away_w_fav\\\",\\n#    \\\"home_w_fav\\\",\\n#    \\\"away_ml_fav\\\",\\n#    \\\"home_ml_fav\\\",\\n#    \\\"h_sprl_1\\\",\\n#    \\\"h_sprl_2\\\",\\n#    \\\"h_mll_1\\\",\\n#    \\\"h_mll_2\\\",\\n#    \\\"a_sprl_1\\\",\\n#    \\\"a_sprl_2\\\",\\n#    \\\"a_mll_1\\\",\\n#    \\\"a_mll_2\\\",\\n# ]\\n# num_cols = [\\n#    \\\"mean_home\\\",\\n#    \\\"mean_away\\\",\\n#    \\\"spread_favorite\\\",\\n#    \\\"over_under_line\\\",\\n#    \\\"home_sl_1\\\",\\n#    \\\"home_sl_2\\\",\\n#    \\\"away_sl_1\\\",\\n#    \\\"away_sl_2\\\",\\n#    \\\"score_dif\\\",\\n# ]\\n# cat_cols = [\\n#    \\\"schedule_week\\\",\\n#    \\\"team_home\\\",\\n#    \\\"team_away\\\",\\n#    \\\"team_favorite_id\\\",\\n# ]\\n#\\n# prep = ColumnTransformer(\\n#    [\\n#        (\\\"leave_one\\\", LeaveOneOutEncoder(), cat_cols),\\n#    ],\\n#    remainder=\\\"passthrough\\\",\\n# )\";\n",
       "                var nbb_cells = Jupyter.notebook.get_cells();\n",
       "                for (var i = 0; i < nbb_cells.length; ++i) {\n",
       "                    if (nbb_cells[i].input_prompt_number == nbb_cell_id) {\n",
       "                        if (nbb_cells[i].get_text() == nbb_unformatted_code) {\n",
       "                             nbb_cells[i].set_text(nbb_formatted_code);\n",
       "                        }\n",
       "                        break;\n",
       "                    }\n",
       "                }\n",
       "            }, 500);\n",
       "            "
      ],
      "text/plain": [
       "<IPython.core.display.Javascript object>"
      ]
     },
     "metadata": {},
     "output_type": "display_data"
    }
   ],
   "source": [
    "# bin_cols = [\n",
    "#    \"is_over\",\n",
    "#    # \"home_favorite\",\n",
    "#    \"away_favorite\",\n",
    "#    \"away_w_fav\",\n",
    "#    \"home_w_fav\",\n",
    "#    \"away_ml_fav\",\n",
    "#    \"home_ml_fav\",\n",
    "#    \"h_sprl_1\",\n",
    "#    \"h_sprl_2\",\n",
    "#    \"h_mll_1\",\n",
    "#    \"h_mll_2\",\n",
    "#    \"a_sprl_1\",\n",
    "#    \"a_sprl_2\",\n",
    "#    \"a_mll_1\",\n",
    "#    \"a_mll_2\",\n",
    "# ]\n",
    "# num_cols = [\n",
    "#    \"mean_home\",\n",
    "#    \"mean_away\",\n",
    "#    \"spread_favorite\",\n",
    "#    \"over_under_line\",\n",
    "#    \"home_sl_1\",\n",
    "#    \"home_sl_2\",\n",
    "#    \"away_sl_1\",\n",
    "#    \"away_sl_2\",\n",
    "#    \"score_dif\",\n",
    "# ]\n",
    "# cat_cols = [\n",
    "#    \"schedule_week\",\n",
    "#    \"team_home\",\n",
    "#    \"team_away\",\n",
    "#    \"team_favorite_id\",\n",
    "# ]\n",
    "#\n",
    "# prep = ColumnTransformer(\n",
    "#    [\n",
    "#        (\"leave_one\", LeaveOneOutEncoder(), cat_cols),\n",
    "#    ],\n",
    "#    remainder=\"passthrough\",\n",
    "# )"
   ]
  },
  {
   "cell_type": "code",
   "execution_count": 40,
   "metadata": {},
   "outputs": [
    {
     "data": {
      "application/javascript": [
       "\n",
       "            setTimeout(function() {\n",
       "                var nbb_cell_id = 40;\n",
       "                var nbb_unformatted_code = \"# prep.fit_transform(X_train, y_train)[3, :]\";\n",
       "                var nbb_formatted_code = \"# prep.fit_transform(X_train, y_train)[3, :]\";\n",
       "                var nbb_cells = Jupyter.notebook.get_cells();\n",
       "                for (var i = 0; i < nbb_cells.length; ++i) {\n",
       "                    if (nbb_cells[i].input_prompt_number == nbb_cell_id) {\n",
       "                        if (nbb_cells[i].get_text() == nbb_unformatted_code) {\n",
       "                             nbb_cells[i].set_text(nbb_formatted_code);\n",
       "                        }\n",
       "                        break;\n",
       "                    }\n",
       "                }\n",
       "            }, 500);\n",
       "            "
      ],
      "text/plain": [
       "<IPython.core.display.Javascript object>"
      ]
     },
     "metadata": {},
     "output_type": "display_data"
    }
   ],
   "source": [
    "# prep.fit_transform(X_train, y_train)[3, :]"
   ]
  },
  {
   "cell_type": "code",
   "execution_count": 41,
   "metadata": {},
   "outputs": [
    {
     "data": {
      "application/javascript": [
       "\n",
       "            setTimeout(function() {\n",
       "                var nbb_cell_id = 41;\n",
       "                var nbb_unformatted_code = \"# transformed = prep.fit_transform(X_train, y_train)\\n## ToDO get printVIF and run it.\\n# type(transformed)\\n## ToD0, create dataframe with transformed.\\n# transformed = pd.DataFrame(transformed, columns=X_train.columns)\\n# print_vif(transformed)\";\n",
       "                var nbb_formatted_code = \"# transformed = prep.fit_transform(X_train, y_train)\\n## ToDO get printVIF and run it.\\n# type(transformed)\\n## ToD0, create dataframe with transformed.\\n# transformed = pd.DataFrame(transformed, columns=X_train.columns)\\n# print_vif(transformed)\";\n",
       "                var nbb_cells = Jupyter.notebook.get_cells();\n",
       "                for (var i = 0; i < nbb_cells.length; ++i) {\n",
       "                    if (nbb_cells[i].input_prompt_number == nbb_cell_id) {\n",
       "                        if (nbb_cells[i].get_text() == nbb_unformatted_code) {\n",
       "                             nbb_cells[i].set_text(nbb_formatted_code);\n",
       "                        }\n",
       "                        break;\n",
       "                    }\n",
       "                }\n",
       "            }, 500);\n",
       "            "
      ],
      "text/plain": [
       "<IPython.core.display.Javascript object>"
      ]
     },
     "metadata": {},
     "output_type": "display_data"
    }
   ],
   "source": [
    "# transformed = prep.fit_transform(X_train, y_train)\n",
    "## ToDO get printVIF and run it.\n",
    "# type(transformed)\n",
    "## ToD0, create dataframe with transformed.\n",
    "# transformed = pd.DataFrame(transformed, columns=X_train.columns)\n",
    "# print_vif(transformed)"
   ]
  },
  {
   "cell_type": "code",
   "execution_count": 42,
   "metadata": {},
   "outputs": [
    {
     "data": {
      "application/javascript": [
       "\n",
       "            setTimeout(function() {\n",
       "                var nbb_cell_id = 42;\n",
       "                var nbb_unformatted_code = \"# plt.figure(figsize=(20, 15))\\n# sns.heatmap(X.corr(), vmin=-1, vmax=1, annot=True)\\n# plt.show()\";\n",
       "                var nbb_formatted_code = \"# plt.figure(figsize=(20, 15))\\n# sns.heatmap(X.corr(), vmin=-1, vmax=1, annot=True)\\n# plt.show()\";\n",
       "                var nbb_cells = Jupyter.notebook.get_cells();\n",
       "                for (var i = 0; i < nbb_cells.length; ++i) {\n",
       "                    if (nbb_cells[i].input_prompt_number == nbb_cell_id) {\n",
       "                        if (nbb_cells[i].get_text() == nbb_unformatted_code) {\n",
       "                             nbb_cells[i].set_text(nbb_formatted_code);\n",
       "                        }\n",
       "                        break;\n",
       "                    }\n",
       "                }\n",
       "            }, 500);\n",
       "            "
      ],
      "text/plain": [
       "<IPython.core.display.Javascript object>"
      ]
     },
     "metadata": {},
     "output_type": "display_data"
    }
   ],
   "source": [
    "# plt.figure(figsize=(20, 15))\n",
    "# sns.heatmap(X.corr(), vmin=-1, vmax=1, annot=True)\n",
    "# plt.show()"
   ]
  },
  {
   "cell_type": "code",
   "execution_count": 43,
   "metadata": {},
   "outputs": [
    {
     "data": {
      "application/javascript": [
       "\n",
       "            setTimeout(function() {\n",
       "                var nbb_cell_id = 43;\n",
       "                var nbb_unformatted_code = \"# Try SVC\\n# pipe = Pipeline([(\\\"prep\\\", prep), (\\\"svc\\\", SVC())])\\n#\\n# grid = {\\n#    \\\"svc__kernel\\\": [\\\"linear\\\", \\\"poly\\\", \\\"rbf\\\"],\\n#    \\\"svc__degree\\\": [2, 3, 4],\\n#    \\\"svc__C\\\": [0.001, 0.01, 0.1, 1],\\n# }\\n#\\n# pipe_cv = GridSearchCV(pipe, grid, cv=3, n_jobs=-1)\";\n",
       "                var nbb_formatted_code = \"# Try SVC\\n# pipe = Pipeline([(\\\"prep\\\", prep), (\\\"svc\\\", SVC())])\\n#\\n# grid = {\\n#    \\\"svc__kernel\\\": [\\\"linear\\\", \\\"poly\\\", \\\"rbf\\\"],\\n#    \\\"svc__degree\\\": [2, 3, 4],\\n#    \\\"svc__C\\\": [0.001, 0.01, 0.1, 1],\\n# }\\n#\\n# pipe_cv = GridSearchCV(pipe, grid, cv=3, n_jobs=-1)\";\n",
       "                var nbb_cells = Jupyter.notebook.get_cells();\n",
       "                for (var i = 0; i < nbb_cells.length; ++i) {\n",
       "                    if (nbb_cells[i].input_prompt_number == nbb_cell_id) {\n",
       "                        if (nbb_cells[i].get_text() == nbb_unformatted_code) {\n",
       "                             nbb_cells[i].set_text(nbb_formatted_code);\n",
       "                        }\n",
       "                        break;\n",
       "                    }\n",
       "                }\n",
       "            }, 500);\n",
       "            "
      ],
      "text/plain": [
       "<IPython.core.display.Javascript object>"
      ]
     },
     "metadata": {},
     "output_type": "display_data"
    }
   ],
   "source": [
    "# Try SVC\n",
    "# pipe = Pipeline([(\"prep\", prep), (\"svc\", SVC())])\n",
    "#\n",
    "# grid = {\n",
    "#    \"svc__kernel\": [\"linear\", \"poly\", \"rbf\"],\n",
    "#    \"svc__degree\": [2, 3, 4],\n",
    "#    \"svc__C\": [0.001, 0.01, 0.1, 1],\n",
    "# }\n",
    "#\n",
    "# pipe_cv = GridSearchCV(pipe, grid, cv=3, n_jobs=-1)"
   ]
  },
  {
   "cell_type": "markdown",
   "metadata": {},
   "source": [
    "### Fit and Eval"
   ]
  },
  {
   "cell_type": "code",
   "execution_count": 44,
   "metadata": {},
   "outputs": [
    {
     "data": {
      "application/javascript": [
       "\n",
       "            setTimeout(function() {\n",
       "                var nbb_cell_id = 44;\n",
       "                var nbb_unformatted_code = \"# pipe_cv.fit(X_train, y_train)\\n#\\n# print(\\\"Best params:\\\")\\n# print(pipe_cv.best_params_)\\n#\\n# print(f\\\"\\\\ntrain score: {pipe_cv.score(X_train,y_train):.3f}\\\")\\n# print(f\\\"test score: {pipe_cv.score(X_test, y_test):.3f}\\\\n\\\")\\n#\\n# y_pred = pipe_cv.predict(X_test)\\n# print(confusion_matrix(y_test, y_pred))\\n# print(classification_report(y_test, y_pred))\";\n",
       "                var nbb_formatted_code = \"# pipe_cv.fit(X_train, y_train)\\n#\\n# print(\\\"Best params:\\\")\\n# print(pipe_cv.best_params_)\\n#\\n# print(f\\\"\\\\ntrain score: {pipe_cv.score(X_train,y_train):.3f}\\\")\\n# print(f\\\"test score: {pipe_cv.score(X_test, y_test):.3f}\\\\n\\\")\\n#\\n# y_pred = pipe_cv.predict(X_test)\\n# print(confusion_matrix(y_test, y_pred))\\n# print(classification_report(y_test, y_pred))\";\n",
       "                var nbb_cells = Jupyter.notebook.get_cells();\n",
       "                for (var i = 0; i < nbb_cells.length; ++i) {\n",
       "                    if (nbb_cells[i].input_prompt_number == nbb_cell_id) {\n",
       "                        if (nbb_cells[i].get_text() == nbb_unformatted_code) {\n",
       "                             nbb_cells[i].set_text(nbb_formatted_code);\n",
       "                        }\n",
       "                        break;\n",
       "                    }\n",
       "                }\n",
       "            }, 500);\n",
       "            "
      ],
      "text/plain": [
       "<IPython.core.display.Javascript object>"
      ]
     },
     "metadata": {},
     "output_type": "display_data"
    }
   ],
   "source": [
    "# pipe_cv.fit(X_train, y_train)\n",
    "#\n",
    "# print(\"Best params:\")\n",
    "# print(pipe_cv.best_params_)\n",
    "#\n",
    "# print(f\"\\ntrain score: {pipe_cv.score(X_train,y_train):.3f}\")\n",
    "# print(f\"test score: {pipe_cv.score(X_test, y_test):.3f}\\n\")\n",
    "#\n",
    "# y_pred = pipe_cv.predict(X_test)\n",
    "# print(confusion_matrix(y_test, y_pred))\n",
    "# print(classification_report(y_test, y_pred))"
   ]
  },
  {
   "cell_type": "markdown",
   "metadata": {},
   "source": [
    "### Feature Importance "
   ]
  },
  {
   "cell_type": "code",
   "execution_count": 45,
   "metadata": {},
   "outputs": [
    {
     "data": {
      "application/javascript": [
       "\n",
       "            setTimeout(function() {\n",
       "                var nbb_cell_id = 45;\n",
       "                var nbb_unformatted_code = \"# Turn back on if switches back to linear\\n# coef = pipe_cv.best_estimator_[\\\"svc\\\"].coef_[0]\\n# im_df = pd.DataFrame({\\\"feature\\\": X_train.columns, \\\"coef_sq\\\": coef ** 2})\\n# im_df.sort_values(\\\"coef_sq\\\", ascending=False)\";\n",
       "                var nbb_formatted_code = \"# Turn back on if switches back to linear\\n# coef = pipe_cv.best_estimator_[\\\"svc\\\"].coef_[0]\\n# im_df = pd.DataFrame({\\\"feature\\\": X_train.columns, \\\"coef_sq\\\": coef ** 2})\\n# im_df.sort_values(\\\"coef_sq\\\", ascending=False)\";\n",
       "                var nbb_cells = Jupyter.notebook.get_cells();\n",
       "                for (var i = 0; i < nbb_cells.length; ++i) {\n",
       "                    if (nbb_cells[i].input_prompt_number == nbb_cell_id) {\n",
       "                        if (nbb_cells[i].get_text() == nbb_unformatted_code) {\n",
       "                             nbb_cells[i].set_text(nbb_formatted_code);\n",
       "                        }\n",
       "                        break;\n",
       "                    }\n",
       "                }\n",
       "            }, 500);\n",
       "            "
      ],
      "text/plain": [
       "<IPython.core.display.Javascript object>"
      ]
     },
     "metadata": {},
     "output_type": "display_data"
    }
   ],
   "source": [
    "# Turn back on if switches back to linear\n",
    "# coef = pipe_cv.best_estimator_[\"svc\"].coef_[0]\n",
    "# im_df = pd.DataFrame({\"feature\": X_train.columns, \"coef_sq\": coef ** 2})\n",
    "# im_df.sort_values(\"coef_sq\", ascending=False)"
   ]
  },
  {
   "cell_type": "code",
   "execution_count": 46,
   "metadata": {},
   "outputs": [
    {
     "data": {
      "application/javascript": [
       "\n",
       "            setTimeout(function() {\n",
       "                var nbb_cell_id = 46;\n",
       "                var nbb_unformatted_code = \"# Look at XTrain, and see what can trim without losing accuracy.\\n# X_train.head()\";\n",
       "                var nbb_formatted_code = \"# Look at XTrain, and see what can trim without losing accuracy.\\n# X_train.head()\";\n",
       "                var nbb_cells = Jupyter.notebook.get_cells();\n",
       "                for (var i = 0; i < nbb_cells.length; ++i) {\n",
       "                    if (nbb_cells[i].input_prompt_number == nbb_cell_id) {\n",
       "                        if (nbb_cells[i].get_text() == nbb_unformatted_code) {\n",
       "                             nbb_cells[i].set_text(nbb_formatted_code);\n",
       "                        }\n",
       "                        break;\n",
       "                    }\n",
       "                }\n",
       "            }, 500);\n",
       "            "
      ],
      "text/plain": [
       "<IPython.core.display.Javascript object>"
      ]
     },
     "metadata": {},
     "output_type": "display_data"
    }
   ],
   "source": [
    "# Look at XTrain, and see what can trim without losing accuracy.\n",
    "# X_train.head()"
   ]
  },
  {
   "cell_type": "markdown",
   "metadata": {},
   "source": [
    "### Error Analysis"
   ]
  },
  {
   "cell_type": "code",
   "execution_count": 47,
   "metadata": {},
   "outputs": [
    {
     "data": {
      "application/javascript": [
       "\n",
       "            setTimeout(function() {\n",
       "                var nbb_cell_id = 47;\n",
       "                var nbb_unformatted_code = \"# errors = dfscore_copy.copy()\\n# errors = errors.loc[y_test.index]\\n#\\n# errors[\\\"y_true\\\"] = y_test\\n# errors[\\\"y_pred\\\"] = y_pred\\n#\\n# errors = errors[errors[\\\"y_true\\\"] != errors[\\\"y_pred\\\"]]\\n#\\n# print(f'mean prob of over for errors: {errors[\\\"is_over\\\"].mean()}')\\n\\n\\n# sns.swarmplot(y=errors[\\\"is_over\\\"])\\n# plt.show()\\n# predict_proba(y_test)\";\n",
       "                var nbb_formatted_code = \"# errors = dfscore_copy.copy()\\n# errors = errors.loc[y_test.index]\\n#\\n# errors[\\\"y_true\\\"] = y_test\\n# errors[\\\"y_pred\\\"] = y_pred\\n#\\n# errors = errors[errors[\\\"y_true\\\"] != errors[\\\"y_pred\\\"]]\\n#\\n# print(f'mean prob of over for errors: {errors[\\\"is_over\\\"].mean()}')\\n\\n\\n# sns.swarmplot(y=errors[\\\"is_over\\\"])\\n# plt.show()\\n# predict_proba(y_test)\";\n",
       "                var nbb_cells = Jupyter.notebook.get_cells();\n",
       "                for (var i = 0; i < nbb_cells.length; ++i) {\n",
       "                    if (nbb_cells[i].input_prompt_number == nbb_cell_id) {\n",
       "                        if (nbb_cells[i].get_text() == nbb_unformatted_code) {\n",
       "                             nbb_cells[i].set_text(nbb_formatted_code);\n",
       "                        }\n",
       "                        break;\n",
       "                    }\n",
       "                }\n",
       "            }, 500);\n",
       "            "
      ],
      "text/plain": [
       "<IPython.core.display.Javascript object>"
      ]
     },
     "metadata": {},
     "output_type": "display_data"
    }
   ],
   "source": [
    "# errors = dfscore_copy.copy()\n",
    "# errors = errors.loc[y_test.index]\n",
    "#\n",
    "# errors[\"y_true\"] = y_test\n",
    "# errors[\"y_pred\"] = y_pred\n",
    "#\n",
    "# errors = errors[errors[\"y_true\"] != errors[\"y_pred\"]]\n",
    "#\n",
    "# print(f'mean prob of over for errors: {errors[\"is_over\"].mean()}')\n",
    "\n",
    "\n",
    "# sns.swarmplot(y=errors[\"is_over\"])\n",
    "# plt.show()\n",
    "# predict_proba(y_test)"
   ]
  },
  {
   "cell_type": "markdown",
   "metadata": {},
   "source": [
    "### Try XGBoost"
   ]
  },
  {
   "cell_type": "code",
   "execution_count": 48,
   "metadata": {},
   "outputs": [
    {
     "data": {
      "application/javascript": [
       "\n",
       "            setTimeout(function() {\n",
       "                var nbb_cell_id = 48;\n",
       "                var nbb_unformatted_code = \"# n_trees = 100\\n## learning_rate = ([0.0001, 0.001, 0.01, 0.1, 0.2, 0.3],)\\n#\\n# x_pipe = Pipeline(\\n#    [\\n#        (\\\"prep\\\", prep),\\n#        (\\\"xgb\\\", XGBClassifier(n_estimators=n_trees, learning_rate=0.01 / n_trees)),\\n#    ]\\n# )\\n#\\n# x_grid = {\\n#    \\\"xgb__subsample\\\": [0.5, 0.75, 1],\\n#    \\\"xgb__colsample_bytree\\\": [0.5, 0.75, 1],\\n#    \\\"xgb__max_depth\\\": [2, 3, 4, 5],\\n# }\\n#\\n# x_pipe_cv = GridSearchCV(x_pipe, x_grid, cv=4, n_jobs=-1)\";\n",
       "                var nbb_formatted_code = \"# n_trees = 100\\n## learning_rate = ([0.0001, 0.001, 0.01, 0.1, 0.2, 0.3],)\\n#\\n# x_pipe = Pipeline(\\n#    [\\n#        (\\\"prep\\\", prep),\\n#        (\\\"xgb\\\", XGBClassifier(n_estimators=n_trees, learning_rate=0.01 / n_trees)),\\n#    ]\\n# )\\n#\\n# x_grid = {\\n#    \\\"xgb__subsample\\\": [0.5, 0.75, 1],\\n#    \\\"xgb__colsample_bytree\\\": [0.5, 0.75, 1],\\n#    \\\"xgb__max_depth\\\": [2, 3, 4, 5],\\n# }\\n#\\n# x_pipe_cv = GridSearchCV(x_pipe, x_grid, cv=4, n_jobs=-1)\";\n",
       "                var nbb_cells = Jupyter.notebook.get_cells();\n",
       "                for (var i = 0; i < nbb_cells.length; ++i) {\n",
       "                    if (nbb_cells[i].input_prompt_number == nbb_cell_id) {\n",
       "                        if (nbb_cells[i].get_text() == nbb_unformatted_code) {\n",
       "                             nbb_cells[i].set_text(nbb_formatted_code);\n",
       "                        }\n",
       "                        break;\n",
       "                    }\n",
       "                }\n",
       "            }, 500);\n",
       "            "
      ],
      "text/plain": [
       "<IPython.core.display.Javascript object>"
      ]
     },
     "metadata": {},
     "output_type": "display_data"
    }
   ],
   "source": [
    "# n_trees = 100\n",
    "## learning_rate = ([0.0001, 0.001, 0.01, 0.1, 0.2, 0.3],)\n",
    "#\n",
    "# x_pipe = Pipeline(\n",
    "#    [\n",
    "#        (\"prep\", prep),\n",
    "#        (\"xgb\", XGBClassifier(n_estimators=n_trees, learning_rate=0.01 / n_trees)),\n",
    "#    ]\n",
    "# )\n",
    "#\n",
    "# x_grid = {\n",
    "#    \"xgb__subsample\": [0.5, 0.75, 1],\n",
    "#    \"xgb__colsample_bytree\": [0.5, 0.75, 1],\n",
    "#    \"xgb__max_depth\": [2, 3, 4, 5],\n",
    "# }\n",
    "#\n",
    "# x_pipe_cv = GridSearchCV(x_pipe, x_grid, cv=4, n_jobs=-1)"
   ]
  },
  {
   "cell_type": "code",
   "execution_count": 49,
   "metadata": {},
   "outputs": [
    {
     "data": {
      "application/javascript": [
       "\n",
       "            setTimeout(function() {\n",
       "                var nbb_cell_id = 49;\n",
       "                var nbb_unformatted_code = \"# x_pipe_cv.fit(X_train, y_train)\\n#\\n# print(\\\"Best params:\\\")\\n# print(x_pipe_cv.best_params_)\\n#\\n# print(f\\\"\\\\ntrain score: {x_pipe_cv.score(X_train, y_train):.3f}\\\")\\n# print(f\\\"test score: {x_pipe_cv.score(X_test, y_test):.3f}\\\\n\\\")\\n#\\n# y_predx = x_pipe_cv.predict(X_test)\\n# print(confusion_matrix(y_test, y_predx))\\n# print(classification_report(y_test, y_predx))\";\n",
       "                var nbb_formatted_code = \"# x_pipe_cv.fit(X_train, y_train)\\n#\\n# print(\\\"Best params:\\\")\\n# print(x_pipe_cv.best_params_)\\n#\\n# print(f\\\"\\\\ntrain score: {x_pipe_cv.score(X_train, y_train):.3f}\\\")\\n# print(f\\\"test score: {x_pipe_cv.score(X_test, y_test):.3f}\\\\n\\\")\\n#\\n# y_predx = x_pipe_cv.predict(X_test)\\n# print(confusion_matrix(y_test, y_predx))\\n# print(classification_report(y_test, y_predx))\";\n",
       "                var nbb_cells = Jupyter.notebook.get_cells();\n",
       "                for (var i = 0; i < nbb_cells.length; ++i) {\n",
       "                    if (nbb_cells[i].input_prompt_number == nbb_cell_id) {\n",
       "                        if (nbb_cells[i].get_text() == nbb_unformatted_code) {\n",
       "                             nbb_cells[i].set_text(nbb_formatted_code);\n",
       "                        }\n",
       "                        break;\n",
       "                    }\n",
       "                }\n",
       "            }, 500);\n",
       "            "
      ],
      "text/plain": [
       "<IPython.core.display.Javascript object>"
      ]
     },
     "metadata": {},
     "output_type": "display_data"
    }
   ],
   "source": [
    "# x_pipe_cv.fit(X_train, y_train)\n",
    "#\n",
    "# print(\"Best params:\")\n",
    "# print(x_pipe_cv.best_params_)\n",
    "#\n",
    "# print(f\"\\ntrain score: {x_pipe_cv.score(X_train, y_train):.3f}\")\n",
    "# print(f\"test score: {x_pipe_cv.score(X_test, y_test):.3f}\\n\")\n",
    "#\n",
    "# y_predx = x_pipe_cv.predict(X_test)\n",
    "# print(confusion_matrix(y_test, y_predx))\n",
    "# print(classification_report(y_test, y_predx))"
   ]
  },
  {
   "cell_type": "code",
   "execution_count": 50,
   "metadata": {},
   "outputs": [
    {
     "data": {
      "application/javascript": [
       "\n",
       "            setTimeout(function() {\n",
       "                var nbb_cell_id = 50;\n",
       "                var nbb_unformatted_code = \"# importances = x_pipe_cv.best_estimator_[\\\"xgb\\\"].feature_importances_\\n# im_df = pd.DataFrame({\\\"features\\\": X_train.columns, \\\"importance\\\": importances})\\n# im_df.sort_values(\\\"importance\\\", ascending=False)\";\n",
       "                var nbb_formatted_code = \"# importances = x_pipe_cv.best_estimator_[\\\"xgb\\\"].feature_importances_\\n# im_df = pd.DataFrame({\\\"features\\\": X_train.columns, \\\"importance\\\": importances})\\n# im_df.sort_values(\\\"importance\\\", ascending=False)\";\n",
       "                var nbb_cells = Jupyter.notebook.get_cells();\n",
       "                for (var i = 0; i < nbb_cells.length; ++i) {\n",
       "                    if (nbb_cells[i].input_prompt_number == nbb_cell_id) {\n",
       "                        if (nbb_cells[i].get_text() == nbb_unformatted_code) {\n",
       "                             nbb_cells[i].set_text(nbb_formatted_code);\n",
       "                        }\n",
       "                        break;\n",
       "                    }\n",
       "                }\n",
       "            }, 500);\n",
       "            "
      ],
      "text/plain": [
       "<IPython.core.display.Javascript object>"
      ]
     },
     "metadata": {},
     "output_type": "display_data"
    }
   ],
   "source": [
    "# importances = x_pipe_cv.best_estimator_[\"xgb\"].feature_importances_\n",
    "# im_df = pd.DataFrame({\"features\": X_train.columns, \"importance\": importances})\n",
    "# im_df.sort_values(\"importance\", ascending=False)"
   ]
  },
  {
   "cell_type": "code",
   "execution_count": 51,
   "metadata": {},
   "outputs": [
    {
     "data": {
      "application/javascript": [
       "\n",
       "            setTimeout(function() {\n",
       "                var nbb_cell_id = 51;\n",
       "                var nbb_unformatted_code = \"# errors = dfscore_copy.copy()\\n# errors = errors.loc[y_test.index]\\n#\\n# errors[\\\"y_true\\\"] = y_test\\n# errors[\\\"y_pred\\\"] = y_predx\\n#\\n# errors = errors[errors[\\\"y_true\\\"] != errors[\\\"y_pred\\\"]]\\n#\\n# print(f'mean prob of over for errors: {errors[\\\"is_over\\\"].mean()}')\\n#\\n#\\n# sns.swarmplot(y=errors[\\\"is_over\\\"])\\n# plt.show()\";\n",
       "                var nbb_formatted_code = \"# errors = dfscore_copy.copy()\\n# errors = errors.loc[y_test.index]\\n#\\n# errors[\\\"y_true\\\"] = y_test\\n# errors[\\\"y_pred\\\"] = y_predx\\n#\\n# errors = errors[errors[\\\"y_true\\\"] != errors[\\\"y_pred\\\"]]\\n#\\n# print(f'mean prob of over for errors: {errors[\\\"is_over\\\"].mean()}')\\n#\\n#\\n# sns.swarmplot(y=errors[\\\"is_over\\\"])\\n# plt.show()\";\n",
       "                var nbb_cells = Jupyter.notebook.get_cells();\n",
       "                for (var i = 0; i < nbb_cells.length; ++i) {\n",
       "                    if (nbb_cells[i].input_prompt_number == nbb_cell_id) {\n",
       "                        if (nbb_cells[i].get_text() == nbb_unformatted_code) {\n",
       "                             nbb_cells[i].set_text(nbb_formatted_code);\n",
       "                        }\n",
       "                        break;\n",
       "                    }\n",
       "                }\n",
       "            }, 500);\n",
       "            "
      ],
      "text/plain": [
       "<IPython.core.display.Javascript object>"
      ]
     },
     "metadata": {},
     "output_type": "display_data"
    }
   ],
   "source": [
    "# errors = dfscore_copy.copy()\n",
    "# errors = errors.loc[y_test.index]\n",
    "#\n",
    "# errors[\"y_true\"] = y_test\n",
    "# errors[\"y_pred\"] = y_predx\n",
    "#\n",
    "# errors = errors[errors[\"y_true\"] != errors[\"y_pred\"]]\n",
    "#\n",
    "# print(f'mean prob of over for errors: {errors[\"is_over\"].mean()}')\n",
    "#\n",
    "#\n",
    "# sns.swarmplot(y=errors[\"is_over\"])\n",
    "# plt.show()"
   ]
  },
  {
   "cell_type": "markdown",
   "metadata": {},
   "source": [
    "## Rearrange the model for betting favorite"
   ]
  },
  {
   "cell_type": "code",
   "execution_count": 65,
   "metadata": {},
   "outputs": [
    {
     "data": {
      "application/javascript": [
       "\n",
       "            setTimeout(function() {\n",
       "                var nbb_cell_id = 65;\n",
       "                var nbb_unformatted_code = \"# Getting good results with 4 columns.  Let's create a new dataframe and\\n# melt home and away ML columns.\\ndfmelt = dfss  # [\\n#    [\\n#        \\\"spread_favorite\\\",\\n#        \\\"mean_home\\\",\\n#        \\\"mean_away\\\",\\n#        \\\"away_favorite\\\",\\n#        \\\"home_ml_fav\\\",\\n#        \\\"away_ml_fav\\\",\\n#    ]\\n# ]\\ndfmelt = dfmelt.drop(\\n    columns=[\\n        \\\"schedule_season\\\",\\n        \\\"over_under_line\\\",\\n        \\\"score_home\\\",\\n        \\\"score_away\\\",\\n        \\\"score_dif\\\",\\n        \\\"is_over\\\",\\n        \\\"away_w_fav\\\",\\n        \\\"home_w_fav\\\",\\n        \\\"h_sprl_1\\\",\\n        \\\"h_sprl_2\\\",\\n        \\\"h_mll_1\\\",\\n        \\\"h_mll_2\\\",\\n        \\\"a_sprl_1\\\",\\n        \\\"a_sprl_2\\\",\\n        \\\"a_mll_1\\\",\\n        \\\"a_mll_2\\\",\\n    ]\\n)\";\n",
       "                var nbb_formatted_code = \"# Getting good results with 4 columns.  Let's create a new dataframe and\\n# melt home and away ML columns.\\ndfmelt = dfss  # [\\n#    [\\n#        \\\"spread_favorite\\\",\\n#        \\\"mean_home\\\",\\n#        \\\"mean_away\\\",\\n#        \\\"away_favorite\\\",\\n#        \\\"home_ml_fav\\\",\\n#        \\\"away_ml_fav\\\",\\n#    ]\\n# ]\\ndfmelt = dfmelt.drop(\\n    columns=[\\n        \\\"schedule_season\\\",\\n        \\\"over_under_line\\\",\\n        \\\"score_home\\\",\\n        \\\"score_away\\\",\\n        \\\"score_dif\\\",\\n        \\\"is_over\\\",\\n        \\\"away_w_fav\\\",\\n        \\\"home_w_fav\\\",\\n        \\\"h_sprl_1\\\",\\n        \\\"h_sprl_2\\\",\\n        \\\"h_mll_1\\\",\\n        \\\"h_mll_2\\\",\\n        \\\"a_sprl_1\\\",\\n        \\\"a_sprl_2\\\",\\n        \\\"a_mll_1\\\",\\n        \\\"a_mll_2\\\",\\n    ]\\n)\";\n",
       "                var nbb_cells = Jupyter.notebook.get_cells();\n",
       "                for (var i = 0; i < nbb_cells.length; ++i) {\n",
       "                    if (nbb_cells[i].input_prompt_number == nbb_cell_id) {\n",
       "                        if (nbb_cells[i].get_text() == nbb_unformatted_code) {\n",
       "                             nbb_cells[i].set_text(nbb_formatted_code);\n",
       "                        }\n",
       "                        break;\n",
       "                    }\n",
       "                }\n",
       "            }, 500);\n",
       "            "
      ],
      "text/plain": [
       "<IPython.core.display.Javascript object>"
      ]
     },
     "metadata": {},
     "output_type": "display_data"
    }
   ],
   "source": [
    "# Getting good results with 4 columns.  Let's create a new dataframe and\n",
    "# melt home and away ML columns.\n",
    "dfmelt = dfss  # [\n",
    "#    [\n",
    "#        \"spread_favorite\",\n",
    "#        \"mean_home\",\n",
    "#        \"mean_away\",\n",
    "#        \"away_favorite\",\n",
    "#        \"home_ml_fav\",\n",
    "#        \"away_ml_fav\",\n",
    "#    ]\n",
    "# ]\n",
    "dfmelt = dfmelt.drop(\n",
    "    columns=[\n",
    "        \"schedule_season\",\n",
    "        \"over_under_line\",\n",
    "        \"score_home\",\n",
    "        \"score_away\",\n",
    "        \"score_dif\",\n",
    "        \"is_over\",\n",
    "        \"away_w_fav\",\n",
    "        \"home_w_fav\",\n",
    "        \"h_sprl_1\",\n",
    "        \"h_sprl_2\",\n",
    "        \"h_mll_1\",\n",
    "        \"h_mll_2\",\n",
    "        \"a_sprl_1\",\n",
    "        \"a_sprl_2\",\n",
    "        \"a_mll_1\",\n",
    "        \"a_mll_2\",\n",
    "    ]\n",
    ")"
   ]
  },
  {
   "cell_type": "code",
   "execution_count": 66,
   "metadata": {},
   "outputs": [
    {
     "data": {
      "text/plain": [
       "Index(['schedule_week', 'team_home', 'team_away', 'team_favorite_id',\n",
       "       'spread_favorite', 'mean_home', 'mean_away', 'home_favorite',\n",
       "       'away_favorite', 'away_ml_fav', 'home_ml_fav', 'home_sl_1', 'home_sl_2',\n",
       "       'away_sl_1', 'away_sl_2'],\n",
       "      dtype='object')"
      ]
     },
     "execution_count": 66,
     "metadata": {},
     "output_type": "execute_result"
    },
    {
     "data": {
      "application/javascript": [
       "\n",
       "            setTimeout(function() {\n",
       "                var nbb_cell_id = 66;\n",
       "                var nbb_unformatted_code = \"dfmelt.columns\";\n",
       "                var nbb_formatted_code = \"dfmelt.columns\";\n",
       "                var nbb_cells = Jupyter.notebook.get_cells();\n",
       "                for (var i = 0; i < nbb_cells.length; ++i) {\n",
       "                    if (nbb_cells[i].input_prompt_number == nbb_cell_id) {\n",
       "                        if (nbb_cells[i].get_text() == nbb_unformatted_code) {\n",
       "                             nbb_cells[i].set_text(nbb_formatted_code);\n",
       "                        }\n",
       "                        break;\n",
       "                    }\n",
       "                }\n",
       "            }, 500);\n",
       "            "
      ],
      "text/plain": [
       "<IPython.core.display.Javascript object>"
      ]
     },
     "metadata": {},
     "output_type": "display_data"
    }
   ],
   "source": [
    "dfmelt.columns"
   ]
  },
  {
   "cell_type": "code",
   "execution_count": 67,
   "metadata": {},
   "outputs": [
    {
     "data": {
      "text/html": [
       "<div>\n",
       "<style scoped>\n",
       "    .dataframe tbody tr th:only-of-type {\n",
       "        vertical-align: middle;\n",
       "    }\n",
       "\n",
       "    .dataframe tbody tr th {\n",
       "        vertical-align: top;\n",
       "    }\n",
       "\n",
       "    .dataframe thead th {\n",
       "        text-align: right;\n",
       "    }\n",
       "</style>\n",
       "<table border=\"1\" class=\"dataframe\">\n",
       "  <thead>\n",
       "    <tr style=\"text-align: right;\">\n",
       "      <th></th>\n",
       "      <th>schedule_week</th>\n",
       "      <th>team_home</th>\n",
       "      <th>team_away</th>\n",
       "      <th>team_favorite_id</th>\n",
       "      <th>spread_favorite</th>\n",
       "      <th>mean_home</th>\n",
       "      <th>mean_away</th>\n",
       "      <th>home_favorite</th>\n",
       "      <th>away_favorite</th>\n",
       "      <th>home_sl_1</th>\n",
       "      <th>home_sl_2</th>\n",
       "      <th>away_sl_1</th>\n",
       "      <th>away_sl_2</th>\n",
       "      <th>ml_fav</th>\n",
       "    </tr>\n",
       "  </thead>\n",
       "  <tbody>\n",
       "    <tr>\n",
       "      <th>0</th>\n",
       "      <td>10</td>\n",
       "      <td>CHI</td>\n",
       "      <td>DET</td>\n",
       "      <td>CHI</td>\n",
       "      <td>-7.0</td>\n",
       "      <td>22.375000</td>\n",
       "      <td>10.875</td>\n",
       "      <td>1.0</td>\n",
       "      <td>0.0</td>\n",
       "      <td>28.0</td>\n",
       "      <td>27.0</td>\n",
       "      <td>17.0</td>\n",
       "      <td>7.0</td>\n",
       "      <td>0</td>\n",
       "    </tr>\n",
       "    <tr>\n",
       "      <th>1</th>\n",
       "      <td>12</td>\n",
       "      <td>MIN</td>\n",
       "      <td>DET</td>\n",
       "      <td>MIN</td>\n",
       "      <td>-4.0</td>\n",
       "      <td>18.875000</td>\n",
       "      <td>10.875</td>\n",
       "      <td>1.0</td>\n",
       "      <td>0.0</td>\n",
       "      <td>7.0</td>\n",
       "      <td>7.0</td>\n",
       "      <td>14.0</td>\n",
       "      <td>7.0</td>\n",
       "      <td>0</td>\n",
       "    </tr>\n",
       "    <tr>\n",
       "      <th>2</th>\n",
       "      <td>8</td>\n",
       "      <td>NO</td>\n",
       "      <td>DET</td>\n",
       "      <td>NO</td>\n",
       "      <td>-7.0</td>\n",
       "      <td>21.500000</td>\n",
       "      <td>10.875</td>\n",
       "      <td>1.0</td>\n",
       "      <td>0.0</td>\n",
       "      <td>42.0</td>\n",
       "      <td>17.0</td>\n",
       "      <td>16.0</td>\n",
       "      <td>17.0</td>\n",
       "      <td>0</td>\n",
       "    </tr>\n",
       "    <tr>\n",
       "      <th>3</th>\n",
       "      <td>3</td>\n",
       "      <td>NYJ</td>\n",
       "      <td>DET</td>\n",
       "      <td>NYJ</td>\n",
       "      <td>-6.0</td>\n",
       "      <td>24.625000</td>\n",
       "      <td>10.875</td>\n",
       "      <td>1.0</td>\n",
       "      <td>0.0</td>\n",
       "      <td>3.0</td>\n",
       "      <td>22.0</td>\n",
       "      <td>24.0</td>\n",
       "      <td>16.0</td>\n",
       "      <td>0</td>\n",
       "    </tr>\n",
       "    <tr>\n",
       "      <th>4</th>\n",
       "      <td>14</td>\n",
       "      <td>PHI</td>\n",
       "      <td>DET</td>\n",
       "      <td>PHI</td>\n",
       "      <td>-8.0</td>\n",
       "      <td>21.750000</td>\n",
       "      <td>10.875</td>\n",
       "      <td>1.0</td>\n",
       "      <td>0.0</td>\n",
       "      <td>21.0</td>\n",
       "      <td>16.0</td>\n",
       "      <td>20.0</td>\n",
       "      <td>7.0</td>\n",
       "      <td>0</td>\n",
       "    </tr>\n",
       "    <tr>\n",
       "      <th>...</th>\n",
       "      <td>...</td>\n",
       "      <td>...</td>\n",
       "      <td>...</td>\n",
       "      <td>...</td>\n",
       "      <td>...</td>\n",
       "      <td>...</td>\n",
       "      <td>...</td>\n",
       "      <td>...</td>\n",
       "      <td>...</td>\n",
       "      <td>...</td>\n",
       "      <td>...</td>\n",
       "      <td>...</td>\n",
       "      <td>...</td>\n",
       "      <td>...</td>\n",
       "    </tr>\n",
       "    <tr>\n",
       "      <th>14963</th>\n",
       "      <td>4</td>\n",
       "      <td>HOU</td>\n",
       "      <td>MIN</td>\n",
       "      <td>HOU</td>\n",
       "      <td>-3.5</td>\n",
       "      <td>22.250000</td>\n",
       "      <td>24.000</td>\n",
       "      <td>1.0</td>\n",
       "      <td>0.0</td>\n",
       "      <td>21.0</td>\n",
       "      <td>16.0</td>\n",
       "      <td>30.0</td>\n",
       "      <td>11.0</td>\n",
       "      <td>0</td>\n",
       "    </tr>\n",
       "    <tr>\n",
       "      <th>14964</th>\n",
       "      <td>5</td>\n",
       "      <td>SEA</td>\n",
       "      <td>MIN</td>\n",
       "      <td>SEA</td>\n",
       "      <td>-6.5</td>\n",
       "      <td>34.250000</td>\n",
       "      <td>24.000</td>\n",
       "      <td>1.0</td>\n",
       "      <td>0.0</td>\n",
       "      <td>31.0</td>\n",
       "      <td>38.0</td>\n",
       "      <td>31.0</td>\n",
       "      <td>30.0</td>\n",
       "      <td>1</td>\n",
       "    </tr>\n",
       "    <tr>\n",
       "      <th>14965</th>\n",
       "      <td>7</td>\n",
       "      <td>NYJ</td>\n",
       "      <td>BUF</td>\n",
       "      <td>BUF</td>\n",
       "      <td>-10.0</td>\n",
       "      <td>15.250000</td>\n",
       "      <td>23.750</td>\n",
       "      <td>0.0</td>\n",
       "      <td>1.0</td>\n",
       "      <td>0.0</td>\n",
       "      <td>10.0</td>\n",
       "      <td>17.0</td>\n",
       "      <td>16.0</td>\n",
       "      <td>0</td>\n",
       "    </tr>\n",
       "    <tr>\n",
       "      <th>14966</th>\n",
       "      <td>5</td>\n",
       "      <td>TEN</td>\n",
       "      <td>BUF</td>\n",
       "      <td>BUF</td>\n",
       "      <td>-3.5</td>\n",
       "      <td>35.250000</td>\n",
       "      <td>23.750</td>\n",
       "      <td>0.0</td>\n",
       "      <td>1.0</td>\n",
       "      <td>31.0</td>\n",
       "      <td>33.0</td>\n",
       "      <td>30.0</td>\n",
       "      <td>35.0</td>\n",
       "      <td>0</td>\n",
       "    </tr>\n",
       "    <tr>\n",
       "      <th>14967</th>\n",
       "      <td>4</td>\n",
       "      <td>LVR</td>\n",
       "      <td>BUF</td>\n",
       "      <td>BUF</td>\n",
       "      <td>-3.0</td>\n",
       "      <td>25.666667</td>\n",
       "      <td>23.750</td>\n",
       "      <td>0.0</td>\n",
       "      <td>1.0</td>\n",
       "      <td>20.0</td>\n",
       "      <td>34.0</td>\n",
       "      <td>35.0</td>\n",
       "      <td>31.0</td>\n",
       "      <td>0</td>\n",
       "    </tr>\n",
       "  </tbody>\n",
       "</table>\n",
       "<p>14968 rows × 14 columns</p>\n",
       "</div>"
      ],
      "text/plain": [
       "       schedule_week team_home team_away team_favorite_id  spread_favorite  \\\n",
       "0                 10       CHI       DET              CHI             -7.0   \n",
       "1                 12       MIN       DET              MIN             -4.0   \n",
       "2                  8        NO       DET               NO             -7.0   \n",
       "3                  3       NYJ       DET              NYJ             -6.0   \n",
       "4                 14       PHI       DET              PHI             -8.0   \n",
       "...              ...       ...       ...              ...              ...   \n",
       "14963              4       HOU       MIN              HOU             -3.5   \n",
       "14964              5       SEA       MIN              SEA             -6.5   \n",
       "14965              7       NYJ       BUF              BUF            -10.0   \n",
       "14966              5       TEN       BUF              BUF             -3.5   \n",
       "14967              4       LVR       BUF              BUF             -3.0   \n",
       "\n",
       "       mean_home  mean_away  home_favorite  away_favorite  home_sl_1  \\\n",
       "0      22.375000     10.875            1.0            0.0       28.0   \n",
       "1      18.875000     10.875            1.0            0.0        7.0   \n",
       "2      21.500000     10.875            1.0            0.0       42.0   \n",
       "3      24.625000     10.875            1.0            0.0        3.0   \n",
       "4      21.750000     10.875            1.0            0.0       21.0   \n",
       "...          ...        ...            ...            ...        ...   \n",
       "14963  22.250000     24.000            1.0            0.0       21.0   \n",
       "14964  34.250000     24.000            1.0            0.0       31.0   \n",
       "14965  15.250000     23.750            0.0            1.0        0.0   \n",
       "14966  35.250000     23.750            0.0            1.0       31.0   \n",
       "14967  25.666667     23.750            0.0            1.0       20.0   \n",
       "\n",
       "       home_sl_2  away_sl_1  away_sl_2  ml_fav  \n",
       "0           27.0       17.0        7.0       0  \n",
       "1            7.0       14.0        7.0       0  \n",
       "2           17.0       16.0       17.0       0  \n",
       "3           22.0       24.0       16.0       0  \n",
       "4           16.0       20.0        7.0       0  \n",
       "...          ...        ...        ...     ...  \n",
       "14963       16.0       30.0       11.0       0  \n",
       "14964       38.0       31.0       30.0       1  \n",
       "14965       10.0       17.0       16.0       0  \n",
       "14966       33.0       30.0       35.0       0  \n",
       "14967       34.0       35.0       31.0       0  \n",
       "\n",
       "[14968 rows x 14 columns]"
      ]
     },
     "execution_count": 67,
     "metadata": {},
     "output_type": "execute_result"
    },
    {
     "data": {
      "application/javascript": [
       "\n",
       "            setTimeout(function() {\n",
       "                var nbb_cell_id = 67;\n",
       "                var nbb_unformatted_code = \"dfmelt = pd.melt(\\n    dfmelt,\\n    id_vars=['schedule_week', 'team_home', 'team_away', 'team_favorite_id',\\n       'spread_favorite', 'mean_home', 'mean_away', 'home_favorite',\\n       'away_favorite','home_sl_1', 'home_sl_2',\\n       'away_sl_1', 'away_sl_2'],\\n    value_name=\\\"ml_fav\\\",\\n)\\ndfmelt = dfmelt.drop(columns=\\\"variable\\\")\\ndfmelt\";\n",
       "                var nbb_formatted_code = \"dfmelt = pd.melt(\\n    dfmelt,\\n    id_vars=[\\n        \\\"schedule_week\\\",\\n        \\\"team_home\\\",\\n        \\\"team_away\\\",\\n        \\\"team_favorite_id\\\",\\n        \\\"spread_favorite\\\",\\n        \\\"mean_home\\\",\\n        \\\"mean_away\\\",\\n        \\\"home_favorite\\\",\\n        \\\"away_favorite\\\",\\n        \\\"home_sl_1\\\",\\n        \\\"home_sl_2\\\",\\n        \\\"away_sl_1\\\",\\n        \\\"away_sl_2\\\",\\n    ],\\n    value_name=\\\"ml_fav\\\",\\n)\\ndfmelt = dfmelt.drop(columns=\\\"variable\\\")\\ndfmelt\";\n",
       "                var nbb_cells = Jupyter.notebook.get_cells();\n",
       "                for (var i = 0; i < nbb_cells.length; ++i) {\n",
       "                    if (nbb_cells[i].input_prompt_number == nbb_cell_id) {\n",
       "                        if (nbb_cells[i].get_text() == nbb_unformatted_code) {\n",
       "                             nbb_cells[i].set_text(nbb_formatted_code);\n",
       "                        }\n",
       "                        break;\n",
       "                    }\n",
       "                }\n",
       "            }, 500);\n",
       "            "
      ],
      "text/plain": [
       "<IPython.core.display.Javascript object>"
      ]
     },
     "metadata": {},
     "output_type": "display_data"
    }
   ],
   "source": [
    "dfmelt = pd.melt(\n",
    "    dfmelt,\n",
    "    id_vars=[\n",
    "        \"schedule_week\",\n",
    "        \"team_home\",\n",
    "        \"team_away\",\n",
    "        \"team_favorite_id\",\n",
    "        \"spread_favorite\",\n",
    "        \"mean_home\",\n",
    "        \"mean_away\",\n",
    "        \"home_favorite\",\n",
    "        \"away_favorite\",\n",
    "        \"home_sl_1\",\n",
    "        \"home_sl_2\",\n",
    "        \"away_sl_1\",\n",
    "        \"away_sl_2\",\n",
    "    ],\n",
    "    value_name=\"ml_fav\",\n",
    ")\n",
    "dfmelt = dfmelt.drop(columns=\"variable\")\n",
    "dfmelt"
   ]
  },
  {
   "cell_type": "code",
   "execution_count": 54,
   "metadata": {},
   "outputs": [
    {
     "data": {
      "application/javascript": [
       "\n",
       "            setTimeout(function() {\n",
       "                var nbb_cell_id = 54;\n",
       "                var nbb_unformatted_code = \"# Remove columns if they are items that have colinearity or are too informative. i.e. post game stats for the current week prediction.\\n\\n# Run the model with the below 4 columns to see if we can keep around a 79% accuracy score.\\n# 8\\taway_favorite\\t0.668321\\n# 6\\tmean_home\\t0.064701\\n# 4\\tspread_favorite\\t0.047757\\n# 7\\tmean_away\\t0.040029\\n#X = dfss.drop(\\n#    columns=[\\n#        \\\"schedule_season\\\",\\n#        \\\"schedule_week\\\",\\n#        \\\"team_home\\\",\\n#        \\\"team_away\\\",\\n#        \\\"team_favorite_id\\\",\\n#        #'spread_favorite',\\n#        \\\"over_under_line\\\",\\n#        \\\"score_home\\\",\\n#        \\\"score_away\\\",\\n#        # \\\"mean_home\\\",\\n#        # \\\"mean_away\\\",\\n#        \\\"home_favorite\\\",\\n#        # \\\"away_favorite\\\",\\n#        \\\"score_dif\\\",\\n#        \\\"is_over\\\",\\n#        \\\"away_w_fav\\\",\\n#        \\\"home_w_fav\\\",\\n#        \\\"away_ml_fav\\\",\\n#        \\\"home_ml_fav\\\",\\n#        \\\"home_sl_1\\\",\\n#        \\\"home_sl_2\\\",\\n#        \\\"h_sprl_1\\\",\\n#        \\\"h_sprl_2\\\",\\n#        \\\"h_mll_1\\\",\\n#        \\\"h_mll_2\\\",\\n#        \\\"away_sl_1\\\",\\n#        \\\"away_sl_2\\\",\\n#        \\\"a_sprl_1\\\",\\n#        \\\"a_sprl_2\\\",\\n#        \\\"a_mll_1\\\",\\n#        \\\"a_mll_2\\\",\\n#    ]\\n#)\\n#y = dfss[\\\"home_ml_fav\\\"]\\n#\\n#X_train, X_test, y_train, y_test = train_test_split(\\n#    X, y, test_size=0.2, random_state=42\\n#)\";\n",
       "                var nbb_formatted_code = \"# Remove columns if they are items that have colinearity or are too informative. i.e. post game stats for the current week prediction.\\n\\n# Run the model with the below 4 columns to see if we can keep around a 79% accuracy score.\\n# 8\\taway_favorite\\t0.668321\\n# 6\\tmean_home\\t0.064701\\n# 4\\tspread_favorite\\t0.047757\\n# 7\\tmean_away\\t0.040029\\n# X = dfss.drop(\\n#    columns=[\\n#        \\\"schedule_season\\\",\\n#        \\\"schedule_week\\\",\\n#        \\\"team_home\\\",\\n#        \\\"team_away\\\",\\n#        \\\"team_favorite_id\\\",\\n#        #'spread_favorite',\\n#        \\\"over_under_line\\\",\\n#        \\\"score_home\\\",\\n#        \\\"score_away\\\",\\n#        # \\\"mean_home\\\",\\n#        # \\\"mean_away\\\",\\n#        \\\"home_favorite\\\",\\n#        # \\\"away_favorite\\\",\\n#        \\\"score_dif\\\",\\n#        \\\"is_over\\\",\\n#        \\\"away_w_fav\\\",\\n#        \\\"home_w_fav\\\",\\n#        \\\"away_ml_fav\\\",\\n#        \\\"home_ml_fav\\\",\\n#        \\\"home_sl_1\\\",\\n#        \\\"home_sl_2\\\",\\n#        \\\"h_sprl_1\\\",\\n#        \\\"h_sprl_2\\\",\\n#        \\\"h_mll_1\\\",\\n#        \\\"h_mll_2\\\",\\n#        \\\"away_sl_1\\\",\\n#        \\\"away_sl_2\\\",\\n#        \\\"a_sprl_1\\\",\\n#        \\\"a_sprl_2\\\",\\n#        \\\"a_mll_1\\\",\\n#        \\\"a_mll_2\\\",\\n#    ]\\n# )\\n# y = dfss[\\\"home_ml_fav\\\"]\\n#\\n# X_train, X_test, y_train, y_test = train_test_split(\\n#    X, y, test_size=0.2, random_state=42\\n# )\";\n",
       "                var nbb_cells = Jupyter.notebook.get_cells();\n",
       "                for (var i = 0; i < nbb_cells.length; ++i) {\n",
       "                    if (nbb_cells[i].input_prompt_number == nbb_cell_id) {\n",
       "                        if (nbb_cells[i].get_text() == nbb_unformatted_code) {\n",
       "                             nbb_cells[i].set_text(nbb_formatted_code);\n",
       "                        }\n",
       "                        break;\n",
       "                    }\n",
       "                }\n",
       "            }, 500);\n",
       "            "
      ],
      "text/plain": [
       "<IPython.core.display.Javascript object>"
      ]
     },
     "metadata": {},
     "output_type": "display_data"
    }
   ],
   "source": [
    "# Remove columns if they are items that have colinearity or are too informative. i.e. post game stats for the current week prediction.\n",
    "\n",
    "# Run the model with the below 4 columns to see if we can keep around a 79% accuracy score.\n",
    "# 8\taway_favorite\t0.668321\n",
    "# 6\tmean_home\t0.064701\n",
    "# 4\tspread_favorite\t0.047757\n",
    "# 7\tmean_away\t0.040029\n",
    "# X = dfss.drop(\n",
    "#    columns=[\n",
    "#        \"schedule_season\",\n",
    "#        \"schedule_week\",\n",
    "#        \"team_home\",\n",
    "#        \"team_away\",\n",
    "#        \"team_favorite_id\",\n",
    "#        #'spread_favorite',\n",
    "#        \"over_under_line\",\n",
    "#        \"score_home\",\n",
    "#        \"score_away\",\n",
    "#        # \"mean_home\",\n",
    "#        # \"mean_away\",\n",
    "#        \"home_favorite\",\n",
    "#        # \"away_favorite\",\n",
    "#        \"score_dif\",\n",
    "#        \"is_over\",\n",
    "#        \"away_w_fav\",\n",
    "#        \"home_w_fav\",\n",
    "#        \"away_ml_fav\",\n",
    "#        \"home_ml_fav\",\n",
    "#        \"home_sl_1\",\n",
    "#        \"home_sl_2\",\n",
    "#        \"h_sprl_1\",\n",
    "#        \"h_sprl_2\",\n",
    "#        \"h_mll_1\",\n",
    "#        \"h_mll_2\",\n",
    "#        \"away_sl_1\",\n",
    "#        \"away_sl_2\",\n",
    "#        \"a_sprl_1\",\n",
    "#        \"a_sprl_2\",\n",
    "#        \"a_mll_1\",\n",
    "#        \"a_mll_2\",\n",
    "#    ]\n",
    "# )\n",
    "# y = dfss[\"home_ml_fav\"]\n",
    "#\n",
    "# X_train, X_test, y_train, y_test = train_test_split(\n",
    "#    X, y, test_size=0.2, random_state=42\n",
    "# )"
   ]
  },
  {
   "cell_type": "code",
   "execution_count": 73,
   "metadata": {},
   "outputs": [
    {
     "data": {
      "application/javascript": [
       "\n",
       "            setTimeout(function() {\n",
       "                var nbb_cell_id = 73;\n",
       "                var nbb_unformatted_code = \"X = dfmelt.drop(columns=[\\\"ml_fav\\\", \\\"away_favorite\\\"])\\n\\ny = dfmelt[\\\"ml_fav\\\"]\\n\\nX_train, X_test, y_train, y_test = train_test_split(\\n    X, y, test_size=0.2, random_state=42\\n)\";\n",
       "                var nbb_formatted_code = \"X = dfmelt.drop(columns=[\\\"ml_fav\\\", \\\"away_favorite\\\"])\\n\\ny = dfmelt[\\\"ml_fav\\\"]\\n\\nX_train, X_test, y_train, y_test = train_test_split(\\n    X, y, test_size=0.2, random_state=42\\n)\";\n",
       "                var nbb_cells = Jupyter.notebook.get_cells();\n",
       "                for (var i = 0; i < nbb_cells.length; ++i) {\n",
       "                    if (nbb_cells[i].input_prompt_number == nbb_cell_id) {\n",
       "                        if (nbb_cells[i].get_text() == nbb_unformatted_code) {\n",
       "                             nbb_cells[i].set_text(nbb_formatted_code);\n",
       "                        }\n",
       "                        break;\n",
       "                    }\n",
       "                }\n",
       "            }, 500);\n",
       "            "
      ],
      "text/plain": [
       "<IPython.core.display.Javascript object>"
      ]
     },
     "metadata": {},
     "output_type": "display_data"
    }
   ],
   "source": [
    "X = dfmelt.drop(columns=[\"ml_fav\", \"away_favorite\"])\n",
    "\n",
    "y = dfmelt[\"ml_fav\"]\n",
    "\n",
    "X_train, X_test, y_train, y_test = train_test_split(\n",
    "    X, y, test_size=0.2, random_state=42\n",
    ")"
   ]
  },
  {
   "cell_type": "code",
   "execution_count": 69,
   "metadata": {},
   "outputs": [
    {
     "data": {
      "text/plain": [
       "Index(['schedule_week', 'team_home', 'team_away', 'team_favorite_id',\n",
       "       'spread_favorite', 'mean_home', 'mean_away', 'home_favorite',\n",
       "       'away_favorite', 'home_sl_1', 'home_sl_2', 'away_sl_1', 'away_sl_2'],\n",
       "      dtype='object')"
      ]
     },
     "execution_count": 69,
     "metadata": {},
     "output_type": "execute_result"
    },
    {
     "data": {
      "application/javascript": [
       "\n",
       "            setTimeout(function() {\n",
       "                var nbb_cell_id = 69;\n",
       "                var nbb_unformatted_code = \"X.columns\";\n",
       "                var nbb_formatted_code = \"X.columns\";\n",
       "                var nbb_cells = Jupyter.notebook.get_cells();\n",
       "                for (var i = 0; i < nbb_cells.length; ++i) {\n",
       "                    if (nbb_cells[i].input_prompt_number == nbb_cell_id) {\n",
       "                        if (nbb_cells[i].get_text() == nbb_unformatted_code) {\n",
       "                             nbb_cells[i].set_text(nbb_formatted_code);\n",
       "                        }\n",
       "                        break;\n",
       "                    }\n",
       "                }\n",
       "            }, 500);\n",
       "            "
      ],
      "text/plain": [
       "<IPython.core.display.Javascript object>"
      ]
     },
     "metadata": {},
     "output_type": "display_data"
    }
   ],
   "source": [
    "X.columns"
   ]
  },
  {
   "cell_type": "code",
   "execution_count": 74,
   "metadata": {},
   "outputs": [
    {
     "data": {
      "application/javascript": [
       "\n",
       "            setTimeout(function() {\n",
       "                var nbb_cell_id = 74;\n",
       "                var nbb_unformatted_code = \"bin_cols = [\\n    # \\\"is_over\\\",\\n    \\\"home_favorite\\\",\\n    #\\\"away_favorite\\\",\\n    # \\\"away_w_fav\\\",\\n    # \\\"home_w_fav\\\",\\n    # \\\"away_ml_fav\\\",\\n    # \\\"home_ml_fav\\\",\\n    # \\\"h_sprl_1\\\",\\n    # \\\"h_sprl_2\\\",\\n    # \\\"h_mll_1\\\",\\n    # \\\"h_mll_2\\\",\\n    # \\\"a_sprl_1\\\",\\n    # \\\"a_sprl_2\\\",\\n    # \\\"a_mll_1\\\",\\n    # \\\"a_mll_2\\\",\\n]\\nnum_cols = [\\n    \\\"spread_favorite\\\",\\n    \\\"mean_home\\\",\\n    \\\"mean_away\\\",\\n    # \\\"over_under_line\\\",\\n    \\\"home_sl_1\\\",\\n    \\\"home_sl_2\\\",\\n    \\\"away_sl_1\\\",\\n    \\\"away_sl_2\\\",\\n    # \\\"score_dif\\\",\\n]\\ncat_cols = [\\n    \\\"schedule_week\\\",\\n    \\\"team_home\\\",\\n    \\\"team_away\\\",\\n    \\\"team_favorite_id\\\",\\n]\\n\\nprep = ColumnTransformer(\\n    [\\n        (\\\"leave_one\\\", LeaveOneOutEncoder(), cat_cols),\\n    ],\\n    remainder=\\\"passthrough\\\",\\n)\";\n",
       "                var nbb_formatted_code = \"bin_cols = [\\n    # \\\"is_over\\\",\\n    \\\"home_favorite\\\",\\n    # \\\"away_favorite\\\",\\n    # \\\"away_w_fav\\\",\\n    # \\\"home_w_fav\\\",\\n    # \\\"away_ml_fav\\\",\\n    # \\\"home_ml_fav\\\",\\n    # \\\"h_sprl_1\\\",\\n    # \\\"h_sprl_2\\\",\\n    # \\\"h_mll_1\\\",\\n    # \\\"h_mll_2\\\",\\n    # \\\"a_sprl_1\\\",\\n    # \\\"a_sprl_2\\\",\\n    # \\\"a_mll_1\\\",\\n    # \\\"a_mll_2\\\",\\n]\\nnum_cols = [\\n    \\\"spread_favorite\\\",\\n    \\\"mean_home\\\",\\n    \\\"mean_away\\\",\\n    # \\\"over_under_line\\\",\\n    \\\"home_sl_1\\\",\\n    \\\"home_sl_2\\\",\\n    \\\"away_sl_1\\\",\\n    \\\"away_sl_2\\\",\\n    # \\\"score_dif\\\",\\n]\\ncat_cols = [\\n    \\\"schedule_week\\\",\\n    \\\"team_home\\\",\\n    \\\"team_away\\\",\\n    \\\"team_favorite_id\\\",\\n]\\n\\nprep = ColumnTransformer(\\n    [\\n        (\\\"leave_one\\\", LeaveOneOutEncoder(), cat_cols),\\n    ],\\n    remainder=\\\"passthrough\\\",\\n)\";\n",
       "                var nbb_cells = Jupyter.notebook.get_cells();\n",
       "                for (var i = 0; i < nbb_cells.length; ++i) {\n",
       "                    if (nbb_cells[i].input_prompt_number == nbb_cell_id) {\n",
       "                        if (nbb_cells[i].get_text() == nbb_unformatted_code) {\n",
       "                             nbb_cells[i].set_text(nbb_formatted_code);\n",
       "                        }\n",
       "                        break;\n",
       "                    }\n",
       "                }\n",
       "            }, 500);\n",
       "            "
      ],
      "text/plain": [
       "<IPython.core.display.Javascript object>"
      ]
     },
     "metadata": {},
     "output_type": "display_data"
    }
   ],
   "source": [
    "bin_cols = [\n",
    "    # \"is_over\",\n",
    "    \"home_favorite\",\n",
    "    # \"away_favorite\",\n",
    "    # \"away_w_fav\",\n",
    "    # \"home_w_fav\",\n",
    "    # \"away_ml_fav\",\n",
    "    # \"home_ml_fav\",\n",
    "    # \"h_sprl_1\",\n",
    "    # \"h_sprl_2\",\n",
    "    # \"h_mll_1\",\n",
    "    # \"h_mll_2\",\n",
    "    # \"a_sprl_1\",\n",
    "    # \"a_sprl_2\",\n",
    "    # \"a_mll_1\",\n",
    "    # \"a_mll_2\",\n",
    "]\n",
    "num_cols = [\n",
    "    \"spread_favorite\",\n",
    "    \"mean_home\",\n",
    "    \"mean_away\",\n",
    "    # \"over_under_line\",\n",
    "    \"home_sl_1\",\n",
    "    \"home_sl_2\",\n",
    "    \"away_sl_1\",\n",
    "    \"away_sl_2\",\n",
    "    # \"score_dif\",\n",
    "]\n",
    "cat_cols = [\n",
    "    \"schedule_week\",\n",
    "    \"team_home\",\n",
    "    \"team_away\",\n",
    "    \"team_favorite_id\",\n",
    "]\n",
    "\n",
    "prep = ColumnTransformer(\n",
    "    [\n",
    "        (\"leave_one\", LeaveOneOutEncoder(), cat_cols),\n",
    "    ],\n",
    "    remainder=\"passthrough\",\n",
    ")"
   ]
  },
  {
   "cell_type": "code",
   "execution_count": 75,
   "metadata": {},
   "outputs": [
    {
     "name": "stdout",
     "output_type": "stream",
     "text": [
      "VIF results\n",
      "-------------------------------\n",
      "const               464.951240\n",
      "schedule_week         1.003293\n",
      "team_home             1.077686\n",
      "team_away             1.018659\n",
      "team_favorite_id      1.130094\n",
      "spread_favorite       1.204410\n",
      "mean_home             1.441126\n",
      "mean_away             1.430316\n",
      "home_favorite         1.436504\n",
      "home_sl_1             1.145100\n",
      "home_sl_2             1.161771\n",
      "away_sl_1             1.148380\n",
      "away_sl_2             1.175779\n",
      "dtype: float64\n",
      "-------------------------------\n",
      "\n"
     ]
    },
    {
     "data": {
      "application/javascript": [
       "\n",
       "            setTimeout(function() {\n",
       "                var nbb_cell_id = 75;\n",
       "                var nbb_unformatted_code = \"transformed = prep.fit_transform(X_train, y_train)\\n# ToDO get printVIF and run it.\\ntype(transformed)\\n# ToD0, create dataframe with transformed.\\ntransformed = pd.DataFrame(transformed, columns=X_train.columns)\\nprint_vif(transformed)\";\n",
       "                var nbb_formatted_code = \"transformed = prep.fit_transform(X_train, y_train)\\n# ToDO get printVIF and run it.\\ntype(transformed)\\n# ToD0, create dataframe with transformed.\\ntransformed = pd.DataFrame(transformed, columns=X_train.columns)\\nprint_vif(transformed)\";\n",
       "                var nbb_cells = Jupyter.notebook.get_cells();\n",
       "                for (var i = 0; i < nbb_cells.length; ++i) {\n",
       "                    if (nbb_cells[i].input_prompt_number == nbb_cell_id) {\n",
       "                        if (nbb_cells[i].get_text() == nbb_unformatted_code) {\n",
       "                             nbb_cells[i].set_text(nbb_formatted_code);\n",
       "                        }\n",
       "                        break;\n",
       "                    }\n",
       "                }\n",
       "            }, 500);\n",
       "            "
      ],
      "text/plain": [
       "<IPython.core.display.Javascript object>"
      ]
     },
     "metadata": {},
     "output_type": "display_data"
    }
   ],
   "source": [
    "transformed = prep.fit_transform(X_train, y_train)\n",
    "# ToDO get printVIF and run it.\n",
    "type(transformed)\n",
    "# ToD0, create dataframe with transformed.\n",
    "transformed = pd.DataFrame(transformed, columns=X_train.columns)\n",
    "print_vif(transformed)"
   ]
  },
  {
   "cell_type": "code",
   "execution_count": 77,
   "metadata": {},
   "outputs": [
    {
     "data": {
      "image/png": "[encoded data removed]",
      "text/plain": [
       "<Figure size 1440x1080 with 2 Axes>"
      ]
     },
     "metadata": {
      "needs_background": "light"
     },
     "output_type": "display_data"
    },
    {
     "data": {
      "application/javascript": [
       "\n",
       "            setTimeout(function() {\n",
       "                var nbb_cell_id = 77;\n",
       "                var nbb_unformatted_code = \"# Looking for correlations over .5 -- There is only one, and that is ok.\\nplt.figure(figsize=(20, 15))\\nsns.heatmap(X.corr(), vmin=-1, vmax=1, annot=True)\\nplt.show()\";\n",
       "                var nbb_formatted_code = \"# Looking for correlations over .5 -- There is only one, and that is ok.\\nplt.figure(figsize=(20, 15))\\nsns.heatmap(X.corr(), vmin=-1, vmax=1, annot=True)\\nplt.show()\";\n",
       "                var nbb_cells = Jupyter.notebook.get_cells();\n",
       "                for (var i = 0; i < nbb_cells.length; ++i) {\n",
       "                    if (nbb_cells[i].input_prompt_number == nbb_cell_id) {\n",
       "                        if (nbb_cells[i].get_text() == nbb_unformatted_code) {\n",
       "                             nbb_cells[i].set_text(nbb_formatted_code);\n",
       "                        }\n",
       "                        break;\n",
       "                    }\n",
       "                }\n",
       "            }, 500);\n",
       "            "
      ],
      "text/plain": [
       "<IPython.core.display.Javascript object>"
      ]
     },
     "metadata": {},
     "output_type": "display_data"
    }
   ],
   "source": [
    "# Looking for correlations over .5 -- There is only one, and that is ok.\n",
    "plt.figure(figsize=(20, 15))\n",
    "sns.heatmap(X.corr(), vmin=-1, vmax=1, annot=True)\n",
    "plt.show()"
   ]
  },
  {
   "cell_type": "code",
   "execution_count": 78,
   "metadata": {},
   "outputs": [
    {
     "data": {
      "application/javascript": [
       "\n",
       "            setTimeout(function() {\n",
       "                var nbb_cell_id = 78;\n",
       "                var nbb_unformatted_code = \"n_trees = 100\\n# learning_rate = ([0.0001, 0.001, 0.01, 0.1, 0.2, 0.3],)\\n\\nx_pipe = Pipeline(\\n    [\\n        (\\\"prep\\\", prep),\\n        (\\\"xgb\\\", XGBClassifier(n_estimators=n_trees, learning_rate=0.01 / n_trees)),\\n    ]\\n)\\n\\nx_grid = {\\n    \\\"xgb__subsample\\\": [0.5, 0.75, 1],\\n    \\\"xgb__colsample_bytree\\\": [0.5, 0.75, 1],\\n    \\\"xgb__max_depth\\\": [2, 3, 4, 5],\\n}\\n\\nx_pipe_cv = GridSearchCV(x_pipe, x_grid, cv=4, n_jobs=-1)\";\n",
       "                var nbb_formatted_code = \"n_trees = 100\\n# learning_rate = ([0.0001, 0.001, 0.01, 0.1, 0.2, 0.3],)\\n\\nx_pipe = Pipeline(\\n    [\\n        (\\\"prep\\\", prep),\\n        (\\\"xgb\\\", XGBClassifier(n_estimators=n_trees, learning_rate=0.01 / n_trees)),\\n    ]\\n)\\n\\nx_grid = {\\n    \\\"xgb__subsample\\\": [0.5, 0.75, 1],\\n    \\\"xgb__colsample_bytree\\\": [0.5, 0.75, 1],\\n    \\\"xgb__max_depth\\\": [2, 3, 4, 5],\\n}\\n\\nx_pipe_cv = GridSearchCV(x_pipe, x_grid, cv=4, n_jobs=-1)\";\n",
       "                var nbb_cells = Jupyter.notebook.get_cells();\n",
       "                for (var i = 0; i < nbb_cells.length; ++i) {\n",
       "                    if (nbb_cells[i].input_prompt_number == nbb_cell_id) {\n",
       "                        if (nbb_cells[i].get_text() == nbb_unformatted_code) {\n",
       "                             nbb_cells[i].set_text(nbb_formatted_code);\n",
       "                        }\n",
       "                        break;\n",
       "                    }\n",
       "                }\n",
       "            }, 500);\n",
       "            "
      ],
      "text/plain": [
       "<IPython.core.display.Javascript object>"
      ]
     },
     "metadata": {},
     "output_type": "display_data"
    }
   ],
   "source": [
    "n_trees = 100\n",
    "# learning_rate = ([0.0001, 0.001, 0.01, 0.1, 0.2, 0.3],)\n",
    "\n",
    "x_pipe = Pipeline(\n",
    "    [\n",
    "        (\"prep\", prep),\n",
    "        (\"xgb\", XGBClassifier(n_estimators=n_trees, learning_rate=0.01 / n_trees)),\n",
    "    ]\n",
    ")\n",
    "\n",
    "x_grid = {\n",
    "    \"xgb__subsample\": [0.5, 0.75, 1],\n",
    "    \"xgb__colsample_bytree\": [0.5, 0.75, 1],\n",
    "    \"xgb__max_depth\": [2, 3, 4, 5],\n",
    "}\n",
    "\n",
    "x_pipe_cv = GridSearchCV(x_pipe, x_grid, cv=4, n_jobs=-1)"
   ]
  },
  {
   "cell_type": "code",
   "execution_count": 79,
   "metadata": {},
   "outputs": [
    {
     "name": "stderr",
     "output_type": "stream",
     "text": [
      "/Users/JasonB/opt/anaconda3/lib/python3.8/site-packages/xgboost/sklearn.py:888: UserWarning: The use of label encoder in XGBClassifier is deprecated and will be removed in a future release. To remove this warning, do the following: 1) Pass option use_label_encoder=False when constructing XGBClassifier object; and 2) Encode your labels (y) as integers starting with 0, i.e. 0, 1, 2, ..., [num_class - 1].\n",
      "  warnings.warn(label_encoder_deprecation_msg, UserWarning)\n"
     ]
    },
    {
     "name": "stdout",
     "output_type": "stream",
     "text": [
      "[20:32:54] WARNING: /Users/travis/build/dmlc/xgboost/src/learner.cc:1061: Starting in XGBoost 1.3.0, the default evaluation metric used with the objective 'binary:logistic' was changed from 'error' to 'logloss'. Explicitly set eval_metric if you'd like to restore the old behavior.\n",
      "Best params:\n",
      "{'xgb__colsample_bytree': 0.5, 'xgb__max_depth': 2, 'xgb__subsample': 0.5}\n",
      "\n",
      "train score: 0.661\n",
      "test score: 0.665\n",
      "\n",
      "[[1949   78]\n",
      " [ 926   41]]\n",
      "              precision    recall  f1-score   support\n",
      "\n",
      "           0       0.68      0.96      0.80      2027\n",
      "           1       0.34      0.04      0.08       967\n",
      "\n",
      "    accuracy                           0.66      2994\n",
      "   macro avg       0.51      0.50      0.44      2994\n",
      "weighted avg       0.57      0.66      0.56      2994\n",
      "\n"
     ]
    },
    {
     "data": {
      "application/javascript": [
       "\n",
       "            setTimeout(function() {\n",
       "                var nbb_cell_id = 79;\n",
       "                var nbb_unformatted_code = \"x_pipe_cv.fit(X_train, y_train)\\n\\nprint(\\\"Best params:\\\")\\nprint(x_pipe_cv.best_params_)\\n\\nprint(f\\\"\\\\ntrain score: {x_pipe_cv.score(X_train, y_train):.3f}\\\")\\nprint(f\\\"test score: {x_pipe_cv.score(X_test, y_test):.3f}\\\\n\\\")\\n\\ny_predx = x_pipe_cv.predict(X_test)\\nprint(confusion_matrix(y_test, y_predx))\\nprint(classification_report(y_test, y_predx))\";\n",
       "                var nbb_formatted_code = \"x_pipe_cv.fit(X_train, y_train)\\n\\nprint(\\\"Best params:\\\")\\nprint(x_pipe_cv.best_params_)\\n\\nprint(f\\\"\\\\ntrain score: {x_pipe_cv.score(X_train, y_train):.3f}\\\")\\nprint(f\\\"test score: {x_pipe_cv.score(X_test, y_test):.3f}\\\\n\\\")\\n\\ny_predx = x_pipe_cv.predict(X_test)\\nprint(confusion_matrix(y_test, y_predx))\\nprint(classification_report(y_test, y_predx))\";\n",
       "                var nbb_cells = Jupyter.notebook.get_cells();\n",
       "                for (var i = 0; i < nbb_cells.length; ++i) {\n",
       "                    if (nbb_cells[i].input_prompt_number == nbb_cell_id) {\n",
       "                        if (nbb_cells[i].get_text() == nbb_unformatted_code) {\n",
       "                             nbb_cells[i].set_text(nbb_formatted_code);\n",
       "                        }\n",
       "                        break;\n",
       "                    }\n",
       "                }\n",
       "            }, 500);\n",
       "            "
      ],
      "text/plain": [
       "<IPython.core.display.Javascript object>"
      ]
     },
     "metadata": {},
     "output_type": "display_data"
    }
   ],
   "source": [
    "x_pipe_cv.fit(X_train, y_train)\n",
    "\n",
    "print(\"Best params:\")\n",
    "print(x_pipe_cv.best_params_)\n",
    "\n",
    "print(f\"\\ntrain score: {x_pipe_cv.score(X_train, y_train):.3f}\")\n",
    "print(f\"test score: {x_pipe_cv.score(X_test, y_test):.3f}\\n\")\n",
    "\n",
    "y_predx = x_pipe_cv.predict(X_test)\n",
    "print(confusion_matrix(y_test, y_predx))\n",
    "print(classification_report(y_test, y_predx))"
   ]
  },
  {
   "cell_type": "markdown",
   "metadata": {},
   "source": [
    "# TO - DO, \n",
    "\n",
    "- Discuss the model implication with adam when using melt or blend ml outcomes. \n",
    "- Decide which model to show. \n",
    "\n",
    "- previous model uses 4 columns for 80% accuracy though the outcome variable is binary to home or away.  I think this should be fine as one or the other would win.  (sometimes tie)\n",
    "    - ask how to better research this. "
   ]
  },
  {
   "cell_type": "code",
   "execution_count": 80,
   "metadata": {},
   "outputs": [
    {
     "data": {
      "text/html": [
       "<div>\n",
       "<style scoped>\n",
       "    .dataframe tbody tr th:only-of-type {\n",
       "        vertical-align: middle;\n",
       "    }\n",
       "\n",
       "    .dataframe tbody tr th {\n",
       "        vertical-align: top;\n",
       "    }\n",
       "\n",
       "    .dataframe thead th {\n",
       "        text-align: right;\n",
       "    }\n",
       "</style>\n",
       "<table border=\"1\" class=\"dataframe\">\n",
       "  <thead>\n",
       "    <tr style=\"text-align: right;\">\n",
       "      <th></th>\n",
       "      <th>features</th>\n",
       "      <th>importance</th>\n",
       "    </tr>\n",
       "  </thead>\n",
       "  <tbody>\n",
       "    <tr>\n",
       "      <th>1</th>\n",
       "      <td>team_home</td>\n",
       "      <td>0.415791</td>\n",
       "    </tr>\n",
       "    <tr>\n",
       "      <th>2</th>\n",
       "      <td>team_away</td>\n",
       "      <td>0.222584</td>\n",
       "    </tr>\n",
       "    <tr>\n",
       "      <th>3</th>\n",
       "      <td>team_favorite_id</td>\n",
       "      <td>0.177313</td>\n",
       "    </tr>\n",
       "    <tr>\n",
       "      <th>4</th>\n",
       "      <td>spread_favorite</td>\n",
       "      <td>0.080749</td>\n",
       "    </tr>\n",
       "    <tr>\n",
       "      <th>7</th>\n",
       "      <td>home_favorite</td>\n",
       "      <td>0.039126</td>\n",
       "    </tr>\n",
       "    <tr>\n",
       "      <th>6</th>\n",
       "      <td>mean_away</td>\n",
       "      <td>0.026310</td>\n",
       "    </tr>\n",
       "    <tr>\n",
       "      <th>5</th>\n",
       "      <td>mean_home</td>\n",
       "      <td>0.022271</td>\n",
       "    </tr>\n",
       "    <tr>\n",
       "      <th>8</th>\n",
       "      <td>home_sl_1</td>\n",
       "      <td>0.008472</td>\n",
       "    </tr>\n",
       "    <tr>\n",
       "      <th>11</th>\n",
       "      <td>away_sl_2</td>\n",
       "      <td>0.007382</td>\n",
       "    </tr>\n",
       "    <tr>\n",
       "      <th>0</th>\n",
       "      <td>schedule_week</td>\n",
       "      <td>0.000000</td>\n",
       "    </tr>\n",
       "    <tr>\n",
       "      <th>9</th>\n",
       "      <td>home_sl_2</td>\n",
       "      <td>0.000000</td>\n",
       "    </tr>\n",
       "    <tr>\n",
       "      <th>10</th>\n",
       "      <td>away_sl_1</td>\n",
       "      <td>0.000000</td>\n",
       "    </tr>\n",
       "  </tbody>\n",
       "</table>\n",
       "</div>"
      ],
      "text/plain": [
       "            features  importance\n",
       "1          team_home    0.415791\n",
       "2          team_away    0.222584\n",
       "3   team_favorite_id    0.177313\n",
       "4    spread_favorite    0.080749\n",
       "7      home_favorite    0.039126\n",
       "6          mean_away    0.026310\n",
       "5          mean_home    0.022271\n",
       "8          home_sl_1    0.008472\n",
       "11         away_sl_2    0.007382\n",
       "0      schedule_week    0.000000\n",
       "9          home_sl_2    0.000000\n",
       "10         away_sl_1    0.000000"
      ]
     },
     "execution_count": 80,
     "metadata": {},
     "output_type": "execute_result"
    },
    {
     "data": {
      "application/javascript": [
       "\n",
       "            setTimeout(function() {\n",
       "                var nbb_cell_id = 80;\n",
       "                var nbb_unformatted_code = \"importances = x_pipe_cv.best_estimator_[\\\"xgb\\\"].feature_importances_\\nim_df = pd.DataFrame({\\\"features\\\": X_train.columns, \\\"importance\\\": importances})\\nim_df.sort_values(\\\"importance\\\", ascending=False)\";\n",
       "                var nbb_formatted_code = \"importances = x_pipe_cv.best_estimator_[\\\"xgb\\\"].feature_importances_\\nim_df = pd.DataFrame({\\\"features\\\": X_train.columns, \\\"importance\\\": importances})\\nim_df.sort_values(\\\"importance\\\", ascending=False)\";\n",
       "                var nbb_cells = Jupyter.notebook.get_cells();\n",
       "                for (var i = 0; i < nbb_cells.length; ++i) {\n",
       "                    if (nbb_cells[i].input_prompt_number == nbb_cell_id) {\n",
       "                        if (nbb_cells[i].get_text() == nbb_unformatted_code) {\n",
       "                             nbb_cells[i].set_text(nbb_formatted_code);\n",
       "                        }\n",
       "                        break;\n",
       "                    }\n",
       "                }\n",
       "            }, 500);\n",
       "            "
      ],
      "text/plain": [
       "<IPython.core.display.Javascript object>"
      ]
     },
     "metadata": {},
     "output_type": "display_data"
    }
   ],
   "source": [
    "importances = x_pipe_cv.best_estimator_[\"xgb\"].feature_importances_\n",
    "im_df = pd.DataFrame({\"features\": X_train.columns, \"importance\": importances})\n",
    "im_df.sort_values(\"importance\", ascending=False)"
   ]
  },
  {
   "cell_type": "code",
   "execution_count": 81,
   "metadata": {},
   "outputs": [
    {
     "ename": "KeyError",
     "evalue": "'Passing list-likes to .loc or [] with any missing labels is no longer supported, see https://pandas.pydata.org/pandas-docs/stable/user_guide/indexing.html#deprecate-loc-reindex-listlike'",
     "output_type": "error",
     "traceback": [
      "\u001b[0;31m---------------------------------------------------------------------------\u001b[0m",
      "\u001b[0;31mKeyError\u001b[0m                                  Traceback (most recent call last)",
      "\u001b[0;32m<ipython-input-81-96a1e6a42852>\u001b[0m in \u001b[0;36m<module>\u001b[0;34m\u001b[0m\n\u001b[1;32m      1\u001b[0m \u001b[0merrors\u001b[0m \u001b[0;34m=\u001b[0m \u001b[0mdfscore_copy\u001b[0m\u001b[0;34m.\u001b[0m\u001b[0mcopy\u001b[0m\u001b[0;34m(\u001b[0m\u001b[0;34m)\u001b[0m\u001b[0;34m\u001b[0m\u001b[0;34m\u001b[0m\u001b[0m\n\u001b[0;32m----> 2\u001b[0;31m \u001b[0merrors\u001b[0m \u001b[0;34m=\u001b[0m \u001b[0merrors\u001b[0m\u001b[0;34m.\u001b[0m\u001b[0mloc\u001b[0m\u001b[0;34m[\u001b[0m\u001b[0my_test\u001b[0m\u001b[0;34m.\u001b[0m\u001b[0mindex\u001b[0m\u001b[0;34m]\u001b[0m\u001b[0;34m\u001b[0m\u001b[0;34m\u001b[0m\u001b[0m\n\u001b[0m\u001b[1;32m      3\u001b[0m \u001b[0;34m\u001b[0m\u001b[0m\n\u001b[1;32m      4\u001b[0m \u001b[0merrors\u001b[0m\u001b[0;34m[\u001b[0m\u001b[0;34m\"y_true\"\u001b[0m\u001b[0;34m]\u001b[0m \u001b[0;34m=\u001b[0m \u001b[0my_test\u001b[0m\u001b[0;34m\u001b[0m\u001b[0;34m\u001b[0m\u001b[0m\n\u001b[1;32m      5\u001b[0m \u001b[0merrors\u001b[0m\u001b[0;34m[\u001b[0m\u001b[0;34m\"y_pred\"\u001b[0m\u001b[0;34m]\u001b[0m \u001b[0;34m=\u001b[0m \u001b[0my_predx\u001b[0m\u001b[0;34m\u001b[0m\u001b[0;34m\u001b[0m\u001b[0m\n",
      "\u001b[0;32m~/opt/anaconda3/lib/python3.8/site-packages/pandas/core/indexing.py\u001b[0m in \u001b[0;36m__getitem__\u001b[0;34m(self, key)\u001b[0m\n\u001b[1;32m   1766\u001b[0m \u001b[0;34m\u001b[0m\u001b[0m\n\u001b[1;32m   1767\u001b[0m             \u001b[0mmaybe_callable\u001b[0m \u001b[0;34m=\u001b[0m \u001b[0mcom\u001b[0m\u001b[0;34m.\u001b[0m\u001b[0mapply_if_callable\u001b[0m\u001b[0;34m(\u001b[0m\u001b[0mkey\u001b[0m\u001b[0;34m,\u001b[0m \u001b[0mself\u001b[0m\u001b[0;34m.\u001b[0m\u001b[0mobj\u001b[0m\u001b[0;34m)\u001b[0m\u001b[0;34m\u001b[0m\u001b[0;34m\u001b[0m\u001b[0m\n\u001b[0;32m-> 1768\u001b[0;31m             \u001b[0;32mreturn\u001b[0m \u001b[0mself\u001b[0m\u001b[0;34m.\u001b[0m\u001b[0m_getitem_axis\u001b[0m\u001b[0;34m(\u001b[0m\u001b[0mmaybe_callable\u001b[0m\u001b[0;34m,\u001b[0m \u001b[0maxis\u001b[0m\u001b[0;34m=\u001b[0m\u001b[0maxis\u001b[0m\u001b[0;34m)\u001b[0m\u001b[0;34m\u001b[0m\u001b[0;34m\u001b[0m\u001b[0m\n\u001b[0m\u001b[1;32m   1769\u001b[0m \u001b[0;34m\u001b[0m\u001b[0m\n\u001b[1;32m   1770\u001b[0m     \u001b[0;32mdef\u001b[0m \u001b[0m_is_scalar_access\u001b[0m\u001b[0;34m(\u001b[0m\u001b[0mself\u001b[0m\u001b[0;34m,\u001b[0m \u001b[0mkey\u001b[0m\u001b[0;34m:\u001b[0m \u001b[0mTuple\u001b[0m\u001b[0;34m)\u001b[0m\u001b[0;34m:\u001b[0m\u001b[0;34m\u001b[0m\u001b[0;34m\u001b[0m\u001b[0m\n",
      "\u001b[0;32m~/opt/anaconda3/lib/python3.8/site-packages/pandas/core/indexing.py\u001b[0m in \u001b[0;36m_getitem_axis\u001b[0;34m(self, key, axis)\u001b[0m\n\u001b[1;32m   1952\u001b[0m                     \u001b[0;32mraise\u001b[0m \u001b[0mValueError\u001b[0m\u001b[0;34m(\u001b[0m\u001b[0;34m\"Cannot index with multidimensional key\"\u001b[0m\u001b[0;34m)\u001b[0m\u001b[0;34m\u001b[0m\u001b[0;34m\u001b[0m\u001b[0m\n\u001b[1;32m   1953\u001b[0m \u001b[0;34m\u001b[0m\u001b[0m\n\u001b[0;32m-> 1954\u001b[0;31m                 \u001b[0;32mreturn\u001b[0m \u001b[0mself\u001b[0m\u001b[0;34m.\u001b[0m\u001b[0m_getitem_iterable\u001b[0m\u001b[0;34m(\u001b[0m\u001b[0mkey\u001b[0m\u001b[0;34m,\u001b[0m \u001b[0maxis\u001b[0m\u001b[0;34m=\u001b[0m\u001b[0maxis\u001b[0m\u001b[0;34m)\u001b[0m\u001b[0;34m\u001b[0m\u001b[0;34m\u001b[0m\u001b[0m\n\u001b[0m\u001b[1;32m   1955\u001b[0m \u001b[0;34m\u001b[0m\u001b[0m\n\u001b[1;32m   1956\u001b[0m             \u001b[0;31m# nested tuple slicing\u001b[0m\u001b[0;34m\u001b[0m\u001b[0;34m\u001b[0m\u001b[0;34m\u001b[0m\u001b[0m\n",
      "\u001b[0;32m~/opt/anaconda3/lib/python3.8/site-packages/pandas/core/indexing.py\u001b[0m in \u001b[0;36m_getitem_iterable\u001b[0;34m(self, key, axis)\u001b[0m\n\u001b[1;32m   1593\u001b[0m         \u001b[0;32melse\u001b[0m\u001b[0;34m:\u001b[0m\u001b[0;34m\u001b[0m\u001b[0;34m\u001b[0m\u001b[0m\n\u001b[1;32m   1594\u001b[0m             \u001b[0;31m# A collection of keys\u001b[0m\u001b[0;34m\u001b[0m\u001b[0;34m\u001b[0m\u001b[0;34m\u001b[0m\u001b[0m\n\u001b[0;32m-> 1595\u001b[0;31m             \u001b[0mkeyarr\u001b[0m\u001b[0;34m,\u001b[0m \u001b[0mindexer\u001b[0m \u001b[0;34m=\u001b[0m \u001b[0mself\u001b[0m\u001b[0;34m.\u001b[0m\u001b[0m_get_listlike_indexer\u001b[0m\u001b[0;34m(\u001b[0m\u001b[0mkey\u001b[0m\u001b[0;34m,\u001b[0m \u001b[0maxis\u001b[0m\u001b[0;34m,\u001b[0m \u001b[0mraise_missing\u001b[0m\u001b[0;34m=\u001b[0m\u001b[0;32mFalse\u001b[0m\u001b[0;34m)\u001b[0m\u001b[0;34m\u001b[0m\u001b[0;34m\u001b[0m\u001b[0m\n\u001b[0m\u001b[1;32m   1596\u001b[0m             return self.obj._reindex_with_indexers(\n\u001b[1;32m   1597\u001b[0m                 \u001b[0;34m{\u001b[0m\u001b[0maxis\u001b[0m\u001b[0;34m:\u001b[0m \u001b[0;34m[\u001b[0m\u001b[0mkeyarr\u001b[0m\u001b[0;34m,\u001b[0m \u001b[0mindexer\u001b[0m\u001b[0;34m]\u001b[0m\u001b[0;34m}\u001b[0m\u001b[0;34m,\u001b[0m \u001b[0mcopy\u001b[0m\u001b[0;34m=\u001b[0m\u001b[0;32mTrue\u001b[0m\u001b[0;34m,\u001b[0m \u001b[0mallow_dups\u001b[0m\u001b[0;34m=\u001b[0m\u001b[0;32mTrue\u001b[0m\u001b[0;34m\u001b[0m\u001b[0;34m\u001b[0m\u001b[0m\n",
      "\u001b[0;32m~/opt/anaconda3/lib/python3.8/site-packages/pandas/core/indexing.py\u001b[0m in \u001b[0;36m_get_listlike_indexer\u001b[0;34m(self, key, axis, raise_missing)\u001b[0m\n\u001b[1;32m   1550\u001b[0m             \u001b[0mkeyarr\u001b[0m\u001b[0;34m,\u001b[0m \u001b[0mindexer\u001b[0m\u001b[0;34m,\u001b[0m \u001b[0mnew_indexer\u001b[0m \u001b[0;34m=\u001b[0m \u001b[0max\u001b[0m\u001b[0;34m.\u001b[0m\u001b[0m_reindex_non_unique\u001b[0m\u001b[0;34m(\u001b[0m\u001b[0mkeyarr\u001b[0m\u001b[0;34m)\u001b[0m\u001b[0;34m\u001b[0m\u001b[0;34m\u001b[0m\u001b[0m\n\u001b[1;32m   1551\u001b[0m \u001b[0;34m\u001b[0m\u001b[0m\n\u001b[0;32m-> 1552\u001b[0;31m         self._validate_read_indexer(\n\u001b[0m\u001b[1;32m   1553\u001b[0m             \u001b[0mkeyarr\u001b[0m\u001b[0;34m,\u001b[0m \u001b[0mindexer\u001b[0m\u001b[0;34m,\u001b[0m \u001b[0mo\u001b[0m\u001b[0;34m.\u001b[0m\u001b[0m_get_axis_number\u001b[0m\u001b[0;34m(\u001b[0m\u001b[0maxis\u001b[0m\u001b[0;34m)\u001b[0m\u001b[0;34m,\u001b[0m \u001b[0mraise_missing\u001b[0m\u001b[0;34m=\u001b[0m\u001b[0mraise_missing\u001b[0m\u001b[0;34m\u001b[0m\u001b[0;34m\u001b[0m\u001b[0m\n\u001b[1;32m   1554\u001b[0m         )\n",
      "\u001b[0;32m~/opt/anaconda3/lib/python3.8/site-packages/pandas/core/indexing.py\u001b[0m in \u001b[0;36m_validate_read_indexer\u001b[0;34m(self, key, indexer, axis, raise_missing)\u001b[0m\n\u001b[1;32m   1652\u001b[0m             \u001b[0;31m# just raising\u001b[0m\u001b[0;34m\u001b[0m\u001b[0;34m\u001b[0m\u001b[0;34m\u001b[0m\u001b[0m\n\u001b[1;32m   1653\u001b[0m             \u001b[0;32mif\u001b[0m \u001b[0;32mnot\u001b[0m \u001b[0;34m(\u001b[0m\u001b[0max\u001b[0m\u001b[0;34m.\u001b[0m\u001b[0mis_categorical\u001b[0m\u001b[0;34m(\u001b[0m\u001b[0;34m)\u001b[0m \u001b[0;32mor\u001b[0m \u001b[0max\u001b[0m\u001b[0;34m.\u001b[0m\u001b[0mis_interval\u001b[0m\u001b[0;34m(\u001b[0m\u001b[0;34m)\u001b[0m\u001b[0;34m)\u001b[0m\u001b[0;34m:\u001b[0m\u001b[0;34m\u001b[0m\u001b[0;34m\u001b[0m\u001b[0m\n\u001b[0;32m-> 1654\u001b[0;31m                 raise KeyError(\n\u001b[0m\u001b[1;32m   1655\u001b[0m                     \u001b[0;34m\"Passing list-likes to .loc or [] with any missing labels \"\u001b[0m\u001b[0;34m\u001b[0m\u001b[0;34m\u001b[0m\u001b[0m\n\u001b[1;32m   1656\u001b[0m                     \u001b[0;34m\"is no longer supported, see \"\u001b[0m\u001b[0;34m\u001b[0m\u001b[0;34m\u001b[0m\u001b[0m\n",
      "\u001b[0;31mKeyError\u001b[0m: 'Passing list-likes to .loc or [] with any missing labels is no longer supported, see https://pandas.pydata.org/pandas-docs/stable/user_guide/indexing.html#deprecate-loc-reindex-listlike'"
     ]
    },
    {
     "data": {
      "application/javascript": [
       "\n",
       "            setTimeout(function() {\n",
       "                var nbb_cell_id = 81;\n",
       "                var nbb_unformatted_code = \"errors = dfscore_copy.copy()\\nerrors = errors.loc[y_test.index]\\n\\nerrors[\\\"y_true\\\"] = y_test\\nerrors[\\\"y_pred\\\"] = y_predx\\n\\nerrors = errors[errors[\\\"y_true\\\"] != errors[\\\"y_pred\\\"]]\\n\\nprint(f'mean prob of over for errors: {errors[\\\"is_over\\\"].mean()}')\\n\\n\\nsns.swarmplot(y=errors[\\\"is_over\\\"])\\nplt.show()\";\n",
       "                var nbb_formatted_code = \"errors = dfscore_copy.copy()\\nerrors = errors.loc[y_test.index]\\n\\nerrors[\\\"y_true\\\"] = y_test\\nerrors[\\\"y_pred\\\"] = y_predx\\n\\nerrors = errors[errors[\\\"y_true\\\"] != errors[\\\"y_pred\\\"]]\\n\\nprint(f'mean prob of over for errors: {errors[\\\"is_over\\\"].mean()}')\\n\\n\\nsns.swarmplot(y=errors[\\\"is_over\\\"])\\nplt.show()\";\n",
       "                var nbb_cells = Jupyter.notebook.get_cells();\n",
       "                for (var i = 0; i < nbb_cells.length; ++i) {\n",
       "                    if (nbb_cells[i].input_prompt_number == nbb_cell_id) {\n",
       "                        if (nbb_cells[i].get_text() == nbb_unformatted_code) {\n",
       "                             nbb_cells[i].set_text(nbb_formatted_code);\n",
       "                        }\n",
       "                        break;\n",
       "                    }\n",
       "                }\n",
       "            }, 500);\n",
       "            "
      ],
      "text/plain": [
       "<IPython.core.display.Javascript object>"
      ]
     },
     "metadata": {},
     "output_type": "display_data"
    }
   ],
   "source": [
    "errors = dfscore_copy.copy()\n",
    "errors = errors.loc[y_test.index]\n",
    "\n",
    "errors[\"y_true\"] = y_test\n",
    "errors[\"y_pred\"] = y_predx\n",
    "\n",
    "errors = errors[errors[\"y_true\"] != errors[\"y_pred\"]]\n",
    "\n",
    "print(f'mean prob of over for errors: {errors[\"is_over\"].mean()}')\n",
    "\n",
    "\n",
    "sns.swarmplot(y=errors[\"is_over\"])\n",
    "plt.show()"
   ]
  },
  {
   "cell_type": "markdown",
   "metadata": {},
   "source": [
    "## Try SVM on Money Line outcome for favorited team"
   ]
  },
  {
   "cell_type": "code",
   "execution_count": null,
   "metadata": {},
   "outputs": [],
   "source": [
    "pipe = Pipeline([(\"prep\", prep), (\"svc\", SVC())])\n",
    "\n",
    "grid = {\n",
    "    \"svc__kernel\": [\"linear\", \"poly\", \"rbf\"],\n",
    "    \"svc__degree\": [2, 3, 4],\n",
    "    \"svc__C\": [0.001, 0.01, 0.1, 1],\n",
    "}\n",
    "\n",
    "pipe_cv = GridSearchCV(pipe, grid, cv=2, n_jobs=-1)"
   ]
  },
  {
   "cell_type": "code",
   "execution_count": null,
   "metadata": {},
   "outputs": [],
   "source": [
    "pipe_cv.fit(X_train, y_train)\n",
    "\n",
    "print(\"Best params:\")\n",
    "print(pipe_cv.best_params_)\n",
    "\n",
    "print(f\"\\ntrain score: {pipe_cv.score(X_train,y_train):.3f}\")\n",
    "print(f\"test score: {pipe_cv.score(X_test, y_test):.3f}\\n\")\n",
    "\n",
    "y_pred = pipe_cv.predict(X_test)\n",
    "print(confusion_matrix(y_test, y_pred))\n",
    "print(classification_report(y_test, y_pred))"
   ]
  },
  {
   "cell_type": "code",
   "execution_count": null,
   "metadata": {},
   "outputs": [],
   "source": [
    "dfss.head()"
   ]
  },
  {
   "cell_type": "code",
   "execution_count": null,
   "metadata": {},
   "outputs": [],
   "source": [
    "# coef = pipe_cv.best_estimator_[\"svc\"].coef_[0]\n",
    "# im_df = pd.DataFrame({\"feature\": X_train.columns, \"coef_sq\": coef ** 2})\n",
    "# im_df.sort_values(\"coef_sq\", ascending=False)"
   ]
  },
  {
   "cell_type": "code",
   "execution_count": null,
   "metadata": {},
   "outputs": [],
   "source": [
    "errors = dfscore_copy.copy()\n",
    "errors = errors.loc[y_test.index]\n",
    "\n",
    "errors[\"y_true\"] = y_test\n",
    "errors[\"y_pred\"] = y_pred\n",
    "\n",
    "errors = errors[errors[\"y_true\"] != errors[\"y_pred\"]]\n",
    "\n",
    "print(f'mean prob of over for errors: {errors[\"is_over\"].mean()}')\n",
    "\n",
    "\n",
    "# sns.swarmplot(y=errors[\"is_over\"])\n",
    "# plt.show()\n",
    "# predict_proba(y_test)"
   ]
  },
  {
   "cell_type": "markdown",
   "metadata": {},
   "source": [
    "### TO-DO\n",
    "- Histograms\n",
    "- Pairplots\n",
    "    - sns.pairplot(X)\n",
    "- Feature importances\n",
    "    - take top 2 features and compare them to rest of the class. \n",
    "        - bi-variate"
   ]
  },
  {
   "cell_type": "markdown",
   "metadata": {},
   "source": [
    "## Save model by pickling\n"
   ]
  },
  {
   "cell_type": "code",
   "execution_count": null,
   "metadata": {},
   "outputs": [],
   "source": [
    "# Save to file\n",
    "# best_model = pipe_cv.best_estimator_\n",
    "# with open(\"saved_model.pkl\", \"wb\") as f:\n",
    "#    pickle.dump(best_model, f)"
   ]
  },
  {
   "cell_type": "code",
   "execution_count": null,
   "metadata": {},
   "outputs": [],
   "source": [
    "# Load from file\n",
    "# with open(\"saved_model.pkl\", \"rb\") as f:\n",
    "#    loaded_model = pickle.load(f)\n",
    "#\n",
    "# y_new_pred = loaded_model.predict(new_data)\n",
    "#\n",
    "# print(f\"predicted: {y_new_pred}\")\n",
    "# print(f\"right answer: {new_data_right_answer.values}\")"
   ]
  }
 ],
 "metadata": {
  "kernelspec": {
   "display_name": "Python 3",
   "language": "python",
   "name": "python3"
  },
  "language_info": {
   "codemirror_mode": {
    "name": "ipython",
    "version": 3
   },
   "file_extension": ".py",
   "mimetype": "text/x-python",
   "name": "python",
   "nbconvert_exporter": "python",
   "pygments_lexer": "ipython3",
   "version": "3.8.3"
  }
 },
 "nbformat": 4,
 "nbformat_minor": 4
}
